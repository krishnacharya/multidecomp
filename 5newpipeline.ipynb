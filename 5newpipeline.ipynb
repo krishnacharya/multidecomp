{
 "cells": [
  {
   "cell_type": "code",
   "execution_count": 1,
   "metadata": {},
   "outputs": [],
   "source": [
    "import pandas as pd"
   ]
  },
  {
   "cell_type": "code",
   "execution_count": 2,
   "metadata": {},
   "outputs": [],
   "source": [
    "df_oh = pd.read_pickle('./data_frames/dense_acs_mm_oh.pkl')"
   ]
  },
  {
   "cell_type": "code",
   "execution_count": 3,
   "metadata": {},
   "outputs": [
    {
     "name": "stdout",
     "output_type": "stream",
     "text": [
      "<class 'pandas.core.frame.DataFrame'>\n",
      "Int64Index: 1569188 entries, 0 to 1630166\n",
      "Columns: 898 entries, WKHP to RAC1P_9\n",
      "dtypes: float64(3), uint8(895)\n",
      "memory usage: 1.4 GB\n"
     ]
    }
   ],
   "source": [
    "df_oh.info()"
   ]
  },
  {
   "cell_type": "code",
   "execution_count": 4,
   "metadata": {},
   "outputs": [
    {
     "data": {
      "text/html": [
       "<div>\n",
       "<style scoped>\n",
       "    .dataframe tbody tr th:only-of-type {\n",
       "        vertical-align: middle;\n",
       "    }\n",
       "\n",
       "    .dataframe tbody tr th {\n",
       "        vertical-align: top;\n",
       "    }\n",
       "\n",
       "    .dataframe thead th {\n",
       "        text-align: right;\n",
       "    }\n",
       "</style>\n",
       "<table border=\"1\" class=\"dataframe\">\n",
       "  <thead>\n",
       "    <tr style=\"text-align: right;\">\n",
       "      <th></th>\n",
       "      <th>WKHP</th>\n",
       "      <th>AGEP</th>\n",
       "      <th>PINCP</th>\n",
       "      <th>OCCP_10</th>\n",
       "      <th>OCCP_20</th>\n",
       "      <th>OCCP_40</th>\n",
       "      <th>OCCP_51</th>\n",
       "      <th>OCCP_52</th>\n",
       "      <th>OCCP_60</th>\n",
       "      <th>OCCP_101</th>\n",
       "      <th>...</th>\n",
       "      <th>MAR_5</th>\n",
       "      <th>RAC1P_1</th>\n",
       "      <th>RAC1P_2</th>\n",
       "      <th>RAC1P_3</th>\n",
       "      <th>RAC1P_4</th>\n",
       "      <th>RAC1P_5</th>\n",
       "      <th>RAC1P_6</th>\n",
       "      <th>RAC1P_7</th>\n",
       "      <th>RAC1P_8</th>\n",
       "      <th>RAC1P_9</th>\n",
       "    </tr>\n",
       "  </thead>\n",
       "  <tbody>\n",
       "    <tr>\n",
       "      <th>0</th>\n",
       "      <td>0.295918</td>\n",
       "      <td>0.025316</td>\n",
       "      <td>0.039472</td>\n",
       "      <td>0</td>\n",
       "      <td>0</td>\n",
       "      <td>0</td>\n",
       "      <td>0</td>\n",
       "      <td>0</td>\n",
       "      <td>0</td>\n",
       "      <td>0</td>\n",
       "      <td>...</td>\n",
       "      <td>1</td>\n",
       "      <td>1</td>\n",
       "      <td>0</td>\n",
       "      <td>0</td>\n",
       "      <td>0</td>\n",
       "      <td>0</td>\n",
       "      <td>0</td>\n",
       "      <td>0</td>\n",
       "      <td>0</td>\n",
       "      <td>0</td>\n",
       "    </tr>\n",
       "    <tr>\n",
       "      <th>1</th>\n",
       "      <td>0.397959</td>\n",
       "      <td>0.037975</td>\n",
       "      <td>0.030967</td>\n",
       "      <td>0</td>\n",
       "      <td>0</td>\n",
       "      <td>0</td>\n",
       "      <td>0</td>\n",
       "      <td>0</td>\n",
       "      <td>0</td>\n",
       "      <td>0</td>\n",
       "      <td>...</td>\n",
       "      <td>1</td>\n",
       "      <td>0</td>\n",
       "      <td>1</td>\n",
       "      <td>0</td>\n",
       "      <td>0</td>\n",
       "      <td>0</td>\n",
       "      <td>0</td>\n",
       "      <td>0</td>\n",
       "      <td>0</td>\n",
       "      <td>0</td>\n",
       "    </tr>\n",
       "    <tr>\n",
       "      <th>2</th>\n",
       "      <td>0.173469</td>\n",
       "      <td>0.025316</td>\n",
       "      <td>0.030467</td>\n",
       "      <td>0</td>\n",
       "      <td>0</td>\n",
       "      <td>0</td>\n",
       "      <td>0</td>\n",
       "      <td>0</td>\n",
       "      <td>0</td>\n",
       "      <td>0</td>\n",
       "      <td>...</td>\n",
       "      <td>1</td>\n",
       "      <td>1</td>\n",
       "      <td>0</td>\n",
       "      <td>0</td>\n",
       "      <td>0</td>\n",
       "      <td>0</td>\n",
       "      <td>0</td>\n",
       "      <td>0</td>\n",
       "      <td>0</td>\n",
       "      <td>0</td>\n",
       "    </tr>\n",
       "    <tr>\n",
       "      <th>3</th>\n",
       "      <td>0.051020</td>\n",
       "      <td>0.215190</td>\n",
       "      <td>0.053479</td>\n",
       "      <td>0</td>\n",
       "      <td>0</td>\n",
       "      <td>0</td>\n",
       "      <td>0</td>\n",
       "      <td>0</td>\n",
       "      <td>0</td>\n",
       "      <td>0</td>\n",
       "      <td>...</td>\n",
       "      <td>0</td>\n",
       "      <td>1</td>\n",
       "      <td>0</td>\n",
       "      <td>0</td>\n",
       "      <td>0</td>\n",
       "      <td>0</td>\n",
       "      <td>0</td>\n",
       "      <td>0</td>\n",
       "      <td>0</td>\n",
       "      <td>0</td>\n",
       "    </tr>\n",
       "    <tr>\n",
       "      <th>4</th>\n",
       "      <td>0.091837</td>\n",
       "      <td>0.025316</td>\n",
       "      <td>0.009455</td>\n",
       "      <td>0</td>\n",
       "      <td>0</td>\n",
       "      <td>0</td>\n",
       "      <td>0</td>\n",
       "      <td>0</td>\n",
       "      <td>0</td>\n",
       "      <td>0</td>\n",
       "      <td>...</td>\n",
       "      <td>1</td>\n",
       "      <td>1</td>\n",
       "      <td>0</td>\n",
       "      <td>0</td>\n",
       "      <td>0</td>\n",
       "      <td>0</td>\n",
       "      <td>0</td>\n",
       "      <td>0</td>\n",
       "      <td>0</td>\n",
       "      <td>0</td>\n",
       "    </tr>\n",
       "  </tbody>\n",
       "</table>\n",
       "<p>5 rows × 898 columns</p>\n",
       "</div>"
      ],
      "text/plain": [
       "       WKHP      AGEP     PINCP  OCCP_10  OCCP_20  OCCP_40  OCCP_51  OCCP_52  \\\n",
       "0  0.295918  0.025316  0.039472        0        0        0        0        0   \n",
       "1  0.397959  0.037975  0.030967        0        0        0        0        0   \n",
       "2  0.173469  0.025316  0.030467        0        0        0        0        0   \n",
       "3  0.051020  0.215190  0.053479        0        0        0        0        0   \n",
       "4  0.091837  0.025316  0.009455        0        0        0        0        0   \n",
       "\n",
       "   OCCP_60  OCCP_101  ...  MAR_5  RAC1P_1  RAC1P_2  RAC1P_3  RAC1P_4  RAC1P_5  \\\n",
       "0        0         0  ...      1        1        0        0        0        0   \n",
       "1        0         0  ...      1        0        1        0        0        0   \n",
       "2        0         0  ...      1        1        0        0        0        0   \n",
       "3        0         0  ...      0        1        0        0        0        0   \n",
       "4        0         0  ...      1        1        0        0        0        0   \n",
       "\n",
       "   RAC1P_6  RAC1P_7  RAC1P_8  RAC1P_9  \n",
       "0        0        0        0        0  \n",
       "1        0        0        0        0  \n",
       "2        0        0        0        0  \n",
       "3        0        0        0        0  \n",
       "4        0        0        0        0  \n",
       "\n",
       "[5 rows x 898 columns]"
      ]
     },
     "execution_count": 4,
     "metadata": {},
     "output_type": "execute_result"
    }
   ],
   "source": [
    "df_oh.head()"
   ]
  },
  {
   "cell_type": "code",
   "execution_count": 5,
   "metadata": {},
   "outputs": [],
   "source": [
    "from build_all_models import *"
   ]
  },
  {
   "cell_type": "code",
   "execution_count": 6,
   "metadata": {},
   "outputs": [],
   "source": [
    "from sklearn.model_selection import train_test_split\n",
    "X_train, X_test, y_train, y_test = train_test_split(df_oh.drop('PINCP', axis=1), \n",
    "                                                    df_oh['PINCP'], test_size = 0.2,\n",
    "                                                    shuffle=False)"
   ]
  },
  {
   "cell_type": "code",
   "execution_count": 7,
   "metadata": {},
   "outputs": [],
   "source": [
    "X_dat = df_oh.drop('PINCP', axis=1)\n",
    "y_dat = df_oh['PINCP']"
   ]
  },
  {
   "cell_type": "code",
   "execution_count": 8,
   "metadata": {},
   "outputs": [],
   "source": [
    "import numpy as np\n",
    "A_t = np.load('./data_frames/nparrays/allstates2021_20230724-233202_unshuffled__dropped_.npy')"
   ]
  },
  {
   "cell_type": "code",
   "execution_count": 9,
   "metadata": {},
   "outputs": [],
   "source": [
    "# np.all(A_t1 == A_t2)"
   ]
  },
  {
   "cell_type": "code",
   "execution_count": 10,
   "metadata": {},
   "outputs": [
    {
     "data": {
      "text/plain": [
       "True"
      ]
     },
     "execution_count": 10,
     "metadata": {},
     "output_type": "execute_result"
    }
   ],
   "source": [
    "np.all(df_oh['RAC1P_2'] == A_t[:, 3])"
   ]
  },
  {
   "cell_type": "code",
   "execution_count": 11,
   "metadata": {},
   "outputs": [],
   "source": [
    "dirname = 'onehot_encoded'\n",
    "filename = 'linearmodelRidge'"
   ]
  },
  {
   "cell_type": "markdown",
   "metadata": {},
   "source": [
    "# Online Linear Model, always active"
   ]
  },
  {
   "cell_type": "code",
   "execution_count": 13,
   "metadata": {},
   "outputs": [],
   "source": [
    "from OnlineLinModel_alwaysactive_implementable import *\n",
    "expert = OnlineLinearModel_alwaysactive(l2_pen=1.0)"
   ]
  },
  {
   "cell_type": "code",
   "execution_count": 36,
   "metadata": {},
   "outputs": [
    {
     "name": "stderr",
     "output_type": "stream",
     "text": [
      "100%|██████████| 1569188/1569188 [34:23<00:00, 760.37it/s]\n"
     ]
    }
   ],
   "source": [
    "# bbass = build_baseline_alwayson(dirname, filename, X_train.iloc[:1000], \\\n",
    "#                                   y_train.iloc[:1000], A_t[:1000], expert, l2_pen=0.0)\n",
    "\n",
    "bbass = build_baseline_alwayson(dirname, filename, X_dat, y_dat, A_t, expert, l2_pen=0.0)"
   ]
  },
  {
   "cell_type": "code",
   "execution_count": 46,
   "metadata": {},
   "outputs": [],
   "source": [
    "online_linear_always = joblib.load('./onehot_encoded/models/linear_sepbuild/linearmodelLS20230820-233239_l2pen=0.0.pkl')"
   ]
  },
  {
   "cell_type": "code",
   "execution_count": 47,
   "metadata": {},
   "outputs": [
    {
     "name": "stdout",
     "output_type": "stream",
     "text": [
      "group num 0, 20913.693905339678 \n",
      "group num 1, 14469.89144712689 \n",
      "group num 2, 24725.04631404486 \n",
      "group num 3, 2429.3549540855474 \n",
      "group num 4, 243.37326141763626 \n",
      "group num 5, 16.449316015757756 \n",
      "group num 6, 37.849923378080334 \n",
      "group num 7, 3043.8553935423542 \n",
      "group num 8, 57.87773421753203 \n",
      "group num 9, 1542.936266651879 \n",
      "group num 10, 3286.842189112958 \n",
      "group num 11, 35383.58535246591 \n"
     ]
    }
   ],
   "source": [
    "for gnum in range(A_t.shape[1]):\n",
    "    print(f'''group num {gnum}, {online_linear_always.cumloss_groupwise_oridge[gnum][-1]} ''')"
   ]
  },
  {
   "cell_type": "markdown",
   "metadata": {},
   "source": [
    "# Anh new pipeline"
   ]
  },
  {
   "cell_type": "code",
   "execution_count": 14,
   "metadata": {},
   "outputs": [],
   "source": [
    "from OnlineLinExpert import *\n",
    "experts = [Online_linearexpert(l2_pen=1.0) for _ in range(A_t.shape[1])]"
   ]
  },
  {
   "cell_type": "code",
   "execution_count": 15,
   "metadata": {},
   "outputs": [
    {
     "name": "stderr",
     "output_type": "stream",
     "text": [
      "100%|██████████| 1569188/1569188 [1:41:11<00:00, 258.45it/s]\n"
     ]
    }
   ],
   "source": [
    "Anh_new = build_Anh(dirname, filename, X_dat, \\\n",
    "                    y_dat, A_t, \\\n",
    "                    experts\n",
    "         )"
   ]
  },
  {
   "cell_type": "code",
   "execution_count": 2,
   "metadata": {},
   "outputs": [],
   "source": [
    "import joblib\n",
    "Anh = joblib.load('./onehot_encoded/models/Anh_sepbuild/linearmodelRidge20230821-004744.pkl')"
   ]
  },
  {
   "cell_type": "code",
   "execution_count": 4,
   "metadata": {},
   "outputs": [
    {
     "name": "stdout",
     "output_type": "stream",
     "text": [
      "group num 0, 30475.73819020837 \n",
      "group num 1, 22227.669286399614 \n",
      "group num 2, 37181.656706009446 \n",
      "group num 3, 3326.114008403669 \n",
      "group num 4, 325.81384868452835 \n",
      "group num 5, 19.450365142991945 \n",
      "group num 6, 52.192409915398414 \n",
      "group num 7, 4709.026106546749 \n",
      "group num 8, 73.4781794658253 \n",
      "group num 9, 2063.3343254242445 \n",
      "group num 10, 4952.341527015159 \n",
      "group num 11, 52703.407476607375 \n"
     ]
    }
   ],
   "source": [
    "for gnum in range(12):\n",
    "    print(f'''group num {gnum}, {Anh.cuml_loss_curve[gnum][-1]} ''')"
   ]
  },
  {
   "cell_type": "code",
   "execution_count": 14,
   "metadata": {},
   "outputs": [],
   "source": []
  },
  {
   "cell_type": "code",
   "execution_count": 17,
   "metadata": {},
   "outputs": [
    {
     "data": {
      "text/plain": [
       "12"
      ]
     },
     "execution_count": 17,
     "metadata": {},
     "output_type": "execute_result"
    }
   ],
   "source": [
    "len(Anh.cuml_loss_curve)"
   ]
  },
  {
   "cell_type": "code",
   "execution_count": null,
   "metadata": {},
   "outputs": [],
   "source": []
  }
 ],
 "metadata": {
  "kernelspec": {
   "display_name": "bb",
   "language": "python",
   "name": "bb"
  },
  "language_info": {
   "codemirror_mode": {
    "name": "ipython",
    "version": 3
   },
   "file_extension": ".py",
   "mimetype": "text/x-python",
   "name": "python",
   "nbconvert_exporter": "python",
   "pygments_lexer": "ipython3",
   "version": "3.10.6"
  },
  "vscode": {
   "interpreter": {
    "hash": "422a1ee675848ad7ee73ac736eae01a8698556098f797c947729d7d9d67832dc"
   }
  }
 },
 "nbformat": 4,
 "nbformat_minor": 4
}
