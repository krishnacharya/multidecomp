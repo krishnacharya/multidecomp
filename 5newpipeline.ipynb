{
 "cells": [
  {
   "cell_type": "code",
   "execution_count": 1,
   "metadata": {},
   "outputs": [],
   "source": [
    "import pandas as pd"
   ]
  },
  {
   "cell_type": "code",
   "execution_count": 2,
   "metadata": {},
   "outputs": [],
   "source": [
    "df_oh = pd.read_pickle('./data_frames/dense_acs_mm_oh.pkl')"
   ]
  },
  {
   "cell_type": "code",
   "execution_count": 3,
   "metadata": {},
   "outputs": [
    {
     "name": "stdout",
     "output_type": "stream",
     "text": [
      "<class 'pandas.core.frame.DataFrame'>\n",
      "Index: 1569188 entries, 0 to 1630166\n",
      "Columns: 898 entries, WKHP to RAC1P_9\n",
      "dtypes: float64(3), uint8(895)\n",
      "memory usage: 1.4 GB\n"
     ]
    }
   ],
   "source": [
    "df_oh.info()"
   ]
  },
  {
   "cell_type": "code",
   "execution_count": 4,
   "metadata": {},
   "outputs": [
    {
     "data": {
      "text/html": [
       "<div>\n",
       "<style scoped>\n",
       "    .dataframe tbody tr th:only-of-type {\n",
       "        vertical-align: middle;\n",
       "    }\n",
       "\n",
       "    .dataframe tbody tr th {\n",
       "        vertical-align: top;\n",
       "    }\n",
       "\n",
       "    .dataframe thead th {\n",
       "        text-align: right;\n",
       "    }\n",
       "</style>\n",
       "<table border=\"1\" class=\"dataframe\">\n",
       "  <thead>\n",
       "    <tr style=\"text-align: right;\">\n",
       "      <th></th>\n",
       "      <th>WKHP</th>\n",
       "      <th>AGEP</th>\n",
       "      <th>PINCP</th>\n",
       "      <th>OCCP_10</th>\n",
       "      <th>OCCP_20</th>\n",
       "      <th>OCCP_40</th>\n",
       "      <th>OCCP_51</th>\n",
       "      <th>OCCP_52</th>\n",
       "      <th>OCCP_60</th>\n",
       "      <th>OCCP_101</th>\n",
       "      <th>...</th>\n",
       "      <th>MAR_5</th>\n",
       "      <th>RAC1P_1</th>\n",
       "      <th>RAC1P_2</th>\n",
       "      <th>RAC1P_3</th>\n",
       "      <th>RAC1P_4</th>\n",
       "      <th>RAC1P_5</th>\n",
       "      <th>RAC1P_6</th>\n",
       "      <th>RAC1P_7</th>\n",
       "      <th>RAC1P_8</th>\n",
       "      <th>RAC1P_9</th>\n",
       "    </tr>\n",
       "  </thead>\n",
       "  <tbody>\n",
       "    <tr>\n",
       "      <th>0</th>\n",
       "      <td>0.295918</td>\n",
       "      <td>0.025316</td>\n",
       "      <td>0.039472</td>\n",
       "      <td>0</td>\n",
       "      <td>0</td>\n",
       "      <td>0</td>\n",
       "      <td>0</td>\n",
       "      <td>0</td>\n",
       "      <td>0</td>\n",
       "      <td>0</td>\n",
       "      <td>...</td>\n",
       "      <td>1</td>\n",
       "      <td>1</td>\n",
       "      <td>0</td>\n",
       "      <td>0</td>\n",
       "      <td>0</td>\n",
       "      <td>0</td>\n",
       "      <td>0</td>\n",
       "      <td>0</td>\n",
       "      <td>0</td>\n",
       "      <td>0</td>\n",
       "    </tr>\n",
       "    <tr>\n",
       "      <th>1</th>\n",
       "      <td>0.397959</td>\n",
       "      <td>0.037975</td>\n",
       "      <td>0.030967</td>\n",
       "      <td>0</td>\n",
       "      <td>0</td>\n",
       "      <td>0</td>\n",
       "      <td>0</td>\n",
       "      <td>0</td>\n",
       "      <td>0</td>\n",
       "      <td>0</td>\n",
       "      <td>...</td>\n",
       "      <td>1</td>\n",
       "      <td>0</td>\n",
       "      <td>1</td>\n",
       "      <td>0</td>\n",
       "      <td>0</td>\n",
       "      <td>0</td>\n",
       "      <td>0</td>\n",
       "      <td>0</td>\n",
       "      <td>0</td>\n",
       "      <td>0</td>\n",
       "    </tr>\n",
       "    <tr>\n",
       "      <th>2</th>\n",
       "      <td>0.173469</td>\n",
       "      <td>0.025316</td>\n",
       "      <td>0.030467</td>\n",
       "      <td>0</td>\n",
       "      <td>0</td>\n",
       "      <td>0</td>\n",
       "      <td>0</td>\n",
       "      <td>0</td>\n",
       "      <td>0</td>\n",
       "      <td>0</td>\n",
       "      <td>...</td>\n",
       "      <td>1</td>\n",
       "      <td>1</td>\n",
       "      <td>0</td>\n",
       "      <td>0</td>\n",
       "      <td>0</td>\n",
       "      <td>0</td>\n",
       "      <td>0</td>\n",
       "      <td>0</td>\n",
       "      <td>0</td>\n",
       "      <td>0</td>\n",
       "    </tr>\n",
       "    <tr>\n",
       "      <th>3</th>\n",
       "      <td>0.051020</td>\n",
       "      <td>0.215190</td>\n",
       "      <td>0.053479</td>\n",
       "      <td>0</td>\n",
       "      <td>0</td>\n",
       "      <td>0</td>\n",
       "      <td>0</td>\n",
       "      <td>0</td>\n",
       "      <td>0</td>\n",
       "      <td>0</td>\n",
       "      <td>...</td>\n",
       "      <td>0</td>\n",
       "      <td>1</td>\n",
       "      <td>0</td>\n",
       "      <td>0</td>\n",
       "      <td>0</td>\n",
       "      <td>0</td>\n",
       "      <td>0</td>\n",
       "      <td>0</td>\n",
       "      <td>0</td>\n",
       "      <td>0</td>\n",
       "    </tr>\n",
       "    <tr>\n",
       "      <th>4</th>\n",
       "      <td>0.091837</td>\n",
       "      <td>0.025316</td>\n",
       "      <td>0.009455</td>\n",
       "      <td>0</td>\n",
       "      <td>0</td>\n",
       "      <td>0</td>\n",
       "      <td>0</td>\n",
       "      <td>0</td>\n",
       "      <td>0</td>\n",
       "      <td>0</td>\n",
       "      <td>...</td>\n",
       "      <td>1</td>\n",
       "      <td>1</td>\n",
       "      <td>0</td>\n",
       "      <td>0</td>\n",
       "      <td>0</td>\n",
       "      <td>0</td>\n",
       "      <td>0</td>\n",
       "      <td>0</td>\n",
       "      <td>0</td>\n",
       "      <td>0</td>\n",
       "    </tr>\n",
       "  </tbody>\n",
       "</table>\n",
       "<p>5 rows × 898 columns</p>\n",
       "</div>"
      ],
      "text/plain": [
       "       WKHP      AGEP     PINCP  OCCP_10  OCCP_20  OCCP_40  OCCP_51  OCCP_52  \\\n",
       "0  0.295918  0.025316  0.039472        0        0        0        0        0   \n",
       "1  0.397959  0.037975  0.030967        0        0        0        0        0   \n",
       "2  0.173469  0.025316  0.030467        0        0        0        0        0   \n",
       "3  0.051020  0.215190  0.053479        0        0        0        0        0   \n",
       "4  0.091837  0.025316  0.009455        0        0        0        0        0   \n",
       "\n",
       "   OCCP_60  OCCP_101  ...  MAR_5  RAC1P_1  RAC1P_2  RAC1P_3  RAC1P_4  RAC1P_5  \\\n",
       "0        0         0  ...      1        1        0        0        0        0   \n",
       "1        0         0  ...      1        0        1        0        0        0   \n",
       "2        0         0  ...      1        1        0        0        0        0   \n",
       "3        0         0  ...      0        1        0        0        0        0   \n",
       "4        0         0  ...      1        1        0        0        0        0   \n",
       "\n",
       "   RAC1P_6  RAC1P_7  RAC1P_8  RAC1P_9  \n",
       "0        0        0        0        0  \n",
       "1        0        0        0        0  \n",
       "2        0        0        0        0  \n",
       "3        0        0        0        0  \n",
       "4        0        0        0        0  \n",
       "\n",
       "[5 rows x 898 columns]"
      ]
     },
     "execution_count": 4,
     "metadata": {},
     "output_type": "execute_result"
    }
   ],
   "source": [
    "df_oh.head()"
   ]
  },
  {
   "cell_type": "code",
   "execution_count": 5,
   "metadata": {},
   "outputs": [],
   "source": [
    "from build_all_models import build_baseline_alwayson"
   ]
  },
  {
   "cell_type": "code",
   "execution_count": 6,
   "metadata": {},
   "outputs": [],
   "source": [
    "from sklearn.model_selection import train_test_split\n",
    "X_train, X_test, y_train, y_test = train_test_split(df_oh.drop('PINCP', axis=1), \n",
    "                                                    df_oh['PINCP'], test_size = 0.2,\n",
    "                                                    shuffle=False)"
   ]
  },
  {
   "cell_type": "code",
   "execution_count": 7,
   "metadata": {},
   "outputs": [],
   "source": [
    "import numpy as np\n",
    "A_t = np.load('./data_frames/nparrays/allstates2021_20230724-233202_unshuffled__dropped_.npy')"
   ]
  },
  {
   "cell_type": "code",
   "execution_count": 8,
   "metadata": {},
   "outputs": [],
   "source": [
    "# np.all(A_t1 == A_t2)"
   ]
  },
  {
   "cell_type": "code",
   "execution_count": 9,
   "metadata": {},
   "outputs": [
    {
     "data": {
      "text/plain": [
       "True"
      ]
     },
     "execution_count": 9,
     "metadata": {},
     "output_type": "execute_result"
    }
   ],
   "source": [
    "np.all(df_oh['RAC1P_2'] == A_t[:, 3])"
   ]
  },
  {
   "cell_type": "code",
   "execution_count": 10,
   "metadata": {},
   "outputs": [],
   "source": [
    "dirname = 'onehot_encoded'\n",
    "filename = 'test_new'\n"
   ]
  },
  {
   "cell_type": "code",
   "execution_count": 11,
   "metadata": {},
   "outputs": [
    {
     "data": {
      "text/plain": [
       "(100, 12)"
      ]
     },
     "execution_count": 11,
     "metadata": {},
     "output_type": "execute_result"
    }
   ],
   "source": [
    "A_t[:100].shape"
   ]
  },
  {
   "cell_type": "code",
   "execution_count": 12,
   "metadata": {},
   "outputs": [],
   "source": [
    "from OnlineLinModel_alwaysactive_implementable import *\n",
    "expert = OnlineLinearModel_alwaysactive(l2_pen=0.0)"
   ]
  },
  {
   "cell_type": "code",
   "execution_count": 13,
   "metadata": {},
   "outputs": [
    {
     "data": {
      "text/plain": [
       "WKHP       float64\n",
       "AGEP       float64\n",
       "OCCP_10      uint8\n",
       "OCCP_20      uint8\n",
       "OCCP_40      uint8\n",
       "            ...   \n",
       "RAC1P_5      uint8\n",
       "RAC1P_6      uint8\n",
       "RAC1P_7      uint8\n",
       "RAC1P_8      uint8\n",
       "RAC1P_9      uint8\n",
       "Length: 897, dtype: object"
      ]
     },
     "execution_count": 13,
     "metadata": {},
     "output_type": "execute_result"
    }
   ],
   "source": [
    "X_train.dtypes"
   ]
  },
  {
   "cell_type": "code",
   "execution_count": 14,
   "metadata": {},
   "outputs": [
    {
     "name": "stderr",
     "output_type": "stream",
     "text": [
      "100%|██████████| 1000/1000 [00:01<00:00, 617.55it/s]\n"
     ]
    }
   ],
   "source": [
    "bbass = build_baseline_alwayson(dirname, filename, X_train.iloc[:1000], \\\n",
    "                                  y_train.iloc[:1000], A_t[:1000], expert, l2_pen=0.0)"
   ]
  },
  {
   "cell_type": "code",
   "execution_count": 16,
   "metadata": {},
   "outputs": [],
   "source": [
    "import joblib\n",
    "olinear = joblib.load('./onehot_encoded/models/linear_sepbuild/test_new20230820-220448_l2pen=0.0.pkl')"
   ]
  },
  {
   "cell_type": "code",
   "execution_count": 18,
   "metadata": {},
   "outputs": [
    {
     "ename": "AttributeError",
     "evalue": "'list' object has no attribute 'shape'",
     "output_type": "error",
     "traceback": [
      "\u001b[0;31m---------------------------------------------------------------------------\u001b[0m",
      "\u001b[0;31mAttributeError\u001b[0m                            Traceback (most recent call last)",
      "Cell \u001b[0;32mIn[18], line 1\u001b[0m\n\u001b[0;32m----> 1\u001b[0m olinear\u001b[39m.\u001b[39mcumloss_groupwise_oridge\u001b[39m.\u001b[39mshape\n",
      "\u001b[0;31mAttributeError\u001b[0m: 'list' object has no attribute 'shape'"
     ]
    }
   ],
   "source": [
    "olinear.cumloss_groupwise_oridge.shape"
   ]
  },
  {
   "cell_type": "code",
   "execution_count": null,
   "metadata": {},
   "outputs": [],
   "source": []
  }
 ],
 "metadata": {
  "kernelspec": {
   "display_name": "Python 3.11.4 ('local_multigroup')",
   "language": "python",
   "name": "python3"
  },
  "language_info": {
   "codemirror_mode": {
    "name": "ipython",
    "version": 3
   },
   "file_extension": ".py",
   "mimetype": "text/x-python",
   "name": "python",
   "nbconvert_exporter": "python",
   "pygments_lexer": "ipython3",
   "version": "3.11.4"
  },
  "orig_nbformat": 4,
  "vscode": {
   "interpreter": {
    "hash": "422a1ee675848ad7ee73ac736eae01a8698556098f797c947729d7d9d67832dc"
   }
  }
 },
 "nbformat": 4,
 "nbformat_minor": 2
}
