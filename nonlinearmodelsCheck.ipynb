{
 "cells": [
  {
   "cell_type": "code",
   "execution_count": 3,
   "id": "a330d458-7238-4440-a851-17d68bf84aa2",
   "metadata": {
    "tags": []
   },
   "outputs": [],
   "source": [
    "from folktables import ACSDataSource\n",
    "import folktables\n",
    "import pandas as pd\n",
    "import numpy as np\n",
    "import random\n",
    "import pickle\n",
    "from sklearn.metrics import r2_score, mean_squared_error\n",
    "from tqdm import tqdm\n",
    "from sklearn.linear_model import LinearRegression, Ridge, Lasso\n",
    "\n",
    "import matplotlib.pyplot as plt\n",
    "from folktables.load_acs import state_list"
   ]
  },
  {
   "cell_type": "markdown",
   "id": "dd57d2a9-0ad9-4d01-a953-58dbad057529",
   "metadata": {},
   "source": [
    "# Baseline LS and Ridge"
   ]
  },
  {
   "cell_type": "markdown",
   "id": "0768deba-65d3-428c-b630-f25663a1d746",
   "metadata": {},
   "source": [
    "## on one hot"
   ]
  },
  {
   "cell_type": "code",
   "execution_count": 4,
   "id": "3bbaa052-bad4-4d9c-8cb1-97d317192936",
   "metadata": {
    "tags": []
   },
   "outputs": [],
   "source": [
    "df_oh_all = pd.read_pickle(\"./data_frames/dense_acs_mm_oh.pkl\")"
   ]
  },
  {
   "cell_type": "code",
   "execution_count": 5,
   "id": "b4a6a084-f82c-4e02-bf14-268c040e9a97",
   "metadata": {
    "tags": []
   },
   "outputs": [
    {
     "data": {
      "text/html": [
       "<div>\n",
       "<style scoped>\n",
       "    .dataframe tbody tr th:only-of-type {\n",
       "        vertical-align: middle;\n",
       "    }\n",
       "\n",
       "    .dataframe tbody tr th {\n",
       "        vertical-align: top;\n",
       "    }\n",
       "\n",
       "    .dataframe thead th {\n",
       "        text-align: right;\n",
       "    }\n",
       "</style>\n",
       "<table border=\"1\" class=\"dataframe\">\n",
       "  <thead>\n",
       "    <tr style=\"text-align: right;\">\n",
       "      <th></th>\n",
       "      <th>WKHP</th>\n",
       "      <th>AGEP</th>\n",
       "      <th>PINCP</th>\n",
       "      <th>OCCP_10</th>\n",
       "      <th>OCCP_20</th>\n",
       "      <th>OCCP_40</th>\n",
       "      <th>OCCP_51</th>\n",
       "      <th>OCCP_52</th>\n",
       "      <th>OCCP_60</th>\n",
       "      <th>OCCP_101</th>\n",
       "      <th>...</th>\n",
       "      <th>MAR_5</th>\n",
       "      <th>RAC1P_1</th>\n",
       "      <th>RAC1P_2</th>\n",
       "      <th>RAC1P_3</th>\n",
       "      <th>RAC1P_4</th>\n",
       "      <th>RAC1P_5</th>\n",
       "      <th>RAC1P_6</th>\n",
       "      <th>RAC1P_7</th>\n",
       "      <th>RAC1P_8</th>\n",
       "      <th>RAC1P_9</th>\n",
       "    </tr>\n",
       "  </thead>\n",
       "  <tbody>\n",
       "    <tr>\n",
       "      <th>0</th>\n",
       "      <td>0.295918</td>\n",
       "      <td>0.025316</td>\n",
       "      <td>0.039472</td>\n",
       "      <td>0</td>\n",
       "      <td>0</td>\n",
       "      <td>0</td>\n",
       "      <td>0</td>\n",
       "      <td>0</td>\n",
       "      <td>0</td>\n",
       "      <td>0</td>\n",
       "      <td>...</td>\n",
       "      <td>1</td>\n",
       "      <td>1</td>\n",
       "      <td>0</td>\n",
       "      <td>0</td>\n",
       "      <td>0</td>\n",
       "      <td>0</td>\n",
       "      <td>0</td>\n",
       "      <td>0</td>\n",
       "      <td>0</td>\n",
       "      <td>0</td>\n",
       "    </tr>\n",
       "    <tr>\n",
       "      <th>1</th>\n",
       "      <td>0.397959</td>\n",
       "      <td>0.037975</td>\n",
       "      <td>0.030967</td>\n",
       "      <td>0</td>\n",
       "      <td>0</td>\n",
       "      <td>0</td>\n",
       "      <td>0</td>\n",
       "      <td>0</td>\n",
       "      <td>0</td>\n",
       "      <td>0</td>\n",
       "      <td>...</td>\n",
       "      <td>1</td>\n",
       "      <td>0</td>\n",
       "      <td>1</td>\n",
       "      <td>0</td>\n",
       "      <td>0</td>\n",
       "      <td>0</td>\n",
       "      <td>0</td>\n",
       "      <td>0</td>\n",
       "      <td>0</td>\n",
       "      <td>0</td>\n",
       "    </tr>\n",
       "    <tr>\n",
       "      <th>2</th>\n",
       "      <td>0.173469</td>\n",
       "      <td>0.025316</td>\n",
       "      <td>0.030467</td>\n",
       "      <td>0</td>\n",
       "      <td>0</td>\n",
       "      <td>0</td>\n",
       "      <td>0</td>\n",
       "      <td>0</td>\n",
       "      <td>0</td>\n",
       "      <td>0</td>\n",
       "      <td>...</td>\n",
       "      <td>1</td>\n",
       "      <td>1</td>\n",
       "      <td>0</td>\n",
       "      <td>0</td>\n",
       "      <td>0</td>\n",
       "      <td>0</td>\n",
       "      <td>0</td>\n",
       "      <td>0</td>\n",
       "      <td>0</td>\n",
       "      <td>0</td>\n",
       "    </tr>\n",
       "    <tr>\n",
       "      <th>3</th>\n",
       "      <td>0.051020</td>\n",
       "      <td>0.215190</td>\n",
       "      <td>0.053479</td>\n",
       "      <td>0</td>\n",
       "      <td>0</td>\n",
       "      <td>0</td>\n",
       "      <td>0</td>\n",
       "      <td>0</td>\n",
       "      <td>0</td>\n",
       "      <td>0</td>\n",
       "      <td>...</td>\n",
       "      <td>0</td>\n",
       "      <td>1</td>\n",
       "      <td>0</td>\n",
       "      <td>0</td>\n",
       "      <td>0</td>\n",
       "      <td>0</td>\n",
       "      <td>0</td>\n",
       "      <td>0</td>\n",
       "      <td>0</td>\n",
       "      <td>0</td>\n",
       "    </tr>\n",
       "    <tr>\n",
       "      <th>4</th>\n",
       "      <td>0.091837</td>\n",
       "      <td>0.025316</td>\n",
       "      <td>0.009455</td>\n",
       "      <td>0</td>\n",
       "      <td>0</td>\n",
       "      <td>0</td>\n",
       "      <td>0</td>\n",
       "      <td>0</td>\n",
       "      <td>0</td>\n",
       "      <td>0</td>\n",
       "      <td>...</td>\n",
       "      <td>1</td>\n",
       "      <td>1</td>\n",
       "      <td>0</td>\n",
       "      <td>0</td>\n",
       "      <td>0</td>\n",
       "      <td>0</td>\n",
       "      <td>0</td>\n",
       "      <td>0</td>\n",
       "      <td>0</td>\n",
       "      <td>0</td>\n",
       "    </tr>\n",
       "  </tbody>\n",
       "</table>\n",
       "<p>5 rows × 898 columns</p>\n",
       "</div>"
      ],
      "text/plain": [
       "       WKHP      AGEP     PINCP  OCCP_10  OCCP_20  OCCP_40  OCCP_51  OCCP_52  \\\n",
       "0  0.295918  0.025316  0.039472        0        0        0        0        0   \n",
       "1  0.397959  0.037975  0.030967        0        0        0        0        0   \n",
       "2  0.173469  0.025316  0.030467        0        0        0        0        0   \n",
       "3  0.051020  0.215190  0.053479        0        0        0        0        0   \n",
       "4  0.091837  0.025316  0.009455        0        0        0        0        0   \n",
       "\n",
       "   OCCP_60  OCCP_101  ...  MAR_5  RAC1P_1  RAC1P_2  RAC1P_3  RAC1P_4  RAC1P_5  \\\n",
       "0        0         0  ...      1        1        0        0        0        0   \n",
       "1        0         0  ...      1        0        1        0        0        0   \n",
       "2        0         0  ...      1        1        0        0        0        0   \n",
       "3        0         0  ...      0        1        0        0        0        0   \n",
       "4        0         0  ...      1        1        0        0        0        0   \n",
       "\n",
       "   RAC1P_6  RAC1P_7  RAC1P_8  RAC1P_9  \n",
       "0        0        0        0        0  \n",
       "1        0        0        0        0  \n",
       "2        0        0        0        0  \n",
       "3        0        0        0        0  \n",
       "4        0        0        0        0  \n",
       "\n",
       "[5 rows x 898 columns]"
      ]
     },
     "execution_count": 5,
     "metadata": {},
     "output_type": "execute_result"
    }
   ],
   "source": [
    "df_oh_all.head()"
   ]
  },
  {
   "cell_type": "code",
   "execution_count": 6,
   "id": "b8d997af-0bf7-4786-8379-3b1283656e31",
   "metadata": {
    "tags": []
   },
   "outputs": [],
   "source": [
    "from sklearn.model_selection import train_test_split\n",
    "rand_seed = 21 \n",
    "X_train, X_test, y_train, y_test = train_test_split(df_oh_all.drop('PINCP', axis=1), \n",
    "                                                    df_oh_all['PINCP'], test_size = 0.2,\n",
    "                                                    random_state = rand_seed)"
   ]
  },
  {
   "cell_type": "code",
   "execution_count": 34,
   "id": "7331f23b-5650-4769-af6e-987038afb1ba",
   "metadata": {
    "tags": []
   },
   "outputs": [
    {
     "data": {
      "text/plain": [
       "((1255350, 897), (1255350,), (313838, 897), (313838,))"
      ]
     },
     "execution_count": 34,
     "metadata": {},
     "output_type": "execute_result"
    }
   ],
   "source": [
    "X_train.shape, y_train.shape, X_test.shape, y_test.shape"
   ]
  },
  {
   "cell_type": "code",
   "execution_count": null,
   "id": "1c1d0cf6-f0a8-4c91-865d-d8acaa6781fe",
   "metadata": {
    "tags": []
   },
   "outputs": [],
   "source": [
    "lr = LinearRegression() #sklearn\n",
    "lr.fit(X_train, y_train)"
   ]
  },
  {
   "cell_type": "code",
   "execution_count": 12,
   "id": "8793636f-7e5e-44b8-8fa2-6b8825bbd3c0",
   "metadata": {
    "tags": []
   },
   "outputs": [
    {
     "data": {
      "text/plain": [
       "(0.5085280100557967, 0.5089598328450473)"
      ]
     },
     "execution_count": 12,
     "metadata": {},
     "output_type": "execute_result"
    }
   ],
   "source": [
    "lr.score(X_train, y_train), lr.score(X_test, y_test)"
   ]
  },
  {
   "cell_type": "code",
   "execution_count": 13,
   "id": "57d2644c-05c6-4114-995c-d25d196267c6",
   "metadata": {
    "tags": []
   },
   "outputs": [
    {
     "name": "stderr",
     "output_type": "stream",
     "text": [
      "/home/jupyter-kriach/.conda/envs/biasbounties/lib/python3.10/site-packages/sklearn/utils/extmath.py:193: RuntimeWarning: invalid value encountered in matmul\n",
      "  ret = a @ b\n"
     ]
    },
    {
     "data": {
      "text/html": [
       "<style>#sk-container-id-2 {color: black;}#sk-container-id-2 pre{padding: 0;}#sk-container-id-2 div.sk-toggleable {background-color: white;}#sk-container-id-2 label.sk-toggleable__label {cursor: pointer;display: block;width: 100%;margin-bottom: 0;padding: 0.3em;box-sizing: border-box;text-align: center;}#sk-container-id-2 label.sk-toggleable__label-arrow:before {content: \"▸\";float: left;margin-right: 0.25em;color: #696969;}#sk-container-id-2 label.sk-toggleable__label-arrow:hover:before {color: black;}#sk-container-id-2 div.sk-estimator:hover label.sk-toggleable__label-arrow:before {color: black;}#sk-container-id-2 div.sk-toggleable__content {max-height: 0;max-width: 0;overflow: hidden;text-align: left;background-color: #f0f8ff;}#sk-container-id-2 div.sk-toggleable__content pre {margin: 0.2em;color: black;border-radius: 0.25em;background-color: #f0f8ff;}#sk-container-id-2 input.sk-toggleable__control:checked~div.sk-toggleable__content {max-height: 200px;max-width: 100%;overflow: auto;}#sk-container-id-2 input.sk-toggleable__control:checked~label.sk-toggleable__label-arrow:before {content: \"▾\";}#sk-container-id-2 div.sk-estimator input.sk-toggleable__control:checked~label.sk-toggleable__label {background-color: #d4ebff;}#sk-container-id-2 div.sk-label input.sk-toggleable__control:checked~label.sk-toggleable__label {background-color: #d4ebff;}#sk-container-id-2 input.sk-hidden--visually {border: 0;clip: rect(1px 1px 1px 1px);clip: rect(1px, 1px, 1px, 1px);height: 1px;margin: -1px;overflow: hidden;padding: 0;position: absolute;width: 1px;}#sk-container-id-2 div.sk-estimator {font-family: monospace;background-color: #f0f8ff;border: 1px dotted black;border-radius: 0.25em;box-sizing: border-box;margin-bottom: 0.5em;}#sk-container-id-2 div.sk-estimator:hover {background-color: #d4ebff;}#sk-container-id-2 div.sk-parallel-item::after {content: \"\";width: 100%;border-bottom: 1px solid gray;flex-grow: 1;}#sk-container-id-2 div.sk-label:hover label.sk-toggleable__label {background-color: #d4ebff;}#sk-container-id-2 div.sk-serial::before {content: \"\";position: absolute;border-left: 1px solid gray;box-sizing: border-box;top: 0;bottom: 0;left: 50%;z-index: 0;}#sk-container-id-2 div.sk-serial {display: flex;flex-direction: column;align-items: center;background-color: white;padding-right: 0.2em;padding-left: 0.2em;position: relative;}#sk-container-id-2 div.sk-item {position: relative;z-index: 1;}#sk-container-id-2 div.sk-parallel {display: flex;align-items: stretch;justify-content: center;background-color: white;position: relative;}#sk-container-id-2 div.sk-item::before, #sk-container-id-2 div.sk-parallel-item::before {content: \"\";position: absolute;border-left: 1px solid gray;box-sizing: border-box;top: 0;bottom: 0;left: 50%;z-index: -1;}#sk-container-id-2 div.sk-parallel-item {display: flex;flex-direction: column;z-index: 1;position: relative;background-color: white;}#sk-container-id-2 div.sk-parallel-item:first-child::after {align-self: flex-end;width: 50%;}#sk-container-id-2 div.sk-parallel-item:last-child::after {align-self: flex-start;width: 50%;}#sk-container-id-2 div.sk-parallel-item:only-child::after {width: 0;}#sk-container-id-2 div.sk-dashed-wrapped {border: 1px dashed gray;margin: 0 0.4em 0.5em 0.4em;box-sizing: border-box;padding-bottom: 0.4em;background-color: white;}#sk-container-id-2 div.sk-label label {font-family: monospace;font-weight: bold;display: inline-block;line-height: 1.2em;}#sk-container-id-2 div.sk-label-container {text-align: center;}#sk-container-id-2 div.sk-container {/* jupyter's `normalize.less` sets `[hidden] { display: none; }` but bootstrap.min.css set `[hidden] { display: none !important; }` so we also need the `!important` here to be able to override the default hidden behavior on the sphinx rendered scikit-learn.org. See: https://github.com/scikit-learn/scikit-learn/issues/21755 */display: inline-block !important;position: relative;}#sk-container-id-2 div.sk-text-repr-fallback {display: none;}</style><div id=\"sk-container-id-2\" class=\"sk-top-container\"><div class=\"sk-text-repr-fallback\"><pre>Ridge()</pre><b>In a Jupyter environment, please rerun this cell to show the HTML representation or trust the notebook. <br />On GitHub, the HTML representation is unable to render, please try loading this page with nbviewer.org.</b></div><div class=\"sk-container\" hidden><div class=\"sk-item\"><div class=\"sk-estimator sk-toggleable\"><input class=\"sk-toggleable__control sk-hidden--visually\" id=\"sk-estimator-id-2\" type=\"checkbox\" checked><label for=\"sk-estimator-id-2\" class=\"sk-toggleable__label sk-toggleable__label-arrow\">Ridge</label><div class=\"sk-toggleable__content\"><pre>Ridge()</pre></div></div></div></div></div>"
      ],
      "text/plain": [
       "Ridge()"
      ]
     },
     "execution_count": 13,
     "metadata": {},
     "output_type": "execute_result"
    }
   ],
   "source": [
    "ridge = Ridge()\n",
    "ridge.fit(X_train, y_train)"
   ]
  },
  {
   "cell_type": "code",
   "execution_count": 39,
   "id": "9ee1823c-392f-4d37-9e6a-02a5ff6483a0",
   "metadata": {
    "tags": []
   },
   "outputs": [
    {
     "data": {
      "text/plain": [
       "array([0.12039289, 0.63934487, 0.14759233, ..., 0.95642588, 0.18653082,\n",
       "       0.93438063])"
      ]
     },
     "execution_count": 39,
     "metadata": {},
     "output_type": "execute_result"
    }
   ],
   "source": [
    "np.random.rand(y_train.shape[0]) # uniform random predictor"
   ]
  },
  {
   "cell_type": "code",
   "execution_count": 40,
   "id": "2536c7c3-cfe7-47ca-952e-52a7c52891bc",
   "metadata": {
    "tags": []
   },
   "outputs": [
    {
     "data": {
      "text/plain": [
       "-3.4789383966767655"
      ]
     },
     "execution_count": 40,
     "metadata": {},
     "output_type": "execute_result"
    }
   ],
   "source": [
    "r2_score(y_train, np.random.rand(y_train.shape[0]))"
   ]
  },
  {
   "cell_type": "code",
   "execution_count": 44,
   "id": "b9e7fd30-3820-455d-9f5c-70d4f1b0ff1b",
   "metadata": {
    "tags": []
   },
   "outputs": [
    {
     "data": {
      "text/plain": [
       "1.0"
      ]
     },
     "execution_count": 44,
     "metadata": {},
     "output_type": "execute_result"
    }
   ],
   "source": [
    "r2_score(y_test, y_test)"
   ]
  },
  {
   "cell_type": "code",
   "execution_count": 14,
   "id": "22f339f0-8081-4622-bbec-8fc1b06e7122",
   "metadata": {
    "tags": []
   },
   "outputs": [
    {
     "data": {
      "text/plain": [
       "(0.5085694610333208, 0.5089990692196149)"
      ]
     },
     "execution_count": 14,
     "metadata": {},
     "output_type": "execute_result"
    }
   ],
   "source": [
    "ridge.score(X_train, y_train), ridge.score(X_test, y_test)"
   ]
  },
  {
   "cell_type": "code",
   "execution_count": 16,
   "id": "68d953c2-b19d-4a2b-ae03-95f06b42ae28",
   "metadata": {
    "tags": []
   },
   "outputs": [
    {
     "data": {
      "text/plain": [
       "False"
      ]
     },
     "execution_count": 16,
     "metadata": {},
     "output_type": "execute_result"
    }
   ],
   "source": [
    "np.allclose(ridge.coef_, lr.coef_, rtol=0.01)"
   ]
  },
  {
   "cell_type": "code",
   "execution_count": 17,
   "id": "842b8dda-cb0a-42eb-809d-5cbec9b06807",
   "metadata": {
    "tags": []
   },
   "outputs": [
    {
     "data": {
      "text/plain": [
       "(array([0.33726913, 0.16453486, 0.17282151, 0.08041582, 0.07610074]),\n",
       " array([3.37420660e-01, 1.64678596e-01, 6.64869973e+09, 6.64869973e+09,\n",
       "        6.64869973e+09]))"
      ]
     },
     "execution_count": 17,
     "metadata": {},
     "output_type": "execute_result"
    }
   ],
   "source": [
    "ridge.coef_[:5], lr.coef_[:5]"
   ]
  },
  {
   "cell_type": "code",
   "execution_count": 29,
   "id": "5c6b4988-21e7-4e73-a7d5-b2806f076b9c",
   "metadata": {
    "tags": []
   },
   "outputs": [
    {
     "data": {
      "text/plain": [
       "(True, False)"
      ]
     },
     "execution_count": 29,
     "metadata": {},
     "output_type": "execute_result"
    }
   ],
   "source": [
    "np.all(ridge.coef_ < 0.4), np.all(lr.coef_ < 1) # ridge always learns small params; obviously regularization"
   ]
  },
  {
   "cell_type": "code",
   "execution_count": 30,
   "id": "cc891c83-6ef0-4a32-ae88-be9af66ac6b7",
   "metadata": {
    "tags": []
   },
   "outputs": [
    {
     "data": {
      "text/plain": [
       "(True, False)"
      ]
     },
     "execution_count": 30,
     "metadata": {},
     "output_type": "execute_result"
    }
   ],
   "source": [
    "np.all(ridge.coef_>-0.4), np.all(lr.coef_ > -1) # ridge coeff all between [-0.4,0.4], [-1, 1]"
   ]
  },
  {
   "cell_type": "code",
   "execution_count": null,
   "id": "e54d09b9-993a-4f25-9b84-3caa17f6af87",
   "metadata": {},
   "outputs": [],
   "source": [
    "# real thought experiment\n",
    "- random values for y now, X still the same"
   ]
  },
  {
   "cell_type": "code",
   "execution_count": 47,
   "id": "06d35c39-65b5-4c9c-86bc-a00e9bdad2bd",
   "metadata": {
    "tags": []
   },
   "outputs": [
    {
     "data": {
      "text/html": [
       "<style>#sk-container-id-7 {color: black;}#sk-container-id-7 pre{padding: 0;}#sk-container-id-7 div.sk-toggleable {background-color: white;}#sk-container-id-7 label.sk-toggleable__label {cursor: pointer;display: block;width: 100%;margin-bottom: 0;padding: 0.3em;box-sizing: border-box;text-align: center;}#sk-container-id-7 label.sk-toggleable__label-arrow:before {content: \"▸\";float: left;margin-right: 0.25em;color: #696969;}#sk-container-id-7 label.sk-toggleable__label-arrow:hover:before {color: black;}#sk-container-id-7 div.sk-estimator:hover label.sk-toggleable__label-arrow:before {color: black;}#sk-container-id-7 div.sk-toggleable__content {max-height: 0;max-width: 0;overflow: hidden;text-align: left;background-color: #f0f8ff;}#sk-container-id-7 div.sk-toggleable__content pre {margin: 0.2em;color: black;border-radius: 0.25em;background-color: #f0f8ff;}#sk-container-id-7 input.sk-toggleable__control:checked~div.sk-toggleable__content {max-height: 200px;max-width: 100%;overflow: auto;}#sk-container-id-7 input.sk-toggleable__control:checked~label.sk-toggleable__label-arrow:before {content: \"▾\";}#sk-container-id-7 div.sk-estimator input.sk-toggleable__control:checked~label.sk-toggleable__label {background-color: #d4ebff;}#sk-container-id-7 div.sk-label input.sk-toggleable__control:checked~label.sk-toggleable__label {background-color: #d4ebff;}#sk-container-id-7 input.sk-hidden--visually {border: 0;clip: rect(1px 1px 1px 1px);clip: rect(1px, 1px, 1px, 1px);height: 1px;margin: -1px;overflow: hidden;padding: 0;position: absolute;width: 1px;}#sk-container-id-7 div.sk-estimator {font-family: monospace;background-color: #f0f8ff;border: 1px dotted black;border-radius: 0.25em;box-sizing: border-box;margin-bottom: 0.5em;}#sk-container-id-7 div.sk-estimator:hover {background-color: #d4ebff;}#sk-container-id-7 div.sk-parallel-item::after {content: \"\";width: 100%;border-bottom: 1px solid gray;flex-grow: 1;}#sk-container-id-7 div.sk-label:hover label.sk-toggleable__label {background-color: #d4ebff;}#sk-container-id-7 div.sk-serial::before {content: \"\";position: absolute;border-left: 1px solid gray;box-sizing: border-box;top: 0;bottom: 0;left: 50%;z-index: 0;}#sk-container-id-7 div.sk-serial {display: flex;flex-direction: column;align-items: center;background-color: white;padding-right: 0.2em;padding-left: 0.2em;position: relative;}#sk-container-id-7 div.sk-item {position: relative;z-index: 1;}#sk-container-id-7 div.sk-parallel {display: flex;align-items: stretch;justify-content: center;background-color: white;position: relative;}#sk-container-id-7 div.sk-item::before, #sk-container-id-7 div.sk-parallel-item::before {content: \"\";position: absolute;border-left: 1px solid gray;box-sizing: border-box;top: 0;bottom: 0;left: 50%;z-index: -1;}#sk-container-id-7 div.sk-parallel-item {display: flex;flex-direction: column;z-index: 1;position: relative;background-color: white;}#sk-container-id-7 div.sk-parallel-item:first-child::after {align-self: flex-end;width: 50%;}#sk-container-id-7 div.sk-parallel-item:last-child::after {align-self: flex-start;width: 50%;}#sk-container-id-7 div.sk-parallel-item:only-child::after {width: 0;}#sk-container-id-7 div.sk-dashed-wrapped {border: 1px dashed gray;margin: 0 0.4em 0.5em 0.4em;box-sizing: border-box;padding-bottom: 0.4em;background-color: white;}#sk-container-id-7 div.sk-label label {font-family: monospace;font-weight: bold;display: inline-block;line-height: 1.2em;}#sk-container-id-7 div.sk-label-container {text-align: center;}#sk-container-id-7 div.sk-container {/* jupyter's `normalize.less` sets `[hidden] { display: none; }` but bootstrap.min.css set `[hidden] { display: none !important; }` so we also need the `!important` here to be able to override the default hidden behavior on the sphinx rendered scikit-learn.org. See: https://github.com/scikit-learn/scikit-learn/issues/21755 */display: inline-block !important;position: relative;}#sk-container-id-7 div.sk-text-repr-fallback {display: none;}</style><div id=\"sk-container-id-7\" class=\"sk-top-container\"><div class=\"sk-text-repr-fallback\"><pre>LinearRegression()</pre><b>In a Jupyter environment, please rerun this cell to show the HTML representation or trust the notebook. <br />On GitHub, the HTML representation is unable to render, please try loading this page with nbviewer.org.</b></div><div class=\"sk-container\" hidden><div class=\"sk-item\"><div class=\"sk-estimator sk-toggleable\"><input class=\"sk-toggleable__control sk-hidden--visually\" id=\"sk-estimator-id-7\" type=\"checkbox\" checked><label for=\"sk-estimator-id-7\" class=\"sk-toggleable__label sk-toggleable__label-arrow\">LinearRegression</label><div class=\"sk-toggleable__content\"><pre>LinearRegression()</pre></div></div></div></div></div>"
      ],
      "text/plain": [
       "LinearRegression()"
      ]
     },
     "execution_count": 47,
     "metadata": {},
     "output_type": "execute_result"
    }
   ],
   "source": [
    "lr_the = LinearRegression()\n",
    "y_rand_train = np.random.rand(X_train.shape[0])\n",
    "lr_the.fit(X_train, y_rand_train)"
   ]
  },
  {
   "cell_type": "code",
   "execution_count": 48,
   "id": "2b802c5f-8c00-49ef-aef3-d24436076967",
   "metadata": {
    "tags": []
   },
   "outputs": [
    {
     "data": {
      "text/plain": [
       "(0.0006347467266070161, -0.0007181169604526527)"
      ]
     },
     "execution_count": 48,
     "metadata": {},
     "output_type": "execute_result"
    }
   ],
   "source": [
    "y_rand_test = np.random.rand(X_test.shape[0])\n",
    "lr_the.score(X_train, y_rand_train), lr_the.score(X_test, y_rand_test)"
   ]
  },
  {
   "cell_type": "code",
   "execution_count": 49,
   "id": "7d24afa8-66bf-4a5b-8a61-6de6b807f0ee",
   "metadata": {
    "tags": []
   },
   "outputs": [
    {
     "data": {
      "text/plain": [
       "array([0.50263214, 0.50217438, 0.50003815, ..., 0.50563812, 0.50763702,\n",
       "       0.49964142])"
      ]
     },
     "execution_count": 49,
     "metadata": {},
     "output_type": "execute_result"
    }
   ],
   "source": [
    "lr_the.predict(X_test)"
   ]
  },
  {
   "cell_type": "markdown",
   "id": "21c0a2db-c2b1-4889-99c0-4464d4342ef3",
   "metadata": {},
   "source": [
    "## Ridge and LS on not one hot"
   ]
  },
  {
   "cell_type": "code",
   "execution_count": 55,
   "id": "417535ae-6ba5-49f6-9df6-332cab3cb5b9",
   "metadata": {
    "tags": []
   },
   "outputs": [],
   "source": [
    "df_notoh = pd.read_pickle(\"./data_frames/dense_acs_mm_notoh.pkl\")"
   ]
  },
  {
   "cell_type": "code",
   "execution_count": 24,
   "id": "dc03cce0-9103-48f3-9d08-eda457d040bb",
   "metadata": {
    "tags": []
   },
   "outputs": [
    {
     "name": "stdout",
     "output_type": "stream",
     "text": [
      "12 3\n"
     ]
    }
   ],
   "source": [
    "cat_cols_sig = ['OCCP', 'SCHL', 'ST', 'JWTRNS', 'DRAT', 'COW', 'SEX', \\\n",
    "       'RELSHIPP', 'POBP', 'ENG', 'MAR', 'RAC1P'] # significant features from the earlier analysis\n",
    "numeric_cols = ['WKHP', 'AGEP', 'PINCP']\n",
    "print(len(cat_cols_sig), len(numeric_cols))"
   ]
  },
  {
   "cell_type": "code",
   "execution_count": 25,
   "id": "efe29db1-a74d-465a-8190-02c4037961f5",
   "metadata": {
    "tags": []
   },
   "outputs": [],
   "source": [
    "from utils import ordinal_encoder\n",
    "df_notoh = ordinal_encoder(df_notoh, cat_cols_sig)"
   ]
  },
  {
   "cell_type": "code",
   "execution_count": 26,
   "id": "ba4b2c3e-5efa-4d7a-b546-cf3fa513c5bf",
   "metadata": {
    "tags": []
   },
   "outputs": [],
   "source": [
    "from sklearn.model_selection import train_test_split\n",
    "rand_seed = 21\n",
    "X_train_noh, X_test_noh, y_train_noh, y_test_noh = train_test_split(df_notoh.drop('PINCP', axis=1), \n",
    "                                                    df_notoh['PINCP'], test_size = 0.2,\n",
    "                                                    random_state = rand_seed)"
   ]
  },
  {
   "cell_type": "code",
   "execution_count": 28,
   "id": "e8784c49-951a-4450-bc32-8a3d89fd6aba",
   "metadata": {
    "tags": []
   },
   "outputs": [
    {
     "data": {
      "text/plain": [
       "((1255350, 14), (1255350,), (313838, 14), (313838,))"
      ]
     },
     "execution_count": 28,
     "metadata": {},
     "output_type": "execute_result"
    }
   ],
   "source": [
    "X_train_noh.shape, y_train_noh.shape, X_test_noh.shape, y_test_noh.shape"
   ]
  },
  {
   "cell_type": "code",
   "execution_count": 12,
   "id": "4a9a8505-9e41-468c-884b-1235c5700529",
   "metadata": {
    "tags": []
   },
   "outputs": [
    {
     "data": {
      "text/html": [
       "<style>#sk-container-id-1 {color: black;}#sk-container-id-1 pre{padding: 0;}#sk-container-id-1 div.sk-toggleable {background-color: white;}#sk-container-id-1 label.sk-toggleable__label {cursor: pointer;display: block;width: 100%;margin-bottom: 0;padding: 0.3em;box-sizing: border-box;text-align: center;}#sk-container-id-1 label.sk-toggleable__label-arrow:before {content: \"▸\";float: left;margin-right: 0.25em;color: #696969;}#sk-container-id-1 label.sk-toggleable__label-arrow:hover:before {color: black;}#sk-container-id-1 div.sk-estimator:hover label.sk-toggleable__label-arrow:before {color: black;}#sk-container-id-1 div.sk-toggleable__content {max-height: 0;max-width: 0;overflow: hidden;text-align: left;background-color: #f0f8ff;}#sk-container-id-1 div.sk-toggleable__content pre {margin: 0.2em;color: black;border-radius: 0.25em;background-color: #f0f8ff;}#sk-container-id-1 input.sk-toggleable__control:checked~div.sk-toggleable__content {max-height: 200px;max-width: 100%;overflow: auto;}#sk-container-id-1 input.sk-toggleable__control:checked~label.sk-toggleable__label-arrow:before {content: \"▾\";}#sk-container-id-1 div.sk-estimator input.sk-toggleable__control:checked~label.sk-toggleable__label {background-color: #d4ebff;}#sk-container-id-1 div.sk-label input.sk-toggleable__control:checked~label.sk-toggleable__label {background-color: #d4ebff;}#sk-container-id-1 input.sk-hidden--visually {border: 0;clip: rect(1px 1px 1px 1px);clip: rect(1px, 1px, 1px, 1px);height: 1px;margin: -1px;overflow: hidden;padding: 0;position: absolute;width: 1px;}#sk-container-id-1 div.sk-estimator {font-family: monospace;background-color: #f0f8ff;border: 1px dotted black;border-radius: 0.25em;box-sizing: border-box;margin-bottom: 0.5em;}#sk-container-id-1 div.sk-estimator:hover {background-color: #d4ebff;}#sk-container-id-1 div.sk-parallel-item::after {content: \"\";width: 100%;border-bottom: 1px solid gray;flex-grow: 1;}#sk-container-id-1 div.sk-label:hover label.sk-toggleable__label {background-color: #d4ebff;}#sk-container-id-1 div.sk-serial::before {content: \"\";position: absolute;border-left: 1px solid gray;box-sizing: border-box;top: 0;bottom: 0;left: 50%;z-index: 0;}#sk-container-id-1 div.sk-serial {display: flex;flex-direction: column;align-items: center;background-color: white;padding-right: 0.2em;padding-left: 0.2em;position: relative;}#sk-container-id-1 div.sk-item {position: relative;z-index: 1;}#sk-container-id-1 div.sk-parallel {display: flex;align-items: stretch;justify-content: center;background-color: white;position: relative;}#sk-container-id-1 div.sk-item::before, #sk-container-id-1 div.sk-parallel-item::before {content: \"\";position: absolute;border-left: 1px solid gray;box-sizing: border-box;top: 0;bottom: 0;left: 50%;z-index: -1;}#sk-container-id-1 div.sk-parallel-item {display: flex;flex-direction: column;z-index: 1;position: relative;background-color: white;}#sk-container-id-1 div.sk-parallel-item:first-child::after {align-self: flex-end;width: 50%;}#sk-container-id-1 div.sk-parallel-item:last-child::after {align-self: flex-start;width: 50%;}#sk-container-id-1 div.sk-parallel-item:only-child::after {width: 0;}#sk-container-id-1 div.sk-dashed-wrapped {border: 1px dashed gray;margin: 0 0.4em 0.5em 0.4em;box-sizing: border-box;padding-bottom: 0.4em;background-color: white;}#sk-container-id-1 div.sk-label label {font-family: monospace;font-weight: bold;display: inline-block;line-height: 1.2em;}#sk-container-id-1 div.sk-label-container {text-align: center;}#sk-container-id-1 div.sk-container {/* jupyter's `normalize.less` sets `[hidden] { display: none; }` but bootstrap.min.css set `[hidden] { display: none !important; }` so we also need the `!important` here to be able to override the default hidden behavior on the sphinx rendered scikit-learn.org. See: https://github.com/scikit-learn/scikit-learn/issues/21755 */display: inline-block !important;position: relative;}#sk-container-id-1 div.sk-text-repr-fallback {display: none;}</style><div id=\"sk-container-id-1\" class=\"sk-top-container\"><div class=\"sk-text-repr-fallback\"><pre>LinearRegression()</pre><b>In a Jupyter environment, please rerun this cell to show the HTML representation or trust the notebook. <br />On GitHub, the HTML representation is unable to render, please try loading this page with nbviewer.org.</b></div><div class=\"sk-container\" hidden><div class=\"sk-item\"><div class=\"sk-estimator sk-toggleable\"><input class=\"sk-toggleable__control sk-hidden--visually\" id=\"sk-estimator-id-1\" type=\"checkbox\" checked><label for=\"sk-estimator-id-1\" class=\"sk-toggleable__label sk-toggleable__label-arrow\">LinearRegression</label><div class=\"sk-toggleable__content\"><pre>LinearRegression()</pre></div></div></div></div></div>"
      ],
      "text/plain": [
       "LinearRegression()"
      ]
     },
     "execution_count": 12,
     "metadata": {},
     "output_type": "execute_result"
    }
   ],
   "source": [
    "lr_notoh = LinearRegression()\n",
    "lr_notoh.fit(X_train, y_train)"
   ]
  },
  {
   "cell_type": "code",
   "execution_count": 13,
   "id": "9bdfd065-366a-4247-8070-bdfbc9769b8b",
   "metadata": {
    "tags": []
   },
   "outputs": [
    {
     "data": {
      "text/plain": [
       "(0.39213866332368696, 0.3933595075579419)"
      ]
     },
     "execution_count": 13,
     "metadata": {},
     "output_type": "execute_result"
    }
   ],
   "source": [
    "lr_notoh.score(X_train, y_train), lr_notoh.score(X_test, y_test)"
   ]
  },
  {
   "cell_type": "code",
   "execution_count": 14,
   "id": "c61c9b9f-0319-4983-aa1e-1c3b59bfe071",
   "metadata": {
    "tags": []
   },
   "outputs": [
    {
     "data": {
      "text/html": [
       "<style>#sk-container-id-2 {color: black;}#sk-container-id-2 pre{padding: 0;}#sk-container-id-2 div.sk-toggleable {background-color: white;}#sk-container-id-2 label.sk-toggleable__label {cursor: pointer;display: block;width: 100%;margin-bottom: 0;padding: 0.3em;box-sizing: border-box;text-align: center;}#sk-container-id-2 label.sk-toggleable__label-arrow:before {content: \"▸\";float: left;margin-right: 0.25em;color: #696969;}#sk-container-id-2 label.sk-toggleable__label-arrow:hover:before {color: black;}#sk-container-id-2 div.sk-estimator:hover label.sk-toggleable__label-arrow:before {color: black;}#sk-container-id-2 div.sk-toggleable__content {max-height: 0;max-width: 0;overflow: hidden;text-align: left;background-color: #f0f8ff;}#sk-container-id-2 div.sk-toggleable__content pre {margin: 0.2em;color: black;border-radius: 0.25em;background-color: #f0f8ff;}#sk-container-id-2 input.sk-toggleable__control:checked~div.sk-toggleable__content {max-height: 200px;max-width: 100%;overflow: auto;}#sk-container-id-2 input.sk-toggleable__control:checked~label.sk-toggleable__label-arrow:before {content: \"▾\";}#sk-container-id-2 div.sk-estimator input.sk-toggleable__control:checked~label.sk-toggleable__label {background-color: #d4ebff;}#sk-container-id-2 div.sk-label input.sk-toggleable__control:checked~label.sk-toggleable__label {background-color: #d4ebff;}#sk-container-id-2 input.sk-hidden--visually {border: 0;clip: rect(1px 1px 1px 1px);clip: rect(1px, 1px, 1px, 1px);height: 1px;margin: -1px;overflow: hidden;padding: 0;position: absolute;width: 1px;}#sk-container-id-2 div.sk-estimator {font-family: monospace;background-color: #f0f8ff;border: 1px dotted black;border-radius: 0.25em;box-sizing: border-box;margin-bottom: 0.5em;}#sk-container-id-2 div.sk-estimator:hover {background-color: #d4ebff;}#sk-container-id-2 div.sk-parallel-item::after {content: \"\";width: 100%;border-bottom: 1px solid gray;flex-grow: 1;}#sk-container-id-2 div.sk-label:hover label.sk-toggleable__label {background-color: #d4ebff;}#sk-container-id-2 div.sk-serial::before {content: \"\";position: absolute;border-left: 1px solid gray;box-sizing: border-box;top: 0;bottom: 0;left: 50%;z-index: 0;}#sk-container-id-2 div.sk-serial {display: flex;flex-direction: column;align-items: center;background-color: white;padding-right: 0.2em;padding-left: 0.2em;position: relative;}#sk-container-id-2 div.sk-item {position: relative;z-index: 1;}#sk-container-id-2 div.sk-parallel {display: flex;align-items: stretch;justify-content: center;background-color: white;position: relative;}#sk-container-id-2 div.sk-item::before, #sk-container-id-2 div.sk-parallel-item::before {content: \"\";position: absolute;border-left: 1px solid gray;box-sizing: border-box;top: 0;bottom: 0;left: 50%;z-index: -1;}#sk-container-id-2 div.sk-parallel-item {display: flex;flex-direction: column;z-index: 1;position: relative;background-color: white;}#sk-container-id-2 div.sk-parallel-item:first-child::after {align-self: flex-end;width: 50%;}#sk-container-id-2 div.sk-parallel-item:last-child::after {align-self: flex-start;width: 50%;}#sk-container-id-2 div.sk-parallel-item:only-child::after {width: 0;}#sk-container-id-2 div.sk-dashed-wrapped {border: 1px dashed gray;margin: 0 0.4em 0.5em 0.4em;box-sizing: border-box;padding-bottom: 0.4em;background-color: white;}#sk-container-id-2 div.sk-label label {font-family: monospace;font-weight: bold;display: inline-block;line-height: 1.2em;}#sk-container-id-2 div.sk-label-container {text-align: center;}#sk-container-id-2 div.sk-container {/* jupyter's `normalize.less` sets `[hidden] { display: none; }` but bootstrap.min.css set `[hidden] { display: none !important; }` so we also need the `!important` here to be able to override the default hidden behavior on the sphinx rendered scikit-learn.org. See: https://github.com/scikit-learn/scikit-learn/issues/21755 */display: inline-block !important;position: relative;}#sk-container-id-2 div.sk-text-repr-fallback {display: none;}</style><div id=\"sk-container-id-2\" class=\"sk-top-container\"><div class=\"sk-text-repr-fallback\"><pre>Ridge()</pre><b>In a Jupyter environment, please rerun this cell to show the HTML representation or trust the notebook. <br />On GitHub, the HTML representation is unable to render, please try loading this page with nbviewer.org.</b></div><div class=\"sk-container\" hidden><div class=\"sk-item\"><div class=\"sk-estimator sk-toggleable\"><input class=\"sk-toggleable__control sk-hidden--visually\" id=\"sk-estimator-id-2\" type=\"checkbox\" checked><label for=\"sk-estimator-id-2\" class=\"sk-toggleable__label sk-toggleable__label-arrow\">Ridge</label><div class=\"sk-toggleable__content\"><pre>Ridge()</pre></div></div></div></div></div>"
      ],
      "text/plain": [
       "Ridge()"
      ]
     },
     "execution_count": 14,
     "metadata": {},
     "output_type": "execute_result"
    }
   ],
   "source": [
    "ridge_notoh = Ridge()\n",
    "ridge_notoh.fit(X_train, y_train)"
   ]
  },
  {
   "cell_type": "code",
   "execution_count": 15,
   "id": "11a60502-88b5-4b35-926b-aeb19263f92d",
   "metadata": {
    "tags": []
   },
   "outputs": [
    {
     "data": {
      "text/plain": [
       "(0.3921386631275038, 0.39335948968321377)"
      ]
     },
     "execution_count": 15,
     "metadata": {},
     "output_type": "execute_result"
    }
   ],
   "source": [
    "ridge_notoh.score(X_train, y_train), ridge_notoh.score(X_test, y_test)"
   ]
  },
  {
   "cell_type": "code",
   "execution_count": 18,
   "id": "9691989b-16d0-4531-9093-76a3857c12de",
   "metadata": {
    "tags": []
   },
   "outputs": [
    {
     "data": {
      "text/plain": [
       "False"
      ]
     },
     "execution_count": 18,
     "metadata": {},
     "output_type": "execute_result"
    }
   ],
   "source": [
    "np.allclose(ridge_notoh.coef_, lr_notoh.coef_)"
   ]
  },
  {
   "cell_type": "code",
   "execution_count": 22,
   "id": "6c91ccdd-4100-47af-a5cc-5f34b4b661f7",
   "metadata": {
    "tags": []
   },
   "outputs": [
    {
     "data": {
      "text/plain": [
       "(True, True)"
      ]
     },
     "execution_count": 22,
     "metadata": {},
     "output_type": "execute_result"
    }
   ],
   "source": [
    "np.all(ridge_notoh.coef_ < 1), np.all(lr_notoh.coef_ < 1) # ridge always learns small params; obviously regularization"
   ]
  },
  {
   "cell_type": "code",
   "execution_count": 23,
   "id": "a4fba7b7-470d-405a-8349-62c2074f5694",
   "metadata": {
    "tags": []
   },
   "outputs": [
    {
     "data": {
      "text/plain": [
       "(True, True)"
      ]
     },
     "execution_count": 23,
     "metadata": {},
     "output_type": "execute_result"
    }
   ],
   "source": [
    "np.all(ridge_notoh.coef_>-1), np.all(lr_notoh.coef_ > -1) # ridge coeff all between [-0.4,0.4], [-1, 1]"
   ]
  },
  {
   "cell_type": "markdown",
   "id": "38e118dc-c00d-49d9-a2f8-bca79eac5046",
   "metadata": {},
   "source": [
    "# non linear below"
   ]
  },
  {
   "cell_type": "markdown",
   "id": "4dfaa24a-b3fa-4f66-a1a2-abc3f5ec4e1b",
   "metadata": {},
   "source": [
    "# kNN regressor on ordinal encoded"
   ]
  },
  {
   "cell_type": "code",
   "execution_count": 28,
   "id": "d4f6102e-09eb-48fb-85c8-50cfc4f25de4",
   "metadata": {
    "tags": []
   },
   "outputs": [],
   "source": [
    "from sklearn.neighbors import KNeighborsRegressor\n",
    "neigh10 = KNeighborsRegressor(n_neighbors = 10)"
   ]
  },
  {
   "cell_type": "code",
   "execution_count": 29,
   "id": "18be143d-0f26-47f9-b052-2fcb28d32eb7",
   "metadata": {
    "tags": []
   },
   "outputs": [
    {
     "name": "stdout",
     "output_type": "stream",
     "text": [
      "CPU times: user 3.77 s, sys: 38.2 ms, total: 3.81 s\n",
      "Wall time: 3.79 s\n"
     ]
    },
    {
     "data": {
      "text/html": [
       "<style>#sk-container-id-3 {color: black;}#sk-container-id-3 pre{padding: 0;}#sk-container-id-3 div.sk-toggleable {background-color: white;}#sk-container-id-3 label.sk-toggleable__label {cursor: pointer;display: block;width: 100%;margin-bottom: 0;padding: 0.3em;box-sizing: border-box;text-align: center;}#sk-container-id-3 label.sk-toggleable__label-arrow:before {content: \"▸\";float: left;margin-right: 0.25em;color: #696969;}#sk-container-id-3 label.sk-toggleable__label-arrow:hover:before {color: black;}#sk-container-id-3 div.sk-estimator:hover label.sk-toggleable__label-arrow:before {color: black;}#sk-container-id-3 div.sk-toggleable__content {max-height: 0;max-width: 0;overflow: hidden;text-align: left;background-color: #f0f8ff;}#sk-container-id-3 div.sk-toggleable__content pre {margin: 0.2em;color: black;border-radius: 0.25em;background-color: #f0f8ff;}#sk-container-id-3 input.sk-toggleable__control:checked~div.sk-toggleable__content {max-height: 200px;max-width: 100%;overflow: auto;}#sk-container-id-3 input.sk-toggleable__control:checked~label.sk-toggleable__label-arrow:before {content: \"▾\";}#sk-container-id-3 div.sk-estimator input.sk-toggleable__control:checked~label.sk-toggleable__label {background-color: #d4ebff;}#sk-container-id-3 div.sk-label input.sk-toggleable__control:checked~label.sk-toggleable__label {background-color: #d4ebff;}#sk-container-id-3 input.sk-hidden--visually {border: 0;clip: rect(1px 1px 1px 1px);clip: rect(1px, 1px, 1px, 1px);height: 1px;margin: -1px;overflow: hidden;padding: 0;position: absolute;width: 1px;}#sk-container-id-3 div.sk-estimator {font-family: monospace;background-color: #f0f8ff;border: 1px dotted black;border-radius: 0.25em;box-sizing: border-box;margin-bottom: 0.5em;}#sk-container-id-3 div.sk-estimator:hover {background-color: #d4ebff;}#sk-container-id-3 div.sk-parallel-item::after {content: \"\";width: 100%;border-bottom: 1px solid gray;flex-grow: 1;}#sk-container-id-3 div.sk-label:hover label.sk-toggleable__label {background-color: #d4ebff;}#sk-container-id-3 div.sk-serial::before {content: \"\";position: absolute;border-left: 1px solid gray;box-sizing: border-box;top: 0;bottom: 0;left: 50%;z-index: 0;}#sk-container-id-3 div.sk-serial {display: flex;flex-direction: column;align-items: center;background-color: white;padding-right: 0.2em;padding-left: 0.2em;position: relative;}#sk-container-id-3 div.sk-item {position: relative;z-index: 1;}#sk-container-id-3 div.sk-parallel {display: flex;align-items: stretch;justify-content: center;background-color: white;position: relative;}#sk-container-id-3 div.sk-item::before, #sk-container-id-3 div.sk-parallel-item::before {content: \"\";position: absolute;border-left: 1px solid gray;box-sizing: border-box;top: 0;bottom: 0;left: 50%;z-index: -1;}#sk-container-id-3 div.sk-parallel-item {display: flex;flex-direction: column;z-index: 1;position: relative;background-color: white;}#sk-container-id-3 div.sk-parallel-item:first-child::after {align-self: flex-end;width: 50%;}#sk-container-id-3 div.sk-parallel-item:last-child::after {align-self: flex-start;width: 50%;}#sk-container-id-3 div.sk-parallel-item:only-child::after {width: 0;}#sk-container-id-3 div.sk-dashed-wrapped {border: 1px dashed gray;margin: 0 0.4em 0.5em 0.4em;box-sizing: border-box;padding-bottom: 0.4em;background-color: white;}#sk-container-id-3 div.sk-label label {font-family: monospace;font-weight: bold;display: inline-block;line-height: 1.2em;}#sk-container-id-3 div.sk-label-container {text-align: center;}#sk-container-id-3 div.sk-container {/* jupyter's `normalize.less` sets `[hidden] { display: none; }` but bootstrap.min.css set `[hidden] { display: none !important; }` so we also need the `!important` here to be able to override the default hidden behavior on the sphinx rendered scikit-learn.org. See: https://github.com/scikit-learn/scikit-learn/issues/21755 */display: inline-block !important;position: relative;}#sk-container-id-3 div.sk-text-repr-fallback {display: none;}</style><div id=\"sk-container-id-3\" class=\"sk-top-container\"><div class=\"sk-text-repr-fallback\"><pre>KNeighborsRegressor(n_neighbors=10)</pre><b>In a Jupyter environment, please rerun this cell to show the HTML representation or trust the notebook. <br />On GitHub, the HTML representation is unable to render, please try loading this page with nbviewer.org.</b></div><div class=\"sk-container\" hidden><div class=\"sk-item\"><div class=\"sk-estimator sk-toggleable\"><input class=\"sk-toggleable__control sk-hidden--visually\" id=\"sk-estimator-id-3\" type=\"checkbox\" checked><label for=\"sk-estimator-id-3\" class=\"sk-toggleable__label sk-toggleable__label-arrow\">KNeighborsRegressor</label><div class=\"sk-toggleable__content\"><pre>KNeighborsRegressor(n_neighbors=10)</pre></div></div></div></div></div>"
      ],
      "text/plain": [
       "KNeighborsRegressor(n_neighbors=10)"
      ]
     },
     "execution_count": 29,
     "metadata": {},
     "output_type": "execute_result"
    }
   ],
   "source": [
    "%%time\n",
    "neigh10.fit(X_train, y_train)"
   ]
  },
  {
   "cell_type": "code",
   "execution_count": 30,
   "id": "e3d6a333-3b52-440c-83bf-ca10d0ed3369",
   "metadata": {
    "tags": []
   },
   "outputs": [
    {
     "name": "stdout",
     "output_type": "stream",
     "text": [
      "CPU times: user 3min 44s, sys: 176 ms, total: 3min 44s\n",
      "Wall time: 3min 44s\n"
     ]
    },
    {
     "data": {
      "text/plain": [
       "(0.49791175065745363, 0.38774123935632665)"
      ]
     },
     "execution_count": 30,
     "metadata": {},
     "output_type": "execute_result"
    }
   ],
   "source": [
    "%%time\n",
    "neigh10.score(X_train, y_train), neigh10.score(X_test, y_test)"
   ]
  },
  {
   "cell_type": "code",
   "execution_count": 6,
   "id": "b1e5e453-e9f8-43f6-96dd-a48707ed2b3d",
   "metadata": {
    "tags": []
   },
   "outputs": [],
   "source": [
    "import numpy as np\n",
    "import faiss\n",
    "\n",
    "class FaissKNeighbors_reg:\n",
    "    def __init__(self, k=5):\n",
    "        self.index = None\n",
    "        self.y = None\n",
    "        self.k = k\n",
    "\n",
    "    def fit(self, X, y):\n",
    "        self.index = faiss.IndexFlatL2(X.shape[1])\n",
    "        self.index.add(X.astype(np.float32))\n",
    "        self.y = y\n",
    "\n",
    "    def predict(self, X):\n",
    "        distances, indices = self.index.search(X.astype(np.float32), k=self.k)\n",
    "        labels = self.y[indices]\n",
    "        # predictions = np.array([np.argmax(np.bincount(x)) for x in votes])\n",
    "        return labels.mean(axis = 1)\n",
    "\n",
    "class FaissKNeighbors_reg_gpu:\n",
    "    def __init__(self, k=5):\n",
    "        self.index = None\n",
    "        self.y = None\n",
    "        self.k = k\n",
    "\n",
    "    def fit(self, X, y):\n",
    "        self.y = y\n",
    "        self.res = faiss.StandardGpuResources()\n",
    "        index_flat = faiss.IndexFlatL2(X.shape[1])\n",
    "        self.gpu_index_flat = faiss.index_cpu_to_gpu(self.res, 0, index_flat)\n",
    "        self.gpu_index_flat.add(X.astype(np.float32))\n",
    "\n",
    "    def predict(self, X):\n",
    "        distances, indices = self.gpu_index_flat.search(X.astype(np.float32), k=self.k)\n",
    "        labels = self.y[indices]\n",
    "        # predictions = np.array([np.argmax(np.bincount(x)) for x in votes])\n",
    "        return labels.mean(axis = 1)"
   ]
  },
  {
   "cell_type": "code",
   "execution_count": 58,
   "id": "2b21b69e-74f4-4b19-8f21-085480c383e3",
   "metadata": {
    "tags": []
   },
   "outputs": [],
   "source": [
    "neigh_faiss10 = FaissKNeighbors_reg(k=10)\n",
    "neigh_faiss10.fit(X_train, y_train.to_numpy())"
   ]
  },
  {
   "cell_type": "code",
   "execution_count": 59,
   "id": "71884730-b860-4725-bf9c-399d1eb9e41d",
   "metadata": {
    "tags": []
   },
   "outputs": [
    {
     "name": "stdout",
     "output_type": "stream",
     "text": [
      "CPU times: user 15min 59s, sys: 46.7 s, total: 16min 46s\n",
      "Wall time: 1min 3s\n"
     ]
    }
   ],
   "source": [
    "%%time # cpu search\n",
    "y_test_pred10 = neigh_faiss10.predict(X_test)"
   ]
  },
  {
   "cell_type": "code",
   "execution_count": 60,
   "id": "03df5d98-0a8c-4a69-85e9-5dfd5b6ee573",
   "metadata": {
    "tags": []
   },
   "outputs": [
    {
     "data": {
      "text/plain": [
       "0.3874510991246196"
      ]
     },
     "execution_count": 60,
     "metadata": {},
     "output_type": "execute_result"
    }
   ],
   "source": [
    "r2_score(y_test.to_numpy(), y_test_pred10)"
   ]
  },
  {
   "cell_type": "code",
   "execution_count": 62,
   "id": "3ec1a6a2-27b0-425e-84d5-66f7f0e2f06b",
   "metadata": {
    "tags": []
   },
   "outputs": [],
   "source": [
    "neigh_faiss10gpu = FaissKNeighbors_reg_gpu(k=10)\n",
    "neigh_faiss10gpu.fit(X_train, y_train.to_numpy())"
   ]
  },
  {
   "cell_type": "code",
   "execution_count": 64,
   "id": "94c28295-7cf4-4b89-b392-40c71d24aa40",
   "metadata": {
    "tags": []
   },
   "outputs": [],
   "source": [
    "y_test_pred10gpu = neigh_faiss10gpu.predict(X_test)"
   ]
  },
  {
   "cell_type": "code",
   "execution_count": 65,
   "id": "7f465128-2091-4de5-a228-3c6d8c883113",
   "metadata": {
    "tags": []
   },
   "outputs": [
    {
     "data": {
      "text/plain": [
       "0.3874757098268281"
      ]
     },
     "execution_count": 65,
     "metadata": {},
     "output_type": "execute_result"
    }
   ],
   "source": [
    "r2_score(y_test.to_numpy(), y_test_pred10gpu)"
   ]
  },
  {
   "cell_type": "code",
   "execution_count": 33,
   "id": "b7922600-1b47-4652-ba0f-275a827c1138",
   "metadata": {
    "tags": []
   },
   "outputs": [
    {
     "name": "stdout",
     "output_type": "stream",
     "text": [
      "1255350\n"
     ]
    }
   ],
   "source": [
    "print(index.ntotal)"
   ]
  },
  {
   "cell_type": "code",
   "execution_count": 44,
   "id": "c0c482d9-864d-442d-a6cf-46044e05df4d",
   "metadata": {
    "tags": []
   },
   "outputs": [
    {
     "name": "stdout",
     "output_type": "stream",
     "text": [
      "0.05948271549352144 0.004452448846865777 0.29461203662014107 0.24968732803041677\n"
     ]
    },
    {
     "data": {
      "text/plain": [
       "0.15205863224773625"
      ]
     },
     "execution_count": 44,
     "metadata": {},
     "output_type": "execute_result"
    }
   ],
   "source": [
    "print(y_train.iloc[0], y_train.iloc[346723], y_train.iloc[1010530],y_train.iloc[1169275])\n",
    "(y_train.iloc[0]+y_train.iloc[346723]+y_train.iloc[1010530]+y_train.iloc[1169275])/4\n"
   ]
  },
  {
   "cell_type": "markdown",
   "id": "35fce8c8-604e-4c5b-b67a-1e5dcdaf1436",
   "metadata": {
    "tags": []
   },
   "source": [
    "## knn on one hot encoded"
   ]
  },
  {
   "cell_type": "code",
   "execution_count": 5,
   "id": "fa419d90-2f2c-4024-9cb3-5a795aca4bf6",
   "metadata": {
    "tags": []
   },
   "outputs": [],
   "source": [
    "df_oh_all = pd.read_pickle(\"./data_frames/dense_acs_mm_oh.pkl\")"
   ]
  },
  {
   "cell_type": "code",
   "execution_count": 6,
   "id": "f8bbebe1-d5c0-4545-b9ae-9241aaaa5db5",
   "metadata": {
    "tags": []
   },
   "outputs": [],
   "source": [
    "from sklearn.model_selection import train_test_split\n",
    "rand_seed = 21 \n",
    "X_train, X_test, y_train, y_test = train_test_split(df_oh_all.drop('PINCP', axis=1), \n",
    "                                                    df_oh_all['PINCP'], test_size = 0.2,\n",
    "                                                    random_state = rand_seed)"
   ]
  },
  {
   "cell_type": "code",
   "execution_count": 7,
   "id": "d6179e99-69bb-4697-9150-6aaec9606037",
   "metadata": {
    "tags": []
   },
   "outputs": [
    {
     "data": {
      "text/plain": [
       "((1255350, 897), (1255350,), (313838, 897), (313838,))"
      ]
     },
     "execution_count": 7,
     "metadata": {},
     "output_type": "execute_result"
    }
   ],
   "source": [
    "X_train.shape, y_train.shape, X_test.shape, y_test.shape"
   ]
  },
  {
   "cell_type": "code",
   "execution_count": 28,
   "id": "422c635a-3173-4e5a-8f2a-59b5d75bcf4a",
   "metadata": {
    "tags": []
   },
   "outputs": [],
   "source": [
    "neigh_faiss10gpu = FaissKNeighbors_reg_gpu(k=100)\n",
    "neigh_faiss10gpu.fit(X_train, y_train.to_numpy())"
   ]
  },
  {
   "cell_type": "code",
   "execution_count": 29,
   "id": "e3a21792-c7c4-4aca-8417-e03bb2c9cc01",
   "metadata": {
    "tags": []
   },
   "outputs": [
    {
     "name": "stdout",
     "output_type": "stream",
     "text": [
      "55.93799138069153\n"
     ]
    }
   ],
   "source": [
    "import time\n",
    "t1 = time.time()\n",
    "y_test_pred10gpu_oh = neigh_faiss10gpu.predict(X_test)\n",
    "t2 = time.time()\n",
    "print(t2-t1)"
   ]
  },
  {
   "cell_type": "code",
   "execution_count": 30,
   "id": "d4af595f-8933-4478-85dc-0470a106c083",
   "metadata": {
    "tags": []
   },
   "outputs": [
    {
     "data": {
      "text/plain": [
       "0.46308605613952636"
      ]
     },
     "execution_count": 30,
     "metadata": {},
     "output_type": "execute_result"
    }
   ],
   "source": [
    "r2_score(y_test, y_test_pred10gpu_oh)"
   ]
  },
  {
   "cell_type": "code",
   "execution_count": 8,
   "id": "f303f9ca-6610-4231-8c23-38cf00f6ce52",
   "metadata": {
    "tags": []
   },
   "outputs": [
    {
     "name": "stdout",
     "output_type": "stream",
     "text": [
      "num neighbors 1, r2 score -0.025556826968981206\n",
      "num neighbors 2, r2 score 0.2124044295805374\n",
      "num neighbors 3, r2 score 0.2879947689375989\n",
      "num neighbors 4, r2 score 0.3256705994881345\n",
      "num neighbors 5, r2 score 0.3482427102859478\n",
      "num neighbors 6, r2 score 0.36163376960257987\n",
      "num neighbors 7, r2 score 0.3711437347858296\n",
      "num neighbors 8, r2 score 0.3784406259074764\n",
      "num neighbors 9, r2 score 0.3834860242399991\n",
      "num neighbors 10, r2 score 0.3874757098268281\n",
      "num neighbors 11, r2 score 0.39051904732963616\n",
      "num neighbors 12, r2 score 0.3929191699035599\n",
      "num neighbors 25, r2 score 0.4003719853795501\n",
      "num neighbors 26, r2 score 0.4002578964919725\n",
      "num neighbors 27, r2 score 0.4001047287142301\n",
      "num neighbors 28, r2 score 0.40010534929374886\n",
      "num neighbors 29, r2 score 0.4000884695549648\n",
      "num neighbors 30, r2 score 0.3999541775672474\n",
      "num neighbors 31, r2 score 0.3998452500971279\n",
      "num neighbors 32, r2 score 0.3996481383068262\n",
      "num neighbors 33, r2 score 0.3994516765324686\n",
      "num neighbors 34, r2 score 0.3992411484641202\n",
      "num neighbors 35, r2 score 0.3990775506217469\n",
      "num neighbors 36, r2 score 0.3989545930303744\n",
      "num neighbors 37, r2 score 0.3987993086420749\n",
      "num neighbors 41, r2 score 0.3981007380256958\n",
      "num neighbors 53, r2 score 0.39556581225667864\n",
      "num neighbors 54, r2 score 0.39529526761080747\n",
      "num neighbors 55, r2 score 0.3951133724688568\n",
      "num neighbors 56, r2 score 0.3949559429258914\n",
      "num neighbors 57, r2 score 0.3948049388027782\n",
      "num neighbors 58, r2 score 0.3945832277264164\n",
      "num neighbors 59, r2 score 0.394398369370595\n",
      "num neighbors 60, r2 score 0.39417507950043873\n",
      "num neighbors 61, r2 score 0.3939979415812649\n",
      "num neighbors 62, r2 score 0.3938276290492684\n",
      "num neighbors 63, r2 score 0.3937273345879182\n",
      "num neighbors 64, r2 score 0.3935311710640399\n",
      "num neighbors 65, r2 score 0.3933227496871857\n",
      "num neighbors 66, r2 score 0.3931188078590684\n",
      "num neighbors 67, r2 score 0.3928633403548404\n",
      "num neighbors 68, r2 score 0.3925952622241954\n",
      "num neighbors 69, r2 score 0.39238093915235905\n",
      "num neighbors 70, r2 score 0.3922401465412725\n",
      "num neighbors 71, r2 score 0.39197516456477755\n",
      "num neighbors 72, r2 score 0.39186075083909366\n",
      "num neighbors 73, r2 score 0.3917288106836442\n",
      "num neighbors 74, r2 score 0.39158724351787677\n",
      "num neighbors 75, r2 score 0.39147261662721666\n",
      "num neighbors 76, r2 score 0.391254216689352\n",
      "num neighbors 77, r2 score 0.3910876446166236\n",
      "num neighbors 78, r2 score 0.39093058427087646\n",
      "num neighbors 79, r2 score 0.39073317649004347\n",
      "num neighbors 80, r2 score 0.39050727018594067\n",
      "num neighbors 81, r2 score 0.3903235115053688\n",
      "num neighbors 82, r2 score 0.3900647459835286\n",
      "num neighbors 83, r2 score 0.38987593386059827\n",
      "num neighbors 84, r2 score 0.38962602557572046\n",
      "num neighbors 85, r2 score 0.38945404084000523\n",
      "num neighbors 86, r2 score 0.38924646997790613\n",
      "num neighbors 87, r2 score 0.389126413410652\n",
      "num neighbors 88, r2 score 0.3889703751093848\n",
      "num neighbors 89, r2 score 0.38878028114952823\n",
      "num neighbors 90, r2 score 0.388591675121819\n",
      "num neighbors 91, r2 score 0.38840976845606845\n",
      "num neighbors 92, r2 score 0.38819396013992247\n",
      "num neighbors 93, r2 score 0.38793125221347735\n",
      "num neighbors 94, r2 score 0.38774525716101615\n",
      "num neighbors 95, r2 score 0.3875491265163902\n",
      "num neighbors 96, r2 score 0.3873551958082021\n",
      "num neighbors 97, r2 score 0.3871946641817551\n",
      "num neighbors 98, r2 score 0.38704098673272214\n",
      "num neighbors 99, r2 score 0.38688417992596924\n"
     ]
    }
   ],
   "source": [
    "# on ordinal encoded\n",
    "y_train_np = y_train.to_numpy()\n",
    "best_k = -100\n",
    "max_r2_score = -100\n",
    "for nn in range(1, 100):\n",
    "    neigh_faissgpu = FaissKNeighbors_reg_gpu(k = nn)\n",
    "    neigh_faissgpu.fit(X_train, y_train_np)\n",
    "    y_test_predgpu_oh = neigh_faissgpu.predict(X_test)\n",
    "    r2_score_now = r2_score(y_test, y_test_predgpu_oh)\n",
    "    print(f'''num neighbors {nn}, r2 score {r2_score_now}''')\n",
    "    if r2_score_now > max_r2_score:\n",
    "        max_r2_score = r2_score_now\n",
    "        best_k = nn"
   ]
  },
  {
   "cell_type": "code",
   "execution_count": 9,
   "id": "5cf8ddbe-3ea3-4622-959a-ace125ac5430",
   "metadata": {
    "tags": []
   },
   "outputs": [
    {
     "data": {
      "text/plain": [
       "(24, 0.40037727077854546)"
      ]
     },
     "execution_count": 9,
     "metadata": {},
     "output_type": "execute_result"
    }
   ],
   "source": [
    "best_k,max_r2_score # for label encoded 24 knn is best"
   ]
  },
  {
   "cell_type": "code",
   "execution_count": null,
   "id": "949b7cd6-5f54-49ae-bec8-c670adcbf5ae",
   "metadata": {
    "tags": []
   },
   "outputs": [
    {
     "name": "stdout",
     "output_type": "stream",
     "text": [
      "num neighbors 1, r2 score 0.04780358239749183\n",
      "num neighbors 2, r2 score 0.28042038939095737\n",
      "num neighbors 3, r2 score 0.35536173830996565\n",
      "num neighbors 4, r2 score 0.393087606076013\n",
      "num neighbors 5, r2 score 0.4146945702720689\n",
      "num neighbors 6, r2 score 0.42899068236882965\n",
      "num neighbors 7, r2 score 0.43870330543726765\n",
      "num neighbors 8, r2 score 0.44571126592871413\n",
      "num neighbors 9, r2 score 0.45111229354222737\n",
      "num neighbors 10, r2 score 0.455232992849551\n",
      "num neighbors 27, r2 score 0.47140483444071335\n",
      "num neighbors 28, r2 score 0.47150606297383735\n",
      "num neighbors 29, r2 score 0.471578304321823\n",
      "num neighbors 30, r2 score 0.4715370381452074\n",
      "num neighbors 31, r2 score 0.4715579209234946\n",
      "num neighbors 32, r2 score 0.4715444566705641\n",
      "num neighbors 33, r2 score 0.47148436054465614\n",
      "num neighbors 34, r2 score 0.4714370509763057\n",
      "num neighbors 35, r2 score 0.47131289499590223\n",
      "num neighbors 36, r2 score 0.4711543354148542\n",
      "num neighbors 37, r2 score 0.4712048924125418\n",
      "num neighbors 38, r2 score 0.47120321599130044\n",
      "num neighbors 39, r2 score 0.47107600898663227\n",
      "num neighbors 40, r2 score 0.47108932947195603\n",
      "num neighbors 41, r2 score 0.47093950028662546\n",
      "num neighbors 42, r2 score 0.4709490767209622\n",
      "num neighbors 43, r2 score 0.4707392700318902\n",
      "num neighbors 44, r2 score 0.47059192879188394\n",
      "num neighbors 45, r2 score 0.470452354987951\n",
      "num neighbors 46, r2 score 0.47032043339398244\n",
      "num neighbors 47, r2 score 0.470151222274543\n",
      "num neighbors 48, r2 score 0.4700790599505337\n",
      "num neighbors 49, r2 score 0.4699369179926649\n",
      "num neighbors 50, r2 score 0.4698500709474768\n",
      "num neighbors 51, r2 score 0.4697208447905401\n",
      "num neighbors 52, r2 score 0.46958914618247805\n",
      "num neighbors 53, r2 score 0.46958854772587133\n",
      "num neighbors 54, r2 score 0.4694262340369634\n",
      "num neighbors 55, r2 score 0.46923421999331216\n",
      "num neighbors 56, r2 score 0.46906229614657025\n",
      "num neighbors 57, r2 score 0.46892155083198284\n",
      "num neighbors 58, r2 score 0.4688210728320268\n",
      "num neighbors 59, r2 score 0.4686153337161729\n",
      "num neighbors 60, r2 score 0.4685171715033025\n",
      "num neighbors 61, r2 score 0.4683161516501454\n",
      "num neighbors 62, r2 score 0.4681706932355224\n",
      "num neighbors 63, r2 score 0.46798963788457026\n",
      "num neighbors 64, r2 score 0.46788775596837195\n",
      "num neighbors 65, r2 score 0.4677078494448319\n",
      "num neighbors 66, r2 score 0.4675506023500523\n",
      "num neighbors 67, r2 score 0.467428780580191\n",
      "num neighbors 68, r2 score 0.4672869949800188\n",
      "num neighbors 69, r2 score 0.46719615250035684\n",
      "num neighbors 70, r2 score 0.46696147326493886\n",
      "num neighbors 71, r2 score 0.46686360400911675\n",
      "num neighbors 72, r2 score 0.46675601305738024\n",
      "num neighbors 73, r2 score 0.46660423543698826\n",
      "num neighbors 89, r2 score 0.4645098715772472\n",
      "num neighbors 90, r2 score 0.46429332528093425\n",
      "num neighbors 91, r2 score 0.46417302842292985\n",
      "num neighbors 92, r2 score 0.4640726824031859\n",
      "num neighbors 93, r2 score 0.46391902098476157\n",
      "num neighbors 94, r2 score 0.46380387752017693\n",
      "num neighbors 95, r2 score 0.4637057583220856\n",
      "num neighbors 96, r2 score 0.46356464012782517\n",
      "num neighbors 97, r2 score 0.46341944393389445\n",
      "num neighbors 98, r2 score 0.46331395656384167\n"
     ]
    }
   ],
   "source": [
    "# for one hot encoded\n",
    "y_train_np = y_train.to_numpy()\n",
    "best_k = -100\n",
    "max_r2_score = -100\n",
    "for nn in range(1, 100):\n",
    "    neigh_faissgpu = FaissKNeighbors_reg_gpu(k = nn)\n",
    "    neigh_faissgpu.fit(X_train, y_train_np)\n",
    "    y_test_predgpu_oh = neigh_faissgpu.predict(X_test)\n",
    "    r2_score_now = r2_score(y_test, y_test_predgpu_oh)\n",
    "    print(f'''num neighbors {nn}, r2 score {r2_score_now}''')\n",
    "    if r2_score_now > max_r2_score:\n",
    "        max_r2_score = r2_score_now\n",
    "        best_k = nn"
   ]
  },
  {
   "cell_type": "code",
   "execution_count": 8,
   "id": "edd29838-d2f0-451d-b4d8-eeb16d5ae63e",
   "metadata": {
    "tags": []
   },
   "outputs": [
    {
     "name": "stdout",
     "output_type": "stream",
     "text": [
      "29 0.471578304321823\n"
     ]
    }
   ],
   "source": [
    "print(best_k, max_r2_score) # for one hot 29 knn is best"
   ]
  },
  {
   "cell_type": "code",
   "execution_count": null,
   "id": "7f33006a-f873-4cde-a89d-40b69eaa064a",
   "metadata": {},
   "outputs": [],
   "source": [
    "# next section"
   ]
  },
  {
   "cell_type": "code",
   "execution_count": 3,
   "id": "e18f4501-0d5a-442c-bf95-b21752539d0e",
   "metadata": {
    "tags": []
   },
   "outputs": [],
   "source": [
    "df_all = pd.read_pickle(\"./data_frames/dense_acs_mm_notoh.pkl\")"
   ]
  },
  {
   "cell_type": "code",
   "execution_count": 4,
   "id": "0281a01c-d4eb-4df8-810b-1df6681b0e7b",
   "metadata": {
    "tags": []
   },
   "outputs": [
    {
     "name": "stdout",
     "output_type": "stream",
     "text": [
      "12 3\n"
     ]
    }
   ],
   "source": [
    "cat_cols_sig = ['OCCP', 'SCHL', 'ST', 'JWTRNS', 'DRAT', 'COW', 'SEX', \\\n",
    "       'RELSHIPP', 'POBP', 'ENG', 'MAR', 'RAC1P'] # significant features from the earlier analysis\n",
    "numeric_cols = ['WKHP', 'AGEP', 'PINCP']\n",
    "print(len(cat_cols_sig), len(numeric_cols))"
   ]
  },
  {
   "cell_type": "code",
   "execution_count": 5,
   "id": "3a78a202-b778-4656-a386-868e54e85b84",
   "metadata": {
    "tags": []
   },
   "outputs": [
    {
     "name": "stdout",
     "output_type": "stream",
     "text": [
      "<class 'pandas.core.frame.DataFrame'>\n",
      "Int64Index: 1569188 entries, 0 to 1630166\n",
      "Data columns (total 15 columns):\n",
      " #   Column    Non-Null Count    Dtype  \n",
      "---  ------    --------------    -----  \n",
      " 0   OCCP      1569188 non-null  int64  \n",
      " 1   WKHP      1569188 non-null  float64\n",
      " 2   AGEP      1569188 non-null  float64\n",
      " 3   SCHL      1569188 non-null  int64  \n",
      " 4   ST        1569188 non-null  int64  \n",
      " 5   JWTRNS    1569188 non-null  int64  \n",
      " 6   DRAT      1569188 non-null  int64  \n",
      " 7   COW       1569188 non-null  int64  \n",
      " 8   SEX       1569188 non-null  int64  \n",
      " 9   RELSHIPP  1569188 non-null  int64  \n",
      " 10  POBP      1569188 non-null  int64  \n",
      " 11  ENG       1569188 non-null  int64  \n",
      " 12  MAR       1569188 non-null  int64  \n",
      " 13  RAC1P     1569188 non-null  int64  \n",
      " 14  PINCP     1569188 non-null  float64\n",
      "dtypes: float64(3), int64(12)\n",
      "memory usage: 191.6 MB\n"
     ]
    }
   ],
   "source": [
    "df_all.info()"
   ]
  },
  {
   "cell_type": "code",
   "execution_count": 13,
   "id": "08040c2a-b29f-4ea3-ab89-a614c8801959",
   "metadata": {
    "tags": []
   },
   "outputs": [
    {
     "data": {
      "text/html": [
       "<div>\n",
       "<style scoped>\n",
       "    .dataframe tbody tr th:only-of-type {\n",
       "        vertical-align: middle;\n",
       "    }\n",
       "\n",
       "    .dataframe tbody tr th {\n",
       "        vertical-align: top;\n",
       "    }\n",
       "\n",
       "    .dataframe thead th {\n",
       "        text-align: right;\n",
       "    }\n",
       "</style>\n",
       "<table border=\"1\" class=\"dataframe\">\n",
       "  <thead>\n",
       "    <tr style=\"text-align: right;\">\n",
       "      <th></th>\n",
       "      <th>OCCP</th>\n",
       "      <th>WKHP</th>\n",
       "      <th>AGEP</th>\n",
       "      <th>SCHL</th>\n",
       "      <th>ST</th>\n",
       "      <th>JWTRNS</th>\n",
       "      <th>DRAT</th>\n",
       "      <th>COW</th>\n",
       "      <th>SEX</th>\n",
       "      <th>RELSHIPP</th>\n",
       "      <th>POBP</th>\n",
       "      <th>ENG</th>\n",
       "      <th>MAR</th>\n",
       "      <th>RAC1P</th>\n",
       "      <th>PINCP</th>\n",
       "    </tr>\n",
       "  </thead>\n",
       "  <tbody>\n",
       "    <tr>\n",
       "      <th>0</th>\n",
       "      <td>299.0</td>\n",
       "      <td>0.295918</td>\n",
       "      <td>0.025316</td>\n",
       "      <td>17.0</td>\n",
       "      <td>0.0</td>\n",
       "      <td>0.0</td>\n",
       "      <td>0.0</td>\n",
       "      <td>1.0</td>\n",
       "      <td>1.0</td>\n",
       "      <td>18.0</td>\n",
       "      <td>47.0</td>\n",
       "      <td>0.0</td>\n",
       "      <td>4.0</td>\n",
       "      <td>0.0</td>\n",
       "      <td>0.039472</td>\n",
       "    </tr>\n",
       "    <tr>\n",
       "      <th>1</th>\n",
       "      <td>292.0</td>\n",
       "      <td>0.397959</td>\n",
       "      <td>0.037975</td>\n",
       "      <td>18.0</td>\n",
       "      <td>0.0</td>\n",
       "      <td>1.0</td>\n",
       "      <td>0.0</td>\n",
       "      <td>0.0</td>\n",
       "      <td>0.0</td>\n",
       "      <td>18.0</td>\n",
       "      <td>10.0</td>\n",
       "      <td>0.0</td>\n",
       "      <td>4.0</td>\n",
       "      <td>1.0</td>\n",
       "      <td>0.030967</td>\n",
       "    </tr>\n",
       "    <tr>\n",
       "      <th>2</th>\n",
       "      <td>325.0</td>\n",
       "      <td>0.173469</td>\n",
       "      <td>0.025316</td>\n",
       "      <td>17.0</td>\n",
       "      <td>0.0</td>\n",
       "      <td>0.0</td>\n",
       "      <td>0.0</td>\n",
       "      <td>1.0</td>\n",
       "      <td>1.0</td>\n",
       "      <td>18.0</td>\n",
       "      <td>18.0</td>\n",
       "      <td>0.0</td>\n",
       "      <td>4.0</td>\n",
       "      <td>0.0</td>\n",
       "      <td>0.030467</td>\n",
       "    </tr>\n",
       "    <tr>\n",
       "      <th>3</th>\n",
       "      <td>268.0</td>\n",
       "      <td>0.051020</td>\n",
       "      <td>0.215190</td>\n",
       "      <td>18.0</td>\n",
       "      <td>0.0</td>\n",
       "      <td>12.0</td>\n",
       "      <td>0.0</td>\n",
       "      <td>1.0</td>\n",
       "      <td>1.0</td>\n",
       "      <td>18.0</td>\n",
       "      <td>14.0</td>\n",
       "      <td>0.0</td>\n",
       "      <td>2.0</td>\n",
       "      <td>0.0</td>\n",
       "      <td>0.053479</td>\n",
       "    </tr>\n",
       "    <tr>\n",
       "      <th>4</th>\n",
       "      <td>161.0</td>\n",
       "      <td>0.091837</td>\n",
       "      <td>0.025316</td>\n",
       "      <td>17.0</td>\n",
       "      <td>0.0</td>\n",
       "      <td>0.0</td>\n",
       "      <td>0.0</td>\n",
       "      <td>0.0</td>\n",
       "      <td>0.0</td>\n",
       "      <td>18.0</td>\n",
       "      <td>32.0</td>\n",
       "      <td>0.0</td>\n",
       "      <td>4.0</td>\n",
       "      <td>0.0</td>\n",
       "      <td>0.009455</td>\n",
       "    </tr>\n",
       "  </tbody>\n",
       "</table>\n",
       "</div>"
      ],
      "text/plain": [
       "    OCCP      WKHP      AGEP  SCHL   ST  JWTRNS  DRAT  COW  SEX  RELSHIPP  \\\n",
       "0  299.0  0.295918  0.025316  17.0  0.0     0.0   0.0  1.0  1.0      18.0   \n",
       "1  292.0  0.397959  0.037975  18.0  0.0     1.0   0.0  0.0  0.0      18.0   \n",
       "2  325.0  0.173469  0.025316  17.0  0.0     0.0   0.0  1.0  1.0      18.0   \n",
       "3  268.0  0.051020  0.215190  18.0  0.0    12.0   0.0  1.0  1.0      18.0   \n",
       "4  161.0  0.091837  0.025316  17.0  0.0     0.0   0.0  0.0  0.0      18.0   \n",
       "\n",
       "   POBP  ENG  MAR  RAC1P     PINCP  \n",
       "0  47.0  0.0  4.0    0.0  0.039472  \n",
       "1  10.0  0.0  4.0    1.0  0.030967  \n",
       "2  18.0  0.0  4.0    0.0  0.030467  \n",
       "3  14.0  0.0  2.0    0.0  0.053479  \n",
       "4  32.0  0.0  4.0    0.0  0.009455  "
      ]
     },
     "execution_count": 13,
     "metadata": {},
     "output_type": "execute_result"
    }
   ],
   "source": [
    "df_all.head() #numeric has been mm scaled, categoricals still as they were in ACS encoded"
   ]
  },
  {
   "cell_type": "code",
   "execution_count": 6,
   "id": "2f7708bd-2342-4ff7-93ab-1dc2bc4c7498",
   "metadata": {
    "tags": []
   },
   "outputs": [],
   "source": [
    "from utils import ordinal_encoder"
   ]
  },
  {
   "cell_type": "code",
   "execution_count": 7,
   "id": "b40c0e72-ba1c-459f-9646-da966975529e",
   "metadata": {
    "tags": []
   },
   "outputs": [],
   "source": [
    "df_all = ordinal_encoder(df_all, cat_cols_sig)"
   ]
  },
  {
   "cell_type": "code",
   "execution_count": 69,
   "id": "c069de96-c1be-43a7-9edb-7b2281c307c1",
   "metadata": {
    "tags": []
   },
   "outputs": [
    {
     "data": {
      "text/plain": [
       "Counter({0.0: 1045807,\n",
       "         8.0: 168468,\n",
       "         1.0: 136227,\n",
       "         5.0: 100852,\n",
       "         7.0: 97582,\n",
       "         2.0: 14455,\n",
       "         6.0: 2755,\n",
       "         4.0: 2316,\n",
       "         3.0: 726})"
      ]
     },
     "execution_count": 69,
     "metadata": {},
     "output_type": "execute_result"
    }
   ],
   "source": [
    "Counter(df_all['RAC1P'])"
   ]
  },
  {
   "cell_type": "code",
   "execution_count": 14,
   "id": "dafa16a7-d9de-4e08-b5c7-1c9e1a4fd5df",
   "metadata": {
    "tags": []
   },
   "outputs": [],
   "source": [
    "from sklearn.model_selection import train_test_split\n",
    "rand_seed = 21\n",
    "df_train, df_test = train_test_split(df_all, test_size=0.2, random_state = rand_seed)"
   ]
  },
  {
   "cell_type": "code",
   "execution_count": 15,
   "id": "18ac9963-5bbf-4e27-9c15-bf1034033e7e",
   "metadata": {
    "tags": []
   },
   "outputs": [
    {
     "data": {
      "text/html": [
       "<div>\n",
       "<style scoped>\n",
       "    .dataframe tbody tr th:only-of-type {\n",
       "        vertical-align: middle;\n",
       "    }\n",
       "\n",
       "    .dataframe tbody tr th {\n",
       "        vertical-align: top;\n",
       "    }\n",
       "\n",
       "    .dataframe thead th {\n",
       "        text-align: right;\n",
       "    }\n",
       "</style>\n",
       "<table border=\"1\" class=\"dataframe\">\n",
       "  <thead>\n",
       "    <tr style=\"text-align: right;\">\n",
       "      <th></th>\n",
       "      <th>OCCP</th>\n",
       "      <th>WKHP</th>\n",
       "      <th>AGEP</th>\n",
       "      <th>SCHL</th>\n",
       "      <th>ST</th>\n",
       "      <th>JWTRNS</th>\n",
       "      <th>DRAT</th>\n",
       "      <th>COW</th>\n",
       "      <th>SEX</th>\n",
       "      <th>RELSHIPP</th>\n",
       "      <th>POBP</th>\n",
       "      <th>ENG</th>\n",
       "      <th>MAR</th>\n",
       "      <th>RAC1P</th>\n",
       "      <th>PINCP</th>\n",
       "    </tr>\n",
       "  </thead>\n",
       "  <tbody>\n",
       "    <tr>\n",
       "      <th>1282566</th>\n",
       "      <td>34.0</td>\n",
       "      <td>0.071429</td>\n",
       "      <td>0.468354</td>\n",
       "      <td>19.0</td>\n",
       "      <td>39.0</td>\n",
       "      <td>11.0</td>\n",
       "      <td>0.0</td>\n",
       "      <td>0.0</td>\n",
       "      <td>1.0</td>\n",
       "      <td>5.0</td>\n",
       "      <td>32.0</td>\n",
       "      <td>1.0</td>\n",
       "      <td>4.0</td>\n",
       "      <td>1.0</td>\n",
       "      <td>0.059483</td>\n",
       "    </tr>\n",
       "    <tr>\n",
       "      <th>979236</th>\n",
       "      <td>269.0</td>\n",
       "      <td>0.397959</td>\n",
       "      <td>0.278481</td>\n",
       "      <td>3.0</td>\n",
       "      <td>31.0</td>\n",
       "      <td>1.0</td>\n",
       "      <td>0.0</td>\n",
       "      <td>0.0</td>\n",
       "      <td>1.0</td>\n",
       "      <td>1.0</td>\n",
       "      <td>55.0</td>\n",
       "      <td>0.0</td>\n",
       "      <td>0.0</td>\n",
       "      <td>0.0</td>\n",
       "      <td>0.139527</td>\n",
       "    </tr>\n",
       "    <tr>\n",
       "      <th>1495594</th>\n",
       "      <td>260.0</td>\n",
       "      <td>0.397959</td>\n",
       "      <td>0.316456</td>\n",
       "      <td>18.0</td>\n",
       "      <td>45.0</td>\n",
       "      <td>0.0</td>\n",
       "      <td>0.0</td>\n",
       "      <td>0.0</td>\n",
       "      <td>1.0</td>\n",
       "      <td>1.0</td>\n",
       "      <td>46.0</td>\n",
       "      <td>0.0</td>\n",
       "      <td>0.0</td>\n",
       "      <td>0.0</td>\n",
       "      <td>0.155536</td>\n",
       "    </tr>\n",
       "    <tr>\n",
       "      <th>1380416</th>\n",
       "      <td>268.0</td>\n",
       "      <td>0.397959</td>\n",
       "      <td>0.468354</td>\n",
       "      <td>18.0</td>\n",
       "      <td>42.0</td>\n",
       "      <td>1.0</td>\n",
       "      <td>0.0</td>\n",
       "      <td>0.0</td>\n",
       "      <td>0.0</td>\n",
       "      <td>5.0</td>\n",
       "      <td>43.0</td>\n",
       "      <td>0.0</td>\n",
       "      <td>2.0</td>\n",
       "      <td>0.0</td>\n",
       "      <td>0.029466</td>\n",
       "    </tr>\n",
       "    <tr>\n",
       "      <th>921721</th>\n",
       "      <td>323.0</td>\n",
       "      <td>0.397959</td>\n",
       "      <td>0.506329</td>\n",
       "      <td>15.0</td>\n",
       "      <td>29.0</td>\n",
       "      <td>1.0</td>\n",
       "      <td>0.0</td>\n",
       "      <td>2.0</td>\n",
       "      <td>1.0</td>\n",
       "      <td>1.0</td>\n",
       "      <td>30.0</td>\n",
       "      <td>0.0</td>\n",
       "      <td>0.0</td>\n",
       "      <td>0.0</td>\n",
       "      <td>0.159538</td>\n",
       "    </tr>\n",
       "  </tbody>\n",
       "</table>\n",
       "</div>"
      ],
      "text/plain": [
       "          OCCP      WKHP      AGEP  SCHL    ST  JWTRNS  DRAT  COW  SEX  \\\n",
       "1282566   34.0  0.071429  0.468354  19.0  39.0    11.0   0.0  0.0  1.0   \n",
       "979236   269.0  0.397959  0.278481   3.0  31.0     1.0   0.0  0.0  1.0   \n",
       "1495594  260.0  0.397959  0.316456  18.0  45.0     0.0   0.0  0.0  1.0   \n",
       "1380416  268.0  0.397959  0.468354  18.0  42.0     1.0   0.0  0.0  0.0   \n",
       "921721   323.0  0.397959  0.506329  15.0  29.0     1.0   0.0  2.0  1.0   \n",
       "\n",
       "         RELSHIPP  POBP  ENG  MAR  RAC1P     PINCP  \n",
       "1282566       5.0  32.0  1.0  4.0    1.0  0.059483  \n",
       "979236        1.0  55.0  0.0  0.0    0.0  0.139527  \n",
       "1495594       1.0  46.0  0.0  0.0    0.0  0.155536  \n",
       "1380416       5.0  43.0  0.0  2.0    0.0  0.029466  \n",
       "921721        1.0  30.0  0.0  0.0    0.0  0.159538  "
      ]
     },
     "execution_count": 15,
     "metadata": {},
     "output_type": "execute_result"
    }
   ],
   "source": [
    "df_train.head()"
   ]
  },
  {
   "cell_type": "code",
   "execution_count": 16,
   "id": "797e8f3a-0ca6-49c3-9325-8ce40164cba8",
   "metadata": {
    "tags": []
   },
   "outputs": [
    {
     "data": {
      "text/plain": [
       "Counter({0.0: 836563,\n",
       "         8.0: 134697,\n",
       "         1.0: 108927,\n",
       "         5.0: 80758,\n",
       "         7.0: 78125,\n",
       "         2.0: 11646,\n",
       "         6.0: 2207,\n",
       "         4.0: 1854,\n",
       "         3.0: 573})"
      ]
     },
     "execution_count": 16,
     "metadata": {},
     "output_type": "execute_result"
    }
   ],
   "source": [
    "from collections import Counter\n",
    "Counter(df_train['RAC1P'])"
   ]
  },
  {
   "cell_type": "code",
   "execution_count": 17,
   "id": "6db48848-d4e3-4906-8866-83d766fcb00c",
   "metadata": {
    "tags": []
   },
   "outputs": [],
   "source": [
    "y_train = df_train['PINCP']\n",
    "X_train = df_train.drop(['PINCP'], axis=1, inplace = False)"
   ]
  },
  {
   "cell_type": "code",
   "execution_count": 18,
   "id": "da3b5ed1-c702-416d-ba07-d053e94adf62",
   "metadata": {
    "tags": []
   },
   "outputs": [],
   "source": [
    "y_test = df_test['PINCP']\n",
    "X_test = df_test.drop(['PINCP'], axis=1, inplace = False)"
   ]
  },
  {
   "cell_type": "markdown",
   "id": "d92f5e47-0b7e-4b57-a898-a86fa2284044",
   "metadata": {
    "tags": []
   },
   "source": [
    "# Grid search for \"best\" decision tree"
   ]
  },
  {
   "cell_type": "code",
   "execution_count": 47,
   "id": "43a5266b-9271-4cd9-b48c-6f031f248138",
   "metadata": {
    "tags": []
   },
   "outputs": [],
   "source": [
    "from sklearn.model_selection import KFold, GridSearchCV\n",
    "# cv = KFold(n_splits=5)"
   ]
  },
  {
   "cell_type": "code",
   "execution_count": 121,
   "id": "a8384a3c-8847-446e-8042-5e3bee64a735",
   "metadata": {
    "tags": []
   },
   "outputs": [],
   "source": [
    "grid = dict()\n",
    "max_depth = np.arange(1, 20)\n",
    "splitter = ['best', 'random']\n",
    "min_samples_leaf = [0.001, 0.01, 0.1]\n",
    "min_samples_split = [0.001, 0.005]\n",
    "\n",
    "\n",
    "grid_dt = {'max_depth': max_depth,\n",
    "               'splitter': splitter,\n",
    "               'min_samples_leaf': min_samples_leaf,\n",
    "               'min_samples_split': min_samples_split}"
   ]
  },
  {
   "cell_type": "code",
   "execution_count": 122,
   "id": "8eb0004a-b2af-4cfd-9713-0551e2b7ffba",
   "metadata": {
    "tags": []
   },
   "outputs": [
    {
     "data": {
      "text/plain": [
       "{'max_depth': array([ 1,  2,  3,  4,  5,  6,  7,  8,  9, 10, 11, 12, 13, 14, 15, 16, 17,\n",
       "        18, 19]),\n",
       " 'splitter': ['best', 'random'],\n",
       " 'min_samples_leaf': [0.001, 0.01, 0.1],\n",
       " 'min_samples_split': [0.001, 0.005]}"
      ]
     },
     "execution_count": 122,
     "metadata": {},
     "output_type": "execute_result"
    }
   ],
   "source": [
    "grid_dt"
   ]
  },
  {
   "cell_type": "code",
   "execution_count": null,
   "id": "6780e4e4-69a3-431c-b683-b3dc09df8d8a",
   "metadata": {
    "tags": []
   },
   "outputs": [
    {
     "name": "stdout",
     "output_type": "stream",
     "text": [
      "Fitting 5 folds for each of 228 candidates, totalling 1140 fits\n"
     ]
    }
   ],
   "source": [
    "from sklearn import tree\n",
    "dtree_reg = tree.DecisionTreeRegressor()\n",
    "grid_search = GridSearchCV(estimator = dtree_reg, param_grid = grid_dt, n_jobs=4, verbose=10)\n",
    "grid_result = grid_search.fit(X_train, y_train)"
   ]
  },
  {
   "cell_type": "code",
   "execution_count": null,
   "id": "3eb1feb8-5bed-482d-814c-a7ff1188030d",
   "metadata": {
    "tags": []
   },
   "outputs": [],
   "source": [
    "print(\"Best: %f using %s\" % (grid_result.best_score_, grid_result.best_params_))"
   ]
  },
  {
   "cell_type": "code",
   "execution_count": 76,
   "id": "cea0f32a-f3b8-4965-aed9-dd8376a366a1",
   "metadata": {
    "tags": []
   },
   "outputs": [],
   "source": [
    "from sklearn import tree\n",
    "dtree_reg = tree.DecisionTreeRegressor()"
   ]
  },
  {
   "cell_type": "code",
   "execution_count": 77,
   "id": "6dc08a87-4601-43be-8327-a8517db7a04c",
   "metadata": {
    "tags": []
   },
   "outputs": [],
   "source": [
    "grid_search = GridSearchCV(estimator=dtree_reg, param_grid=grid, n_jobs=4, cv=cv)"
   ]
  },
  {
   "cell_type": "code",
   "execution_count": 78,
   "id": "01aa2f3d-83d4-40f9-8436-a0d34a625642",
   "metadata": {
    "tags": []
   },
   "outputs": [],
   "source": [
    "grid_result = grid_search.fit(X_train, y_train)"
   ]
  },
  {
   "cell_type": "code",
   "execution_count": 79,
   "id": "4a4a79bb-5df8-4f6c-a364-4e352c953be0",
   "metadata": {
    "tags": []
   },
   "outputs": [
    {
     "name": "stdout",
     "output_type": "stream",
     "text": [
      "Best: 0.493448 using {'max_depth': 13}\n"
     ]
    }
   ],
   "source": [
    "print(\"Best: %f using %s\" % (grid_result.best_score_, grid_result.best_params_))\n"
   ]
  },
  {
   "cell_type": "code",
   "execution_count": null,
   "id": "c20efcda-fe55-4efd-84f5-7eae3eafab60",
   "metadata": {},
   "outputs": [],
   "source": []
  },
  {
   "cell_type": "code",
   "execution_count": 81,
   "id": "a503a86f-c290-4616-9fd0-4161f30d603b",
   "metadata": {
    "tags": []
   },
   "outputs": [],
   "source": [
    "dtree_reg_best = tree.DecisionTreeRegressor(max_depth = 13)"
   ]
  },
  {
   "cell_type": "code",
   "execution_count": 82,
   "id": "f6e40bdc-8885-4c9f-bd24-8d43d30f257a",
   "metadata": {
    "tags": []
   },
   "outputs": [
    {
     "data": {
      "text/html": [
       "<style>#sk-container-id-4 {color: black;}#sk-container-id-4 pre{padding: 0;}#sk-container-id-4 div.sk-toggleable {background-color: white;}#sk-container-id-4 label.sk-toggleable__label {cursor: pointer;display: block;width: 100%;margin-bottom: 0;padding: 0.3em;box-sizing: border-box;text-align: center;}#sk-container-id-4 label.sk-toggleable__label-arrow:before {content: \"▸\";float: left;margin-right: 0.25em;color: #696969;}#sk-container-id-4 label.sk-toggleable__label-arrow:hover:before {color: black;}#sk-container-id-4 div.sk-estimator:hover label.sk-toggleable__label-arrow:before {color: black;}#sk-container-id-4 div.sk-toggleable__content {max-height: 0;max-width: 0;overflow: hidden;text-align: left;background-color: #f0f8ff;}#sk-container-id-4 div.sk-toggleable__content pre {margin: 0.2em;color: black;border-radius: 0.25em;background-color: #f0f8ff;}#sk-container-id-4 input.sk-toggleable__control:checked~div.sk-toggleable__content {max-height: 200px;max-width: 100%;overflow: auto;}#sk-container-id-4 input.sk-toggleable__control:checked~label.sk-toggleable__label-arrow:before {content: \"▾\";}#sk-container-id-4 div.sk-estimator input.sk-toggleable__control:checked~label.sk-toggleable__label {background-color: #d4ebff;}#sk-container-id-4 div.sk-label input.sk-toggleable__control:checked~label.sk-toggleable__label {background-color: #d4ebff;}#sk-container-id-4 input.sk-hidden--visually {border: 0;clip: rect(1px 1px 1px 1px);clip: rect(1px, 1px, 1px, 1px);height: 1px;margin: -1px;overflow: hidden;padding: 0;position: absolute;width: 1px;}#sk-container-id-4 div.sk-estimator {font-family: monospace;background-color: #f0f8ff;border: 1px dotted black;border-radius: 0.25em;box-sizing: border-box;margin-bottom: 0.5em;}#sk-container-id-4 div.sk-estimator:hover {background-color: #d4ebff;}#sk-container-id-4 div.sk-parallel-item::after {content: \"\";width: 100%;border-bottom: 1px solid gray;flex-grow: 1;}#sk-container-id-4 div.sk-label:hover label.sk-toggleable__label {background-color: #d4ebff;}#sk-container-id-4 div.sk-serial::before {content: \"\";position: absolute;border-left: 1px solid gray;box-sizing: border-box;top: 0;bottom: 0;left: 50%;z-index: 0;}#sk-container-id-4 div.sk-serial {display: flex;flex-direction: column;align-items: center;background-color: white;padding-right: 0.2em;padding-left: 0.2em;position: relative;}#sk-container-id-4 div.sk-item {position: relative;z-index: 1;}#sk-container-id-4 div.sk-parallel {display: flex;align-items: stretch;justify-content: center;background-color: white;position: relative;}#sk-container-id-4 div.sk-item::before, #sk-container-id-4 div.sk-parallel-item::before {content: \"\";position: absolute;border-left: 1px solid gray;box-sizing: border-box;top: 0;bottom: 0;left: 50%;z-index: -1;}#sk-container-id-4 div.sk-parallel-item {display: flex;flex-direction: column;z-index: 1;position: relative;background-color: white;}#sk-container-id-4 div.sk-parallel-item:first-child::after {align-self: flex-end;width: 50%;}#sk-container-id-4 div.sk-parallel-item:last-child::after {align-self: flex-start;width: 50%;}#sk-container-id-4 div.sk-parallel-item:only-child::after {width: 0;}#sk-container-id-4 div.sk-dashed-wrapped {border: 1px dashed gray;margin: 0 0.4em 0.5em 0.4em;box-sizing: border-box;padding-bottom: 0.4em;background-color: white;}#sk-container-id-4 div.sk-label label {font-family: monospace;font-weight: bold;display: inline-block;line-height: 1.2em;}#sk-container-id-4 div.sk-label-container {text-align: center;}#sk-container-id-4 div.sk-container {/* jupyter's `normalize.less` sets `[hidden] { display: none; }` but bootstrap.min.css set `[hidden] { display: none !important; }` so we also need the `!important` here to be able to override the default hidden behavior on the sphinx rendered scikit-learn.org. See: https://github.com/scikit-learn/scikit-learn/issues/21755 */display: inline-block !important;position: relative;}#sk-container-id-4 div.sk-text-repr-fallback {display: none;}</style><div id=\"sk-container-id-4\" class=\"sk-top-container\"><div class=\"sk-text-repr-fallback\"><pre>DecisionTreeRegressor(max_depth=13)</pre><b>In a Jupyter environment, please rerun this cell to show the HTML representation or trust the notebook. <br />On GitHub, the HTML representation is unable to render, please try loading this page with nbviewer.org.</b></div><div class=\"sk-container\" hidden><div class=\"sk-item\"><div class=\"sk-estimator sk-toggleable\"><input class=\"sk-toggleable__control sk-hidden--visually\" id=\"sk-estimator-id-4\" type=\"checkbox\" checked><label for=\"sk-estimator-id-4\" class=\"sk-toggleable__label sk-toggleable__label-arrow\">DecisionTreeRegressor</label><div class=\"sk-toggleable__content\"><pre>DecisionTreeRegressor(max_depth=13)</pre></div></div></div></div></div>"
      ],
      "text/plain": [
       "DecisionTreeRegressor(max_depth=13)"
      ]
     },
     "execution_count": 82,
     "metadata": {},
     "output_type": "execute_result"
    }
   ],
   "source": [
    "dtree_reg_best.fit(X_train, y_train)"
   ]
  },
  {
   "cell_type": "code",
   "execution_count": 84,
   "id": "2b182a9c-0d08-4939-b1e0-d00efdb170f8",
   "metadata": {
    "tags": []
   },
   "outputs": [
    {
     "data": {
      "text/plain": [
       "0.5258775521586688"
      ]
     },
     "execution_count": 84,
     "metadata": {},
     "output_type": "execute_result"
    }
   ],
   "source": [
    "dtree_reg_best.score(X_train, y_train)"
   ]
  },
  {
   "cell_type": "code",
   "execution_count": 83,
   "id": "ad4bf9f5-a478-41c4-a8a0-168d6d15b132",
   "metadata": {
    "tags": []
   },
   "outputs": [
    {
     "data": {
      "text/plain": [
       "0.5002549062826196"
      ]
     },
     "execution_count": 83,
     "metadata": {},
     "output_type": "execute_result"
    }
   ],
   "source": [
    "dtree_reg_best.score(X_test, y_test)"
   ]
  },
  {
   "cell_type": "markdown",
   "id": "c6e522ef-850b-4c9c-a84c-1d5165dfedb5",
   "metadata": {},
   "source": [
    "# Grid search for \"best\" random forest"
   ]
  },
  {
   "cell_type": "code",
   "execution_count": 95,
   "id": "3edfe015-e847-4237-adf3-c342bbc66578",
   "metadata": {
    "tags": []
   },
   "outputs": [],
   "source": [
    "# Number of trees in random forest\n",
    "n_estimators = [int(x) for x in np.linspace(start = 10, stop = 1000, num = 10)]\n",
    "# Number of features to consider at every split\n",
    "max_features = ['auto', 'sqrt']\n",
    "# Maximum number of levels in tree\n",
    "max_depth = [int(x) for x in np.linspace(1, 20, num = 11)]\n",
    "max_depth.append(None)\n",
    "# Minimum number of samples required to split a node\n",
    "min_samples_split = [2, 5, 10]\n",
    "# Minimum number of samples required at each leaf node\n",
    "min_samples_leaf = [1, 2, 4]\n",
    "# Method of selecting samples for training each tree\n",
    "bootstrap = [True, False]\n",
    "# Create the random grid"
   ]
  },
  {
   "cell_type": "code",
   "execution_count": 101,
   "id": "ac295d5a-3e62-4a20-9af7-bee136a7cdd0",
   "metadata": {
    "tags": []
   },
   "outputs": [],
   "source": [
    "n_estimators = [10, 100, 500]\n",
    "max_depth = [5, 10, 15]"
   ]
  },
  {
   "cell_type": "code",
   "execution_count": 102,
   "id": "28a35fb2-ce85-4f01-acf4-35c53c6fad4a",
   "metadata": {
    "tags": []
   },
   "outputs": [],
   "source": [
    "grid_rf = {'n_estimators': n_estimators,\n",
    "               'max_features': max_features,\n",
    "               'max_depth': max_depth,\n",
    "               'min_samples_split': min_samples_split,\n",
    "               'min_samples_leaf': min_samples_leaf,\n",
    "               'bootstrap': bootstrap}"
   ]
  },
  {
   "cell_type": "code",
   "execution_count": 104,
   "id": "4d1343b9-0c5b-40dd-ac58-033147a40b98",
   "metadata": {
    "collapsed": true,
    "jupyter": {
     "outputs_hidden": true
    },
    "tags": []
   },
   "outputs": [
    {
     "ename": "KeyboardInterrupt",
     "evalue": "",
     "output_type": "error",
     "traceback": [
      "\u001b[0;31m---------------------------------------------------------------------------\u001b[0m",
      "\u001b[0;31mKeyboardInterrupt\u001b[0m                         Traceback (most recent call last)",
      "Cell \u001b[0;32mIn[104], line 4\u001b[0m\n\u001b[1;32m      2\u001b[0m cv \u001b[38;5;241m=\u001b[39m KFold(n_splits\u001b[38;5;241m=\u001b[39m\u001b[38;5;241m3\u001b[39m)\n\u001b[1;32m      3\u001b[0m grid_search \u001b[38;5;241m=\u001b[39m GridSearchCV(estimator\u001b[38;5;241m=\u001b[39mrf, param_grid \u001b[38;5;241m=\u001b[39m grid_rf, n_jobs\u001b[38;5;241m=\u001b[39m\u001b[38;5;241m4\u001b[39m, cv\u001b[38;5;241m=\u001b[39mcv)\n\u001b[0;32m----> 4\u001b[0m grid_result \u001b[38;5;241m=\u001b[39m \u001b[43mgrid_search\u001b[49m\u001b[38;5;241;43m.\u001b[39;49m\u001b[43mfit\u001b[49m\u001b[43m(\u001b[49m\u001b[43mX_train\u001b[49m\u001b[43m,\u001b[49m\u001b[43m \u001b[49m\u001b[43my_train\u001b[49m\u001b[43m)\u001b[49m\n",
      "File \u001b[0;32m~/.conda/envs/biasbounties/lib/python3.10/site-packages/sklearn/base.py:1151\u001b[0m, in \u001b[0;36m_fit_context.<locals>.decorator.<locals>.wrapper\u001b[0;34m(estimator, *args, **kwargs)\u001b[0m\n\u001b[1;32m   1144\u001b[0m     estimator\u001b[38;5;241m.\u001b[39m_validate_params()\n\u001b[1;32m   1146\u001b[0m \u001b[38;5;28;01mwith\u001b[39;00m config_context(\n\u001b[1;32m   1147\u001b[0m     skip_parameter_validation\u001b[38;5;241m=\u001b[39m(\n\u001b[1;32m   1148\u001b[0m         prefer_skip_nested_validation \u001b[38;5;129;01mor\u001b[39;00m global_skip_validation\n\u001b[1;32m   1149\u001b[0m     )\n\u001b[1;32m   1150\u001b[0m ):\n\u001b[0;32m-> 1151\u001b[0m     \u001b[38;5;28;01mreturn\u001b[39;00m \u001b[43mfit_method\u001b[49m\u001b[43m(\u001b[49m\u001b[43mestimator\u001b[49m\u001b[43m,\u001b[49m\u001b[43m \u001b[49m\u001b[38;5;241;43m*\u001b[39;49m\u001b[43margs\u001b[49m\u001b[43m,\u001b[49m\u001b[43m \u001b[49m\u001b[38;5;241;43m*\u001b[39;49m\u001b[38;5;241;43m*\u001b[39;49m\u001b[43mkwargs\u001b[49m\u001b[43m)\u001b[49m\n",
      "File \u001b[0;32m~/.conda/envs/biasbounties/lib/python3.10/site-packages/sklearn/model_selection/_search.py:898\u001b[0m, in \u001b[0;36mBaseSearchCV.fit\u001b[0;34m(self, X, y, groups, **fit_params)\u001b[0m\n\u001b[1;32m    892\u001b[0m     results \u001b[38;5;241m=\u001b[39m \u001b[38;5;28mself\u001b[39m\u001b[38;5;241m.\u001b[39m_format_results(\n\u001b[1;32m    893\u001b[0m         all_candidate_params, n_splits, all_out, all_more_results\n\u001b[1;32m    894\u001b[0m     )\n\u001b[1;32m    896\u001b[0m     \u001b[38;5;28;01mreturn\u001b[39;00m results\n\u001b[0;32m--> 898\u001b[0m \u001b[38;5;28;43mself\u001b[39;49m\u001b[38;5;241;43m.\u001b[39;49m\u001b[43m_run_search\u001b[49m\u001b[43m(\u001b[49m\u001b[43mevaluate_candidates\u001b[49m\u001b[43m)\u001b[49m\n\u001b[1;32m    900\u001b[0m \u001b[38;5;66;03m# multimetric is determined here because in the case of a callable\u001b[39;00m\n\u001b[1;32m    901\u001b[0m \u001b[38;5;66;03m# self.scoring the return type is only known after calling\u001b[39;00m\n\u001b[1;32m    902\u001b[0m first_test_score \u001b[38;5;241m=\u001b[39m all_out[\u001b[38;5;241m0\u001b[39m][\u001b[38;5;124m\"\u001b[39m\u001b[38;5;124mtest_scores\u001b[39m\u001b[38;5;124m\"\u001b[39m]\n",
      "File \u001b[0;32m~/.conda/envs/biasbounties/lib/python3.10/site-packages/sklearn/model_selection/_search.py:1419\u001b[0m, in \u001b[0;36mGridSearchCV._run_search\u001b[0;34m(self, evaluate_candidates)\u001b[0m\n\u001b[1;32m   1417\u001b[0m \u001b[38;5;28;01mdef\u001b[39;00m \u001b[38;5;21m_run_search\u001b[39m(\u001b[38;5;28mself\u001b[39m, evaluate_candidates):\n\u001b[1;32m   1418\u001b[0m \u001b[38;5;250m    \u001b[39m\u001b[38;5;124;03m\"\"\"Search all candidates in param_grid\"\"\"\u001b[39;00m\n\u001b[0;32m-> 1419\u001b[0m     \u001b[43mevaluate_candidates\u001b[49m\u001b[43m(\u001b[49m\u001b[43mParameterGrid\u001b[49m\u001b[43m(\u001b[49m\u001b[38;5;28;43mself\u001b[39;49m\u001b[38;5;241;43m.\u001b[39;49m\u001b[43mparam_grid\u001b[49m\u001b[43m)\u001b[49m\u001b[43m)\u001b[49m\n",
      "File \u001b[0;32m~/.conda/envs/biasbounties/lib/python3.10/site-packages/sklearn/model_selection/_search.py:845\u001b[0m, in \u001b[0;36mBaseSearchCV.fit.<locals>.evaluate_candidates\u001b[0;34m(candidate_params, cv, more_results)\u001b[0m\n\u001b[1;32m    837\u001b[0m \u001b[38;5;28;01mif\u001b[39;00m \u001b[38;5;28mself\u001b[39m\u001b[38;5;241m.\u001b[39mverbose \u001b[38;5;241m>\u001b[39m \u001b[38;5;241m0\u001b[39m:\n\u001b[1;32m    838\u001b[0m     \u001b[38;5;28mprint\u001b[39m(\n\u001b[1;32m    839\u001b[0m         \u001b[38;5;124m\"\u001b[39m\u001b[38;5;124mFitting \u001b[39m\u001b[38;5;132;01m{0}\u001b[39;00m\u001b[38;5;124m folds for each of \u001b[39m\u001b[38;5;132;01m{1}\u001b[39;00m\u001b[38;5;124m candidates,\u001b[39m\u001b[38;5;124m\"\u001b[39m\n\u001b[1;32m    840\u001b[0m         \u001b[38;5;124m\"\u001b[39m\u001b[38;5;124m totalling \u001b[39m\u001b[38;5;132;01m{2}\u001b[39;00m\u001b[38;5;124m fits\u001b[39m\u001b[38;5;124m\"\u001b[39m\u001b[38;5;241m.\u001b[39mformat(\n\u001b[1;32m    841\u001b[0m             n_splits, n_candidates, n_candidates \u001b[38;5;241m*\u001b[39m n_splits\n\u001b[1;32m    842\u001b[0m         )\n\u001b[1;32m    843\u001b[0m     )\n\u001b[0;32m--> 845\u001b[0m out \u001b[38;5;241m=\u001b[39m \u001b[43mparallel\u001b[49m\u001b[43m(\u001b[49m\n\u001b[1;32m    846\u001b[0m \u001b[43m    \u001b[49m\u001b[43mdelayed\u001b[49m\u001b[43m(\u001b[49m\u001b[43m_fit_and_score\u001b[49m\u001b[43m)\u001b[49m\u001b[43m(\u001b[49m\n\u001b[1;32m    847\u001b[0m \u001b[43m        \u001b[49m\u001b[43mclone\u001b[49m\u001b[43m(\u001b[49m\u001b[43mbase_estimator\u001b[49m\u001b[43m)\u001b[49m\u001b[43m,\u001b[49m\n\u001b[1;32m    848\u001b[0m \u001b[43m        \u001b[49m\u001b[43mX\u001b[49m\u001b[43m,\u001b[49m\n\u001b[1;32m    849\u001b[0m \u001b[43m        \u001b[49m\u001b[43my\u001b[49m\u001b[43m,\u001b[49m\n\u001b[1;32m    850\u001b[0m \u001b[43m        \u001b[49m\u001b[43mtrain\u001b[49m\u001b[38;5;241;43m=\u001b[39;49m\u001b[43mtrain\u001b[49m\u001b[43m,\u001b[49m\n\u001b[1;32m    851\u001b[0m \u001b[43m        \u001b[49m\u001b[43mtest\u001b[49m\u001b[38;5;241;43m=\u001b[39;49m\u001b[43mtest\u001b[49m\u001b[43m,\u001b[49m\n\u001b[1;32m    852\u001b[0m \u001b[43m        \u001b[49m\u001b[43mparameters\u001b[49m\u001b[38;5;241;43m=\u001b[39;49m\u001b[43mparameters\u001b[49m\u001b[43m,\u001b[49m\n\u001b[1;32m    853\u001b[0m \u001b[43m        \u001b[49m\u001b[43msplit_progress\u001b[49m\u001b[38;5;241;43m=\u001b[39;49m\u001b[43m(\u001b[49m\u001b[43msplit_idx\u001b[49m\u001b[43m,\u001b[49m\u001b[43m \u001b[49m\u001b[43mn_splits\u001b[49m\u001b[43m)\u001b[49m\u001b[43m,\u001b[49m\n\u001b[1;32m    854\u001b[0m \u001b[43m        \u001b[49m\u001b[43mcandidate_progress\u001b[49m\u001b[38;5;241;43m=\u001b[39;49m\u001b[43m(\u001b[49m\u001b[43mcand_idx\u001b[49m\u001b[43m,\u001b[49m\u001b[43m \u001b[49m\u001b[43mn_candidates\u001b[49m\u001b[43m)\u001b[49m\u001b[43m,\u001b[49m\n\u001b[1;32m    855\u001b[0m \u001b[43m        \u001b[49m\u001b[38;5;241;43m*\u001b[39;49m\u001b[38;5;241;43m*\u001b[39;49m\u001b[43mfit_and_score_kwargs\u001b[49m\u001b[43m,\u001b[49m\n\u001b[1;32m    856\u001b[0m \u001b[43m    \u001b[49m\u001b[43m)\u001b[49m\n\u001b[1;32m    857\u001b[0m \u001b[43m    \u001b[49m\u001b[38;5;28;43;01mfor\u001b[39;49;00m\u001b[43m \u001b[49m\u001b[43m(\u001b[49m\u001b[43mcand_idx\u001b[49m\u001b[43m,\u001b[49m\u001b[43m \u001b[49m\u001b[43mparameters\u001b[49m\u001b[43m)\u001b[49m\u001b[43m,\u001b[49m\u001b[43m \u001b[49m\u001b[43m(\u001b[49m\u001b[43msplit_idx\u001b[49m\u001b[43m,\u001b[49m\u001b[43m \u001b[49m\u001b[43m(\u001b[49m\u001b[43mtrain\u001b[49m\u001b[43m,\u001b[49m\u001b[43m \u001b[49m\u001b[43mtest\u001b[49m\u001b[43m)\u001b[49m\u001b[43m)\u001b[49m\u001b[43m \u001b[49m\u001b[38;5;129;43;01min\u001b[39;49;00m\u001b[43m \u001b[49m\u001b[43mproduct\u001b[49m\u001b[43m(\u001b[49m\n\u001b[1;32m    858\u001b[0m \u001b[43m        \u001b[49m\u001b[38;5;28;43menumerate\u001b[39;49m\u001b[43m(\u001b[49m\u001b[43mcandidate_params\u001b[49m\u001b[43m)\u001b[49m\u001b[43m,\u001b[49m\u001b[43m \u001b[49m\u001b[38;5;28;43menumerate\u001b[39;49m\u001b[43m(\u001b[49m\u001b[43mcv\u001b[49m\u001b[38;5;241;43m.\u001b[39;49m\u001b[43msplit\u001b[49m\u001b[43m(\u001b[49m\u001b[43mX\u001b[49m\u001b[43m,\u001b[49m\u001b[43m \u001b[49m\u001b[43my\u001b[49m\u001b[43m,\u001b[49m\u001b[43m \u001b[49m\u001b[43mgroups\u001b[49m\u001b[43m)\u001b[49m\u001b[43m)\u001b[49m\n\u001b[1;32m    859\u001b[0m \u001b[43m    \u001b[49m\u001b[43m)\u001b[49m\n\u001b[1;32m    860\u001b[0m \u001b[43m\u001b[49m\u001b[43m)\u001b[49m\n\u001b[1;32m    862\u001b[0m \u001b[38;5;28;01mif\u001b[39;00m \u001b[38;5;28mlen\u001b[39m(out) \u001b[38;5;241m<\u001b[39m \u001b[38;5;241m1\u001b[39m:\n\u001b[1;32m    863\u001b[0m     \u001b[38;5;28;01mraise\u001b[39;00m \u001b[38;5;167;01mValueError\u001b[39;00m(\n\u001b[1;32m    864\u001b[0m         \u001b[38;5;124m\"\u001b[39m\u001b[38;5;124mNo fits were performed. \u001b[39m\u001b[38;5;124m\"\u001b[39m\n\u001b[1;32m    865\u001b[0m         \u001b[38;5;124m\"\u001b[39m\u001b[38;5;124mWas the CV iterator empty? \u001b[39m\u001b[38;5;124m\"\u001b[39m\n\u001b[1;32m    866\u001b[0m         \u001b[38;5;124m\"\u001b[39m\u001b[38;5;124mWere there no candidates?\u001b[39m\u001b[38;5;124m\"\u001b[39m\n\u001b[1;32m    867\u001b[0m     )\n",
      "File \u001b[0;32m~/.conda/envs/biasbounties/lib/python3.10/site-packages/sklearn/utils/parallel.py:65\u001b[0m, in \u001b[0;36mParallel.__call__\u001b[0;34m(self, iterable)\u001b[0m\n\u001b[1;32m     60\u001b[0m config \u001b[38;5;241m=\u001b[39m get_config()\n\u001b[1;32m     61\u001b[0m iterable_with_config \u001b[38;5;241m=\u001b[39m (\n\u001b[1;32m     62\u001b[0m     (_with_config(delayed_func, config), args, kwargs)\n\u001b[1;32m     63\u001b[0m     \u001b[38;5;28;01mfor\u001b[39;00m delayed_func, args, kwargs \u001b[38;5;129;01min\u001b[39;00m iterable\n\u001b[1;32m     64\u001b[0m )\n\u001b[0;32m---> 65\u001b[0m \u001b[38;5;28;01mreturn\u001b[39;00m \u001b[38;5;28;43msuper\u001b[39;49m\u001b[43m(\u001b[49m\u001b[43m)\u001b[49m\u001b[38;5;241;43m.\u001b[39;49m\u001b[38;5;21;43m__call__\u001b[39;49m\u001b[43m(\u001b[49m\u001b[43miterable_with_config\u001b[49m\u001b[43m)\u001b[49m\n",
      "File \u001b[0;32m~/.conda/envs/biasbounties/lib/python3.10/site-packages/joblib/parallel.py:1098\u001b[0m, in \u001b[0;36mParallel.__call__\u001b[0;34m(self, iterable)\u001b[0m\n\u001b[1;32m   1095\u001b[0m     \u001b[38;5;28mself\u001b[39m\u001b[38;5;241m.\u001b[39m_iterating \u001b[38;5;241m=\u001b[39m \u001b[38;5;28;01mFalse\u001b[39;00m\n\u001b[1;32m   1097\u001b[0m \u001b[38;5;28;01mwith\u001b[39;00m \u001b[38;5;28mself\u001b[39m\u001b[38;5;241m.\u001b[39m_backend\u001b[38;5;241m.\u001b[39mretrieval_context():\n\u001b[0;32m-> 1098\u001b[0m     \u001b[38;5;28;43mself\u001b[39;49m\u001b[38;5;241;43m.\u001b[39;49m\u001b[43mretrieve\u001b[49m\u001b[43m(\u001b[49m\u001b[43m)\u001b[49m\n\u001b[1;32m   1099\u001b[0m \u001b[38;5;66;03m# Make sure that we get a last message telling us we are done\u001b[39;00m\n\u001b[1;32m   1100\u001b[0m elapsed_time \u001b[38;5;241m=\u001b[39m time\u001b[38;5;241m.\u001b[39mtime() \u001b[38;5;241m-\u001b[39m \u001b[38;5;28mself\u001b[39m\u001b[38;5;241m.\u001b[39m_start_time\n",
      "File \u001b[0;32m~/.conda/envs/biasbounties/lib/python3.10/site-packages/joblib/parallel.py:975\u001b[0m, in \u001b[0;36mParallel.retrieve\u001b[0;34m(self)\u001b[0m\n\u001b[1;32m    973\u001b[0m \u001b[38;5;28;01mtry\u001b[39;00m:\n\u001b[1;32m    974\u001b[0m     \u001b[38;5;28;01mif\u001b[39;00m \u001b[38;5;28mgetattr\u001b[39m(\u001b[38;5;28mself\u001b[39m\u001b[38;5;241m.\u001b[39m_backend, \u001b[38;5;124m'\u001b[39m\u001b[38;5;124msupports_timeout\u001b[39m\u001b[38;5;124m'\u001b[39m, \u001b[38;5;28;01mFalse\u001b[39;00m):\n\u001b[0;32m--> 975\u001b[0m         \u001b[38;5;28mself\u001b[39m\u001b[38;5;241m.\u001b[39m_output\u001b[38;5;241m.\u001b[39mextend(\u001b[43mjob\u001b[49m\u001b[38;5;241;43m.\u001b[39;49m\u001b[43mget\u001b[49m\u001b[43m(\u001b[49m\u001b[43mtimeout\u001b[49m\u001b[38;5;241;43m=\u001b[39;49m\u001b[38;5;28;43mself\u001b[39;49m\u001b[38;5;241;43m.\u001b[39;49m\u001b[43mtimeout\u001b[49m\u001b[43m)\u001b[49m)\n\u001b[1;32m    976\u001b[0m     \u001b[38;5;28;01melse\u001b[39;00m:\n\u001b[1;32m    977\u001b[0m         \u001b[38;5;28mself\u001b[39m\u001b[38;5;241m.\u001b[39m_output\u001b[38;5;241m.\u001b[39mextend(job\u001b[38;5;241m.\u001b[39mget())\n",
      "File \u001b[0;32m~/.conda/envs/biasbounties/lib/python3.10/site-packages/joblib/_parallel_backends.py:567\u001b[0m, in \u001b[0;36mLokyBackend.wrap_future_result\u001b[0;34m(future, timeout)\u001b[0m\n\u001b[1;32m    564\u001b[0m \u001b[38;5;250m\u001b[39m\u001b[38;5;124;03m\"\"\"Wrapper for Future.result to implement the same behaviour as\u001b[39;00m\n\u001b[1;32m    565\u001b[0m \u001b[38;5;124;03mAsyncResults.get from multiprocessing.\"\"\"\u001b[39;00m\n\u001b[1;32m    566\u001b[0m \u001b[38;5;28;01mtry\u001b[39;00m:\n\u001b[0;32m--> 567\u001b[0m     \u001b[38;5;28;01mreturn\u001b[39;00m \u001b[43mfuture\u001b[49m\u001b[38;5;241;43m.\u001b[39;49m\u001b[43mresult\u001b[49m\u001b[43m(\u001b[49m\u001b[43mtimeout\u001b[49m\u001b[38;5;241;43m=\u001b[39;49m\u001b[43mtimeout\u001b[49m\u001b[43m)\u001b[49m\n\u001b[1;32m    568\u001b[0m \u001b[38;5;28;01mexcept\u001b[39;00m CfTimeoutError \u001b[38;5;28;01mas\u001b[39;00m e:\n\u001b[1;32m    569\u001b[0m     \u001b[38;5;28;01mraise\u001b[39;00m \u001b[38;5;167;01mTimeoutError\u001b[39;00m \u001b[38;5;28;01mfrom\u001b[39;00m \u001b[38;5;21;01me\u001b[39;00m\n",
      "File \u001b[0;32m~/.conda/envs/biasbounties/lib/python3.10/concurrent/futures/_base.py:453\u001b[0m, in \u001b[0;36mFuture.result\u001b[0;34m(self, timeout)\u001b[0m\n\u001b[1;32m    450\u001b[0m \u001b[38;5;28;01melif\u001b[39;00m \u001b[38;5;28mself\u001b[39m\u001b[38;5;241m.\u001b[39m_state \u001b[38;5;241m==\u001b[39m FINISHED:\n\u001b[1;32m    451\u001b[0m     \u001b[38;5;28;01mreturn\u001b[39;00m \u001b[38;5;28mself\u001b[39m\u001b[38;5;241m.\u001b[39m__get_result()\n\u001b[0;32m--> 453\u001b[0m \u001b[38;5;28;43mself\u001b[39;49m\u001b[38;5;241;43m.\u001b[39;49m\u001b[43m_condition\u001b[49m\u001b[38;5;241;43m.\u001b[39;49m\u001b[43mwait\u001b[49m\u001b[43m(\u001b[49m\u001b[43mtimeout\u001b[49m\u001b[43m)\u001b[49m\n\u001b[1;32m    455\u001b[0m \u001b[38;5;28;01mif\u001b[39;00m \u001b[38;5;28mself\u001b[39m\u001b[38;5;241m.\u001b[39m_state \u001b[38;5;129;01min\u001b[39;00m [CANCELLED, CANCELLED_AND_NOTIFIED]:\n\u001b[1;32m    456\u001b[0m     \u001b[38;5;28;01mraise\u001b[39;00m CancelledError()\n",
      "File \u001b[0;32m~/.conda/envs/biasbounties/lib/python3.10/threading.py:320\u001b[0m, in \u001b[0;36mCondition.wait\u001b[0;34m(self, timeout)\u001b[0m\n\u001b[1;32m    318\u001b[0m \u001b[38;5;28;01mtry\u001b[39;00m:    \u001b[38;5;66;03m# restore state no matter what (e.g., KeyboardInterrupt)\u001b[39;00m\n\u001b[1;32m    319\u001b[0m     \u001b[38;5;28;01mif\u001b[39;00m timeout \u001b[38;5;129;01mis\u001b[39;00m \u001b[38;5;28;01mNone\u001b[39;00m:\n\u001b[0;32m--> 320\u001b[0m         \u001b[43mwaiter\u001b[49m\u001b[38;5;241;43m.\u001b[39;49m\u001b[43macquire\u001b[49m\u001b[43m(\u001b[49m\u001b[43m)\u001b[49m\n\u001b[1;32m    321\u001b[0m         gotit \u001b[38;5;241m=\u001b[39m \u001b[38;5;28;01mTrue\u001b[39;00m\n\u001b[1;32m    322\u001b[0m     \u001b[38;5;28;01melse\u001b[39;00m:\n",
      "\u001b[0;31mKeyboardInterrupt\u001b[0m: "
     ]
    }
   ],
   "source": [
    "rf = RandomForestRegressor()\n",
    "cv = KFold(n_splits=3)\n",
    "grid_search = GridSearchCV(estimator=rf, param_grid = grid_rf, n_jobs=4, cv=cv)\n",
    "grid_result = grid_search.fit(X_train, y_train)"
   ]
  },
  {
   "cell_type": "code",
   "execution_count": null,
   "id": "3aacb636-f0a7-41f4-ad90-97423fa4ab89",
   "metadata": {
    "tags": []
   },
   "outputs": [],
   "source": [
    "print(\"Best: %f using %s\" % (grid_result.best_score_, grid_result.best_params_))"
   ]
  },
  {
   "cell_type": "code",
   "execution_count": 103,
   "id": "959de4a5-e62c-4249-b198-6c0f99af22c8",
   "metadata": {
    "tags": []
   },
   "outputs": [
    {
     "data": {
      "text/plain": [
       "{'n_estimators': [10, 100, 500],\n",
       " 'max_features': ['auto', 'sqrt'],\n",
       " 'max_depth': [5, 10, 15],\n",
       " 'min_samples_split': [2, 5, 10],\n",
       " 'min_samples_leaf': [1, 2, 4],\n",
       " 'bootstrap': [True, False]}"
      ]
     },
     "execution_count": 103,
     "metadata": {},
     "output_type": "execute_result"
    }
   ],
   "source": []
  },
  {
   "cell_type": "code",
   "execution_count": null,
   "id": "9eb52ea4-43a9-4fb3-8b54-516e2a9068d8",
   "metadata": {},
   "outputs": [],
   "source": [
    "grid_search = GridSearchCV(estimator=dtree_reg, param_grid=grid, n_jobs=4, cv=cv)"
   ]
  },
  {
   "cell_type": "code",
   "execution_count": null,
   "id": "3f69396c-9316-4bad-81f7-0408231e2ab1",
   "metadata": {
    "tags": []
   },
   "outputs": [],
   "source": [
    "rf_random.best_params_"
   ]
  },
  {
   "cell_type": "code",
   "execution_count": null,
   "id": "6376f576-90dc-41e6-80d0-0c08b01060d3",
   "metadata": {},
   "outputs": [],
   "source": []
  },
  {
   "cell_type": "code",
   "execution_count": 107,
   "id": "135a8f16-137f-4d0b-8577-84578fc24fd1",
   "metadata": {
    "tags": []
   },
   "outputs": [
    {
     "data": {
      "text/html": [
       "<style>#sk-container-id-6 {color: black;}#sk-container-id-6 pre{padding: 0;}#sk-container-id-6 div.sk-toggleable {background-color: white;}#sk-container-id-6 label.sk-toggleable__label {cursor: pointer;display: block;width: 100%;margin-bottom: 0;padding: 0.3em;box-sizing: border-box;text-align: center;}#sk-container-id-6 label.sk-toggleable__label-arrow:before {content: \"▸\";float: left;margin-right: 0.25em;color: #696969;}#sk-container-id-6 label.sk-toggleable__label-arrow:hover:before {color: black;}#sk-container-id-6 div.sk-estimator:hover label.sk-toggleable__label-arrow:before {color: black;}#sk-container-id-6 div.sk-toggleable__content {max-height: 0;max-width: 0;overflow: hidden;text-align: left;background-color: #f0f8ff;}#sk-container-id-6 div.sk-toggleable__content pre {margin: 0.2em;color: black;border-radius: 0.25em;background-color: #f0f8ff;}#sk-container-id-6 input.sk-toggleable__control:checked~div.sk-toggleable__content {max-height: 200px;max-width: 100%;overflow: auto;}#sk-container-id-6 input.sk-toggleable__control:checked~label.sk-toggleable__label-arrow:before {content: \"▾\";}#sk-container-id-6 div.sk-estimator input.sk-toggleable__control:checked~label.sk-toggleable__label {background-color: #d4ebff;}#sk-container-id-6 div.sk-label input.sk-toggleable__control:checked~label.sk-toggleable__label {background-color: #d4ebff;}#sk-container-id-6 input.sk-hidden--visually {border: 0;clip: rect(1px 1px 1px 1px);clip: rect(1px, 1px, 1px, 1px);height: 1px;margin: -1px;overflow: hidden;padding: 0;position: absolute;width: 1px;}#sk-container-id-6 div.sk-estimator {font-family: monospace;background-color: #f0f8ff;border: 1px dotted black;border-radius: 0.25em;box-sizing: border-box;margin-bottom: 0.5em;}#sk-container-id-6 div.sk-estimator:hover {background-color: #d4ebff;}#sk-container-id-6 div.sk-parallel-item::after {content: \"\";width: 100%;border-bottom: 1px solid gray;flex-grow: 1;}#sk-container-id-6 div.sk-label:hover label.sk-toggleable__label {background-color: #d4ebff;}#sk-container-id-6 div.sk-serial::before {content: \"\";position: absolute;border-left: 1px solid gray;box-sizing: border-box;top: 0;bottom: 0;left: 50%;z-index: 0;}#sk-container-id-6 div.sk-serial {display: flex;flex-direction: column;align-items: center;background-color: white;padding-right: 0.2em;padding-left: 0.2em;position: relative;}#sk-container-id-6 div.sk-item {position: relative;z-index: 1;}#sk-container-id-6 div.sk-parallel {display: flex;align-items: stretch;justify-content: center;background-color: white;position: relative;}#sk-container-id-6 div.sk-item::before, #sk-container-id-6 div.sk-parallel-item::before {content: \"\";position: absolute;border-left: 1px solid gray;box-sizing: border-box;top: 0;bottom: 0;left: 50%;z-index: -1;}#sk-container-id-6 div.sk-parallel-item {display: flex;flex-direction: column;z-index: 1;position: relative;background-color: white;}#sk-container-id-6 div.sk-parallel-item:first-child::after {align-self: flex-end;width: 50%;}#sk-container-id-6 div.sk-parallel-item:last-child::after {align-self: flex-start;width: 50%;}#sk-container-id-6 div.sk-parallel-item:only-child::after {width: 0;}#sk-container-id-6 div.sk-dashed-wrapped {border: 1px dashed gray;margin: 0 0.4em 0.5em 0.4em;box-sizing: border-box;padding-bottom: 0.4em;background-color: white;}#sk-container-id-6 div.sk-label label {font-family: monospace;font-weight: bold;display: inline-block;line-height: 1.2em;}#sk-container-id-6 div.sk-label-container {text-align: center;}#sk-container-id-6 div.sk-container {/* jupyter's `normalize.less` sets `[hidden] { display: none; }` but bootstrap.min.css set `[hidden] { display: none !important; }` so we also need the `!important` here to be able to override the default hidden behavior on the sphinx rendered scikit-learn.org. See: https://github.com/scikit-learn/scikit-learn/issues/21755 */display: inline-block !important;position: relative;}#sk-container-id-6 div.sk-text-repr-fallback {display: none;}</style><div id=\"sk-container-id-6\" class=\"sk-top-container\"><div class=\"sk-text-repr-fallback\"><pre>RandomForestRegressor(max_depth=8, n_estimators=10)</pre><b>In a Jupyter environment, please rerun this cell to show the HTML representation or trust the notebook. <br />On GitHub, the HTML representation is unable to render, please try loading this page with nbviewer.org.</b></div><div class=\"sk-container\" hidden><div class=\"sk-item\"><div class=\"sk-estimator sk-toggleable\"><input class=\"sk-toggleable__control sk-hidden--visually\" id=\"sk-estimator-id-6\" type=\"checkbox\" checked><label for=\"sk-estimator-id-6\" class=\"sk-toggleable__label sk-toggleable__label-arrow\">RandomForestRegressor</label><div class=\"sk-toggleable__content\"><pre>RandomForestRegressor(max_depth=8, n_estimators=10)</pre></div></div></div></div></div>"
      ],
      "text/plain": [
       "RandomForestRegressor(max_depth=8, n_estimators=10)"
      ]
     },
     "execution_count": 107,
     "metadata": {},
     "output_type": "execute_result"
    }
   ],
   "source": [
    "rf8depth = RandomForestRegressor(n_estimators = 10, max_depth = 8)\n",
    "rf8depth.fit(X_train,y_train)"
   ]
  },
  {
   "cell_type": "code",
   "execution_count": 108,
   "id": "b56a685f-a71f-4c56-b0c4-5ce3a5b6cc60",
   "metadata": {
    "tags": []
   },
   "outputs": [
    {
     "data": {
      "text/plain": [
       "(0.4686889963825148, 0.47022364820004336)"
      ]
     },
     "execution_count": 108,
     "metadata": {},
     "output_type": "execute_result"
    }
   ],
   "source": [
    "rf.score(X_train, y_train), rf.score(X_test, y_test)"
   ]
  },
  {
   "cell_type": "code",
   "execution_count": 109,
   "id": "e8db56f1-aa9f-450f-8a2d-29a2105a7b69",
   "metadata": {
    "tags": []
   },
   "outputs": [
    {
     "data": {
      "text/html": [
       "<style>#sk-container-id-7 {color: black;}#sk-container-id-7 pre{padding: 0;}#sk-container-id-7 div.sk-toggleable {background-color: white;}#sk-container-id-7 label.sk-toggleable__label {cursor: pointer;display: block;width: 100%;margin-bottom: 0;padding: 0.3em;box-sizing: border-box;text-align: center;}#sk-container-id-7 label.sk-toggleable__label-arrow:before {content: \"▸\";float: left;margin-right: 0.25em;color: #696969;}#sk-container-id-7 label.sk-toggleable__label-arrow:hover:before {color: black;}#sk-container-id-7 div.sk-estimator:hover label.sk-toggleable__label-arrow:before {color: black;}#sk-container-id-7 div.sk-toggleable__content {max-height: 0;max-width: 0;overflow: hidden;text-align: left;background-color: #f0f8ff;}#sk-container-id-7 div.sk-toggleable__content pre {margin: 0.2em;color: black;border-radius: 0.25em;background-color: #f0f8ff;}#sk-container-id-7 input.sk-toggleable__control:checked~div.sk-toggleable__content {max-height: 200px;max-width: 100%;overflow: auto;}#sk-container-id-7 input.sk-toggleable__control:checked~label.sk-toggleable__label-arrow:before {content: \"▾\";}#sk-container-id-7 div.sk-estimator input.sk-toggleable__control:checked~label.sk-toggleable__label {background-color: #d4ebff;}#sk-container-id-7 div.sk-label input.sk-toggleable__control:checked~label.sk-toggleable__label {background-color: #d4ebff;}#sk-container-id-7 input.sk-hidden--visually {border: 0;clip: rect(1px 1px 1px 1px);clip: rect(1px, 1px, 1px, 1px);height: 1px;margin: -1px;overflow: hidden;padding: 0;position: absolute;width: 1px;}#sk-container-id-7 div.sk-estimator {font-family: monospace;background-color: #f0f8ff;border: 1px dotted black;border-radius: 0.25em;box-sizing: border-box;margin-bottom: 0.5em;}#sk-container-id-7 div.sk-estimator:hover {background-color: #d4ebff;}#sk-container-id-7 div.sk-parallel-item::after {content: \"\";width: 100%;border-bottom: 1px solid gray;flex-grow: 1;}#sk-container-id-7 div.sk-label:hover label.sk-toggleable__label {background-color: #d4ebff;}#sk-container-id-7 div.sk-serial::before {content: \"\";position: absolute;border-left: 1px solid gray;box-sizing: border-box;top: 0;bottom: 0;left: 50%;z-index: 0;}#sk-container-id-7 div.sk-serial {display: flex;flex-direction: column;align-items: center;background-color: white;padding-right: 0.2em;padding-left: 0.2em;position: relative;}#sk-container-id-7 div.sk-item {position: relative;z-index: 1;}#sk-container-id-7 div.sk-parallel {display: flex;align-items: stretch;justify-content: center;background-color: white;position: relative;}#sk-container-id-7 div.sk-item::before, #sk-container-id-7 div.sk-parallel-item::before {content: \"\";position: absolute;border-left: 1px solid gray;box-sizing: border-box;top: 0;bottom: 0;left: 50%;z-index: -1;}#sk-container-id-7 div.sk-parallel-item {display: flex;flex-direction: column;z-index: 1;position: relative;background-color: white;}#sk-container-id-7 div.sk-parallel-item:first-child::after {align-self: flex-end;width: 50%;}#sk-container-id-7 div.sk-parallel-item:last-child::after {align-self: flex-start;width: 50%;}#sk-container-id-7 div.sk-parallel-item:only-child::after {width: 0;}#sk-container-id-7 div.sk-dashed-wrapped {border: 1px dashed gray;margin: 0 0.4em 0.5em 0.4em;box-sizing: border-box;padding-bottom: 0.4em;background-color: white;}#sk-container-id-7 div.sk-label label {font-family: monospace;font-weight: bold;display: inline-block;line-height: 1.2em;}#sk-container-id-7 div.sk-label-container {text-align: center;}#sk-container-id-7 div.sk-container {/* jupyter's `normalize.less` sets `[hidden] { display: none; }` but bootstrap.min.css set `[hidden] { display: none !important; }` so we also need the `!important` here to be able to override the default hidden behavior on the sphinx rendered scikit-learn.org. See: https://github.com/scikit-learn/scikit-learn/issues/21755 */display: inline-block !important;position: relative;}#sk-container-id-7 div.sk-text-repr-fallback {display: none;}</style><div id=\"sk-container-id-7\" class=\"sk-top-container\"><div class=\"sk-text-repr-fallback\"><pre>RandomForestRegressor(max_depth=5, n_estimators=10)</pre><b>In a Jupyter environment, please rerun this cell to show the HTML representation or trust the notebook. <br />On GitHub, the HTML representation is unable to render, please try loading this page with nbviewer.org.</b></div><div class=\"sk-container\" hidden><div class=\"sk-item\"><div class=\"sk-estimator sk-toggleable\"><input class=\"sk-toggleable__control sk-hidden--visually\" id=\"sk-estimator-id-7\" type=\"checkbox\" checked><label for=\"sk-estimator-id-7\" class=\"sk-toggleable__label sk-toggleable__label-arrow\">RandomForestRegressor</label><div class=\"sk-toggleable__content\"><pre>RandomForestRegressor(max_depth=5, n_estimators=10)</pre></div></div></div></div></div>"
      ],
      "text/plain": [
       "RandomForestRegressor(max_depth=5, n_estimators=10)"
      ]
     },
     "execution_count": 109,
     "metadata": {},
     "output_type": "execute_result"
    }
   ],
   "source": [
    "rf5depth = RandomForestRegressor(n_estimators = 10, max_depth = 5)\n",
    "rf5depth.fit(X_train,y_train)"
   ]
  },
  {
   "cell_type": "code",
   "execution_count": 110,
   "id": "8ab1a77a-2a71-442a-862e-70e787c68ba1",
   "metadata": {
    "tags": []
   },
   "outputs": [
    {
     "data": {
      "text/plain": [
       "(0.40950996159653574, 0.4117925190246482)"
      ]
     },
     "execution_count": 110,
     "metadata": {},
     "output_type": "execute_result"
    }
   ],
   "source": [
    "rf5depth.score(X_train, y_train), rf5depth.score(X_test, y_test)"
   ]
  },
  {
   "cell_type": "code",
   "execution_count": 111,
   "id": "05e273d2-cc6d-4c58-a541-fb75edd2fa5c",
   "metadata": {
    "tags": []
   },
   "outputs": [
    {
     "data": {
      "text/plain": [
       "(0.49882551056576474, 0.4965951700895338)"
      ]
     },
     "execution_count": 111,
     "metadata": {},
     "output_type": "execute_result"
    }
   ],
   "source": [
    "rf10depth = RandomForestRegressor(n_estimators = 10, max_depth = 10)\n",
    "rf10depth.fit(X_train,y_train)\n",
    "rf10depth.score(X_train, y_train), rf10depth.score(X_test, y_test)"
   ]
  },
  {
   "cell_type": "code",
   "execution_count": 115,
   "id": "5d3b2eb8-4be2-41f5-af2f-0c5d5e1f3aad",
   "metadata": {
    "tags": []
   },
   "outputs": [],
   "source": [
    "max_depth = [5, 8, 10]\n",
    "n_estimators = [10]\n",
    "\n",
    "grid_rf = {'n_estimators': n_estimators,\n",
    "               # 'max_features': max_features,\n",
    "               'max_depth': max_depth,\n",
    "               # 'min_samples_split': min_samples_split,\n",
    "               # 'min_samples_leaf': min_samples_leaf,\n",
    "               # 'bootstrap': bootstrap\n",
    "          }\n",
    "rf_temp = RandomForestRegressor()\n",
    "grid_search = GridSearchCV(estimator=rf_temp, param_grid=grid_rf, cv = 2)\n",
    "grid_result = grid_search.fit(X_train, y_train)"
   ]
  },
  {
   "cell_type": "code",
   "execution_count": 116,
   "id": "e2551ee1-47a0-4c55-b01b-724dfba31e81",
   "metadata": {
    "tags": []
   },
   "outputs": [
    {
     "name": "stdout",
     "output_type": "stream",
     "text": [
      "Best: 0.491849 using {'max_depth': 10, 'n_estimators': 10}\n"
     ]
    }
   ],
   "source": [
    "print(\"Best: %f using %s\" % (grid_result.best_score_, grid_result.best_params_))"
   ]
  },
  {
   "cell_type": "code",
   "execution_count": 117,
   "id": "a3618480-4216-43f1-8aa0-014d9627e913",
   "metadata": {},
   "outputs": [
    {
     "data": {
      "text/html": [
       "<style>#sk-container-id-8 {color: black;}#sk-container-id-8 pre{padding: 0;}#sk-container-id-8 div.sk-toggleable {background-color: white;}#sk-container-id-8 label.sk-toggleable__label {cursor: pointer;display: block;width: 100%;margin-bottom: 0;padding: 0.3em;box-sizing: border-box;text-align: center;}#sk-container-id-8 label.sk-toggleable__label-arrow:before {content: \"▸\";float: left;margin-right: 0.25em;color: #696969;}#sk-container-id-8 label.sk-toggleable__label-arrow:hover:before {color: black;}#sk-container-id-8 div.sk-estimator:hover label.sk-toggleable__label-arrow:before {color: black;}#sk-container-id-8 div.sk-toggleable__content {max-height: 0;max-width: 0;overflow: hidden;text-align: left;background-color: #f0f8ff;}#sk-container-id-8 div.sk-toggleable__content pre {margin: 0.2em;color: black;border-radius: 0.25em;background-color: #f0f8ff;}#sk-container-id-8 input.sk-toggleable__control:checked~div.sk-toggleable__content {max-height: 200px;max-width: 100%;overflow: auto;}#sk-container-id-8 input.sk-toggleable__control:checked~label.sk-toggleable__label-arrow:before {content: \"▾\";}#sk-container-id-8 div.sk-estimator input.sk-toggleable__control:checked~label.sk-toggleable__label {background-color: #d4ebff;}#sk-container-id-8 div.sk-label input.sk-toggleable__control:checked~label.sk-toggleable__label {background-color: #d4ebff;}#sk-container-id-8 input.sk-hidden--visually {border: 0;clip: rect(1px 1px 1px 1px);clip: rect(1px, 1px, 1px, 1px);height: 1px;margin: -1px;overflow: hidden;padding: 0;position: absolute;width: 1px;}#sk-container-id-8 div.sk-estimator {font-family: monospace;background-color: #f0f8ff;border: 1px dotted black;border-radius: 0.25em;box-sizing: border-box;margin-bottom: 0.5em;}#sk-container-id-8 div.sk-estimator:hover {background-color: #d4ebff;}#sk-container-id-8 div.sk-parallel-item::after {content: \"\";width: 100%;border-bottom: 1px solid gray;flex-grow: 1;}#sk-container-id-8 div.sk-label:hover label.sk-toggleable__label {background-color: #d4ebff;}#sk-container-id-8 div.sk-serial::before {content: \"\";position: absolute;border-left: 1px solid gray;box-sizing: border-box;top: 0;bottom: 0;left: 50%;z-index: 0;}#sk-container-id-8 div.sk-serial {display: flex;flex-direction: column;align-items: center;background-color: white;padding-right: 0.2em;padding-left: 0.2em;position: relative;}#sk-container-id-8 div.sk-item {position: relative;z-index: 1;}#sk-container-id-8 div.sk-parallel {display: flex;align-items: stretch;justify-content: center;background-color: white;position: relative;}#sk-container-id-8 div.sk-item::before, #sk-container-id-8 div.sk-parallel-item::before {content: \"\";position: absolute;border-left: 1px solid gray;box-sizing: border-box;top: 0;bottom: 0;left: 50%;z-index: -1;}#sk-container-id-8 div.sk-parallel-item {display: flex;flex-direction: column;z-index: 1;position: relative;background-color: white;}#sk-container-id-8 div.sk-parallel-item:first-child::after {align-self: flex-end;width: 50%;}#sk-container-id-8 div.sk-parallel-item:last-child::after {align-self: flex-start;width: 50%;}#sk-container-id-8 div.sk-parallel-item:only-child::after {width: 0;}#sk-container-id-8 div.sk-dashed-wrapped {border: 1px dashed gray;margin: 0 0.4em 0.5em 0.4em;box-sizing: border-box;padding-bottom: 0.4em;background-color: white;}#sk-container-id-8 div.sk-label label {font-family: monospace;font-weight: bold;display: inline-block;line-height: 1.2em;}#sk-container-id-8 div.sk-label-container {text-align: center;}#sk-container-id-8 div.sk-container {/* jupyter's `normalize.less` sets `[hidden] { display: none; }` but bootstrap.min.css set `[hidden] { display: none !important; }` so we also need the `!important` here to be able to override the default hidden behavior on the sphinx rendered scikit-learn.org. See: https://github.com/scikit-learn/scikit-learn/issues/21755 */display: inline-block !important;position: relative;}#sk-container-id-8 div.sk-text-repr-fallback {display: none;}</style><div id=\"sk-container-id-8\" class=\"sk-top-container\"><div class=\"sk-text-repr-fallback\"><pre>RandomForestRegressor(max_depth=5)</pre><b>In a Jupyter environment, please rerun this cell to show the HTML representation or trust the notebook. <br />On GitHub, the HTML representation is unable to render, please try loading this page with nbviewer.org.</b></div><div class=\"sk-container\" hidden><div class=\"sk-item\"><div class=\"sk-estimator sk-toggleable\"><input class=\"sk-toggleable__control sk-hidden--visually\" id=\"sk-estimator-id-8\" type=\"checkbox\" checked><label for=\"sk-estimator-id-8\" class=\"sk-toggleable__label sk-toggleable__label-arrow\">RandomForestRegressor</label><div class=\"sk-toggleable__content\"><pre>RandomForestRegressor(max_depth=5)</pre></div></div></div></div></div>"
      ],
      "text/plain": [
       "RandomForestRegressor(max_depth=5)"
      ]
     },
     "execution_count": 117,
     "metadata": {},
     "output_type": "execute_result"
    }
   ],
   "source": [
    "rf_5dep_100est = RandomForestRegressor(n_estimators = 100, max_depth = 5)\n",
    "rf_5dep_100est.fit(X_train, y_train)"
   ]
  },
  {
   "cell_type": "code",
   "execution_count": 118,
   "id": "2cd96101-1d9c-46b5-97ba-0f16c0a88e7a",
   "metadata": {
    "tags": []
   },
   "outputs": [
    {
     "data": {
      "text/plain": [
       "0.4108138805594156"
      ]
     },
     "execution_count": 118,
     "metadata": {},
     "output_type": "execute_result"
    }
   ],
   "source": [
    "rf_5dep_100est.score(X_train, y_train)"
   ]
  },
  {
   "cell_type": "code",
   "execution_count": 119,
   "id": "79cc7583-5be9-43a4-bcb3-f3d6996b0468",
   "metadata": {
    "tags": []
   },
   "outputs": [
    {
     "data": {
      "text/plain": [
       "0.41329075810028315"
      ]
     },
     "execution_count": 119,
     "metadata": {},
     "output_type": "execute_result"
    }
   ],
   "source": [
    "rf_5dep_100est.score(X_test, y_test)"
   ]
  },
  {
   "cell_type": "markdown",
   "id": "34d5b0f8-8b7d-49b5-b85e-e544d5c0f26e",
   "metadata": {},
   "source": [
    "# Gradient boosted regressor"
   ]
  },
  {
   "cell_type": "code",
   "execution_count": 29,
   "id": "78b9a4a9-61ec-4b06-a1ef-70ad14a2f125",
   "metadata": {
    "tags": []
   },
   "outputs": [
    {
     "name": "stdout",
     "output_type": "stream",
     "text": [
      "CPU times: user 13min 53s, sys: 67 ms, total: 13min 53s\n",
      "Wall time: 13min 53s\n"
     ]
    },
    {
     "data": {
      "text/html": [
       "<style>#sk-container-id-3 {color: black;}#sk-container-id-3 pre{padding: 0;}#sk-container-id-3 div.sk-toggleable {background-color: white;}#sk-container-id-3 label.sk-toggleable__label {cursor: pointer;display: block;width: 100%;margin-bottom: 0;padding: 0.3em;box-sizing: border-box;text-align: center;}#sk-container-id-3 label.sk-toggleable__label-arrow:before {content: \"▸\";float: left;margin-right: 0.25em;color: #696969;}#sk-container-id-3 label.sk-toggleable__label-arrow:hover:before {color: black;}#sk-container-id-3 div.sk-estimator:hover label.sk-toggleable__label-arrow:before {color: black;}#sk-container-id-3 div.sk-toggleable__content {max-height: 0;max-width: 0;overflow: hidden;text-align: left;background-color: #f0f8ff;}#sk-container-id-3 div.sk-toggleable__content pre {margin: 0.2em;color: black;border-radius: 0.25em;background-color: #f0f8ff;}#sk-container-id-3 input.sk-toggleable__control:checked~div.sk-toggleable__content {max-height: 200px;max-width: 100%;overflow: auto;}#sk-container-id-3 input.sk-toggleable__control:checked~label.sk-toggleable__label-arrow:before {content: \"▾\";}#sk-container-id-3 div.sk-estimator input.sk-toggleable__control:checked~label.sk-toggleable__label {background-color: #d4ebff;}#sk-container-id-3 div.sk-label input.sk-toggleable__control:checked~label.sk-toggleable__label {background-color: #d4ebff;}#sk-container-id-3 input.sk-hidden--visually {border: 0;clip: rect(1px 1px 1px 1px);clip: rect(1px, 1px, 1px, 1px);height: 1px;margin: -1px;overflow: hidden;padding: 0;position: absolute;width: 1px;}#sk-container-id-3 div.sk-estimator {font-family: monospace;background-color: #f0f8ff;border: 1px dotted black;border-radius: 0.25em;box-sizing: border-box;margin-bottom: 0.5em;}#sk-container-id-3 div.sk-estimator:hover {background-color: #d4ebff;}#sk-container-id-3 div.sk-parallel-item::after {content: \"\";width: 100%;border-bottom: 1px solid gray;flex-grow: 1;}#sk-container-id-3 div.sk-label:hover label.sk-toggleable__label {background-color: #d4ebff;}#sk-container-id-3 div.sk-serial::before {content: \"\";position: absolute;border-left: 1px solid gray;box-sizing: border-box;top: 0;bottom: 0;left: 50%;z-index: 0;}#sk-container-id-3 div.sk-serial {display: flex;flex-direction: column;align-items: center;background-color: white;padding-right: 0.2em;padding-left: 0.2em;position: relative;}#sk-container-id-3 div.sk-item {position: relative;z-index: 1;}#sk-container-id-3 div.sk-parallel {display: flex;align-items: stretch;justify-content: center;background-color: white;position: relative;}#sk-container-id-3 div.sk-item::before, #sk-container-id-3 div.sk-parallel-item::before {content: \"\";position: absolute;border-left: 1px solid gray;box-sizing: border-box;top: 0;bottom: 0;left: 50%;z-index: -1;}#sk-container-id-3 div.sk-parallel-item {display: flex;flex-direction: column;z-index: 1;position: relative;background-color: white;}#sk-container-id-3 div.sk-parallel-item:first-child::after {align-self: flex-end;width: 50%;}#sk-container-id-3 div.sk-parallel-item:last-child::after {align-self: flex-start;width: 50%;}#sk-container-id-3 div.sk-parallel-item:only-child::after {width: 0;}#sk-container-id-3 div.sk-dashed-wrapped {border: 1px dashed gray;margin: 0 0.4em 0.5em 0.4em;box-sizing: border-box;padding-bottom: 0.4em;background-color: white;}#sk-container-id-3 div.sk-label label {font-family: monospace;font-weight: bold;display: inline-block;line-height: 1.2em;}#sk-container-id-3 div.sk-label-container {text-align: center;}#sk-container-id-3 div.sk-container {/* jupyter's `normalize.less` sets `[hidden] { display: none; }` but bootstrap.min.css set `[hidden] { display: none !important; }` so we also need the `!important` here to be able to override the default hidden behavior on the sphinx rendered scikit-learn.org. See: https://github.com/scikit-learn/scikit-learn/issues/21755 */display: inline-block !important;position: relative;}#sk-container-id-3 div.sk-text-repr-fallback {display: none;}</style><div id=\"sk-container-id-3\" class=\"sk-top-container\"><div class=\"sk-text-repr-fallback\"><pre>GradientBoostingRegressor(max_depth=8, n_estimators=200)</pre><b>In a Jupyter environment, please rerun this cell to show the HTML representation or trust the notebook. <br />On GitHub, the HTML representation is unable to render, please try loading this page with nbviewer.org.</b></div><div class=\"sk-container\" hidden><div class=\"sk-item\"><div class=\"sk-estimator sk-toggleable\"><input class=\"sk-toggleable__control sk-hidden--visually\" id=\"sk-estimator-id-3\" type=\"checkbox\" checked><label for=\"sk-estimator-id-3\" class=\"sk-toggleable__label sk-toggleable__label-arrow\">GradientBoostingRegressor</label><div class=\"sk-toggleable__content\"><pre>GradientBoostingRegressor(max_depth=8, n_estimators=200)</pre></div></div></div></div></div>"
      ],
      "text/plain": [
       "GradientBoostingRegressor(max_depth=8, n_estimators=200)"
      ]
     },
     "execution_count": 29,
     "metadata": {},
     "output_type": "execute_result"
    }
   ],
   "source": [
    "%%time\n",
    "from sklearn.ensemble import GradientBoostingRegressor\n",
    "gbr_good = GradientBoostingRegressor(max_depth = 8, n_estimators=200, learning_rate = 0.1)\n",
    "gbr_good.fit(X_train, y_train)"
   ]
  },
  {
   "cell_type": "code",
   "execution_count": 30,
   "id": "eca47ff2-654f-4d28-a8e8-58b997c4028f",
   "metadata": {
    "tags": []
   },
   "outputs": [
    {
     "data": {
      "text/plain": [
       "(0.5891244709897457, 0.5712725552712814)"
      ]
     },
     "execution_count": 30,
     "metadata": {},
     "output_type": "execute_result"
    }
   ],
   "source": [
    "gbr_good.score(X_train, y_train), gbr_good.score(X_test, y_test)"
   ]
  },
  {
   "cell_type": "markdown",
   "id": "bb532391-2c0e-48be-a808-1586964e693c",
   "metadata": {},
   "source": [
    "# Knn regressor"
   ]
  },
  {
   "cell_type": "code",
   "execution_count": 19,
   "id": "9be79111-4bdc-47d8-acfb-5c2d8fe883e0",
   "metadata": {
    "tags": []
   },
   "outputs": [
    {
     "data": {
      "text/html": [
       "<style>#sk-container-id-1 {color: black;}#sk-container-id-1 pre{padding: 0;}#sk-container-id-1 div.sk-toggleable {background-color: white;}#sk-container-id-1 label.sk-toggleable__label {cursor: pointer;display: block;width: 100%;margin-bottom: 0;padding: 0.3em;box-sizing: border-box;text-align: center;}#sk-container-id-1 label.sk-toggleable__label-arrow:before {content: \"▸\";float: left;margin-right: 0.25em;color: #696969;}#sk-container-id-1 label.sk-toggleable__label-arrow:hover:before {color: black;}#sk-container-id-1 div.sk-estimator:hover label.sk-toggleable__label-arrow:before {color: black;}#sk-container-id-1 div.sk-toggleable__content {max-height: 0;max-width: 0;overflow: hidden;text-align: left;background-color: #f0f8ff;}#sk-container-id-1 div.sk-toggleable__content pre {margin: 0.2em;color: black;border-radius: 0.25em;background-color: #f0f8ff;}#sk-container-id-1 input.sk-toggleable__control:checked~div.sk-toggleable__content {max-height: 200px;max-width: 100%;overflow: auto;}#sk-container-id-1 input.sk-toggleable__control:checked~label.sk-toggleable__label-arrow:before {content: \"▾\";}#sk-container-id-1 div.sk-estimator input.sk-toggleable__control:checked~label.sk-toggleable__label {background-color: #d4ebff;}#sk-container-id-1 div.sk-label input.sk-toggleable__control:checked~label.sk-toggleable__label {background-color: #d4ebff;}#sk-container-id-1 input.sk-hidden--visually {border: 0;clip: rect(1px 1px 1px 1px);clip: rect(1px, 1px, 1px, 1px);height: 1px;margin: -1px;overflow: hidden;padding: 0;position: absolute;width: 1px;}#sk-container-id-1 div.sk-estimator {font-family: monospace;background-color: #f0f8ff;border: 1px dotted black;border-radius: 0.25em;box-sizing: border-box;margin-bottom: 0.5em;}#sk-container-id-1 div.sk-estimator:hover {background-color: #d4ebff;}#sk-container-id-1 div.sk-parallel-item::after {content: \"\";width: 100%;border-bottom: 1px solid gray;flex-grow: 1;}#sk-container-id-1 div.sk-label:hover label.sk-toggleable__label {background-color: #d4ebff;}#sk-container-id-1 div.sk-serial::before {content: \"\";position: absolute;border-left: 1px solid gray;box-sizing: border-box;top: 0;bottom: 0;left: 50%;z-index: 0;}#sk-container-id-1 div.sk-serial {display: flex;flex-direction: column;align-items: center;background-color: white;padding-right: 0.2em;padding-left: 0.2em;position: relative;}#sk-container-id-1 div.sk-item {position: relative;z-index: 1;}#sk-container-id-1 div.sk-parallel {display: flex;align-items: stretch;justify-content: center;background-color: white;position: relative;}#sk-container-id-1 div.sk-item::before, #sk-container-id-1 div.sk-parallel-item::before {content: \"\";position: absolute;border-left: 1px solid gray;box-sizing: border-box;top: 0;bottom: 0;left: 50%;z-index: -1;}#sk-container-id-1 div.sk-parallel-item {display: flex;flex-direction: column;z-index: 1;position: relative;background-color: white;}#sk-container-id-1 div.sk-parallel-item:first-child::after {align-self: flex-end;width: 50%;}#sk-container-id-1 div.sk-parallel-item:last-child::after {align-self: flex-start;width: 50%;}#sk-container-id-1 div.sk-parallel-item:only-child::after {width: 0;}#sk-container-id-1 div.sk-dashed-wrapped {border: 1px dashed gray;margin: 0 0.4em 0.5em 0.4em;box-sizing: border-box;padding-bottom: 0.4em;background-color: white;}#sk-container-id-1 div.sk-label label {font-family: monospace;font-weight: bold;display: inline-block;line-height: 1.2em;}#sk-container-id-1 div.sk-label-container {text-align: center;}#sk-container-id-1 div.sk-container {/* jupyter's `normalize.less` sets `[hidden] { display: none; }` but bootstrap.min.css set `[hidden] { display: none !important; }` so we also need the `!important` here to be able to override the default hidden behavior on the sphinx rendered scikit-learn.org. See: https://github.com/scikit-learn/scikit-learn/issues/21755 */display: inline-block !important;position: relative;}#sk-container-id-1 div.sk-text-repr-fallback {display: none;}</style><div id=\"sk-container-id-1\" class=\"sk-top-container\"><div class=\"sk-text-repr-fallback\"><pre>KNeighborsRegressor()</pre><b>In a Jupyter environment, please rerun this cell to show the HTML representation or trust the notebook. <br />On GitHub, the HTML representation is unable to render, please try loading this page with nbviewer.org.</b></div><div class=\"sk-container\" hidden><div class=\"sk-item\"><div class=\"sk-estimator sk-toggleable\"><input class=\"sk-toggleable__control sk-hidden--visually\" id=\"sk-estimator-id-1\" type=\"checkbox\" checked><label for=\"sk-estimator-id-1\" class=\"sk-toggleable__label sk-toggleable__label-arrow\">KNeighborsRegressor</label><div class=\"sk-toggleable__content\"><pre>KNeighborsRegressor()</pre></div></div></div></div></div>"
      ],
      "text/plain": [
       "KNeighborsRegressor()"
      ]
     },
     "execution_count": 19,
     "metadata": {},
     "output_type": "execute_result"
    }
   ],
   "source": [
    "from sklearn.neighbors import KNeighborsRegressor\n",
    "neigh5 = KNeighborsRegressor(n_neighbors = 5)\n",
    "neigh5.fit(X_train, y_train)"
   ]
  },
  {
   "cell_type": "code",
   "execution_count": 20,
   "id": "30dc8f19-04ab-428e-8ccc-6f40940aeae8",
   "metadata": {
    "tags": []
   },
   "outputs": [
    {
     "data": {
      "text/plain": [
       "0.5670677879060622"
      ]
     },
     "execution_count": 20,
     "metadata": {},
     "output_type": "execute_result"
    }
   ],
   "source": [
    "neigh5.score(X_train,y_train)"
   ]
  },
  {
   "cell_type": "code",
   "execution_count": 21,
   "id": "f0d55c7c-2d5b-4829-9f5e-ce1223fc1152",
   "metadata": {
    "tags": []
   },
   "outputs": [
    {
     "data": {
      "text/plain": [
       "0.34857123948720314"
      ]
     },
     "execution_count": 21,
     "metadata": {},
     "output_type": "execute_result"
    }
   ],
   "source": [
    "neigh5.score(X_test,y_test)"
   ]
  },
  {
   "cell_type": "code",
   "execution_count": 22,
   "id": "20d58914-2bb3-47fc-b9f6-b1d887149351",
   "metadata": {
    "tags": []
   },
   "outputs": [
    {
     "data": {
      "text/html": [
       "<style>#sk-container-id-2 {color: black;}#sk-container-id-2 pre{padding: 0;}#sk-container-id-2 div.sk-toggleable {background-color: white;}#sk-container-id-2 label.sk-toggleable__label {cursor: pointer;display: block;width: 100%;margin-bottom: 0;padding: 0.3em;box-sizing: border-box;text-align: center;}#sk-container-id-2 label.sk-toggleable__label-arrow:before {content: \"▸\";float: left;margin-right: 0.25em;color: #696969;}#sk-container-id-2 label.sk-toggleable__label-arrow:hover:before {color: black;}#sk-container-id-2 div.sk-estimator:hover label.sk-toggleable__label-arrow:before {color: black;}#sk-container-id-2 div.sk-toggleable__content {max-height: 0;max-width: 0;overflow: hidden;text-align: left;background-color: #f0f8ff;}#sk-container-id-2 div.sk-toggleable__content pre {margin: 0.2em;color: black;border-radius: 0.25em;background-color: #f0f8ff;}#sk-container-id-2 input.sk-toggleable__control:checked~div.sk-toggleable__content {max-height: 200px;max-width: 100%;overflow: auto;}#sk-container-id-2 input.sk-toggleable__control:checked~label.sk-toggleable__label-arrow:before {content: \"▾\";}#sk-container-id-2 div.sk-estimator input.sk-toggleable__control:checked~label.sk-toggleable__label {background-color: #d4ebff;}#sk-container-id-2 div.sk-label input.sk-toggleable__control:checked~label.sk-toggleable__label {background-color: #d4ebff;}#sk-container-id-2 input.sk-hidden--visually {border: 0;clip: rect(1px 1px 1px 1px);clip: rect(1px, 1px, 1px, 1px);height: 1px;margin: -1px;overflow: hidden;padding: 0;position: absolute;width: 1px;}#sk-container-id-2 div.sk-estimator {font-family: monospace;background-color: #f0f8ff;border: 1px dotted black;border-radius: 0.25em;box-sizing: border-box;margin-bottom: 0.5em;}#sk-container-id-2 div.sk-estimator:hover {background-color: #d4ebff;}#sk-container-id-2 div.sk-parallel-item::after {content: \"\";width: 100%;border-bottom: 1px solid gray;flex-grow: 1;}#sk-container-id-2 div.sk-label:hover label.sk-toggleable__label {background-color: #d4ebff;}#sk-container-id-2 div.sk-serial::before {content: \"\";position: absolute;border-left: 1px solid gray;box-sizing: border-box;top: 0;bottom: 0;left: 50%;z-index: 0;}#sk-container-id-2 div.sk-serial {display: flex;flex-direction: column;align-items: center;background-color: white;padding-right: 0.2em;padding-left: 0.2em;position: relative;}#sk-container-id-2 div.sk-item {position: relative;z-index: 1;}#sk-container-id-2 div.sk-parallel {display: flex;align-items: stretch;justify-content: center;background-color: white;position: relative;}#sk-container-id-2 div.sk-item::before, #sk-container-id-2 div.sk-parallel-item::before {content: \"\";position: absolute;border-left: 1px solid gray;box-sizing: border-box;top: 0;bottom: 0;left: 50%;z-index: -1;}#sk-container-id-2 div.sk-parallel-item {display: flex;flex-direction: column;z-index: 1;position: relative;background-color: white;}#sk-container-id-2 div.sk-parallel-item:first-child::after {align-self: flex-end;width: 50%;}#sk-container-id-2 div.sk-parallel-item:last-child::after {align-self: flex-start;width: 50%;}#sk-container-id-2 div.sk-parallel-item:only-child::after {width: 0;}#sk-container-id-2 div.sk-dashed-wrapped {border: 1px dashed gray;margin: 0 0.4em 0.5em 0.4em;box-sizing: border-box;padding-bottom: 0.4em;background-color: white;}#sk-container-id-2 div.sk-label label {font-family: monospace;font-weight: bold;display: inline-block;line-height: 1.2em;}#sk-container-id-2 div.sk-label-container {text-align: center;}#sk-container-id-2 div.sk-container {/* jupyter's `normalize.less` sets `[hidden] { display: none; }` but bootstrap.min.css set `[hidden] { display: none !important; }` so we also need the `!important` here to be able to override the default hidden behavior on the sphinx rendered scikit-learn.org. See: https://github.com/scikit-learn/scikit-learn/issues/21755 */display: inline-block !important;position: relative;}#sk-container-id-2 div.sk-text-repr-fallback {display: none;}</style><div id=\"sk-container-id-2\" class=\"sk-top-container\"><div class=\"sk-text-repr-fallback\"><pre>KNeighborsRegressor(n_neighbors=10)</pre><b>In a Jupyter environment, please rerun this cell to show the HTML representation or trust the notebook. <br />On GitHub, the HTML representation is unable to render, please try loading this page with nbviewer.org.</b></div><div class=\"sk-container\" hidden><div class=\"sk-item\"><div class=\"sk-estimator sk-toggleable\"><input class=\"sk-toggleable__control sk-hidden--visually\" id=\"sk-estimator-id-2\" type=\"checkbox\" checked><label for=\"sk-estimator-id-2\" class=\"sk-toggleable__label sk-toggleable__label-arrow\">KNeighborsRegressor</label><div class=\"sk-toggleable__content\"><pre>KNeighborsRegressor(n_neighbors=10)</pre></div></div></div></div></div>"
      ],
      "text/plain": [
       "KNeighborsRegressor(n_neighbors=10)"
      ]
     },
     "execution_count": 22,
     "metadata": {},
     "output_type": "execute_result"
    }
   ],
   "source": []
  },
  {
   "cell_type": "code",
   "execution_count": 23,
   "id": "4a7798ef-8156-4347-8f12-59c8645364d6",
   "metadata": {
    "tags": []
   },
   "outputs": [
    {
     "data": {
      "text/plain": [
       "(0.49791175065745363, 0.38774123935632665)"
      ]
     },
     "execution_count": 23,
     "metadata": {},
     "output_type": "execute_result"
    }
   ],
   "source": [
    "neigh10.score(X_train,y_train), neigh10.score(X_test,y_test)"
   ]
  },
  {
   "cell_type": "markdown",
   "id": "abbb17c7-9a67-45fd-a96b-3506b3d2a43c",
   "metadata": {},
   "source": [
    "# LightGBM "
   ]
  },
  {
   "cell_type": "code",
   "execution_count": 1,
   "id": "b0707521-19e6-48ed-9fc5-b20f3d85b795",
   "metadata": {
    "tags": []
   },
   "outputs": [],
   "source": [
    "import lightgbm as lgb"
   ]
  },
  {
   "cell_type": "code",
   "execution_count": 10,
   "id": "df4ef48e-686f-4683-998d-2212271a9e66",
   "metadata": {
    "tags": []
   },
   "outputs": [
    {
     "data": {
      "text/html": [
       "<div>\n",
       "<style scoped>\n",
       "    .dataframe tbody tr th:only-of-type {\n",
       "        vertical-align: middle;\n",
       "    }\n",
       "\n",
       "    .dataframe tbody tr th {\n",
       "        vertical-align: top;\n",
       "    }\n",
       "\n",
       "    .dataframe thead th {\n",
       "        text-align: right;\n",
       "    }\n",
       "</style>\n",
       "<table border=\"1\" class=\"dataframe\">\n",
       "  <thead>\n",
       "    <tr style=\"text-align: right;\">\n",
       "      <th></th>\n",
       "      <th>OCCP</th>\n",
       "      <th>WKHP</th>\n",
       "      <th>AGEP</th>\n",
       "      <th>SCHL</th>\n",
       "      <th>ST</th>\n",
       "      <th>JWTRNS</th>\n",
       "      <th>DRAT</th>\n",
       "      <th>COW</th>\n",
       "      <th>SEX</th>\n",
       "      <th>RELSHIPP</th>\n",
       "      <th>POBP</th>\n",
       "      <th>ENG</th>\n",
       "      <th>MAR</th>\n",
       "      <th>RAC1P</th>\n",
       "    </tr>\n",
       "  </thead>\n",
       "  <tbody>\n",
       "    <tr>\n",
       "      <th>1282566</th>\n",
       "      <td>34.0</td>\n",
       "      <td>0.071429</td>\n",
       "      <td>0.468354</td>\n",
       "      <td>19.0</td>\n",
       "      <td>39.0</td>\n",
       "      <td>11.0</td>\n",
       "      <td>0.0</td>\n",
       "      <td>0.0</td>\n",
       "      <td>1.0</td>\n",
       "      <td>5.0</td>\n",
       "      <td>32.0</td>\n",
       "      <td>1.0</td>\n",
       "      <td>4.0</td>\n",
       "      <td>1.0</td>\n",
       "    </tr>\n",
       "    <tr>\n",
       "      <th>979236</th>\n",
       "      <td>269.0</td>\n",
       "      <td>0.397959</td>\n",
       "      <td>0.278481</td>\n",
       "      <td>3.0</td>\n",
       "      <td>31.0</td>\n",
       "      <td>1.0</td>\n",
       "      <td>0.0</td>\n",
       "      <td>0.0</td>\n",
       "      <td>1.0</td>\n",
       "      <td>1.0</td>\n",
       "      <td>55.0</td>\n",
       "      <td>0.0</td>\n",
       "      <td>0.0</td>\n",
       "      <td>0.0</td>\n",
       "    </tr>\n",
       "    <tr>\n",
       "      <th>1495594</th>\n",
       "      <td>260.0</td>\n",
       "      <td>0.397959</td>\n",
       "      <td>0.316456</td>\n",
       "      <td>18.0</td>\n",
       "      <td>45.0</td>\n",
       "      <td>0.0</td>\n",
       "      <td>0.0</td>\n",
       "      <td>0.0</td>\n",
       "      <td>1.0</td>\n",
       "      <td>1.0</td>\n",
       "      <td>46.0</td>\n",
       "      <td>0.0</td>\n",
       "      <td>0.0</td>\n",
       "      <td>0.0</td>\n",
       "    </tr>\n",
       "    <tr>\n",
       "      <th>1380416</th>\n",
       "      <td>268.0</td>\n",
       "      <td>0.397959</td>\n",
       "      <td>0.468354</td>\n",
       "      <td>18.0</td>\n",
       "      <td>42.0</td>\n",
       "      <td>1.0</td>\n",
       "      <td>0.0</td>\n",
       "      <td>0.0</td>\n",
       "      <td>0.0</td>\n",
       "      <td>5.0</td>\n",
       "      <td>43.0</td>\n",
       "      <td>0.0</td>\n",
       "      <td>2.0</td>\n",
       "      <td>0.0</td>\n",
       "    </tr>\n",
       "    <tr>\n",
       "      <th>921721</th>\n",
       "      <td>323.0</td>\n",
       "      <td>0.397959</td>\n",
       "      <td>0.506329</td>\n",
       "      <td>15.0</td>\n",
       "      <td>29.0</td>\n",
       "      <td>1.0</td>\n",
       "      <td>0.0</td>\n",
       "      <td>2.0</td>\n",
       "      <td>1.0</td>\n",
       "      <td>1.0</td>\n",
       "      <td>30.0</td>\n",
       "      <td>0.0</td>\n",
       "      <td>0.0</td>\n",
       "      <td>0.0</td>\n",
       "    </tr>\n",
       "    <tr>\n",
       "      <th>...</th>\n",
       "      <td>...</td>\n",
       "      <td>...</td>\n",
       "      <td>...</td>\n",
       "      <td>...</td>\n",
       "      <td>...</td>\n",
       "      <td>...</td>\n",
       "      <td>...</td>\n",
       "      <td>...</td>\n",
       "      <td>...</td>\n",
       "      <td>...</td>\n",
       "      <td>...</td>\n",
       "      <td>...</td>\n",
       "      <td>...</td>\n",
       "      <td>...</td>\n",
       "    </tr>\n",
       "    <tr>\n",
       "      <th>590612</th>\n",
       "      <td>45.0</td>\n",
       "      <td>0.377551</td>\n",
       "      <td>0.215190</td>\n",
       "      <td>19.0</td>\n",
       "      <td>14.0</td>\n",
       "      <td>1.0</td>\n",
       "      <td>0.0</td>\n",
       "      <td>0.0</td>\n",
       "      <td>1.0</td>\n",
       "      <td>1.0</td>\n",
       "      <td>15.0</td>\n",
       "      <td>0.0</td>\n",
       "      <td>0.0</td>\n",
       "      <td>0.0</td>\n",
       "    </tr>\n",
       "    <tr>\n",
       "      <th>65607</th>\n",
       "      <td>249.0</td>\n",
       "      <td>0.244898</td>\n",
       "      <td>0.696203</td>\n",
       "      <td>18.0</td>\n",
       "      <td>3.0</td>\n",
       "      <td>1.0</td>\n",
       "      <td>4.0</td>\n",
       "      <td>0.0</td>\n",
       "      <td>0.0</td>\n",
       "      <td>0.0</td>\n",
       "      <td>3.0</td>\n",
       "      <td>0.0</td>\n",
       "      <td>0.0</td>\n",
       "      <td>0.0</td>\n",
       "    </tr>\n",
       "    <tr>\n",
       "      <th>1176034</th>\n",
       "      <td>9.0</td>\n",
       "      <td>0.091837</td>\n",
       "      <td>0.708861</td>\n",
       "      <td>23.0</td>\n",
       "      <td>35.0</td>\n",
       "      <td>0.0</td>\n",
       "      <td>0.0</td>\n",
       "      <td>2.0</td>\n",
       "      <td>1.0</td>\n",
       "      <td>0.0</td>\n",
       "      <td>36.0</td>\n",
       "      <td>1.0</td>\n",
       "      <td>2.0</td>\n",
       "      <td>1.0</td>\n",
       "    </tr>\n",
       "    <tr>\n",
       "      <th>691694</th>\n",
       "      <td>148.0</td>\n",
       "      <td>0.397959</td>\n",
       "      <td>0.544304</td>\n",
       "      <td>20.0</td>\n",
       "      <td>19.0</td>\n",
       "      <td>1.0</td>\n",
       "      <td>0.0</td>\n",
       "      <td>2.0</td>\n",
       "      <td>1.0</td>\n",
       "      <td>1.0</td>\n",
       "      <td>38.0</td>\n",
       "      <td>0.0</td>\n",
       "      <td>0.0</td>\n",
       "      <td>0.0</td>\n",
       "    </tr>\n",
       "    <tr>\n",
       "      <th>212180</th>\n",
       "      <td>118.0</td>\n",
       "      <td>0.234694</td>\n",
       "      <td>0.037975</td>\n",
       "      <td>18.0</td>\n",
       "      <td>4.0</td>\n",
       "      <td>1.0</td>\n",
       "      <td>0.0</td>\n",
       "      <td>0.0</td>\n",
       "      <td>0.0</td>\n",
       "      <td>5.0</td>\n",
       "      <td>4.0</td>\n",
       "      <td>0.0</td>\n",
       "      <td>4.0</td>\n",
       "      <td>0.0</td>\n",
       "    </tr>\n",
       "  </tbody>\n",
       "</table>\n",
       "<p>1255350 rows × 14 columns</p>\n",
       "</div>"
      ],
      "text/plain": [
       "          OCCP      WKHP      AGEP  SCHL    ST  JWTRNS  DRAT  COW  SEX  \\\n",
       "1282566   34.0  0.071429  0.468354  19.0  39.0    11.0   0.0  0.0  1.0   \n",
       "979236   269.0  0.397959  0.278481   3.0  31.0     1.0   0.0  0.0  1.0   \n",
       "1495594  260.0  0.397959  0.316456  18.0  45.0     0.0   0.0  0.0  1.0   \n",
       "1380416  268.0  0.397959  0.468354  18.0  42.0     1.0   0.0  0.0  0.0   \n",
       "921721   323.0  0.397959  0.506329  15.0  29.0     1.0   0.0  2.0  1.0   \n",
       "...        ...       ...       ...   ...   ...     ...   ...  ...  ...   \n",
       "590612    45.0  0.377551  0.215190  19.0  14.0     1.0   0.0  0.0  1.0   \n",
       "65607    249.0  0.244898  0.696203  18.0   3.0     1.0   4.0  0.0  0.0   \n",
       "1176034    9.0  0.091837  0.708861  23.0  35.0     0.0   0.0  2.0  1.0   \n",
       "691694   148.0  0.397959  0.544304  20.0  19.0     1.0   0.0  2.0  1.0   \n",
       "212180   118.0  0.234694  0.037975  18.0   4.0     1.0   0.0  0.0  0.0   \n",
       "\n",
       "         RELSHIPP  POBP  ENG  MAR  RAC1P  \n",
       "1282566       5.0  32.0  1.0  4.0    1.0  \n",
       "979236        1.0  55.0  0.0  0.0    0.0  \n",
       "1495594       1.0  46.0  0.0  0.0    0.0  \n",
       "1380416       5.0  43.0  0.0  2.0    0.0  \n",
       "921721        1.0  30.0  0.0  0.0    0.0  \n",
       "...           ...   ...  ...  ...    ...  \n",
       "590612        1.0  15.0  0.0  0.0    0.0  \n",
       "65607         0.0   3.0  0.0  0.0    0.0  \n",
       "1176034       0.0  36.0  1.0  2.0    1.0  \n",
       "691694        1.0  38.0  0.0  0.0    0.0  \n",
       "212180        5.0   4.0  0.0  4.0    0.0  \n",
       "\n",
       "[1255350 rows x 14 columns]"
      ]
     },
     "execution_count": 10,
     "metadata": {},
     "output_type": "execute_result"
    }
   ],
   "source": [
    "X_train"
   ]
  },
  {
   "cell_type": "code",
   "execution_count": null,
   "id": "e0ec10cc-8c23-407c-8b85-addd60a30b6e",
   "metadata": {
    "tags": []
   },
   "outputs": [],
   "source": [
    "hyper_params = {\n",
    "    'task': 'train',\n",
    "    'boosting_type': 'gbdt',\n",
    "    'objective': 'regression', # l2 loss\n",
    "    'metric': ['l2'],\n",
    "    'learning_rate': 0.05,\n",
    "    # 'feature_fraction': 0.9,\n",
    "    # 'bagging_fraction': 0.7,\n",
    "    # 'bagging_freq': 10,\n",
    "    'verbose': 0,\n",
    "    \"max_depth\": 12,\n",
    "    # \"num_leaves\": 128,  \n",
    "    # \"max_bin\": 512,\n",
    "    \"num_iterations\": 1000\n",
    "}\n",
    "gbr_lgb = lgb.LGBMRegressor(**hyper_params)\n",
    "\n",
    "gbr_lgb.fit(X_train, y_train, categorical_feature=cat_cols_sig)"
   ]
  },
  {
   "cell_type": "code",
   "execution_count": 21,
   "id": "c31ca009-2e71-4da4-884b-e8ed8476bb39",
   "metadata": {
    "tags": []
   },
   "outputs": [
    {
     "data": {
      "text/plain": [
       "(0.5883096237057377, 0.5729333048560534)"
      ]
     },
     "execution_count": 21,
     "metadata": {},
     "output_type": "execute_result"
    }
   ],
   "source": [
    "gbr_lgb.score(X_train, y_train), gbr_lgb.score(X_test, y_test) # great on 200 estimators and 8 depth"
   ]
  },
  {
   "cell_type": "code",
   "execution_count": 23,
   "id": "a17778fc-6f68-4912-895b-2ecf3c1ce391",
   "metadata": {
    "tags": []
   },
   "outputs": [
    {
     "data": {
      "text/plain": [
       "(0.6040130851315593, 0.5749567059056974)"
      ]
     },
     "execution_count": 23,
     "metadata": {},
     "output_type": "execute_result"
    }
   ],
   "source": [
    "gbr_lgb.score(X_train, y_train), gbr_lgb.score(X_test, y_test) # great on 500 estimators and 8 depth"
   ]
  },
  {
   "cell_type": "code",
   "execution_count": 25,
   "id": "e47d3cf4-34b1-4b56-8ed6-4896ee6329e3",
   "metadata": {
    "tags": []
   },
   "outputs": [
    {
     "data": {
      "text/plain": [
       "(0.604980330700664, 0.5748615672982282)"
      ]
     },
     "execution_count": 25,
     "metadata": {},
     "output_type": "execute_result"
    }
   ],
   "source": [
    "gbr_lgb.score(X_train, y_train), gbr_lgb.score(X_test, y_test) # great on 500 estimators and 12 depth"
   ]
  },
  {
   "cell_type": "code",
   "execution_count": null,
   "id": "2d44cba9-7399-4758-80e0-b442c9d8f345",
   "metadata": {
    "tags": []
   },
   "outputs": [],
   "source": [
    "gbr_lgb.score(X_train, y_train), gbr_lgb.score(X_test, y_test) \n",
    "# 1000 estimators, 0.05 lr, 12 depth"
   ]
  },
  {
   "cell_type": "markdown",
   "id": "53b72985-ee03-4904-be67-84d321f3de82",
   "metadata": {},
   "source": [
    "# sklearn MLP regressor"
   ]
  },
  {
   "cell_type": "markdown",
   "id": "ec2e8c77-bf49-433c-ab36-72e6f00bf9d1",
   "metadata": {},
   "source": [
    "## one hot encoded"
   ]
  },
  {
   "cell_type": "code",
   "execution_count": 1,
   "id": "5052a8c8-a641-4fc8-b8d7-9eb4aa42edc8",
   "metadata": {},
   "outputs": [],
   "source": [
    "from sklearn.neural_network import MLPRegressor"
   ]
  },
  {
   "cell_type": "code",
   "execution_count": 17,
   "id": "8b72ff3c-c7ea-4241-884e-a37e932f1224",
   "metadata": {},
   "outputs": [
    {
     "data": {
      "text/plain": [
       "((1255350, 897), (313838, 897))"
      ]
     },
     "execution_count": 17,
     "metadata": {},
     "output_type": "execute_result"
    }
   ],
   "source": [
    "X_train.shape, X_test.shape"
   ]
  },
  {
   "cell_type": "code",
   "execution_count": 11,
   "id": "ed5f32fe-c067-455a-bda0-6e5e9c16ca64",
   "metadata": {},
   "outputs": [],
   "source": [
    "mlp_batch500 = MLPRegressor(hidden_layer_sizes = (500,),verbose=True, early_stopping=True)"
   ]
  },
  {
   "cell_type": "code",
   "execution_count": null,
   "id": "41970788-5664-460c-a15b-8bd0683cab7a",
   "metadata": {},
   "outputs": [
    {
     "name": "stdout",
     "output_type": "stream",
     "text": [
      "Iteration 1, loss = 0.00981532\n",
      "Validation score: 0.554121\n",
      "Iteration 2, loss = 0.00927378\n",
      "Validation score: 0.563305\n",
      "Iteration 3, loss = 0.00913620\n",
      "Validation score: 0.566057\n",
      "Iteration 4, loss = 0.00903703\n",
      "Validation score: 0.566520\n",
      "Iteration 5, loss = 0.00896938\n",
      "Validation score: 0.568511\n",
      "Iteration 6, loss = 0.00893522\n",
      "Validation score: 0.566574\n",
      "Iteration 7, loss = 0.00890637\n",
      "Validation score: 0.567062\n",
      "Iteration 8, loss = 0.00888224\n",
      "Validation score: 0.564003\n",
      "Iteration 9, loss = 0.00886382\n",
      "Validation score: 0.567316\n",
      "Iteration 10, loss = 0.00884524\n",
      "Validation score: 0.567659\n",
      "Iteration 11, loss = 0.00883015\n",
      "Validation score: 0.566643\n",
      "Iteration 12, loss = 0.00882105\n",
      "Validation score: 0.565987\n",
      "Iteration 13, loss = 0.00881129\n",
      "Validation score: 0.564990\n",
      "Iteration 14, loss = 0.00880029\n",
      "Validation score: 0.565676\n"
     ]
    }
   ],
   "source": [
    "mlp_batch500.fit(X_train, y_train)"
   ]
  },
  {
   "cell_type": "code",
   "execution_count": null,
   "id": "6cd74c22-f593-4b74-ab4a-f8499d023d1d",
   "metadata": {},
   "outputs": [],
   "source": [
    "import joblib\n",
    "joblib.dump(mlp_batch500, \"./onehot_encoded/models/mlp_sklearnbatch/sksingle_hidden500_mlp.pkl\") "
   ]
  },
  {
   "cell_type": "code",
   "execution_count": null,
   "id": "6d8218d7-fda5-4b92-88a9-909fe02158b3",
   "metadata": {},
   "outputs": [],
   "source": [
    "import joblib\n",
    "joblib.dump(, \"./onehot_encoded/models/mlp_reg/single_hidden500_mlp.pkl\") "
   ]
  },
  {
   "cell_type": "code",
   "execution_count": 15,
   "id": "50a16de5-6be4-40a2-a85f-4cb7072a97dc",
   "metadata": {},
   "outputs": [
    {
     "data": {
      "text/plain": [
       "0.566416096870804"
      ]
     },
     "execution_count": 15,
     "metadata": {},
     "output_type": "execute_result"
    }
   ],
   "source": [
    "mlp_batch500.score(X_test, y_test)"
   ]
  },
  {
   "cell_type": "code",
   "execution_count": 19,
   "id": "17db07ee-cefb-4245-8ef9-f84c262e6df2",
   "metadata": {},
   "outputs": [],
   "source": [
    "with open('./onehot_encoded/models/mlp_reg/single_hidden500_mlp.pkl', 'rb') as f:\n",
    "    mlp_online = pickle.load(f)"
   ]
  },
  {
   "cell_type": "code",
   "execution_count": 20,
   "id": "6cbff5bd-e8b3-4e45-b2e9-b2abe9384b49",
   "metadata": {},
   "outputs": [],
   "source": [
    "y_pred_test = mlp_online.predict_many(X_test)"
   ]
  },
  {
   "cell_type": "code",
   "execution_count": 21,
   "id": "79bb8f9f-439e-4db5-8e34-bb4f013fb5a8",
   "metadata": {},
   "outputs": [
    {
     "data": {
      "text/plain": [
       "-3.126959197402784"
      ]
     },
     "execution_count": 21,
     "metadata": {},
     "output_type": "execute_result"
    }
   ],
   "source": [
    "r2_score(y_test, y_pred_test)"
   ]
  },
  {
   "cell_type": "markdown",
   "id": "315c4f14-1410-41c7-b5ab-57f3ceb38281",
   "metadata": {},
   "source": [
    "## label encoded"
   ]
  },
  {
   "cell_type": "code",
   "execution_count": 34,
   "id": "db648bc6-5d9b-4207-aee8-b8350b5b9b08",
   "metadata": {},
   "outputs": [
    {
     "data": {
      "text/plain": [
       "Counter({0.0: 836563,\n",
       "         8.0: 134697,\n",
       "         1.0: 108927,\n",
       "         5.0: 80758,\n",
       "         7.0: 78125,\n",
       "         2.0: 11646,\n",
       "         6.0: 2207,\n",
       "         4.0: 1854,\n",
       "         3.0: 573})"
      ]
     },
     "execution_count": 34,
     "metadata": {},
     "output_type": "execute_result"
    }
   ],
   "source": [
    "from collections import Counter\n",
    "Counter(X_train_noh['RAC1P'])"
   ]
  },
  {
   "cell_type": "code",
   "execution_count": 36,
   "id": "d867a4a8-b886-461b-8028-ef304e68344d",
   "metadata": {},
   "outputs": [
    {
     "data": {
      "text/plain": [
       "(1255350, 14)"
      ]
     },
     "execution_count": 36,
     "metadata": {},
     "output_type": "execute_result"
    }
   ],
   "source": [
    "X_train_noh.shape"
   ]
  },
  {
   "cell_type": "code",
   "execution_count": 49,
   "id": "075f549a-c7dc-4aa5-a2c3-4d842a5f3f73",
   "metadata": {},
   "outputs": [],
   "source": [
    "mlp_batch_le = MLPRegressor(hidden_layer_sizes = (14,),verbose=True, early_stopping=True, n_iter_no_change = 50)"
   ]
  },
  {
   "cell_type": "code",
   "execution_count": 50,
   "id": "271d3864-ebf7-4c00-8aa8-3663157972de",
   "metadata": {},
   "outputs": [
    {
     "name": "stdout",
     "output_type": "stream",
     "text": [
      "Iteration 1, loss = 2.40124932\n",
      "Validation score: -0.472782\n",
      "Iteration 2, loss = 0.02012458\n",
      "Validation score: 0.244532\n",
      "Iteration 3, loss = 0.01600113\n",
      "Validation score: 0.337276\n",
      "Iteration 4, loss = 0.01557154\n",
      "Validation score: 0.342495\n",
      "Iteration 5, loss = 0.01536744\n",
      "Validation score: 0.142247\n",
      "Iteration 6, loss = 0.01517268\n",
      "Validation score: 0.358604\n",
      "Iteration 7, loss = 0.01454504\n",
      "Validation score: 0.392130\n",
      "Iteration 8, loss = 0.01469092\n",
      "Validation score: 0.309983\n",
      "Iteration 9, loss = 0.01450414\n",
      "Validation score: 0.232841\n",
      "Iteration 10, loss = 0.01474247\n",
      "Validation score: -0.255834\n",
      "Iteration 11, loss = 0.01462555\n",
      "Validation score: 0.103958\n",
      "Iteration 12, loss = 0.01443994\n",
      "Validation score: 0.399323\n",
      "Iteration 13, loss = 0.01445763\n",
      "Validation score: 0.401341\n",
      "Iteration 14, loss = 0.01445696\n",
      "Validation score: 0.000513\n",
      "Iteration 15, loss = 0.01426221\n",
      "Validation score: 0.300948\n",
      "Iteration 16, loss = 0.01449980\n",
      "Validation score: -0.090626\n",
      "Iteration 17, loss = 0.01423983\n",
      "Validation score: 0.387014\n",
      "Iteration 18, loss = 0.01415234\n",
      "Validation score: 0.225585\n",
      "Iteration 19, loss = 0.01418733\n",
      "Validation score: 0.423947\n",
      "Iteration 20, loss = 0.01420227\n",
      "Validation score: 0.415743\n",
      "Iteration 21, loss = 0.01413414\n",
      "Validation score: 0.091736\n",
      "Iteration 22, loss = 0.01397943\n",
      "Validation score: 0.416700\n",
      "Iteration 23, loss = 0.01416837\n",
      "Validation score: 0.421812\n",
      "Iteration 24, loss = 0.01412281\n",
      "Validation score: 0.423961\n",
      "Iteration 25, loss = 0.01392005\n",
      "Validation score: 0.397157\n",
      "Iteration 26, loss = 0.01421503\n",
      "Validation score: 0.417631\n",
      "Iteration 27, loss = 0.01393249\n",
      "Validation score: 0.429133\n",
      "Iteration 28, loss = 0.01401738\n",
      "Validation score: 0.063049\n",
      "Iteration 29, loss = 0.01393558\n",
      "Validation score: 0.312689\n",
      "Iteration 30, loss = 0.01401326\n",
      "Validation score: 0.335674\n",
      "Iteration 31, loss = 0.01393534\n",
      "Validation score: 0.409334\n",
      "Iteration 32, loss = 0.01388999\n",
      "Validation score: 0.426448\n",
      "Iteration 33, loss = 0.01394854\n",
      "Validation score: 0.353927\n",
      "Iteration 34, loss = 0.01386896\n",
      "Validation score: 0.333860\n",
      "Iteration 35, loss = 0.01383711\n",
      "Validation score: 0.367679\n",
      "Iteration 36, loss = 0.01387664\n",
      "Validation score: 0.094495\n",
      "Iteration 37, loss = 0.01377516\n",
      "Validation score: 0.371095\n",
      "Iteration 38, loss = 0.01377669\n",
      "Validation score: -0.053184\n",
      "Iteration 39, loss = 0.01373280\n",
      "Validation score: -0.293016\n",
      "Iteration 40, loss = 0.01381795\n",
      "Validation score: -0.517214\n",
      "Iteration 41, loss = 0.01369621\n",
      "Validation score: -0.280779\n",
      "Iteration 42, loss = 0.01358969\n",
      "Validation score: -2.159412\n",
      "Iteration 43, loss = 0.01361391\n",
      "Validation score: 0.374441\n",
      "Iteration 44, loss = 0.01361198\n",
      "Validation score: 0.264595\n",
      "Iteration 45, loss = 0.01361687\n",
      "Validation score: 0.418583\n",
      "Iteration 46, loss = 0.01365657\n",
      "Validation score: 0.388695\n",
      "Iteration 47, loss = 0.01352233\n",
      "Validation score: -0.060792\n",
      "Iteration 48, loss = 0.01353133\n",
      "Validation score: 0.386627\n",
      "Iteration 49, loss = 0.01347334\n",
      "Validation score: 0.417206\n",
      "Iteration 50, loss = 0.01346450\n",
      "Validation score: 0.048014\n",
      "Iteration 51, loss = 0.01344744\n",
      "Validation score: 0.238815\n",
      "Iteration 52, loss = 0.01327704\n",
      "Validation score: 0.419891\n",
      "Iteration 53, loss = 0.01340078\n",
      "Validation score: 0.227603\n",
      "Iteration 54, loss = 0.01337429\n",
      "Validation score: 0.379290\n",
      "Iteration 55, loss = 0.01328140\n",
      "Validation score: 0.346466\n",
      "Iteration 56, loss = 0.01337431\n",
      "Validation score: 0.248634\n",
      "Iteration 57, loss = 0.01333910\n",
      "Validation score: 0.254149\n",
      "Iteration 58, loss = 0.01329690\n",
      "Validation score: 0.339338\n",
      "Iteration 59, loss = 0.01337339\n",
      "Validation score: 0.314845\n",
      "Iteration 60, loss = 0.01330306\n",
      "Validation score: 0.106368\n",
      "Iteration 61, loss = 0.01329609\n",
      "Validation score: 0.434728\n",
      "Iteration 62, loss = 0.01312968\n",
      "Validation score: 0.260172\n",
      "Iteration 63, loss = 0.01327413\n",
      "Validation score: 0.272206\n",
      "Iteration 64, loss = 0.01317447\n",
      "Validation score: 0.040573\n",
      "Iteration 65, loss = 0.01321128\n",
      "Validation score: 0.401678\n",
      "Iteration 66, loss = 0.01311564\n",
      "Validation score: 0.151125\n",
      "Iteration 67, loss = 0.01328051\n",
      "Validation score: 0.306298\n",
      "Iteration 68, loss = 0.01323342\n",
      "Validation score: 0.095561\n",
      "Iteration 69, loss = 0.01312006\n",
      "Validation score: -0.974251\n",
      "Iteration 70, loss = 0.01316601\n",
      "Validation score: 0.336539\n",
      "Iteration 71, loss = 0.01315978\n",
      "Validation score: 0.417957\n",
      "Iteration 72, loss = 0.01306345\n",
      "Validation score: 0.325789\n",
      "Iteration 73, loss = 0.01309979\n",
      "Validation score: 0.423229\n",
      "Iteration 74, loss = 0.01310565\n",
      "Validation score: 0.164814\n",
      "Iteration 75, loss = 0.01304845\n",
      "Validation score: 0.325351\n",
      "Iteration 76, loss = 0.01313095\n",
      "Validation score: 0.363634\n",
      "Iteration 77, loss = 0.01311108\n",
      "Validation score: 0.420990\n",
      "Iteration 78, loss = 0.01309553\n",
      "Validation score: 0.436171\n",
      "Iteration 79, loss = 0.01305355\n",
      "Validation score: 0.414153\n",
      "Iteration 80, loss = 0.01295998\n",
      "Validation score: -2.940890\n",
      "Iteration 81, loss = 0.01295129\n",
      "Validation score: -0.023416\n",
      "Iteration 82, loss = 0.01299358\n",
      "Validation score: 0.431524\n",
      "Iteration 83, loss = 0.01288615\n",
      "Validation score: -0.568470\n",
      "Iteration 84, loss = 0.01302335\n",
      "Validation score: 0.421130\n",
      "Iteration 85, loss = 0.01292740\n",
      "Validation score: 0.255868\n",
      "Iteration 86, loss = 0.01293786\n",
      "Validation score: 0.280487\n",
      "Iteration 87, loss = 0.01298442\n",
      "Validation score: 0.359622\n",
      "Iteration 88, loss = 0.01291960\n",
      "Validation score: 0.101324\n",
      "Iteration 89, loss = 0.01286315\n",
      "Validation score: 0.358115\n",
      "Iteration 90, loss = 0.01291934\n",
      "Validation score: 0.436184\n",
      "Iteration 91, loss = 0.01277730\n",
      "Validation score: -0.184823\n",
      "Iteration 92, loss = 0.01288580\n",
      "Validation score: 0.309426\n",
      "Iteration 93, loss = 0.01287823\n",
      "Validation score: -0.056296\n",
      "Iteration 94, loss = 0.01288437\n",
      "Validation score: -0.001844\n",
      "Iteration 95, loss = 0.01291366\n",
      "Validation score: 0.254232\n",
      "Iteration 96, loss = 0.01286815\n",
      "Validation score: 0.386210\n",
      "Iteration 97, loss = 0.01274907\n",
      "Validation score: 0.384323\n",
      "Iteration 98, loss = 0.01282943\n",
      "Validation score: 0.297706\n",
      "Iteration 99, loss = 0.01279662\n",
      "Validation score: 0.264235\n",
      "Iteration 100, loss = 0.01276310\n",
      "Validation score: 0.172572\n",
      "Iteration 101, loss = 0.01277275\n",
      "Validation score: 0.018314\n",
      "Iteration 102, loss = 0.01281241\n",
      "Validation score: 0.429925\n",
      "Iteration 103, loss = 0.01279379\n",
      "Validation score: 0.182801\n",
      "Iteration 104, loss = 0.01286079\n",
      "Validation score: -0.445388\n",
      "Iteration 105, loss = 0.01281212\n",
      "Validation score: 0.255583\n",
      "Iteration 106, loss = 0.01271836\n",
      "Validation score: 0.427602\n",
      "Iteration 107, loss = 0.01278435\n",
      "Validation score: 0.404100\n",
      "Iteration 108, loss = 0.01271971\n",
      "Validation score: 0.416931\n",
      "Iteration 109, loss = 0.01268046\n",
      "Validation score: 0.351537\n",
      "Iteration 110, loss = 0.01279400\n",
      "Validation score: 0.399022\n",
      "Iteration 111, loss = 0.01271872\n",
      "Validation score: 0.398635\n",
      "Iteration 112, loss = 0.01269042\n",
      "Validation score: 0.417017\n",
      "Iteration 113, loss = 0.01267506\n",
      "Validation score: 0.369266\n",
      "Iteration 114, loss = 0.01268963\n",
      "Validation score: 0.153963\n",
      "Iteration 115, loss = 0.01271094\n",
      "Validation score: 0.433433\n",
      "Iteration 116, loss = 0.01268043\n",
      "Validation score: 0.223022\n",
      "Iteration 117, loss = 0.01259602\n",
      "Validation score: 0.312937\n",
      "Iteration 118, loss = 0.01268278\n",
      "Validation score: -0.426490\n",
      "Iteration 119, loss = 0.01265642\n",
      "Validation score: 0.200636\n",
      "Iteration 120, loss = 0.01263369\n",
      "Validation score: 0.408987\n",
      "Iteration 121, loss = 0.01269322\n",
      "Validation score: 0.044100\n",
      "Iteration 122, loss = 0.01262002\n",
      "Validation score: 0.306901\n",
      "Iteration 123, loss = 0.01265242\n",
      "Validation score: 0.319777\n",
      "Iteration 124, loss = 0.01269405\n",
      "Validation score: -0.331746\n",
      "Iteration 125, loss = 0.01266036\n",
      "Validation score: 0.445209\n",
      "Iteration 126, loss = 0.01260635\n",
      "Validation score: 0.415991\n",
      "Iteration 127, loss = 0.01258126\n",
      "Validation score: 0.283870\n",
      "Iteration 128, loss = 0.01257517\n",
      "Validation score: 0.431663\n",
      "Iteration 129, loss = 0.01259492\n",
      "Validation score: 0.403223\n",
      "Iteration 130, loss = 0.01262429\n",
      "Validation score: -0.075404\n",
      "Iteration 131, loss = 0.01256777\n",
      "Validation score: 0.346511\n",
      "Iteration 132, loss = 0.01257792\n",
      "Validation score: -0.094090\n",
      "Iteration 133, loss = 0.01257791\n",
      "Validation score: 0.372169\n",
      "Iteration 134, loss = 0.01258838\n",
      "Validation score: 0.353397\n",
      "Iteration 135, loss = 0.01249972\n",
      "Validation score: 0.405569\n",
      "Iteration 136, loss = 0.01255585\n",
      "Validation score: 0.444756\n",
      "Iteration 137, loss = 0.01255998\n",
      "Validation score: -0.683003\n",
      "Iteration 138, loss = 0.01246742\n",
      "Validation score: 0.435599\n",
      "Iteration 139, loss = 0.01253063\n",
      "Validation score: 0.439316\n",
      "Iteration 140, loss = 0.01245915\n",
      "Validation score: -0.024538\n",
      "Iteration 141, loss = 0.01251011\n",
      "Validation score: 0.318892\n",
      "Iteration 142, loss = 0.01251428\n",
      "Validation score: 0.444252\n",
      "Iteration 143, loss = 0.01249613\n",
      "Validation score: 0.332702\n",
      "Iteration 144, loss = 0.01247735\n",
      "Validation score: 0.311768\n",
      "Iteration 145, loss = 0.01243618\n",
      "Validation score: 0.046946\n",
      "Iteration 146, loss = 0.01230670\n",
      "Validation score: -0.254287\n",
      "Iteration 147, loss = 0.01239345\n",
      "Validation score: 0.304692\n",
      "Iteration 148, loss = 0.01238552\n",
      "Validation score: -0.022940\n",
      "Iteration 149, loss = 0.01238412\n",
      "Validation score: 0.384600\n",
      "Iteration 150, loss = 0.01234543\n",
      "Validation score: 0.275611\n",
      "Iteration 151, loss = 0.01242905\n",
      "Validation score: 0.396789\n",
      "Iteration 152, loss = 0.01235821\n",
      "Validation score: 0.429646\n",
      "Iteration 153, loss = 0.01230230\n",
      "Validation score: 0.418250\n",
      "Iteration 154, loss = 0.01237862\n",
      "Validation score: 0.440641\n",
      "Iteration 155, loss = 0.01234877\n",
      "Validation score: 0.427497\n",
      "Iteration 156, loss = 0.01231706\n",
      "Validation score: 0.311850\n",
      "Iteration 157, loss = 0.01235166\n",
      "Validation score: 0.223510\n",
      "Iteration 158, loss = 0.01232319\n",
      "Validation score: 0.140235\n",
      "Iteration 159, loss = 0.01232005\n",
      "Validation score: 0.423463\n",
      "Iteration 160, loss = 0.01234933\n",
      "Validation score: 0.431404\n",
      "Iteration 161, loss = 0.01226230\n",
      "Validation score: 0.449803\n",
      "Iteration 162, loss = 0.01232067\n",
      "Validation score: 0.387850\n",
      "Iteration 163, loss = 0.01230710\n",
      "Validation score: 0.417913\n",
      "Iteration 164, loss = 0.01226738\n",
      "Validation score: 0.405681\n",
      "Iteration 165, loss = 0.01228343\n",
      "Validation score: 0.346510\n",
      "Iteration 166, loss = 0.01234262\n",
      "Validation score: 0.429464\n",
      "Iteration 167, loss = 0.01229586\n",
      "Validation score: 0.382624\n",
      "Iteration 168, loss = 0.01228037\n",
      "Validation score: 0.445321\n",
      "Iteration 169, loss = 0.01224498\n",
      "Validation score: 0.384140\n",
      "Iteration 170, loss = 0.01224964\n",
      "Validation score: 0.450282\n",
      "Iteration 171, loss = 0.01229200\n",
      "Validation score: 0.440491\n",
      "Iteration 172, loss = 0.01226171\n",
      "Validation score: 0.426090\n",
      "Iteration 173, loss = 0.01224338\n",
      "Validation score: 0.442502\n",
      "Iteration 174, loss = 0.01224529\n",
      "Validation score: 0.441240\n",
      "Iteration 175, loss = 0.01221991\n",
      "Validation score: 0.398966\n",
      "Iteration 176, loss = 0.01223285\n",
      "Validation score: 0.445870\n",
      "Iteration 177, loss = 0.01220570\n",
      "Validation score: 0.447315\n",
      "Iteration 178, loss = 0.01223095\n",
      "Validation score: 0.384850\n",
      "Iteration 179, loss = 0.01216869\n",
      "Validation score: 0.402552\n",
      "Iteration 180, loss = 0.01219755\n",
      "Validation score: 0.416735\n",
      "Iteration 181, loss = 0.01218057\n",
      "Validation score: -0.069352\n",
      "Iteration 182, loss = 0.01214076\n",
      "Validation score: 0.377819\n",
      "Iteration 183, loss = 0.01222593\n",
      "Validation score: 0.353499\n",
      "Iteration 184, loss = 0.01217540\n",
      "Validation score: 0.417630\n",
      "Iteration 185, loss = 0.01219899\n",
      "Validation score: 0.366504\n",
      "Iteration 186, loss = 0.01214969\n",
      "Validation score: 0.218139\n",
      "Iteration 187, loss = 0.01221429\n",
      "Validation score: 0.134493\n",
      "Iteration 188, loss = 0.01209876\n",
      "Validation score: 0.371496\n",
      "Iteration 189, loss = 0.01218660\n",
      "Validation score: 0.417363\n",
      "Iteration 190, loss = 0.01210986\n",
      "Validation score: 0.423804\n",
      "Iteration 191, loss = 0.01213963\n",
      "Validation score: 0.128323\n",
      "Iteration 192, loss = 0.01215024\n",
      "Validation score: 0.313188\n",
      "Iteration 193, loss = 0.01212878\n",
      "Validation score: 0.449944\n",
      "Iteration 194, loss = 0.01210001\n",
      "Validation score: 0.442069\n",
      "Iteration 195, loss = 0.01210381\n",
      "Validation score: 0.428526\n",
      "Iteration 196, loss = 0.01210035\n",
      "Validation score: 0.443261\n",
      "Iteration 197, loss = 0.01212284\n",
      "Validation score: 0.449080\n",
      "Iteration 198, loss = 0.01205134\n",
      "Validation score: 0.406121\n",
      "Iteration 199, loss = 0.01204244\n",
      "Validation score: 0.442542\n",
      "Iteration 200, loss = 0.01210819\n",
      "Validation score: 0.238343\n"
     ]
    },
    {
     "name": "stderr",
     "output_type": "stream",
     "text": [
      "/home/jupyter-kriach/.conda/envs/biasbounties/lib/python3.10/site-packages/sklearn/neural_network/_multilayer_perceptron.py:691: ConvergenceWarning: Stochastic Optimizer: Maximum iterations (200) reached and the optimization hasn't converged yet.\n",
      "  warnings.warn(\n"
     ]
    },
    {
     "data": {
      "text/html": [
       "<style>#sk-container-id-6 {color: black;}#sk-container-id-6 pre{padding: 0;}#sk-container-id-6 div.sk-toggleable {background-color: white;}#sk-container-id-6 label.sk-toggleable__label {cursor: pointer;display: block;width: 100%;margin-bottom: 0;padding: 0.3em;box-sizing: border-box;text-align: center;}#sk-container-id-6 label.sk-toggleable__label-arrow:before {content: \"▸\";float: left;margin-right: 0.25em;color: #696969;}#sk-container-id-6 label.sk-toggleable__label-arrow:hover:before {color: black;}#sk-container-id-6 div.sk-estimator:hover label.sk-toggleable__label-arrow:before {color: black;}#sk-container-id-6 div.sk-toggleable__content {max-height: 0;max-width: 0;overflow: hidden;text-align: left;background-color: #f0f8ff;}#sk-container-id-6 div.sk-toggleable__content pre {margin: 0.2em;color: black;border-radius: 0.25em;background-color: #f0f8ff;}#sk-container-id-6 input.sk-toggleable__control:checked~div.sk-toggleable__content {max-height: 200px;max-width: 100%;overflow: auto;}#sk-container-id-6 input.sk-toggleable__control:checked~label.sk-toggleable__label-arrow:before {content: \"▾\";}#sk-container-id-6 div.sk-estimator input.sk-toggleable__control:checked~label.sk-toggleable__label {background-color: #d4ebff;}#sk-container-id-6 div.sk-label input.sk-toggleable__control:checked~label.sk-toggleable__label {background-color: #d4ebff;}#sk-container-id-6 input.sk-hidden--visually {border: 0;clip: rect(1px 1px 1px 1px);clip: rect(1px, 1px, 1px, 1px);height: 1px;margin: -1px;overflow: hidden;padding: 0;position: absolute;width: 1px;}#sk-container-id-6 div.sk-estimator {font-family: monospace;background-color: #f0f8ff;border: 1px dotted black;border-radius: 0.25em;box-sizing: border-box;margin-bottom: 0.5em;}#sk-container-id-6 div.sk-estimator:hover {background-color: #d4ebff;}#sk-container-id-6 div.sk-parallel-item::after {content: \"\";width: 100%;border-bottom: 1px solid gray;flex-grow: 1;}#sk-container-id-6 div.sk-label:hover label.sk-toggleable__label {background-color: #d4ebff;}#sk-container-id-6 div.sk-serial::before {content: \"\";position: absolute;border-left: 1px solid gray;box-sizing: border-box;top: 0;bottom: 0;left: 50%;z-index: 0;}#sk-container-id-6 div.sk-serial {display: flex;flex-direction: column;align-items: center;background-color: white;padding-right: 0.2em;padding-left: 0.2em;position: relative;}#sk-container-id-6 div.sk-item {position: relative;z-index: 1;}#sk-container-id-6 div.sk-parallel {display: flex;align-items: stretch;justify-content: center;background-color: white;position: relative;}#sk-container-id-6 div.sk-item::before, #sk-container-id-6 div.sk-parallel-item::before {content: \"\";position: absolute;border-left: 1px solid gray;box-sizing: border-box;top: 0;bottom: 0;left: 50%;z-index: -1;}#sk-container-id-6 div.sk-parallel-item {display: flex;flex-direction: column;z-index: 1;position: relative;background-color: white;}#sk-container-id-6 div.sk-parallel-item:first-child::after {align-self: flex-end;width: 50%;}#sk-container-id-6 div.sk-parallel-item:last-child::after {align-self: flex-start;width: 50%;}#sk-container-id-6 div.sk-parallel-item:only-child::after {width: 0;}#sk-container-id-6 div.sk-dashed-wrapped {border: 1px dashed gray;margin: 0 0.4em 0.5em 0.4em;box-sizing: border-box;padding-bottom: 0.4em;background-color: white;}#sk-container-id-6 div.sk-label label {font-family: monospace;font-weight: bold;display: inline-block;line-height: 1.2em;}#sk-container-id-6 div.sk-label-container {text-align: center;}#sk-container-id-6 div.sk-container {/* jupyter's `normalize.less` sets `[hidden] { display: none; }` but bootstrap.min.css set `[hidden] { display: none !important; }` so we also need the `!important` here to be able to override the default hidden behavior on the sphinx rendered scikit-learn.org. See: https://github.com/scikit-learn/scikit-learn/issues/21755 */display: inline-block !important;position: relative;}#sk-container-id-6 div.sk-text-repr-fallback {display: none;}</style><div id=\"sk-container-id-6\" class=\"sk-top-container\"><div class=\"sk-text-repr-fallback\"><pre>MLPRegressor(early_stopping=True, hidden_layer_sizes=(14,), n_iter_no_change=50,\n",
       "             verbose=True)</pre><b>In a Jupyter environment, please rerun this cell to show the HTML representation or trust the notebook. <br />On GitHub, the HTML representation is unable to render, please try loading this page with nbviewer.org.</b></div><div class=\"sk-container\" hidden><div class=\"sk-item\"><div class=\"sk-estimator sk-toggleable\"><input class=\"sk-toggleable__control sk-hidden--visually\" id=\"sk-estimator-id-6\" type=\"checkbox\" checked><label for=\"sk-estimator-id-6\" class=\"sk-toggleable__label sk-toggleable__label-arrow\">MLPRegressor</label><div class=\"sk-toggleable__content\"><pre>MLPRegressor(early_stopping=True, hidden_layer_sizes=(14,), n_iter_no_change=50,\n",
       "             verbose=True)</pre></div></div></div></div></div>"
      ],
      "text/plain": [
       "MLPRegressor(early_stopping=True, hidden_layer_sizes=(14,), n_iter_no_change=50,\n",
       "             verbose=True)"
      ]
     },
     "execution_count": 50,
     "metadata": {},
     "output_type": "execute_result"
    }
   ],
   "source": [
    "mlp_batch_le.fit(X_train_noh, y_train_noh)"
   ]
  },
  {
   "cell_type": "code",
   "execution_count": 52,
   "id": "2a33ba1d-3536-4002-8237-b4a63e77fe65",
   "metadata": {},
   "outputs": [
    {
     "data": {
      "text/plain": [
       "0.44959839481182173"
      ]
     },
     "execution_count": 52,
     "metadata": {},
     "output_type": "execute_result"
    }
   ],
   "source": [
    "mlp_batch_le.score(X_test_noh, y_test_noh) # worse than linear, but its using label encoded data"
   ]
  },
  {
   "cell_type": "markdown",
   "id": "1a85a584-5381-430f-8914-26821668bc90",
   "metadata": {},
   "source": [
    "# target encoding"
   ]
  },
  {
   "cell_type": "code",
   "execution_count": 69,
   "id": "d0815690-7666-42a7-82b7-1c70df17b63e",
   "metadata": {},
   "outputs": [],
   "source": [
    "from sklearn.preprocessing import TargetEncoder\n",
    "def target_encoder2(df, x_cols, y_col):\n",
    "    df_new = df.copy()\n",
    "    enc_auto = TargetEncoder(smooth=\"auto\", target_type=\"continuous\")\n",
    "    df_new[x_cols] = enc_auto.fit_transform(df_new[x_cols], df[y_col])\n",
    "    return df_new, enc_auto"
   ]
  },
  {
   "cell_type": "code",
   "execution_count": 70,
   "id": "11aaef0a-0dfc-4d18-805b-904ca8ebc338",
   "metadata": {},
   "outputs": [],
   "source": [
    "df_notoh = pd.read_pickle(\"./data_frames/dense_acs_mm_notoh.pkl\")"
   ]
  },
  {
   "cell_type": "code",
   "execution_count": 71,
   "id": "db02a934-01f2-455f-a8eb-9e1016c0acb6",
   "metadata": {},
   "outputs": [],
   "source": [
    "rand_seed = 21\n",
    "df_train_te, df_test_te = train_test_split(df_notoh, test_size = 0.2, random_state = rand_seed)"
   ]
  },
  {
   "cell_type": "code",
   "execution_count": 60,
   "id": "db130cce-91b8-4b00-a1bf-6611d6cdeba9",
   "metadata": {},
   "outputs": [],
   "source": [
    "# rand_seed = 21 \n",
    "# X_train_te, X_test_te, y_train_te, y_test_te = train_test_split(df_notoh.drop('PINCP', axis=1), \n",
    "#                                                     df_notoh['PINCP'], test_size = 0.2,\n",
    "#                                                     random_state = rand_seed)"
   ]
  },
  {
   "cell_type": "code",
   "execution_count": 62,
   "id": "28bc5284-8bb3-41f2-84dd-06b01847066d",
   "metadata": {},
   "outputs": [],
   "source": [
    "cat_cols_sig = ['OCCP', 'SCHL', 'ST', 'JWTRNS', 'DRAT', 'COW', 'SEX', \\\n",
    "       'RELSHIPP', 'POBP', 'ENG', 'MAR', 'RAC1P'] "
   ]
  },
  {
   "cell_type": "code",
   "execution_count": 72,
   "id": "fd904fa2-79dd-4285-a710-ca96df0bb83a",
   "metadata": {},
   "outputs": [],
   "source": [
    "df_train_te, enc_te = target_encoder2(df_train_te, cat_cols_sig, 'PINCP')"
   ]
  },
  {
   "cell_type": "code",
   "execution_count": 73,
   "id": "ff59d4cb-74df-4b7c-b076-da6c21f5e30f",
   "metadata": {},
   "outputs": [],
   "source": [
    "X_train_te = df_train_te.drop('PINCP', axis=1)\n",
    "y_train_te = df_train_te['PINCP']"
   ]
  },
  {
   "cell_type": "code",
   "execution_count": 74,
   "id": "47a03974-a5be-457d-ae7c-2c6d3b02d2f6",
   "metadata": {},
   "outputs": [
    {
     "name": "stdout",
     "output_type": "stream",
     "text": [
      "Iteration 1, loss = 0.01111675\n",
      "Validation score: 0.490562\n",
      "Iteration 2, loss = 0.01030261\n",
      "Validation score: 0.501061\n",
      "Iteration 3, loss = 0.01012518\n",
      "Validation score: 0.507723\n",
      "Iteration 4, loss = 0.01006232\n",
      "Validation score: 0.512888\n",
      "Iteration 5, loss = 0.00993577\n",
      "Validation score: 0.518316\n",
      "Iteration 6, loss = 0.00986621\n",
      "Validation score: 0.516199\n",
      "Iteration 7, loss = 0.00983115\n",
      "Validation score: 0.516953\n",
      "Iteration 8, loss = 0.00980796\n",
      "Validation score: 0.504211\n",
      "Iteration 9, loss = 0.00979512\n",
      "Validation score: 0.523291\n",
      "Iteration 10, loss = 0.00978710\n",
      "Validation score: 0.520502\n",
      "Iteration 11, loss = 0.00978080\n",
      "Validation score: 0.524044\n",
      "Iteration 12, loss = 0.00975722\n",
      "Validation score: 0.521435\n",
      "Iteration 13, loss = 0.00974367\n",
      "Validation score: 0.520446\n",
      "Iteration 14, loss = 0.00972694\n",
      "Validation score: 0.526204\n",
      "Iteration 15, loss = 0.00971163\n",
      "Validation score: 0.523730\n",
      "Iteration 16, loss = 0.00970005\n",
      "Validation score: 0.524560\n",
      "Iteration 17, loss = 0.00969205\n",
      "Validation score: 0.523509\n",
      "Iteration 18, loss = 0.00968559\n",
      "Validation score: 0.526018\n",
      "Iteration 19, loss = 0.00967654\n",
      "Validation score: 0.528077\n",
      "Iteration 20, loss = 0.00966984\n",
      "Validation score: 0.527930\n",
      "Iteration 21, loss = 0.00966591\n",
      "Validation score: 0.526163\n",
      "Iteration 22, loss = 0.00966329\n",
      "Validation score: 0.523904\n",
      "Iteration 23, loss = 0.00965510\n",
      "Validation score: 0.529080\n",
      "Iteration 24, loss = 0.00964933\n",
      "Validation score: 0.516755\n",
      "Iteration 25, loss = 0.00965065\n",
      "Validation score: 0.526944\n",
      "Iteration 26, loss = 0.00965160\n",
      "Validation score: 0.528712\n",
      "Iteration 27, loss = 0.00964245\n",
      "Validation score: 0.514483\n",
      "Iteration 28, loss = 0.00964341\n",
      "Validation score: 0.528719\n",
      "Iteration 29, loss = 0.00964251\n",
      "Validation score: 0.528917\n",
      "Iteration 30, loss = 0.00963957\n",
      "Validation score: 0.529746\n",
      "Iteration 31, loss = 0.00963627\n",
      "Validation score: 0.530346\n",
      "Iteration 32, loss = 0.00963015\n",
      "Validation score: 0.530959\n",
      "Iteration 33, loss = 0.00962901\n",
      "Validation score: 0.530164\n",
      "Iteration 34, loss = 0.00962115\n",
      "Validation score: 0.526311\n",
      "Iteration 35, loss = 0.00961740\n",
      "Validation score: 0.530374\n",
      "Iteration 36, loss = 0.00961589\n",
      "Validation score: 0.529627\n",
      "Iteration 37, loss = 0.00961739\n",
      "Validation score: 0.529290\n",
      "Iteration 38, loss = 0.00960976\n",
      "Validation score: 0.525377\n",
      "Iteration 39, loss = 0.00961287\n",
      "Validation score: 0.525828\n",
      "Iteration 40, loss = 0.00961295\n",
      "Validation score: 0.525770\n",
      "Iteration 41, loss = 0.00961281\n",
      "Validation score: 0.531099\n",
      "Iteration 42, loss = 0.00961141\n",
      "Validation score: 0.529069\n",
      "Iteration 43, loss = 0.00960833\n",
      "Validation score: 0.531340\n",
      "Iteration 44, loss = 0.00960915\n",
      "Validation score: 0.524832\n",
      "Iteration 45, loss = 0.00960900\n",
      "Validation score: 0.531195\n",
      "Iteration 46, loss = 0.00960673\n",
      "Validation score: 0.528710\n",
      "Iteration 47, loss = 0.00960612\n",
      "Validation score: 0.528417\n",
      "Iteration 48, loss = 0.00960645\n",
      "Validation score: 0.529907\n",
      "Iteration 49, loss = 0.00960856\n",
      "Validation score: 0.528758\n",
      "Iteration 50, loss = 0.00961037\n",
      "Validation score: 0.531926\n",
      "Iteration 51, loss = 0.00960683\n",
      "Validation score: 0.530242\n",
      "Iteration 52, loss = 0.00960621\n",
      "Validation score: 0.531323\n",
      "Iteration 53, loss = 0.00960897\n",
      "Validation score: 0.531425\n",
      "Iteration 54, loss = 0.00960231\n",
      "Validation score: 0.528789\n",
      "Iteration 55, loss = 0.00960467\n",
      "Validation score: 0.526091\n",
      "Iteration 56, loss = 0.00960389\n",
      "Validation score: 0.529340\n",
      "Iteration 57, loss = 0.00960508\n",
      "Validation score: 0.528252\n",
      "Iteration 58, loss = 0.00960333\n",
      "Validation score: 0.529759\n",
      "Iteration 59, loss = 0.00960443\n",
      "Validation score: 0.531388\n",
      "Iteration 60, loss = 0.00960295\n",
      "Validation score: 0.529356\n",
      "Iteration 61, loss = 0.00960404\n",
      "Validation score: 0.529003\n",
      "Iteration 62, loss = 0.00960637\n",
      "Validation score: 0.530648\n",
      "Iteration 63, loss = 0.00960094\n",
      "Validation score: 0.528781\n",
      "Iteration 64, loss = 0.00960175\n",
      "Validation score: 0.527334\n",
      "Iteration 65, loss = 0.00959894\n",
      "Validation score: 0.523348\n",
      "Iteration 66, loss = 0.00960273\n",
      "Validation score: 0.531017\n",
      "Iteration 67, loss = 0.00960027\n",
      "Validation score: 0.531011\n",
      "Iteration 68, loss = 0.00960297\n",
      "Validation score: 0.527690\n",
      "Iteration 69, loss = 0.00960295\n",
      "Validation score: 0.531764\n",
      "Iteration 70, loss = 0.00959989\n",
      "Validation score: 0.531412\n",
      "Iteration 71, loss = 0.00960138\n",
      "Validation score: 0.529889\n",
      "Iteration 72, loss = 0.00959993\n",
      "Validation score: 0.531345\n",
      "Iteration 73, loss = 0.00959825\n",
      "Validation score: 0.531792\n",
      "Iteration 74, loss = 0.00959840\n",
      "Validation score: 0.532038\n",
      "Iteration 75, loss = 0.00959106\n",
      "Validation score: 0.530921\n",
      "Iteration 76, loss = 0.00959382\n",
      "Validation score: 0.520008\n",
      "Iteration 77, loss = 0.00959000\n",
      "Validation score: 0.531553\n",
      "Iteration 78, loss = 0.00958959\n",
      "Validation score: 0.529501\n",
      "Iteration 79, loss = 0.00958824\n",
      "Validation score: 0.520151\n",
      "Iteration 80, loss = 0.00958637\n",
      "Validation score: 0.527404\n",
      "Iteration 81, loss = 0.00958764\n",
      "Validation score: 0.529679\n",
      "Iteration 82, loss = 0.00958300\n",
      "Validation score: 0.531829\n",
      "Iteration 83, loss = 0.00958857\n",
      "Validation score: 0.523550\n",
      "Iteration 84, loss = 0.00958660\n",
      "Validation score: 0.529966\n",
      "Iteration 85, loss = 0.00958623\n",
      "Validation score: 0.532068\n",
      "Iteration 86, loss = 0.00958416\n",
      "Validation score: 0.532751\n",
      "Iteration 87, loss = 0.00958203\n",
      "Validation score: 0.530828\n",
      "Iteration 88, loss = 0.00958535\n",
      "Validation score: 0.532158\n",
      "Iteration 89, loss = 0.00958441\n",
      "Validation score: 0.531209\n",
      "Iteration 90, loss = 0.00958430\n",
      "Validation score: 0.532069\n",
      "Iteration 91, loss = 0.00958290\n",
      "Validation score: 0.529117\n",
      "Iteration 92, loss = 0.00958498\n",
      "Validation score: 0.532158\n",
      "Iteration 93, loss = 0.00958208\n",
      "Validation score: 0.531375\n",
      "Iteration 94, loss = 0.00957928\n",
      "Validation score: 0.532498\n",
      "Iteration 95, loss = 0.00957878\n",
      "Validation score: 0.532050\n",
      "Iteration 96, loss = 0.00957911\n",
      "Validation score: 0.532016\n",
      "Iteration 97, loss = 0.00957926\n",
      "Validation score: 0.532734\n",
      "Iteration 98, loss = 0.00957962\n",
      "Validation score: 0.532484\n",
      "Iteration 99, loss = 0.00957721\n",
      "Validation score: 0.530601\n",
      "Iteration 100, loss = 0.00957767\n",
      "Validation score: 0.532587\n",
      "Iteration 101, loss = 0.00957891\n",
      "Validation score: 0.531289\n",
      "Iteration 102, loss = 0.00957716\n",
      "Validation score: 0.531459\n",
      "Iteration 103, loss = 0.00957692\n",
      "Validation score: 0.532870\n",
      "Iteration 104, loss = 0.00957924\n",
      "Validation score: 0.532608\n",
      "Iteration 105, loss = 0.00957472\n",
      "Validation score: 0.532260\n",
      "Iteration 106, loss = 0.00957384\n",
      "Validation score: 0.532592\n",
      "Iteration 107, loss = 0.00957604\n",
      "Validation score: 0.532445\n",
      "Iteration 108, loss = 0.00957320\n",
      "Validation score: 0.530212\n",
      "Iteration 109, loss = 0.00957260\n",
      "Validation score: 0.531096\n",
      "Iteration 110, loss = 0.00957677\n",
      "Validation score: 0.532593\n",
      "Iteration 111, loss = 0.00957185\n",
      "Validation score: 0.531507\n",
      "Iteration 112, loss = 0.00957255\n",
      "Validation score: 0.531538\n",
      "Iteration 113, loss = 0.00957432\n",
      "Validation score: 0.531302\n",
      "Iteration 114, loss = 0.00957238\n",
      "Validation score: 0.533150\n",
      "Iteration 115, loss = 0.00957166\n",
      "Validation score: 0.531783\n",
      "Iteration 116, loss = 0.00957167\n",
      "Validation score: 0.532204\n",
      "Iteration 117, loss = 0.00957550\n",
      "Validation score: 0.531785\n",
      "Iteration 118, loss = 0.00957074\n",
      "Validation score: 0.532200\n",
      "Iteration 119, loss = 0.00957051\n",
      "Validation score: 0.533071\n",
      "Iteration 120, loss = 0.00957282\n",
      "Validation score: 0.529494\n",
      "Iteration 121, loss = 0.00956962\n",
      "Validation score: 0.531765\n",
      "Iteration 122, loss = 0.00957204\n",
      "Validation score: 0.533026\n",
      "Iteration 123, loss = 0.00957270\n",
      "Validation score: 0.532826\n",
      "Iteration 124, loss = 0.00957249\n",
      "Validation score: 0.533195\n",
      "Iteration 125, loss = 0.00956978\n",
      "Validation score: 0.531459\n",
      "Iteration 126, loss = 0.00957167\n",
      "Validation score: 0.532978\n",
      "Iteration 127, loss = 0.00956932\n",
      "Validation score: 0.530290\n",
      "Iteration 128, loss = 0.00956792\n",
      "Validation score: 0.532880\n",
      "Iteration 129, loss = 0.00956859\n",
      "Validation score: 0.532683\n",
      "Iteration 130, loss = 0.00956712\n",
      "Validation score: 0.532607\n",
      "Iteration 131, loss = 0.00956871\n",
      "Validation score: 0.532334\n",
      "Iteration 132, loss = 0.00956927\n",
      "Validation score: 0.528749\n",
      "Iteration 133, loss = 0.00956821\n",
      "Validation score: 0.533067\n",
      "Iteration 134, loss = 0.00956868\n",
      "Validation score: 0.529926\n",
      "Iteration 135, loss = 0.00956623\n",
      "Validation score: 0.531033\n",
      "Iteration 136, loss = 0.00956686\n",
      "Validation score: 0.531985\n",
      "Iteration 137, loss = 0.00957084\n",
      "Validation score: 0.533162\n",
      "Iteration 138, loss = 0.00956628\n",
      "Validation score: 0.530257\n",
      "Iteration 139, loss = 0.00956884\n",
      "Validation score: 0.530667\n",
      "Iteration 140, loss = 0.00956636\n",
      "Validation score: 0.530885\n",
      "Iteration 141, loss = 0.00956718\n",
      "Validation score: 0.531040\n",
      "Iteration 142, loss = 0.00957131\n",
      "Validation score: 0.527579\n",
      "Iteration 143, loss = 0.00956707\n",
      "Validation score: 0.529416\n",
      "Iteration 144, loss = 0.00956877\n",
      "Validation score: 0.532618\n",
      "Iteration 145, loss = 0.00956701\n",
      "Validation score: 0.529464\n",
      "Iteration 146, loss = 0.00956460\n",
      "Validation score: 0.533237\n",
      "Iteration 147, loss = 0.00956661\n",
      "Validation score: 0.532279\n",
      "Iteration 148, loss = 0.00956416\n",
      "Validation score: 0.532217\n",
      "Iteration 149, loss = 0.00956562\n",
      "Validation score: 0.523550\n",
      "Iteration 150, loss = 0.00956727\n",
      "Validation score: 0.533232\n",
      "Iteration 151, loss = 0.00956594\n",
      "Validation score: 0.533363\n",
      "Iteration 152, loss = 0.00956503\n",
      "Validation score: 0.533192\n",
      "Iteration 153, loss = 0.00956924\n",
      "Validation score: 0.532780\n",
      "Iteration 154, loss = 0.00956674\n",
      "Validation score: 0.532877\n",
      "Iteration 155, loss = 0.00956456\n",
      "Validation score: 0.532599\n",
      "Iteration 156, loss = 0.00956834\n",
      "Validation score: 0.532870\n",
      "Iteration 157, loss = 0.00956520\n",
      "Validation score: 0.533158\n",
      "Iteration 158, loss = 0.00956560\n",
      "Validation score: 0.531394\n",
      "Iteration 159, loss = 0.00956781\n",
      "Validation score: 0.531986\n",
      "Iteration 160, loss = 0.00956878\n",
      "Validation score: 0.533019\n",
      "Iteration 161, loss = 0.00956445\n",
      "Validation score: 0.532486\n",
      "Iteration 162, loss = 0.00956523\n",
      "Validation score: 0.532983\n",
      "Iteration 163, loss = 0.00956571\n",
      "Validation score: 0.532988\n",
      "Iteration 164, loss = 0.00956803\n",
      "Validation score: 0.532819\n",
      "Iteration 165, loss = 0.00956488\n",
      "Validation score: 0.532067\n",
      "Iteration 166, loss = 0.00956598\n",
      "Validation score: 0.532941\n",
      "Iteration 167, loss = 0.00956494\n",
      "Validation score: 0.526004\n",
      "Iteration 168, loss = 0.00956437\n",
      "Validation score: 0.533077\n",
      "Iteration 169, loss = 0.00956536\n",
      "Validation score: 0.532662\n",
      "Iteration 170, loss = 0.00956521\n",
      "Validation score: 0.526890\n",
      "Iteration 171, loss = 0.00956714\n",
      "Validation score: 0.532904\n",
      "Iteration 172, loss = 0.00956384\n",
      "Validation score: 0.526529\n",
      "Iteration 173, loss = 0.00956557\n",
      "Validation score: 0.532521\n",
      "Iteration 174, loss = 0.00956441\n",
      "Validation score: 0.533388\n",
      "Iteration 175, loss = 0.00956420\n",
      "Validation score: 0.532870\n",
      "Iteration 176, loss = 0.00956571\n",
      "Validation score: 0.529581\n",
      "Iteration 177, loss = 0.00956495\n",
      "Validation score: 0.531103\n",
      "Iteration 178, loss = 0.00956606\n",
      "Validation score: 0.532730\n",
      "Iteration 179, loss = 0.00956916\n",
      "Validation score: 0.530520\n",
      "Iteration 180, loss = 0.00956481\n",
      "Validation score: 0.526962\n",
      "Iteration 181, loss = 0.00956554\n",
      "Validation score: 0.532111\n",
      "Iteration 182, loss = 0.00956764\n",
      "Validation score: 0.532844\n",
      "Iteration 183, loss = 0.00956378\n",
      "Validation score: 0.532558\n",
      "Iteration 184, loss = 0.00956680\n",
      "Validation score: 0.532603\n",
      "Iteration 185, loss = 0.00956652\n",
      "Validation score: 0.533343\n",
      "Iteration 186, loss = 0.00956684\n",
      "Validation score: 0.529353\n",
      "Iteration 187, loss = 0.00956442\n",
      "Validation score: 0.526699\n",
      "Iteration 188, loss = 0.00956245\n",
      "Validation score: 0.532939\n",
      "Iteration 189, loss = 0.00956657\n",
      "Validation score: 0.532955\n",
      "Iteration 190, loss = 0.00956425\n",
      "Validation score: 0.531155\n",
      "Iteration 191, loss = 0.00956345\n",
      "Validation score: 0.530958\n",
      "Iteration 192, loss = 0.00956382\n",
      "Validation score: 0.532463\n",
      "Iteration 193, loss = 0.00956593\n",
      "Validation score: 0.530433\n",
      "Iteration 194, loss = 0.00956476\n",
      "Validation score: 0.533303\n",
      "Iteration 195, loss = 0.00956342\n",
      "Validation score: 0.531935\n",
      "Iteration 196, loss = 0.00956588\n",
      "Validation score: 0.530761\n",
      "Iteration 197, loss = 0.00956645\n",
      "Validation score: 0.532914\n",
      "Iteration 198, loss = 0.00956267\n",
      "Validation score: 0.524829\n",
      "Iteration 199, loss = 0.00956546\n",
      "Validation score: 0.532710\n",
      "Iteration 200, loss = 0.00956761\n",
      "Validation score: 0.532789\n"
     ]
    },
    {
     "name": "stderr",
     "output_type": "stream",
     "text": [
      "/home/jupyter-kriach/.conda/envs/biasbounties/lib/python3.10/site-packages/sklearn/neural_network/_multilayer_perceptron.py:691: ConvergenceWarning: Stochastic Optimizer: Maximum iterations (200) reached and the optimization hasn't converged yet.\n",
      "  warnings.warn(\n"
     ]
    },
    {
     "data": {
      "text/html": [
       "<style>#sk-container-id-7 {color: black;}#sk-container-id-7 pre{padding: 0;}#sk-container-id-7 div.sk-toggleable {background-color: white;}#sk-container-id-7 label.sk-toggleable__label {cursor: pointer;display: block;width: 100%;margin-bottom: 0;padding: 0.3em;box-sizing: border-box;text-align: center;}#sk-container-id-7 label.sk-toggleable__label-arrow:before {content: \"▸\";float: left;margin-right: 0.25em;color: #696969;}#sk-container-id-7 label.sk-toggleable__label-arrow:hover:before {color: black;}#sk-container-id-7 div.sk-estimator:hover label.sk-toggleable__label-arrow:before {color: black;}#sk-container-id-7 div.sk-toggleable__content {max-height: 0;max-width: 0;overflow: hidden;text-align: left;background-color: #f0f8ff;}#sk-container-id-7 div.sk-toggleable__content pre {margin: 0.2em;color: black;border-radius: 0.25em;background-color: #f0f8ff;}#sk-container-id-7 input.sk-toggleable__control:checked~div.sk-toggleable__content {max-height: 200px;max-width: 100%;overflow: auto;}#sk-container-id-7 input.sk-toggleable__control:checked~label.sk-toggleable__label-arrow:before {content: \"▾\";}#sk-container-id-7 div.sk-estimator input.sk-toggleable__control:checked~label.sk-toggleable__label {background-color: #d4ebff;}#sk-container-id-7 div.sk-label input.sk-toggleable__control:checked~label.sk-toggleable__label {background-color: #d4ebff;}#sk-container-id-7 input.sk-hidden--visually {border: 0;clip: rect(1px 1px 1px 1px);clip: rect(1px, 1px, 1px, 1px);height: 1px;margin: -1px;overflow: hidden;padding: 0;position: absolute;width: 1px;}#sk-container-id-7 div.sk-estimator {font-family: monospace;background-color: #f0f8ff;border: 1px dotted black;border-radius: 0.25em;box-sizing: border-box;margin-bottom: 0.5em;}#sk-container-id-7 div.sk-estimator:hover {background-color: #d4ebff;}#sk-container-id-7 div.sk-parallel-item::after {content: \"\";width: 100%;border-bottom: 1px solid gray;flex-grow: 1;}#sk-container-id-7 div.sk-label:hover label.sk-toggleable__label {background-color: #d4ebff;}#sk-container-id-7 div.sk-serial::before {content: \"\";position: absolute;border-left: 1px solid gray;box-sizing: border-box;top: 0;bottom: 0;left: 50%;z-index: 0;}#sk-container-id-7 div.sk-serial {display: flex;flex-direction: column;align-items: center;background-color: white;padding-right: 0.2em;padding-left: 0.2em;position: relative;}#sk-container-id-7 div.sk-item {position: relative;z-index: 1;}#sk-container-id-7 div.sk-parallel {display: flex;align-items: stretch;justify-content: center;background-color: white;position: relative;}#sk-container-id-7 div.sk-item::before, #sk-container-id-7 div.sk-parallel-item::before {content: \"\";position: absolute;border-left: 1px solid gray;box-sizing: border-box;top: 0;bottom: 0;left: 50%;z-index: -1;}#sk-container-id-7 div.sk-parallel-item {display: flex;flex-direction: column;z-index: 1;position: relative;background-color: white;}#sk-container-id-7 div.sk-parallel-item:first-child::after {align-self: flex-end;width: 50%;}#sk-container-id-7 div.sk-parallel-item:last-child::after {align-self: flex-start;width: 50%;}#sk-container-id-7 div.sk-parallel-item:only-child::after {width: 0;}#sk-container-id-7 div.sk-dashed-wrapped {border: 1px dashed gray;margin: 0 0.4em 0.5em 0.4em;box-sizing: border-box;padding-bottom: 0.4em;background-color: white;}#sk-container-id-7 div.sk-label label {font-family: monospace;font-weight: bold;display: inline-block;line-height: 1.2em;}#sk-container-id-7 div.sk-label-container {text-align: center;}#sk-container-id-7 div.sk-container {/* jupyter's `normalize.less` sets `[hidden] { display: none; }` but bootstrap.min.css set `[hidden] { display: none !important; }` so we also need the `!important` here to be able to override the default hidden behavior on the sphinx rendered scikit-learn.org. See: https://github.com/scikit-learn/scikit-learn/issues/21755 */display: inline-block !important;position: relative;}#sk-container-id-7 div.sk-text-repr-fallback {display: none;}</style><div id=\"sk-container-id-7\" class=\"sk-top-container\"><div class=\"sk-text-repr-fallback\"><pre>MLPRegressor(early_stopping=True, hidden_layer_sizes=(14,), n_iter_no_change=50,\n",
       "             verbose=True)</pre><b>In a Jupyter environment, please rerun this cell to show the HTML representation or trust the notebook. <br />On GitHub, the HTML representation is unable to render, please try loading this page with nbviewer.org.</b></div><div class=\"sk-container\" hidden><div class=\"sk-item\"><div class=\"sk-estimator sk-toggleable\"><input class=\"sk-toggleable__control sk-hidden--visually\" id=\"sk-estimator-id-7\" type=\"checkbox\" checked><label for=\"sk-estimator-id-7\" class=\"sk-toggleable__label sk-toggleable__label-arrow\">MLPRegressor</label><div class=\"sk-toggleable__content\"><pre>MLPRegressor(early_stopping=True, hidden_layer_sizes=(14,), n_iter_no_change=50,\n",
       "             verbose=True)</pre></div></div></div></div></div>"
      ],
      "text/plain": [
       "MLPRegressor(early_stopping=True, hidden_layer_sizes=(14,), n_iter_no_change=50,\n",
       "             verbose=True)"
      ]
     },
     "execution_count": 74,
     "metadata": {},
     "output_type": "execute_result"
    }
   ],
   "source": [
    "mlp_batch_te = MLPRegressor(hidden_layer_sizes = (14,),verbose=True, early_stopping=True, n_iter_no_change = 50)\n",
    "mlp_batch_te.fit(X_train_te, y_train_te)"
   ]
  },
  {
   "cell_type": "code",
   "execution_count": 81,
   "id": "6d2d226a-2104-4cbf-ad17-afc77f1dd65a",
   "metadata": {},
   "outputs": [
    {
     "data": {
      "text/plain": [
       "(1255350, 14)"
      ]
     },
     "execution_count": 81,
     "metadata": {},
     "output_type": "execute_result"
    }
   ],
   "source": [
    "X_train_te.shape"
   ]
  },
  {
   "cell_type": "code",
   "execution_count": 82,
   "id": "6f153615-8a90-4347-97cb-b1e6693a3d77",
   "metadata": {},
   "outputs": [
    {
     "data": {
      "text/plain": [
       "0.5384226336014757"
      ]
     },
     "execution_count": 82,
     "metadata": {},
     "output_type": "execute_result"
    }
   ],
   "source": [
    "mlp_batch_te.score(X_train_te, y_train_te)"
   ]
  },
  {
   "cell_type": "code",
   "execution_count": 78,
   "id": "819472cf-05b7-400d-b9ba-e9baa99f7394",
   "metadata": {},
   "outputs": [
    {
     "data": {
      "text/plain": [
       "pandas.core.frame.DataFrame"
      ]
     },
     "execution_count": 78,
     "metadata": {},
     "output_type": "execute_result"
    }
   ],
   "source": [
    "type(X_test_te)"
   ]
  },
  {
   "cell_type": "code",
   "execution_count": 77,
   "id": "0ddaa03b-8bc6-46fd-ab67-c18c1f4d7f49",
   "metadata": {},
   "outputs": [
    {
     "ename": "ValueError",
     "evalue": "The feature names should match those that were passed during fit.\nFeature names unseen at fit time:\n- AGEP\n- WKHP\n",
     "output_type": "error",
     "traceback": [
      "\u001b[0;31m---------------------------------------------------------------------------\u001b[0m",
      "\u001b[0;31mValueError\u001b[0m                                Traceback (most recent call last)",
      "Cell \u001b[0;32mIn[77], line 1\u001b[0m\n\u001b[0;32m----> 1\u001b[0m mlp_batch_te\u001b[38;5;241m.\u001b[39mscore(\u001b[43menc_te\u001b[49m\u001b[38;5;241;43m.\u001b[39;49m\u001b[43mtransform\u001b[49m\u001b[43m(\u001b[49m\u001b[43mX_test_te\u001b[49m\u001b[43m)\u001b[49m, y_test_te)\n",
      "File \u001b[0;32m~/.conda/envs/biasbounties/lib/python3.10/site-packages/sklearn/utils/_set_output.py:140\u001b[0m, in \u001b[0;36m_wrap_method_output.<locals>.wrapped\u001b[0;34m(self, X, *args, **kwargs)\u001b[0m\n\u001b[1;32m    138\u001b[0m \u001b[38;5;129m@wraps\u001b[39m(f)\n\u001b[1;32m    139\u001b[0m \u001b[38;5;28;01mdef\u001b[39;00m \u001b[38;5;21mwrapped\u001b[39m(\u001b[38;5;28mself\u001b[39m, X, \u001b[38;5;241m*\u001b[39margs, \u001b[38;5;241m*\u001b[39m\u001b[38;5;241m*\u001b[39mkwargs):\n\u001b[0;32m--> 140\u001b[0m     data_to_wrap \u001b[38;5;241m=\u001b[39m \u001b[43mf\u001b[49m\u001b[43m(\u001b[49m\u001b[38;5;28;43mself\u001b[39;49m\u001b[43m,\u001b[49m\u001b[43m \u001b[49m\u001b[43mX\u001b[49m\u001b[43m,\u001b[49m\u001b[43m \u001b[49m\u001b[38;5;241;43m*\u001b[39;49m\u001b[43margs\u001b[49m\u001b[43m,\u001b[49m\u001b[43m \u001b[49m\u001b[38;5;241;43m*\u001b[39;49m\u001b[38;5;241;43m*\u001b[39;49m\u001b[43mkwargs\u001b[49m\u001b[43m)\u001b[49m\n\u001b[1;32m    141\u001b[0m     \u001b[38;5;28;01mif\u001b[39;00m \u001b[38;5;28misinstance\u001b[39m(data_to_wrap, \u001b[38;5;28mtuple\u001b[39m):\n\u001b[1;32m    142\u001b[0m         \u001b[38;5;66;03m# only wrap the first output for cross decomposition\u001b[39;00m\n\u001b[1;32m    143\u001b[0m         return_tuple \u001b[38;5;241m=\u001b[39m (\n\u001b[1;32m    144\u001b[0m             _wrap_data_with_container(method, data_to_wrap[\u001b[38;5;241m0\u001b[39m], X, \u001b[38;5;28mself\u001b[39m),\n\u001b[1;32m    145\u001b[0m             \u001b[38;5;241m*\u001b[39mdata_to_wrap[\u001b[38;5;241m1\u001b[39m:],\n\u001b[1;32m    146\u001b[0m         )\n",
      "File \u001b[0;32m~/.conda/envs/biasbounties/lib/python3.10/site-packages/sklearn/preprocessing/_target_encoder.py:276\u001b[0m, in \u001b[0;36mTargetEncoder.transform\u001b[0;34m(self, X)\u001b[0m\n\u001b[1;32m    258\u001b[0m \u001b[38;5;28;01mdef\u001b[39;00m \u001b[38;5;21mtransform\u001b[39m(\u001b[38;5;28mself\u001b[39m, X):\n\u001b[1;32m    259\u001b[0m \u001b[38;5;250m    \u001b[39m\u001b[38;5;124;03m\"\"\"Transform X with the target encoding.\u001b[39;00m\n\u001b[1;32m    260\u001b[0m \n\u001b[1;32m    261\u001b[0m \u001b[38;5;124;03m    .. note::\u001b[39;00m\n\u001b[0;32m   (...)\u001b[0m\n\u001b[1;32m    274\u001b[0m \u001b[38;5;124;03m        Transformed input.\u001b[39;00m\n\u001b[1;32m    275\u001b[0m \u001b[38;5;124;03m    \"\"\"\u001b[39;00m\n\u001b[0;32m--> 276\u001b[0m     X_ordinal, X_valid \u001b[38;5;241m=\u001b[39m \u001b[38;5;28;43mself\u001b[39;49m\u001b[38;5;241;43m.\u001b[39;49m\u001b[43m_transform\u001b[49m\u001b[43m(\u001b[49m\n\u001b[1;32m    277\u001b[0m \u001b[43m        \u001b[49m\u001b[43mX\u001b[49m\u001b[43m,\u001b[49m\u001b[43m \u001b[49m\u001b[43mhandle_unknown\u001b[49m\u001b[38;5;241;43m=\u001b[39;49m\u001b[38;5;124;43m\"\u001b[39;49m\u001b[38;5;124;43mignore\u001b[39;49m\u001b[38;5;124;43m\"\u001b[39;49m\u001b[43m,\u001b[49m\u001b[43m \u001b[49m\u001b[43mforce_all_finite\u001b[49m\u001b[38;5;241;43m=\u001b[39;49m\u001b[38;5;124;43m\"\u001b[39;49m\u001b[38;5;124;43mallow-nan\u001b[39;49m\u001b[38;5;124;43m\"\u001b[39;49m\n\u001b[1;32m    278\u001b[0m \u001b[43m    \u001b[49m\u001b[43m)\u001b[49m\n\u001b[1;32m    279\u001b[0m     X_out \u001b[38;5;241m=\u001b[39m np\u001b[38;5;241m.\u001b[39mempty_like(X_ordinal, dtype\u001b[38;5;241m=\u001b[39mnp\u001b[38;5;241m.\u001b[39mfloat64)\n\u001b[1;32m    280\u001b[0m     \u001b[38;5;28mself\u001b[39m\u001b[38;5;241m.\u001b[39m_transform_X_ordinal(\n\u001b[1;32m    281\u001b[0m         X_out,\n\u001b[1;32m    282\u001b[0m         X_ordinal,\n\u001b[0;32m   (...)\u001b[0m\n\u001b[1;32m    286\u001b[0m         \u001b[38;5;28mself\u001b[39m\u001b[38;5;241m.\u001b[39mtarget_mean_,\n\u001b[1;32m    287\u001b[0m     )\n",
      "File \u001b[0;32m~/.conda/envs/biasbounties/lib/python3.10/site-packages/sklearn/preprocessing/_encoders.py:179\u001b[0m, in \u001b[0;36m_BaseEncoder._transform\u001b[0;34m(self, X, handle_unknown, force_all_finite, warn_on_unknown, ignore_category_indices)\u001b[0m\n\u001b[1;32m    171\u001b[0m \u001b[38;5;28;01mdef\u001b[39;00m \u001b[38;5;21m_transform\u001b[39m(\n\u001b[1;32m    172\u001b[0m     \u001b[38;5;28mself\u001b[39m,\n\u001b[1;32m    173\u001b[0m     X,\n\u001b[0;32m   (...)\u001b[0m\n\u001b[1;32m    177\u001b[0m     ignore_category_indices\u001b[38;5;241m=\u001b[39m\u001b[38;5;28;01mNone\u001b[39;00m,\n\u001b[1;32m    178\u001b[0m ):\n\u001b[0;32m--> 179\u001b[0m     \u001b[38;5;28;43mself\u001b[39;49m\u001b[38;5;241;43m.\u001b[39;49m\u001b[43m_check_feature_names\u001b[49m\u001b[43m(\u001b[49m\u001b[43mX\u001b[49m\u001b[43m,\u001b[49m\u001b[43m \u001b[49m\u001b[43mreset\u001b[49m\u001b[38;5;241;43m=\u001b[39;49m\u001b[38;5;28;43;01mFalse\u001b[39;49;00m\u001b[43m)\u001b[49m\n\u001b[1;32m    180\u001b[0m     \u001b[38;5;28mself\u001b[39m\u001b[38;5;241m.\u001b[39m_check_n_features(X, reset\u001b[38;5;241m=\u001b[39m\u001b[38;5;28;01mFalse\u001b[39;00m)\n\u001b[1;32m    181\u001b[0m     X_list, n_samples, n_features \u001b[38;5;241m=\u001b[39m \u001b[38;5;28mself\u001b[39m\u001b[38;5;241m.\u001b[39m_check_X(\n\u001b[1;32m    182\u001b[0m         X, force_all_finite\u001b[38;5;241m=\u001b[39mforce_all_finite\n\u001b[1;32m    183\u001b[0m     )\n",
      "File \u001b[0;32m~/.conda/envs/biasbounties/lib/python3.10/site-packages/sklearn/base.py:506\u001b[0m, in \u001b[0;36mBaseEstimator._check_feature_names\u001b[0;34m(self, X, reset)\u001b[0m\n\u001b[1;32m    501\u001b[0m \u001b[38;5;28;01mif\u001b[39;00m \u001b[38;5;129;01mnot\u001b[39;00m missing_names \u001b[38;5;129;01mand\u001b[39;00m \u001b[38;5;129;01mnot\u001b[39;00m unexpected_names:\n\u001b[1;32m    502\u001b[0m     message \u001b[38;5;241m+\u001b[39m\u001b[38;5;241m=\u001b[39m (\n\u001b[1;32m    503\u001b[0m         \u001b[38;5;124m\"\u001b[39m\u001b[38;5;124mFeature names must be in the same order as they were in fit.\u001b[39m\u001b[38;5;130;01m\\n\u001b[39;00m\u001b[38;5;124m\"\u001b[39m\n\u001b[1;32m    504\u001b[0m     )\n\u001b[0;32m--> 506\u001b[0m \u001b[38;5;28;01mraise\u001b[39;00m \u001b[38;5;167;01mValueError\u001b[39;00m(message)\n",
      "\u001b[0;31mValueError\u001b[0m: The feature names should match those that were passed during fit.\nFeature names unseen at fit time:\n- AGEP\n- WKHP\n"
     ]
    }
   ],
   "source": [
    "mlp_batch_te.score(enc_te.transform(X_test_te), y_test_te)"
   ]
  },
  {
   "cell_type": "code",
   "execution_count": null,
   "id": "d0c4e3c9-cb70-46d9-930d-7f557ba7ab7a",
   "metadata": {},
   "outputs": [],
   "source": []
  }
 ],
 "metadata": {
  "kernelspec": {
   "display_name": "bb",
   "language": "python",
   "name": "bb"
  },
  "language_info": {
   "codemirror_mode": {
    "name": "ipython",
    "version": 3
   },
   "file_extension": ".py",
   "mimetype": "text/x-python",
   "name": "python",
   "nbconvert_exporter": "python",
   "pygments_lexer": "ipython3",
   "version": "3.10.6"
  }
 },
 "nbformat": 4,
 "nbformat_minor": 5
}
