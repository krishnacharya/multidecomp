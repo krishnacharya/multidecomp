{
 "cells": [
  {
   "cell_type": "code",
   "execution_count": 1,
   "id": "0453eb77-cc14-495c-9ad2-79d3e46edb25",
   "metadata": {},
   "outputs": [],
   "source": [
    "import pandas as pd\n",
    "import numpy as np"
   ]
  },
  {
   "cell_type": "code",
   "execution_count": 2,
   "id": "8df5f462-ba80-414f-9648-0876832024b2",
   "metadata": {},
   "outputs": [],
   "source": [
    "import os\n",
    "os.chdir('..')"
   ]
  },
  {
   "cell_type": "code",
   "execution_count": 3,
   "id": "b0b88013-d200-4b4c-97f7-291af598db34",
   "metadata": {},
   "outputs": [],
   "source": [
    "def match_np_to_dfnotoh(df_notoh, A_t):\n",
    "    print(\"SEX_1\", np.all((df_notoh['SEX'] == 1) == A_t[:, 0]))\n",
    "    print(\"SEX_2\",np.all((df_notoh['SEX'] == 2) == A_t[:, 1]))\n",
    "    print(\"RAC1P_1\", np.all((df_notoh['RAC1P'] == 1) == A_t[:, 2]))\n",
    "    print(\"RAC1P_2\", np.all((df_notoh['RAC1P'] == 2) == A_t[:, 3]))\n",
    "    print(\"RAC1P_3\", np.all((df_notoh['RAC1P'] == 3) == A_t[:, 4]))\n",
    "    print(\"RAC1P_4\", np.all((df_notoh['RAC1P'] == 4) == A_t[:, 5]))\n",
    "    print(\"RAC1P_5\", np.all((df_notoh['RAC1P'] == 5) == A_t[:, 6]))\n",
    "    print(\"RAC1P_6\", np.all((df_notoh['RAC1P'] == 6) == A_t[:, 7]))\n",
    "    print(\"RAC1P_7\", np.all((df_notoh['RAC1P'] == 7) == A_t[:, 8]))\n",
    "    print(\"RAC1P_8\", np.all((df_notoh['RAC1P'] == 8) == A_t[:, 9]))\n",
    "    print(\"RAC1P_9\", np.all((df_notoh['RAC1P'] == 9) == A_t[:, 10]))\n",
    "\n",
    "def match_np_dfoh(df_oh, A_t):\n",
    "    print(\"SEX_1\", np.all(df_oh['SEX_1'] == A_t[:, 0]))\n",
    "    print(\"SEX_2\", np.all(df_oh['SEX_2'] == A_t[:, 1]))\n",
    "    print(\"RAC1P_1\", np.all(df_oh['RAC1P_1'] == A_t[:, 2]))\n",
    "    print(\"RAC1P_2\", np.all(df_oh['RAC1P_2'] == A_t[:, 3]))\n",
    "    print(\"RAC1P_3\", np.all(df_oh['RAC1P_3'] == A_t[:, 4]))\n",
    "    print(\"RAC1P_4\", np.all(df_oh['RAC1P_4'] == A_t[:, 5]))\n",
    "    print(\"RAC1P_5\", np.all(df_oh['RAC1P_5'] == A_t[:, 6]))\n",
    "    print(\"RAC1P_6\", np.all(df_oh['RAC1P_6'] == A_t[:, 7]))\n",
    "    print(\"RAC1P_7\", np.all(df_oh['RAC1P_7'] == A_t[:, 8]))\n",
    "    print(\"RAC1P_8\", np.all(df_oh['RAC1P_8'] == A_t[:, 9]))\n",
    "    print(\"RAC1P_9\", np.all(df_oh['RAC1P_9'] == A_t[:, 10]))"
   ]
  },
  {
   "cell_type": "markdown",
   "id": "c9cf7a50-9046-447c-a626-3de83f875bba",
   "metadata": {},
   "source": [
    "# ACS original ordering, state by state"
   ]
  },
  {
   "cell_type": "code",
   "execution_count": 4,
   "id": "9ce0a07d-d42f-41bb-8ec2-b1a20280d2ce",
   "metadata": {},
   "outputs": [],
   "source": [
    "df_acs_notoh = pd.read_pickle('./data_frames/dense_acs_mm_notoh.pkl')\n",
    "# A_t_acs = np.load('./data_frames/nparrays/acsog_allstates2021_20230808-095906_unshuffled__undropped_.npy')\n",
    "A_t = np.load('./data_frames/nparrays/acsog_statebystate.npy')"
   ]
  },
  {
   "cell_type": "code",
   "execution_count": 5,
   "id": "904a5f48-f7a9-4ee0-ac54-7bd049604706",
   "metadata": {},
   "outputs": [
    {
     "data": {
      "text/plain": [
       "(Counter({1: 805503, 2: 763685}),\n",
       " Counter({1: 1045807,\n",
       "          9: 168468,\n",
       "          2: 136227,\n",
       "          6: 100852,\n",
       "          8: 97582,\n",
       "          3: 14455,\n",
       "          7: 2755,\n",
       "          5: 2316,\n",
       "          4: 726}))"
      ]
     },
     "execution_count": 5,
     "metadata": {},
     "output_type": "execute_result"
    }
   ],
   "source": [
    "from collections import Counter\n",
    "Counter(df_acs_notoh['SEX']), Counter(df_acs_notoh['RAC1P'])"
   ]
  },
  {
   "cell_type": "code",
   "execution_count": 6,
   "id": "09a3df6b-435e-4e1a-817c-e0694d40fadf",
   "metadata": {},
   "outputs": [
    {
     "ename": "NameError",
     "evalue": "name 'A_t_acs' is not defined",
     "output_type": "error",
     "traceback": [
      "\u001b[0;31m---------------------------------------------------------------------------\u001b[0m",
      "\u001b[0;31mNameError\u001b[0m                                 Traceback (most recent call last)",
      "Cell \u001b[0;32mIn[6], line 1\u001b[0m\n\u001b[0;32m----> 1\u001b[0m match_np_to_dfnotoh(df_acs_notoh, \u001b[43mA_t_acs\u001b[49m)\n",
      "\u001b[0;31mNameError\u001b[0m: name 'A_t_acs' is not defined"
     ]
    }
   ],
   "source": [
    "match_np_to_dfnotoh(df_acs_notoh, A_t_acs)"
   ]
  },
  {
   "cell_type": "code",
   "execution_count": 13,
   "id": "01685e6d-9154-4156-86a2-d598a339ff8a",
   "metadata": {},
   "outputs": [],
   "source": [
    "df_acs_oh = pd.read_pickle('./data_frames/dense_acs_mm_oh.pkl')\n",
    "A_t_acs = np.load('./data_frames/nparrays/acsog_allstates2021_20230808-095906_unshuffled__undropped_.npy')"
   ]
  },
  {
   "cell_type": "code",
   "execution_count": 15,
   "id": "b8af3443-684b-49a6-92b6-7c20e4c108a9",
   "metadata": {},
   "outputs": [
    {
     "data": {
      "text/plain": [
       "0          0\n",
       "1          1\n",
       "2          0\n",
       "3          0\n",
       "4          1\n",
       "          ..\n",
       "1630162    0\n",
       "1630163    1\n",
       "1630164    0\n",
       "1630165    1\n",
       "1630166    0\n",
       "Name: SEX_1, Length: 1569188, dtype: uint8"
      ]
     },
     "execution_count": 15,
     "metadata": {},
     "output_type": "execute_result"
    }
   ],
   "source": [
    "df_acs_oh['SEX_1']"
   ]
  },
  {
   "cell_type": "code",
   "execution_count": 25,
   "id": "667a6df7-a7ca-482c-bd9c-f34c06a60de6",
   "metadata": {},
   "outputs": [
    {
     "name": "stdout",
     "output_type": "stream",
     "text": [
      "SEX_1 True\n",
      "SEX_2 True\n",
      "RAC1P_1 True\n",
      "RAC1P_2 True\n",
      "RAC1P_3 True\n",
      "RAC1P_4 True\n",
      "RAC1P_5 True\n",
      "RAC1P_6 True\n",
      "RAC1P_7 True\n",
      "RAC1P_8 True\n",
      "RAC1P_9 True\n"
     ]
    }
   ],
   "source": [
    "match_np_dfoh(df_acs_oh, A_t_acs)"
   ]
  },
  {
   "cell_type": "markdown",
   "id": "1ba42f90-1529-44f3-b4e8-bfd0b2cd66d5",
   "metadata": {},
   "source": [
    "# Shuffled dataframe seed = 21"
   ]
  },
  {
   "cell_type": "code",
   "execution_count": 26,
   "id": "55f859b7-718a-4763-bf92-f039ef1ee19a",
   "metadata": {},
   "outputs": [],
   "source": [
    "df_shuf_21_notoh = df_acs_notoh.sample(frac = 1.0, random_state= 21)"
   ]
  },
  {
   "cell_type": "code",
   "execution_count": 31,
   "id": "3f12936f-e197-4dc1-a51a-668f3670559c",
   "metadata": {},
   "outputs": [],
   "source": [
    "A_t21 = np.load('./data_frames/nparrays/allstates2021_20230805-164023_shuffled__undropped_.npy')\n",
    "A_t21temp = np.load('./data_frames/nparrays/allstates2021_20230725-011846_shuffled__dropped_.npy')"
   ]
  },
  {
   "cell_type": "code",
   "execution_count": 32,
   "id": "fc395497-75bf-4459-b955-4df39d9b0d1c",
   "metadata": {},
   "outputs": [
    {
     "data": {
      "text/plain": [
       "True"
      ]
     },
     "execution_count": 32,
     "metadata": {},
     "output_type": "execute_result"
    }
   ],
   "source": [
    "np.all(A_t21 == A_t21temp)"
   ]
  },
  {
   "cell_type": "code",
   "execution_count": 33,
   "id": "311e2141-eea0-4c75-a613-2db879fc71a2",
   "metadata": {},
   "outputs": [
    {
     "name": "stdout",
     "output_type": "stream",
     "text": [
      "SEX_1 True\n",
      "SEX_2 True\n",
      "RAC1P_1 True\n",
      "RAC1P_2 True\n",
      "RAC1P_3 True\n",
      "RAC1P_4 True\n",
      "RAC1P_5 True\n",
      "RAC1P_6 True\n",
      "RAC1P_7 True\n",
      "RAC1P_8 True\n",
      "RAC1P_9 True\n"
     ]
    }
   ],
   "source": [
    "match_np_to_dfnotoh(df_shuf_21_notoh, A_t21)"
   ]
  },
  {
   "cell_type": "code",
   "execution_count": 34,
   "id": "c7229832-81bc-4559-8946-36a70e28da50",
   "metadata": {},
   "outputs": [],
   "source": [
    "df_shuf21_oh = df_acs_oh.sample(frac = 1.0, random_state = 21)"
   ]
  },
  {
   "cell_type": "code",
   "execution_count": 35,
   "id": "04c2896c-88be-4cf3-92fa-252ed645b9e1",
   "metadata": {},
   "outputs": [
    {
     "name": "stdout",
     "output_type": "stream",
     "text": [
      "SEX_1 True\n",
      "SEX_2 True\n",
      "RAC1P_1 True\n",
      "RAC1P_2 True\n",
      "RAC1P_3 True\n",
      "RAC1P_4 True\n",
      "RAC1P_5 True\n",
      "RAC1P_6 True\n",
      "RAC1P_7 True\n",
      "RAC1P_8 True\n",
      "RAC1P_9 True\n"
     ]
    }
   ],
   "source": [
    "match_np_dfoh(df_shuf21_oh, A_t21)"
   ]
  },
  {
   "cell_type": "markdown",
   "id": "93cbb04d-a5d1-46a4-89ce-66be7dc37505",
   "metadata": {},
   "source": [
    "# shuffle dataframe seed = 42"
   ]
  },
  {
   "cell_type": "code",
   "execution_count": 36,
   "id": "9141838f-9eb2-4b4a-9a1e-d8104353169d",
   "metadata": {},
   "outputs": [],
   "source": [
    "df_shuf_42_notoh = df_acs_notoh.sample(frac = 1.0, random_state= 42)"
   ]
  },
  {
   "cell_type": "code",
   "execution_count": 37,
   "id": "7187c659-c8fd-4436-968c-9852caae2ef0",
   "metadata": {},
   "outputs": [
    {
     "name": "stdout",
     "output_type": "stream",
     "text": [
      "True\n"
     ]
    }
   ],
   "source": [
    "A_t42 = np.load('./data_frames/nparrays/allstate_shuffle_seed42_20230727-014004_shuffled__undropped_.npy')\n",
    "A_t42_temp = np.load('./data_frames/nparrays/allstate_shuffle_seed42_20230727-031153_shuffled__dropped_.npy')\n",
    "\n",
    "print(np.all(A_t42 == A_t42_temp))"
   ]
  },
  {
   "cell_type": "code",
   "execution_count": 38,
   "id": "ee21f536-96d6-4d5e-9e39-b76b25302a81",
   "metadata": {},
   "outputs": [
    {
     "name": "stdout",
     "output_type": "stream",
     "text": [
      "SEX_1 True\n",
      "SEX_2 True\n",
      "RAC1P_1 True\n",
      "RAC1P_2 True\n",
      "RAC1P_3 True\n",
      "RAC1P_4 True\n",
      "RAC1P_5 True\n",
      "RAC1P_6 True\n",
      "RAC1P_7 True\n",
      "RAC1P_8 True\n",
      "RAC1P_9 True\n"
     ]
    }
   ],
   "source": [
    "match_np_to_dfnotoh(df_shuf_42_notoh, A_t42)"
   ]
  },
  {
   "cell_type": "code",
   "execution_count": 39,
   "id": "3c60eb3a-f5b7-4841-8da4-ad8ab514d17e",
   "metadata": {},
   "outputs": [],
   "source": [
    "df_shuf42_oh = df_acs_oh.sample(frac = 1.0, random_state = 42)"
   ]
  },
  {
   "cell_type": "code",
   "execution_count": 40,
   "id": "2db27b8c-68c8-44a4-9bd3-8c7893c67a4d",
   "metadata": {},
   "outputs": [
    {
     "name": "stdout",
     "output_type": "stream",
     "text": [
      "SEX_1 True\n",
      "SEX_2 True\n",
      "RAC1P_1 True\n",
      "RAC1P_2 True\n",
      "RAC1P_3 True\n",
      "RAC1P_4 True\n",
      "RAC1P_5 True\n",
      "RAC1P_6 True\n",
      "RAC1P_7 True\n",
      "RAC1P_8 True\n",
      "RAC1P_9 True\n"
     ]
    }
   ],
   "source": [
    "match_np_dfoh(df_shuf42_oh, A_t42)"
   ]
  },
  {
   "cell_type": "markdown",
   "id": "801d90a0-deef-4a40-a34e-eacdec8a4492",
   "metadata": {},
   "source": [
    "# sorted by RACE sizes, largest to smallest"
   ]
  },
  {
   "cell_type": "code",
   "execution_count": 53,
   "id": "ffc7f553-19b3-4cdb-8d2c-f8d5720a4cf8",
   "metadata": {},
   "outputs": [],
   "source": [
    "df_race_ls_notoh = df_acs_notoh.sort_values(by='RAC1P', key=lambda x: x.map(x.value_counts()), \n",
    "                                    ascending=False, inplace = False, kind = 'mergesort')"
   ]
  },
  {
   "cell_type": "code",
   "execution_count": 54,
   "id": "0adc7ab3-9b96-4f85-8fe9-7d13e9909b79",
   "metadata": {},
   "outputs": [
    {
     "data": {
      "text/plain": [
       "True"
      ]
     },
     "execution_count": 54,
     "metadata": {},
     "output_type": "execute_result"
    }
   ],
   "source": [
    "df_racels_saved= pd.read_pickle('./data_frames/dense_racesort_mm_notoh.pkl')\n",
    "df_racels_saved.equals(df_race_ls_notoh)"
   ]
  },
  {
   "cell_type": "code",
   "execution_count": 56,
   "id": "66111f78-8937-44ba-bde6-bd8ec4e752f7",
   "metadata": {},
   "outputs": [
    {
     "name": "stdout",
     "output_type": "stream",
     "text": [
      "True\n"
     ]
    }
   ],
   "source": [
    "A_trace_ls = np.load('./data_frames/nparrays/sort_by_racecounts_20230807-142909_unshuffled__undropped_.npy')\n",
    "A_trace_lstemp = np.load('./data_frames/nparrays/sort_by_racecounts_20230807-161028_unshuffled__dropped_.npy')\n",
    "\n",
    "print(np.all(A_trace_ls == A_trace_lstemp))"
   ]
  },
  {
   "cell_type": "code",
   "execution_count": 57,
   "id": "e21c5859-c607-4d1f-ab4f-f63cec889aa1",
   "metadata": {},
   "outputs": [
    {
     "name": "stdout",
     "output_type": "stream",
     "text": [
      "SEX_1 True\n",
      "SEX_2 True\n",
      "RAC1P_1 True\n",
      "RAC1P_2 True\n",
      "RAC1P_3 True\n",
      "RAC1P_4 True\n",
      "RAC1P_5 True\n",
      "RAC1P_6 True\n",
      "RAC1P_7 True\n",
      "RAC1P_8 True\n",
      "RAC1P_9 True\n"
     ]
    }
   ],
   "source": [
    "match_np_to_dfnotoh(df_race_ls_notoh, A_trace_ls)"
   ]
  },
  {
   "cell_type": "markdown",
   "id": "a55fbece-f8c2-4079-803a-77e519b4365a",
   "metadata": {},
   "source": [
    "# sorted by SEX sizes, largest to smallest"
   ]
  },
  {
   "cell_type": "code",
   "execution_count": null,
   "id": "d52702c9-6dcb-42f1-b1a7-9f609944ae62",
   "metadata": {},
   "outputs": [],
   "source": [
    "# TODO: check that df_sex_ls_notoh matches dense sexsorted one hot\n",
    "# pd.read_pickle('./data_frames/dense_sexsort_mm_notoh.pkl')"
   ]
  },
  {
   "cell_type": "code",
   "execution_count": 45,
   "id": "1099226a-03ce-4f6b-b6b3-62437f2449f4",
   "metadata": {},
   "outputs": [],
   "source": [
    "df_sex_ls_notoh = df_acs_notoh.sort_values(by='SEX', key=lambda x: x.map(x.value_counts()), ascending=False,  \n",
    "                                inplace = False, kind = 'mergesort')"
   ]
  },
  {
   "cell_type": "code",
   "execution_count": 44,
   "id": "d8ca7434-1da7-417f-b690-914f20700eab",
   "metadata": {},
   "outputs": [
    {
     "name": "stdout",
     "output_type": "stream",
     "text": [
      "True\n"
     ]
    }
   ],
   "source": [
    "A_tsex_ls = np.load('./data_frames/nparrays/sort_by_sex_20230807-084411_unshuffled__undropped_.npy')\n",
    "A_tsex_lstemp = np.load('./data_frames/nparrays/sort_by_sex_20230807-125728_unshuffled__dropped_.npy')\n",
    "\n",
    "print(np.all(A_tsex_ls == A_tsex_lstemp))"
   ]
  },
  {
   "cell_type": "code",
   "execution_count": 46,
   "id": "113e97d6-0e14-45c9-80a0-a527cbeb4917",
   "metadata": {},
   "outputs": [
    {
     "name": "stdout",
     "output_type": "stream",
     "text": [
      "SEX_1 True\n",
      "SEX_2 True\n",
      "RAC1P_1 True\n",
      "RAC1P_2 True\n",
      "RAC1P_3 True\n",
      "RAC1P_4 True\n",
      "RAC1P_5 True\n",
      "RAC1P_6 True\n",
      "RAC1P_7 True\n",
      "RAC1P_8 True\n",
      "RAC1P_9 True\n"
     ]
    }
   ],
   "source": [
    "match_np_to_dfnotoh(df_sex_ls_notoh, A_tsex_ls)"
   ]
  },
  {
   "cell_type": "code",
   "execution_count": 47,
   "id": "27912a3c-f385-428c-9e84-0d733c0a0eea",
   "metadata": {},
   "outputs": [
    {
     "data": {
      "text/html": [
       "<div>\n",
       "<style scoped>\n",
       "    .dataframe tbody tr th:only-of-type {\n",
       "        vertical-align: middle;\n",
       "    }\n",
       "\n",
       "    .dataframe tbody tr th {\n",
       "        vertical-align: top;\n",
       "    }\n",
       "\n",
       "    .dataframe thead th {\n",
       "        text-align: right;\n",
       "    }\n",
       "</style>\n",
       "<table border=\"1\" class=\"dataframe\">\n",
       "  <thead>\n",
       "    <tr style=\"text-align: right;\">\n",
       "      <th></th>\n",
       "      <th>OCCP</th>\n",
       "      <th>WKHP</th>\n",
       "      <th>AGEP</th>\n",
       "      <th>SCHL</th>\n",
       "      <th>ST</th>\n",
       "      <th>JWTRNS</th>\n",
       "      <th>DRAT</th>\n",
       "      <th>COW</th>\n",
       "      <th>SEX</th>\n",
       "      <th>RELSHIPP</th>\n",
       "      <th>POBP</th>\n",
       "      <th>ENG</th>\n",
       "      <th>MAR</th>\n",
       "      <th>RAC1P</th>\n",
       "      <th>PINCP</th>\n",
       "    </tr>\n",
       "  </thead>\n",
       "  <tbody>\n",
       "    <tr>\n",
       "      <th>1</th>\n",
       "      <td>4640</td>\n",
       "      <td>0.397959</td>\n",
       "      <td>0.037975</td>\n",
       "      <td>19</td>\n",
       "      <td>1</td>\n",
       "      <td>1</td>\n",
       "      <td>0</td>\n",
       "      <td>1</td>\n",
       "      <td>1</td>\n",
       "      <td>38</td>\n",
       "      <td>13</td>\n",
       "      <td>0</td>\n",
       "      <td>5</td>\n",
       "      <td>2</td>\n",
       "      <td>0.030967</td>\n",
       "    </tr>\n",
       "    <tr>\n",
       "      <th>4</th>\n",
       "      <td>2722</td>\n",
       "      <td>0.091837</td>\n",
       "      <td>0.025316</td>\n",
       "      <td>18</td>\n",
       "      <td>1</td>\n",
       "      <td>0</td>\n",
       "      <td>0</td>\n",
       "      <td>1</td>\n",
       "      <td>1</td>\n",
       "      <td>38</td>\n",
       "      <td>36</td>\n",
       "      <td>0</td>\n",
       "      <td>5</td>\n",
       "      <td>1</td>\n",
       "      <td>0.009455</td>\n",
       "    </tr>\n",
       "    <tr>\n",
       "      <th>9</th>\n",
       "      <td>9620</td>\n",
       "      <td>0.244898</td>\n",
       "      <td>0.063291</td>\n",
       "      <td>19</td>\n",
       "      <td>1</td>\n",
       "      <td>0</td>\n",
       "      <td>0</td>\n",
       "      <td>1</td>\n",
       "      <td>1</td>\n",
       "      <td>38</td>\n",
       "      <td>1</td>\n",
       "      <td>0</td>\n",
       "      <td>5</td>\n",
       "      <td>1</td>\n",
       "      <td>0.078493</td>\n",
       "    </tr>\n",
       "    <tr>\n",
       "      <th>11</th>\n",
       "      <td>4030</td>\n",
       "      <td>0.193878</td>\n",
       "      <td>0.012658</td>\n",
       "      <td>18</td>\n",
       "      <td>1</td>\n",
       "      <td>1</td>\n",
       "      <td>0</td>\n",
       "      <td>1</td>\n",
       "      <td>1</td>\n",
       "      <td>38</td>\n",
       "      <td>1</td>\n",
       "      <td>0</td>\n",
       "      <td>5</td>\n",
       "      <td>2</td>\n",
       "      <td>0.009455</td>\n",
       "    </tr>\n",
       "    <tr>\n",
       "      <th>13</th>\n",
       "      <td>9645</td>\n",
       "      <td>0.346939</td>\n",
       "      <td>0.063291</td>\n",
       "      <td>21</td>\n",
       "      <td>1</td>\n",
       "      <td>0</td>\n",
       "      <td>0</td>\n",
       "      <td>5</td>\n",
       "      <td>1</td>\n",
       "      <td>38</td>\n",
       "      <td>1</td>\n",
       "      <td>0</td>\n",
       "      <td>5</td>\n",
       "      <td>2</td>\n",
       "      <td>0.034469</td>\n",
       "    </tr>\n",
       "    <tr>\n",
       "      <th>...</th>\n",
       "      <td>...</td>\n",
       "      <td>...</td>\n",
       "      <td>...</td>\n",
       "      <td>...</td>\n",
       "      <td>...</td>\n",
       "      <td>...</td>\n",
       "      <td>...</td>\n",
       "      <td>...</td>\n",
       "      <td>...</td>\n",
       "      <td>...</td>\n",
       "      <td>...</td>\n",
       "      <td>...</td>\n",
       "      <td>...</td>\n",
       "      <td>...</td>\n",
       "      <td>...</td>\n",
       "    </tr>\n",
       "    <tr>\n",
       "      <th>1630157</th>\n",
       "      <td>3605</td>\n",
       "      <td>0.397959</td>\n",
       "      <td>0.721519</td>\n",
       "      <td>16</td>\n",
       "      <td>72</td>\n",
       "      <td>1</td>\n",
       "      <td>0</td>\n",
       "      <td>1</td>\n",
       "      <td>2</td>\n",
       "      <td>21</td>\n",
       "      <td>72</td>\n",
       "      <td>4</td>\n",
       "      <td>1</td>\n",
       "      <td>1</td>\n",
       "      <td>0.118015</td>\n",
       "    </tr>\n",
       "    <tr>\n",
       "      <th>1630159</th>\n",
       "      <td>800</td>\n",
       "      <td>0.295918</td>\n",
       "      <td>0.291139</td>\n",
       "      <td>21</td>\n",
       "      <td>72</td>\n",
       "      <td>1</td>\n",
       "      <td>0</td>\n",
       "      <td>1</td>\n",
       "      <td>2</td>\n",
       "      <td>21</td>\n",
       "      <td>72</td>\n",
       "      <td>3</td>\n",
       "      <td>1</td>\n",
       "      <td>9</td>\n",
       "      <td>0.085497</td>\n",
       "    </tr>\n",
       "    <tr>\n",
       "      <th>1630162</th>\n",
       "      <td>1430</td>\n",
       "      <td>0.397959</td>\n",
       "      <td>0.291139</td>\n",
       "      <td>21</td>\n",
       "      <td>72</td>\n",
       "      <td>1</td>\n",
       "      <td>0</td>\n",
       "      <td>1</td>\n",
       "      <td>2</td>\n",
       "      <td>20</td>\n",
       "      <td>72</td>\n",
       "      <td>2</td>\n",
       "      <td>5</td>\n",
       "      <td>9</td>\n",
       "      <td>0.399670</td>\n",
       "    </tr>\n",
       "    <tr>\n",
       "      <th>1630164</th>\n",
       "      <td>5740</td>\n",
       "      <td>0.397959</td>\n",
       "      <td>0.367089</td>\n",
       "      <td>21</td>\n",
       "      <td>72</td>\n",
       "      <td>1</td>\n",
       "      <td>0</td>\n",
       "      <td>4</td>\n",
       "      <td>2</td>\n",
       "      <td>21</td>\n",
       "      <td>72</td>\n",
       "      <td>0</td>\n",
       "      <td>1</td>\n",
       "      <td>9</td>\n",
       "      <td>0.092501</td>\n",
       "    </tr>\n",
       "    <tr>\n",
       "      <th>1630166</th>\n",
       "      <td>2300</td>\n",
       "      <td>0.397959</td>\n",
       "      <td>0.493671</td>\n",
       "      <td>21</td>\n",
       "      <td>72</td>\n",
       "      <td>1</td>\n",
       "      <td>0</td>\n",
       "      <td>2</td>\n",
       "      <td>2</td>\n",
       "      <td>21</td>\n",
       "      <td>72</td>\n",
       "      <td>4</td>\n",
       "      <td>1</td>\n",
       "      <td>2</td>\n",
       "      <td>0.138026</td>\n",
       "    </tr>\n",
       "  </tbody>\n",
       "</table>\n",
       "<p>1569188 rows × 15 columns</p>\n",
       "</div>"
      ],
      "text/plain": [
       "         OCCP      WKHP      AGEP  SCHL  ST  JWTRNS  DRAT  COW  SEX  RELSHIPP  \\\n",
       "1        4640  0.397959  0.037975    19   1       1     0    1    1        38   \n",
       "4        2722  0.091837  0.025316    18   1       0     0    1    1        38   \n",
       "9        9620  0.244898  0.063291    19   1       0     0    1    1        38   \n",
       "11       4030  0.193878  0.012658    18   1       1     0    1    1        38   \n",
       "13       9645  0.346939  0.063291    21   1       0     0    5    1        38   \n",
       "...       ...       ...       ...   ...  ..     ...   ...  ...  ...       ...   \n",
       "1630157  3605  0.397959  0.721519    16  72       1     0    1    2        21   \n",
       "1630159   800  0.295918  0.291139    21  72       1     0    1    2        21   \n",
       "1630162  1430  0.397959  0.291139    21  72       1     0    1    2        20   \n",
       "1630164  5740  0.397959  0.367089    21  72       1     0    4    2        21   \n",
       "1630166  2300  0.397959  0.493671    21  72       1     0    2    2        21   \n",
       "\n",
       "         POBP  ENG  MAR  RAC1P     PINCP  \n",
       "1          13    0    5      2  0.030967  \n",
       "4          36    0    5      1  0.009455  \n",
       "9           1    0    5      1  0.078493  \n",
       "11          1    0    5      2  0.009455  \n",
       "13          1    0    5      2  0.034469  \n",
       "...       ...  ...  ...    ...       ...  \n",
       "1630157    72    4    1      1  0.118015  \n",
       "1630159    72    3    1      9  0.085497  \n",
       "1630162    72    2    5      9  0.399670  \n",
       "1630164    72    0    1      9  0.092501  \n",
       "1630166    72    4    1      2  0.138026  \n",
       "\n",
       "[1569188 rows x 15 columns]"
      ]
     },
     "execution_count": 47,
     "metadata": {},
     "output_type": "execute_result"
    }
   ],
   "source": [
    "df_sex_ls"
   ]
  },
  {
   "cell_type": "code",
   "execution_count": 49,
   "id": "858aecb5-e7a8-4e7d-9e80-8ab568906f04",
   "metadata": {},
   "outputs": [],
   "source": [
    "df_sexls_saved = pd.read_pickle('./data_frames/dense_sexsort_mm_notoh.pkl')"
   ]
  },
  {
   "cell_type": "code",
   "execution_count": 50,
   "id": "bdc95082-0b4c-484c-acf0-f770ddbb7cfe",
   "metadata": {},
   "outputs": [
    {
     "data": {
      "text/plain": [
       "True"
      ]
     },
     "execution_count": 50,
     "metadata": {},
     "output_type": "execute_result"
    }
   ],
   "source": [
    "df_sex_ls.equals(df_sexls_saved)"
   ]
  },
  {
   "cell_type": "code",
   "execution_count": null,
   "id": "f0dfe659-1730-49e0-b98f-cb1a5c105cf2",
   "metadata": {},
   "outputs": [],
   "source": []
  }
 ],
 "metadata": {
  "kernelspec": {
   "display_name": "bb",
   "language": "python",
   "name": "bb"
  },
  "language_info": {
   "codemirror_mode": {
    "name": "ipython",
    "version": 3
   },
   "file_extension": ".py",
   "mimetype": "text/x-python",
   "name": "python",
   "nbconvert_exporter": "python",
   "pygments_lexer": "ipython3",
   "version": "3.10.6"
  }
 },
 "nbformat": 4,
 "nbformat_minor": 5
}
