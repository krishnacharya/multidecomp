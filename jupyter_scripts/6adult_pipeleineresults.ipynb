{
 "cells": [
  {
   "cell_type": "code",
   "execution_count": 1,
   "id": "42707afb-af39-4eb0-bd60-f08f77127709",
   "metadata": {},
   "outputs": [
    {
     "name": "stdout",
     "output_type": "stream",
     "text": [
      "/Users/krishna/Documents/Research/Simultaneous Classifier/folktables-experiments/multidecomp\n"
     ]
    }
   ],
   "source": [
    "import os\n",
    "os.chdir('..')\n",
    "!pwd"
   ]
  },
  {
   "cell_type": "code",
   "execution_count": 2,
   "id": "48acb43a-a648-4ad5-8615-584541d2860b",
   "metadata": {},
   "outputs": [],
   "source": [
    "import bilevel\n",
    "from bilevel.Adahedge import *\n",
    "from bilevel.build_all_models import *\n",
    "from bilevel.OnlineLinearExpert import *\n",
    "from bilevel.OnlineTreeExpert import *"
   ]
  },
  {
   "cell_type": "code",
   "execution_count": 3,
   "id": "cde022aa-f550-448e-b2c6-493fe054deab",
   "metadata": {},
   "outputs": [],
   "source": [
    "import pandas as pd\n",
    "import numpy as np"
   ]
  },
  {
   "cell_type": "markdown",
   "id": "1aa2b7ce-449d-421d-bfe4-59718f17f554",
   "metadata": {},
   "source": [
    "# Original Adult ordering, undropped sensitive groups"
   ]
  },
  {
   "cell_type": "markdown",
   "id": "eddb9270-64e0-4fa1-ab24-642982f33341",
   "metadata": {},
   "source": [
    "## Online ridge baselines"
   ]
  },
  {
   "cell_type": "code",
   "execution_count": 4,
   "id": "cb13d140-558b-409e-bf7e-a6521ad397d3",
   "metadata": {},
   "outputs": [],
   "source": [
    "df_og_oh = pd.read_pickle('./data_small/dataframes/df_adultog_oh.pkl')"
   ]
  },
  {
   "cell_type": "code",
   "execution_count": 5,
   "id": "851e6ea0-bba1-4b0d-81fb-705c8a4b055d",
   "metadata": {},
   "outputs": [],
   "source": [
    "X_dat_og_oh = df_og_oh.drop('income', axis=1)\n",
    "y_dat_og_oh = df_og_oh['income']"
   ]
  },
  {
   "cell_type": "code",
   "execution_count": 6,
   "id": "6ca31bb1-94b2-4f0f-96cf-ff777a4a08c2",
   "metadata": {},
   "outputs": [],
   "source": [
    "A_t_og_oh = np.load('./data_small/nparrays/A_t_adultog.npy')"
   ]
  },
  {
   "cell_type": "code",
   "execution_count": 7,
   "id": "2fb21416-8ff8-4602-b80d-001f629875a2",
   "metadata": {},
   "outputs": [],
   "source": [
    "dirname = './models_adult/baseline/'\n",
    "filename = 'ridge_og_oh'"
   ]
  },
  {
   "cell_type": "code",
   "execution_count": 8,
   "id": "fc88348d-ae71-4e63-a01d-d042768d1663",
   "metadata": {},
   "outputs": [
    {
     "name": "stderr",
     "output_type": "stream",
     "text": [
      "100%|██████████| 49531/49531 [00:15<00:00, 3177.14it/s]\n"
     ]
    }
   ],
   "source": [
    "expridge = OnlineLinearExpert(X_dat_og_oh, y_dat_og_oh, l2_pen = 0.0)\n",
    "b_ridgebase = build_baseline_alwayson(dirname, filename, A_t_og_oh, expridge)"
   ]
  },
  {
   "cell_type": "code",
   "execution_count": 9,
   "id": "e464dd55",
   "metadata": {},
   "outputs": [
    {
     "data": {
      "text/plain": [
       "(49531, 8)"
      ]
     },
     "execution_count": 9,
     "metadata": {},
     "output_type": "execute_result"
    }
   ],
   "source": [
    "A_t_og_oh.shape"
   ]
  },
  {
   "cell_type": "code",
   "execution_count": 10,
   "id": "81293c14",
   "metadata": {},
   "outputs": [
    {
     "name": "stdout",
     "output_type": "stream",
     "text": [
      "12.508590287453616\n",
      "61.14885755769352\n",
      "107.20875707048076\n",
      "9.91389446268583\n",
      "1375.8878453850696\n",
      "348.50439068844014\n",
      "1218.1635540749396\n",
      "1566.6679447633792\n"
     ]
    }
   ],
   "source": [
    "for gnum in range(A_t_og_oh.shape[1]):\n",
    "  print(b_ridgebase.expert.cumloss_groupwise[gnum][-1])"
   ]
  },
  {
   "cell_type": "markdown",
   "id": "d930dae3-08cf-4557-9ed1-d4f3a2193b62",
   "metadata": {},
   "source": [
    "## Anh with online ridge meta experts"
   ]
  },
  {
   "cell_type": "code",
   "execution_count": 10,
   "id": "a79b38bc-5c25-4796-9a37-906b315ba69d",
   "metadata": {},
   "outputs": [],
   "source": [
    "dirname = './models_adult/Anh/'\n",
    "filename = 'ridgemeta_og_oh'"
   ]
  },
  {
   "cell_type": "code",
   "execution_count": 11,
   "id": "19155498-8f48-4d5b-83be-c8fb326bc7c6",
   "metadata": {},
   "outputs": [],
   "source": [
    "# experts = [OnlineLinearExpert(X_dat_og_oh, y_dat_og_oh, l2_pen = 1.0) for _ in range(A_t_og_oh.shape[1])]\n",
    "experts = [OnlineLinearExpert(X_dat_og_oh, y_dat_og_oh, l2_pen = 0.0) for _ in range(A_t_og_oh.shape[1])]"
   ]
  },
  {
   "cell_type": "code",
   "execution_count": 12,
   "id": "6b79929f-67e9-41ba-a54d-271cf9618c6f",
   "metadata": {},
   "outputs": [
    {
     "name": "stderr",
     "output_type": "stream",
     "text": [
      "100%|██████████| 49531/49531 [00:50<00:00, 980.16it/s] \n"
     ]
    }
   ],
   "source": [
    "b_Anh = build_Anh(dirname, filename, A_t_og_oh, experts)"
   ]
  },
  {
   "cell_type": "code",
   "execution_count": 13,
   "id": "77b461a8-901c-4e42-91d8-21482ca827f5",
   "metadata": {},
   "outputs": [
    {
     "name": "stdout",
     "output_type": "stream",
     "text": [
      "12.805537953588432 471\n",
      "61.490646376534755 1519\n",
      "107.45616697332657 4694\n",
      "10.167420056158432 406\n",
      "1376.3677603361211 42441\n",
      "348.8098958200054 16357\n",
      "1219.4776358757206 33174\n",
      "1568.2875316957266 49531\n"
     ]
    }
   ],
   "source": [
    "for gnum in range(8):\n",
    "  print(b_Anh.Anh.cumloss_groupwise_ada[gnum][-1], len(b_Anh.Anh.cumloss_groupwise_ada[gnum]))"
   ]
  },
  {
   "cell_type": "code",
   "execution_count": 13,
   "id": "279dfc49-6f1e-4f1f-98d1-679c9e64ac67",
   "metadata": {},
   "outputs": [
    {
     "name": "stdout",
     "output_type": "stream",
     "text": [
      "18.653817880741098 471\n",
      "81.41566809873368 1519\n",
      "153.26694468195157 4694\n",
      "15.660961471871213 406\n",
      "2017.5993049821036 42441\n",
      "535.0489399658729 16357\n",
      "1751.547757149526 33174\n",
      "2286.5966971154044 49531\n"
     ]
    }
   ],
   "source": [
    "for gnum in range(8):\n",
    "  print(b_Anh.Anh.cuml_loss_curve[gnum][-1], len(b_Anh.Anh.cuml_loss_curve[gnum]))"
   ]
  },
  {
   "cell_type": "markdown",
   "id": "3939aa7c-afa2-4665-b5a5-1ac78a526f78",
   "metadata": {},
   "source": [
    "## Online hoeffding tree baseline"
   ]
  },
  {
   "cell_type": "code",
   "execution_count": 7,
   "id": "11f0ae6f-727a-480d-9ec4-02225f485c34",
   "metadata": {},
   "outputs": [],
   "source": [
    "df_le_og = pd.read_pickle('./data_small/dataframes/df_adultog_le.pkl')"
   ]
  },
  {
   "cell_type": "code",
   "execution_count": 9,
   "id": "ff07256e-0ba5-4ced-87c4-c866f9a94ff6",
   "metadata": {},
   "outputs": [
    {
     "data": {
      "text/html": [
       "<div>\n",
       "<style scoped>\n",
       "    .dataframe tbody tr th:only-of-type {\n",
       "        vertical-align: middle;\n",
       "    }\n",
       "\n",
       "    .dataframe tbody tr th {\n",
       "        vertical-align: top;\n",
       "    }\n",
       "\n",
       "    .dataframe thead th {\n",
       "        text-align: right;\n",
       "    }\n",
       "</style>\n",
       "<table border=\"1\" class=\"dataframe\">\n",
       "  <thead>\n",
       "    <tr style=\"text-align: right;\">\n",
       "      <th></th>\n",
       "      <th>hours-per-week</th>\n",
       "      <th>age</th>\n",
       "      <th>capital-gain</th>\n",
       "      <th>capital-loss</th>\n",
       "      <th>workclass</th>\n",
       "      <th>education</th>\n",
       "      <th>education-num</th>\n",
       "      <th>marital-status</th>\n",
       "      <th>relationship</th>\n",
       "      <th>race</th>\n",
       "      <th>sex</th>\n",
       "      <th>native-country</th>\n",
       "      <th>income</th>\n",
       "      <th>occupation</th>\n",
       "    </tr>\n",
       "  </thead>\n",
       "  <tbody>\n",
       "    <tr>\n",
       "      <th>0</th>\n",
       "      <td>0.193878</td>\n",
       "      <td>0.315068</td>\n",
       "      <td>0.00000</td>\n",
       "      <td>0.0</td>\n",
       "      <td>4.0</td>\n",
       "      <td>9.0</td>\n",
       "      <td>0.800000</td>\n",
       "      <td>2.0</td>\n",
       "      <td>5.0</td>\n",
       "      <td>4.0</td>\n",
       "      <td>0.0</td>\n",
       "      <td>39.0</td>\n",
       "      <td>0.490460</td>\n",
       "      <td>13.0</td>\n",
       "    </tr>\n",
       "    <tr>\n",
       "      <th>1</th>\n",
       "      <td>0.397959</td>\n",
       "      <td>0.054795</td>\n",
       "      <td>0.00000</td>\n",
       "      <td>0.0</td>\n",
       "      <td>4.0</td>\n",
       "      <td>15.0</td>\n",
       "      <td>0.600000</td>\n",
       "      <td>0.0</td>\n",
       "      <td>3.0</td>\n",
       "      <td>4.0</td>\n",
       "      <td>1.0</td>\n",
       "      <td>39.0</td>\n",
       "      <td>0.114053</td>\n",
       "      <td>3.0</td>\n",
       "    </tr>\n",
       "    <tr>\n",
       "      <th>2</th>\n",
       "      <td>0.091837</td>\n",
       "      <td>0.000000</td>\n",
       "      <td>0.00000</td>\n",
       "      <td>0.0</td>\n",
       "      <td>4.0</td>\n",
       "      <td>1.0</td>\n",
       "      <td>0.400000</td>\n",
       "      <td>4.0</td>\n",
       "      <td>3.0</td>\n",
       "      <td>4.0</td>\n",
       "      <td>1.0</td>\n",
       "      <td>39.0</td>\n",
       "      <td>0.024957</td>\n",
       "      <td>8.0</td>\n",
       "    </tr>\n",
       "    <tr>\n",
       "      <th>3</th>\n",
       "      <td>0.500000</td>\n",
       "      <td>0.465753</td>\n",
       "      <td>0.00000</td>\n",
       "      <td>0.0</td>\n",
       "      <td>4.0</td>\n",
       "      <td>11.0</td>\n",
       "      <td>0.533333</td>\n",
       "      <td>2.0</td>\n",
       "      <td>0.0</td>\n",
       "      <td>1.0</td>\n",
       "      <td>1.0</td>\n",
       "      <td>1.0</td>\n",
       "      <td>0.389320</td>\n",
       "      <td>12.0</td>\n",
       "    </tr>\n",
       "    <tr>\n",
       "      <th>4</th>\n",
       "      <td>0.377551</td>\n",
       "      <td>0.150685</td>\n",
       "      <td>0.00000</td>\n",
       "      <td>0.0</td>\n",
       "      <td>4.0</td>\n",
       "      <td>9.0</td>\n",
       "      <td>0.800000</td>\n",
       "      <td>4.0</td>\n",
       "      <td>1.0</td>\n",
       "      <td>4.0</td>\n",
       "      <td>1.0</td>\n",
       "      <td>0.0</td>\n",
       "      <td>0.413376</td>\n",
       "      <td>4.0</td>\n",
       "    </tr>\n",
       "    <tr>\n",
       "      <th>...</th>\n",
       "      <td>...</td>\n",
       "      <td>...</td>\n",
       "      <td>...</td>\n",
       "      <td>...</td>\n",
       "      <td>...</td>\n",
       "      <td>...</td>\n",
       "      <td>...</td>\n",
       "      <td>...</td>\n",
       "      <td>...</td>\n",
       "      <td>...</td>\n",
       "      <td>...</td>\n",
       "      <td>...</td>\n",
       "      <td>...</td>\n",
       "      <td>...</td>\n",
       "    </tr>\n",
       "    <tr>\n",
       "      <th>49526</th>\n",
       "      <td>0.653061</td>\n",
       "      <td>0.246575</td>\n",
       "      <td>0.00000</td>\n",
       "      <td>0.0</td>\n",
       "      <td>4.0</td>\n",
       "      <td>9.0</td>\n",
       "      <td>0.800000</td>\n",
       "      <td>2.0</td>\n",
       "      <td>0.0</td>\n",
       "      <td>4.0</td>\n",
       "      <td>1.0</td>\n",
       "      <td>41.0</td>\n",
       "      <td>0.850649</td>\n",
       "      <td>5.0</td>\n",
       "    </tr>\n",
       "    <tr>\n",
       "      <th>49527</th>\n",
       "      <td>0.775510</td>\n",
       "      <td>0.273973</td>\n",
       "      <td>0.03137</td>\n",
       "      <td>0.0</td>\n",
       "      <td>6.0</td>\n",
       "      <td>9.0</td>\n",
       "      <td>0.800000</td>\n",
       "      <td>2.0</td>\n",
       "      <td>0.0</td>\n",
       "      <td>1.0</td>\n",
       "      <td>1.0</td>\n",
       "      <td>40.0</td>\n",
       "      <td>0.340668</td>\n",
       "      <td>12.0</td>\n",
       "    </tr>\n",
       "    <tr>\n",
       "      <th>49528</th>\n",
       "      <td>0.551020</td>\n",
       "      <td>0.095890</td>\n",
       "      <td>0.00000</td>\n",
       "      <td>0.0</td>\n",
       "      <td>4.0</td>\n",
       "      <td>8.0</td>\n",
       "      <td>0.666667</td>\n",
       "      <td>4.0</td>\n",
       "      <td>1.0</td>\n",
       "      <td>4.0</td>\n",
       "      <td>1.0</td>\n",
       "      <td>39.0</td>\n",
       "      <td>0.129230</td>\n",
       "      <td>12.0</td>\n",
       "    </tr>\n",
       "    <tr>\n",
       "      <th>49529</th>\n",
       "      <td>0.397959</td>\n",
       "      <td>0.095890</td>\n",
       "      <td>0.00000</td>\n",
       "      <td>0.0</td>\n",
       "      <td>4.0</td>\n",
       "      <td>15.0</td>\n",
       "      <td>0.600000</td>\n",
       "      <td>4.0</td>\n",
       "      <td>1.0</td>\n",
       "      <td>4.0</td>\n",
       "      <td>0.0</td>\n",
       "      <td>39.0</td>\n",
       "      <td>0.149091</td>\n",
       "      <td>1.0</td>\n",
       "    </tr>\n",
       "    <tr>\n",
       "      <th>49530</th>\n",
       "      <td>0.193878</td>\n",
       "      <td>0.301370</td>\n",
       "      <td>0.03464</td>\n",
       "      <td>0.0</td>\n",
       "      <td>7.0</td>\n",
       "      <td>11.0</td>\n",
       "      <td>0.533333</td>\n",
       "      <td>2.0</td>\n",
       "      <td>5.0</td>\n",
       "      <td>1.0</td>\n",
       "      <td>0.0</td>\n",
       "      <td>39.0</td>\n",
       "      <td>0.291265</td>\n",
       "      <td>1.0</td>\n",
       "    </tr>\n",
       "  </tbody>\n",
       "</table>\n",
       "<p>49531 rows × 14 columns</p>\n",
       "</div>"
      ],
      "text/plain": [
       "       hours-per-week       age  capital-gain  capital-loss  workclass  \\\n",
       "0            0.193878  0.315068       0.00000           0.0        4.0   \n",
       "1            0.397959  0.054795       0.00000           0.0        4.0   \n",
       "2            0.091837  0.000000       0.00000           0.0        4.0   \n",
       "3            0.500000  0.465753       0.00000           0.0        4.0   \n",
       "4            0.377551  0.150685       0.00000           0.0        4.0   \n",
       "...               ...       ...           ...           ...        ...   \n",
       "49526        0.653061  0.246575       0.00000           0.0        4.0   \n",
       "49527        0.775510  0.273973       0.03137           0.0        6.0   \n",
       "49528        0.551020  0.095890       0.00000           0.0        4.0   \n",
       "49529        0.397959  0.095890       0.00000           0.0        4.0   \n",
       "49530        0.193878  0.301370       0.03464           0.0        7.0   \n",
       "\n",
       "       education  education-num  marital-status  relationship  race  sex  \\\n",
       "0            9.0       0.800000             2.0           5.0   4.0  0.0   \n",
       "1           15.0       0.600000             0.0           3.0   4.0  1.0   \n",
       "2            1.0       0.400000             4.0           3.0   4.0  1.0   \n",
       "3           11.0       0.533333             2.0           0.0   1.0  1.0   \n",
       "4            9.0       0.800000             4.0           1.0   4.0  1.0   \n",
       "...          ...            ...             ...           ...   ...  ...   \n",
       "49526        9.0       0.800000             2.0           0.0   4.0  1.0   \n",
       "49527        9.0       0.800000             2.0           0.0   1.0  1.0   \n",
       "49528        8.0       0.666667             4.0           1.0   4.0  1.0   \n",
       "49529       15.0       0.600000             4.0           1.0   4.0  0.0   \n",
       "49530       11.0       0.533333             2.0           5.0   1.0  0.0   \n",
       "\n",
       "       native-country    income  occupation  \n",
       "0                39.0  0.490460        13.0  \n",
       "1                39.0  0.114053         3.0  \n",
       "2                39.0  0.024957         8.0  \n",
       "3                 1.0  0.389320        12.0  \n",
       "4                 0.0  0.413376         4.0  \n",
       "...               ...       ...         ...  \n",
       "49526            41.0  0.850649         5.0  \n",
       "49527            40.0  0.340668        12.0  \n",
       "49528            39.0  0.129230        12.0  \n",
       "49529            39.0  0.149091         1.0  \n",
       "49530            39.0  0.291265         1.0  \n",
       "\n",
       "[49531 rows x 14 columns]"
      ]
     },
     "execution_count": 9,
     "metadata": {},
     "output_type": "execute_result"
    }
   ],
   "source": [
    "df_le_og"
   ]
  },
  {
   "cell_type": "code",
   "execution_count": 13,
   "id": "131bb343-a931-4dfa-8fee-ab6f2568f1ce",
   "metadata": {},
   "outputs": [],
   "source": [
    "A_t_og = np.load('./data_small/nparrays/A_t_adultog.npy')"
   ]
  },
  {
   "cell_type": "code",
   "execution_count": 8,
   "id": "b8e4293d-eb28-495e-b665-c278c9420a0c",
   "metadata": {},
   "outputs": [],
   "source": [
    "y_dat_le_og = df_le_og['income']\n",
    "X_dat_le_og = df_le_og.drop('income', axis=1, inplace=False)"
   ]
  },
  {
   "cell_type": "code",
   "execution_count": 10,
   "id": "88590cab-97fe-4f99-9835-e93091a23982",
   "metadata": {},
   "outputs": [],
   "source": [
    "X_dict_le_og = X_dat_le_og.to_dict(orient='records')"
   ]
  },
  {
   "cell_type": "code",
   "execution_count": 11,
   "id": "6524878b-188d-454c-a474-cc53eec77e0b",
   "metadata": {},
   "outputs": [],
   "source": [
    "exphoefftree = OnlineHoeffdingTree(X_dict_le_og, y_dat_le_og)"
   ]
  },
  {
   "cell_type": "code",
   "execution_count": 12,
   "id": "b04f47dc-2022-4071-981f-56247100d565",
   "metadata": {},
   "outputs": [],
   "source": [
    "dirname = './models_adult/baseline/'\n",
    "filename = 'hoefftree_og_oh'"
   ]
  },
  {
   "cell_type": "code",
   "execution_count": 14,
   "id": "3bc4a998-5855-4d9b-ac08-914ea8d10324",
   "metadata": {},
   "outputs": [
    {
     "name": "stderr",
     "output_type": "stream",
     "text": [
      "100%|██████████| 49531/49531 [00:04<00:00, 10200.39it/s]\n"
     ]
    }
   ],
   "source": [
    "b_htreebase = build_baseline_alwayson(dirname, filename, A_t_og, exphoefftree) #implementable"
   ]
  },
  {
   "cell_type": "code",
   "execution_count": 15,
   "id": "23d1ef3f-aa53-4cf4-957f-6d9efa5200b9",
   "metadata": {},
   "outputs": [
    {
     "name": "stdout",
     "output_type": "stream",
     "text": [
      "15.600329066893071\n",
      "71.72805562180785\n",
      "134.1976627126758\n",
      "14.164809710784594\n",
      "1709.5784307728145\n",
      "505.5597665935454\n",
      "1439.709521291429\n",
      "1945.2692878849784\n"
     ]
    }
   ],
   "source": [
    "for gnum in range(8):\n",
    "  print(b_htreebase.expert.cumloss_groupwise[gnum][-1])"
   ]
  },
  {
   "cell_type": "markdown",
   "id": "22b51b6e-267f-4364-b14f-b9afca8e2a5f",
   "metadata": {},
   "source": [
    "## Anh with hoeff tree meta expert"
   ]
  },
  {
   "cell_type": "code",
   "execution_count": 18,
   "id": "22485c14-56df-4bf1-902a-6bb5ddbc0975",
   "metadata": {},
   "outputs": [],
   "source": [
    "dirname = './models_adult/Anh/'\n",
    "filename = 'hoefftree_meta_ogoh'"
   ]
  },
  {
   "cell_type": "code",
   "execution_count": 22,
   "id": "30935039-5f37-41e0-bf84-8b347489deb1",
   "metadata": {},
   "outputs": [],
   "source": [
    "treeexperts = [OnlineHoeffdingTree(X_dict_le_og, y_dat_le_og) for _ in range(A_t_og.shape[1])]"
   ]
  },
  {
   "cell_type": "code",
   "execution_count": 23,
   "id": "e93bedc3-fb13-4125-a094-60d2f14b131f",
   "metadata": {},
   "outputs": [
    {
     "name": "stderr",
     "output_type": "stream",
     "text": [
      "100%|██████████| 49531/49531 [00:23<00:00, 2106.21it/s]\n"
     ]
    }
   ],
   "source": [
    "b_Anh = build_Anh(dirname, filename, A_t_og, treeexperts)"
   ]
  },
  {
   "cell_type": "code",
   "execution_count": 24,
   "id": "59ebf04f-6a5a-427d-a6b5-16b8a79af139",
   "metadata": {},
   "outputs": [
    {
     "name": "stdout",
     "output_type": "stream",
     "text": [
      "16.26539573133961\n",
      "74.45884210220974\n",
      "129.93536467784554\n",
      "14.594519310554261\n",
      "1711.1432186997329\n",
      "430.1824956925233\n",
      "1516.2148448291566\n",
      "1946.3973405216666\n"
     ]
    }
   ],
   "source": [
    "for gnum in range(8):\n",
    "  print(b_Anh.Anh.cuml_loss_curve[gnum][-1])"
   ]
  },
  {
   "cell_type": "code",
   "execution_count": null,
   "id": "ed670a06-2773-4ea9-9900-19673c767fc8",
   "metadata": {},
   "outputs": [],
   "source": []
  }
 ],
 "metadata": {
  "kernelspec": {
   "display_name": "Python 3.11.4 ('local_multigroup')",
   "language": "python",
   "name": "python3"
  },
  "language_info": {
   "codemirror_mode": {
    "name": "ipython",
    "version": 3
   },
   "file_extension": ".py",
   "mimetype": "text/x-python",
   "name": "python",
   "nbconvert_exporter": "python",
   "pygments_lexer": "ipython3",
   "version": "3.11.4"
  },
  "vscode": {
   "interpreter": {
    "hash": "422a1ee675848ad7ee73ac736eae01a8698556098f797c947729d7d9d67832dc"
   }
  }
 },
 "nbformat": 4,
 "nbformat_minor": 5
}
