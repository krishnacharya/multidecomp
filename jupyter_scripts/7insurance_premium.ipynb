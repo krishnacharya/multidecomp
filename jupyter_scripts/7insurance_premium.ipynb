{
 "cells": [
  {
   "cell_type": "code",
   "execution_count": 1,
   "metadata": {},
   "outputs": [
    {
     "name": "stdout",
     "output_type": "stream",
     "text": [
      "/Users/krishna/Documents/Research/Simultaneous Classifier/folktables-experiments/multidecomp\n"
     ]
    }
   ],
   "source": [
    "import os\n",
    "os.chdir('..')\n",
    "!pwd\n",
    "import bilevel\n",
    "from bilevel.build_all_models import *\n",
    "from bilevel.OnlineLinearExpert import *\n",
    "from bilevel.OnlineTreeExpert import *\n",
    "import pandas as pd\n",
    "import numpy as np\n",
    "import matplotlib.pyplot as plt"
   ]
  },
  {
   "cell_type": "code",
   "execution_count": 2,
   "metadata": {},
   "outputs": [],
   "source": [
    "df_medical = pd.read_csv('./data_small/insurance.csv')"
   ]
  },
  {
   "cell_type": "code",
   "execution_count": 15,
   "metadata": {},
   "outputs": [
    {
     "data": {
      "text/plain": [
       "(0       False\n",
       " 1       False\n",
       " 2       False\n",
       " 3       False\n",
       " 4       False\n",
       "         ...  \n",
       " 1333    False\n",
       " 1334    False\n",
       " 1335    False\n",
       " 1336    False\n",
       " 1337    False\n",
       " Length: 1338, dtype: bool,\n",
       " age         0\n",
       " sex         0\n",
       " bmi         0\n",
       " children    0\n",
       " smoker      0\n",
       " region      0\n",
       " charges     0\n",
       " dtype: int64)"
      ]
     },
     "execution_count": 15,
     "metadata": {},
     "output_type": "execute_result"
    }
   ],
   "source": [
    "df_medical.isnull().any(axis=1), df_medical.isnull().sum()"
   ]
  },
  {
   "cell_type": "code",
   "execution_count": 8,
   "metadata": {},
   "outputs": [
    {
     "data": {
      "text/html": [
       "<div>\n",
       "<style scoped>\n",
       "    .dataframe tbody tr th:only-of-type {\n",
       "        vertical-align: middle;\n",
       "    }\n",
       "\n",
       "    .dataframe tbody tr th {\n",
       "        vertical-align: top;\n",
       "    }\n",
       "\n",
       "    .dataframe thead th {\n",
       "        text-align: right;\n",
       "    }\n",
       "</style>\n",
       "<table border=\"1\" class=\"dataframe\">\n",
       "  <thead>\n",
       "    <tr style=\"text-align: right;\">\n",
       "      <th></th>\n",
       "      <th>age</th>\n",
       "      <th>sex</th>\n",
       "      <th>bmi</th>\n",
       "      <th>children</th>\n",
       "      <th>smoker</th>\n",
       "      <th>region</th>\n",
       "      <th>charges</th>\n",
       "    </tr>\n",
       "  </thead>\n",
       "  <tbody>\n",
       "    <tr>\n",
       "      <th>0</th>\n",
       "      <td>19</td>\n",
       "      <td>female</td>\n",
       "      <td>27.900</td>\n",
       "      <td>0</td>\n",
       "      <td>yes</td>\n",
       "      <td>southwest</td>\n",
       "      <td>16884.92400</td>\n",
       "    </tr>\n",
       "    <tr>\n",
       "      <th>1</th>\n",
       "      <td>18</td>\n",
       "      <td>male</td>\n",
       "      <td>33.770</td>\n",
       "      <td>1</td>\n",
       "      <td>no</td>\n",
       "      <td>southeast</td>\n",
       "      <td>1725.55230</td>\n",
       "    </tr>\n",
       "    <tr>\n",
       "      <th>2</th>\n",
       "      <td>28</td>\n",
       "      <td>male</td>\n",
       "      <td>33.000</td>\n",
       "      <td>3</td>\n",
       "      <td>no</td>\n",
       "      <td>southeast</td>\n",
       "      <td>4449.46200</td>\n",
       "    </tr>\n",
       "    <tr>\n",
       "      <th>3</th>\n",
       "      <td>33</td>\n",
       "      <td>male</td>\n",
       "      <td>22.705</td>\n",
       "      <td>0</td>\n",
       "      <td>no</td>\n",
       "      <td>northwest</td>\n",
       "      <td>21984.47061</td>\n",
       "    </tr>\n",
       "    <tr>\n",
       "      <th>4</th>\n",
       "      <td>32</td>\n",
       "      <td>male</td>\n",
       "      <td>28.880</td>\n",
       "      <td>0</td>\n",
       "      <td>no</td>\n",
       "      <td>northwest</td>\n",
       "      <td>3866.85520</td>\n",
       "    </tr>\n",
       "  </tbody>\n",
       "</table>\n",
       "</div>"
      ],
      "text/plain": [
       "   age     sex     bmi  children smoker     region      charges\n",
       "0   19  female  27.900         0    yes  southwest  16884.92400\n",
       "1   18    male  33.770         1     no  southeast   1725.55230\n",
       "2   28    male  33.000         3     no  southeast   4449.46200\n",
       "3   33    male  22.705         0     no  northwest  21984.47061\n",
       "4   32    male  28.880         0     no  northwest   3866.85520"
      ]
     },
     "execution_count": 8,
     "metadata": {},
     "output_type": "execute_result"
    }
   ],
   "source": [
    "df_medical.head()\n",
    "# age, bmi, #children, charges - numeric\n",
    "# sex, smoker, region"
   ]
  },
  {
   "cell_type": "code",
   "execution_count": 27,
   "metadata": {},
   "outputs": [
    {
     "name": "stdout",
     "output_type": "stream",
     "text": [
      "['female' 'male'] ['yes' 'no'] ['southwest' 'southeast' 'northwest' 'northeast'] [0 1 3 2 5 4]\n",
      "               age          bmi     children       charges\n",
      "count  1338.000000  1338.000000  1338.000000   1338.000000\n",
      "mean     39.207025    30.663397     1.094918  13270.422265\n",
      "std      14.049960     6.098187     1.205493  12110.011237\n",
      "min      18.000000    15.960000     0.000000   1121.873900\n",
      "25%      27.000000    26.296250     0.000000   4740.287150\n",
      "50%      39.000000    30.400000     1.000000   9382.033000\n",
      "75%      51.000000    34.693750     2.000000  16639.912515\n",
      "max      64.000000    53.130000     5.000000  63770.428010\n"
     ]
    }
   ],
   "source": [
    "print(df_medical['sex'].unique(),  df_medical['smoker'].unique(), df_medical['region'].unique(), df_medical['children'].unique())\n",
    "print(df_medical.describe())"
   ]
  },
  {
   "cell_type": "code",
   "execution_count": 7,
   "metadata": {},
   "outputs": [
    {
     "data": {
      "text/plain": [
       "(13956.751177721893, 12569.578843835347)"
      ]
     },
     "execution_count": 7,
     "metadata": {},
     "output_type": "execute_result"
    }
   ],
   "source": [
    "df_medical[df_medical['sex'] == 'male']['charges'].mean(), df_medical[df_medical['sex'] == 'female']['charges'].mean()\n"
   ]
  },
  {
   "cell_type": "code",
   "execution_count": 10,
   "metadata": {},
   "outputs": [
    {
     "data": {
      "text/plain": [
       "(32050.23183153284, 8434.268297856204)"
      ]
     },
     "execution_count": 10,
     "metadata": {},
     "output_type": "execute_result"
    }
   ],
   "source": [
    "df_medical[df_medical['smoker'] == 'yes']['charges'].mean(), df_medical[df_medical['smoker'] == 'no']['charges'].mean()"
   ]
  },
  {
   "cell_type": "code",
   "execution_count": 13,
   "metadata": {},
   "outputs": [
    {
     "data": {
      "text/plain": [
       "smoker\n",
       "no     1064\n",
       "yes     274\n",
       "Name: count, dtype: int64"
      ]
     },
     "execution_count": 13,
     "metadata": {},
     "output_type": "execute_result"
    }
   ],
   "source": [
    "df_medical['smoker'].value_counts()"
   ]
  },
  {
   "cell_type": "code",
   "execution_count": 26,
   "metadata": {},
   "outputs": [
    {
     "data": {
      "text/plain": [
       "(12365.97560163589, 12731.171831635802)"
      ]
     },
     "execution_count": 26,
     "metadata": {},
     "output_type": "execute_result"
    }
   ],
   "source": [
    "df_medical[df_medical['children'] == 0]['charges'].mean(), df_medical[df_medical['children'] == 1]['charges'].mean()"
   ]
  },
  {
   "cell_type": "code",
   "execution_count": 31,
   "metadata": {},
   "outputs": [
    {
     "data": {
      "text/plain": [
       "(13946.476035324473, 10282.224474367347)"
      ]
     },
     "execution_count": 31,
     "metadata": {},
     "output_type": "execute_result"
    }
   ],
   "source": [
    "df_medical[df_medical['bmi'] > 25]['charges'].mean(), df_medical[df_medical['bmi'] < 25]['charges'].mean()"
   ]
  },
  {
   "cell_type": "code",
   "execution_count": 32,
   "metadata": {},
   "outputs": [
    {
     "data": {
      "text/html": [
       "<div>\n",
       "<style scoped>\n",
       "    .dataframe tbody tr th:only-of-type {\n",
       "        vertical-align: middle;\n",
       "    }\n",
       "\n",
       "    .dataframe tbody tr th {\n",
       "        vertical-align: top;\n",
       "    }\n",
       "\n",
       "    .dataframe thead th {\n",
       "        text-align: right;\n",
       "    }\n",
       "</style>\n",
       "<table border=\"1\" class=\"dataframe\">\n",
       "  <thead>\n",
       "    <tr style=\"text-align: right;\">\n",
       "      <th></th>\n",
       "      <th>age</th>\n",
       "      <th>bmi</th>\n",
       "      <th>children</th>\n",
       "      <th>charges</th>\n",
       "      <th>sex_female</th>\n",
       "      <th>sex_male</th>\n",
       "      <th>smoker_no</th>\n",
       "      <th>smoker_yes</th>\n",
       "      <th>region_northeast</th>\n",
       "      <th>region_northwest</th>\n",
       "      <th>region_southeast</th>\n",
       "      <th>region_southwest</th>\n",
       "    </tr>\n",
       "  </thead>\n",
       "  <tbody>\n",
       "    <tr>\n",
       "      <th>0</th>\n",
       "      <td>0.021739</td>\n",
       "      <td>0.321227</td>\n",
       "      <td>0.0</td>\n",
       "      <td>0.251611</td>\n",
       "      <td>1.0</td>\n",
       "      <td>0.0</td>\n",
       "      <td>0.0</td>\n",
       "      <td>1.0</td>\n",
       "      <td>0.0</td>\n",
       "      <td>0.0</td>\n",
       "      <td>0.0</td>\n",
       "      <td>1.0</td>\n",
       "    </tr>\n",
       "    <tr>\n",
       "      <th>1</th>\n",
       "      <td>0.000000</td>\n",
       "      <td>0.479150</td>\n",
       "      <td>0.2</td>\n",
       "      <td>0.009636</td>\n",
       "      <td>0.0</td>\n",
       "      <td>1.0</td>\n",
       "      <td>1.0</td>\n",
       "      <td>0.0</td>\n",
       "      <td>0.0</td>\n",
       "      <td>0.0</td>\n",
       "      <td>1.0</td>\n",
       "      <td>0.0</td>\n",
       "    </tr>\n",
       "    <tr>\n",
       "      <th>2</th>\n",
       "      <td>0.217391</td>\n",
       "      <td>0.458434</td>\n",
       "      <td>0.6</td>\n",
       "      <td>0.053115</td>\n",
       "      <td>0.0</td>\n",
       "      <td>1.0</td>\n",
       "      <td>1.0</td>\n",
       "      <td>0.0</td>\n",
       "      <td>0.0</td>\n",
       "      <td>0.0</td>\n",
       "      <td>1.0</td>\n",
       "      <td>0.0</td>\n",
       "    </tr>\n",
       "    <tr>\n",
       "      <th>3</th>\n",
       "      <td>0.326087</td>\n",
       "      <td>0.181464</td>\n",
       "      <td>0.0</td>\n",
       "      <td>0.333010</td>\n",
       "      <td>0.0</td>\n",
       "      <td>1.0</td>\n",
       "      <td>1.0</td>\n",
       "      <td>0.0</td>\n",
       "      <td>0.0</td>\n",
       "      <td>1.0</td>\n",
       "      <td>0.0</td>\n",
       "      <td>0.0</td>\n",
       "    </tr>\n",
       "    <tr>\n",
       "      <th>4</th>\n",
       "      <td>0.304348</td>\n",
       "      <td>0.347592</td>\n",
       "      <td>0.0</td>\n",
       "      <td>0.043816</td>\n",
       "      <td>0.0</td>\n",
       "      <td>1.0</td>\n",
       "      <td>1.0</td>\n",
       "      <td>0.0</td>\n",
       "      <td>0.0</td>\n",
       "      <td>1.0</td>\n",
       "      <td>0.0</td>\n",
       "      <td>0.0</td>\n",
       "    </tr>\n",
       "  </tbody>\n",
       "</table>\n",
       "</div>"
      ],
      "text/plain": [
       "        age       bmi  children   charges  sex_female  sex_male  smoker_no  \\\n",
       "0  0.021739  0.321227       0.0  0.251611         1.0       0.0        0.0   \n",
       "1  0.000000  0.479150       0.2  0.009636         0.0       1.0        1.0   \n",
       "2  0.217391  0.458434       0.6  0.053115         0.0       1.0        1.0   \n",
       "3  0.326087  0.181464       0.0  0.333010         0.0       1.0        1.0   \n",
       "4  0.304348  0.347592       0.0  0.043816         0.0       1.0        1.0   \n",
       "\n",
       "   smoker_yes  region_northeast  region_northwest  region_southeast  \\\n",
       "0         1.0               0.0               0.0               0.0   \n",
       "1         0.0               0.0               0.0               1.0   \n",
       "2         0.0               0.0               0.0               1.0   \n",
       "3         0.0               0.0               1.0               0.0   \n",
       "4         0.0               0.0               1.0               0.0   \n",
       "\n",
       "   region_southwest  \n",
       "0               1.0  \n",
       "1               0.0  \n",
       "2               0.0  \n",
       "3               0.0  \n",
       "4               0.0  "
      ]
     },
     "execution_count": 32,
     "metadata": {},
     "output_type": "execute_result"
    }
   ],
   "source": [
    "numeric_all = ['age', 'bmi', 'children', 'charges']\n",
    "cat_all = ['sex', 'smoker', 'region']\n",
    "df_medical_mm = numeric_scaler(df_medical, numeric_all)\n",
    "df_medical_mm_oh = one_hot(df_medical_mm, cat_all)\n",
    "df_medical_mm_oh.drop(cat_all, axis = 1, inplace=True) # drop the categorics that were used to one hot encode\n",
    "df_medical_mm_oh = df_medical_mm_oh * 1.0 # make bool true, false into 1.0, 0.0\n",
    "df_medical_mm_oh.head()"
   ]
  },
  {
   "cell_type": "code",
   "execution_count": 33,
   "metadata": {},
   "outputs": [
    {
     "data": {
      "text/plain": [
       "0.7476531626984347"
      ]
     },
     "execution_count": 33,
     "metadata": {},
     "output_type": "execute_result"
    }
   ],
   "source": [
    "X_dat = df_medical_mm_oh.drop('charges', axis=1)\n",
    "y_dat = df_medical_mm_oh['charges']\n",
    "\n",
    "from sklearn.linear_model import LinearRegression, Ridge\n",
    "lr = LinearRegression()\n",
    "lr.fit(X_dat, y_dat)\n",
    "lr.score(X_dat, y_dat)"
   ]
  },
  {
   "cell_type": "code",
   "execution_count": 39,
   "metadata": {},
   "outputs": [
    {
     "data": {
      "text/plain": [
       "0.827363054973973"
      ]
     },
     "execution_count": 39,
     "metadata": {},
     "output_type": "execute_result"
    }
   ],
   "source": [
    " from sklearn.tree import DecisionTreeRegressor\n",
    "dtr = DecisionTreeRegressor(max_depth= 2)\n",
    "dtr.fit(X_dat, y_dat)\n",
    "dtr.score(X_dat, y_dat)"
   ]
  },
  {
   "cell_type": "code",
   "execution_count": 41,
   "metadata": {},
   "outputs": [
    {
     "data": {
      "text/html": [
       "<div>\n",
       "<style scoped>\n",
       "    .dataframe tbody tr th:only-of-type {\n",
       "        vertical-align: middle;\n",
       "    }\n",
       "\n",
       "    .dataframe tbody tr th {\n",
       "        vertical-align: top;\n",
       "    }\n",
       "\n",
       "    .dataframe thead th {\n",
       "        text-align: right;\n",
       "    }\n",
       "</style>\n",
       "<table border=\"1\" class=\"dataframe\">\n",
       "  <thead>\n",
       "    <tr style=\"text-align: right;\">\n",
       "      <th></th>\n",
       "      <th>age</th>\n",
       "      <th>bmi</th>\n",
       "      <th>children</th>\n",
       "      <th>sex_female</th>\n",
       "      <th>sex_male</th>\n",
       "      <th>smoker_no</th>\n",
       "      <th>smoker_yes</th>\n",
       "      <th>region_northeast</th>\n",
       "      <th>region_northwest</th>\n",
       "      <th>region_southeast</th>\n",
       "      <th>region_southwest</th>\n",
       "    </tr>\n",
       "  </thead>\n",
       "  <tbody>\n",
       "    <tr>\n",
       "      <th>0</th>\n",
       "      <td>0.021739</td>\n",
       "      <td>0.321227</td>\n",
       "      <td>0.0</td>\n",
       "      <td>1.0</td>\n",
       "      <td>0.0</td>\n",
       "      <td>0.0</td>\n",
       "      <td>1.0</td>\n",
       "      <td>0.0</td>\n",
       "      <td>0.0</td>\n",
       "      <td>0.0</td>\n",
       "      <td>1.0</td>\n",
       "    </tr>\n",
       "    <tr>\n",
       "      <th>1</th>\n",
       "      <td>0.000000</td>\n",
       "      <td>0.479150</td>\n",
       "      <td>0.2</td>\n",
       "      <td>0.0</td>\n",
       "      <td>1.0</td>\n",
       "      <td>1.0</td>\n",
       "      <td>0.0</td>\n",
       "      <td>0.0</td>\n",
       "      <td>0.0</td>\n",
       "      <td>1.0</td>\n",
       "      <td>0.0</td>\n",
       "    </tr>\n",
       "    <tr>\n",
       "      <th>2</th>\n",
       "      <td>0.217391</td>\n",
       "      <td>0.458434</td>\n",
       "      <td>0.6</td>\n",
       "      <td>0.0</td>\n",
       "      <td>1.0</td>\n",
       "      <td>1.0</td>\n",
       "      <td>0.0</td>\n",
       "      <td>0.0</td>\n",
       "      <td>0.0</td>\n",
       "      <td>1.0</td>\n",
       "      <td>0.0</td>\n",
       "    </tr>\n",
       "    <tr>\n",
       "      <th>3</th>\n",
       "      <td>0.326087</td>\n",
       "      <td>0.181464</td>\n",
       "      <td>0.0</td>\n",
       "      <td>0.0</td>\n",
       "      <td>1.0</td>\n",
       "      <td>1.0</td>\n",
       "      <td>0.0</td>\n",
       "      <td>0.0</td>\n",
       "      <td>1.0</td>\n",
       "      <td>0.0</td>\n",
       "      <td>0.0</td>\n",
       "    </tr>\n",
       "    <tr>\n",
       "      <th>4</th>\n",
       "      <td>0.304348</td>\n",
       "      <td>0.347592</td>\n",
       "      <td>0.0</td>\n",
       "      <td>0.0</td>\n",
       "      <td>1.0</td>\n",
       "      <td>1.0</td>\n",
       "      <td>0.0</td>\n",
       "      <td>0.0</td>\n",
       "      <td>1.0</td>\n",
       "      <td>0.0</td>\n",
       "      <td>0.0</td>\n",
       "    </tr>\n",
       "  </tbody>\n",
       "</table>\n",
       "</div>"
      ],
      "text/plain": [
       "        age       bmi  children  sex_female  sex_male  smoker_no  smoker_yes  \\\n",
       "0  0.021739  0.321227       0.0         1.0       0.0        0.0         1.0   \n",
       "1  0.000000  0.479150       0.2         0.0       1.0        1.0         0.0   \n",
       "2  0.217391  0.458434       0.6         0.0       1.0        1.0         0.0   \n",
       "3  0.326087  0.181464       0.0         0.0       1.0        1.0         0.0   \n",
       "4  0.304348  0.347592       0.0         0.0       1.0        1.0         0.0   \n",
       "\n",
       "   region_northeast  region_northwest  region_southeast  region_southwest  \n",
       "0               0.0               0.0               0.0               1.0  \n",
       "1               0.0               0.0               1.0               0.0  \n",
       "2               0.0               0.0               1.0               0.0  \n",
       "3               0.0               1.0               0.0               0.0  \n",
       "4               0.0               1.0               0.0               0.0  "
      ]
     },
     "execution_count": 41,
     "metadata": {},
     "output_type": "execute_result"
    }
   ],
   "source": [
    "X_dat.head()"
   ]
  },
  {
   "cell_type": "code",
   "execution_count": 45,
   "metadata": {},
   "outputs": [],
   "source": [
    "filter_group = ['sex_male', 'sex_female', 'smoker_no', 'smoker_yes']"
   ]
  },
  {
   "cell_type": "code",
   "execution_count": 46,
   "metadata": {},
   "outputs": [],
   "source": [
    "# tranining on data for only each group\n",
    "from sklearn.model_selection import train_test_split\n",
    "random_seed = 21\n",
    "X_train, X_test, y_train, y_test = train_test_split(X_dat, \n",
    "                                                    y_dat, test_size = 0.2,\n",
    "                                                    shuffle=True, random_state= random_seed)\n",
    "\n",
    "models_lr_dict = {}\n",
    "group_sizes = {}\n",
    "\n",
    "for g in filter_group:\n",
    "    indices = (X_train[g] == 1)\n",
    "    model_lr = LinearRegression()\n",
    "    model_lr.fit(X_train[indices], y_train[indices])\n",
    "    key = g\n",
    "    group_sizes[key] = indices.sum() #sum of all the trues\n",
    "    models_lr_dict[key] = model_lr"
   ]
  },
  {
   "cell_type": "code",
   "execution_count": 47,
   "metadata": {},
   "outputs": [
    {
     "name": "stdout",
     "output_type": "stream",
     "text": [
      " sex_male, test group size 545  r2 score for least squares is 0.7740\n",
      " sex_female, test group size 525  r2 score for least squares is 0.6788\n",
      " smoker_no, test group size 855  r2 score for least squares is 0.3335\n",
      " smoker_yes, test group size 215  r2 score for least squares is 0.7120\n"
     ]
    }
   ],
   "source": [
    "for g in filter_group:\n",
    "    indices = (X_test[g] == 1)\n",
    "    key = g\n",
    "    r2_score_lr = models_lr_dict[key].score(X_test[indices], y_test[indices])\n",
    "    print(f\" {key}, test group size {group_sizes[key]}  r2 score for least squares is {r2_score_lr:.4f}\")"
   ]
  },
  {
   "cell_type": "code",
   "execution_count": 49,
   "metadata": {},
   "outputs": [],
   "source": [
    "def cross_test_models(model_dict: dict):\n",
    "    '''\n",
    "        model_dict: maps keys to linear model, these linear models are already trained and have weights\n",
    "        sex_cats: labels for the different sexes\n",
    "        race_cats: labels for the different races\n",
    "        This function computes the performance of one model on another models data\n",
    "\n",
    "        With an example, model_dict['SEX_1'] has the linear model trained only of those points which have SEX == 1\n",
    "        we will test its performance on all the other groups data.\n",
    "    '''\n",
    "    keys = list(model_dict.keys())\n",
    "    l = len(keys)\n",
    "    mat_2d = np.zeros((l, l))\n",
    "    for i in range(l):\n",
    "        model_i = model_dict[keys[i]]\n",
    "        for j in range(l):\n",
    "            key = keys[j]\n",
    "            indices_j = (X_test[key] == 1)\n",
    "            mat_2d[i, j] = model_i.score(X_test[indices_j], y_test[indices_j]) # how model i performs on test data meant for model j, R2 score\n",
    "    return mat_2d, keys"
   ]
  },
  {
   "cell_type": "code",
   "execution_count": 50,
   "metadata": {},
   "outputs": [
    {
     "name": "stdout",
     "output_type": "stream",
     "text": [
      "[[  0.77395713   0.67423761   0.2718629    0.34950263]\n",
      " [  0.77813946   0.67880169   0.25524712   0.39194409]\n",
      " [ -0.20102872  -0.14835755   0.33352264  -4.64742037]\n",
      " [ -2.0494803   -3.80947698 -17.23561065   0.71200909]] ['sex_male', 'sex_female', 'smoker_no', 'smoker_yes']\n"
     ]
    }
   ],
   "source": [
    "import numpy as np\n",
    "crossmat, keys = cross_test_models(models_lr_dict)\n",
    "print(crossmat, keys)"
   ]
  },
  {
   "cell_type": "code",
   "execution_count": 51,
   "metadata": {},
   "outputs": [
    {
     "data": {
      "text/plain": [
       "<Axes: >"
      ]
     },
     "execution_count": 51,
     "metadata": {},
     "output_type": "execute_result"
    },
    {
     "data": {
      "image/png": "[encoded data removed]",
      "text/plain": [
       "<Figure size 640x480 with 2 Axes>"
      ]
     },
     "metadata": {},
     "output_type": "display_data"
    }
   ],
   "source": [
    "import seaborn as sns # for data visualization\n",
    "sns.heatmap(crossmat, annot=True, xticklabels=keys, yticklabels=keys)"
   ]
  },
  {
   "cell_type": "code",
   "execution_count": 63,
   "metadata": {},
   "outputs": [],
   "source": [
    "A_t_ss = pd.concat([df_medical['sex'] == 'male', df_medical['sex'] == 'female', \n",
    "                    df_medical['smoker'] == 'yes', df_medical['smoker']=='no'],\n",
    "                    axis = 1).to_numpy()\n",
    "\n",
    "A_t_ss = np.hstack((A_t_ss, np.ones((A_t_ss.shape[0],1)))) # adding the always on"
   ]
  },
  {
   "cell_type": "code",
   "execution_count": 65,
   "metadata": {},
   "outputs": [
    {
     "data": {
      "text/plain": [
       "(True, array([ 676.,  662.,  274., 1064., 1338.]))"
      ]
     },
     "execution_count": 65,
     "metadata": {},
     "output_type": "execute_result"
    }
   ],
   "source": [
    "np.all(A_t_ss.sum(axis = 1) == 3), np.sum(A_t_ss, axis = 0)"
   ]
  },
  {
   "cell_type": "code",
   "execution_count": 66,
   "metadata": {},
   "outputs": [
    {
     "data": {
      "text/plain": [
       "(        age       bmi  children  sex_female  sex_male  smoker_no  smoker_yes  \\\n",
       " 0  0.021739  0.321227       0.0         1.0       0.0        0.0         1.0   \n",
       " 1  0.000000  0.479150       0.2         0.0       1.0        1.0         0.0   \n",
       " 2  0.217391  0.458434       0.6         0.0       1.0        1.0         0.0   \n",
       " 3  0.326087  0.181464       0.0         0.0       1.0        1.0         0.0   \n",
       " 4  0.304348  0.347592       0.0         0.0       1.0        1.0         0.0   \n",
       " \n",
       "    region_northeast  region_northwest  region_southeast  region_southwest  \n",
       " 0               0.0               0.0               0.0               1.0  \n",
       " 1               0.0               0.0               1.0               0.0  \n",
       " 2               0.0               0.0               1.0               0.0  \n",
       " 3               0.0               1.0               0.0               0.0  \n",
       " 4               0.0               1.0               0.0               0.0  ,\n",
       " 0    0.251611\n",
       " 1    0.009636\n",
       " 2    0.053115\n",
       " 3    0.333010\n",
       " 4    0.043816\n",
       " Name: charges, dtype: float64)"
      ]
     },
     "execution_count": 66,
     "metadata": {},
     "output_type": "execute_result"
    }
   ],
   "source": [
    "X_dat.head(), y_dat.head()"
   ]
  },
  {
   "cell_type": "code",
   "execution_count": 67,
   "metadata": {},
   "outputs": [
    {
     "name": "stderr",
     "output_type": "stream",
     "text": [
      "100%|██████████| 1338/1338 [00:01<00:00, 892.55it/s]\n",
      "100%|██████████| 1338/1338 [00:08<00:00, 153.07it/s]\n"
     ]
    }
   ],
   "source": [
    "# Based on education some college v/s only till high school\n",
    "# Sex group\n",
    "# X_dat = df_medical_mm_oh.drop('charges', axis=1)\n",
    "# y_dat = df_medical_mm_oh['charges']\n",
    "\n",
    "dirname = './models_adult/baseline/'\n",
    "# filename = 'ls_medical_ss'\n",
    "filename = 'ridge_medical_ss'\n",
    "\n",
    "# expridge = OnlineLinearExpert(X_dat, y_dat, l2_pen = 0.0)\n",
    "expridge = OnlineLinearExpert(X_dat, y_dat, l2_pen = 1.0)\n",
    "b_ridgebase = build_baseline_alwayson(dirname, filename, A_t_ss, expridge)\n",
    "\n",
    "dirname = './models_adult/Anh/'\n",
    "\n",
    "experts = [OnlineLinearExpert(X_dat, y_dat, l2_pen = 0.0) for _ in range(A_t_ss.shape[1])]\n",
    "b_Anh = build_Anh(dirname, filename, A_t_ss, experts)"
   ]
  },
  {
   "cell_type": "code",
   "execution_count": 68,
   "metadata": {},
   "outputs": [
    {
     "name": "stdout",
     "output_type": "stream",
     "text": [
      "0 9.340432693981805 9.056613923934176 True\n",
      "1 7.870279204337945 7.775014640401702 True\n",
      "2 9.819313779250635 9.599300260487292 True\n",
      "3 7.391398119069116 7.232328303848592 True\n",
      "4 17.210711898319786 16.831628564335887 True\n",
      "5\n"
     ]
    }
   ],
   "source": [
    "# with ls experts\n",
    "cumloss_groupwise_ada = b_Anh.Anh.cumloss_groupwise_ada\n",
    "cumloss_base = b_ridgebase.expert.cumloss_groupwise\n",
    "count_ada_better = 0\n",
    "for g_ind in range(A_t_ss.shape[1]):\n",
    "    base = cumloss_base[g_ind][-1]\n",
    "    ada = cumloss_groupwise_ada[g_ind][-1]\n",
    "    if base >= ada:\n",
    "        count_ada_better += 1\n",
    "    print(g_ind, base, ada , base >= ada)\n",
    "print(count_ada_better)"
   ]
  },
  {
   "cell_type": "code",
   "execution_count": null,
   "metadata": {},
   "outputs": [],
   "source": [
    "# with ls experts\n",
    "cumloss_groupwise_ada = b_Anh.Anh.cumloss_groupwise_ada\n",
    "cumloss_base = b_ridgebase.expert.cumloss_groupwise\n",
    "count_ada_better = 0\n",
    "for g_ind in range(A_t_ss.shape[1]):\n",
    "    base = cumloss_base[g_ind][-1]\n",
    "    ada = cumloss_groupwise_ada[g_ind][-1]\n",
    "    if base >= ada:\n",
    "        count_ada_better += 1\n",
    "    print(g_ind, base, ada , base >= ada)\n",
    "print(count_ada_better)"
   ]
  }
 ],
 "metadata": {
  "kernelspec": {
   "display_name": "Python 3.11.4 ('local_multigroup')",
   "language": "python",
   "name": "python3"
  },
  "language_info": {
   "codemirror_mode": {
    "name": "ipython",
    "version": 3
   },
   "file_extension": ".py",
   "mimetype": "text/x-python",
   "name": "python",
   "nbconvert_exporter": "python",
   "pygments_lexer": "ipython3",
   "version": "3.11.4"
  },
  "orig_nbformat": 4,
  "vscode": {
   "interpreter": {
    "hash": "422a1ee675848ad7ee73ac736eae01a8698556098f797c947729d7d9d67832dc"
   }
  }
 },
 "nbformat": 4,
 "nbformat_minor": 2
}
