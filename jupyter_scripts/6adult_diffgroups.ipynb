{
 "cells": [
  {
   "cell_type": "code",
   "execution_count": 1,
   "metadata": {},
   "outputs": [
    {
     "name": "stdout",
     "output_type": "stream",
     "text": [
      "/Users/krishna/Documents/Research/Simultaneous Classifier/folktables-experiments/multidecomp\n"
     ]
    }
   ],
   "source": [
    "import os\n",
    "os.chdir('..')\n",
    "!pwd\n",
    "import bilevel\n",
    "from bilevel.build_all_models import *\n",
    "from bilevel.OnlineLinearExpert import *\n",
    "from bilevel.OnlineTreeExpert import *\n",
    "import pandas as pd\n",
    "import numpy as np\n",
    "import matplotlib.pyplot as plt"
   ]
  },
  {
   "cell_type": "markdown",
   "metadata": {},
   "source": [
    "Try with occp, education num, education; \n",
    "\n",
    "sex, race"
   ]
  },
  {
   "cell_type": "markdown",
   "metadata": {},
   "source": [
    "## checking with occupation groups"
   ]
  },
  {
   "cell_type": "code",
   "execution_count": 2,
   "metadata": {},
   "outputs": [],
   "source": [
    "df_adult = pd.read_csv('./data_small/adult_reconstruction.csv')"
   ]
  },
  {
   "cell_type": "code",
   "execution_count": null,
   "metadata": {},
   "outputs": [],
   "source": [
    "df_adult['race'].unique(), df_adult['workclass'].unique(), len(df_adult['occupation'].unique())"
   ]
  },
  {
   "cell_type": "code",
   "execution_count": 3,
   "metadata": {},
   "outputs": [
    {
     "data": {
      "text/plain": [
       "15"
      ]
     },
     "execution_count": 3,
     "metadata": {},
     "output_type": "execute_result"
    }
   ],
   "source": [
    "len(df_adult['occupation'].unique())"
   ]
  },
  {
   "cell_type": "code",
   "execution_count": 158,
   "metadata": {},
   "outputs": [
    {
     "data": {
      "text/plain": [
       "occupation\n",
       "Priv-house-serv       8940.607438\n",
       "Other-service        15303.976544\n",
       "?                    17064.336006\n",
       "Handlers-cleaners    19595.279070\n",
       "Farming-fishing      24882.377422\n",
       "Adm-clerical         26611.043326\n",
       "Machine-op-inspct    26838.503578\n",
       "Armed-Forces         31425.200000\n",
       "Transport-moving     33163.423013\n",
       "Sales                34611.518969\n",
       "Craft-repair         35180.810733\n",
       "Tech-support         38533.546016\n",
       "Protective-serv      39383.426263\n",
       "Prof-specialty       50182.144969\n",
       "Exec-managerial      52003.814060\n",
       "Name: income, dtype: float64"
      ]
     },
     "execution_count": 158,
     "metadata": {},
     "output_type": "execute_result"
    }
   ],
   "source": [
    "df_adult.groupby('occupation')['income'].mean().sort_values()\n",
    "\n",
    "low_income_occp = \n",
    "mid_income_occp = \n",
    "high_income_occp = [Prof-specialty ,Exec-managerial]"
   ]
  },
  {
   "cell_type": "code",
   "execution_count": 3,
   "metadata": {},
   "outputs": [
    {
     "data": {
      "text/plain": [
       "(array([13, 10,  7,  9, 15, 12, 11,  5,  4,  8, 14,  2,  6, 16,  3,  1]), 16)"
      ]
     },
     "execution_count": 3,
     "metadata": {},
     "output_type": "execute_result"
    }
   ],
   "source": [
    "df_adult['education-num'].unique(), len(df_adult['education'].unique())"
   ]
  },
  {
   "cell_type": "code",
   "execution_count": 22,
   "metadata": {},
   "outputs": [
    {
     "data": {
      "text/html": [
       "<div>\n",
       "<style scoped>\n",
       "    .dataframe tbody tr th:only-of-type {\n",
       "        vertical-align: middle;\n",
       "    }\n",
       "\n",
       "    .dataframe tbody tr th {\n",
       "        vertical-align: top;\n",
       "    }\n",
       "\n",
       "    .dataframe thead th {\n",
       "        text-align: right;\n",
       "    }\n",
       "</style>\n",
       "<table border=\"1\" class=\"dataframe\">\n",
       "  <thead>\n",
       "    <tr style=\"text-align: right;\">\n",
       "      <th></th>\n",
       "      <th>education</th>\n",
       "      <th>education-num</th>\n",
       "    </tr>\n",
       "  </thead>\n",
       "  <tbody>\n",
       "    <tr>\n",
       "      <th>1914</th>\n",
       "      <td>Preschool</td>\n",
       "      <td>1</td>\n",
       "    </tr>\n",
       "    <tr>\n",
       "      <th>69</th>\n",
       "      <td>1st-4th</td>\n",
       "      <td>2</td>\n",
       "    </tr>\n",
       "    <tr>\n",
       "      <th>473</th>\n",
       "      <td>5th-6th</td>\n",
       "      <td>3</td>\n",
       "    </tr>\n",
       "    <tr>\n",
       "      <th>40</th>\n",
       "      <td>7th-8th</td>\n",
       "      <td>4</td>\n",
       "    </tr>\n",
       "    <tr>\n",
       "      <th>37</th>\n",
       "      <td>9th</td>\n",
       "      <td>5</td>\n",
       "    </tr>\n",
       "    <tr>\n",
       "      <th>103</th>\n",
       "      <td>10th</td>\n",
       "      <td>6</td>\n",
       "    </tr>\n",
       "    <tr>\n",
       "      <th>2</th>\n",
       "      <td>11th</td>\n",
       "      <td>7</td>\n",
       "    </tr>\n",
       "    <tr>\n",
       "      <th>43</th>\n",
       "      <td>12th</td>\n",
       "      <td>8</td>\n",
       "    </tr>\n",
       "    <tr>\n",
       "      <th>3</th>\n",
       "      <td>HS-grad</td>\n",
       "      <td>9</td>\n",
       "    </tr>\n",
       "    <tr>\n",
       "      <th>1</th>\n",
       "      <td>Some-college</td>\n",
       "      <td>10</td>\n",
       "    </tr>\n",
       "    <tr>\n",
       "      <th>21</th>\n",
       "      <td>Assoc-voc</td>\n",
       "      <td>11</td>\n",
       "    </tr>\n",
       "    <tr>\n",
       "      <th>20</th>\n",
       "      <td>Assoc-acdm</td>\n",
       "      <td>12</td>\n",
       "    </tr>\n",
       "    <tr>\n",
       "      <th>0</th>\n",
       "      <td>Bachelors</td>\n",
       "      <td>13</td>\n",
       "    </tr>\n",
       "    <tr>\n",
       "      <th>58</th>\n",
       "      <td>Masters</td>\n",
       "      <td>14</td>\n",
       "    </tr>\n",
       "    <tr>\n",
       "      <th>6</th>\n",
       "      <td>Prof-school</td>\n",
       "      <td>15</td>\n",
       "    </tr>\n",
       "    <tr>\n",
       "      <th>241</th>\n",
       "      <td>Doctorate</td>\n",
       "      <td>16</td>\n",
       "    </tr>\n",
       "  </tbody>\n",
       "</table>\n",
       "</div>"
      ],
      "text/plain": [
       "         education  education-num\n",
       "1914     Preschool              1\n",
       "69         1st-4th              2\n",
       "473        5th-6th              3\n",
       "40         7th-8th              4\n",
       "37             9th              5\n",
       "103           10th              6\n",
       "2             11th              7\n",
       "43            12th              8\n",
       "3          HS-grad              9\n",
       "1     Some-college             10\n",
       "21       Assoc-voc             11\n",
       "20      Assoc-acdm             12\n",
       "0        Bachelors             13\n",
       "58         Masters             14\n",
       "6      Prof-school             15\n",
       "241      Doctorate             16"
      ]
     },
     "execution_count": 22,
     "metadata": {},
     "output_type": "execute_result"
    }
   ],
   "source": [
    "df_adult[['education', 'education-num']].drop_duplicates().sort_values(by='education-num')"
   ]
  },
  {
   "cell_type": "code",
   "execution_count": 85,
   "metadata": {},
   "outputs": [],
   "source": [
    "df_adult = pd.read_csv('./data_small/adult_reconstruction.csv')"
   ]
  },
  {
   "cell_type": "code",
   "execution_count": 4,
   "metadata": {},
   "outputs": [
    {
     "data": {
      "text/html": [
       "<div>\n",
       "<style scoped>\n",
       "    .dataframe tbody tr th:only-of-type {\n",
       "        vertical-align: middle;\n",
       "    }\n",
       "\n",
       "    .dataframe tbody tr th {\n",
       "        vertical-align: top;\n",
       "    }\n",
       "\n",
       "    .dataframe thead th {\n",
       "        text-align: right;\n",
       "    }\n",
       "</style>\n",
       "<table border=\"1\" class=\"dataframe\">\n",
       "  <thead>\n",
       "    <tr style=\"text-align: right;\">\n",
       "      <th></th>\n",
       "      <th>hours-per-week</th>\n",
       "      <th>age</th>\n",
       "      <th>capital-gain</th>\n",
       "      <th>capital-loss</th>\n",
       "      <th>education-num</th>\n",
       "      <th>income</th>\n",
       "      <th>workclass_?</th>\n",
       "      <th>workclass_Federal-gov</th>\n",
       "      <th>workclass_Local-gov</th>\n",
       "      <th>workclass_Never-worked</th>\n",
       "      <th>...</th>\n",
       "      <th>occupation_Sales</th>\n",
       "      <th>occupation_Tech-support</th>\n",
       "      <th>occupation_Transport-moving</th>\n",
       "      <th>race_Amer-Indian-Eskimo</th>\n",
       "      <th>race_Asian-Pac-Islander</th>\n",
       "      <th>race_Black</th>\n",
       "      <th>race_Other</th>\n",
       "      <th>race_White</th>\n",
       "      <th>sex_Female</th>\n",
       "      <th>sex_Male</th>\n",
       "    </tr>\n",
       "  </thead>\n",
       "  <tbody>\n",
       "    <tr>\n",
       "      <th>0</th>\n",
       "      <td>0.193878</td>\n",
       "      <td>0.315068</td>\n",
       "      <td>0.0</td>\n",
       "      <td>0.0</td>\n",
       "      <td>0.800000</td>\n",
       "      <td>0.490460</td>\n",
       "      <td>0.0</td>\n",
       "      <td>0.0</td>\n",
       "      <td>0.0</td>\n",
       "      <td>0.0</td>\n",
       "      <td>...</td>\n",
       "      <td>0.0</td>\n",
       "      <td>1.0</td>\n",
       "      <td>0.0</td>\n",
       "      <td>0.0</td>\n",
       "      <td>0.0</td>\n",
       "      <td>0.0</td>\n",
       "      <td>0.0</td>\n",
       "      <td>1.0</td>\n",
       "      <td>1.0</td>\n",
       "      <td>0.0</td>\n",
       "    </tr>\n",
       "    <tr>\n",
       "      <th>1</th>\n",
       "      <td>0.397959</td>\n",
       "      <td>0.054795</td>\n",
       "      <td>0.0</td>\n",
       "      <td>0.0</td>\n",
       "      <td>0.600000</td>\n",
       "      <td>0.114053</td>\n",
       "      <td>0.0</td>\n",
       "      <td>0.0</td>\n",
       "      <td>0.0</td>\n",
       "      <td>0.0</td>\n",
       "      <td>...</td>\n",
       "      <td>0.0</td>\n",
       "      <td>0.0</td>\n",
       "      <td>0.0</td>\n",
       "      <td>0.0</td>\n",
       "      <td>0.0</td>\n",
       "      <td>0.0</td>\n",
       "      <td>0.0</td>\n",
       "      <td>1.0</td>\n",
       "      <td>0.0</td>\n",
       "      <td>1.0</td>\n",
       "    </tr>\n",
       "    <tr>\n",
       "      <th>2</th>\n",
       "      <td>0.091837</td>\n",
       "      <td>0.000000</td>\n",
       "      <td>0.0</td>\n",
       "      <td>0.0</td>\n",
       "      <td>0.400000</td>\n",
       "      <td>0.024957</td>\n",
       "      <td>0.0</td>\n",
       "      <td>0.0</td>\n",
       "      <td>0.0</td>\n",
       "      <td>0.0</td>\n",
       "      <td>...</td>\n",
       "      <td>0.0</td>\n",
       "      <td>0.0</td>\n",
       "      <td>0.0</td>\n",
       "      <td>0.0</td>\n",
       "      <td>0.0</td>\n",
       "      <td>0.0</td>\n",
       "      <td>0.0</td>\n",
       "      <td>1.0</td>\n",
       "      <td>0.0</td>\n",
       "      <td>1.0</td>\n",
       "    </tr>\n",
       "    <tr>\n",
       "      <th>3</th>\n",
       "      <td>0.500000</td>\n",
       "      <td>0.465753</td>\n",
       "      <td>0.0</td>\n",
       "      <td>0.0</td>\n",
       "      <td>0.533333</td>\n",
       "      <td>0.389320</td>\n",
       "      <td>0.0</td>\n",
       "      <td>0.0</td>\n",
       "      <td>0.0</td>\n",
       "      <td>0.0</td>\n",
       "      <td>...</td>\n",
       "      <td>1.0</td>\n",
       "      <td>0.0</td>\n",
       "      <td>0.0</td>\n",
       "      <td>0.0</td>\n",
       "      <td>1.0</td>\n",
       "      <td>0.0</td>\n",
       "      <td>0.0</td>\n",
       "      <td>0.0</td>\n",
       "      <td>0.0</td>\n",
       "      <td>1.0</td>\n",
       "    </tr>\n",
       "    <tr>\n",
       "      <th>4</th>\n",
       "      <td>0.377551</td>\n",
       "      <td>0.150685</td>\n",
       "      <td>0.0</td>\n",
       "      <td>0.0</td>\n",
       "      <td>0.800000</td>\n",
       "      <td>0.413376</td>\n",
       "      <td>0.0</td>\n",
       "      <td>0.0</td>\n",
       "      <td>0.0</td>\n",
       "      <td>0.0</td>\n",
       "      <td>...</td>\n",
       "      <td>0.0</td>\n",
       "      <td>0.0</td>\n",
       "      <td>0.0</td>\n",
       "      <td>0.0</td>\n",
       "      <td>0.0</td>\n",
       "      <td>0.0</td>\n",
       "      <td>0.0</td>\n",
       "      <td>1.0</td>\n",
       "      <td>0.0</td>\n",
       "      <td>1.0</td>\n",
       "    </tr>\n",
       "  </tbody>\n",
       "</table>\n",
       "<p>5 rows × 92 columns</p>\n",
       "</div>"
      ],
      "text/plain": [
       "   hours-per-week       age  capital-gain  capital-loss  education-num  \\\n",
       "0        0.193878  0.315068           0.0           0.0       0.800000   \n",
       "1        0.397959  0.054795           0.0           0.0       0.600000   \n",
       "2        0.091837  0.000000           0.0           0.0       0.400000   \n",
       "3        0.500000  0.465753           0.0           0.0       0.533333   \n",
       "4        0.377551  0.150685           0.0           0.0       0.800000   \n",
       "\n",
       "     income  workclass_?  workclass_Federal-gov  workclass_Local-gov  \\\n",
       "0  0.490460          0.0                    0.0                  0.0   \n",
       "1  0.114053          0.0                    0.0                  0.0   \n",
       "2  0.024957          0.0                    0.0                  0.0   \n",
       "3  0.389320          0.0                    0.0                  0.0   \n",
       "4  0.413376          0.0                    0.0                  0.0   \n",
       "\n",
       "   workclass_Never-worked  ...  occupation_Sales  occupation_Tech-support  \\\n",
       "0                     0.0  ...               0.0                      1.0   \n",
       "1                     0.0  ...               0.0                      0.0   \n",
       "2                     0.0  ...               0.0                      0.0   \n",
       "3                     0.0  ...               1.0                      0.0   \n",
       "4                     0.0  ...               0.0                      0.0   \n",
       "\n",
       "   occupation_Transport-moving  race_Amer-Indian-Eskimo  \\\n",
       "0                          0.0                      0.0   \n",
       "1                          0.0                      0.0   \n",
       "2                          0.0                      0.0   \n",
       "3                          0.0                      0.0   \n",
       "4                          0.0                      0.0   \n",
       "\n",
       "   race_Asian-Pac-Islander  race_Black  race_Other  race_White  sex_Female  \\\n",
       "0                      0.0         0.0         0.0         1.0         1.0   \n",
       "1                      0.0         0.0         0.0         1.0         0.0   \n",
       "2                      0.0         0.0         0.0         1.0         0.0   \n",
       "3                      1.0         0.0         0.0         0.0         0.0   \n",
       "4                      0.0         0.0         0.0         1.0         0.0   \n",
       "\n",
       "   sex_Male  \n",
       "0       0.0  \n",
       "1       1.0  \n",
       "2       1.0  \n",
       "3       1.0  \n",
       "4       1.0  \n",
       "\n",
       "[5 rows x 92 columns]"
      ]
     },
     "execution_count": 4,
     "metadata": {},
     "output_type": "execute_result"
    }
   ],
   "source": [
    "numeric_all = ['hours-per-week', 'age', 'capital-gain', 'capital-loss', 'education-num', 'income']\n",
    "cat_feat =  ['workclass', 'marital-status', 'relationship', 'native-country', 'occupation', 'race', 'sex']\n",
    "\n",
    "# df_adult.drop(['race', 'sex', 'education'], axis = 1, inplace=True)\n",
    "df_adult.drop(['education'], axis = 1, inplace=True)\n",
    "df_adult_mm = numeric_scaler(df_adult, numeric_all)\n",
    "df_adult_mm_oh = one_hot(df_adult_mm, cat_feat)\n",
    "df_adult_mm_oh.drop(cat_feat, axis = 1, inplace=True) # drop the categorics that were used to one hot encode\n",
    "df_adult_mm_oh = df_adult_mm_oh * 1.0 # make bool true, false into 1.0, 0.0\n",
    "df_adult_mm_oh.head()"
   ]
  },
  {
   "cell_type": "code",
   "execution_count": 149,
   "metadata": {},
   "outputs": [
    {
     "data": {
      "text/plain": [
       "(array(['Tech-support', 'Craft-repair', 'Other-service', 'Sales',\n",
       "        'Exec-managerial', 'Prof-specialty', '?', 'Handlers-cleaners',\n",
       "        'Machine-op-inspct', 'Adm-clerical', 'Farming-fishing',\n",
       "        'Transport-moving', 'Priv-house-serv', 'Protective-serv',\n",
       "        'Armed-Forces'], dtype=object),\n",
       " 15)"
      ]
     },
     "execution_count": 149,
     "metadata": {},
     "output_type": "execute_result"
    }
   ],
   "source": [
    "# df_adult['native-country'].unique()\n",
    "df_adult['occupation'].unique(), len(df_adult['occupation'].unique())"
   ]
  },
  {
   "cell_type": "code",
   "execution_count": 133,
   "metadata": {},
   "outputs": [
    {
     "name": "stdout",
     "output_type": "stream",
     "text": [
      "{'Ecuador', 'Guatemala', 'Columbia', 'India', 'Vietnam', 'Haiti', 'Honduras', 'Puerto-Rico', 'Thailand', 'Cuba', 'Trinadad&Tobago', 'Laos', 'Outlying-US(Guam-USVI-etc)', 'Cambodia', 'Jamaica', 'Mexico', 'Hong', 'South', 'Taiwan', 'China', '?', 'Philippines', 'Peru', 'Dominican-Republic', 'Yugoslavia', 'Iran', 'Nicaragua', 'El-Salvador'}\n",
      "{'Japan', 'Hungary', 'Germany', 'Poland', 'Holand-Netherlands', 'England', 'Scotland', 'Greece', 'Ireland', 'Canada', 'France', 'Portugal', 'Italy', 'United-States'}\n",
      "42 14 28\n"
     ]
    },
    {
     "data": {
      "text/plain": [
       "(44481, 45512, 4019)"
      ]
     },
     "execution_count": 133,
     "metadata": {},
     "output_type": "execute_result"
    }
   ],
   "source": [
    "# source HDI ranking 1994 https://countryeconomy.com/hdi?year=1994\n",
    "\n",
    "all = set(['United-States', 'Cambodia', '?', 'England', 'Puerto-Rico',\n",
    "       'Canada', 'Germany', 'Outlying-US(Guam-USVI-etc)', 'India',\n",
    "       'Japan', 'Greece', 'South', 'China', 'Cuba', 'Iran', 'Honduras',\n",
    "       'Philippines', 'Italy', 'Poland', 'Jamaica', 'Vietnam', 'Mexico',\n",
    "       'Portugal', 'Ireland', 'France', 'Dominican-Republic', 'Laos',\n",
    "       'Ecuador', 'Taiwan', 'Haiti', 'Columbia', 'Hungary', 'Guatemala',\n",
    "       'Nicaragua', 'Scotland', 'Thailand', 'Yugoslavia', 'El-Salvador',\n",
    "       'Trinadad&Tobago', 'Peru', 'Hong', 'Holand-Netherlands'])\n",
    "developed = set(['United-States', 'England', 'Canada', 'Germany', 'Japan', 'Greece',  'Italy', 'Poland', 'Portugal', 'Ireland', 'France', 'Hungary', 'Scotland', 'Holand-Netherlands'])\n",
    "\n",
    "print(all-developed)\n",
    "print(developed)\n",
    "\n",
    "print(len(all), len(developed), len(all - developed))\n",
    "\n",
    "# df_adult[df_adult['native-country'].isin(developed)]\n",
    "len(df_adult[df_adult['native-country'] == 'United-States']), len(df_adult[df_adult['native-country'].isin(developed)]), len(df_adult[df_adult['native-country'].isin(all-developed)])\n",
    "\n"
   ]
  },
  {
   "cell_type": "code",
   "execution_count": 145,
   "metadata": {},
   "outputs": [
    {
     "name": "stdout",
     "output_type": "stream",
     "text": [
      "[45512  4019]\n"
     ]
    }
   ],
   "source": [
    "# A_t_nation = pd.concat([df_adult['education-num'] < 10, df_adult['education-num'] >= 10], axis=1).to_numpy() \n",
    "\n",
    "A_t_nation = pd.concat([df_adult['native-country'].isin(developed), df_adult['native-country'].isin(all-developed)], axis = 1).to_numpy()\n",
    "print(A_t_nation.sum(axis=0))\n",
    "A_t_nation = np.hstack((A_t_nation, np.ones((A_t_nation.shape[0],1)))) # adding the always on"
   ]
  },
  {
   "cell_type": "code",
   "execution_count": 135,
   "metadata": {},
   "outputs": [
    {
     "data": {
      "text/plain": [
       "(34013.02131306029, 27811.747698432446)"
      ]
     },
     "execution_count": 135,
     "metadata": {},
     "output_type": "execute_result"
    }
   ],
   "source": [
    "df_adult[df_adult['native-country'].isin(developed)]['income'].mean(), df_adult[df_adult['native-country'].isin(all-developed)]['income'].mean()"
   ]
  },
  {
   "cell_type": "code",
   "execution_count": 19,
   "metadata": {},
   "outputs": [
    {
     "data": {
      "text/plain": [
       "0.5801006608203434"
      ]
     },
     "execution_count": 19,
     "metadata": {},
     "output_type": "execute_result"
    }
   ],
   "source": [
    "from sklearn.linear_model import LinearRegression, Ridge\n",
    "\n",
    "X_dat = df_adult_mm_oh.drop('income', axis=1, inplace=False)\n",
    "y_dat = df_adult_mm_oh['income']\n",
    "\n",
    "lr = LinearRegression()\n",
    "lr.fit(X_dat, y_dat)\n",
    "lr.score(X_dat,y_dat)\n"
   ]
  },
  {
   "cell_type": "code",
   "execution_count": 34,
   "metadata": {},
   "outputs": [
    {
     "name": "stdout",
     "output_type": "stream",
     "text": [
      "[12062.686746987953, 15689.834677419354, 17557.77904761905, 20040.53742203742, 18805.62023653088, 18391.132384341636, 15716.255399568034, 17701.820241691843, 28550.929939077458, 28834.634285197902, 36054.11761858664, 35646.61629353234, 46885.52854852633, 57409.53823088456, 72966.68982035929, 68838.1949579832]\n"
     ]
    }
   ],
   "source": [
    "# for edlevels in range(1, 17):\n",
    "#     print(edlevels, df_adult[df_adult['education-num'] >= edlevels]['income'].mean(),\n",
    "#      df_adult[df_adult['education-num'] < edlevels]['income'].mean())\n",
    "\n",
    "income_by_ed = [df_adult[df_adult['education-num'] == ed]['income'].mean() for  ed in range(1, 17)]\n",
    "sd_by_ed = [df_adult[df_adult['education-num'] == ed]['income'].std() for  ed in range(1, 17)]\n",
    "print(income_by_ed)\n",
    "\n"
   ]
  },
  {
   "cell_type": "code",
   "execution_count": 35,
   "metadata": {},
   "outputs": [
    {
     "data": {
      "text/plain": [
       "<ErrorbarContainer object of 3 artists>"
      ]
     },
     "execution_count": 35,
     "metadata": {},
     "output_type": "execute_result"
    },
    {
     "data": {
      "image/png": "[encoded data removed]",
      "text/plain": [
       "<Figure size 640x480 with 1 Axes>"
      ]
     },
     "metadata": {},
     "output_type": "display_data"
    }
   ],
   "source": [
    "plt.errorbar(np.arange(1,17), income_by_ed, yerr = sd_by_ed)"
   ]
  },
  {
   "cell_type": "code",
   "execution_count": 5,
   "metadata": {},
   "outputs": [
    {
     "name": "stdout",
     "output_type": "stream",
     "text": [
      "25400.066418703507 40306.562511596836 33509.84312854576\n"
     ]
    }
   ],
   "source": [
    "print(df_adult[df_adult['education-num'] <= 9]['income'].mean(), df_adult[df_adult['education-num'] >= 10]['income'].mean(),df_adult['income'].mean())\n",
    "# df_adult[(df_adult['education-num'] >= 9) & (df_adult['education-num'] < 13)]['income'].describe(), \\\n",
    "type(df_adult['education-num'] < 9)\n",
    "# df_adult['education-num'] >= 9\n",
    "\n",
    "A_t_education = pd.concat([df_adult['education-num'] < 10, df_adult['education-num'] >= 10], axis=1).to_numpy() # high school only, some college higher\n",
    "A_t_education = np.hstack((A_t_education, np.ones((A_t_education.shape[0],1))))"
   ]
  },
  {
   "cell_type": "code",
   "execution_count": 7,
   "metadata": {},
   "outputs": [
    {
     "data": {
      "text/plain": [
       "(array([[0., 1., 1.],\n",
       "        [0., 1., 1.],\n",
       "        [1., 0., 1.],\n",
       "        ...,\n",
       "        [0., 1., 1.],\n",
       "        [0., 1., 1.],\n",
       "        [1., 0., 1.]]),\n",
       " (49531, 3))"
      ]
     },
     "execution_count": 7,
     "metadata": {},
     "output_type": "execute_result"
    }
   ],
   "source": [
    "A_t_education, A_t_education.shape"
   ]
  },
  {
   "cell_type": "code",
   "execution_count": 7,
   "metadata": {},
   "outputs": [
    {
     "name": "stdout",
     "output_type": "stream",
     "text": [
      "['occupation_?', 'occupation_Adm-clerical', 'occupation_Armed-Forces', 'occupation_Craft-repair', 'occupation_Exec-managerial', 'occupation_Farming-fishing', 'occupation_Handlers-cleaners', 'occupation_Machine-op-inspct', 'occupation_Other-service', 'occupation_Priv-house-serv', 'occupation_Prof-specialty', 'occupation_Protective-serv', 'occupation_Sales', 'occupation_Tech-support', 'occupation_Transport-moving'] 15\n",
      "['race_Amer-Indian-Eskimo', 'race_Asian-Pac-Islander', 'race_Black', 'race_Other', 'race_White'] 5\n",
      "['sex_Female', 'sex_Male'] 2\n"
     ]
    }
   ],
   "source": [
    "occ_groups_oh = []\n",
    "race_groups_oh = []\n",
    "sex_groups_oh = []\n",
    "for col in df_adult_mm_oh.columns:\n",
    "    if 'occu' in col:\n",
    "        occ_groups_oh.append(col)\n",
    "    if 'race' in col:\n",
    "        race_groups_oh.append(col)\n",
    "    if 'sex' in col:\n",
    "        sex_groups_oh.append(col)\n",
    "print(occ_groups_oh, len(occ_groups_oh))\n",
    "print(race_groups_oh, len(race_groups_oh))\n",
    "print(sex_groups_oh, len(sex_groups_oh))"
   ]
  },
  {
   "cell_type": "code",
   "execution_count": 9,
   "metadata": {},
   "outputs": [
    {
     "name": "stderr",
     "output_type": "stream",
     "text": [
      "/var/folders/t1/gd3l0zxn0hzdg0bsmr1jpsfw0000gn/T/ipykernel_51711/420740270.py:4: SettingWithCopyWarning: \n",
      "A value is trying to be set on a copy of a slice from a DataFrame.\n",
      "Try using .loc[row_indexer,col_indexer] = value instead\n",
      "\n",
      "See the caveats in the documentation: https://pandas.pydata.org/pandas-docs/stable/user_guide/indexing.html#returning-a-view-versus-a-copy\n",
      "  A_tdf['alwayson'] = 1\n",
      "/var/folders/t1/gd3l0zxn0hzdg0bsmr1jpsfw0000gn/T/ipykernel_51711/420740270.py:4: SettingWithCopyWarning: \n",
      "A value is trying to be set on a copy of a slice from a DataFrame.\n",
      "Try using .loc[row_indexer,col_indexer] = value instead\n",
      "\n",
      "See the caveats in the documentation: https://pandas.pydata.org/pandas-docs/stable/user_guide/indexing.html#returning-a-view-versus-a-copy\n",
      "  A_tdf['alwayson'] = 1\n",
      "/var/folders/t1/gd3l0zxn0hzdg0bsmr1jpsfw0000gn/T/ipykernel_51711/420740270.py:4: SettingWithCopyWarning: \n",
      "A value is trying to be set on a copy of a slice from a DataFrame.\n",
      "Try using .loc[row_indexer,col_indexer] = value instead\n",
      "\n",
      "See the caveats in the documentation: https://pandas.pydata.org/pandas-docs/stable/user_guide/indexing.html#returning-a-view-versus-a-copy\n",
      "  A_tdf['alwayson'] = 1\n",
      "/var/folders/t1/gd3l0zxn0hzdg0bsmr1jpsfw0000gn/T/ipykernel_51711/420740270.py:4: SettingWithCopyWarning: \n",
      "A value is trying to be set on a copy of a slice from a DataFrame.\n",
      "Try using .loc[row_indexer,col_indexer] = value instead\n",
      "\n",
      "See the caveats in the documentation: https://pandas.pydata.org/pandas-docs/stable/user_guide/indexing.html#returning-a-view-versus-a-copy\n",
      "  A_tdf['alwayson'] = 1\n"
     ]
    }
   ],
   "source": [
    "def get_A_t_from_onehotdf(df_oh, groups, always_on = False) -> np.ndarray:\n",
    "    A_tdf = df_oh[groups]\n",
    "    if always_on:\n",
    "        A_tdf['alwayson'] = 1\n",
    "    return A_tdf.to_numpy()\n",
    "\n",
    "A_t_occp = get_A_t_from_onehotdf(df_adult_mm_oh, occ_groups_oh, always_on = True)\n",
    "A_t_sex = get_A_t_from_onehotdf(df_adult_mm_oh, sex_groups_oh, always_on = True)\n",
    "A_t_race = get_A_t_from_onehotdf(df_adult_mm_oh, race_groups_oh, always_on = True)\n",
    "A_t_occp_race_sex = get_A_t_from_onehotdf(df_adult_mm_oh, occ_groups_oh+sex_groups_oh+race_groups_oh, always_on = True)\n"
   ]
  },
  {
   "cell_type": "code",
   "execution_count": 93,
   "metadata": {},
   "outputs": [
    {
     "ename": "NameError",
     "evalue": "name 'A_t_occp' is not defined",
     "output_type": "error",
     "traceback": [
      "\u001b[0;31m---------------------------------------------------------------------------\u001b[0m",
      "\u001b[0;31mNameError\u001b[0m                                 Traceback (most recent call last)",
      "Cell \u001b[0;32mIn[93], line 1\u001b[0m\n\u001b[0;32m----> 1\u001b[0m A_t_occp\u001b[39m.\u001b[39mshape, A_t_sex\u001b[39m.\u001b[39mshape, A_t_race\u001b[39m.\u001b[39mshape, A_t_occp_race_sex\u001b[39m.\u001b[39mshape, A_t_education\u001b[39m.\u001b[39mshape\n",
      "\u001b[0;31mNameError\u001b[0m: name 'A_t_occp' is not defined"
     ]
    }
   ],
   "source": [
    "# A_t_occp.shape, A_t_sex.shape, A_t_race.shape, A_t_occp_race_sex.shape, A_t_education.shape"
   ]
  },
  {
   "cell_type": "code",
   "execution_count": 8,
   "metadata": {},
   "outputs": [
    {
     "name": "stderr",
     "output_type": "stream",
     "text": [
      "100%|██████████| 49531/49531 [00:44<00:00, 1117.42it/s]\n",
      "100%|██████████| 49531/49531 [01:15<00:00, 657.97it/s]\n"
     ]
    }
   ],
   "source": [
    "# Based on education some college v/s only till high school\n",
    "# Sex group\n",
    "X_dat = df_adult_mm_oh.drop('income', axis=1)\n",
    "y_dat = df_adult_mm_oh['income']\n",
    "\n",
    "dirname = './models_adult/baseline/'\n",
    "filename = 'ridge_education'\n",
    "\n",
    "\n",
    "# expridge = OnlineLinearExpert(X_dat, y_dat, l2_pen = 1.0)\n",
    "expridge = OnlineLinearExpert(X_dat, y_dat, l2_pen = 0.0)\n",
    "b_ridgebase = build_baseline_alwayson(dirname, filename, A_t_education, expridge)\n",
    "\n",
    "dirname = './models_adult/Anh/'\n",
    "filename = 'ridgemeta_education'\n",
    "\n",
    "# experts = [OnlineLinearExpert(X_dat, y_dat, l2_pen = 1.0) for _ in range(A_t_education.shape[1])]\n",
    "experts = [OnlineLinearExpert(X_dat, y_dat, l2_pen = 0.0) for _ in range(A_t_education.shape[1])]\n",
    "b_Anh = build_Anh(dirname, filename, A_t_education, experts)"
   ]
  },
  {
   "cell_type": "code",
   "execution_count": 9,
   "metadata": {},
   "outputs": [
    {
     "name": "stdout",
     "output_type": "stream",
     "text": [
      "0 556.8462863011631 556.4323161520625 True\n",
      "1 1005.1182933101187 1005.4287908691844 False\n",
      "2 1561.9645796113005 1561.8611070212673 True\n",
      "2\n"
     ]
    }
   ],
   "source": [
    "# with ls experts\n",
    "cumloss_groupwise_ada = b_Anh.Anh.cumloss_groupwise_ada\n",
    "cumloss_base = b_ridgebase.expert.cumloss_groupwise\n",
    "count_ada_better = 0\n",
    "for g_ind in range(A_t_education.shape[1]):\n",
    "    base = cumloss_base[g_ind][-1]\n",
    "    ada = cumloss_groupwise_ada[g_ind][-1]\n",
    "    if base >= ada:\n",
    "        count_ada_better += 1\n",
    "    print(g_ind, base, ada , base >= ada)\n",
    "print(count_ada_better)"
   ]
  },
  {
   "cell_type": "code",
   "execution_count": 96,
   "metadata": {},
   "outputs": [
    {
     "name": "stdout",
     "output_type": "stream",
     "text": [
      "0 776.0080116101033 720.3264209921213 True\n",
      "1 1584.7570784270565 1479.1300808621 True\n",
      "2 2360.7650900371787 2199.4565018542266 True\n",
      "3\n"
     ]
    }
   ],
   "source": [
    "# with ridge experts\n",
    "cumloss_groupwise_ada = b_Anh.Anh.cumloss_groupwise_ada\n",
    "cumloss_base = b_ridgebase.expert.cumloss_groupwise\n",
    "count_ada_better = 0\n",
    "for g_ind in range(A_t_education.shape[1]):\n",
    "    base = cumloss_base[g_ind][-1]\n",
    "    ada = cumloss_groupwise_ada[g_ind][-1]\n",
    "    if base >= ada:\n",
    "        count_ada_better += 1\n",
    "    print(g_ind, base, ada , base >= ada)\n",
    "print(count_ada_better)"
   ]
  },
  {
   "cell_type": "code",
   "execution_count": null,
   "metadata": {},
   "outputs": [],
   "source": [
    "# developed vs developing\n",
    "\n",
    "X_dat = df_adult_mm_oh.drop('income', axis=1)\n",
    "y_dat = df_adult_mm_oh['income']\n",
    "\n",
    "dirname = './models_adult/baseline/'\n",
    "filename = 'ridge_education'\n",
    "\n",
    "\n",
    "expridge = OnlineLinearExpert(X_dat, y_dat, l2_pen = 1.0)\n",
    "b_ridgebase = build_baseline_alwayson(dirname, filename, A_t_education, expridge)\n",
    "\n",
    "dirname = './models_adult/Anh/'\n",
    "filename = 'ridgemeta_education'\n",
    "\n",
    "experts = [OnlineLinearExpert(X_dat, y_dat, l2_pen = 1.0) for _ in range(A_t_education.shape[1])]\n",
    "b_Anh = build_Anh(dirname, filename, A_t_education, experts)\n"
   ]
  },
  {
   "cell_type": "code",
   "execution_count": 115,
   "metadata": {},
   "outputs": [
    {
     "name": "stdout",
     "output_type": "stream",
     "text": [
      "dataset mean 33509.84312854576\n",
      "['Female' 'Male'] ['White' 'Asian-Pac-Islander' 'Amer-Indian-Eskimo' 'Other' 'Black']\n",
      "38679.59157774161 23024.959894846244\n",
      "White 34643.764850027095\n",
      "Asian-Pac-Islander 35456.2159315339\n",
      "Amer-Indian-Eskimo 24390.79617834395\n",
      "Other 25381.625615763547\n",
      "Black 24245.63677034512\n"
     ]
    }
   ],
   "source": [
    "df_adult = pd.read_csv('./data_small/adult_reconstruction.csv')\n",
    "print(\"dataset mean\", df_adult['income'].mean())\n",
    "print(df_adult['sex'].unique(), df_adult['race'].unique())\n",
    "print(df_adult[df_adult['sex'] == 'Male']['income'].mean(), df_adult[df_adult['sex'] == 'Female']['income'].mean())\n",
    "\n",
    "race_list = ['White', 'Asian-Pac-Islander', 'Amer-Indian-Eskimo', 'Other', 'Black']\n",
    "for race in race_list:\n",
    "    print(race, df_adult[df_adult['race'] == race]['income'].mean())"
   ]
  },
  {
   "cell_type": "code",
   "execution_count": null,
   "metadata": {},
   "outputs": [],
   "source": [
    "df_adult[df_adult['race'] == 'Male']['income'].mean(), df_adult[df_adult['race'] == 'Female']['income'].mean()"
   ]
  },
  {
   "cell_type": "code",
   "execution_count": 17,
   "metadata": {},
   "outputs": [
    {
     "name": "stderr",
     "output_type": "stream",
     "text": [
      "100%|██████████| 49531/49531 [00:51<00:00, 965.22it/s] \n",
      "100%|██████████| 49531/49531 [02:29<00:00, 331.77it/s]\n"
     ]
    }
   ],
   "source": [
    "# Sex group\n",
    "X_dat = df_adult_mm_oh.drop('income', axis=1)\n",
    "y_dat = df_adult_mm_oh['income']\n",
    "\n",
    "dirname = './models_adult/baseline/'\n",
    "filename = 'ridge_sex'\n",
    "\n",
    "\n",
    "expridge = OnlineLinearExpert(X_dat, y_dat, l2_pen = 1.0)\n",
    "b_ridgebase = build_baseline_alwayson(dirname, filename, A_t_sex, expridge)\n",
    "\n",
    "dirname = './models_adult/Anh/'\n",
    "filename = 'ridgemeta_sex'\n",
    "\n",
    "experts = [OnlineLinearExpert(X_dat, y_dat, l2_pen = 1.0) for _ in range(A_t_sex.shape[1])]\n",
    "b_Anh = build_Anh(dirname, filename, A_t_sex, experts)"
   ]
  },
  {
   "cell_type": "code",
   "execution_count": 18,
   "metadata": {},
   "outputs": [
    {
     "name": "stdout",
     "output_type": "stream",
     "text": [
      "0 543.6830188878803 534.1451671816794 True\n",
      "1 1758.5187098780991 1749.8806720881093 True\n",
      "2 2302.2017287659983 2284.0258392697947 True\n",
      "3\n"
     ]
    }
   ],
   "source": [
    "cumloss_groupwise_ada = b_Anh.Anh.cumloss_groupwise_ada\n",
    "cumloss_base = b_ridgebase.expert.cumloss_groupwise\n",
    "count_ada_better = 0\n",
    "for g_ind in range(A_t_sex.shape[1]):\n",
    "    base = cumloss_base[g_ind][-1]\n",
    "    ada = cumloss_groupwise_ada[g_ind][-1]\n",
    "    if base >= ada:\n",
    "        count_ada_better += 1\n",
    "    print(g_ind, base, ada , base >= ada)\n",
    "print(count_ada_better) "
   ]
  },
  {
   "cell_type": "code",
   "execution_count": 19,
   "metadata": {},
   "outputs": [
    {
     "name": "stderr",
     "output_type": "stream",
     "text": [
      "100%|██████████| 49531/49531 [01:02<00:00, 787.61it/s]\n",
      "100%|██████████| 49531/49531 [03:33<00:00, 232.51it/s]\n"
     ]
    }
   ],
   "source": [
    "# Race group\n",
    "X_dat = df_adult_mm_oh.drop('income', axis=1)\n",
    "y_dat = df_adult_mm_oh['income']\n",
    "\n",
    "dirname = './models_adult/baseline/'\n",
    "filename = 'ridge_race'\n",
    "\n",
    "\n",
    "expridge = OnlineLinearExpert(X_dat, y_dat, l2_pen = 1.0)\n",
    "b_ridgebase = build_baseline_alwayson(dirname, filename, A_t_race, expridge)\n",
    "\n",
    "dirname = './models_adult/Anh/'\n",
    "filename = 'ridgemeta_race'\n",
    "\n",
    "experts = [OnlineLinearExpert(X_dat, y_dat, l2_pen = 1.0) for _ in range(A_t_race.shape[1])]\n",
    "b_Anh = build_Anh(dirname, filename, A_t_race, experts)"
   ]
  },
  {
   "cell_type": "code",
   "execution_count": 20,
   "metadata": {},
   "outputs": [
    {
     "name": "stdout",
     "output_type": "stream",
     "text": [
      "0 17.848073208110794 17.86385373737648 False\n",
      "1 80.85492497634677 82.2541189155916 False\n",
      "2 152.3003902732592 154.83187307616186 False\n",
      "3 15.227696958020344 15.316598928807766 False\n",
      "4 2035.9706433502422 2026.1365434669713 True\n",
      "5 2302.2017287659983 2296.402988124902 True\n",
      "2\n"
     ]
    }
   ],
   "source": [
    "cumloss_groupwise_ada = b_Anh.Anh.cumloss_groupwise_ada\n",
    "cumloss_base = b_ridgebase.expert.cumloss_groupwise\n",
    "count_ada_better = 0\n",
    "for g_ind in range(A_t_race.shape[1]):\n",
    "    base = cumloss_base[g_ind][-1]\n",
    "    ada = cumloss_groupwise_ada[g_ind][-1]\n",
    "    if base >= ada:\n",
    "        count_ada_better += 1\n",
    "    print(g_ind, base, ada , base >= ada)\n",
    "print(count_ada_better) "
   ]
  },
  {
   "cell_type": "code",
   "execution_count": 15,
   "metadata": {},
   "outputs": [
    {
     "name": "stderr",
     "output_type": "stream",
     "text": [
      "100%|██████████| 49531/49531 [01:58<00:00, 417.96it/s]\n",
      "100%|██████████| 49531/49531 [02:49<00:00, 292.56it/s]\n"
     ]
    }
   ],
   "source": [
    "## Occupation groups\n",
    "X_dat = df_adult_mm_oh.drop('income', axis=1)\n",
    "y_dat = df_adult_mm_oh['income']\n",
    "\n",
    "dirname = './models_adult/baseline/'\n",
    "filename = 'ridge_occp'\n",
    "\n",
    "expridge = OnlineLinearExpert(X_dat, y_dat, l2_pen = 1.0)\n",
    "b_ridgebase = build_baseline_alwayson(dirname, filename, A_t_occp, expridge)\n",
    "\n",
    "dirname = './models_adult/Anh/'\n",
    "filename = 'ridgemeta_occp'\n",
    "\n",
    "experts = [OnlineLinearExpert(X_dat, y_dat, l2_pen = 1.0) for _ in range(A_t_occp.shape[1])]\n",
    "b_Anh = build_Anh(dirname, filename, A_t_occp, experts)"
   ]
  },
  {
   "cell_type": "code",
   "execution_count": 16,
   "metadata": {},
   "outputs": [
    {
     "name": "stdout",
     "output_type": "stream",
     "text": [
      "0 128.32610428021982 101.12964194439633 True\n",
      "1 170.95383882019888 174.56373464697404 False\n",
      "2 0.5475481872229374 1.4525682574671135 False\n",
      "3 241.88609302376375 253.66854250279331 False\n",
      "4 449.93690025372 392.44166482193543 True\n",
      "5 69.03776452805015 63.098363116805324 True\n",
      "6 61.369998336587756 45.93891544924698 True\n",
      "7 80.40866258872735 78.40412185229627 True\n",
      "8 136.29326513032262 94.947785775834 True\n",
      "9 7.531286815521961 2.800883277425186 True\n",
      "10 459.1698447866027 388.82693358243665 True\n",
      "11 44.98667588881421 43.96996639225248 True\n",
      "12 298.69001809925817 295.70998891984755 True\n",
      "13 63.32653524964512 62.657690579638434 True\n",
      "14 89.73719277731873 90.37650089210793 False\n",
      "15 2302.2017287659983 2089.9873020114624 True\n"
     ]
    }
   ],
   "source": [
    "cumloss_groupwise_ada = b_Anh.Anh.cumloss_groupwise_ada\n",
    "cumloss_base = b_ridgebase.expert.cumloss_groupwise\n",
    "for g_ind in range(A_t_occp.shape[1]):\n",
    "    base = cumloss_base[g_ind][-1]\n",
    "    ada = cumloss_groupwise_ada[g_ind][-1]\n",
    "    print(g_ind, base, ada , base >= ada) # 12 out of 16"
   ]
  },
  {
   "cell_type": "code",
   "execution_count": null,
   "metadata": {},
   "outputs": [],
   "source": [
    "# occupation, race and sex groups\n",
    "X_dat = df_adult_mm_oh.drop('income', axis=1)\n",
    "y_dat = df_adult_mm_oh['income']\n",
    "\n",
    "dirname = './models_adult/baseline/'\n",
    "filename = 'ridge_occp_race_sex'\n",
    "\n",
    "expridge = OnlineLinearExpert(X_dat, y_dat, l2_pen = 1.0)\n",
    "b_ridgebase = build_baseline_alwayson(dirname, filename, A_t_occp_race_sex, expridge)\n",
    "\n",
    "dirname = './models_adult/Anh/'\n",
    "filename = 'ridge_occp_race_sex'\n",
    "\n",
    "experts = [OnlineLinearExpert(X_dat, y_dat, l2_pen = 1.0) for _ in range(A_t_occp_race_sex.shape[1])]\n",
    "b_Anh = build_Anh(dirname, filename, A_t_occp_race_sex, experts)\n"
   ]
  },
  {
   "cell_type": "code",
   "execution_count": 14,
   "metadata": {},
   "outputs": [
    {
     "name": "stdout",
     "output_type": "stream",
     "text": [
      "0 128.32610428021982 101.53476713405382 True\n",
      "1 170.95383882019888 174.68400292013612 False\n",
      "2 0.5475481872229374 1.4525998132839153 False\n",
      "3 241.88609302376375 253.99675440494113 False\n",
      "4 449.93690025372 392.94711032681016 True\n",
      "5 69.03776452805015 62.84718933903229 True\n",
      "6 61.369998336587756 46.07072050182842 True\n",
      "7 80.40866258872735 78.3864896980566 True\n",
      "8 136.29326513032262 95.17411617872297 True\n",
      "9 7.531286815521961 2.797637635618626 True\n",
      "10 459.1698447866027 389.6304676445252 True\n",
      "11 44.98667588881421 43.91099915368975 True\n",
      "12 298.69001809925817 295.7754336937206 True\n",
      "13 63.32653524964512 62.654779559728794 True\n",
      "14 89.73719277731873 90.3807875128698 False\n",
      "15 543.6830188878803 500.5054438999503 True\n",
      "16 1758.5187098780991 1591.7384116170667 True\n",
      "17 17.848073208110794 17.513228146753164 True\n",
      "18 80.85492497634677 77.1299588059824 True\n",
      "19 152.3003902732592 139.90145357401212 True\n",
      "20 15.227696958020344 14.19390539352929 True\n",
      "21 2035.9706433502422 1843.5053095967519 True\n",
      "22 2302.2017287659983 2092.2438555170233 True\n",
      "19\n"
     ]
    }
   ],
   "source": [
    "cumloss_groupwise_ada = b_Anh.Anh.cumloss_groupwise_ada\n",
    "cumloss_base = b_ridgebase.expert.cumloss_groupwise\n",
    "count_ada_better = 0\n",
    "for g_ind in range(A_t_occp_race_sex.shape[1]):\n",
    "    base = cumloss_base[g_ind][-1]\n",
    "    ada = cumloss_groupwise_ada[g_ind][-1]\n",
    "    if base >= ada:\n",
    "        count_ada_better += 1\n",
    "    print(g_ind, base, ada , base >= ada)\n",
    "print(count_ada_better) "
   ]
  },
  {
   "cell_type": "code",
   "execution_count": 6,
   "metadata": {},
   "outputs": [
    {
     "data": {
      "text/plain": [
       "array([49, 61, 73, 71, 12, 59,  5, 91, 67, 78])"
      ]
     },
     "execution_count": 6,
     "metadata": {},
     "output_type": "execute_result"
    }
   ],
   "source": [
    "rand_seeds = np.random.randint(low = 0, high = 100, size=10)\n",
    "rand_seeds"
   ]
  },
  {
   "cell_type": "code",
   "execution_count": null,
   "metadata": {},
   "outputs": [],
   "source": [
    "# shuffle according to above random seeds and record if Anh better than baseline\n",
    "occp_res_lis = []"
   ]
  },
  {
   "cell_type": "code",
   "execution_count": null,
   "metadata": {},
   "outputs": [],
   "source": [
    "for seed in rand_seeds:\n",
    "    \n"
   ]
  },
  {
   "cell_type": "code",
   "execution_count": null,
   "metadata": {},
   "outputs": [],
   "source": []
  },
  {
   "cell_type": "code",
   "execution_count": 7,
   "metadata": {},
   "outputs": [
    {
     "name": "stdout",
     "output_type": "stream",
     "text": [
      "[0.54117647 0.45882353]\n",
      "[('feature=value1', 0.5411764705882353), ('feature=value2', 0.4588235294117647)]\n"
     ]
    }
   ],
   "source": [
    "# Some Stack OF code on\n",
    "\n",
    "from sklearn.feature_extraction import DictVectorizer\n",
    "from sklearn.preprocessing import FunctionTransformer\n",
    "from sklearn.ensemble import RandomForestClassifier\n",
    "from sklearn.pipeline import make_pipeline\n",
    "\n",
    "\n",
    "# some example data\n",
    "X = pd.DataFrame({'feature': ['value1', 'value2', 'value2', 'value1', 'value2']})\n",
    "y = [1, 0, 0, 1, 1]\n",
    "\n",
    "# translate rows to dicts\n",
    "def row_to_dict(X, y=None):\n",
    "    return X.apply(dict, axis=1)\n",
    "\n",
    "# define prediction model\n",
    "ft = FunctionTransformer(row_to_dict, validate=False)\n",
    "dv = DictVectorizer()\n",
    "rf = RandomForestClassifier()\n",
    "\n",
    "# glue steps together\n",
    "model = make_pipeline(ft, dv, rf)\n",
    "\n",
    "# train\n",
    "model.fit(X, y)\n",
    "\n",
    "# get feature importances\n",
    "feature_importances = zip(dv.feature_names_, rf.feature_importances_)\n",
    "\n",
    "# have a look\n",
    "print(rf.feature_importances_)\n",
    "print(list(feature_importances))"
   ]
  },
  {
   "cell_type": "code",
   "execution_count": null,
   "metadata": {},
   "outputs": [],
   "source": []
  }
 ],
 "metadata": {
  "kernelspec": {
   "display_name": "Python 3.11.4 ('local_multigroup')",
   "language": "python",
   "name": "python3"
  },
  "language_info": {
   "codemirror_mode": {
    "name": "ipython",
    "version": 3
   },
   "file_extension": ".py",
   "mimetype": "text/x-python",
   "name": "python",
   "nbconvert_exporter": "python",
   "pygments_lexer": "ipython3",
   "version": "3.11.4"
  },
  "orig_nbformat": 4,
  "vscode": {
   "interpreter": {
    "hash": "422a1ee675848ad7ee73ac736eae01a8698556098f797c947729d7d9d67832dc"
   }
  }
 },
 "nbformat": 4,
 "nbformat_minor": 2
}
