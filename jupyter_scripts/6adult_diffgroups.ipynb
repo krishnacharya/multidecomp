{
 "cells": [
  {
   "cell_type": "code",
   "execution_count": 3,
   "metadata": {},
   "outputs": [
    {
     "name": "stdout",
     "output_type": "stream",
     "text": [
      "/Users/krishna/Documents/Research/Simultaneous Classifier/folktables-experiments/multidecomp\n"
     ]
    }
   ],
   "source": [
    "import os\n",
    "os.chdir('..')\n",
    "!pwd\n",
    "import bilevel\n",
    "from bilevel.build_all_models import *\n",
    "from bilevel.OnlineLinearExpert import *\n",
    "from bilevel.OnlineTreeExpert import *\n",
    "import pandas as pd\n",
    "import numpy as np\n",
    "import matplotlib.pyplot as plt"
   ]
  },
  {
   "cell_type": "markdown",
   "metadata": {},
   "source": [
    "Try with occp, education num, education; \n",
    "\n",
    "sex, race"
   ]
  },
  {
   "cell_type": "markdown",
   "metadata": {},
   "source": [
    "## checking with occupation groups"
   ]
  },
  {
   "cell_type": "code",
   "execution_count": 2,
   "metadata": {},
   "outputs": [],
   "source": [
    "df_adult = pd.read_csv('./data_small/adult_reconstruction.csv')"
   ]
  },
  {
   "cell_type": "code",
   "execution_count": 3,
   "metadata": {},
   "outputs": [],
   "source": [
    "numeric_all = ['hours-per-week', 'age', 'capital-gain', 'capital-loss', 'education-num', 'income']\n",
    "cat_feat = ['workclass', 'education', 'marital-status', 'relationship', 'race', 'sex', 'native-country', 'occupation']"
   ]
  },
  {
   "cell_type": "code",
   "execution_count": 4,
   "metadata": {},
   "outputs": [
    {
     "data": {
      "text/html": [
       "<div>\n",
       "<style scoped>\n",
       "    .dataframe tbody tr th:only-of-type {\n",
       "        vertical-align: middle;\n",
       "    }\n",
       "\n",
       "    .dataframe tbody tr th {\n",
       "        vertical-align: top;\n",
       "    }\n",
       "\n",
       "    .dataframe thead th {\n",
       "        text-align: right;\n",
       "    }\n",
       "</style>\n",
       "<table border=\"1\" class=\"dataframe\">\n",
       "  <thead>\n",
       "    <tr style=\"text-align: right;\">\n",
       "      <th></th>\n",
       "      <th>hours-per-week</th>\n",
       "      <th>age</th>\n",
       "      <th>capital-gain</th>\n",
       "      <th>capital-loss</th>\n",
       "      <th>education-num</th>\n",
       "      <th>income</th>\n",
       "      <th>workclass_?</th>\n",
       "      <th>workclass_Federal-gov</th>\n",
       "      <th>workclass_Local-gov</th>\n",
       "      <th>workclass_Never-worked</th>\n",
       "      <th>...</th>\n",
       "      <th>occupation_Farming-fishing</th>\n",
       "      <th>occupation_Handlers-cleaners</th>\n",
       "      <th>occupation_Machine-op-inspct</th>\n",
       "      <th>occupation_Other-service</th>\n",
       "      <th>occupation_Priv-house-serv</th>\n",
       "      <th>occupation_Prof-specialty</th>\n",
       "      <th>occupation_Protective-serv</th>\n",
       "      <th>occupation_Sales</th>\n",
       "      <th>occupation_Tech-support</th>\n",
       "      <th>occupation_Transport-moving</th>\n",
       "    </tr>\n",
       "  </thead>\n",
       "  <tbody>\n",
       "    <tr>\n",
       "      <th>0</th>\n",
       "      <td>0.193878</td>\n",
       "      <td>0.315068</td>\n",
       "      <td>0.0</td>\n",
       "      <td>0.0</td>\n",
       "      <td>0.800000</td>\n",
       "      <td>0.490460</td>\n",
       "      <td>0.0</td>\n",
       "      <td>0.0</td>\n",
       "      <td>0.0</td>\n",
       "      <td>0.0</td>\n",
       "      <td>...</td>\n",
       "      <td>0.0</td>\n",
       "      <td>0.0</td>\n",
       "      <td>0.0</td>\n",
       "      <td>0.0</td>\n",
       "      <td>0.0</td>\n",
       "      <td>0.0</td>\n",
       "      <td>0.0</td>\n",
       "      <td>0.0</td>\n",
       "      <td>1.0</td>\n",
       "      <td>0.0</td>\n",
       "    </tr>\n",
       "    <tr>\n",
       "      <th>1</th>\n",
       "      <td>0.397959</td>\n",
       "      <td>0.054795</td>\n",
       "      <td>0.0</td>\n",
       "      <td>0.0</td>\n",
       "      <td>0.600000</td>\n",
       "      <td>0.114053</td>\n",
       "      <td>0.0</td>\n",
       "      <td>0.0</td>\n",
       "      <td>0.0</td>\n",
       "      <td>0.0</td>\n",
       "      <td>...</td>\n",
       "      <td>0.0</td>\n",
       "      <td>0.0</td>\n",
       "      <td>0.0</td>\n",
       "      <td>0.0</td>\n",
       "      <td>0.0</td>\n",
       "      <td>0.0</td>\n",
       "      <td>0.0</td>\n",
       "      <td>0.0</td>\n",
       "      <td>0.0</td>\n",
       "      <td>0.0</td>\n",
       "    </tr>\n",
       "    <tr>\n",
       "      <th>2</th>\n",
       "      <td>0.091837</td>\n",
       "      <td>0.000000</td>\n",
       "      <td>0.0</td>\n",
       "      <td>0.0</td>\n",
       "      <td>0.400000</td>\n",
       "      <td>0.024957</td>\n",
       "      <td>0.0</td>\n",
       "      <td>0.0</td>\n",
       "      <td>0.0</td>\n",
       "      <td>0.0</td>\n",
       "      <td>...</td>\n",
       "      <td>0.0</td>\n",
       "      <td>0.0</td>\n",
       "      <td>0.0</td>\n",
       "      <td>1.0</td>\n",
       "      <td>0.0</td>\n",
       "      <td>0.0</td>\n",
       "      <td>0.0</td>\n",
       "      <td>0.0</td>\n",
       "      <td>0.0</td>\n",
       "      <td>0.0</td>\n",
       "    </tr>\n",
       "    <tr>\n",
       "      <th>3</th>\n",
       "      <td>0.500000</td>\n",
       "      <td>0.465753</td>\n",
       "      <td>0.0</td>\n",
       "      <td>0.0</td>\n",
       "      <td>0.533333</td>\n",
       "      <td>0.389320</td>\n",
       "      <td>0.0</td>\n",
       "      <td>0.0</td>\n",
       "      <td>0.0</td>\n",
       "      <td>0.0</td>\n",
       "      <td>...</td>\n",
       "      <td>0.0</td>\n",
       "      <td>0.0</td>\n",
       "      <td>0.0</td>\n",
       "      <td>0.0</td>\n",
       "      <td>0.0</td>\n",
       "      <td>0.0</td>\n",
       "      <td>0.0</td>\n",
       "      <td>1.0</td>\n",
       "      <td>0.0</td>\n",
       "      <td>0.0</td>\n",
       "    </tr>\n",
       "    <tr>\n",
       "      <th>4</th>\n",
       "      <td>0.377551</td>\n",
       "      <td>0.150685</td>\n",
       "      <td>0.0</td>\n",
       "      <td>0.0</td>\n",
       "      <td>0.800000</td>\n",
       "      <td>0.413376</td>\n",
       "      <td>0.0</td>\n",
       "      <td>0.0</td>\n",
       "      <td>0.0</td>\n",
       "      <td>0.0</td>\n",
       "      <td>...</td>\n",
       "      <td>0.0</td>\n",
       "      <td>0.0</td>\n",
       "      <td>0.0</td>\n",
       "      <td>0.0</td>\n",
       "      <td>0.0</td>\n",
       "      <td>0.0</td>\n",
       "      <td>0.0</td>\n",
       "      <td>0.0</td>\n",
       "      <td>0.0</td>\n",
       "      <td>0.0</td>\n",
       "    </tr>\n",
       "  </tbody>\n",
       "</table>\n",
       "<p>5 rows × 108 columns</p>\n",
       "</div>"
      ],
      "text/plain": [
       "   hours-per-week       age  capital-gain  capital-loss  education-num  \\\n",
       "0        0.193878  0.315068           0.0           0.0       0.800000   \n",
       "1        0.397959  0.054795           0.0           0.0       0.600000   \n",
       "2        0.091837  0.000000           0.0           0.0       0.400000   \n",
       "3        0.500000  0.465753           0.0           0.0       0.533333   \n",
       "4        0.377551  0.150685           0.0           0.0       0.800000   \n",
       "\n",
       "     income  workclass_?  workclass_Federal-gov  workclass_Local-gov  \\\n",
       "0  0.490460          0.0                    0.0                  0.0   \n",
       "1  0.114053          0.0                    0.0                  0.0   \n",
       "2  0.024957          0.0                    0.0                  0.0   \n",
       "3  0.389320          0.0                    0.0                  0.0   \n",
       "4  0.413376          0.0                    0.0                  0.0   \n",
       "\n",
       "   workclass_Never-worked  ...  occupation_Farming-fishing  \\\n",
       "0                     0.0  ...                         0.0   \n",
       "1                     0.0  ...                         0.0   \n",
       "2                     0.0  ...                         0.0   \n",
       "3                     0.0  ...                         0.0   \n",
       "4                     0.0  ...                         0.0   \n",
       "\n",
       "   occupation_Handlers-cleaners  occupation_Machine-op-inspct  \\\n",
       "0                           0.0                           0.0   \n",
       "1                           0.0                           0.0   \n",
       "2                           0.0                           0.0   \n",
       "3                           0.0                           0.0   \n",
       "4                           0.0                           0.0   \n",
       "\n",
       "   occupation_Other-service  occupation_Priv-house-serv  \\\n",
       "0                       0.0                         0.0   \n",
       "1                       0.0                         0.0   \n",
       "2                       1.0                         0.0   \n",
       "3                       0.0                         0.0   \n",
       "4                       0.0                         0.0   \n",
       "\n",
       "   occupation_Prof-specialty  occupation_Protective-serv  occupation_Sales  \\\n",
       "0                        0.0                         0.0               0.0   \n",
       "1                        0.0                         0.0               0.0   \n",
       "2                        0.0                         0.0               0.0   \n",
       "3                        0.0                         0.0               1.0   \n",
       "4                        0.0                         0.0               0.0   \n",
       "\n",
       "   occupation_Tech-support  occupation_Transport-moving  \n",
       "0                      1.0                          0.0  \n",
       "1                      0.0                          0.0  \n",
       "2                      0.0                          0.0  \n",
       "3                      0.0                          0.0  \n",
       "4                      0.0                          0.0  \n",
       "\n",
       "[5 rows x 108 columns]"
      ]
     },
     "execution_count": 4,
     "metadata": {},
     "output_type": "execute_result"
    }
   ],
   "source": [
    "df_adult_mm = numeric_scaler(df_adult, numeric_all)\n",
    "df_adult_mm_oh = one_hot(df_adult_mm, cat_feat)\n",
    "df_adult_mm_oh.drop(cat_feat, axis = 1, inplace=True) # drop the categorics that were used to one hot encode\n",
    "df_adult_mm_oh = df_adult_mm_oh * 1.0 # make bool true, false into 1.0, 0.0\n",
    "df_adult_mm_oh.head()"
   ]
  },
  {
   "cell_type": "code",
   "execution_count": 5,
   "metadata": {},
   "outputs": [
    {
     "name": "stdout",
     "output_type": "stream",
     "text": [
      "['occupation_?', 'occupation_Adm-clerical', 'occupation_Armed-Forces', 'occupation_Craft-repair', 'occupation_Exec-managerial', 'occupation_Farming-fishing', 'occupation_Handlers-cleaners', 'occupation_Machine-op-inspct', 'occupation_Other-service', 'occupation_Priv-house-serv', 'occupation_Prof-specialty', 'occupation_Protective-serv', 'occupation_Sales', 'occupation_Tech-support', 'occupation_Transport-moving'] 15\n"
     ]
    }
   ],
   "source": [
    "occ_groups_oh = []\n",
    "for col in df_adult_mm_oh.columns:\n",
    "    if 'occu' in col:\n",
    "        occ_groups_oh.append(col)\n",
    "print(occ_groups_oh, len(occ_groups_oh))"
   ]
  },
  {
   "cell_type": "code",
   "execution_count": 10,
   "metadata": {},
   "outputs": [
    {
     "data": {
      "text/plain": [
       "array([12, 39, 96, 84, 43,  1, 78, 58, 55, 98])"
      ]
     },
     "execution_count": 10,
     "metadata": {},
     "output_type": "execute_result"
    }
   ],
   "source": [
    "rand_seeds = np.random.randint(low = 0, high = 100, size=10)\n",
    "rand_seeds"
   ]
  },
  {
   "cell_type": "code",
   "execution_count": null,
   "metadata": {},
   "outputs": [],
   "source": [
    "# shuffle according to above random seeds and record if Anh better than baseline\n",
    "\n",
    "\n",
    "occp_res_lis = []"
   ]
  },
  {
   "cell_type": "code",
   "execution_count": null,
   "metadata": {},
   "outputs": [],
   "source": [
    "for seed in rand_seeds:\n",
    "    \n"
   ]
  },
  {
   "cell_type": "code",
   "execution_count": null,
   "metadata": {},
   "outputs": [],
   "source": []
  },
  {
   "cell_type": "code",
   "execution_count": 7,
   "metadata": {},
   "outputs": [
    {
     "name": "stdout",
     "output_type": "stream",
     "text": [
      "[0.54117647 0.45882353]\n",
      "[('feature=value1', 0.5411764705882353), ('feature=value2', 0.4588235294117647)]\n"
     ]
    }
   ],
   "source": [
    "# Some Stack OF code on\n",
    "\n",
    "from sklearn.feature_extraction import DictVectorizer\n",
    "from sklearn.preprocessing import FunctionTransformer\n",
    "from sklearn.ensemble import RandomForestClassifier\n",
    "from sklearn.pipeline import make_pipeline\n",
    "\n",
    "\n",
    "# some example data\n",
    "X = pd.DataFrame({'feature': ['value1', 'value2', 'value2', 'value1', 'value2']})\n",
    "y = [1, 0, 0, 1, 1]\n",
    "\n",
    "# translate rows to dicts\n",
    "def row_to_dict(X, y=None):\n",
    "    return X.apply(dict, axis=1)\n",
    "\n",
    "# define prediction model\n",
    "ft = FunctionTransformer(row_to_dict, validate=False)\n",
    "dv = DictVectorizer()\n",
    "rf = RandomForestClassifier()\n",
    "\n",
    "# glue steps together\n",
    "model = make_pipeline(ft, dv, rf)\n",
    "\n",
    "# train\n",
    "model.fit(X, y)\n",
    "\n",
    "# get feature importances\n",
    "feature_importances = zip(dv.feature_names_, rf.feature_importances_)\n",
    "\n",
    "# have a look\n",
    "print(rf.feature_importances_)\n",
    "print(list(feature_importances))"
   ]
  },
  {
   "cell_type": "code",
   "execution_count": null,
   "metadata": {},
   "outputs": [],
   "source": []
  }
 ],
 "metadata": {
  "kernelspec": {
   "display_name": "Python 3.11.4 ('local_multigroup')",
   "language": "python",
   "name": "python3"
  },
  "language_info": {
   "codemirror_mode": {
    "name": "ipython",
    "version": 3
   },
   "file_extension": ".py",
   "mimetype": "text/x-python",
   "name": "python",
   "nbconvert_exporter": "python",
   "pygments_lexer": "ipython3",
   "version": "3.11.4"
  },
  "orig_nbformat": 4,
  "vscode": {
   "interpreter": {
    "hash": "422a1ee675848ad7ee73ac736eae01a8698556098f797c947729d7d9d67832dc"
   }
  }
 },
 "nbformat": 4,
 "nbformat_minor": 2
}
