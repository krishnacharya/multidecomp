{
 "cells": [
  {
   "cell_type": "code",
   "execution_count": 1,
   "metadata": {},
   "outputs": [],
   "source": [
    "from folktables import ACSDataSource\n",
    "import pandas as pd\n",
    "import numpy as np\n",
    "from collections import defaultdict\n",
    "from sklearn.metrics import r2_score, mean_squared_error\n",
    "from tqdm import tqdm\n",
    "from sklearn.linear_model import LinearRegression, Ridge, Lasso\n",
    "from utils import *\n",
    "import folktables\n",
    "import numpy as np\n",
    "import pickle\n",
    "from bestLS_hindsight import *\n",
    "from OnlineRidgeRiver import *\n",
    "from lean_adahedge import *\n",
    "import matplotlib.pyplot as plt\n",
    "from bestLS_hindsight_together import *\n",
    "from oridge_alwaysactive_implementable import *\n",
    "from folktables.load_acs import state_list\n",
    "from sklearn.model_selection import train_test_split"
   ]
  },
  {
   "cell_type": "code",
   "execution_count": 2,
   "metadata": {},
   "outputs": [],
   "source": [
    "# TODO multigroup yaml environment export for reproducibility!"
   ]
  },
  {
   "cell_type": "code",
   "execution_count": 2,
   "metadata": {},
   "outputs": [],
   "source": [
    "import warnings\n",
    "warnings.simplefilter(action='ignore', category=FutureWarning)"
   ]
  },
  {
   "cell_type": "markdown",
   "metadata": {},
   "source": [
    "## ACS Schema"
   ]
  },
  {
   "cell_type": "code",
   "execution_count": 3,
   "metadata": {},
   "outputs": [
    {
     "name": "stdout",
     "output_type": "stream",
     "text": [
      "Selected states:  ['AL', 'AK', 'AZ', 'AR', 'CA', 'CO', 'CT', 'DE', 'FL', 'GA', 'HI', 'ID', 'IL', 'IN', 'IA', 'KS', 'KY', 'LA', 'ME', 'MD', 'MA', 'MI', 'MN', 'MS', 'MO', 'MT', 'NE', 'NV', 'NH', 'NJ', 'NM', 'NY', 'NC', 'ND', 'OH', 'OK', 'OR', 'PA', 'RI', 'SC', 'SD', 'TN', 'TX', 'UT', 'VT', 'VA', 'WA', 'WV', 'WI', 'WY', 'PR']\n"
     ]
    }
   ],
   "source": [
    "ACSIncome = folktables.BasicProblem(\n",
    "    features = ['OCCP', 'WKHP', 'AGEP', 'SCHL', 'ST', 'JWTRNS', 'DRAT', 'COW', 'SEX',\n",
    "       'RELSHIPP', 'POBP', 'ENG', 'MAR', 'RAC1P'],\n",
    "    target='PINCP',\n",
    "    # target_transform=lambda x: x > 50000,    \n",
    "    preprocess=folktables.adult_filter,\n",
    "    postprocess=lambda x: np.nan_to_num(x, -1),\n",
    ")\n",
    "\n",
    "cat_cols_sig = ['OCCP', 'SCHL', 'ST', 'JWTRNS', 'DRAT', 'COW', 'SEX', \n",
    "       'RELSHIPP', 'POBP', 'ENG', 'MAR', 'RAC1P'] # significant features from the earlier analysis\n",
    "\n",
    "print('Selected states: ', state_list)\n",
    "data_source = ACSDataSource(survey_year='2021', horizon='1-Year', survey='person')\n",
    "acs_data = data_source.get_data(state_list, download=True)\n",
    "\n",
    "X, y, gr = ACSIncome.df_to_pandas(acs_data)\n",
    "dataset = pd.concat([X, y], axis=1)\n",
    "\n",
    "for catg in cat_cols_sig:\n",
    "    dataset[catg] = dataset[catg].astype(int)"
   ]
  },
  {
   "cell_type": "code",
   "execution_count": 4,
   "metadata": {},
   "outputs": [
    {
     "name": "stdout",
     "output_type": "stream",
     "text": [
      "0.9625934030071766\n"
     ]
    }
   ],
   "source": [
    "data_incomeless200k = dataset[dataset['PINCP'] <= 2e5]\n",
    "data_fil = data_incomeless200k\n",
    "# top_200OCCP = dataset['OCCP'].value_counts()[:250].index.tolist() # top 200 occupation codes in the original dataframe\n",
    "# data_fil = data_incomeless200k[data_incomeless200k['OCCP'].isin(top_200OCCP)]\n",
    "print(len(data_fil) / len(dataset)) #top200 occp codes and <= 200k is 83 % of original dataset"
   ]
  },
  {
   "cell_type": "code",
   "execution_count": 5,
   "metadata": {},
   "outputs": [
    {
     "name": "stdout",
     "output_type": "stream",
     "text": [
      "(1569188, 15)\n"
     ]
    },
    {
     "data": {
      "text/html": [
       "<div>\n",
       "<style scoped>\n",
       "    .dataframe tbody tr th:only-of-type {\n",
       "        vertical-align: middle;\n",
       "    }\n",
       "\n",
       "    .dataframe tbody tr th {\n",
       "        vertical-align: top;\n",
       "    }\n",
       "\n",
       "    .dataframe thead th {\n",
       "        text-align: right;\n",
       "    }\n",
       "</style>\n",
       "<table border=\"1\" class=\"dataframe\">\n",
       "  <thead>\n",
       "    <tr style=\"text-align: right;\">\n",
       "      <th></th>\n",
       "      <th>OCCP</th>\n",
       "      <th>WKHP</th>\n",
       "      <th>AGEP</th>\n",
       "      <th>SCHL</th>\n",
       "      <th>ST</th>\n",
       "      <th>JWTRNS</th>\n",
       "      <th>DRAT</th>\n",
       "      <th>COW</th>\n",
       "      <th>SEX</th>\n",
       "      <th>RELSHIPP</th>\n",
       "      <th>POBP</th>\n",
       "      <th>ENG</th>\n",
       "      <th>MAR</th>\n",
       "      <th>RAC1P</th>\n",
       "      <th>PINCP</th>\n",
       "    </tr>\n",
       "  </thead>\n",
       "  <tbody>\n",
       "    <tr>\n",
       "      <th>0</th>\n",
       "      <td>4760</td>\n",
       "      <td>30.0</td>\n",
       "      <td>19.0</td>\n",
       "      <td>18</td>\n",
       "      <td>1</td>\n",
       "      <td>0</td>\n",
       "      <td>0</td>\n",
       "      <td>2</td>\n",
       "      <td>2</td>\n",
       "      <td>38</td>\n",
       "      <td>53</td>\n",
       "      <td>0</td>\n",
       "      <td>5</td>\n",
       "      <td>1</td>\n",
       "      <td>8000.0</td>\n",
       "    </tr>\n",
       "    <tr>\n",
       "      <th>1</th>\n",
       "      <td>4640</td>\n",
       "      <td>40.0</td>\n",
       "      <td>20.0</td>\n",
       "      <td>19</td>\n",
       "      <td>1</td>\n",
       "      <td>1</td>\n",
       "      <td>0</td>\n",
       "      <td>1</td>\n",
       "      <td>1</td>\n",
       "      <td>38</td>\n",
       "      <td>13</td>\n",
       "      <td>0</td>\n",
       "      <td>5</td>\n",
       "      <td>2</td>\n",
       "      <td>6300.0</td>\n",
       "    </tr>\n",
       "    <tr>\n",
       "      <th>2</th>\n",
       "      <td>5240</td>\n",
       "      <td>18.0</td>\n",
       "      <td>19.0</td>\n",
       "      <td>18</td>\n",
       "      <td>1</td>\n",
       "      <td>0</td>\n",
       "      <td>0</td>\n",
       "      <td>2</td>\n",
       "      <td>2</td>\n",
       "      <td>38</td>\n",
       "      <td>22</td>\n",
       "      <td>0</td>\n",
       "      <td>5</td>\n",
       "      <td>1</td>\n",
       "      <td>6200.0</td>\n",
       "    </tr>\n",
       "    <tr>\n",
       "      <th>3</th>\n",
       "      <td>4220</td>\n",
       "      <td>6.0</td>\n",
       "      <td>34.0</td>\n",
       "      <td>19</td>\n",
       "      <td>1</td>\n",
       "      <td>12</td>\n",
       "      <td>0</td>\n",
       "      <td>2</td>\n",
       "      <td>2</td>\n",
       "      <td>38</td>\n",
       "      <td>18</td>\n",
       "      <td>0</td>\n",
       "      <td>3</td>\n",
       "      <td>1</td>\n",
       "      <td>10800.0</td>\n",
       "    </tr>\n",
       "    <tr>\n",
       "      <th>4</th>\n",
       "      <td>2722</td>\n",
       "      <td>10.0</td>\n",
       "      <td>19.0</td>\n",
       "      <td>18</td>\n",
       "      <td>1</td>\n",
       "      <td>0</td>\n",
       "      <td>0</td>\n",
       "      <td>1</td>\n",
       "      <td>1</td>\n",
       "      <td>38</td>\n",
       "      <td>36</td>\n",
       "      <td>0</td>\n",
       "      <td>5</td>\n",
       "      <td>1</td>\n",
       "      <td>2000.0</td>\n",
       "    </tr>\n",
       "  </tbody>\n",
       "</table>\n",
       "</div>"
      ],
      "text/plain": [
       "   OCCP  WKHP  AGEP  SCHL  ST  JWTRNS  DRAT  COW  SEX  RELSHIPP  POBP  ENG  \\\n",
       "0  4760  30.0  19.0    18   1       0     0    2    2        38    53    0   \n",
       "1  4640  40.0  20.0    19   1       1     0    1    1        38    13    0   \n",
       "2  5240  18.0  19.0    18   1       0     0    2    2        38    22    0   \n",
       "3  4220   6.0  34.0    19   1      12     0    2    2        38    18    0   \n",
       "4  2722  10.0  19.0    18   1       0     0    1    1        38    36    0   \n",
       "\n",
       "   MAR  RAC1P    PINCP  \n",
       "0    5      1   8000.0  \n",
       "1    5      2   6300.0  \n",
       "2    5      1   6200.0  \n",
       "3    3      1  10800.0  \n",
       "4    5      1   2000.0  "
      ]
     },
     "execution_count": 5,
     "metadata": {},
     "output_type": "execute_result"
    }
   ],
   "source": [
    "print(data_fil.shape)\n",
    "data_fil.head()"
   ]
  },
  {
   "cell_type": "code",
   "execution_count": 6,
   "metadata": {},
   "outputs": [],
   "source": [
    "numeric_cols = ['WKHP', 'AGEP' ,'PINCP']\n",
    "data_fil = numeric_scaler(data_fil, numeric_cols)"
   ]
  },
  {
   "cell_type": "code",
   "execution_count": 7,
   "metadata": {},
   "outputs": [
    {
     "data": {
      "text/html": [
       "<div>\n",
       "<style scoped>\n",
       "    .dataframe tbody tr th:only-of-type {\n",
       "        vertical-align: middle;\n",
       "    }\n",
       "\n",
       "    .dataframe tbody tr th {\n",
       "        vertical-align: top;\n",
       "    }\n",
       "\n",
       "    .dataframe thead th {\n",
       "        text-align: right;\n",
       "    }\n",
       "</style>\n",
       "<table border=\"1\" class=\"dataframe\">\n",
       "  <thead>\n",
       "    <tr style=\"text-align: right;\">\n",
       "      <th></th>\n",
       "      <th>OCCP</th>\n",
       "      <th>WKHP</th>\n",
       "      <th>AGEP</th>\n",
       "      <th>SCHL</th>\n",
       "      <th>ST</th>\n",
       "      <th>JWTRNS</th>\n",
       "      <th>DRAT</th>\n",
       "      <th>COW</th>\n",
       "      <th>SEX</th>\n",
       "      <th>RELSHIPP</th>\n",
       "      <th>POBP</th>\n",
       "      <th>ENG</th>\n",
       "      <th>MAR</th>\n",
       "      <th>RAC1P</th>\n",
       "      <th>PINCP</th>\n",
       "    </tr>\n",
       "  </thead>\n",
       "  <tbody>\n",
       "    <tr>\n",
       "      <th>0</th>\n",
       "      <td>4760</td>\n",
       "      <td>0.295918</td>\n",
       "      <td>0.025316</td>\n",
       "      <td>18</td>\n",
       "      <td>1</td>\n",
       "      <td>0</td>\n",
       "      <td>0</td>\n",
       "      <td>2</td>\n",
       "      <td>2</td>\n",
       "      <td>38</td>\n",
       "      <td>53</td>\n",
       "      <td>0</td>\n",
       "      <td>5</td>\n",
       "      <td>1</td>\n",
       "      <td>0.039472</td>\n",
       "    </tr>\n",
       "    <tr>\n",
       "      <th>1</th>\n",
       "      <td>4640</td>\n",
       "      <td>0.397959</td>\n",
       "      <td>0.037975</td>\n",
       "      <td>19</td>\n",
       "      <td>1</td>\n",
       "      <td>1</td>\n",
       "      <td>0</td>\n",
       "      <td>1</td>\n",
       "      <td>1</td>\n",
       "      <td>38</td>\n",
       "      <td>13</td>\n",
       "      <td>0</td>\n",
       "      <td>5</td>\n",
       "      <td>2</td>\n",
       "      <td>0.030967</td>\n",
       "    </tr>\n",
       "    <tr>\n",
       "      <th>2</th>\n",
       "      <td>5240</td>\n",
       "      <td>0.173469</td>\n",
       "      <td>0.025316</td>\n",
       "      <td>18</td>\n",
       "      <td>1</td>\n",
       "      <td>0</td>\n",
       "      <td>0</td>\n",
       "      <td>2</td>\n",
       "      <td>2</td>\n",
       "      <td>38</td>\n",
       "      <td>22</td>\n",
       "      <td>0</td>\n",
       "      <td>5</td>\n",
       "      <td>1</td>\n",
       "      <td>0.030467</td>\n",
       "    </tr>\n",
       "    <tr>\n",
       "      <th>3</th>\n",
       "      <td>4220</td>\n",
       "      <td>0.051020</td>\n",
       "      <td>0.215190</td>\n",
       "      <td>19</td>\n",
       "      <td>1</td>\n",
       "      <td>12</td>\n",
       "      <td>0</td>\n",
       "      <td>2</td>\n",
       "      <td>2</td>\n",
       "      <td>38</td>\n",
       "      <td>18</td>\n",
       "      <td>0</td>\n",
       "      <td>3</td>\n",
       "      <td>1</td>\n",
       "      <td>0.053479</td>\n",
       "    </tr>\n",
       "    <tr>\n",
       "      <th>4</th>\n",
       "      <td>2722</td>\n",
       "      <td>0.091837</td>\n",
       "      <td>0.025316</td>\n",
       "      <td>18</td>\n",
       "      <td>1</td>\n",
       "      <td>0</td>\n",
       "      <td>0</td>\n",
       "      <td>1</td>\n",
       "      <td>1</td>\n",
       "      <td>38</td>\n",
       "      <td>36</td>\n",
       "      <td>0</td>\n",
       "      <td>5</td>\n",
       "      <td>1</td>\n",
       "      <td>0.009455</td>\n",
       "    </tr>\n",
       "  </tbody>\n",
       "</table>\n",
       "</div>"
      ],
      "text/plain": [
       "   OCCP      WKHP      AGEP  SCHL  ST  JWTRNS  DRAT  COW  SEX  RELSHIPP  POBP  \\\n",
       "0  4760  0.295918  0.025316    18   1       0     0    2    2        38    53   \n",
       "1  4640  0.397959  0.037975    19   1       1     0    1    1        38    13   \n",
       "2  5240  0.173469  0.025316    18   1       0     0    2    2        38    22   \n",
       "3  4220  0.051020  0.215190    19   1      12     0    2    2        38    18   \n",
       "4  2722  0.091837  0.025316    18   1       0     0    1    1        38    36   \n",
       "\n",
       "   ENG  MAR  RAC1P     PINCP  \n",
       "0    0    5      1  0.039472  \n",
       "1    0    5      2  0.030967  \n",
       "2    0    5      1  0.030467  \n",
       "3    0    3      1  0.053479  \n",
       "4    0    5      1  0.009455  "
      ]
     },
     "execution_count": 7,
     "metadata": {},
     "output_type": "execute_result"
    }
   ],
   "source": [
    "data_fil.head()"
   ]
  },
  {
   "cell_type": "code",
   "execution_count": 8,
   "metadata": {},
   "outputs": [],
   "source": [
    "# collect the whole X_dat, y_dat values, we'll split this soon into test and train\n",
    "X_dat = data_fil.drop('PINCP', axis=1) #dropping the income column\n",
    "y_dat = pd.DataFrame(data_fil['PINCP']) # picking up only the income column for the target"
   ]
  },
  {
   "cell_type": "markdown",
   "metadata": {},
   "source": [
    "## Fit target encoder on training data, i.e. learn mapping from categoricals of high cardinality to a single dim"
   ]
  },
  {
   "cell_type": "code",
   "execution_count": 9,
   "metadata": {},
   "outputs": [],
   "source": [
    "# first lets split the data into train and test with a seed\n",
    "rand_seed = 21\n",
    "X_train, X_test, y_train, y_test = train_test_split(X_dat, y_dat, test_size=0.2, random_state=rand_seed, shuffle = True)"
   ]
  },
  {
   "cell_type": "code",
   "execution_count": 10,
   "metadata": {},
   "outputs": [
    {
     "name": "stdout",
     "output_type": "stream",
     "text": [
      "(1569188, 14) (1569188, 1)\n",
      "(1255350, 14) (1255350, 1)\n",
      "(313838, 14) (313838, 1)\n"
     ]
    }
   ],
   "source": [
    "print(X_dat.shape, y_dat.shape)\n",
    "print(X_train.shape, y_train.shape)\n",
    "print(X_test.shape, y_test.shape)"
   ]
  },
  {
   "cell_type": "code",
   "execution_count": 11,
   "metadata": {},
   "outputs": [
    {
     "name": "stdout",
     "output_type": "stream",
     "text": [
      "         OCCP      WKHP      AGEP  SCHL  ST  JWTRNS  DRAT  COW  SEX  RELSHIPP  \\\n",
      "1282566   565  0.071429  0.468354    20  45      11     0    1    2        25   \n",
      "979236   4230  0.397959  0.278481     4  36       1     0    1    2        21   \n",
      "1495594  4110  0.397959  0.316456    19  51       0     0    1    2        21   \n",
      "1380416  4220  0.397959  0.468354    19  48       1     0    1    1        25   \n",
      "921721   5220  0.397959  0.506329    16  34       1     0    3    2        21   \n",
      "\n",
      "         POBP  ENG  MAR  RAC1P  \n",
      "1282566    36    1    5      2  \n",
      "979236     78    0    1      1  \n",
      "1495594    51    0    1      1  \n",
      "1380416    48    0    3      1  \n",
      "921721     34    0    1      1  \n",
      "            PINCP\n",
      "1282566  0.059483\n",
      "979236   0.139527\n",
      "1495594  0.155536\n",
      "1380416  0.029466\n",
      "921721   0.159538\n"
     ]
    }
   ],
   "source": [
    "print(X_train.head())\n",
    "print(y_train.head())"
   ]
  },
  {
   "cell_type": "code",
   "execution_count": 12,
   "metadata": {},
   "outputs": [
    {
     "name": "stdout",
     "output_type": "stream",
     "text": [
      "12\n"
     ]
    }
   ],
   "source": [
    "from sklearn.preprocessing import TargetEncoder\n",
    "\n",
    "print(len(cat_cols_sig)) # categorical columns to be encoded using PINCP\n",
    "\n",
    "tarenc = TargetEncoder(smooth=\"auto\", target_type=\"continuous\")\n",
    "# fit and transform on X_train using y_train PINCP\n",
    "X_train_tarencoded = X_train.copy()\n",
    "X_train_tarencoded[cat_cols_sig] = tarenc.fit_transform(X_train_tarencoded[cat_cols_sig], y_train['PINCP']) # learnt the encoding now it can be used later for test"
   ]
  },
  {
   "cell_type": "code",
   "execution_count": 14,
   "metadata": {},
   "outputs": [
    {
     "data": {
      "text/html": [
       "<style>#sk-container-id-1 {color: black;}#sk-container-id-1 pre{padding: 0;}#sk-container-id-1 div.sk-toggleable {background-color: white;}#sk-container-id-1 label.sk-toggleable__label {cursor: pointer;display: block;width: 100%;margin-bottom: 0;padding: 0.3em;box-sizing: border-box;text-align: center;}#sk-container-id-1 label.sk-toggleable__label-arrow:before {content: \"▸\";float: left;margin-right: 0.25em;color: #696969;}#sk-container-id-1 label.sk-toggleable__label-arrow:hover:before {color: black;}#sk-container-id-1 div.sk-estimator:hover label.sk-toggleable__label-arrow:before {color: black;}#sk-container-id-1 div.sk-toggleable__content {max-height: 0;max-width: 0;overflow: hidden;text-align: left;background-color: #f0f8ff;}#sk-container-id-1 div.sk-toggleable__content pre {margin: 0.2em;color: black;border-radius: 0.25em;background-color: #f0f8ff;}#sk-container-id-1 input.sk-toggleable__control:checked~div.sk-toggleable__content {max-height: 200px;max-width: 100%;overflow: auto;}#sk-container-id-1 input.sk-toggleable__control:checked~label.sk-toggleable__label-arrow:before {content: \"▾\";}#sk-container-id-1 div.sk-estimator input.sk-toggleable__control:checked~label.sk-toggleable__label {background-color: #d4ebff;}#sk-container-id-1 div.sk-label input.sk-toggleable__control:checked~label.sk-toggleable__label {background-color: #d4ebff;}#sk-container-id-1 input.sk-hidden--visually {border: 0;clip: rect(1px 1px 1px 1px);clip: rect(1px, 1px, 1px, 1px);height: 1px;margin: -1px;overflow: hidden;padding: 0;position: absolute;width: 1px;}#sk-container-id-1 div.sk-estimator {font-family: monospace;background-color: #f0f8ff;border: 1px dotted black;border-radius: 0.25em;box-sizing: border-box;margin-bottom: 0.5em;}#sk-container-id-1 div.sk-estimator:hover {background-color: #d4ebff;}#sk-container-id-1 div.sk-parallel-item::after {content: \"\";width: 100%;border-bottom: 1px solid gray;flex-grow: 1;}#sk-container-id-1 div.sk-label:hover label.sk-toggleable__label {background-color: #d4ebff;}#sk-container-id-1 div.sk-serial::before {content: \"\";position: absolute;border-left: 1px solid gray;box-sizing: border-box;top: 0;bottom: 0;left: 50%;z-index: 0;}#sk-container-id-1 div.sk-serial {display: flex;flex-direction: column;align-items: center;background-color: white;padding-right: 0.2em;padding-left: 0.2em;position: relative;}#sk-container-id-1 div.sk-item {position: relative;z-index: 1;}#sk-container-id-1 div.sk-parallel {display: flex;align-items: stretch;justify-content: center;background-color: white;position: relative;}#sk-container-id-1 div.sk-item::before, #sk-container-id-1 div.sk-parallel-item::before {content: \"\";position: absolute;border-left: 1px solid gray;box-sizing: border-box;top: 0;bottom: 0;left: 50%;z-index: -1;}#sk-container-id-1 div.sk-parallel-item {display: flex;flex-direction: column;z-index: 1;position: relative;background-color: white;}#sk-container-id-1 div.sk-parallel-item:first-child::after {align-self: flex-end;width: 50%;}#sk-container-id-1 div.sk-parallel-item:last-child::after {align-self: flex-start;width: 50%;}#sk-container-id-1 div.sk-parallel-item:only-child::after {width: 0;}#sk-container-id-1 div.sk-dashed-wrapped {border: 1px dashed gray;margin: 0 0.4em 0.5em 0.4em;box-sizing: border-box;padding-bottom: 0.4em;background-color: white;}#sk-container-id-1 div.sk-label label {font-family: monospace;font-weight: bold;display: inline-block;line-height: 1.2em;}#sk-container-id-1 div.sk-label-container {text-align: center;}#sk-container-id-1 div.sk-container {/* jupyter's `normalize.less` sets `[hidden] { display: none; }` but bootstrap.min.css set `[hidden] { display: none !important; }` so we also need the `!important` here to be able to override the default hidden behavior on the sphinx rendered scikit-learn.org. See: https://github.com/scikit-learn/scikit-learn/issues/21755 */display: inline-block !important;position: relative;}#sk-container-id-1 div.sk-text-repr-fallback {display: none;}</style><div id=\"sk-container-id-1\" class=\"sk-top-container\"><div class=\"sk-text-repr-fallback\"><pre>LinearRegression(n_jobs=-1)</pre><b>In a Jupyter environment, please rerun this cell to show the HTML representation or trust the notebook. <br />On GitHub, the HTML representation is unable to render, please try loading this page with nbviewer.org.</b></div><div class=\"sk-container\" hidden><div class=\"sk-item\"><div class=\"sk-estimator sk-toggleable\"><input class=\"sk-toggleable__control sk-hidden--visually\" id=\"sk-estimator-id-1\" type=\"checkbox\" checked><label for=\"sk-estimator-id-1\" class=\"sk-toggleable__label sk-toggleable__label-arrow\">LinearRegression</label><div class=\"sk-toggleable__content\"><pre>LinearRegression(n_jobs=-1)</pre></div></div></div></div></div>"
      ],
      "text/plain": [
       "LinearRegression(n_jobs=-1)"
      ]
     },
     "execution_count": 14,
     "metadata": {},
     "output_type": "execute_result"
    }
   ],
   "source": [
    "model_lr_all = LinearRegression(n_jobs = -1) # use all processors\n",
    "model_lr_all.fit(X_train_tarencoded, y_train)"
   ]
  },
  {
   "cell_type": "code",
   "execution_count": 23,
   "metadata": {},
   "outputs": [
    {
     "name": "stdout",
     "output_type": "stream",
     "text": [
      "r2 score across all the train data 0.48831894885058813\n"
     ]
    }
   ],
   "source": [
    "print(\"r2 score across all the train data\", model_lr_all.score(X_train_tarencoded, y_train))"
   ]
  },
  {
   "cell_type": "code",
   "execution_count": 17,
   "metadata": {},
   "outputs": [],
   "source": [
    "X_test_tarencoded = X_test.copy()\n",
    "X_test_tarencoded[cat_cols_sig] = tarenc.transform(X_test_tarencoded[cat_cols_sig])"
   ]
  },
  {
   "cell_type": "code",
   "execution_count": 18,
   "metadata": {},
   "outputs": [
    {
     "ename": "NameError",
     "evalue": "name 'model_lr_all' is not defined",
     "output_type": "error",
     "traceback": [
      "\u001b[0;31m---------------------------------------------------------------------------\u001b[0m",
      "\u001b[0;31mNameError\u001b[0m                                 Traceback (most recent call last)",
      "Cell \u001b[0;32mIn[18], line 1\u001b[0m\n\u001b[0;32m----> 1\u001b[0m \u001b[39mprint\u001b[39m(\u001b[39m\"\u001b[39m\u001b[39mr2 score across the test data\u001b[39m\u001b[39m\"\u001b[39m, model_lr_all\u001b[39m.\u001b[39mscore(X_test_tarencoded, y_test))\n",
      "\u001b[0;31mNameError\u001b[0m: name 'model_lr_all' is not defined"
     ]
    }
   ],
   "source": [
    "print(\"r2 score across the test data\", model_lr_all.score(X_test_tarencoded, y_test))"
   ]
  },
  {
   "cell_type": "code",
   "execution_count": 31,
   "metadata": {},
   "outputs": [
    {
     "name": "stdout",
     "output_type": "stream",
     "text": [
      "         OCCP      WKHP      AGEP  SCHL  ST  JWTRNS  DRAT  COW  SEX  RELSHIPP  \\\n",
      "77964    4220  0.142857  0.025316    19   6      11     0    2    1        38   \n",
      "62328    2300  0.387755  0.113924    18   5       1     0    1    2        20   \n",
      "1233784  3602  0.397959  0.886076    16  42      11     0    1    1        20   \n",
      "1297975  4140  0.193878  0.037975    16  45       0     0    1    2        26   \n",
      "1539878  4251  0.397959  0.329114    14  53       0     0    1    1        37   \n",
      "\n",
      "         POBP  ENG  MAR  RAC1P  \n",
      "77964      24    0    5      1  \n",
      "62328       5    0    1      1  \n",
      "1233784    42    0    2      1  \n",
      "1297975    45    0    5      2  \n",
      "1539878    53    0    5      1  \n",
      "             OCCP      WKHP      AGEP      SCHL        ST    JWTRNS      DRAT  \\\n",
      "77964    0.140733  0.142857  0.025316  0.204857  0.277402  0.363671  0.252934   \n",
      "62328    0.162400  0.387755  0.113924  0.206160  0.212817  0.253227  0.252934   \n",
      "1233784  0.130184  0.397959  0.886076  0.187237  0.250182  0.363671  0.252934   \n",
      "1297975  0.069123  0.193878  0.037975  0.187237  0.230001  0.136592  0.252934   \n",
      "1539878  0.130627  0.397959  0.329114  0.093082  0.291129  0.136592  0.252934   \n",
      "\n",
      "              COW       SEX  RELSHIPP      POBP       ENG       MAR     RAC1P  \n",
      "77964    0.262581  0.284706  0.059296  0.271652  0.260689  0.170796  0.269686  \n",
      "62328    0.248075  0.223080  0.299883  0.223713  0.260689  0.306318  0.269686  \n",
      "1233784  0.248075  0.284706  0.299883  0.268897  0.260689  0.254775  0.269686  \n",
      "1297975  0.248075  0.223080  0.096495  0.225195  0.260689  0.170796  0.205706  \n",
      "1539878  0.248075  0.284706  0.083276  0.266300  0.260689  0.170796  0.269686  \n"
     ]
    }
   ],
   "source": [
    "print(X_test.head())\n",
    "print(X_test_tarencoded.head()) # indices are all the same"
   ]
  },
  {
   "cell_type": "code",
   "execution_count": null,
   "metadata": {},
   "outputs": [],
   "source": [
    "# X_train_tarencoded[X_train['SEX'] == 1].shape + \\\n",
    "# X_train_tarencoded[X_train['SEX'] == 2].shape"
   ]
  },
  {
   "cell_type": "markdown",
   "metadata": {},
   "source": [
    "## Checking model similarity for different groups\n",
    "- SEX: Male, Female\n",
    "- RAC1P: White,...,Two or more race"
   ]
  },
  {
   "cell_type": "code",
   "execution_count": 45,
   "metadata": {},
   "outputs": [
    {
     "name": "stdout",
     "output_type": "stream",
     "text": [
      "Counter({1: 644251, 2: 611099})\n",
      "Counter({1: 836563, 9: 134697, 2: 108927, 6: 80758, 8: 78125, 3: 11646, 7: 2207, 5: 1854, 4: 573})\n"
     ]
    }
   ],
   "source": [
    "from collections import Counter\n",
    "print(Counter(X_train['SEX']))\n",
    "print(Counter(X_train['RAC1P']))"
   ]
  },
  {
   "cell_type": "code",
   "execution_count": 14,
   "metadata": {},
   "outputs": [],
   "source": [
    "# sensitive groups are RACE and SEX\n",
    "sex_cats = [1,2] # male, female\n",
    "race_cats = [1,2,3,4,5,6,7,8,9] # white ... two or more race\n",
    "\n",
    "models_lr_dict = {}\n",
    "models_ridge_dict = {}\n",
    "group_sizes = {}\n",
    "\n",
    "for sc in sex_cats:\n",
    "    indices = (X_train['SEX'] == sc)\n",
    "    model_lr = LinearRegression(n_jobs = -1) # use all processors\n",
    "    model_ridge = Ridge()\n",
    "    model_lr.fit(X_train_tarencoded[indices], y_train[indices])\n",
    "    model_ridge.fit(X_train_tarencoded[indices], y_train[indices])\n",
    "    key = 'SEX_' + str(sc)\n",
    "    group_sizes[key] = indices.sum() #sum of all the trues\n",
    "    models_lr_dict[key] = model_lr\n",
    "    models_ridge_dict[key] = model_ridge\n",
    "\n",
    "for rc in race_cats:\n",
    "    indices = (X_train['RAC1P'] == rc)\n",
    "    model_lr = LinearRegression(n_jobs = -1) # use all processors\n",
    "    model_ridge = Ridge()\n",
    "    model_lr.fit(X_train_tarencoded[indices], y_train[indices])\n",
    "    model_ridge.fit(X_train_tarencoded[indices], y_train[indices])\n",
    "    key = 'RAC1P_' + str(rc)\n",
    "    group_sizes[key] = indices.sum()\n",
    "    models_lr_dict[key] = model_lr\n",
    "    models_ridge_dict[key] = model_ridge\n",
    "    "
   ]
  },
  {
   "cell_type": "code",
   "execution_count": 15,
   "metadata": {},
   "outputs": [
    {
     "data": {
      "text/plain": [
       "({'SEX_1': LinearRegression(n_jobs=-1),\n",
       "  'SEX_2': LinearRegression(n_jobs=-1),\n",
       "  'RAC1P_1': LinearRegression(n_jobs=-1),\n",
       "  'RAC1P_2': LinearRegression(n_jobs=-1),\n",
       "  'RAC1P_3': LinearRegression(n_jobs=-1),\n",
       "  'RAC1P_4': LinearRegression(n_jobs=-1),\n",
       "  'RAC1P_5': LinearRegression(n_jobs=-1),\n",
       "  'RAC1P_6': LinearRegression(n_jobs=-1),\n",
       "  'RAC1P_7': LinearRegression(n_jobs=-1),\n",
       "  'RAC1P_8': LinearRegression(n_jobs=-1),\n",
       "  'RAC1P_9': LinearRegression(n_jobs=-1)},\n",
       " {'SEX_1': Ridge(),\n",
       "  'SEX_2': Ridge(),\n",
       "  'RAC1P_1': Ridge(),\n",
       "  'RAC1P_2': Ridge(),\n",
       "  'RAC1P_3': Ridge(),\n",
       "  'RAC1P_4': Ridge(),\n",
       "  'RAC1P_5': Ridge(),\n",
       "  'RAC1P_6': Ridge(),\n",
       "  'RAC1P_7': Ridge(),\n",
       "  'RAC1P_8': Ridge(),\n",
       "  'RAC1P_9': Ridge()},\n",
       " {'SEX_1': 644251,\n",
       "  'SEX_2': 611099,\n",
       "  'RAC1P_1': 836563,\n",
       "  'RAC1P_2': 108927,\n",
       "  'RAC1P_3': 11646,\n",
       "  'RAC1P_4': 573,\n",
       "  'RAC1P_5': 1854,\n",
       "  'RAC1P_6': 80758,\n",
       "  'RAC1P_7': 2207,\n",
       "  'RAC1P_8': 78125,\n",
       "  'RAC1P_9': 134697})"
      ]
     },
     "execution_count": 15,
     "metadata": {},
     "output_type": "execute_result"
    }
   ],
   "source": [
    "models_lr_dict, models_ridge_dict, group_sizes\n",
    "# try with ridge??"
   ]
  },
  {
   "cell_type": "code",
   "execution_count": 56,
   "metadata": {},
   "outputs": [
    {
     "data": {
      "text/plain": [
       "((313838, 14), (313838, 1))"
      ]
     },
     "execution_count": 56,
     "metadata": {},
     "output_type": "execute_result"
    }
   ],
   "source": [
    "X_test_tarencoded.shape, y_test.shape"
   ]
  },
  {
   "cell_type": "code",
   "execution_count": 19,
   "metadata": {},
   "outputs": [
    {
     "name": "stdout",
     "output_type": "stream",
     "text": [
      " SEX_1, test group size 644251  r2 score for least squares is 0.4806, r2 score for ridge is 0.4806\n",
      " SEX_2, test group size 611099  r2 score for least squares is 0.4867, r2 score for ridge is 0.4867\n",
      " RAC1P_1, test group size 836563  r2 score for least squares is 0.4822, r2 score for ridge is 0.4822\n",
      " RAC1P_2, test group size 108927  r2 score for least squares is 0.4553, r2 score for ridge is 0.4554\n",
      " RAC1P_3, test group size 11646  r2 score for least squares is 0.4179, r2 score for ridge is 0.4174\n",
      " RAC1P_4, test group size 573  r2 score for least squares is 0.2893, r2 score for ridge is 0.2863\n",
      " RAC1P_5, test group size 1854  r2 score for least squares is 0.4396, r2 score for ridge is 0.4407\n",
      " RAC1P_6, test group size 80758  r2 score for least squares is 0.5005, r2 score for ridge is 0.5005\n",
      " RAC1P_7, test group size 2207  r2 score for least squares is 0.3944, r2 score for ridge is 0.3941\n",
      " RAC1P_8, test group size 78125  r2 score for least squares is 0.4161, r2 score for ridge is 0.4161\n",
      " RAC1P_9, test group size 134697  r2 score for least squares is 0.4901, r2 score for ridge is 0.4901\n"
     ]
    }
   ],
   "source": [
    "# Evaluate model performances on test data\n",
    "for sc in sex_cats:\n",
    "    indices = (X_test['SEX'] == sc)\n",
    "    key = 'SEX_'+ str(sc)\n",
    "    r2_score_lr = models_lr_dict[key].score(X_test_tarencoded[indices], y_test[indices])\n",
    "    r2_score_ridge = models_ridge_dict[key].score(X_test_tarencoded[indices], y_test[indices])\n",
    "    print(f\" {key}, test group size {group_sizes[key]}  r2 score for least squares is {r2_score_lr:.4f}, r2 score for ridge is {r2_score_ridge:.4f}\")\n",
    "\n",
    "# Evaluate model performances on test data\n",
    "for rc in race_cats:\n",
    "    indices = (X_test['RAC1P'] == rc)\n",
    "    key = 'RAC1P_'+ str(rc)\n",
    "    r2_score_lr = models_lr_dict[key].score(X_test_tarencoded[indices], y_test[indices])\n",
    "    r2_score_ridge = models_ridge_dict[key].score(X_test_tarencoded[indices], y_test[indices])\n",
    "    print(f\" {key}, test group size {group_sizes[key]}  r2 score for least squares is {r2_score_lr:.4f}, r2 score for ridge is {r2_score_ridge:.4f}\")"
   ]
  },
  {
   "cell_type": "code",
   "execution_count": 116,
   "metadata": {},
   "outputs": [],
   "source": [
    "from numpy.linalg import norm\n",
    "import numpy\n",
    "\n",
    "def inner_product_matrix(model_dict):\n",
    "    keys = list(model_dict.keys())\n",
    "    l = len(keys)\n",
    "    mat_2d = np.zeros((l, l))\n",
    "    for i in range(l):\n",
    "        for j in range(i, l):\n",
    "            dot_similarity = np.dot(model_dict[keys[i]].coef_.flatten(), model_dict[keys[j]].coef_.flatten())\n",
    "            mat_2d[i, j] = dot_similarity\n",
    "            mat_2d[j, i] = dot_similarity\n",
    "    return mat_2d, keys\n",
    "\n",
    "def angle_normalized_ip(model_dict: dict) -> (numpy.ndarray, list):\n",
    "    '''\n",
    "        model_dict: maps keys to linear model, these linear models are already trained and have weights\n",
    "        This function computes the cos(theta), or normalized inner product of each pair of models.\n",
    "    '''\n",
    "    keys = list(model_dict.keys())\n",
    "    l = len(keys)\n",
    "    mat_2d = np.zeros((l, l))\n",
    "    for i in range(l):\n",
    "        for j in range(i, l):\n",
    "            u = model_dict[keys[i]].coef_.flatten()\n",
    "            v = model_dict[keys[j]].coef_.flatten()\n",
    "            c = np.dot(u, v) / (norm(u) * norm(v)) # -> cosine of the angle\n",
    "            # angle = np.arccos(np.clip(c, -1, 1)) # if you really want the angle\n",
    "            mat_2d[i, j] = c\n",
    "            mat_2d[j, i] = c\n",
    "    return mat_2d, keys\n",
    "\n",
    "def cross_test_models(model_dict: dict, sex_cats: list, race_cats: list) -> (numpy.ndarray, list):\n",
    "    '''\n",
    "        model_dict: maps keys to linear model, these linear models are already trained and have weights\n",
    "        sex_cats: labels for the different sexes\n",
    "        race_cats: labels for the different races\n",
    "        This function computes the performance of one model on another models data\n",
    "\n",
    "        With an example, model_dict['SEX_1'] has the linear model trained only of those points which have SEX == 1\n",
    "        we will test its performance on all the other groups data.\n",
    "    '''\n",
    "    keys = list(model_dict.keys())\n",
    "    l = len(keys)\n",
    "    mat_2d = np.zeros((l, l))\n",
    "    for i in range(l):\n",
    "        model_i = model_dict[keys[i]]\n",
    "        for j in range(l):\n",
    "            attr, val = keys[j].split('_')\n",
    "            indices_j = (X_test[attr] == int(val))\n",
    "            mat_2d[i, j] = model_i.score(X_test_tarencoded[indices_j], y_test[indices_j]) # how model i performs on test data meant for model j, R2 score\n",
    "    return mat_2d, keys\n"
   ]
  },
  {
   "cell_type": "code",
   "execution_count": 121,
   "metadata": {},
   "outputs": [
    {
     "data": {
      "text/plain": [
       "<Axes: >"
      ]
     },
     "execution_count": 121,
     "metadata": {},
     "output_type": "execute_result"
    },
    {
     "data": {
      "image/png": "[encoded data removed]",
      "text/plain": [
       "<Figure size 640x480 with 2 Axes>"
      ]
     },
     "metadata": {},
     "output_type": "display_data"
    }
   ],
   "source": [
    "import seaborn as sns # for data visualization\n",
    "cross_mat, keys = cross_test_models(models_lr_dict, sex_cats, race_cats)\n",
    "cross_mat[cross_mat < 0.0] = -10 # R2 score negative, means worse than a mean prediction.\n",
    "sns.heatmap(cross_mat, annot=True, xticklabels=keys, yticklabels=keys)"
   ]
  },
  {
   "cell_type": "code",
   "execution_count": 118,
   "metadata": {},
   "outputs": [
    {
     "data": {
      "text/plain": [
       "<Axes: >"
      ]
     },
     "execution_count": 118,
     "metadata": {},
     "output_type": "execute_result"
    },
    {
     "data": {
      "image/png": "[encoded data removed]",
      "text/plain": [
       "<Figure size 640x480 with 2 Axes>"
      ]
     },
     "metadata": {},
     "output_type": "display_data"
    }
   ],
   "source": [
    "import seaborn as sns # for data visualization\n",
    "inmat, keys = angle_normalized_ip(models_lr_dict)\n",
    "# inmat[inmat < 0.9] = -10\n",
    "sns.heatmap(inmat, annot=True, xticklabels=keys, yticklabels=keys)"
   ]
  },
  {
   "cell_type": "code",
   "execution_count": null,
   "metadata": {},
   "outputs": [],
   "source": [
    "import seaborn as sns # for data visualization\n",
    "inmat, keys = inner_product_matrix(models_lr_dict)\n",
    "sns.heatmap(inmat, annot=True, xticklabels=keys, yticklabels=keys)"
   ]
  },
  {
   "cell_type": "code",
   "execution_count": 88,
   "metadata": {},
   "outputs": [
    {
     "name": "stdout",
     "output_type": "stream",
     "text": [
      "<class 'list'> 11 SEX_2\n"
     ]
    }
   ],
   "source": [
    "keys = models_lr_dict.keys()\n",
    "print(type(list(keys)), len(keys), list(keys)[1])"
   ]
  },
  {
   "cell_type": "code",
   "execution_count": 83,
   "metadata": {},
   "outputs": [
    {
     "data": {
      "text/plain": [
       "(1, 14)"
      ]
     },
     "execution_count": 83,
     "metadata": {},
     "output_type": "execute_result"
    }
   ],
   "source": [
    "models_lr_dict['SEX_2'].coef_.shape"
   ]
  },
  {
   "cell_type": "code",
   "execution_count": 80,
   "metadata": {},
   "outputs": [
    {
     "data": {
      "text/plain": [
       "16.72674630530597"
      ]
     },
     "execution_count": 80,
     "metadata": {},
     "output_type": "execute_result"
    }
   ],
   "source": [
    "np.dot(models_lr_dict['SEX_1'].coef_.flatten(), models_lr_dict['SEX_2'].coef_.flatten())\n"
   ]
  },
  {
   "cell_type": "code",
   "execution_count": 47,
   "metadata": {},
   "outputs": [
    {
     "name": "stdout",
     "output_type": "stream",
     "text": [
      "{'SEX1': 2}\n"
     ]
    }
   ],
   "source": [
    "model_temp  ={}\n",
    "model_temp['SEX'+str(1)] = 2\n",
    "print(model_temp)"
   ]
  },
  {
   "cell_type": "code",
   "execution_count": 39,
   "metadata": {},
   "outputs": [
    {
     "data": {
      "text/plain": [
       "1255350"
      ]
     },
     "execution_count": 39,
     "metadata": {},
     "output_type": "execute_result"
    }
   ],
   "source": [
    "644251 + 611099"
   ]
  },
  {
   "cell_type": "markdown",
   "metadata": {},
   "source": [
    "to be continued..."
   ]
  },
  {
   "cell_type": "code",
   "execution_count": 37,
   "metadata": {},
   "outputs": [
    {
     "data": {
      "text/html": [
       "<div>\n",
       "<style scoped>\n",
       "    .dataframe tbody tr th:only-of-type {\n",
       "        vertical-align: middle;\n",
       "    }\n",
       "\n",
       "    .dataframe tbody tr th {\n",
       "        vertical-align: top;\n",
       "    }\n",
       "\n",
       "    .dataframe thead th {\n",
       "        text-align: right;\n",
       "    }\n",
       "</style>\n",
       "<table border=\"1\" class=\"dataframe\">\n",
       "  <thead>\n",
       "    <tr style=\"text-align: right;\">\n",
       "      <th></th>\n",
       "      <th>OCCP</th>\n",
       "      <th>WKHP</th>\n",
       "      <th>AGEP</th>\n",
       "      <th>SCHL</th>\n",
       "      <th>ST</th>\n",
       "      <th>JWTRNS</th>\n",
       "      <th>DRAT</th>\n",
       "      <th>COW</th>\n",
       "      <th>SEX</th>\n",
       "      <th>RELSHIPP</th>\n",
       "      <th>POBP</th>\n",
       "      <th>ENG</th>\n",
       "      <th>MAR</th>\n",
       "      <th>RAC1P</th>\n",
       "    </tr>\n",
       "  </thead>\n",
       "  <tbody>\n",
       "    <tr>\n",
       "      <th>0</th>\n",
       "      <td>4760</td>\n",
       "      <td>0.295918</td>\n",
       "      <td>0.025316</td>\n",
       "      <td>18</td>\n",
       "      <td>1</td>\n",
       "      <td>0</td>\n",
       "      <td>0</td>\n",
       "      <td>2</td>\n",
       "      <td>2</td>\n",
       "      <td>38</td>\n",
       "      <td>53</td>\n",
       "      <td>0</td>\n",
       "      <td>5</td>\n",
       "      <td>1</td>\n",
       "    </tr>\n",
       "    <tr>\n",
       "      <th>1</th>\n",
       "      <td>4640</td>\n",
       "      <td>0.397959</td>\n",
       "      <td>0.037975</td>\n",
       "      <td>19</td>\n",
       "      <td>1</td>\n",
       "      <td>1</td>\n",
       "      <td>0</td>\n",
       "      <td>1</td>\n",
       "      <td>1</td>\n",
       "      <td>38</td>\n",
       "      <td>13</td>\n",
       "      <td>0</td>\n",
       "      <td>5</td>\n",
       "      <td>2</td>\n",
       "    </tr>\n",
       "    <tr>\n",
       "      <th>2</th>\n",
       "      <td>5240</td>\n",
       "      <td>0.173469</td>\n",
       "      <td>0.025316</td>\n",
       "      <td>18</td>\n",
       "      <td>1</td>\n",
       "      <td>0</td>\n",
       "      <td>0</td>\n",
       "      <td>2</td>\n",
       "      <td>2</td>\n",
       "      <td>38</td>\n",
       "      <td>22</td>\n",
       "      <td>0</td>\n",
       "      <td>5</td>\n",
       "      <td>1</td>\n",
       "    </tr>\n",
       "    <tr>\n",
       "      <th>3</th>\n",
       "      <td>4220</td>\n",
       "      <td>0.051020</td>\n",
       "      <td>0.215190</td>\n",
       "      <td>19</td>\n",
       "      <td>1</td>\n",
       "      <td>12</td>\n",
       "      <td>0</td>\n",
       "      <td>2</td>\n",
       "      <td>2</td>\n",
       "      <td>38</td>\n",
       "      <td>18</td>\n",
       "      <td>0</td>\n",
       "      <td>3</td>\n",
       "      <td>1</td>\n",
       "    </tr>\n",
       "    <tr>\n",
       "      <th>4</th>\n",
       "      <td>2722</td>\n",
       "      <td>0.091837</td>\n",
       "      <td>0.025316</td>\n",
       "      <td>18</td>\n",
       "      <td>1</td>\n",
       "      <td>0</td>\n",
       "      <td>0</td>\n",
       "      <td>1</td>\n",
       "      <td>1</td>\n",
       "      <td>38</td>\n",
       "      <td>36</td>\n",
       "      <td>0</td>\n",
       "      <td>5</td>\n",
       "      <td>1</td>\n",
       "    </tr>\n",
       "    <tr>\n",
       "      <th>...</th>\n",
       "      <td>...</td>\n",
       "      <td>...</td>\n",
       "      <td>...</td>\n",
       "      <td>...</td>\n",
       "      <td>...</td>\n",
       "      <td>...</td>\n",
       "      <td>...</td>\n",
       "      <td>...</td>\n",
       "      <td>...</td>\n",
       "      <td>...</td>\n",
       "      <td>...</td>\n",
       "      <td>...</td>\n",
       "      <td>...</td>\n",
       "      <td>...</td>\n",
       "    </tr>\n",
       "    <tr>\n",
       "      <th>1630162</th>\n",
       "      <td>1430</td>\n",
       "      <td>0.397959</td>\n",
       "      <td>0.291139</td>\n",
       "      <td>21</td>\n",
       "      <td>72</td>\n",
       "      <td>1</td>\n",
       "      <td>0</td>\n",
       "      <td>1</td>\n",
       "      <td>2</td>\n",
       "      <td>20</td>\n",
       "      <td>72</td>\n",
       "      <td>2</td>\n",
       "      <td>5</td>\n",
       "      <td>9</td>\n",
       "    </tr>\n",
       "    <tr>\n",
       "      <th>1630163</th>\n",
       "      <td>2205</td>\n",
       "      <td>0.397959</td>\n",
       "      <td>0.379747</td>\n",
       "      <td>22</td>\n",
       "      <td>72</td>\n",
       "      <td>1</td>\n",
       "      <td>0</td>\n",
       "      <td>2</td>\n",
       "      <td>1</td>\n",
       "      <td>20</td>\n",
       "      <td>72</td>\n",
       "      <td>3</td>\n",
       "      <td>1</td>\n",
       "      <td>9</td>\n",
       "    </tr>\n",
       "    <tr>\n",
       "      <th>1630164</th>\n",
       "      <td>5740</td>\n",
       "      <td>0.397959</td>\n",
       "      <td>0.367089</td>\n",
       "      <td>21</td>\n",
       "      <td>72</td>\n",
       "      <td>1</td>\n",
       "      <td>0</td>\n",
       "      <td>4</td>\n",
       "      <td>2</td>\n",
       "      <td>21</td>\n",
       "      <td>72</td>\n",
       "      <td>0</td>\n",
       "      <td>1</td>\n",
       "      <td>9</td>\n",
       "    </tr>\n",
       "    <tr>\n",
       "      <th>1630165</th>\n",
       "      <td>2634</td>\n",
       "      <td>0.295918</td>\n",
       "      <td>0.063291</td>\n",
       "      <td>21</td>\n",
       "      <td>72</td>\n",
       "      <td>11</td>\n",
       "      <td>0</td>\n",
       "      <td>6</td>\n",
       "      <td>1</td>\n",
       "      <td>25</td>\n",
       "      <td>72</td>\n",
       "      <td>2</td>\n",
       "      <td>5</td>\n",
       "      <td>9</td>\n",
       "    </tr>\n",
       "    <tr>\n",
       "      <th>1630166</th>\n",
       "      <td>2300</td>\n",
       "      <td>0.397959</td>\n",
       "      <td>0.493671</td>\n",
       "      <td>21</td>\n",
       "      <td>72</td>\n",
       "      <td>1</td>\n",
       "      <td>0</td>\n",
       "      <td>2</td>\n",
       "      <td>2</td>\n",
       "      <td>21</td>\n",
       "      <td>72</td>\n",
       "      <td>4</td>\n",
       "      <td>1</td>\n",
       "      <td>2</td>\n",
       "    </tr>\n",
       "  </tbody>\n",
       "</table>\n",
       "<p>1569188 rows × 14 columns</p>\n",
       "</div>"
      ],
      "text/plain": [
       "         OCCP      WKHP      AGEP  SCHL  ST  JWTRNS  DRAT  COW  SEX  RELSHIPP  \\\n",
       "0        4760  0.295918  0.025316    18   1       0     0    2    2        38   \n",
       "1        4640  0.397959  0.037975    19   1       1     0    1    1        38   \n",
       "2        5240  0.173469  0.025316    18   1       0     0    2    2        38   \n",
       "3        4220  0.051020  0.215190    19   1      12     0    2    2        38   \n",
       "4        2722  0.091837  0.025316    18   1       0     0    1    1        38   \n",
       "...       ...       ...       ...   ...  ..     ...   ...  ...  ...       ...   \n",
       "1630162  1430  0.397959  0.291139    21  72       1     0    1    2        20   \n",
       "1630163  2205  0.397959  0.379747    22  72       1     0    2    1        20   \n",
       "1630164  5740  0.397959  0.367089    21  72       1     0    4    2        21   \n",
       "1630165  2634  0.295918  0.063291    21  72      11     0    6    1        25   \n",
       "1630166  2300  0.397959  0.493671    21  72       1     0    2    2        21   \n",
       "\n",
       "         POBP  ENG  MAR  RAC1P  \n",
       "0          53    0    5      1  \n",
       "1          13    0    5      2  \n",
       "2          22    0    5      1  \n",
       "3          18    0    3      1  \n",
       "4          36    0    5      1  \n",
       "...       ...  ...  ...    ...  \n",
       "1630162    72    2    5      9  \n",
       "1630163    72    3    1      9  \n",
       "1630164    72    0    1      9  \n",
       "1630165    72    2    5      9  \n",
       "1630166    72    4    1      2  \n",
       "\n",
       "[1569188 rows x 14 columns]"
      ]
     },
     "execution_count": 37,
     "metadata": {},
     "output_type": "execute_result"
    }
   ],
   "source": [
    "# Lets find the r2 score across groups now\n",
    "X_dat\n"
   ]
  },
  {
   "cell_type": "code",
   "execution_count": 7,
   "metadata": {},
   "outputs": [],
   "source": [
    "def get_feature_importance(weights, feature_names):\n",
    "    '''\n",
    "        Returns a dictionary with importance for each feature (one hot encoded ones are mapped back to a single feautere)\n",
    "    '''\n",
    "    di_imp = defaultdict(int)\n",
    "    for w, name in zip(weights, feature_names):\n",
    "        fn_snip = name.split('_')[0] # if underscore wasn't there just picks the name, otherwise splits acc to underscore and picks first\n",
    "        di_imp[fn_snip] += w**2 # absolute value of weight added\n",
    "    return di_imp"
   ]
  },
  {
   "cell_type": "code",
   "execution_count": 8,
   "metadata": {},
   "outputs": [],
   "source": [
    "model_lr = LinearRegression(n_jobs = -1) # use all cores to build model"
   ]
  },
  {
   "cell_type": "code",
   "execution_count": 9,
   "metadata": {},
   "outputs": [
    {
     "data": {
      "text/html": [
       "<style>#sk-container-id-1 {color: black;}#sk-container-id-1 pre{padding: 0;}#sk-container-id-1 div.sk-toggleable {background-color: white;}#sk-container-id-1 label.sk-toggleable__label {cursor: pointer;display: block;width: 100%;margin-bottom: 0;padding: 0.3em;box-sizing: border-box;text-align: center;}#sk-container-id-1 label.sk-toggleable__label-arrow:before {content: \"▸\";float: left;margin-right: 0.25em;color: #696969;}#sk-container-id-1 label.sk-toggleable__label-arrow:hover:before {color: black;}#sk-container-id-1 div.sk-estimator:hover label.sk-toggleable__label-arrow:before {color: black;}#sk-container-id-1 div.sk-toggleable__content {max-height: 0;max-width: 0;overflow: hidden;text-align: left;background-color: #f0f8ff;}#sk-container-id-1 div.sk-toggleable__content pre {margin: 0.2em;color: black;border-radius: 0.25em;background-color: #f0f8ff;}#sk-container-id-1 input.sk-toggleable__control:checked~div.sk-toggleable__content {max-height: 200px;max-width: 100%;overflow: auto;}#sk-container-id-1 input.sk-toggleable__control:checked~label.sk-toggleable__label-arrow:before {content: \"▾\";}#sk-container-id-1 div.sk-estimator input.sk-toggleable__control:checked~label.sk-toggleable__label {background-color: #d4ebff;}#sk-container-id-1 div.sk-label input.sk-toggleable__control:checked~label.sk-toggleable__label {background-color: #d4ebff;}#sk-container-id-1 input.sk-hidden--visually {border: 0;clip: rect(1px 1px 1px 1px);clip: rect(1px, 1px, 1px, 1px);height: 1px;margin: -1px;overflow: hidden;padding: 0;position: absolute;width: 1px;}#sk-container-id-1 div.sk-estimator {font-family: monospace;background-color: #f0f8ff;border: 1px dotted black;border-radius: 0.25em;box-sizing: border-box;margin-bottom: 0.5em;}#sk-container-id-1 div.sk-estimator:hover {background-color: #d4ebff;}#sk-container-id-1 div.sk-parallel-item::after {content: \"\";width: 100%;border-bottom: 1px solid gray;flex-grow: 1;}#sk-container-id-1 div.sk-label:hover label.sk-toggleable__label {background-color: #d4ebff;}#sk-container-id-1 div.sk-serial::before {content: \"\";position: absolute;border-left: 1px solid gray;box-sizing: border-box;top: 0;bottom: 0;left: 50%;z-index: 0;}#sk-container-id-1 div.sk-serial {display: flex;flex-direction: column;align-items: center;background-color: white;padding-right: 0.2em;padding-left: 0.2em;position: relative;}#sk-container-id-1 div.sk-item {position: relative;z-index: 1;}#sk-container-id-1 div.sk-parallel {display: flex;align-items: stretch;justify-content: center;background-color: white;position: relative;}#sk-container-id-1 div.sk-item::before, #sk-container-id-1 div.sk-parallel-item::before {content: \"\";position: absolute;border-left: 1px solid gray;box-sizing: border-box;top: 0;bottom: 0;left: 50%;z-index: -1;}#sk-container-id-1 div.sk-parallel-item {display: flex;flex-direction: column;z-index: 1;position: relative;background-color: white;}#sk-container-id-1 div.sk-parallel-item:first-child::after {align-self: flex-end;width: 50%;}#sk-container-id-1 div.sk-parallel-item:last-child::after {align-self: flex-start;width: 50%;}#sk-container-id-1 div.sk-parallel-item:only-child::after {width: 0;}#sk-container-id-1 div.sk-dashed-wrapped {border: 1px dashed gray;margin: 0 0.4em 0.5em 0.4em;box-sizing: border-box;padding-bottom: 0.4em;background-color: white;}#sk-container-id-1 div.sk-label label {font-family: monospace;font-weight: bold;display: inline-block;line-height: 1.2em;}#sk-container-id-1 div.sk-label-container {text-align: center;}#sk-container-id-1 div.sk-container {/* jupyter's `normalize.less` sets `[hidden] { display: none; }` but bootstrap.min.css set `[hidden] { display: none !important; }` so we also need the `!important` here to be able to override the default hidden behavior on the sphinx rendered scikit-learn.org. See: https://github.com/scikit-learn/scikit-learn/issues/21755 */display: inline-block !important;position: relative;}#sk-container-id-1 div.sk-text-repr-fallback {display: none;}</style><div id=\"sk-container-id-1\" class=\"sk-top-container\"><div class=\"sk-text-repr-fallback\"><pre>LinearRegression(n_jobs=-1)</pre><b>In a Jupyter environment, please rerun this cell to show the HTML representation or trust the notebook. <br />On GitHub, the HTML representation is unable to render, please try loading this page with nbviewer.org.</b></div><div class=\"sk-container\" hidden><div class=\"sk-item\"><div class=\"sk-estimator sk-toggleable\"><input class=\"sk-toggleable__control sk-hidden--visually\" id=\"sk-estimator-id-1\" type=\"checkbox\" checked><label for=\"sk-estimator-id-1\" class=\"sk-toggleable__label sk-toggleable__label-arrow\">LinearRegression</label><div class=\"sk-toggleable__content\"><pre>LinearRegression(n_jobs=-1)</pre></div></div></div></div></div>"
      ],
      "text/plain": [
       "LinearRegression(n_jobs=-1)"
      ]
     },
     "execution_count": 9,
     "metadata": {},
     "output_type": "execute_result"
    }
   ],
   "source": [
    "model_lr.fit(X_dat , y_dat)"
   ]
  },
  {
   "cell_type": "code",
   "execution_count": 10,
   "metadata": {},
   "outputs": [
    {
     "data": {
      "text/plain": [
       "0.48367663299831687"
      ]
     },
     "execution_count": 10,
     "metadata": {},
     "output_type": "execute_result"
    }
   ],
   "source": [
    "model_lr.score(X_dat, y_dat) "
   ]
  },
  {
   "cell_type": "code",
   "execution_count": 11,
   "metadata": {},
   "outputs": [
    {
     "name": "stdout",
     "output_type": "stream",
     "text": [
      "0.48367663299831687\n"
     ]
    }
   ],
   "source": [
    "y_pred = model_lr.predict(X_dat) \n",
    "print(r2_score(y_dat, y_pred)) #0.48 R2 score"
   ]
  },
  {
   "cell_type": "code",
   "execution_count": 12,
   "metadata": {},
   "outputs": [
    {
     "data": {
      "text/html": [
       "<style>#sk-container-id-2 {color: black;}#sk-container-id-2 pre{padding: 0;}#sk-container-id-2 div.sk-toggleable {background-color: white;}#sk-container-id-2 label.sk-toggleable__label {cursor: pointer;display: block;width: 100%;margin-bottom: 0;padding: 0.3em;box-sizing: border-box;text-align: center;}#sk-container-id-2 label.sk-toggleable__label-arrow:before {content: \"▸\";float: left;margin-right: 0.25em;color: #696969;}#sk-container-id-2 label.sk-toggleable__label-arrow:hover:before {color: black;}#sk-container-id-2 div.sk-estimator:hover label.sk-toggleable__label-arrow:before {color: black;}#sk-container-id-2 div.sk-toggleable__content {max-height: 0;max-width: 0;overflow: hidden;text-align: left;background-color: #f0f8ff;}#sk-container-id-2 div.sk-toggleable__content pre {margin: 0.2em;color: black;border-radius: 0.25em;background-color: #f0f8ff;}#sk-container-id-2 input.sk-toggleable__control:checked~div.sk-toggleable__content {max-height: 200px;max-width: 100%;overflow: auto;}#sk-container-id-2 input.sk-toggleable__control:checked~label.sk-toggleable__label-arrow:before {content: \"▾\";}#sk-container-id-2 div.sk-estimator input.sk-toggleable__control:checked~label.sk-toggleable__label {background-color: #d4ebff;}#sk-container-id-2 div.sk-label input.sk-toggleable__control:checked~label.sk-toggleable__label {background-color: #d4ebff;}#sk-container-id-2 input.sk-hidden--visually {border: 0;clip: rect(1px 1px 1px 1px);clip: rect(1px, 1px, 1px, 1px);height: 1px;margin: -1px;overflow: hidden;padding: 0;position: absolute;width: 1px;}#sk-container-id-2 div.sk-estimator {font-family: monospace;background-color: #f0f8ff;border: 1px dotted black;border-radius: 0.25em;box-sizing: border-box;margin-bottom: 0.5em;}#sk-container-id-2 div.sk-estimator:hover {background-color: #d4ebff;}#sk-container-id-2 div.sk-parallel-item::after {content: \"\";width: 100%;border-bottom: 1px solid gray;flex-grow: 1;}#sk-container-id-2 div.sk-label:hover label.sk-toggleable__label {background-color: #d4ebff;}#sk-container-id-2 div.sk-serial::before {content: \"\";position: absolute;border-left: 1px solid gray;box-sizing: border-box;top: 0;bottom: 0;left: 50%;z-index: 0;}#sk-container-id-2 div.sk-serial {display: flex;flex-direction: column;align-items: center;background-color: white;padding-right: 0.2em;padding-left: 0.2em;position: relative;}#sk-container-id-2 div.sk-item {position: relative;z-index: 1;}#sk-container-id-2 div.sk-parallel {display: flex;align-items: stretch;justify-content: center;background-color: white;position: relative;}#sk-container-id-2 div.sk-item::before, #sk-container-id-2 div.sk-parallel-item::before {content: \"\";position: absolute;border-left: 1px solid gray;box-sizing: border-box;top: 0;bottom: 0;left: 50%;z-index: -1;}#sk-container-id-2 div.sk-parallel-item {display: flex;flex-direction: column;z-index: 1;position: relative;background-color: white;}#sk-container-id-2 div.sk-parallel-item:first-child::after {align-self: flex-end;width: 50%;}#sk-container-id-2 div.sk-parallel-item:last-child::after {align-self: flex-start;width: 50%;}#sk-container-id-2 div.sk-parallel-item:only-child::after {width: 0;}#sk-container-id-2 div.sk-dashed-wrapped {border: 1px dashed gray;margin: 0 0.4em 0.5em 0.4em;box-sizing: border-box;padding-bottom: 0.4em;background-color: white;}#sk-container-id-2 div.sk-label label {font-family: monospace;font-weight: bold;display: inline-block;line-height: 1.2em;}#sk-container-id-2 div.sk-label-container {text-align: center;}#sk-container-id-2 div.sk-container {/* jupyter's `normalize.less` sets `[hidden] { display: none; }` but bootstrap.min.css set `[hidden] { display: none !important; }` so we also need the `!important` here to be able to override the default hidden behavior on the sphinx rendered scikit-learn.org. See: https://github.com/scikit-learn/scikit-learn/issues/21755 */display: inline-block !important;position: relative;}#sk-container-id-2 div.sk-text-repr-fallback {display: none;}</style><div id=\"sk-container-id-2\" class=\"sk-top-container\"><div class=\"sk-text-repr-fallback\"><pre>Ridge()</pre><b>In a Jupyter environment, please rerun this cell to show the HTML representation or trust the notebook. <br />On GitHub, the HTML representation is unable to render, please try loading this page with nbviewer.org.</b></div><div class=\"sk-container\" hidden><div class=\"sk-item\"><div class=\"sk-estimator sk-toggleable\"><input class=\"sk-toggleable__control sk-hidden--visually\" id=\"sk-estimator-id-2\" type=\"checkbox\" checked><label for=\"sk-estimator-id-2\" class=\"sk-toggleable__label sk-toggleable__label-arrow\">Ridge</label><div class=\"sk-toggleable__content\"><pre>Ridge()</pre></div></div></div></div></div>"
      ],
      "text/plain": [
       "Ridge()"
      ]
     },
     "execution_count": 12,
     "metadata": {},
     "output_type": "execute_result"
    }
   ],
   "source": [
    "model_ridge = Ridge() # default alpha is 1.0\n",
    "model_ridge.fit(X_dat , y_dat)"
   ]
  },
  {
   "cell_type": "code",
   "execution_count": 13,
   "metadata": {},
   "outputs": [
    {
     "data": {
      "text/plain": [
       "0.4836814544979555"
      ]
     },
     "execution_count": 13,
     "metadata": {},
     "output_type": "execute_result"
    }
   ],
   "source": [
    "model_ridge.score(X_dat, y_dat)"
   ]
  },
  {
   "cell_type": "code",
   "execution_count": 14,
   "metadata": {},
   "outputs": [],
   "source": [
    "weights = model_lr.coef_.ravel()"
   ]
  },
  {
   "cell_type": "code",
   "execution_count": 16,
   "metadata": {},
   "outputs": [],
   "source": [
    "di_imp = get_feature_importance(weights, X_dat.columns)"
   ]
  },
  {
   "cell_type": "code",
   "execution_count": 17,
   "metadata": {},
   "outputs": [
    {
     "data": {
      "text/plain": [
       "defaultdict(int,\n",
       "            {'AGEP': 0.03513697546490057,\n",
       "             'WKHP': 0.13291193431037376,\n",
       "             'COW': 1.046698411799209e+16,\n",
       "             'SCHL': 66451018516.78597,\n",
       "             'MAR': 3.637861570874854e+16,\n",
       "             'OCCP': 1.4613010604946746e+21,\n",
       "             'SEX': 1.048501153268975e+20,\n",
       "             'RAC1P': 1.1329847230447944e+20})"
      ]
     },
     "execution_count": 17,
     "metadata": {},
     "output_type": "execute_result"
    }
   ],
   "source": [
    "di_imp"
   ]
  },
  {
   "cell_type": "code",
   "execution_count": 18,
   "metadata": {},
   "outputs": [],
   "source": [
    "from sklearn.preprocessing import MinMaxScaler, OrdinalEncoder, TargetEncoder, StandardScaler, OneHotEncoder\n",
    "def numeric_scaler(df, cols):\n",
    "    '''\n",
    "    df: pandas dataframe\n",
    "    numeric_cols: (array of strings) column names for numeric variables\n",
    "\n",
    "    no return: does inplace operation\n",
    "    '''\n",
    "    df_new = df.copy()\n",
    "    mmscaler = MinMaxScaler()\n",
    "    df_new[cols] = mmscaler.fit_transform(df_new[cols])\n",
    "    return df_new\n",
    "\n",
    "def ordinal_encoder(df, cols): # similar to label encoder which only works for targets?\n",
    "    '''\n",
    "    Encode categorical into 0 ... n-1\n",
    "    '''\n",
    "    df_new = df.copy()\n",
    "    ordinal_enc = OrdinalEncoder()\n",
    "    df_new[cols] = ordinal_enc.fit_transform(df_new[cols])\n",
    "    return df_new\n",
    "\n",
    "def oh_sklearn(df, cols):\n",
    "    pass\n",
    "    # Issues with this operation as it doesnt preseve number of columns etc, the dummies method below works\n",
    "    # df_new = df.copy()\n",
    "    # oh_enc = OneHotEncoder()\n",
    "    # df_new[cols] = oh_enc.fit_transform(df_new[cols])\n",
    "    # return df_new\n",
    "\n",
    "def one_hot(df, cols): # idk if sklearns one-hot encoder is similar\n",
    "    \"\"\"\n",
    "    df: pandas DataFrame\n",
    "    param: cols a list of columns to encode \n",
    "    return a DataFrame with one-hot encoding\n",
    "    \"\"\"\n",
    "    for each in cols:\n",
    "        dummies = pd.get_dummies(df[each], prefix=each, drop_first=False)\n",
    "        df = pd.concat([df, dummies], axis=1)\n",
    "    return df\n",
    "\n",
    "def target_encoder(df, x_cols, y_col):\n",
    "    df_new = df.copy()\n",
    "    enc_auto = TargetEncoder(smooth=\"auto\", target_type=\"continuous\")\n",
    "    df_new[x_cols] = enc_auto.fit_transform(df_new[x_cols], df[y_col])\n",
    "    return df_new\n",
    "\n",
    "def target_encoder2(df, x_cols, y_col):\n",
    "    df_new = df.copy()\n",
    "    enc_auto = TargetEncoder(smooth=\"auto\", target_type=\"continuous\")\n",
    "    df_new[x_cols] = enc_auto.fit_transform(df_new[x_cols], df[y_col])\n",
    "    return df_new, enc_auto"
   ]
  },
  {
   "cell_type": "code",
   "execution_count": 19,
   "metadata": {},
   "outputs": [
    {
     "name": "stdout",
     "output_type": "stream",
     "text": [
      "Selected states:  ['AL', 'AK', 'AZ', 'AR', 'CA', 'CO', 'CT', 'DE', 'FL', 'GA', 'HI', 'ID', 'IL', 'IN', 'IA', 'KS', 'KY', 'LA', 'ME', 'MD', 'MA', 'MI', 'MN', 'MS', 'MO', 'MT', 'NE', 'NV', 'NH', 'NJ', 'NM', 'NY', 'NC', 'ND', 'OH', 'OK', 'OR', 'PA', 'RI', 'SC', 'SD', 'TN', 'TX', 'UT', 'VT', 'VA', 'WA', 'WV', 'WI', 'WY', 'PR']\n"
     ]
    }
   ],
   "source": [
    "# testing on non one hot encoded\n",
    "\n",
    "ACSIncome = folktables.BasicProblem(\n",
    "    features=[\n",
    "#         'ST',\n",
    "        'AGEP', #Numeric, age of householder\n",
    "        'COW',  #Categorical, class of worker \n",
    "        'SCHL', #Categorical, educational attainment\n",
    "        'MAR', #Categorical, Mamarital status 5 categories \n",
    "        'OCCP', #Categorical, occupation lots of codes here\n",
    "#         'POBP', #place of birth, US states, and if international has places\n",
    "#         'RELSHIPP', #Relationship, renamed to Relantioship in the new PUMS syntax, 20 - 38\n",
    "        'WKHP', #Numeric, hours worked per week in last 12 months\n",
    "        'SEX',  #Categorical Male, Female 2 \n",
    "        'RAC1P', #Categorical Recoded detailed race code, 9 categories here 1)White ... 9\n",
    "    ],\n",
    "    target='PINCP',\n",
    "    group = 'RAC1P', #ignore this flag\n",
    "    preprocess=folktables.adult_filter, # age of householder > 16, etc.., see acs.py in folktables\n",
    "    postprocess=lambda x: np.nan_to_num(x, -1),\n",
    ") #default ACSIncome Pull above\n",
    "\n",
    "# random.seed(42) not shuffling, state wise round robin, kind of non-stochastic setting\n",
    "# random.shuffle(state_list)\n",
    "print('Selected states: ', state_list)\n",
    "data_source = ACSDataSource(survey_year='2021', horizon='1-Year', survey='person')\n",
    "acs_data = data_source.get_data(state_list, download=True)"
   ]
  },
  {
   "cell_type": "code",
   "execution_count": 20,
   "metadata": {},
   "outputs": [],
   "source": [
    "X, y, gr = ACSIncome.df_to_pandas(acs_data)\n",
    "dataset = pd.concat([X, y], axis=1)"
   ]
  },
  {
   "cell_type": "code",
   "execution_count": 21,
   "metadata": {},
   "outputs": [
    {
     "data": {
      "text/html": [
       "<div>\n",
       "<style scoped>\n",
       "    .dataframe tbody tr th:only-of-type {\n",
       "        vertical-align: middle;\n",
       "    }\n",
       "\n",
       "    .dataframe tbody tr th {\n",
       "        vertical-align: top;\n",
       "    }\n",
       "\n",
       "    .dataframe thead th {\n",
       "        text-align: right;\n",
       "    }\n",
       "</style>\n",
       "<table border=\"1\" class=\"dataframe\">\n",
       "  <thead>\n",
       "    <tr style=\"text-align: right;\">\n",
       "      <th></th>\n",
       "      <th>AGEP</th>\n",
       "      <th>COW</th>\n",
       "      <th>SCHL</th>\n",
       "      <th>MAR</th>\n",
       "      <th>OCCP</th>\n",
       "      <th>WKHP</th>\n",
       "      <th>SEX</th>\n",
       "      <th>RAC1P</th>\n",
       "      <th>PINCP</th>\n",
       "    </tr>\n",
       "  </thead>\n",
       "  <tbody>\n",
       "    <tr>\n",
       "      <th>0</th>\n",
       "      <td>19.0</td>\n",
       "      <td>2.0</td>\n",
       "      <td>18.0</td>\n",
       "      <td>5.0</td>\n",
       "      <td>4760.0</td>\n",
       "      <td>30.0</td>\n",
       "      <td>2.0</td>\n",
       "      <td>1.0</td>\n",
       "      <td>8000.0</td>\n",
       "    </tr>\n",
       "    <tr>\n",
       "      <th>1</th>\n",
       "      <td>20.0</td>\n",
       "      <td>1.0</td>\n",
       "      <td>19.0</td>\n",
       "      <td>5.0</td>\n",
       "      <td>4640.0</td>\n",
       "      <td>40.0</td>\n",
       "      <td>1.0</td>\n",
       "      <td>2.0</td>\n",
       "      <td>6300.0</td>\n",
       "    </tr>\n",
       "    <tr>\n",
       "      <th>2</th>\n",
       "      <td>19.0</td>\n",
       "      <td>2.0</td>\n",
       "      <td>18.0</td>\n",
       "      <td>5.0</td>\n",
       "      <td>5240.0</td>\n",
       "      <td>18.0</td>\n",
       "      <td>2.0</td>\n",
       "      <td>1.0</td>\n",
       "      <td>6200.0</td>\n",
       "    </tr>\n",
       "    <tr>\n",
       "      <th>3</th>\n",
       "      <td>34.0</td>\n",
       "      <td>2.0</td>\n",
       "      <td>19.0</td>\n",
       "      <td>3.0</td>\n",
       "      <td>4220.0</td>\n",
       "      <td>6.0</td>\n",
       "      <td>2.0</td>\n",
       "      <td>1.0</td>\n",
       "      <td>10800.0</td>\n",
       "    </tr>\n",
       "    <tr>\n",
       "      <th>4</th>\n",
       "      <td>19.0</td>\n",
       "      <td>1.0</td>\n",
       "      <td>18.0</td>\n",
       "      <td>5.0</td>\n",
       "      <td>2722.0</td>\n",
       "      <td>10.0</td>\n",
       "      <td>1.0</td>\n",
       "      <td>1.0</td>\n",
       "      <td>2000.0</td>\n",
       "    </tr>\n",
       "    <tr>\n",
       "      <th>...</th>\n",
       "      <td>...</td>\n",
       "      <td>...</td>\n",
       "      <td>...</td>\n",
       "      <td>...</td>\n",
       "      <td>...</td>\n",
       "      <td>...</td>\n",
       "      <td>...</td>\n",
       "      <td>...</td>\n",
       "      <td>...</td>\n",
       "    </tr>\n",
       "    <tr>\n",
       "      <th>1630162</th>\n",
       "      <td>40.0</td>\n",
       "      <td>1.0</td>\n",
       "      <td>21.0</td>\n",
       "      <td>5.0</td>\n",
       "      <td>1430.0</td>\n",
       "      <td>40.0</td>\n",
       "      <td>2.0</td>\n",
       "      <td>9.0</td>\n",
       "      <td>80000.0</td>\n",
       "    </tr>\n",
       "    <tr>\n",
       "      <th>1630163</th>\n",
       "      <td>47.0</td>\n",
       "      <td>2.0</td>\n",
       "      <td>22.0</td>\n",
       "      <td>1.0</td>\n",
       "      <td>2205.0</td>\n",
       "      <td>40.0</td>\n",
       "      <td>1.0</td>\n",
       "      <td>9.0</td>\n",
       "      <td>60000.0</td>\n",
       "    </tr>\n",
       "    <tr>\n",
       "      <th>1630164</th>\n",
       "      <td>46.0</td>\n",
       "      <td>4.0</td>\n",
       "      <td>21.0</td>\n",
       "      <td>1.0</td>\n",
       "      <td>5740.0</td>\n",
       "      <td>40.0</td>\n",
       "      <td>2.0</td>\n",
       "      <td>9.0</td>\n",
       "      <td>18600.0</td>\n",
       "    </tr>\n",
       "    <tr>\n",
       "      <th>1630165</th>\n",
       "      <td>22.0</td>\n",
       "      <td>6.0</td>\n",
       "      <td>21.0</td>\n",
       "      <td>5.0</td>\n",
       "      <td>2634.0</td>\n",
       "      <td>30.0</td>\n",
       "      <td>1.0</td>\n",
       "      <td>9.0</td>\n",
       "      <td>12200.0</td>\n",
       "    </tr>\n",
       "    <tr>\n",
       "      <th>1630166</th>\n",
       "      <td>56.0</td>\n",
       "      <td>2.0</td>\n",
       "      <td>21.0</td>\n",
       "      <td>1.0</td>\n",
       "      <td>2300.0</td>\n",
       "      <td>40.0</td>\n",
       "      <td>2.0</td>\n",
       "      <td>2.0</td>\n",
       "      <td>27700.0</td>\n",
       "    </tr>\n",
       "  </tbody>\n",
       "</table>\n",
       "<p>1630167 rows × 9 columns</p>\n",
       "</div>"
      ],
      "text/plain": [
       "         AGEP  COW  SCHL  MAR    OCCP  WKHP  SEX  RAC1P    PINCP\n",
       "0        19.0  2.0  18.0  5.0  4760.0  30.0  2.0    1.0   8000.0\n",
       "1        20.0  1.0  19.0  5.0  4640.0  40.0  1.0    2.0   6300.0\n",
       "2        19.0  2.0  18.0  5.0  5240.0  18.0  2.0    1.0   6200.0\n",
       "3        34.0  2.0  19.0  3.0  4220.0   6.0  2.0    1.0  10800.0\n",
       "4        19.0  1.0  18.0  5.0  2722.0  10.0  1.0    1.0   2000.0\n",
       "...       ...  ...   ...  ...     ...   ...  ...    ...      ...\n",
       "1630162  40.0  1.0  21.0  5.0  1430.0  40.0  2.0    9.0  80000.0\n",
       "1630163  47.0  2.0  22.0  1.0  2205.0  40.0  1.0    9.0  60000.0\n",
       "1630164  46.0  4.0  21.0  1.0  5740.0  40.0  2.0    9.0  18600.0\n",
       "1630165  22.0  6.0  21.0  5.0  2634.0  30.0  1.0    9.0  12200.0\n",
       "1630166  56.0  2.0  21.0  1.0  2300.0  40.0  2.0    2.0  27700.0\n",
       "\n",
       "[1630167 rows x 9 columns]"
      ]
     },
     "execution_count": 21,
     "metadata": {},
     "output_type": "execute_result"
    }
   ],
   "source": [
    "dataset"
   ]
  },
  {
   "cell_type": "code",
   "execution_count": 22,
   "metadata": {},
   "outputs": [],
   "source": [
    "#important to explicity define columns with categoricals as ints to index properly into them\n",
    "dataset['COW'] = dataset['COW'].astype(int)\n",
    "dataset['SCHL'] = dataset['SCHL'].astype(int)\n",
    "dataset['MAR'] = dataset['MAR'].astype(int)\n",
    "dataset['OCCP'] = dataset['OCCP'].astype(int)\n",
    "dataset['SEX'] = dataset['SEX'].astype(int)\n",
    "dataset['RAC1P'] = dataset['RAC1P'].astype(int)"
   ]
  },
  {
   "cell_type": "code",
   "execution_count": 23,
   "metadata": {},
   "outputs": [
    {
     "name": "stdout",
     "output_type": "stream",
     "text": [
      "0.8761574734367706\n"
     ]
    }
   ],
   "source": [
    "data_incomeless200k = dataset[dataset['PINCP'] <= 2e5]\n",
    "top_200OCCP = dataset['OCCP'].value_counts()[:250].index.tolist() # top 200 occupation codes in the original dataframe\n",
    "data_fil = data_incomeless200k[data_incomeless200k['OCCP'].isin(top_200OCCP)]\n",
    "print(len(data_fil) / len(dataset)) #top200 occp codes and <= 200k is 83 % of original dataset"
   ]
  },
  {
   "cell_type": "code",
   "execution_count": 24,
   "metadata": {},
   "outputs": [],
   "source": [
    "from sklearn.model_selection import train_test_split\n",
    "\n",
    "df_fil_train, df_fil_test = train_test_split(data_fil, test_size=0.2)\n",
    "\n",
    "# df_fil_train, df_fil_test\n",
    "# len(df_fil_train)/ (len(df_fil_train) + len(df_fil_test)) "
   ]
  },
  {
   "cell_type": "code",
   "execution_count": 25,
   "metadata": {},
   "outputs": [
    {
     "name": "stderr",
     "output_type": "stream",
     "text": [
      "/Users/krisacha/anaconda3/envs/multigroup/lib/python3.11/site-packages/sklearn/utils/validation.py:1184: DataConversionWarning: A column-vector y was passed when a 1d array was expected. Please change the shape of y to (n_samples, ), for example using ravel().\n",
      "  y = column_or_1d(y, warn=True)\n"
     ]
    },
    {
     "name": "stdout",
     "output_type": "stream",
     "text": [
      "LR score on target encoding and scaled 0.4653727277650812\n",
      "Ridge score on target encoding and scaled 0.4653727275847287\n",
      "Lasso score on target encoding and scaled 0.0\n"
     ]
    }
   ],
   "source": [
    "# target encodings followed by minmax scaling all, just using TRAIN DATA\n",
    "categorical_cols = ['COW','SCHL', 'MAR', 'OCCP', 'SEX', 'RAC1P']\n",
    "df_te, te_trfit = target_encoder2(df_fil_train, categorical_cols, ['PINCP']) # returns modified dataframe as well as target encoder object which has learnt the transformation\n",
    "df_te_scaled = numeric_scaler(df_te, df_te.columns)\n",
    "\n",
    "# df_te_scaled.head()\n",
    "\n",
    "X_dat_te_scaled = df_te_scaled.drop('PINCP', axis=1) #dropping the income column\n",
    "y_dat_te_scaled = pd.DataFrame(df_te_scaled['PINCP']) # picking up only the income column for the target\n",
    "\n",
    "model_lr_te_scaled = LinearRegression(n_jobs = -1)\n",
    "model_lr_te_scaled.fit(X_dat_te_scaled, y_dat_te_scaled)\n",
    "print(f\"LR score on target encoding and scaled {model_lr_te_scaled.score(X_dat_te_scaled, y_dat_te_scaled)}\")\n",
    "\n",
    "model_ridge_te_scaled = Ridge()\n",
    "model_ridge_te_scaled.fit(X_dat_te_scaled, y_dat_te_scaled)\n",
    "print(f\"Ridge score on target encoding and scaled {model_ridge_te_scaled.score(X_dat_te_scaled, y_dat_te_scaled)}\")\n",
    "\n",
    "model_lasso_te_scaled = Lasso() # kinda garbage , all zeros for weight?\n",
    "model_lasso_te_scaled.fit(X_dat_te_scaled, y_dat_te_scaled)\n",
    "print(f\"Lasso score on target encoding and scaled {model_lasso_te_scaled.score(X_dat_te_scaled, y_dat_te_scaled)}\")\n",
    "\n",
    "#TODO try r2 scores on some unseen data, using transform, dont do fit transform from target_encoder!"
   ]
  },
  {
   "cell_type": "code",
   "execution_count": 27,
   "metadata": {},
   "outputs": [
    {
     "name": "stdout",
     "output_type": "stream",
     "text": [
      "LR score on target encoding and scaled 0.467176028215171\n"
     ]
    }
   ],
   "source": [
    "df_te_test = df_fil_test.copy()\n",
    "df_te_test[categorical_cols] = te_trfit.transform(df_te_test[categorical_cols]) # using target encoder fitted on df_fil_train\n",
    "df_test_te_scaled = numeric_scaler(df_te_test, df_te_test.columns)\n",
    "\n",
    "X_dat_test_te_scaled = df_test_te_scaled.drop('PINCP', axis=1) #dropping the income column\n",
    "y_dat_test_te_scaled = pd.DataFrame(df_test_te_scaled['PINCP']) # picking up only the income column for the target\n",
    "\n",
    "model_lr_test_te_scaled = LinearRegression(n_jobs = -1)\n",
    "model_lr_test_te_scaled.fit(X_dat_test_te_scaled, y_dat_test_te_scaled)\n",
    "print(f\"LR score on target encoding and scaled {model_lr_test_te_scaled.score(X_dat_test_te_scaled, y_dat_test_te_scaled)}\") #good r2 score on test too!\n"
   ]
  },
  {
   "cell_type": "code",
   "execution_count": 28,
   "metadata": {},
   "outputs": [
    {
     "name": "stdout",
     "output_type": "stream",
     "text": [
      "[0.15660462 0.06549668 0.15930907 0.03209593 0.37422045 0.34143182\n",
      " 0.03687878 0.02491026]\n"
     ]
    },
    {
     "data": {
      "image/png": "[encoded data removed]",
      "text/plain": [
       "<Figure size 640x480 with 1 Axes>"
      ]
     },
     "metadata": {},
     "output_type": "display_data"
    }
   ],
   "source": [
    "#plotting weights of the Linear regression model\n",
    "print(model_lr_test_te_scaled.coef_.ravel())\n",
    "coefs = pd.DataFrame(\n",
    "    model_lr_test_te_scaled.coef_.ravel(), columns=[\"Coefficients\"], index=X_dat_test_te_scaled.columns\n",
    ")\n",
    "\n",
    "# most important seem to be OCCP, WKHP, SCHL, AGEP, COW\n",
    "coefs.plot(kind=\"barh\")\n",
    "plt.title(\"Ridge model\")\n",
    "plt.axvline(x=0, color=\".5\")\n",
    "plt.subplots_adjust(left=0.3)\n"
   ]
  },
  {
   "cell_type": "code",
   "execution_count": 126,
   "metadata": {},
   "outputs": [
    {
     "data": {
      "text/html": [
       "<div>\n",
       "<style scoped>\n",
       "    .dataframe tbody tr th:only-of-type {\n",
       "        vertical-align: middle;\n",
       "    }\n",
       "\n",
       "    .dataframe tbody tr th {\n",
       "        vertical-align: top;\n",
       "    }\n",
       "\n",
       "    .dataframe thead th {\n",
       "        text-align: right;\n",
       "    }\n",
       "</style>\n",
       "<table border=\"1\" class=\"dataframe\">\n",
       "  <thead>\n",
       "    <tr style=\"text-align: right;\">\n",
       "      <th></th>\n",
       "      <th>AGEP</th>\n",
       "      <th>COW</th>\n",
       "      <th>SCHL</th>\n",
       "      <th>MAR</th>\n",
       "      <th>OCCP</th>\n",
       "      <th>WKHP</th>\n",
       "      <th>SEX</th>\n",
       "      <th>RAC1P</th>\n",
       "      <th>PINCP</th>\n",
       "    </tr>\n",
       "  </thead>\n",
       "  <tbody>\n",
       "    <tr>\n",
       "      <th>1139538</th>\n",
       "      <td>0.217949</td>\n",
       "      <td>0.570100</td>\n",
       "      <td>0.982866</td>\n",
       "      <td>0.000000</td>\n",
       "      <td>0.485006</td>\n",
       "      <td>0.397959</td>\n",
       "      <td>0.0</td>\n",
       "      <td>0.721492</td>\n",
       "      <td>0.254090</td>\n",
       "    </tr>\n",
       "    <tr>\n",
       "      <th>310829</th>\n",
       "      <td>0.243590</td>\n",
       "      <td>0.570100</td>\n",
       "      <td>0.255286</td>\n",
       "      <td>0.000000</td>\n",
       "      <td>0.057917</td>\n",
       "      <td>0.214286</td>\n",
       "      <td>1.0</td>\n",
       "      <td>0.721492</td>\n",
       "      <td>0.057982</td>\n",
       "    </tr>\n",
       "    <tr>\n",
       "      <th>204117</th>\n",
       "      <td>0.448718</td>\n",
       "      <td>0.570100</td>\n",
       "      <td>0.303277</td>\n",
       "      <td>0.696557</td>\n",
       "      <td>0.536642</td>\n",
       "      <td>0.551020</td>\n",
       "      <td>1.0</td>\n",
       "      <td>0.721492</td>\n",
       "      <td>0.349642</td>\n",
       "    </tr>\n",
       "    <tr>\n",
       "      <th>1074027</th>\n",
       "      <td>0.679487</td>\n",
       "      <td>0.570100</td>\n",
       "      <td>0.812543</td>\n",
       "      <td>0.696557</td>\n",
       "      <td>0.317940</td>\n",
       "      <td>0.448980</td>\n",
       "      <td>1.0</td>\n",
       "      <td>0.165465</td>\n",
       "      <td>0.958977</td>\n",
       "    </tr>\n",
       "    <tr>\n",
       "      <th>452676</th>\n",
       "      <td>0.500000</td>\n",
       "      <td>0.570100</td>\n",
       "      <td>0.411967</td>\n",
       "      <td>1.000000</td>\n",
       "      <td>0.503323</td>\n",
       "      <td>0.397959</td>\n",
       "      <td>0.0</td>\n",
       "      <td>0.721492</td>\n",
       "      <td>0.524739</td>\n",
       "    </tr>\n",
       "    <tr>\n",
       "      <th>...</th>\n",
       "      <td>...</td>\n",
       "      <td>...</td>\n",
       "      <td>...</td>\n",
       "      <td>...</td>\n",
       "      <td>...</td>\n",
       "      <td>...</td>\n",
       "      <td>...</td>\n",
       "      <td>...</td>\n",
       "      <td>...</td>\n",
       "    </tr>\n",
       "    <tr>\n",
       "      <th>810867</th>\n",
       "      <td>0.512821</td>\n",
       "      <td>0.862932</td>\n",
       "      <td>0.411967</td>\n",
       "      <td>1.000000</td>\n",
       "      <td>0.815653</td>\n",
       "      <td>0.602041</td>\n",
       "      <td>1.0</td>\n",
       "      <td>0.721492</td>\n",
       "      <td>1.000000</td>\n",
       "    </tr>\n",
       "    <tr>\n",
       "      <th>235738</th>\n",
       "      <td>0.512821</td>\n",
       "      <td>0.570100</td>\n",
       "      <td>0.303277</td>\n",
       "      <td>1.000000</td>\n",
       "      <td>0.574038</td>\n",
       "      <td>0.061224</td>\n",
       "      <td>0.0</td>\n",
       "      <td>0.721492</td>\n",
       "      <td>0.013958</td>\n",
       "    </tr>\n",
       "    <tr>\n",
       "      <th>1540486</th>\n",
       "      <td>0.589744</td>\n",
       "      <td>0.653125</td>\n",
       "      <td>0.640085</td>\n",
       "      <td>1.000000</td>\n",
       "      <td>0.468525</td>\n",
       "      <td>0.234694</td>\n",
       "      <td>0.0</td>\n",
       "      <td>0.721492</td>\n",
       "      <td>0.509730</td>\n",
       "    </tr>\n",
       "    <tr>\n",
       "      <th>1061370</th>\n",
       "      <td>0.166667</td>\n",
       "      <td>0.570100</td>\n",
       "      <td>0.303277</td>\n",
       "      <td>1.000000</td>\n",
       "      <td>0.685173</td>\n",
       "      <td>0.397959</td>\n",
       "      <td>1.0</td>\n",
       "      <td>0.721492</td>\n",
       "      <td>0.202061</td>\n",
       "    </tr>\n",
       "    <tr>\n",
       "      <th>1045124</th>\n",
       "      <td>0.051282</td>\n",
       "      <td>0.570100</td>\n",
       "      <td>0.268890</td>\n",
       "      <td>0.000000</td>\n",
       "      <td>0.193522</td>\n",
       "      <td>0.193878</td>\n",
       "      <td>1.0</td>\n",
       "      <td>0.721492</td>\n",
       "      <td>0.024463</td>\n",
       "    </tr>\n",
       "  </tbody>\n",
       "</table>\n",
       "<p>285657 rows × 9 columns</p>\n",
       "</div>"
      ],
      "text/plain": [
       "             AGEP       COW      SCHL       MAR      OCCP      WKHP  SEX  \\\n",
       "1139538  0.217949  0.570100  0.982866  0.000000  0.485006  0.397959  0.0   \n",
       "310829   0.243590  0.570100  0.255286  0.000000  0.057917  0.214286  1.0   \n",
       "204117   0.448718  0.570100  0.303277  0.696557  0.536642  0.551020  1.0   \n",
       "1074027  0.679487  0.570100  0.812543  0.696557  0.317940  0.448980  1.0   \n",
       "452676   0.500000  0.570100  0.411967  1.000000  0.503323  0.397959  0.0   \n",
       "...           ...       ...       ...       ...       ...       ...  ...   \n",
       "810867   0.512821  0.862932  0.411967  1.000000  0.815653  0.602041  1.0   \n",
       "235738   0.512821  0.570100  0.303277  1.000000  0.574038  0.061224  0.0   \n",
       "1540486  0.589744  0.653125  0.640085  1.000000  0.468525  0.234694  0.0   \n",
       "1061370  0.166667  0.570100  0.303277  1.000000  0.685173  0.397959  1.0   \n",
       "1045124  0.051282  0.570100  0.268890  0.000000  0.193522  0.193878  1.0   \n",
       "\n",
       "            RAC1P     PINCP  \n",
       "1139538  0.721492  0.254090  \n",
       "310829   0.721492  0.057982  \n",
       "204117   0.721492  0.349642  \n",
       "1074027  0.165465  0.958977  \n",
       "452676   0.721492  0.524739  \n",
       "...           ...       ...  \n",
       "810867   0.721492  1.000000  \n",
       "235738   0.721492  0.013958  \n",
       "1540486  0.721492  0.509730  \n",
       "1061370  0.721492  0.202061  \n",
       "1045124  0.721492  0.024463  \n",
       "\n",
       "[285657 rows x 9 columns]"
      ]
     },
     "execution_count": 126,
     "metadata": {},
     "output_type": "execute_result"
    }
   ],
   "source": [
    "df_test_te_scaled"
   ]
  },
  {
   "cell_type": "code",
   "execution_count": null,
   "metadata": {},
   "outputs": [],
   "source": [
    "te_trfit.transform()"
   ]
  },
  {
   "cell_type": "code",
   "execution_count": 73,
   "metadata": {},
   "outputs": [
    {
     "data": {
      "text/plain": [
       "0.37049427559931525"
      ]
     },
     "execution_count": 73,
     "metadata": {},
     "output_type": "execute_result"
    }
   ],
   "source": [
    "X_dat_acs = data_fil.drop('PINCP', axis=1) #dropping the income column\n",
    "y_dat_acs = pd.DataFrame(data_fil['PINCP']) # picking up only the income column for the target\n",
    "# just using the default encodings given in dataset, NOT Even scaled\n",
    "model_lr_acs = LinearRegression(n_jobs = -1) # use all cores to build model\n",
    "model_lr_acs.fit(X_dat_acs, y_dat_acs)\n",
    "model_lr_acs.score(X_dat_acs, y_dat_acs)"
   ]
  },
  {
   "cell_type": "code",
   "execution_count": 74,
   "metadata": {},
   "outputs": [
    {
     "data": {
      "text/plain": [
       "0.3704942755993147"
      ]
     },
     "execution_count": 74,
     "metadata": {},
     "output_type": "execute_result"
    }
   ],
   "source": [
    "# scaling all og encodings of acs using numeric scaler, almost same r2 score as above\n",
    "df_acsencodings_scaled = numeric_scaler(data_fil, data_fil.columns)\n",
    "X_dat_acs_scaled = df_acsencodings_scaled.drop('PINCP', axis=1) #dropping the income column\n",
    "y_dat_acs_scaled = pd.DataFrame(df_acsencodings_scaled['PINCP']) # picking up only the income column for the target\n",
    "\n",
    "model_lr_acs_scaled = LinearRegression(n_jobs = -1)\n",
    "model_lr_acs_scaled.fit(X_dat_acs_scaled, y_dat_acs_scaled)\n",
    "model_lr_acs_scaled.score(X_dat_acs_scaled, y_dat_acs_scaled)"
   ]
  },
  {
   "cell_type": "code",
   "execution_count": 75,
   "metadata": {},
   "outputs": [
    {
     "data": {
      "text/plain": [
       "0.37505966799974755"
      ]
     },
     "execution_count": 75,
     "metadata": {},
     "output_type": "execute_result"
    }
   ],
   "source": [
    "# ordinal encoding of categoric followed by minmax scaling of all columns\n",
    "# using ordinal encodings for categorical, then minmax scaling all, not principled but anyway.., minute bump in r2 score\n",
    "categorical_cols = ['COW','SCHL', 'MAR', 'OCCP', 'SEX', 'RAC1P']\n",
    "df_ordinal = ordinal_encoder(data_fil, categorical_cols)\n",
    "df_ordinal_scaled = numeric_scaler(df_ordinal, df_ordinal.columns) # scaling all columns here\n",
    "\n",
    "X_dat_ord_allscaled = df_ordinal_scaled.drop('PINCP', axis=1) #dropping the income column\n",
    "y_dat_ord_allscaled = pd.DataFrame(df_ordinal_scaled['PINCP']) # picking up only the income column for the target\n",
    "\n",
    "\n",
    "model_lr_ordinal_allscaled = LinearRegression(n_jobs = -1)\n",
    "model_lr_ordinal_allscaled.fit(X_dat_ord_allscaled, y_dat_ord_allscaled)\n",
    "model_lr_ordinal_allscaled.score(X_dat_ord_allscaled, y_dat_ord_allscaled)"
   ]
  },
  {
   "cell_type": "code",
   "execution_count": 102,
   "metadata": {},
   "outputs": [
    {
     "data": {
      "text/html": [
       "<div>\n",
       "<style scoped>\n",
       "    .dataframe tbody tr th:only-of-type {\n",
       "        vertical-align: middle;\n",
       "    }\n",
       "\n",
       "    .dataframe tbody tr th {\n",
       "        vertical-align: top;\n",
       "    }\n",
       "\n",
       "    .dataframe thead th {\n",
       "        text-align: right;\n",
       "    }\n",
       "</style>\n",
       "<table border=\"1\" class=\"dataframe\">\n",
       "  <thead>\n",
       "    <tr style=\"text-align: right;\">\n",
       "      <th></th>\n",
       "      <th>AGEP</th>\n",
       "      <th>COW</th>\n",
       "      <th>SCHL</th>\n",
       "      <th>MAR</th>\n",
       "      <th>OCCP</th>\n",
       "      <th>WKHP</th>\n",
       "      <th>SEX</th>\n",
       "      <th>RAC1P</th>\n",
       "      <th>PINCP</th>\n",
       "    </tr>\n",
       "  </thead>\n",
       "  <tbody>\n",
       "    <tr>\n",
       "      <th>0</th>\n",
       "      <td>19.0</td>\n",
       "      <td>2</td>\n",
       "      <td>18</td>\n",
       "      <td>5</td>\n",
       "      <td>4760</td>\n",
       "      <td>30.0</td>\n",
       "      <td>2</td>\n",
       "      <td>1</td>\n",
       "      <td>8000.0</td>\n",
       "    </tr>\n",
       "    <tr>\n",
       "      <th>1</th>\n",
       "      <td>20.0</td>\n",
       "      <td>1</td>\n",
       "      <td>19</td>\n",
       "      <td>5</td>\n",
       "      <td>4640</td>\n",
       "      <td>40.0</td>\n",
       "      <td>1</td>\n",
       "      <td>2</td>\n",
       "      <td>6300.0</td>\n",
       "    </tr>\n",
       "    <tr>\n",
       "      <th>2</th>\n",
       "      <td>19.0</td>\n",
       "      <td>2</td>\n",
       "      <td>18</td>\n",
       "      <td>5</td>\n",
       "      <td>5240</td>\n",
       "      <td>18.0</td>\n",
       "      <td>2</td>\n",
       "      <td>1</td>\n",
       "      <td>6200.0</td>\n",
       "    </tr>\n",
       "    <tr>\n",
       "      <th>3</th>\n",
       "      <td>34.0</td>\n",
       "      <td>2</td>\n",
       "      <td>19</td>\n",
       "      <td>3</td>\n",
       "      <td>4220</td>\n",
       "      <td>6.0</td>\n",
       "      <td>2</td>\n",
       "      <td>1</td>\n",
       "      <td>10800.0</td>\n",
       "    </tr>\n",
       "    <tr>\n",
       "      <th>4</th>\n",
       "      <td>19.0</td>\n",
       "      <td>1</td>\n",
       "      <td>18</td>\n",
       "      <td>5</td>\n",
       "      <td>2722</td>\n",
       "      <td>10.0</td>\n",
       "      <td>1</td>\n",
       "      <td>1</td>\n",
       "      <td>2000.0</td>\n",
       "    </tr>\n",
       "    <tr>\n",
       "      <th>...</th>\n",
       "      <td>...</td>\n",
       "      <td>...</td>\n",
       "      <td>...</td>\n",
       "      <td>...</td>\n",
       "      <td>...</td>\n",
       "      <td>...</td>\n",
       "      <td>...</td>\n",
       "      <td>...</td>\n",
       "      <td>...</td>\n",
       "    </tr>\n",
       "    <tr>\n",
       "      <th>1630162</th>\n",
       "      <td>40.0</td>\n",
       "      <td>1</td>\n",
       "      <td>21</td>\n",
       "      <td>5</td>\n",
       "      <td>1430</td>\n",
       "      <td>40.0</td>\n",
       "      <td>2</td>\n",
       "      <td>9</td>\n",
       "      <td>80000.0</td>\n",
       "    </tr>\n",
       "    <tr>\n",
       "      <th>1630163</th>\n",
       "      <td>47.0</td>\n",
       "      <td>2</td>\n",
       "      <td>22</td>\n",
       "      <td>1</td>\n",
       "      <td>2205</td>\n",
       "      <td>40.0</td>\n",
       "      <td>1</td>\n",
       "      <td>9</td>\n",
       "      <td>60000.0</td>\n",
       "    </tr>\n",
       "    <tr>\n",
       "      <th>1630164</th>\n",
       "      <td>46.0</td>\n",
       "      <td>4</td>\n",
       "      <td>21</td>\n",
       "      <td>1</td>\n",
       "      <td>5740</td>\n",
       "      <td>40.0</td>\n",
       "      <td>2</td>\n",
       "      <td>9</td>\n",
       "      <td>18600.0</td>\n",
       "    </tr>\n",
       "    <tr>\n",
       "      <th>1630165</th>\n",
       "      <td>22.0</td>\n",
       "      <td>6</td>\n",
       "      <td>21</td>\n",
       "      <td>5</td>\n",
       "      <td>2634</td>\n",
       "      <td>30.0</td>\n",
       "      <td>1</td>\n",
       "      <td>9</td>\n",
       "      <td>12200.0</td>\n",
       "    </tr>\n",
       "    <tr>\n",
       "      <th>1630166</th>\n",
       "      <td>56.0</td>\n",
       "      <td>2</td>\n",
       "      <td>21</td>\n",
       "      <td>1</td>\n",
       "      <td>2300</td>\n",
       "      <td>40.0</td>\n",
       "      <td>2</td>\n",
       "      <td>2</td>\n",
       "      <td>27700.0</td>\n",
       "    </tr>\n",
       "  </tbody>\n",
       "</table>\n",
       "<p>1428283 rows × 9 columns</p>\n",
       "</div>"
      ],
      "text/plain": [
       "         AGEP  COW  SCHL  MAR  OCCP  WKHP  SEX  RAC1P    PINCP\n",
       "0        19.0    2    18    5  4760  30.0    2      1   8000.0\n",
       "1        20.0    1    19    5  4640  40.0    1      2   6300.0\n",
       "2        19.0    2    18    5  5240  18.0    2      1   6200.0\n",
       "3        34.0    2    19    3  4220   6.0    2      1  10800.0\n",
       "4        19.0    1    18    5  2722  10.0    1      1   2000.0\n",
       "...       ...  ...   ...  ...   ...   ...  ...    ...      ...\n",
       "1630162  40.0    1    21    5  1430  40.0    2      9  80000.0\n",
       "1630163  47.0    2    22    1  2205  40.0    1      9  60000.0\n",
       "1630164  46.0    4    21    1  5740  40.0    2      9  18600.0\n",
       "1630165  22.0    6    21    5  2634  30.0    1      9  12200.0\n",
       "1630166  56.0    2    21    1  2300  40.0    2      2  27700.0\n",
       "\n",
       "[1428283 rows x 9 columns]"
      ]
     },
     "execution_count": 102,
     "metadata": {},
     "output_type": "execute_result"
    }
   ],
   "source": [
    "data_fil"
   ]
  },
  {
   "cell_type": "code",
   "execution_count": 99,
   "metadata": {},
   "outputs": [
    {
     "name": "stderr",
     "output_type": "stream",
     "text": [
      "/Users/krisacha/anaconda3/envs/multigroup/lib/python3.11/site-packages/sklearn/utils/validation.py:1184: DataConversionWarning: A column-vector y was passed when a 1d array was expected. Please change the shape of y to (n_samples, ), for example using ravel().\n",
      "  y = column_or_1d(y, warn=True)\n"
     ]
    },
    {
     "name": "stdout",
     "output_type": "stream",
     "text": [
      "LR score on target encoding and scaled 0.4657885318923807\n",
      "Ridge score on target encoding and scaled 0.4657885317767201\n",
      "Lasso score on target encoding and scaled 0.0\n"
     ]
    }
   ],
   "source": [
    "# target encodings followed by minmax scaling all, USING Target encoder old one\n",
    "categorical_cols = ['COW','SCHL', 'MAR', 'OCCP', 'SEX', 'RAC1P']\n",
    "df_te = target_encoder(data_fil, categorical_cols, ['PINCP'])\n",
    "df_te_scaled = numeric_scaler(df_te, df_te.columns)\n",
    "\n",
    "# df_te_scaled.head()\n",
    "\n",
    "X_dat_te_scaled = df_te_scaled.drop('PINCP', axis=1) #dropping the income column\n",
    "y_dat_te_scaled = pd.DataFrame(df_te_scaled['PINCP']) # picking up only the income column for the target\n",
    "\n",
    "model_lr_te_scaled = LinearRegression(n_jobs = -1)\n",
    "model_lr_te_scaled.fit(X_dat_te_scaled, y_dat_te_scaled)\n",
    "print(f\"LR score on target encoding and scaled {model_lr_te_scaled.score(X_dat_te_scaled, y_dat_te_scaled)}\")\n",
    "\n",
    "model_ridge_te_scaled = Ridge()\n",
    "model_ridge_te_scaled.fit(X_dat_te_scaled, y_dat_te_scaled)\n",
    "print(f\"Ridge score on target encoding and scaled {model_ridge_te_scaled.score(X_dat_te_scaled, y_dat_te_scaled)}\")\n",
    "\n",
    "model_lasso_te_scaled = Lasso() # kinda garbage , all zeros for weight?\n",
    "model_lasso_te_scaled.fit(X_dat_te_scaled, y_dat_te_scaled)\n",
    "print(f\"Lasso score on target encoding and scaled {model_lasso_te_scaled.score(X_dat_te_scaled, y_dat_te_scaled)}\")\n",
    "\n",
    "#TODO try r2 scores on some unseen data, using transform, dont do fit transform from target_encoder!"
   ]
  },
  {
   "cell_type": "code",
   "execution_count": 1,
   "metadata": {},
   "outputs": [
    {
     "ename": "NameError",
     "evalue": "name 'model_lasso_te_scaled' is not defined",
     "output_type": "error",
     "traceback": [
      "\u001b[0;31m---------------------------------------------------------------------------\u001b[0m",
      "\u001b[0;31mNameError\u001b[0m                                 Traceback (most recent call last)",
      "Cell \u001b[0;32mIn[1], line 1\u001b[0m\n\u001b[0;32m----> 1\u001b[0m model_lasso_te_scaled\u001b[39m.\u001b[39mcoef_\n",
      "\u001b[0;31mNameError\u001b[0m: name 'model_lasso_te_scaled' is not defined"
     ]
    }
   ],
   "source": [
    "model_lasso_te_scaled.coef_"
   ]
  },
  {
   "cell_type": "code",
   "execution_count": 90,
   "metadata": {},
   "outputs": [
    {
     "data": {
      "text/html": [
       "<div>\n",
       "<style scoped>\n",
       "    .dataframe tbody tr th:only-of-type {\n",
       "        vertical-align: middle;\n",
       "    }\n",
       "\n",
       "    .dataframe tbody tr th {\n",
       "        vertical-align: top;\n",
       "    }\n",
       "\n",
       "    .dataframe thead th {\n",
       "        text-align: right;\n",
       "    }\n",
       "</style>\n",
       "<table border=\"1\" class=\"dataframe\">\n",
       "  <thead>\n",
       "    <tr style=\"text-align: right;\">\n",
       "      <th></th>\n",
       "      <th>AGEP</th>\n",
       "      <th>COW</th>\n",
       "      <th>SCHL</th>\n",
       "      <th>MAR</th>\n",
       "      <th>OCCP</th>\n",
       "      <th>WKHP</th>\n",
       "      <th>SEX</th>\n",
       "      <th>RAC1P</th>\n",
       "      <th>PINCP</th>\n",
       "    </tr>\n",
       "  </thead>\n",
       "  <tbody>\n",
       "    <tr>\n",
       "      <th>count</th>\n",
       "      <td>1.428283e+06</td>\n",
       "      <td>1.428283e+06</td>\n",
       "      <td>1.428283e+06</td>\n",
       "      <td>1.428283e+06</td>\n",
       "      <td>1.428283e+06</td>\n",
       "      <td>1.428283e+06</td>\n",
       "      <td>1.428283e+06</td>\n",
       "      <td>1.428283e+06</td>\n",
       "      <td>1.428283e+06</td>\n",
       "    </tr>\n",
       "    <tr>\n",
       "      <th>mean</th>\n",
       "      <td>3.318182e-01</td>\n",
       "      <td>6.010992e-01</td>\n",
       "      <td>4.396685e-01</td>\n",
       "      <td>6.171714e-01</td>\n",
       "      <td>3.493485e-01</td>\n",
       "      <td>3.744374e-01</td>\n",
       "      <td>5.047707e-01</td>\n",
       "      <td>5.979388e-01</td>\n",
       "      <td>2.533181e-01</td>\n",
       "    </tr>\n",
       "    <tr>\n",
       "      <th>std</th>\n",
       "      <td>1.956121e-01</td>\n",
       "      <td>1.176823e-01</td>\n",
       "      <td>2.325424e-01</td>\n",
       "      <td>4.521444e-01</td>\n",
       "      <td>2.028869e-01</td>\n",
       "      <td>1.310068e-01</td>\n",
       "      <td>4.972896e-01</td>\n",
       "      <td>2.647814e-01</td>\n",
       "      <td>2.037726e-01</td>\n",
       "    </tr>\n",
       "    <tr>\n",
       "      <th>min</th>\n",
       "      <td>0.000000e+00</td>\n",
       "      <td>0.000000e+00</td>\n",
       "      <td>0.000000e+00</td>\n",
       "      <td>0.000000e+00</td>\n",
       "      <td>0.000000e+00</td>\n",
       "      <td>0.000000e+00</td>\n",
       "      <td>0.000000e+00</td>\n",
       "      <td>0.000000e+00</td>\n",
       "      <td>0.000000e+00</td>\n",
       "    </tr>\n",
       "    <tr>\n",
       "      <th>25%</th>\n",
       "      <td>1.645570e-01</td>\n",
       "      <td>5.697645e-01</td>\n",
       "      <td>2.544899e-01</td>\n",
       "      <td>9.823312e-04</td>\n",
       "      <td>1.920848e-01</td>\n",
       "      <td>3.469388e-01</td>\n",
       "      <td>2.239559e-03</td>\n",
       "      <td>3.028767e-01</td>\n",
       "      <td>9.950473e-02</td>\n",
       "    </tr>\n",
       "    <tr>\n",
       "      <th>50%</th>\n",
       "      <td>3.291139e-01</td>\n",
       "      <td>5.710511e-01</td>\n",
       "      <td>3.044830e-01</td>\n",
       "      <td>9.965160e-01</td>\n",
       "      <td>3.126735e-01</td>\n",
       "      <td>3.979592e-01</td>\n",
       "      <td>9.931332e-01</td>\n",
       "      <td>7.248884e-01</td>\n",
       "      <td>1.995598e-01</td>\n",
       "    </tr>\n",
       "    <tr>\n",
       "      <th>75%</th>\n",
       "      <td>4.936709e-01</td>\n",
       "      <td>6.498886e-01</td>\n",
       "      <td>6.360905e-01</td>\n",
       "      <td>9.981073e-01</td>\n",
       "      <td>5.005458e-01</td>\n",
       "      <td>3.979592e-01</td>\n",
       "      <td>9.965252e-01</td>\n",
       "      <td>7.271626e-01</td>\n",
       "      <td>3.496423e-01</td>\n",
       "    </tr>\n",
       "    <tr>\n",
       "      <th>max</th>\n",
       "      <td>1.000000e+00</td>\n",
       "      <td>1.000000e+00</td>\n",
       "      <td>1.000000e+00</td>\n",
       "      <td>1.000000e+00</td>\n",
       "      <td>1.000000e+00</td>\n",
       "      <td>1.000000e+00</td>\n",
       "      <td>1.000000e+00</td>\n",
       "      <td>1.000000e+00</td>\n",
       "      <td>1.000000e+00</td>\n",
       "    </tr>\n",
       "  </tbody>\n",
       "</table>\n",
       "</div>"
      ],
      "text/plain": [
       "               AGEP           COW          SCHL           MAR          OCCP  \\\n",
       "count  1.428283e+06  1.428283e+06  1.428283e+06  1.428283e+06  1.428283e+06   \n",
       "mean   3.318182e-01  6.010992e-01  4.396685e-01  6.171714e-01  3.493485e-01   \n",
       "std    1.956121e-01  1.176823e-01  2.325424e-01  4.521444e-01  2.028869e-01   \n",
       "min    0.000000e+00  0.000000e+00  0.000000e+00  0.000000e+00  0.000000e+00   \n",
       "25%    1.645570e-01  5.697645e-01  2.544899e-01  9.823312e-04  1.920848e-01   \n",
       "50%    3.291139e-01  5.710511e-01  3.044830e-01  9.965160e-01  3.126735e-01   \n",
       "75%    4.936709e-01  6.498886e-01  6.360905e-01  9.981073e-01  5.005458e-01   \n",
       "max    1.000000e+00  1.000000e+00  1.000000e+00  1.000000e+00  1.000000e+00   \n",
       "\n",
       "               WKHP           SEX         RAC1P         PINCP  \n",
       "count  1.428283e+06  1.428283e+06  1.428283e+06  1.428283e+06  \n",
       "mean   3.744374e-01  5.047707e-01  5.979388e-01  2.533181e-01  \n",
       "std    1.310068e-01  4.972896e-01  2.647814e-01  2.037726e-01  \n",
       "min    0.000000e+00  0.000000e+00  0.000000e+00  0.000000e+00  \n",
       "25%    3.469388e-01  2.239559e-03  3.028767e-01  9.950473e-02  \n",
       "50%    3.979592e-01  9.931332e-01  7.248884e-01  1.995598e-01  \n",
       "75%    3.979592e-01  9.965252e-01  7.271626e-01  3.496423e-01  \n",
       "max    1.000000e+00  1.000000e+00  1.000000e+00  1.000000e+00  "
      ]
     },
     "execution_count": 90,
     "metadata": {},
     "output_type": "execute_result"
    }
   ],
   "source": [
    "df_te_scaled.describe()"
   ]
  },
  {
   "cell_type": "code",
   "execution_count": 95,
   "metadata": {},
   "outputs": [
    {
     "name": "stdout",
     "output_type": "stream",
     "text": [
      "[0.15842867 0.06435285 0.15871977 0.03247738 0.37611711 0.34215615\n",
      " 0.03670554 0.02470359]\n"
     ]
    },
    {
     "data": {
      "image/png": "[encoded data removed]",
      "text/plain": [
       "<Figure size 640x480 with 1 Axes>"
      ]
     },
     "metadata": {},
     "output_type": "display_data"
    }
   ],
   "source": [
    "#plotting weights of the Linear regression model\n",
    "print(model_lr_te_scaled.coef_.ravel())\n",
    "coefs = pd.DataFrame(\n",
    "    model_lr_te_scaled.coef_.ravel(), columns=[\"Coefficients\"], index=X_dat_te_scaled.columns\n",
    ")\n",
    "\n",
    "# most important seem to be OCCP, WKHP, SCHL, AGEP, COW\n",
    "coefs.plot(kind=\"barh\")\n",
    "plt.title(\"Ridge model\")\n",
    "plt.axvline(x=0, color=\".5\")\n",
    "plt.subplots_adjust(left=0.3)\n"
   ]
  },
  {
   "cell_type": "code",
   "execution_count": 101,
   "metadata": {},
   "outputs": [
    {
     "name": "stdout",
     "output_type": "stream",
     "text": [
      "[0.15842172 0.06455013 0.15870555 0.03247702 0.37688302 0.34214442\n",
      " 0.03668347 0.02520665]\n"
     ]
    },
    {
     "data": {
      "image/png": "[encoded data removed]",
      "text/plain": [
       "<Figure size 640x480 with 1 Axes>"
      ]
     },
     "metadata": {},
     "output_type": "display_data"
    }
   ],
   "source": [
    "#plotting weights of the Linear regression model\n",
    "print(model_ridge_te_scaled.coef_.ravel())\n",
    "coefs = pd.DataFrame(\n",
    "    model_ridge_te_scaled.coef_.ravel(), columns=[\"Coefficients\"], index=X_dat_te_scaled.columns\n",
    ")\n",
    "\n",
    "# most important seem to be OCCP, WKHP, SCHL, AGEP, COW\n",
    "coefs.plot(kind=\"barh\")\n",
    "plt.title(\"Ridge model\")\n",
    "plt.axvline(x=0, color=\".5\")\n",
    "plt.subplots_adjust(left=0.3)\n"
   ]
  },
  {
   "cell_type": "code",
   "execution_count": 78,
   "metadata": {},
   "outputs": [
    {
     "data": {
      "text/plain": [
       "AGEP     float64\n",
       "COW        int64\n",
       "SCHL       int64\n",
       "MAR        int64\n",
       "OCCP       int64\n",
       "WKHP     float64\n",
       "SEX        int64\n",
       "RAC1P      int64\n",
       "PINCP    float64\n",
       "dtype: object"
      ]
     },
     "execution_count": 78,
     "metadata": {},
     "output_type": "execute_result"
    }
   ],
   "source": [
    "data_fil.dtypes"
   ]
  },
  {
   "cell_type": "code",
   "execution_count": 57,
   "metadata": {},
   "outputs": [
    {
     "name": "stdout",
     "output_type": "stream",
     "text": [
      "Counter({20.0: 41072, 240.0: 36593, 103.0: 33898, 74.0: 32040, 156.0: 31803, 158.0: 30084, 172.0: 28305, 154.0: 26846, 245.0: 26727, 187.0: 25058, 142.0: 24088, 131.0: 20294, 247.0: 18144, 197.0: 17502, 135.0: 17494, 34.0: 17264, 43.0: 16088, 72.0: 16083, 116.0: 15378, 80.0: 15074, 75.0: 14814, 190.0: 13648, 235.0: 13416, 168.0: 13368, 6.0: 13000, 178.0: 12963, 144.0: 12518, 117.0: 12127, 143.0: 11963, 195.0: 11629, 162.0: 11558, 165.0: 11487, 0.0: 10854, 1.0: 10571, 13.0: 10163, 222.0: 10101, 70.0: 9893, 149.0: 9850, 30.0: 9579, 12.0: 9568, 155.0: 9249, 163.0: 9170, 200.0: 9131, 26.0: 8963, 132.0: 8906, 192.0: 8822, 78.0: 8790, 127.0: 8776, 134.0: 8765, 232.0: 8755, 11.0: 8529, 211.0: 8321, 15.0: 8304, 191.0: 8147, 73.0: 8099, 29.0: 8071, 126.0: 7944, 216.0: 7870, 220.0: 7518, 48.0: 7293, 147.0: 7257, 17.0: 7082, 45.0: 7030, 57.0: 6557, 180.0: 6540, 193.0: 6210, 185.0: 6053, 243.0: 5975, 5.0: 5925, 227.0: 5916, 69.0: 5829, 33.0: 5822, 112.0: 5760, 67.0: 5708, 161.0: 5650, 202.0: 5643, 159.0: 5633, 121.0: 5576, 18.0: 5516, 40.0: 5515, 2.0: 5372, 246.0: 5207, 115.0: 5128, 201.0: 5047, 164.0: 4976, 19.0: 4810, 76.0: 4736, 3.0: 4713, 71.0: 4668, 96.0: 4657, 167.0: 4508, 130.0: 4453, 53.0: 4397, 58.0: 4283, 198.0: 4272, 129.0: 4245, 214.0: 4183, 215.0: 4075, 64.0: 3967, 110.0: 3887, 228.0: 3872, 32.0: 3831, 226.0: 3789, 244.0: 3708, 133.0: 3660, 60.0: 3630, 183.0: 3590, 85.0: 3580, 124.0: 3529, 95.0: 3502, 249.0: 3448, 23.0: 3434, 38.0: 3412, 56.0: 3390, 123.0: 3386, 83.0: 3345, 42.0: 3312, 238.0: 3281, 82.0: 3253, 36.0: 3242, 241.0: 3214, 105.0: 3211, 145.0: 3202, 50.0: 3193, 212.0: 3165, 139.0: 3134, 188.0: 3092, 24.0: 3018, 10.0: 2976, 120.0: 2974, 35.0: 2940, 99.0: 2921, 186.0: 2887, 87.0: 2876, 22.0: 2840, 104.0: 2809, 62.0: 2805, 8.0: 2790, 146.0: 2771, 236.0: 2765, 77.0: 2762, 184.0: 2735, 138.0: 2725, 55.0: 2688, 54.0: 2641, 91.0: 2629, 7.0: 2619, 137.0: 2603, 170.0: 2587, 151.0: 2531, 150.0: 2478, 233.0: 2439, 148.0: 2438, 175.0: 2404, 224.0: 2404, 206.0: 2397, 128.0: 2375, 68.0: 2360, 213.0: 2342, 107.0: 2339, 79.0: 2336, 47.0: 2319, 9.0: 2303, 51.0: 2267, 219.0: 2228, 248.0: 2183, 223.0: 2168, 239.0: 2159, 140.0: 2144, 102.0: 2130, 122.0: 2081, 101.0: 2076, 209.0: 2074, 86.0: 2069, 189.0: 2064, 21.0: 2017, 113.0: 2005, 66.0: 2005, 92.0: 1985, 136.0: 1977, 106.0: 1968, 203.0: 1851, 119.0: 1824, 88.0: 1797, 28.0: 1778, 81.0: 1763, 61.0: 1742, 27.0: 1733, 59.0: 1720, 169.0: 1713, 14.0: 1708, 65.0: 1704, 181.0: 1698, 49.0: 1661, 111.0: 1647, 208.0: 1591, 160.0: 1578, 41.0: 1573, 90.0: 1569, 25.0: 1562, 207.0: 1557, 237.0: 1551, 225.0: 1512, 97.0: 1498, 98.0: 1497, 229.0: 1494, 242.0: 1492, 231.0: 1484, 173.0: 1481, 141.0: 1464, 114.0: 1459, 230.0: 1429, 52.0: 1427, 177.0: 1407, 152.0: 1392, 31.0: 1383, 171.0: 1377, 234.0: 1372, 89.0: 1370, 157.0: 1360, 179.0: 1347, 194.0: 1339, 63.0: 1337, 125.0: 1325, 176.0: 1323, 46.0: 1319, 39.0: 1308, 4.0: 1304, 93.0: 1302, 100.0: 1295, 182.0: 1285, 118.0: 1268, 153.0: 1243, 210.0: 1241, 204.0: 1233, 217.0: 1205, 199.0: 1205, 16.0: 1197, 174.0: 1196, 94.0: 1193, 109.0: 1190, 205.0: 1186, 196.0: 1185, 108.0: 1181, 84.0: 1181, 221.0: 1176, 37.0: 1174, 218.0: 1138, 166.0: 1132, 44.0: 1117})\n",
      "count    1.428283e+06\n",
      "mean     1.267574e+02\n",
      "std      7.264053e+01\n",
      "min      0.000000e+00\n",
      "25%      7.000000e+01\n",
      "50%      1.350000e+02\n",
      "75%      1.860000e+02\n",
      "max      2.490000e+02\n",
      "Name: OCCP, dtype: float64\n"
     ]
    }
   ],
   "source": [
    "from collections import Counter\n",
    "print(Counter(df_ordinal['OCCP']))\n",
    "print(df_ordinal['OCCP'].describe())"
   ]
  },
  {
   "cell_type": "code",
   "execution_count": null,
   "metadata": {},
   "outputs": [],
   "source": [
    "df_oh_check"
   ]
  },
  {
   "cell_type": "code",
   "execution_count": 14,
   "metadata": {},
   "outputs": [],
   "source": [
    "from sklearn.preprocessing import MinMaxScaler\n",
    "def numeric_scaler(df, numeric_cols):\n",
    "    '''\n",
    "    df: pandas dataframe\n",
    "    numeric_cols: (array of strings) column names for numeric variables\n",
    "\n",
    "    no return: does inplace operation\n",
    "    '''\n",
    "    numeric_scaler = MinMaxScaler()\n",
    "    df[numeric_cols] = numeric_scaler.fit_transform(df[numeric_cols])"
   ]
  },
  {
   "cell_type": "code",
   "execution_count": 15,
   "metadata": {},
   "outputs": [],
   "source": [
    "dataset_cp = dataset\n",
    "numeric_scaler(dataset_cp, dataset_cp.columns)"
   ]
  },
  {
   "cell_type": "code",
   "execution_count": 17,
   "metadata": {},
   "outputs": [],
   "source": [
    "X_dat_noh = dataset_cp.drop('PINCP', axis=1) #dropping the income column\n",
    "y_dat_noh = pd.DataFrame(dataset_cp['PINCP']) # picking up only the income column for the target"
   ]
  },
  {
   "cell_type": "code",
   "execution_count": 21,
   "metadata": {},
   "outputs": [
    {
     "data": {
      "text/plain": [
       "0.23386053772833315"
      ]
     },
     "execution_count": 21,
     "metadata": {},
     "output_type": "execute_result"
    }
   ],
   "source": [
    "model_lr_notonehot_mmscaled = LinearRegression(n_jobs = -1) # use all cores to build model\n",
    "model_lr_notonehot_mmscaled.fit(X_dat_noh, y_dat_noh)\n",
    "model_lr_notonehot_mmscaled.score(X_dat_noh, y_dat_noh)\n"
   ]
  },
  {
   "cell_type": "code",
   "execution_count": 25,
   "metadata": {},
   "outputs": [
    {
     "data": {
      "text/html": [
       "<div>\n",
       "<style scoped>\n",
       "    .dataframe tbody tr th:only-of-type {\n",
       "        vertical-align: middle;\n",
       "    }\n",
       "\n",
       "    .dataframe tbody tr th {\n",
       "        vertical-align: top;\n",
       "    }\n",
       "\n",
       "    .dataframe thead th {\n",
       "        text-align: right;\n",
       "    }\n",
       "</style>\n",
       "<table border=\"1\" class=\"dataframe\">\n",
       "  <thead>\n",
       "    <tr style=\"text-align: right;\">\n",
       "      <th></th>\n",
       "      <th>AGEP</th>\n",
       "      <th>COW</th>\n",
       "      <th>SCHL</th>\n",
       "      <th>MAR</th>\n",
       "      <th>OCCP</th>\n",
       "      <th>WKHP</th>\n",
       "      <th>SEX</th>\n",
       "      <th>RAC1P</th>\n",
       "      <th>PINCP</th>\n",
       "    </tr>\n",
       "  </thead>\n",
       "  <tbody>\n",
       "    <tr>\n",
       "      <th>0</th>\n",
       "      <td>19.0</td>\n",
       "      <td>2.0</td>\n",
       "      <td>18.0</td>\n",
       "      <td>5.0</td>\n",
       "      <td>4760.0</td>\n",
       "      <td>30.0</td>\n",
       "      <td>2.0</td>\n",
       "      <td>1.0</td>\n",
       "      <td>8000.0</td>\n",
       "    </tr>\n",
       "    <tr>\n",
       "      <th>1</th>\n",
       "      <td>20.0</td>\n",
       "      <td>1.0</td>\n",
       "      <td>19.0</td>\n",
       "      <td>5.0</td>\n",
       "      <td>4640.0</td>\n",
       "      <td>40.0</td>\n",
       "      <td>1.0</td>\n",
       "      <td>2.0</td>\n",
       "      <td>6300.0</td>\n",
       "    </tr>\n",
       "    <tr>\n",
       "      <th>2</th>\n",
       "      <td>19.0</td>\n",
       "      <td>2.0</td>\n",
       "      <td>18.0</td>\n",
       "      <td>5.0</td>\n",
       "      <td>5240.0</td>\n",
       "      <td>18.0</td>\n",
       "      <td>2.0</td>\n",
       "      <td>1.0</td>\n",
       "      <td>6200.0</td>\n",
       "    </tr>\n",
       "    <tr>\n",
       "      <th>3</th>\n",
       "      <td>34.0</td>\n",
       "      <td>2.0</td>\n",
       "      <td>19.0</td>\n",
       "      <td>3.0</td>\n",
       "      <td>4220.0</td>\n",
       "      <td>6.0</td>\n",
       "      <td>2.0</td>\n",
       "      <td>1.0</td>\n",
       "      <td>10800.0</td>\n",
       "    </tr>\n",
       "    <tr>\n",
       "      <th>4</th>\n",
       "      <td>19.0</td>\n",
       "      <td>1.0</td>\n",
       "      <td>18.0</td>\n",
       "      <td>5.0</td>\n",
       "      <td>2722.0</td>\n",
       "      <td>10.0</td>\n",
       "      <td>1.0</td>\n",
       "      <td>1.0</td>\n",
       "      <td>2000.0</td>\n",
       "    </tr>\n",
       "    <tr>\n",
       "      <th>...</th>\n",
       "      <td>...</td>\n",
       "      <td>...</td>\n",
       "      <td>...</td>\n",
       "      <td>...</td>\n",
       "      <td>...</td>\n",
       "      <td>...</td>\n",
       "      <td>...</td>\n",
       "      <td>...</td>\n",
       "      <td>...</td>\n",
       "    </tr>\n",
       "    <tr>\n",
       "      <th>1630162</th>\n",
       "      <td>40.0</td>\n",
       "      <td>1.0</td>\n",
       "      <td>21.0</td>\n",
       "      <td>5.0</td>\n",
       "      <td>1430.0</td>\n",
       "      <td>40.0</td>\n",
       "      <td>2.0</td>\n",
       "      <td>9.0</td>\n",
       "      <td>80000.0</td>\n",
       "    </tr>\n",
       "    <tr>\n",
       "      <th>1630163</th>\n",
       "      <td>47.0</td>\n",
       "      <td>2.0</td>\n",
       "      <td>22.0</td>\n",
       "      <td>1.0</td>\n",
       "      <td>2205.0</td>\n",
       "      <td>40.0</td>\n",
       "      <td>1.0</td>\n",
       "      <td>9.0</td>\n",
       "      <td>60000.0</td>\n",
       "    </tr>\n",
       "    <tr>\n",
       "      <th>1630164</th>\n",
       "      <td>46.0</td>\n",
       "      <td>4.0</td>\n",
       "      <td>21.0</td>\n",
       "      <td>1.0</td>\n",
       "      <td>5740.0</td>\n",
       "      <td>40.0</td>\n",
       "      <td>2.0</td>\n",
       "      <td>9.0</td>\n",
       "      <td>18600.0</td>\n",
       "    </tr>\n",
       "    <tr>\n",
       "      <th>1630165</th>\n",
       "      <td>22.0</td>\n",
       "      <td>6.0</td>\n",
       "      <td>21.0</td>\n",
       "      <td>5.0</td>\n",
       "      <td>2634.0</td>\n",
       "      <td>30.0</td>\n",
       "      <td>1.0</td>\n",
       "      <td>9.0</td>\n",
       "      <td>12200.0</td>\n",
       "    </tr>\n",
       "    <tr>\n",
       "      <th>1630166</th>\n",
       "      <td>56.0</td>\n",
       "      <td>2.0</td>\n",
       "      <td>21.0</td>\n",
       "      <td>1.0</td>\n",
       "      <td>2300.0</td>\n",
       "      <td>40.0</td>\n",
       "      <td>2.0</td>\n",
       "      <td>2.0</td>\n",
       "      <td>27700.0</td>\n",
       "    </tr>\n",
       "  </tbody>\n",
       "</table>\n",
       "<p>1630167 rows × 9 columns</p>\n",
       "</div>"
      ],
      "text/plain": [
       "         AGEP  COW  SCHL  MAR    OCCP  WKHP  SEX  RAC1P    PINCP\n",
       "0        19.0  2.0  18.0  5.0  4760.0  30.0  2.0    1.0   8000.0\n",
       "1        20.0  1.0  19.0  5.0  4640.0  40.0  1.0    2.0   6300.0\n",
       "2        19.0  2.0  18.0  5.0  5240.0  18.0  2.0    1.0   6200.0\n",
       "3        34.0  2.0  19.0  3.0  4220.0   6.0  2.0    1.0  10800.0\n",
       "4        19.0  1.0  18.0  5.0  2722.0  10.0  1.0    1.0   2000.0\n",
       "...       ...  ...   ...  ...     ...   ...  ...    ...      ...\n",
       "1630162  40.0  1.0  21.0  5.0  1430.0  40.0  2.0    9.0  80000.0\n",
       "1630163  47.0  2.0  22.0  1.0  2205.0  40.0  1.0    9.0  60000.0\n",
       "1630164  46.0  4.0  21.0  1.0  5740.0  40.0  2.0    9.0  18600.0\n",
       "1630165  22.0  6.0  21.0  5.0  2634.0  30.0  1.0    9.0  12200.0\n",
       "1630166  56.0  2.0  21.0  1.0  2300.0  40.0  2.0    2.0  27700.0\n",
       "\n",
       "[1630167 rows x 9 columns]"
      ]
     },
     "execution_count": 25,
     "metadata": {},
     "output_type": "execute_result"
    }
   ],
   "source": [
    "dataset"
   ]
  },
  {
   "cell_type": "code",
   "execution_count": 26,
   "metadata": {},
   "outputs": [],
   "source": [
    "X_dat_noh = dataset_cp.drop('PINCP', axis=1) #dropping the income column\n",
    "y_dat_noh = pd.DataFrame(dataset_cp['PINCP']) # picking up only the income column for the target"
   ]
  }
 ],
 "metadata": {
  "kernelspec": {
   "display_name": "bb",
   "language": "python",
   "name": "bb"
  },
  "language_info": {
   "codemirror_mode": {
    "name": "ipython",
    "version": 3
   },
   "file_extension": ".py",
   "mimetype": "text/x-python",
   "name": "python",
   "nbconvert_exporter": "python",
   "pygments_lexer": "ipython3",
   "version": "3.10.6"
  }
 },
 "nbformat": 4,
 "nbformat_minor": 4
}
