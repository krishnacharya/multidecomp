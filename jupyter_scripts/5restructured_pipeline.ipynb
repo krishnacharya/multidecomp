{
 "cells": [
  {
   "cell_type": "code",
   "execution_count": 1,
   "metadata": {},
   "outputs": [],
   "source": [
    "import os\n",
    "os.chdir('..')"
   ]
  },
  {
   "cell_type": "code",
   "execution_count": 2,
   "metadata": {},
   "outputs": [],
   "source": [
    "import pandas as pd\n",
    "import numpy as np"
   ]
  },
  {
   "cell_type": "code",
   "execution_count": 3,
   "metadata": {},
   "outputs": [
    {
     "name": "stdout",
     "output_type": "stream",
     "text": [
      "/home/jupyter-kriach/md_github_lat/multigroupcode/multigroup-code\n"
     ]
    }
   ],
   "source": [
    "!pwd"
   ]
  },
  {
   "cell_type": "code",
   "execution_count": 4,
   "metadata": {},
   "outputs": [],
   "source": [
    "from bilevel.build_all_models import *\n",
    "from bilevel.OnlineLinearExpert import OnlineLinearExpert\n",
    "from bilevel.OnlineTreeExpert import OnlineHoeffdingTree\n",
    "from bilevel.utils import ordinal_encoder"
   ]
  },
  {
   "cell_type": "markdown",
   "metadata": {},
   "source": [
    "## 1a ridge implementable validate"
   ]
  },
  {
   "cell_type": "code",
   "execution_count": 7,
   "metadata": {},
   "outputs": [],
   "source": [
    "A_t = np.load('./data_frames/nparrays/acsog_allstates2021_20230808-095906_unshuffled__undropped_.npy')"
   ]
  },
  {
   "cell_type": "code",
   "execution_count": 8,
   "metadata": {},
   "outputs": [],
   "source": [
    "df_oh = pd.read_pickle('./data_frames/dense_acs_mm_oh.pkl')"
   ]
  },
  {
   "cell_type": "code",
   "execution_count": 9,
   "metadata": {},
   "outputs": [
    {
     "name": "stdout",
     "output_type": "stream",
     "text": [
      "<class 'pandas.core.frame.DataFrame'>\n",
      "Index: 1569188 entries, 0 to 1630166\n",
      "Columns: 898 entries, WKHP to RAC1P_9\n",
      "dtypes: float64(3), uint8(895)\n",
      "memory usage: 1.4 GB\n"
     ]
    }
   ],
   "source": [
    "df_oh.info()"
   ]
  },
  {
   "cell_type": "code",
   "execution_count": 10,
   "metadata": {},
   "outputs": [
    {
     "data": {
      "text/html": [
       "<div>\n",
       "<style scoped>\n",
       "    .dataframe tbody tr th:only-of-type {\n",
       "        vertical-align: middle;\n",
       "    }\n",
       "\n",
       "    .dataframe tbody tr th {\n",
       "        vertical-align: top;\n",
       "    }\n",
       "\n",
       "    .dataframe thead th {\n",
       "        text-align: right;\n",
       "    }\n",
       "</style>\n",
       "<table border=\"1\" class=\"dataframe\">\n",
       "  <thead>\n",
       "    <tr style=\"text-align: right;\">\n",
       "      <th></th>\n",
       "      <th>WKHP</th>\n",
       "      <th>AGEP</th>\n",
       "      <th>PINCP</th>\n",
       "      <th>OCCP_10</th>\n",
       "      <th>OCCP_20</th>\n",
       "      <th>OCCP_40</th>\n",
       "      <th>OCCP_51</th>\n",
       "      <th>OCCP_52</th>\n",
       "      <th>OCCP_60</th>\n",
       "      <th>OCCP_101</th>\n",
       "      <th>...</th>\n",
       "      <th>MAR_5</th>\n",
       "      <th>RAC1P_1</th>\n",
       "      <th>RAC1P_2</th>\n",
       "      <th>RAC1P_3</th>\n",
       "      <th>RAC1P_4</th>\n",
       "      <th>RAC1P_5</th>\n",
       "      <th>RAC1P_6</th>\n",
       "      <th>RAC1P_7</th>\n",
       "      <th>RAC1P_8</th>\n",
       "      <th>RAC1P_9</th>\n",
       "    </tr>\n",
       "  </thead>\n",
       "  <tbody>\n",
       "    <tr>\n",
       "      <th>0</th>\n",
       "      <td>0.295918</td>\n",
       "      <td>0.025316</td>\n",
       "      <td>0.039472</td>\n",
       "      <td>0</td>\n",
       "      <td>0</td>\n",
       "      <td>0</td>\n",
       "      <td>0</td>\n",
       "      <td>0</td>\n",
       "      <td>0</td>\n",
       "      <td>0</td>\n",
       "      <td>...</td>\n",
       "      <td>1</td>\n",
       "      <td>1</td>\n",
       "      <td>0</td>\n",
       "      <td>0</td>\n",
       "      <td>0</td>\n",
       "      <td>0</td>\n",
       "      <td>0</td>\n",
       "      <td>0</td>\n",
       "      <td>0</td>\n",
       "      <td>0</td>\n",
       "    </tr>\n",
       "    <tr>\n",
       "      <th>1</th>\n",
       "      <td>0.397959</td>\n",
       "      <td>0.037975</td>\n",
       "      <td>0.030967</td>\n",
       "      <td>0</td>\n",
       "      <td>0</td>\n",
       "      <td>0</td>\n",
       "      <td>0</td>\n",
       "      <td>0</td>\n",
       "      <td>0</td>\n",
       "      <td>0</td>\n",
       "      <td>...</td>\n",
       "      <td>1</td>\n",
       "      <td>0</td>\n",
       "      <td>1</td>\n",
       "      <td>0</td>\n",
       "      <td>0</td>\n",
       "      <td>0</td>\n",
       "      <td>0</td>\n",
       "      <td>0</td>\n",
       "      <td>0</td>\n",
       "      <td>0</td>\n",
       "    </tr>\n",
       "    <tr>\n",
       "      <th>2</th>\n",
       "      <td>0.173469</td>\n",
       "      <td>0.025316</td>\n",
       "      <td>0.030467</td>\n",
       "      <td>0</td>\n",
       "      <td>0</td>\n",
       "      <td>0</td>\n",
       "      <td>0</td>\n",
       "      <td>0</td>\n",
       "      <td>0</td>\n",
       "      <td>0</td>\n",
       "      <td>...</td>\n",
       "      <td>1</td>\n",
       "      <td>1</td>\n",
       "      <td>0</td>\n",
       "      <td>0</td>\n",
       "      <td>0</td>\n",
       "      <td>0</td>\n",
       "      <td>0</td>\n",
       "      <td>0</td>\n",
       "      <td>0</td>\n",
       "      <td>0</td>\n",
       "    </tr>\n",
       "    <tr>\n",
       "      <th>3</th>\n",
       "      <td>0.051020</td>\n",
       "      <td>0.215190</td>\n",
       "      <td>0.053479</td>\n",
       "      <td>0</td>\n",
       "      <td>0</td>\n",
       "      <td>0</td>\n",
       "      <td>0</td>\n",
       "      <td>0</td>\n",
       "      <td>0</td>\n",
       "      <td>0</td>\n",
       "      <td>...</td>\n",
       "      <td>0</td>\n",
       "      <td>1</td>\n",
       "      <td>0</td>\n",
       "      <td>0</td>\n",
       "      <td>0</td>\n",
       "      <td>0</td>\n",
       "      <td>0</td>\n",
       "      <td>0</td>\n",
       "      <td>0</td>\n",
       "      <td>0</td>\n",
       "    </tr>\n",
       "    <tr>\n",
       "      <th>4</th>\n",
       "      <td>0.091837</td>\n",
       "      <td>0.025316</td>\n",
       "      <td>0.009455</td>\n",
       "      <td>0</td>\n",
       "      <td>0</td>\n",
       "      <td>0</td>\n",
       "      <td>0</td>\n",
       "      <td>0</td>\n",
       "      <td>0</td>\n",
       "      <td>0</td>\n",
       "      <td>...</td>\n",
       "      <td>1</td>\n",
       "      <td>1</td>\n",
       "      <td>0</td>\n",
       "      <td>0</td>\n",
       "      <td>0</td>\n",
       "      <td>0</td>\n",
       "      <td>0</td>\n",
       "      <td>0</td>\n",
       "      <td>0</td>\n",
       "      <td>0</td>\n",
       "    </tr>\n",
       "    <tr>\n",
       "      <th>...</th>\n",
       "      <td>...</td>\n",
       "      <td>...</td>\n",
       "      <td>...</td>\n",
       "      <td>...</td>\n",
       "      <td>...</td>\n",
       "      <td>...</td>\n",
       "      <td>...</td>\n",
       "      <td>...</td>\n",
       "      <td>...</td>\n",
       "      <td>...</td>\n",
       "      <td>...</td>\n",
       "      <td>...</td>\n",
       "      <td>...</td>\n",
       "      <td>...</td>\n",
       "      <td>...</td>\n",
       "      <td>...</td>\n",
       "      <td>...</td>\n",
       "      <td>...</td>\n",
       "      <td>...</td>\n",
       "      <td>...</td>\n",
       "      <td>...</td>\n",
       "    </tr>\n",
       "    <tr>\n",
       "      <th>1630162</th>\n",
       "      <td>0.397959</td>\n",
       "      <td>0.291139</td>\n",
       "      <td>0.399670</td>\n",
       "      <td>0</td>\n",
       "      <td>0</td>\n",
       "      <td>0</td>\n",
       "      <td>0</td>\n",
       "      <td>0</td>\n",
       "      <td>0</td>\n",
       "      <td>0</td>\n",
       "      <td>...</td>\n",
       "      <td>1</td>\n",
       "      <td>0</td>\n",
       "      <td>0</td>\n",
       "      <td>0</td>\n",
       "      <td>0</td>\n",
       "      <td>0</td>\n",
       "      <td>0</td>\n",
       "      <td>0</td>\n",
       "      <td>0</td>\n",
       "      <td>1</td>\n",
       "    </tr>\n",
       "    <tr>\n",
       "      <th>1630163</th>\n",
       "      <td>0.397959</td>\n",
       "      <td>0.379747</td>\n",
       "      <td>0.299615</td>\n",
       "      <td>0</td>\n",
       "      <td>0</td>\n",
       "      <td>0</td>\n",
       "      <td>0</td>\n",
       "      <td>0</td>\n",
       "      <td>0</td>\n",
       "      <td>0</td>\n",
       "      <td>...</td>\n",
       "      <td>0</td>\n",
       "      <td>0</td>\n",
       "      <td>0</td>\n",
       "      <td>0</td>\n",
       "      <td>0</td>\n",
       "      <td>0</td>\n",
       "      <td>0</td>\n",
       "      <td>0</td>\n",
       "      <td>0</td>\n",
       "      <td>1</td>\n",
       "    </tr>\n",
       "    <tr>\n",
       "      <th>1630164</th>\n",
       "      <td>0.397959</td>\n",
       "      <td>0.367089</td>\n",
       "      <td>0.092501</td>\n",
       "      <td>0</td>\n",
       "      <td>0</td>\n",
       "      <td>0</td>\n",
       "      <td>0</td>\n",
       "      <td>0</td>\n",
       "      <td>0</td>\n",
       "      <td>0</td>\n",
       "      <td>...</td>\n",
       "      <td>0</td>\n",
       "      <td>0</td>\n",
       "      <td>0</td>\n",
       "      <td>0</td>\n",
       "      <td>0</td>\n",
       "      <td>0</td>\n",
       "      <td>0</td>\n",
       "      <td>0</td>\n",
       "      <td>0</td>\n",
       "      <td>1</td>\n",
       "    </tr>\n",
       "    <tr>\n",
       "      <th>1630165</th>\n",
       "      <td>0.295918</td>\n",
       "      <td>0.063291</td>\n",
       "      <td>0.060483</td>\n",
       "      <td>0</td>\n",
       "      <td>0</td>\n",
       "      <td>0</td>\n",
       "      <td>0</td>\n",
       "      <td>0</td>\n",
       "      <td>0</td>\n",
       "      <td>0</td>\n",
       "      <td>...</td>\n",
       "      <td>1</td>\n",
       "      <td>0</td>\n",
       "      <td>0</td>\n",
       "      <td>0</td>\n",
       "      <td>0</td>\n",
       "      <td>0</td>\n",
       "      <td>0</td>\n",
       "      <td>0</td>\n",
       "      <td>0</td>\n",
       "      <td>1</td>\n",
       "    </tr>\n",
       "    <tr>\n",
       "      <th>1630166</th>\n",
       "      <td>0.397959</td>\n",
       "      <td>0.493671</td>\n",
       "      <td>0.138026</td>\n",
       "      <td>0</td>\n",
       "      <td>0</td>\n",
       "      <td>0</td>\n",
       "      <td>0</td>\n",
       "      <td>0</td>\n",
       "      <td>0</td>\n",
       "      <td>0</td>\n",
       "      <td>...</td>\n",
       "      <td>0</td>\n",
       "      <td>0</td>\n",
       "      <td>1</td>\n",
       "      <td>0</td>\n",
       "      <td>0</td>\n",
       "      <td>0</td>\n",
       "      <td>0</td>\n",
       "      <td>0</td>\n",
       "      <td>0</td>\n",
       "      <td>0</td>\n",
       "    </tr>\n",
       "  </tbody>\n",
       "</table>\n",
       "<p>1569188 rows × 898 columns</p>\n",
       "</div>"
      ],
      "text/plain": [
       "             WKHP      AGEP     PINCP  OCCP_10  OCCP_20  OCCP_40  OCCP_51   \n",
       "0        0.295918  0.025316  0.039472        0        0        0        0  \\\n",
       "1        0.397959  0.037975  0.030967        0        0        0        0   \n",
       "2        0.173469  0.025316  0.030467        0        0        0        0   \n",
       "3        0.051020  0.215190  0.053479        0        0        0        0   \n",
       "4        0.091837  0.025316  0.009455        0        0        0        0   \n",
       "...           ...       ...       ...      ...      ...      ...      ...   \n",
       "1630162  0.397959  0.291139  0.399670        0        0        0        0   \n",
       "1630163  0.397959  0.379747  0.299615        0        0        0        0   \n",
       "1630164  0.397959  0.367089  0.092501        0        0        0        0   \n",
       "1630165  0.295918  0.063291  0.060483        0        0        0        0   \n",
       "1630166  0.397959  0.493671  0.138026        0        0        0        0   \n",
       "\n",
       "         OCCP_52  OCCP_60  OCCP_101  ...  MAR_5  RAC1P_1  RAC1P_2  RAC1P_3   \n",
       "0              0        0         0  ...      1        1        0        0  \\\n",
       "1              0        0         0  ...      1        0        1        0   \n",
       "2              0        0         0  ...      1        1        0        0   \n",
       "3              0        0         0  ...      0        1        0        0   \n",
       "4              0        0         0  ...      1        1        0        0   \n",
       "...          ...      ...       ...  ...    ...      ...      ...      ...   \n",
       "1630162        0        0         0  ...      1        0        0        0   \n",
       "1630163        0        0         0  ...      0        0        0        0   \n",
       "1630164        0        0         0  ...      0        0        0        0   \n",
       "1630165        0        0         0  ...      1        0        0        0   \n",
       "1630166        0        0         0  ...      0        0        1        0   \n",
       "\n",
       "         RAC1P_4  RAC1P_5  RAC1P_6  RAC1P_7  RAC1P_8  RAC1P_9  \n",
       "0              0        0        0        0        0        0  \n",
       "1              0        0        0        0        0        0  \n",
       "2              0        0        0        0        0        0  \n",
       "3              0        0        0        0        0        0  \n",
       "4              0        0        0        0        0        0  \n",
       "...          ...      ...      ...      ...      ...      ...  \n",
       "1630162        0        0        0        0        0        1  \n",
       "1630163        0        0        0        0        0        1  \n",
       "1630164        0        0        0        0        0        1  \n",
       "1630165        0        0        0        0        0        1  \n",
       "1630166        0        0        0        0        0        0  \n",
       "\n",
       "[1569188 rows x 898 columns]"
      ]
     },
     "execution_count": 10,
     "metadata": {},
     "output_type": "execute_result"
    }
   ],
   "source": [
    "df_oh"
   ]
  },
  {
   "cell_type": "code",
   "execution_count": 11,
   "metadata": {},
   "outputs": [],
   "source": [
    "y_dat = df_oh['PINCP']"
   ]
  },
  {
   "cell_type": "code",
   "execution_count": 12,
   "metadata": {},
   "outputs": [],
   "source": [
    "df_oh.drop('PINCP', axis=1, inplace=True)"
   ]
  },
  {
   "cell_type": "code",
   "execution_count": 13,
   "metadata": {},
   "outputs": [],
   "source": [
    "X_dat = drop('PINCP', axis=1, inplace=True)"
   ]
  },
  {
   "cell_type": "code",
   "execution_count": 25,
   "metadata": {},
   "outputs": [],
   "source": [
    "expridge = OnlineLinearExpert(X_dat, y_dat, l2_pen=1.0)"
   ]
  },
  {
   "cell_type": "code",
   "execution_count": 26,
   "metadata": {},
   "outputs": [],
   "source": [
    "dir_name = './restruc_res/models/baseline'\n",
    "filename =  'ridge_acsog'"
   ]
  },
  {
   "cell_type": "code",
   "execution_count": 28,
   "metadata": {},
   "outputs": [
    {
     "name": "stderr",
     "output_type": "stream",
     "text": [
      "100%|████████████████████████████████████████████████████████████████████████████████████████████████| 1569188/1569188 [23:07<00:00, 1131.00it/s]\n"
     ]
    }
   ],
   "source": [
    "b_ridgebase = build_baseline_alwayson(dir_name, filename, A_t, expridge)"
   ]
  },
  {
   "cell_type": "code",
   "execution_count": 18,
   "metadata": {},
   "outputs": [
    {
     "data": {
      "text/plain": [
       "12"
      ]
     },
     "execution_count": 18,
     "metadata": {},
     "output_type": "execute_result"
    }
   ],
   "source": [
    "len(b_ridgebase.expert.cumloss_groupwise)"
   ]
  },
  {
   "cell_type": "code",
   "execution_count": 31,
   "metadata": {},
   "outputs": [],
   "source": [
    "import joblib\n",
    "oridge_imp = joblib.load('./restruc_res/models/baseline/ridge_acsog20230822-001825.pkl')"
   ]
  },
  {
   "cell_type": "code",
   "execution_count": 32,
   "metadata": {},
   "outputs": [
    {
     "name": "stdout",
     "output_type": "stream",
     "text": [
      "31098.672186126223\n",
      "22396.608111110658\n",
      "37590.35674739708\n",
      "3350.0869638965455\n",
      "334.9671698399062\n",
      "20.015414809307583\n",
      "56.00525708187821\n",
      "4901.493675804962\n",
      "75.07590235612507\n",
      "2203.9094416215803\n",
      "4963.369724429311\n",
      "53495.28029723699\n"
     ]
    }
   ],
   "source": [
    "for gnum in range(12):\n",
    "  print(oridge_imp.cumloss_groupwise[gnum][-1])"
   ]
  },
  {
   "cell_type": "code",
   "execution_count": 35,
   "metadata": {},
   "outputs": [
    {
     "data": {
      "text/plain": [
       "0.03096703186752714"
      ]
     },
     "execution_count": 35,
     "metadata": {},
     "output_type": "execute_result"
    }
   ],
   "source": [
    "y_dat[1]"
   ]
  },
  {
   "cell_type": "markdown",
   "metadata": {},
   "source": [
    "## 1b Anh validate linear experts acs og order"
   ]
  },
  {
   "cell_type": "code",
   "execution_count": 5,
   "metadata": {},
   "outputs": [],
   "source": [
    "A_t = np.load('./data_frames/nparrays/acsog_allstates2021_20230808-095906_unshuffled__undropped_.npy')"
   ]
  },
  {
   "cell_type": "code",
   "execution_count": 6,
   "metadata": {},
   "outputs": [
    {
     "data": {
      "text/plain": [
       "(1569188, 12)"
      ]
     },
     "execution_count": 6,
     "metadata": {},
     "output_type": "execute_result"
    }
   ],
   "source": [
    "A_t.shape"
   ]
  },
  {
   "cell_type": "code",
   "execution_count": 7,
   "metadata": {},
   "outputs": [],
   "source": [
    "df_oh = pd.read_pickle('./data_frames/dense_acs_mm_oh.pkl')\n",
    "y_dat = df_oh['PINCP']\n",
    "X_dat = df_oh.drop('PINCP', axis=1)"
   ]
  },
  {
   "cell_type": "code",
   "execution_count": 12,
   "metadata": {},
   "outputs": [
    {
     "data": {
      "text/plain": [
       "(       WKHP      AGEP  OCCP_10  OCCP_20  OCCP_40  OCCP_51  OCCP_52  OCCP_60  \\\n",
       " 0  0.295918  0.025316        0        0        0        0        0        0   \n",
       " 1  0.397959  0.037975        0        0        0        0        0        0   \n",
       " 2  0.173469  0.025316        0        0        0        0        0        0   \n",
       " 3  0.051020  0.215190        0        0        0        0        0        0   \n",
       " 4  0.091837  0.025316        0        0        0        0        0        0   \n",
       " \n",
       "    OCCP_101  OCCP_102  ...  MAR_5  RAC1P_1  RAC1P_2  RAC1P_3  RAC1P_4  \\\n",
       " 0         0         0  ...      1        1        0        0        0   \n",
       " 1         0         0  ...      1        0        1        0        0   \n",
       " 2         0         0  ...      1        1        0        0        0   \n",
       " 3         0         0  ...      0        1        0        0        0   \n",
       " 4         0         0  ...      1        1        0        0        0   \n",
       " \n",
       "    RAC1P_5  RAC1P_6  RAC1P_7  RAC1P_8  RAC1P_9  \n",
       " 0        0        0        0        0        0  \n",
       " 1        0        0        0        0        0  \n",
       " 2        0        0        0        0        0  \n",
       " 3        0        0        0        0        0  \n",
       " 4        0        0        0        0        0  \n",
       " \n",
       " [5 rows x 897 columns],\n",
       " (1569188, 897))"
      ]
     },
     "execution_count": 12,
     "metadata": {},
     "output_type": "execute_result"
    }
   ],
   "source": [
    "X_dat.head(), X_dat.shape"
   ]
  },
  {
   "cell_type": "code",
   "execution_count": 13,
   "metadata": {},
   "outputs": [],
   "source": [
    "experts = [OnlineLinearExpert(X_dat, y_dat, l2_pen=1.0) for _ in range(A_t.shape[1])]"
   ]
  },
  {
   "cell_type": "code",
   "execution_count": 15,
   "metadata": {},
   "outputs": [],
   "source": [
    "dir_name = './restruc_res/models/Anh'\n",
    "filename =  'ridge_validate_acsog'"
   ]
  },
  {
   "cell_type": "code",
   "execution_count": 16,
   "metadata": {},
   "outputs": [
    {
     "name": "stderr",
     "output_type": "stream",
     "text": [
      "100%|██████████| 1569188/1569188 [1:57:09<00:00, 223.24it/s] \n"
     ]
    }
   ],
   "source": [
    "b_Anh = build_Anh(dir_name, filename, A_t, experts)"
   ]
  },
  {
   "cell_type": "code",
   "execution_count": 19,
   "metadata": {},
   "outputs": [],
   "source": [
    "Anh = joblib.load('./restruc_res/models/Anh/ridge_validate_acsog20230822-015307.pkl')"
   ]
  },
  {
   "cell_type": "code",
   "execution_count": 20,
   "metadata": {},
   "outputs": [
    {
     "data": {
      "text/plain": [
       "12"
      ]
     },
     "execution_count": 20,
     "metadata": {},
     "output_type": "execute_result"
    }
   ],
   "source": [
    "len(Anh.cuml_loss_curve)"
   ]
  },
  {
   "cell_type": "code",
   "execution_count": 21,
   "metadata": {},
   "outputs": [
    {
     "name": "stdout",
     "output_type": "stream",
     "text": [
      "30475.73819020837\n",
      "22227.669286399614\n",
      "37181.656706009446\n",
      "3326.114008403669\n",
      "325.81384868452835\n",
      "19.450365142991945\n",
      "52.192409915398414\n",
      "4709.026106546749\n",
      "73.4781794658253\n",
      "2063.3343254242445\n",
      "4952.341527015159\n",
      "52703.407476607375\n"
     ]
    }
   ],
   "source": [
    "for gnum in range(12):\n",
    "  print(Anh.cuml_loss_curve[gnum][-1])"
   ]
  },
  {
   "cell_type": "markdown",
   "metadata": {},
   "source": [
    "## 2a hoeffding tree implementable , Anh htree "
   ]
  },
  {
   "cell_type": "code",
   "execution_count": 5,
   "metadata": {},
   "outputs": [],
   "source": [
    "A_t = np.load('./data_frames/nparrays/acsog_allstates2021_20230808-095906_unshuffled__undropped_.npy')"
   ]
  },
  {
   "cell_type": "code",
   "execution_count": 6,
   "metadata": {},
   "outputs": [
    {
     "name": "stdout",
     "output_type": "stream",
     "text": [
      "12 3\n"
     ]
    }
   ],
   "source": [
    "df_notoh = pd.read_pickle(\"./data_frames/dense_acs_mm_notoh.pkl\")\n",
    "cat_cols_sig = ['OCCP', 'SCHL', 'ST', 'JWTRNS', 'DRAT', 'COW', 'SEX', \\\n",
    "       'RELSHIPP', 'POBP', 'ENG', 'MAR', 'RAC1P'] # significant features from the earlier analysis\n",
    "numeric_cols = ['WKHP', 'AGEP', 'PINCP']\n",
    "print(len(cat_cols_sig), len(numeric_cols))\n",
    "df_notoh = ordinal_encoder(df_notoh, cat_cols_sig)"
   ]
  },
  {
   "cell_type": "code",
   "execution_count": 7,
   "metadata": {},
   "outputs": [],
   "source": [
    "y_dat = df_notoh['PINCP']\n",
    "df_notoh.drop('PINCP', axis=1, inplace=True)"
   ]
  },
  {
   "cell_type": "code",
   "execution_count": 11,
   "metadata": {},
   "outputs": [
    {
     "data": {
      "text/plain": [
       "Counter({0.0: 805503, 1.0: 763685})"
      ]
     },
     "execution_count": 11,
     "metadata": {},
     "output_type": "execute_result"
    }
   ],
   "source": [
    "# from collections import Counter\n",
    "# Counter(df_notoh['SEX'])"
   ]
  },
  {
   "cell_type": "code",
   "execution_count": 8,
   "metadata": {},
   "outputs": [],
   "source": [
    "X_datdict = df_notoh.to_dict(orient='records')"
   ]
  },
  {
   "cell_type": "code",
   "execution_count": 8,
   "metadata": {},
   "outputs": [],
   "source": [
    "exphoefftree = OnlineHoeffdingTree(X_datdict, y_dat)"
   ]
  },
  {
   "cell_type": "code",
   "execution_count": 12,
   "metadata": {},
   "outputs": [],
   "source": [
    "dir_name = './restruc_res/models/Anh'\n",
    "filename =  'htree_acsog'"
   ]
  },
  {
   "cell_type": "code",
   "execution_count": 10,
   "metadata": {},
   "outputs": [
    {
     "name": "stderr",
     "output_type": "stream",
     "text": [
      "100%|██████████| 1569188/1569188 [05:24<00:00, 4841.25it/s]\n"
     ]
    }
   ],
   "source": [
    "# b_htreebase = build_baseline_alwayson(dir_name, filename, A_t, exphoefftree) #implementable"
   ]
  },
  {
   "cell_type": "code",
   "execution_count": 9,
   "metadata": {},
   "outputs": [],
   "source": [
    "experts = [OnlineHoeffdingTree(X_datdict, y_dat) for _ in range(A_t.shape[1])]"
   ]
  },
  {
   "cell_type": "code",
   "execution_count": null,
   "metadata": {},
   "outputs": [
    {
     "name": "stderr",
     "output_type": "stream",
     "text": [
      " 38%|███▊      | 595776/1569188 [06:42<11:57, 1355.80it/s]"
     ]
    }
   ],
   "source": [
    "b_Anh = build_Anh(dir_name, filename, A_t, experts)"
   ]
  },
  {
   "cell_type": "code",
   "execution_count": 16,
   "metadata": {},
   "outputs": [
    {
     "name": "stdout",
     "output_type": "stream",
     "text": [
      "20796.476086940093\n",
      "13572.113422487375\n",
      "23982.11516858531\n",
      "2368.7230439906803\n",
      "234.61328231566043\n",
      "16.968470012738823\n",
      "37.65348410463236\n",
      "3014.090240771034\n",
      "56.295410141188036\n",
      "1447.7136464136383\n",
      "3210.4167630921515\n",
      "34368.589509425794\n"
     ]
    }
   ],
   "source": [
    "Anh = joblib.load('./restruc_res/models/Anh/htree_acsog20230822-103518.pkl')\n",
    "for gnum in range(A_t.shape[1]):\n",
    "  print(Anh.cuml_loss_curve[gnum][-1])"
   ]
  },
  {
   "cell_type": "code",
   "execution_count": 11,
   "metadata": {},
   "outputs": [],
   "source": [
    "# import joblib\n",
    "# ohtree_imp = joblib.load('./restruc_res/models/baseline/htree_acsog20230822-013138.pkl')"
   ]
  },
  {
   "cell_type": "code",
   "execution_count": 12,
   "metadata": {},
   "outputs": [
    {
     "name": "stdout",
     "output_type": "stream",
     "text": [
      "20745.077407449095\n",
      "13810.410604688319\n",
      "24103.089793125517\n",
      "2402.4420325015653\n",
      "237.78001319990227\n",
      "14.85627330175781\n",
      "36.72450443720022\n",
      "3012.412629404053\n",
      "54.10512373150721\n",
      "1460.7881079631447\n",
      "3233.2895344743274\n",
      "34555.48801213991\n"
     ]
    }
   ],
   "source": [
    "# for gnum in range(12):\n",
    "#   print(ohtree_imp.cumloss_groupwise[gnum][-1])"
   ]
  }
 ],
 "metadata": {
  "kernelspec": {
   "display_name": "bb",
   "language": "python",
   "name": "bb"
  },
  "language_info": {
   "codemirror_mode": {
    "name": "ipython",
    "version": 3
   },
   "file_extension": ".py",
   "mimetype": "text/x-python",
   "name": "python",
   "nbconvert_exporter": "python",
   "pygments_lexer": "ipython3",
   "version": "3.10.6"
  },
  "vscode": {
   "interpreter": {
    "hash": "3ffafe8c5c1d487864ad23d8f57c3e1726ed1835ef633621b956219232e83558"
   }
  }
 },
 "nbformat": 4,
 "nbformat_minor": 4
}
