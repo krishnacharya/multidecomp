{
 "cells": [
  {
   "cell_type": "code",
   "execution_count": 1,
   "id": "c97867d5-2c5e-4ed2-87b7-9b887c5b6a51",
   "metadata": {
    "tags": []
   },
   "outputs": [],
   "source": [
    "from river import tree\n",
    "import pandas as pd\n",
    "import numpy as np\n",
    "from tqdm import tqdm"
   ]
  },
  {
   "cell_type": "code",
   "execution_count": 2,
   "id": "041e8263-f462-4016-be69-1098cee67295",
   "metadata": {
    "tags": []
   },
   "outputs": [
    {
     "name": "stdout",
     "output_type": "stream",
     "text": [
      "12 3\n"
     ]
    }
   ],
   "source": [
    "df_notoh = pd.read_pickle(\"./data_frames/dense_acs_mm_notoh.pkl\")\n",
    "cat_cols_sig = ['OCCP', 'SCHL', 'ST', 'JWTRNS', 'DRAT', 'COW', 'SEX', \\\n",
    "       'RELSHIPP', 'POBP', 'ENG', 'MAR', 'RAC1P'] # significant features from the earlier analysis\n",
    "numeric_cols = ['WKHP', 'AGEP', 'PINCP']\n",
    "print(len(cat_cols_sig), len(numeric_cols))\n",
    "from utils import ordinal_encoder\n",
    "df_notoh = ordinal_encoder(df_notoh, cat_cols_sig)\n",
    "from sklearn.model_selection import train_test_split\n",
    "rand_seed = 21 \n",
    "X_train, X_test, y_train, y_test = train_test_split(df_notoh.drop('PINCP', axis=1), \n",
    "                                                    df_notoh['PINCP'], test_size = 0.2,\n",
    "                                                    random_state = rand_seed)"
   ]
  },
  {
   "cell_type": "code",
   "execution_count": 3,
   "id": "ef49c2b4-c2b6-4aef-8080-cb2de47a9c3c",
   "metadata": {},
   "outputs": [],
   "source": [
    "from utils import ordinal_encoder\n",
    "df_notoh = ordinal_encoder(df_notoh, cat_cols_sig)"
   ]
  },
  {
   "cell_type": "code",
   "execution_count": 4,
   "id": "f2482929-20a7-4cc5-8224-b0929eb3b382",
   "metadata": {},
   "outputs": [],
   "source": [
    "X_dat = df_notoh.drop('PINCP', axis=1)\n",
    "y_dat = df_notoh['PINCP']"
   ]
  },
  {
   "cell_type": "code",
   "execution_count": 5,
   "id": "b4ff0bdd-3d8a-45bb-870e-515bdc1f965d",
   "metadata": {},
   "outputs": [
    {
     "data": {
      "text/html": [
       "<div>\n",
       "<style scoped>\n",
       "    .dataframe tbody tr th:only-of-type {\n",
       "        vertical-align: middle;\n",
       "    }\n",
       "\n",
       "    .dataframe tbody tr th {\n",
       "        vertical-align: top;\n",
       "    }\n",
       "\n",
       "    .dataframe thead th {\n",
       "        text-align: right;\n",
       "    }\n",
       "</style>\n",
       "<table border=\"1\" class=\"dataframe\">\n",
       "  <thead>\n",
       "    <tr style=\"text-align: right;\">\n",
       "      <th></th>\n",
       "      <th>OCCP</th>\n",
       "      <th>WKHP</th>\n",
       "      <th>AGEP</th>\n",
       "      <th>SCHL</th>\n",
       "      <th>ST</th>\n",
       "      <th>JWTRNS</th>\n",
       "      <th>DRAT</th>\n",
       "      <th>COW</th>\n",
       "      <th>SEX</th>\n",
       "      <th>RELSHIPP</th>\n",
       "      <th>POBP</th>\n",
       "      <th>ENG</th>\n",
       "      <th>MAR</th>\n",
       "      <th>RAC1P</th>\n",
       "    </tr>\n",
       "  </thead>\n",
       "  <tbody>\n",
       "    <tr>\n",
       "      <th>0</th>\n",
       "      <td>299.0</td>\n",
       "      <td>0.295918</td>\n",
       "      <td>0.025316</td>\n",
       "      <td>17.0</td>\n",
       "      <td>0.0</td>\n",
       "      <td>0.0</td>\n",
       "      <td>0.0</td>\n",
       "      <td>1.0</td>\n",
       "      <td>1.0</td>\n",
       "      <td>18.0</td>\n",
       "      <td>47.0</td>\n",
       "      <td>0.0</td>\n",
       "      <td>4.0</td>\n",
       "      <td>0.0</td>\n",
       "    </tr>\n",
       "    <tr>\n",
       "      <th>1</th>\n",
       "      <td>292.0</td>\n",
       "      <td>0.397959</td>\n",
       "      <td>0.037975</td>\n",
       "      <td>18.0</td>\n",
       "      <td>0.0</td>\n",
       "      <td>1.0</td>\n",
       "      <td>0.0</td>\n",
       "      <td>0.0</td>\n",
       "      <td>0.0</td>\n",
       "      <td>18.0</td>\n",
       "      <td>10.0</td>\n",
       "      <td>0.0</td>\n",
       "      <td>4.0</td>\n",
       "      <td>1.0</td>\n",
       "    </tr>\n",
       "    <tr>\n",
       "      <th>2</th>\n",
       "      <td>325.0</td>\n",
       "      <td>0.173469</td>\n",
       "      <td>0.025316</td>\n",
       "      <td>17.0</td>\n",
       "      <td>0.0</td>\n",
       "      <td>0.0</td>\n",
       "      <td>0.0</td>\n",
       "      <td>1.0</td>\n",
       "      <td>1.0</td>\n",
       "      <td>18.0</td>\n",
       "      <td>18.0</td>\n",
       "      <td>0.0</td>\n",
       "      <td>4.0</td>\n",
       "      <td>0.0</td>\n",
       "    </tr>\n",
       "    <tr>\n",
       "      <th>3</th>\n",
       "      <td>268.0</td>\n",
       "      <td>0.051020</td>\n",
       "      <td>0.215190</td>\n",
       "      <td>18.0</td>\n",
       "      <td>0.0</td>\n",
       "      <td>12.0</td>\n",
       "      <td>0.0</td>\n",
       "      <td>1.0</td>\n",
       "      <td>1.0</td>\n",
       "      <td>18.0</td>\n",
       "      <td>14.0</td>\n",
       "      <td>0.0</td>\n",
       "      <td>2.0</td>\n",
       "      <td>0.0</td>\n",
       "    </tr>\n",
       "    <tr>\n",
       "      <th>4</th>\n",
       "      <td>161.0</td>\n",
       "      <td>0.091837</td>\n",
       "      <td>0.025316</td>\n",
       "      <td>17.0</td>\n",
       "      <td>0.0</td>\n",
       "      <td>0.0</td>\n",
       "      <td>0.0</td>\n",
       "      <td>0.0</td>\n",
       "      <td>0.0</td>\n",
       "      <td>18.0</td>\n",
       "      <td>32.0</td>\n",
       "      <td>0.0</td>\n",
       "      <td>4.0</td>\n",
       "      <td>0.0</td>\n",
       "    </tr>\n",
       "  </tbody>\n",
       "</table>\n",
       "</div>"
      ],
      "text/plain": [
       "    OCCP      WKHP      AGEP  SCHL   ST  JWTRNS  DRAT  COW  SEX  RELSHIPP  \\\n",
       "0  299.0  0.295918  0.025316  17.0  0.0     0.0   0.0  1.0  1.0      18.0   \n",
       "1  292.0  0.397959  0.037975  18.0  0.0     1.0   0.0  0.0  0.0      18.0   \n",
       "2  325.0  0.173469  0.025316  17.0  0.0     0.0   0.0  1.0  1.0      18.0   \n",
       "3  268.0  0.051020  0.215190  18.0  0.0    12.0   0.0  1.0  1.0      18.0   \n",
       "4  161.0  0.091837  0.025316  17.0  0.0     0.0   0.0  0.0  0.0      18.0   \n",
       "\n",
       "   POBP  ENG  MAR  RAC1P  \n",
       "0  47.0  0.0  4.0    0.0  \n",
       "1  10.0  0.0  4.0    1.0  \n",
       "2  18.0  0.0  4.0    0.0  \n",
       "3  14.0  0.0  2.0    0.0  \n",
       "4  32.0  0.0  4.0    0.0  "
      ]
     },
     "execution_count": 5,
     "metadata": {},
     "output_type": "execute_result"
    }
   ],
   "source": [
    "from collections import Counter\n",
    "Counter(X_dat['SEX'])\n",
    "X_dat.head()"
   ]
  },
  {
   "cell_type": "markdown",
   "id": "faeb254a-82f1-44b0-b189-05474b913455",
   "metadata": {},
   "source": [
    "## hoeffing tree always active"
   ]
  },
  {
   "cell_type": "code",
   "execution_count": 7,
   "id": "65a13bea-0bad-4af9-aeda-e595f9088c0c",
   "metadata": {},
   "outputs": [],
   "source": [
    "from OnlineHoeffTree_alwaysactive_implementable import *\n",
    "expert = HoeffdingTree()"
   ]
  },
  {
   "cell_type": "code",
   "execution_count": 8,
   "id": "18a4a6e4-b3d1-4a5f-9258-a821b727f599",
   "metadata": {},
   "outputs": [],
   "source": [
    "dirname = 'onehot_encoded' #technically not one hot but nwayay\n",
    "filename = 'Hoefftree'\n",
    "# TODO CHANGE here, and also in dir and file name for build_all_models"
   ]
  },
  {
   "cell_type": "code",
   "execution_count": 9,
   "id": "bbf3870f-048e-4fc6-bb77-d985281a3b11",
   "metadata": {},
   "outputs": [],
   "source": [
    "from build_all_models import *"
   ]
  },
  {
   "cell_type": "code",
   "execution_count": 10,
   "id": "8f1c547d-fba0-4c43-be4f-3c2872a3e208",
   "metadata": {},
   "outputs": [],
   "source": [
    "A_t = np.load('./data_frames/nparrays/allstates2021_20230724-233202_unshuffled__dropped_.npy')"
   ]
  },
  {
   "cell_type": "code",
   "execution_count": 11,
   "id": "45f922be-a3b0-46ff-a9d2-9ea301db38b0",
   "metadata": {},
   "outputs": [
    {
     "data": {
      "text/plain": [
       "True"
      ]
     },
     "execution_count": 11,
     "metadata": {},
     "output_type": "execute_result"
    }
   ],
   "source": [
    "np.all(X_dat['SEX'] == A_t[:,1])"
   ]
  },
  {
   "cell_type": "code",
   "execution_count": 12,
   "id": "ce0c25d5-58a4-4ea7-b960-c32712503035",
   "metadata": {},
   "outputs": [
    {
     "name": "stderr",
     "output_type": "stream",
     "text": [
      "100%|██████████| 1000/1000 [00:00<00:00, 2856.51it/s]"
     ]
    },
    {
     "name": "stdout",
     "output_type": "stream",
     "text": [
      "finished filling loss\n"
     ]
    },
    {
     "name": "stderr",
     "output_type": "stream",
     "text": [
      "\n"
     ]
    }
   ],
   "source": [
    "from build_all_models import *\n",
    "b_hoeff = build_baseline_alwayson(dirname, filename, X_dat[:1000], y_dat[:1000], A_t[:1000], expert)"
   ]
  },
  {
   "cell_type": "code",
   "execution_count": 13,
   "id": "e63d5806-1495-48d9-a772-8b60712f815e",
   "metadata": {},
   "outputs": [],
   "source": [
    "from utils import save_pickle, load_pickle"
   ]
  },
  {
   "cell_type": "code",
   "execution_count": null,
   "id": "31b8aedd-3a8c-49cf-9703-a326a13eb90a",
   "metadata": {},
   "outputs": [],
   "source": [
    "save_pickle(b_hoeff.implementable_expert, './onehot_encoded/htree')"
   ]
  },
  {
   "cell_type": "code",
   "execution_count": 52,
   "id": "62618ed7-6443-42ca-aeaf-7377b0438ae1",
   "metadata": {},
   "outputs": [
    {
     "data": {
      "text/plain": [
       "<OnlineHoeffTree_alwaysactive_implementable.HoeffdingTree at 0x7fc8e08ff7c0>"
      ]
     },
     "execution_count": 52,
     "metadata": {},
     "output_type": "execute_result"
    }
   ],
   "source": [
    "with open "
   ]
  },
  {
   "cell_type": "code",
   "execution_count": 29,
   "id": "66e0606b-02e6-4629-8745-510b65bb2187",
   "metadata": {},
   "outputs": [
    {
     "name": "stdout",
     "output_type": "stream",
     "text": [
      "group num 0, 19850.007736953947 \n",
      "group num 1, 12942.515537294505 \n",
      "group num 2, 22912.484749558924 \n",
      "group num 3, 2237.199303247075 \n",
      "group num 4, 226.77742594218844 \n",
      "group num 5, 15.873788689035718 \n",
      "group num 6, 33.98798337797028 \n",
      "group num 7, 2896.134278445016 \n",
      "group num 8, 52.55109618940912 \n",
      "group num 9, 1364.9670555509833 \n",
      "group num 10, 3052.547593247719 \n",
      "group num 11, 32792.52327424766 \n"
     ]
    }
   ],
   "source": [
    "for gnum in range(A_t.shape[1]):\n",
    "    print(f'''group num {gnum}, {b_hoeff.implementable_expert.cumloss_groupwise_oridge[gnum][-1]} ''')"
   ]
  },
  {
   "cell_type": "code",
   "execution_count": 16,
   "id": "b70b05c0-3958-4059-9a4c-595e7448110b",
   "metadata": {
    "scrolled": true
   },
   "outputs": [
    {
     "data": {
      "text/plain": [
       "[array([0.00095896, 0.00264568, 0.0050051 , 0.00614174, 0.00614697,\n",
       "        0.00614992, 0.00705143, 0.00716711, 0.00722423, 0.00748743,\n",
       "        0.02761494, 0.02764382, 0.02930538, 0.18957543, 0.19766819,\n",
       "        0.19772724, 0.20442693, 0.2063992 , 0.2073154 , 0.20883527,\n",
       "        0.20975482, 0.21148233, 0.21253579, 0.21264253, 0.21992366,\n",
       "        0.22020385, 0.22028361, 0.22243512, 0.23097663, 0.23100762,\n",
       "        0.23506706, 0.23820698, 0.23828147, 0.24064286, 0.25331768,\n",
       "        0.25338983, 0.25661133, 0.2570643 , 0.25727549, 0.25750136,\n",
       "        0.26035729, 0.26467847, 0.26659864, 0.26777966, 0.27470707,\n",
       "        0.27594857, 0.27601579, 0.27828043, 0.27874727, 0.27881237,\n",
       "        0.28111378]),\n",
       " array([0.00155802, 0.0015604 , 0.00156041, 0.00256233, 0.00364219,\n",
       "        0.00384802, 0.00413362, 0.00442931, 0.00479561, 0.00575909,\n",
       "        0.0057599 , 0.00657047, 0.00657054, 0.006575  , 0.00662754,\n",
       "        0.00671138, 0.0091956 , 0.00926084, 0.0111776 , 0.01246501,\n",
       "        0.01357792, 0.01544089, 0.01568753, 0.01570693, 0.01776825,\n",
       "        0.01792421, 0.02730673, 0.030551  , 0.03343329, 0.03426171,\n",
       "        0.03584485, 0.03670093, 0.0368262 , 0.03710386, 0.03851439,\n",
       "        0.03868038, 0.03894655, 0.04025506, 0.043322  , 0.0459284 ,\n",
       "        0.04788049, 0.04920071, 0.06802915, 0.06864015, 0.06912354,\n",
       "        0.0703922 , 0.07040141, 0.07598063, 0.07604092]),\n",
       " array([0.00155802, 0.0015604 , 0.00156041, 0.00324713, 0.00424905,\n",
       "        0.00660847, 0.00660928, 0.00741985, 0.00747697, 0.00774017,\n",
       "        0.02786769, 0.02789656, 0.03038079, 0.03229755, 0.03435887,\n",
       "        0.03441792, 0.03457388, 0.03609375, 0.03897604, 0.03908279,\n",
       "        0.03993887, 0.04021906, 0.04029882, 0.04245033, 0.04551727,\n",
       "        0.04865719, 0.05126358, 0.05321567, 0.06589049, 0.06611637,\n",
       "        0.07043755, 0.07161857, 0.07854598, 0.07981464, 0.07988187,\n",
       "        0.08214651, 0.08261335, 0.08819257, 0.08825766]),\n",
       " array([0.00095896, 0.00116479, 0.00146048, 0.00259712, 0.00296342,\n",
       "        0.00296865, 0.0029716 , 0.00308729, 0.00309174, 0.00314429,\n",
       "        0.00322812, 0.00329335, 0.00458076, 0.00569367, 0.00735524,\n",
       "        0.16762529, 0.16948826, 0.1697349 , 0.1697543 , 0.17913683,\n",
       "        0.18110911, 0.1820253 , 0.18526956, 0.18609798, 0.18782549,\n",
       "        0.18887895, 0.19046209, 0.19058736, 0.19199789, 0.19216388,\n",
       "        0.19243005, 0.19373856, 0.20228006, 0.20231106, 0.2063705 ,\n",
       "        0.20644499, 0.20880638, 0.21202788, 0.21334811, 0.21620404,\n",
       "        0.2181242 , 0.23695263, 0.23756364, 0.23804703, 0.23805624,\n",
       "        0.24035765, 0.24041794]),\n",
       " array([], dtype=float64),\n",
       " array([], dtype=float64),\n",
       " array([], dtype=float64),\n",
       " array([7.21502906e-05]),\n",
       " array([], dtype=float64),\n",
       " array([0.0002856, 0.0011871]),\n",
       " array([0.00107986, 0.00204334, 0.00204341, 0.01013617, 0.01683585,\n",
       "        0.0177554 , 0.01803307, 0.0253142 , 0.02576716, 0.02597835,\n",
       "        0.02721985]),\n",
       " array([0.00155802, 0.00251697, 0.00251936, 0.00251937, 0.00420609,\n",
       "        0.00520801, 0.00628787, 0.0064937 , 0.0067793 , 0.00913872,\n",
       "        0.00943441, 0.01057106, 0.01093735, 0.01094258, 0.01190606,\n",
       "        0.01190901, 0.01281051, 0.01281132, 0.01362189, 0.01373758,\n",
       "        0.0137947 , 0.0140579 , 0.01405797, 0.01406242, 0.01411497,\n",
       "        0.03424248, 0.03432632, 0.03435519, 0.03683942, 0.03690465,\n",
       "        0.03882142, 0.04010882, 0.04122174, 0.0428833 , 0.20315335,\n",
       "        0.20501632, 0.21310907, 0.21335572, 0.21337512, 0.21543643,\n",
       "        0.21549549, 0.21565145, 0.22503397, 0.23173366, 0.23370594,\n",
       "        0.23462213, 0.2378664 , 0.23938627, 0.24030582, 0.24318811,\n",
       "        0.24401652, 0.24574404, 0.24679749, 0.24838064, 0.24848738,\n",
       "        0.24934346, 0.24946873, 0.2497464 , 0.25702753, 0.25843806,\n",
       "        0.25860404, 0.25887022, 0.26017872, 0.26045892, 0.26053867,\n",
       "        0.26269018, 0.27123169, 0.27429863, 0.27432962, 0.27838907,\n",
       "        0.28152898, 0.28160347, 0.28420987, 0.28616196, 0.28852335,\n",
       "        0.30119817, 0.30127032, 0.30449182, 0.30494478, 0.30515597,\n",
       "        0.3064762 , 0.30670207, 0.309558  , 0.31387919, 0.31579935,\n",
       "        0.31698037, 0.32390779, 0.34273622, 0.34397772, 0.34458872,\n",
       "        0.34507211, 0.34634077, 0.34634998, 0.34641721, 0.34868184,\n",
       "        0.34914869, 0.35472791, 0.354793  , 0.35709441, 0.3571547 ])]"
      ]
     },
     "execution_count": 16,
     "metadata": {},
     "output_type": "execute_result"
    }
   ],
   "source": [
    "b_hoeff.implementable_expert.cumloss_groupwise_oridge"
   ]
  },
  {
   "cell_type": "code",
   "execution_count": 40,
   "id": "57305083-6506-410a-b193-6e6fa96a357f",
   "metadata": {},
   "outputs": [],
   "source": [
    "from OnlineHoeffTreeExpert import *\n",
    "experts = [HoeffdingTree_expert() for _ in range(A_t.shape[1])]"
   ]
  },
  {
   "cell_type": "code",
   "execution_count": 41,
   "id": "2bd6636c-705e-40c1-86de-9e9c4061df86",
   "metadata": {},
   "outputs": [
    {
     "name": "stderr",
     "output_type": "stream",
     "text": [
      "100%|██████████| 100/100 [00:00<00:00, 1150.67it/s]\n"
     ]
    },
    {
     "ename": "PicklingError",
     "evalue": "Can't pickle <class 'skmultiflow.trees.hoeffding_tree_regressor.HoeffdingTreeRegressor'>: it's not found as skmultiflow.trees.hoeffding_tree_regressor.HoeffdingTreeRegressor",
     "output_type": "error",
     "traceback": [
      "\u001b[0;31m---------------------------------------------------------------------------\u001b[0m",
      "\u001b[0;31mPicklingError\u001b[0m                             Traceback (most recent call last)",
      "Cell \u001b[0;32mIn[41], line 5\u001b[0m\n\u001b[1;32m      1\u001b[0m \u001b[38;5;66;03m# Anh_new = build_Anh(dirname, filename, X_dat, \\\u001b[39;00m\n\u001b[1;32m      2\u001b[0m \u001b[38;5;66;03m#                     y_dat, A_t, \\\u001b[39;00m\n\u001b[1;32m      3\u001b[0m \u001b[38;5;66;03m#                     experts\u001b[39;00m\n\u001b[1;32m      4\u001b[0m \u001b[38;5;66;03m#                      )\u001b[39;00m\n\u001b[0;32m----> 5\u001b[0m Anh_new \u001b[38;5;241m=\u001b[39m \u001b[43mbuild_Anh\u001b[49m\u001b[43m(\u001b[49m\u001b[43mdirname\u001b[49m\u001b[43m,\u001b[49m\u001b[43m \u001b[49m\u001b[43mfilename\u001b[49m\u001b[43m,\u001b[49m\u001b[43m \u001b[49m\u001b[43mX_dat\u001b[49m\u001b[38;5;241;43m.\u001b[39;49m\u001b[43miloc\u001b[49m\u001b[43m[\u001b[49m\u001b[43m:\u001b[49m\u001b[38;5;241;43m100\u001b[39;49m\u001b[43m]\u001b[49m\u001b[43m,\u001b[49m\u001b[43m \u001b[49m\u001b[43m\\\u001b[49m\n\u001b[1;32m      6\u001b[0m \u001b[43m                    \u001b[49m\u001b[43my_dat\u001b[49m\u001b[38;5;241;43m.\u001b[39;49m\u001b[43miloc\u001b[49m\u001b[43m[\u001b[49m\u001b[43m:\u001b[49m\u001b[38;5;241;43m100\u001b[39;49m\u001b[43m]\u001b[49m\u001b[43m,\u001b[49m\u001b[43m \u001b[49m\u001b[43mA_t\u001b[49m\u001b[43m[\u001b[49m\u001b[43m:\u001b[49m\u001b[38;5;241;43m100\u001b[39;49m\u001b[43m]\u001b[49m\u001b[43m,\u001b[49m\u001b[43m \u001b[49m\u001b[43m\\\u001b[49m\n\u001b[1;32m      7\u001b[0m \u001b[43m                    \u001b[49m\u001b[43mexperts\u001b[49m\n\u001b[1;32m      8\u001b[0m \u001b[43m                     \u001b[49m\u001b[43m)\u001b[49m\n",
      "File \u001b[0;32m~/md_github_lat/multigroupcode/multigroup-code/build_all_models.py:31\u001b[0m, in \u001b[0;36mbuild_Anh.__init__\u001b[0;34m(self, dir_name, filename, X_dat, y_dat, A_t, experts)\u001b[0m\n\u001b[1;32m     28\u001b[0m     \u001b[38;5;28mself\u001b[39m\u001b[38;5;241m.\u001b[39mexperts \u001b[38;5;241m=\u001b[39m experts\n\u001b[1;32m     29\u001b[0m     \u001b[38;5;28mself\u001b[39m\u001b[38;5;241m.\u001b[39mbuild()\n\u001b[0;32m---> 31\u001b[0m \u001b[38;5;28;01mdef\u001b[39;00m \u001b[38;5;21mbuild\u001b[39m(\u001b[38;5;28mself\u001b[39m):\n\u001b[1;32m     32\u001b[0m     Anh \u001b[38;5;241m=\u001b[39m Adanormal_sleepingexps(\u001b[38;5;28mself\u001b[39m\u001b[38;5;241m.\u001b[39mN, \u001b[38;5;28mself\u001b[39m\u001b[38;5;241m.\u001b[39mexperts) \u001b[38;5;66;03m#adanormal hedge\u001b[39;00m\n\u001b[1;32m     33\u001b[0m     \u001b[38;5;28;01mfor\u001b[39;00m t \u001b[38;5;129;01min\u001b[39;00m tqdm(\u001b[38;5;28mrange\u001b[39m(\u001b[38;5;28mself\u001b[39m\u001b[38;5;241m.\u001b[39mT)):\n",
      "File \u001b[0;32m~/md_github_lat/multigroupcode/multigroup-code/build_all_models.py:41\u001b[0m, in \u001b[0;36mbuild\u001b[0;34m(self)\u001b[0m\n\u001b[1;32m     38\u001b[0m         save_loc \u001b[38;5;241m=\u001b[39m \u001b[38;5;124mf\u001b[39m\u001b[38;5;124m'''\u001b[39m\u001b[38;5;132;01m{\u001b[39;00m\u001b[38;5;28mself\u001b[39m\u001b[38;5;241m.\u001b[39mdir_name\u001b[38;5;132;01m}\u001b[39;00m\u001b[38;5;124m/\u001b[39m\u001b[38;5;132;01m{\u001b[39;00m\u001b[38;5;28mself\u001b[39m\u001b[38;5;241m.\u001b[39mfilename\u001b[38;5;132;01m}\u001b[39;00m\u001b[38;5;124m.pkl\u001b[39m\u001b[38;5;124m'''\u001b[39m\n\u001b[1;32m     39\u001b[0m         joblib\u001b[38;5;241m.\u001b[39mdump(Anh, save_loc)\n\u001b[0;32m---> 41\u001b[0m \u001b[38;5;28;01mclass\u001b[39;00m \u001b[38;5;21;01mbuild_baseline_alwayson\u001b[39;00m:\n\u001b[1;32m     42\u001b[0m     \u001b[38;5;28;01mdef\u001b[39;00m \u001b[38;5;21m__init__\u001b[39m(\u001b[38;5;28mself\u001b[39m, dir_name : \u001b[38;5;28mstr\u001b[39m, filename: \u001b[38;5;28mstr\u001b[39m, X_dat: pd\u001b[38;5;241m.\u001b[39mDataFrame, y_dat: pd\u001b[38;5;241m.\u001b[39mDataFrame, \\\n\u001b[1;32m     43\u001b[0m                 A_t: np\u001b[38;5;241m.\u001b[39mndarray, implementable_expert: ImplementableExpert, l2_pen \u001b[38;5;241m=\u001b[39m \u001b[38;5;241m1.0\u001b[39m):\n\u001b[1;32m     44\u001b[0m \u001b[38;5;250m        \u001b[39m\u001b[38;5;124;03m'''\u001b[39;00m\n\u001b[1;32m     45\u001b[0m \u001b[38;5;124;03m            implementable expert function class matches the one in Anh meta experts\u001b[39;00m\n\u001b[1;32m     46\u001b[0m \u001b[38;5;124;03m            for e.g. if least squares as baseline, then Anh meta experts are also LS\u001b[39;00m\n\u001b[1;32m     47\u001b[0m \u001b[38;5;124;03m        '''\u001b[39;00m\n",
      "File \u001b[0;32m~/.conda/envs/biasbounties/lib/python3.10/site-packages/joblib/numpy_pickle.py:553\u001b[0m, in \u001b[0;36mdump\u001b[0;34m(value, filename, compress, protocol, cache_size)\u001b[0m\n\u001b[1;32m    551\u001b[0m \u001b[38;5;28;01melif\u001b[39;00m is_filename:\n\u001b[1;32m    552\u001b[0m     \u001b[38;5;28;01mwith\u001b[39;00m \u001b[38;5;28mopen\u001b[39m(filename, \u001b[38;5;124m'\u001b[39m\u001b[38;5;124mwb\u001b[39m\u001b[38;5;124m'\u001b[39m) \u001b[38;5;28;01mas\u001b[39;00m f:\n\u001b[0;32m--> 553\u001b[0m         \u001b[43mNumpyPickler\u001b[49m\u001b[43m(\u001b[49m\u001b[43mf\u001b[49m\u001b[43m,\u001b[49m\u001b[43m \u001b[49m\u001b[43mprotocol\u001b[49m\u001b[38;5;241;43m=\u001b[39;49m\u001b[43mprotocol\u001b[49m\u001b[43m)\u001b[49m\u001b[38;5;241;43m.\u001b[39;49m\u001b[43mdump\u001b[49m\u001b[43m(\u001b[49m\u001b[43mvalue\u001b[49m\u001b[43m)\u001b[49m\n\u001b[1;32m    554\u001b[0m \u001b[38;5;28;01melse\u001b[39;00m:\n\u001b[1;32m    555\u001b[0m     NumpyPickler(filename, protocol\u001b[38;5;241m=\u001b[39mprotocol)\u001b[38;5;241m.\u001b[39mdump(value)\n",
      "File \u001b[0;32m~/.conda/envs/biasbounties/lib/python3.10/pickle.py:487\u001b[0m, in \u001b[0;36m_Pickler.dump\u001b[0;34m(self, obj)\u001b[0m\n\u001b[1;32m    485\u001b[0m \u001b[38;5;28;01mif\u001b[39;00m \u001b[38;5;28mself\u001b[39m\u001b[38;5;241m.\u001b[39mproto \u001b[38;5;241m>\u001b[39m\u001b[38;5;241m=\u001b[39m \u001b[38;5;241m4\u001b[39m:\n\u001b[1;32m    486\u001b[0m     \u001b[38;5;28mself\u001b[39m\u001b[38;5;241m.\u001b[39mframer\u001b[38;5;241m.\u001b[39mstart_framing()\n\u001b[0;32m--> 487\u001b[0m \u001b[38;5;28;43mself\u001b[39;49m\u001b[38;5;241;43m.\u001b[39;49m\u001b[43msave\u001b[49m\u001b[43m(\u001b[49m\u001b[43mobj\u001b[49m\u001b[43m)\u001b[49m\n\u001b[1;32m    488\u001b[0m \u001b[38;5;28mself\u001b[39m\u001b[38;5;241m.\u001b[39mwrite(STOP)\n\u001b[1;32m    489\u001b[0m \u001b[38;5;28mself\u001b[39m\u001b[38;5;241m.\u001b[39mframer\u001b[38;5;241m.\u001b[39mend_framing()\n",
      "File \u001b[0;32m~/.conda/envs/biasbounties/lib/python3.10/site-packages/joblib/numpy_pickle.py:355\u001b[0m, in \u001b[0;36mNumpyPickler.save\u001b[0;34m(self, obj)\u001b[0m\n\u001b[1;32m    352\u001b[0m     wrapper\u001b[38;5;241m.\u001b[39mwrite_array(obj, \u001b[38;5;28mself\u001b[39m)\n\u001b[1;32m    353\u001b[0m     \u001b[38;5;28;01mreturn\u001b[39;00m\n\u001b[0;32m--> 355\u001b[0m \u001b[38;5;28;01mreturn\u001b[39;00m \u001b[43mPickler\u001b[49m\u001b[38;5;241;43m.\u001b[39;49m\u001b[43msave\u001b[49m\u001b[43m(\u001b[49m\u001b[38;5;28;43mself\u001b[39;49m\u001b[43m,\u001b[49m\u001b[43m \u001b[49m\u001b[43mobj\u001b[49m\u001b[43m)\u001b[49m\n",
      "File \u001b[0;32m~/.conda/envs/biasbounties/lib/python3.10/pickle.py:603\u001b[0m, in \u001b[0;36m_Pickler.save\u001b[0;34m(self, obj, save_persistent_id)\u001b[0m\n\u001b[1;32m    599\u001b[0m     \u001b[38;5;28;01mraise\u001b[39;00m PicklingError(\u001b[38;5;124m\"\u001b[39m\u001b[38;5;124mTuple returned by \u001b[39m\u001b[38;5;132;01m%s\u001b[39;00m\u001b[38;5;124m must have \u001b[39m\u001b[38;5;124m\"\u001b[39m\n\u001b[1;32m    600\u001b[0m                         \u001b[38;5;124m\"\u001b[39m\u001b[38;5;124mtwo to six elements\u001b[39m\u001b[38;5;124m\"\u001b[39m \u001b[38;5;241m%\u001b[39m reduce)\n\u001b[1;32m    602\u001b[0m \u001b[38;5;66;03m# Save the reduce() output and finally memoize the object\u001b[39;00m\n\u001b[0;32m--> 603\u001b[0m \u001b[38;5;28;43mself\u001b[39;49m\u001b[38;5;241;43m.\u001b[39;49m\u001b[43msave_reduce\u001b[49m\u001b[43m(\u001b[49m\u001b[43mobj\u001b[49m\u001b[38;5;241;43m=\u001b[39;49m\u001b[43mobj\u001b[49m\u001b[43m,\u001b[49m\u001b[43m \u001b[49m\u001b[38;5;241;43m*\u001b[39;49m\u001b[43mrv\u001b[49m\u001b[43m)\u001b[49m\n",
      "File \u001b[0;32m~/.conda/envs/biasbounties/lib/python3.10/pickle.py:717\u001b[0m, in \u001b[0;36m_Pickler.save_reduce\u001b[0;34m(self, func, args, state, listitems, dictitems, state_setter, obj)\u001b[0m\n\u001b[1;32m    715\u001b[0m \u001b[38;5;28;01mif\u001b[39;00m state \u001b[38;5;129;01mis\u001b[39;00m \u001b[38;5;129;01mnot\u001b[39;00m \u001b[38;5;28;01mNone\u001b[39;00m:\n\u001b[1;32m    716\u001b[0m     \u001b[38;5;28;01mif\u001b[39;00m state_setter \u001b[38;5;129;01mis\u001b[39;00m \u001b[38;5;28;01mNone\u001b[39;00m:\n\u001b[0;32m--> 717\u001b[0m         \u001b[43msave\u001b[49m\u001b[43m(\u001b[49m\u001b[43mstate\u001b[49m\u001b[43m)\u001b[49m\n\u001b[1;32m    718\u001b[0m         write(BUILD)\n\u001b[1;32m    719\u001b[0m     \u001b[38;5;28;01melse\u001b[39;00m:\n\u001b[1;32m    720\u001b[0m         \u001b[38;5;66;03m# If a state_setter is specified, call it instead of load_build\u001b[39;00m\n\u001b[1;32m    721\u001b[0m         \u001b[38;5;66;03m# to update obj's with its previous state.\u001b[39;00m\n\u001b[1;32m    722\u001b[0m         \u001b[38;5;66;03m# First, push state_setter and its tuple of expected arguments\u001b[39;00m\n\u001b[1;32m    723\u001b[0m         \u001b[38;5;66;03m# (obj, state) onto the stack.\u001b[39;00m\n",
      "File \u001b[0;32m~/.conda/envs/biasbounties/lib/python3.10/site-packages/joblib/numpy_pickle.py:355\u001b[0m, in \u001b[0;36mNumpyPickler.save\u001b[0;34m(self, obj)\u001b[0m\n\u001b[1;32m    352\u001b[0m     wrapper\u001b[38;5;241m.\u001b[39mwrite_array(obj, \u001b[38;5;28mself\u001b[39m)\n\u001b[1;32m    353\u001b[0m     \u001b[38;5;28;01mreturn\u001b[39;00m\n\u001b[0;32m--> 355\u001b[0m \u001b[38;5;28;01mreturn\u001b[39;00m \u001b[43mPickler\u001b[49m\u001b[38;5;241;43m.\u001b[39;49m\u001b[43msave\u001b[49m\u001b[43m(\u001b[49m\u001b[38;5;28;43mself\u001b[39;49m\u001b[43m,\u001b[49m\u001b[43m \u001b[49m\u001b[43mobj\u001b[49m\u001b[43m)\u001b[49m\n",
      "File \u001b[0;32m~/.conda/envs/biasbounties/lib/python3.10/pickle.py:560\u001b[0m, in \u001b[0;36m_Pickler.save\u001b[0;34m(self, obj, save_persistent_id)\u001b[0m\n\u001b[1;32m    558\u001b[0m f \u001b[38;5;241m=\u001b[39m \u001b[38;5;28mself\u001b[39m\u001b[38;5;241m.\u001b[39mdispatch\u001b[38;5;241m.\u001b[39mget(t)\n\u001b[1;32m    559\u001b[0m \u001b[38;5;28;01mif\u001b[39;00m f \u001b[38;5;129;01mis\u001b[39;00m \u001b[38;5;129;01mnot\u001b[39;00m \u001b[38;5;28;01mNone\u001b[39;00m:\n\u001b[0;32m--> 560\u001b[0m     \u001b[43mf\u001b[49m\u001b[43m(\u001b[49m\u001b[38;5;28;43mself\u001b[39;49m\u001b[43m,\u001b[49m\u001b[43m \u001b[49m\u001b[43mobj\u001b[49m\u001b[43m)\u001b[49m  \u001b[38;5;66;03m# Call unbound method with explicit self\u001b[39;00m\n\u001b[1;32m    561\u001b[0m     \u001b[38;5;28;01mreturn\u001b[39;00m\n\u001b[1;32m    563\u001b[0m \u001b[38;5;66;03m# Check private dispatch table if any, or else\u001b[39;00m\n\u001b[1;32m    564\u001b[0m \u001b[38;5;66;03m# copyreg.dispatch_table\u001b[39;00m\n",
      "File \u001b[0;32m~/.conda/envs/biasbounties/lib/python3.10/pickle.py:972\u001b[0m, in \u001b[0;36m_Pickler.save_dict\u001b[0;34m(self, obj)\u001b[0m\n\u001b[1;32m    969\u001b[0m     \u001b[38;5;28mself\u001b[39m\u001b[38;5;241m.\u001b[39mwrite(MARK \u001b[38;5;241m+\u001b[39m DICT)\n\u001b[1;32m    971\u001b[0m \u001b[38;5;28mself\u001b[39m\u001b[38;5;241m.\u001b[39mmemoize(obj)\n\u001b[0;32m--> 972\u001b[0m \u001b[38;5;28;43mself\u001b[39;49m\u001b[38;5;241;43m.\u001b[39;49m\u001b[43m_batch_setitems\u001b[49m\u001b[43m(\u001b[49m\u001b[43mobj\u001b[49m\u001b[38;5;241;43m.\u001b[39;49m\u001b[43mitems\u001b[49m\u001b[43m(\u001b[49m\u001b[43m)\u001b[49m\u001b[43m)\u001b[49m\n",
      "File \u001b[0;32m~/.conda/envs/biasbounties/lib/python3.10/pickle.py:998\u001b[0m, in \u001b[0;36m_Pickler._batch_setitems\u001b[0;34m(self, items)\u001b[0m\n\u001b[1;32m    996\u001b[0m     \u001b[38;5;28;01mfor\u001b[39;00m k, v \u001b[38;5;129;01min\u001b[39;00m tmp:\n\u001b[1;32m    997\u001b[0m         save(k)\n\u001b[0;32m--> 998\u001b[0m         \u001b[43msave\u001b[49m\u001b[43m(\u001b[49m\u001b[43mv\u001b[49m\u001b[43m)\u001b[49m\n\u001b[1;32m    999\u001b[0m     write(SETITEMS)\n\u001b[1;32m   1000\u001b[0m \u001b[38;5;28;01melif\u001b[39;00m n:\n",
      "File \u001b[0;32m~/.conda/envs/biasbounties/lib/python3.10/site-packages/joblib/numpy_pickle.py:355\u001b[0m, in \u001b[0;36mNumpyPickler.save\u001b[0;34m(self, obj)\u001b[0m\n\u001b[1;32m    352\u001b[0m     wrapper\u001b[38;5;241m.\u001b[39mwrite_array(obj, \u001b[38;5;28mself\u001b[39m)\n\u001b[1;32m    353\u001b[0m     \u001b[38;5;28;01mreturn\u001b[39;00m\n\u001b[0;32m--> 355\u001b[0m \u001b[38;5;28;01mreturn\u001b[39;00m \u001b[43mPickler\u001b[49m\u001b[38;5;241;43m.\u001b[39;49m\u001b[43msave\u001b[49m\u001b[43m(\u001b[49m\u001b[38;5;28;43mself\u001b[39;49m\u001b[43m,\u001b[49m\u001b[43m \u001b[49m\u001b[43mobj\u001b[49m\u001b[43m)\u001b[49m\n",
      "File \u001b[0;32m~/.conda/envs/biasbounties/lib/python3.10/pickle.py:560\u001b[0m, in \u001b[0;36m_Pickler.save\u001b[0;34m(self, obj, save_persistent_id)\u001b[0m\n\u001b[1;32m    558\u001b[0m f \u001b[38;5;241m=\u001b[39m \u001b[38;5;28mself\u001b[39m\u001b[38;5;241m.\u001b[39mdispatch\u001b[38;5;241m.\u001b[39mget(t)\n\u001b[1;32m    559\u001b[0m \u001b[38;5;28;01mif\u001b[39;00m f \u001b[38;5;129;01mis\u001b[39;00m \u001b[38;5;129;01mnot\u001b[39;00m \u001b[38;5;28;01mNone\u001b[39;00m:\n\u001b[0;32m--> 560\u001b[0m     \u001b[43mf\u001b[49m\u001b[43m(\u001b[49m\u001b[38;5;28;43mself\u001b[39;49m\u001b[43m,\u001b[49m\u001b[43m \u001b[49m\u001b[43mobj\u001b[49m\u001b[43m)\u001b[49m  \u001b[38;5;66;03m# Call unbound method with explicit self\u001b[39;00m\n\u001b[1;32m    561\u001b[0m     \u001b[38;5;28;01mreturn\u001b[39;00m\n\u001b[1;32m    563\u001b[0m \u001b[38;5;66;03m# Check private dispatch table if any, or else\u001b[39;00m\n\u001b[1;32m    564\u001b[0m \u001b[38;5;66;03m# copyreg.dispatch_table\u001b[39;00m\n",
      "File \u001b[0;32m~/.conda/envs/biasbounties/lib/python3.10/pickle.py:932\u001b[0m, in \u001b[0;36m_Pickler.save_list\u001b[0;34m(self, obj)\u001b[0m\n\u001b[1;32m    929\u001b[0m     \u001b[38;5;28mself\u001b[39m\u001b[38;5;241m.\u001b[39mwrite(MARK \u001b[38;5;241m+\u001b[39m LIST)\n\u001b[1;32m    931\u001b[0m \u001b[38;5;28mself\u001b[39m\u001b[38;5;241m.\u001b[39mmemoize(obj)\n\u001b[0;32m--> 932\u001b[0m \u001b[38;5;28;43mself\u001b[39;49m\u001b[38;5;241;43m.\u001b[39;49m\u001b[43m_batch_appends\u001b[49m\u001b[43m(\u001b[49m\u001b[43mobj\u001b[49m\u001b[43m)\u001b[49m\n",
      "File \u001b[0;32m~/.conda/envs/biasbounties/lib/python3.10/pickle.py:956\u001b[0m, in \u001b[0;36m_Pickler._batch_appends\u001b[0;34m(self, items)\u001b[0m\n\u001b[1;32m    954\u001b[0m     write(MARK)\n\u001b[1;32m    955\u001b[0m     \u001b[38;5;28;01mfor\u001b[39;00m x \u001b[38;5;129;01min\u001b[39;00m tmp:\n\u001b[0;32m--> 956\u001b[0m         \u001b[43msave\u001b[49m\u001b[43m(\u001b[49m\u001b[43mx\u001b[49m\u001b[43m)\u001b[49m\n\u001b[1;32m    957\u001b[0m     write(APPENDS)\n\u001b[1;32m    958\u001b[0m \u001b[38;5;28;01melif\u001b[39;00m n:\n",
      "File \u001b[0;32m~/.conda/envs/biasbounties/lib/python3.10/site-packages/joblib/numpy_pickle.py:355\u001b[0m, in \u001b[0;36mNumpyPickler.save\u001b[0;34m(self, obj)\u001b[0m\n\u001b[1;32m    352\u001b[0m     wrapper\u001b[38;5;241m.\u001b[39mwrite_array(obj, \u001b[38;5;28mself\u001b[39m)\n\u001b[1;32m    353\u001b[0m     \u001b[38;5;28;01mreturn\u001b[39;00m\n\u001b[0;32m--> 355\u001b[0m \u001b[38;5;28;01mreturn\u001b[39;00m \u001b[43mPickler\u001b[49m\u001b[38;5;241;43m.\u001b[39;49m\u001b[43msave\u001b[49m\u001b[43m(\u001b[49m\u001b[38;5;28;43mself\u001b[39;49m\u001b[43m,\u001b[49m\u001b[43m \u001b[49m\u001b[43mobj\u001b[49m\u001b[43m)\u001b[49m\n",
      "File \u001b[0;32m~/.conda/envs/biasbounties/lib/python3.10/pickle.py:603\u001b[0m, in \u001b[0;36m_Pickler.save\u001b[0;34m(self, obj, save_persistent_id)\u001b[0m\n\u001b[1;32m    599\u001b[0m     \u001b[38;5;28;01mraise\u001b[39;00m PicklingError(\u001b[38;5;124m\"\u001b[39m\u001b[38;5;124mTuple returned by \u001b[39m\u001b[38;5;132;01m%s\u001b[39;00m\u001b[38;5;124m must have \u001b[39m\u001b[38;5;124m\"\u001b[39m\n\u001b[1;32m    600\u001b[0m                         \u001b[38;5;124m\"\u001b[39m\u001b[38;5;124mtwo to six elements\u001b[39m\u001b[38;5;124m\"\u001b[39m \u001b[38;5;241m%\u001b[39m reduce)\n\u001b[1;32m    602\u001b[0m \u001b[38;5;66;03m# Save the reduce() output and finally memoize the object\u001b[39;00m\n\u001b[0;32m--> 603\u001b[0m \u001b[38;5;28;43mself\u001b[39;49m\u001b[38;5;241;43m.\u001b[39;49m\u001b[43msave_reduce\u001b[49m\u001b[43m(\u001b[49m\u001b[43mobj\u001b[49m\u001b[38;5;241;43m=\u001b[39;49m\u001b[43mobj\u001b[49m\u001b[43m,\u001b[49m\u001b[43m \u001b[49m\u001b[38;5;241;43m*\u001b[39;49m\u001b[43mrv\u001b[49m\u001b[43m)\u001b[49m\n",
      "File \u001b[0;32m~/.conda/envs/biasbounties/lib/python3.10/pickle.py:717\u001b[0m, in \u001b[0;36m_Pickler.save_reduce\u001b[0;34m(self, func, args, state, listitems, dictitems, state_setter, obj)\u001b[0m\n\u001b[1;32m    715\u001b[0m \u001b[38;5;28;01mif\u001b[39;00m state \u001b[38;5;129;01mis\u001b[39;00m \u001b[38;5;129;01mnot\u001b[39;00m \u001b[38;5;28;01mNone\u001b[39;00m:\n\u001b[1;32m    716\u001b[0m     \u001b[38;5;28;01mif\u001b[39;00m state_setter \u001b[38;5;129;01mis\u001b[39;00m \u001b[38;5;28;01mNone\u001b[39;00m:\n\u001b[0;32m--> 717\u001b[0m         \u001b[43msave\u001b[49m\u001b[43m(\u001b[49m\u001b[43mstate\u001b[49m\u001b[43m)\u001b[49m\n\u001b[1;32m    718\u001b[0m         write(BUILD)\n\u001b[1;32m    719\u001b[0m     \u001b[38;5;28;01melse\u001b[39;00m:\n\u001b[1;32m    720\u001b[0m         \u001b[38;5;66;03m# If a state_setter is specified, call it instead of load_build\u001b[39;00m\n\u001b[1;32m    721\u001b[0m         \u001b[38;5;66;03m# to update obj's with its previous state.\u001b[39;00m\n\u001b[1;32m    722\u001b[0m         \u001b[38;5;66;03m# First, push state_setter and its tuple of expected arguments\u001b[39;00m\n\u001b[1;32m    723\u001b[0m         \u001b[38;5;66;03m# (obj, state) onto the stack.\u001b[39;00m\n",
      "File \u001b[0;32m~/.conda/envs/biasbounties/lib/python3.10/site-packages/joblib/numpy_pickle.py:355\u001b[0m, in \u001b[0;36mNumpyPickler.save\u001b[0;34m(self, obj)\u001b[0m\n\u001b[1;32m    352\u001b[0m     wrapper\u001b[38;5;241m.\u001b[39mwrite_array(obj, \u001b[38;5;28mself\u001b[39m)\n\u001b[1;32m    353\u001b[0m     \u001b[38;5;28;01mreturn\u001b[39;00m\n\u001b[0;32m--> 355\u001b[0m \u001b[38;5;28;01mreturn\u001b[39;00m \u001b[43mPickler\u001b[49m\u001b[38;5;241;43m.\u001b[39;49m\u001b[43msave\u001b[49m\u001b[43m(\u001b[49m\u001b[38;5;28;43mself\u001b[39;49m\u001b[43m,\u001b[49m\u001b[43m \u001b[49m\u001b[43mobj\u001b[49m\u001b[43m)\u001b[49m\n",
      "File \u001b[0;32m~/.conda/envs/biasbounties/lib/python3.10/pickle.py:560\u001b[0m, in \u001b[0;36m_Pickler.save\u001b[0;34m(self, obj, save_persistent_id)\u001b[0m\n\u001b[1;32m    558\u001b[0m f \u001b[38;5;241m=\u001b[39m \u001b[38;5;28mself\u001b[39m\u001b[38;5;241m.\u001b[39mdispatch\u001b[38;5;241m.\u001b[39mget(t)\n\u001b[1;32m    559\u001b[0m \u001b[38;5;28;01mif\u001b[39;00m f \u001b[38;5;129;01mis\u001b[39;00m \u001b[38;5;129;01mnot\u001b[39;00m \u001b[38;5;28;01mNone\u001b[39;00m:\n\u001b[0;32m--> 560\u001b[0m     \u001b[43mf\u001b[49m\u001b[43m(\u001b[49m\u001b[38;5;28;43mself\u001b[39;49m\u001b[43m,\u001b[49m\u001b[43m \u001b[49m\u001b[43mobj\u001b[49m\u001b[43m)\u001b[49m  \u001b[38;5;66;03m# Call unbound method with explicit self\u001b[39;00m\n\u001b[1;32m    561\u001b[0m     \u001b[38;5;28;01mreturn\u001b[39;00m\n\u001b[1;32m    563\u001b[0m \u001b[38;5;66;03m# Check private dispatch table if any, or else\u001b[39;00m\n\u001b[1;32m    564\u001b[0m \u001b[38;5;66;03m# copyreg.dispatch_table\u001b[39;00m\n",
      "File \u001b[0;32m~/.conda/envs/biasbounties/lib/python3.10/pickle.py:972\u001b[0m, in \u001b[0;36m_Pickler.save_dict\u001b[0;34m(self, obj)\u001b[0m\n\u001b[1;32m    969\u001b[0m     \u001b[38;5;28mself\u001b[39m\u001b[38;5;241m.\u001b[39mwrite(MARK \u001b[38;5;241m+\u001b[39m DICT)\n\u001b[1;32m    971\u001b[0m \u001b[38;5;28mself\u001b[39m\u001b[38;5;241m.\u001b[39mmemoize(obj)\n\u001b[0;32m--> 972\u001b[0m \u001b[38;5;28;43mself\u001b[39;49m\u001b[38;5;241;43m.\u001b[39;49m\u001b[43m_batch_setitems\u001b[49m\u001b[43m(\u001b[49m\u001b[43mobj\u001b[49m\u001b[38;5;241;43m.\u001b[39;49m\u001b[43mitems\u001b[49m\u001b[43m(\u001b[49m\u001b[43m)\u001b[49m\u001b[43m)\u001b[49m\n",
      "File \u001b[0;32m~/.conda/envs/biasbounties/lib/python3.10/pickle.py:998\u001b[0m, in \u001b[0;36m_Pickler._batch_setitems\u001b[0;34m(self, items)\u001b[0m\n\u001b[1;32m    996\u001b[0m     \u001b[38;5;28;01mfor\u001b[39;00m k, v \u001b[38;5;129;01min\u001b[39;00m tmp:\n\u001b[1;32m    997\u001b[0m         save(k)\n\u001b[0;32m--> 998\u001b[0m         \u001b[43msave\u001b[49m\u001b[43m(\u001b[49m\u001b[43mv\u001b[49m\u001b[43m)\u001b[49m\n\u001b[1;32m    999\u001b[0m     write(SETITEMS)\n\u001b[1;32m   1000\u001b[0m \u001b[38;5;28;01melif\u001b[39;00m n:\n",
      "File \u001b[0;32m~/.conda/envs/biasbounties/lib/python3.10/site-packages/joblib/numpy_pickle.py:355\u001b[0m, in \u001b[0;36mNumpyPickler.save\u001b[0;34m(self, obj)\u001b[0m\n\u001b[1;32m    352\u001b[0m     wrapper\u001b[38;5;241m.\u001b[39mwrite_array(obj, \u001b[38;5;28mself\u001b[39m)\n\u001b[1;32m    353\u001b[0m     \u001b[38;5;28;01mreturn\u001b[39;00m\n\u001b[0;32m--> 355\u001b[0m \u001b[38;5;28;01mreturn\u001b[39;00m \u001b[43mPickler\u001b[49m\u001b[38;5;241;43m.\u001b[39;49m\u001b[43msave\u001b[49m\u001b[43m(\u001b[49m\u001b[38;5;28;43mself\u001b[39;49m\u001b[43m,\u001b[49m\u001b[43m \u001b[49m\u001b[43mobj\u001b[49m\u001b[43m)\u001b[49m\n",
      "File \u001b[0;32m~/.conda/envs/biasbounties/lib/python3.10/pickle.py:603\u001b[0m, in \u001b[0;36m_Pickler.save\u001b[0;34m(self, obj, save_persistent_id)\u001b[0m\n\u001b[1;32m    599\u001b[0m     \u001b[38;5;28;01mraise\u001b[39;00m PicklingError(\u001b[38;5;124m\"\u001b[39m\u001b[38;5;124mTuple returned by \u001b[39m\u001b[38;5;132;01m%s\u001b[39;00m\u001b[38;5;124m must have \u001b[39m\u001b[38;5;124m\"\u001b[39m\n\u001b[1;32m    600\u001b[0m                         \u001b[38;5;124m\"\u001b[39m\u001b[38;5;124mtwo to six elements\u001b[39m\u001b[38;5;124m\"\u001b[39m \u001b[38;5;241m%\u001b[39m reduce)\n\u001b[1;32m    602\u001b[0m \u001b[38;5;66;03m# Save the reduce() output and finally memoize the object\u001b[39;00m\n\u001b[0;32m--> 603\u001b[0m \u001b[38;5;28;43mself\u001b[39;49m\u001b[38;5;241;43m.\u001b[39;49m\u001b[43msave_reduce\u001b[49m\u001b[43m(\u001b[49m\u001b[43mobj\u001b[49m\u001b[38;5;241;43m=\u001b[39;49m\u001b[43mobj\u001b[49m\u001b[43m,\u001b[49m\u001b[43m \u001b[49m\u001b[38;5;241;43m*\u001b[39;49m\u001b[43mrv\u001b[49m\u001b[43m)\u001b[49m\n",
      "File \u001b[0;32m~/.conda/envs/biasbounties/lib/python3.10/pickle.py:687\u001b[0m, in \u001b[0;36m_Pickler.save_reduce\u001b[0;34m(self, func, args, state, listitems, dictitems, state_setter, obj)\u001b[0m\n\u001b[1;32m    684\u001b[0m     \u001b[38;5;28;01mraise\u001b[39;00m PicklingError(\n\u001b[1;32m    685\u001b[0m         \u001b[38;5;124m\"\u001b[39m\u001b[38;5;124margs[0] from __newobj__ args has the wrong class\u001b[39m\u001b[38;5;124m\"\u001b[39m)\n\u001b[1;32m    686\u001b[0m args \u001b[38;5;241m=\u001b[39m args[\u001b[38;5;241m1\u001b[39m:]\n\u001b[0;32m--> 687\u001b[0m \u001b[43msave\u001b[49m\u001b[43m(\u001b[49m\u001b[38;5;28;43mcls\u001b[39;49m\u001b[43m)\u001b[49m\n\u001b[1;32m    688\u001b[0m save(args)\n\u001b[1;32m    689\u001b[0m write(NEWOBJ)\n",
      "File \u001b[0;32m~/.conda/envs/biasbounties/lib/python3.10/site-packages/joblib/numpy_pickle.py:355\u001b[0m, in \u001b[0;36mNumpyPickler.save\u001b[0;34m(self, obj)\u001b[0m\n\u001b[1;32m    352\u001b[0m     wrapper\u001b[38;5;241m.\u001b[39mwrite_array(obj, \u001b[38;5;28mself\u001b[39m)\n\u001b[1;32m    353\u001b[0m     \u001b[38;5;28;01mreturn\u001b[39;00m\n\u001b[0;32m--> 355\u001b[0m \u001b[38;5;28;01mreturn\u001b[39;00m \u001b[43mPickler\u001b[49m\u001b[38;5;241;43m.\u001b[39;49m\u001b[43msave\u001b[49m\u001b[43m(\u001b[49m\u001b[38;5;28;43mself\u001b[39;49m\u001b[43m,\u001b[49m\u001b[43m \u001b[49m\u001b[43mobj\u001b[49m\u001b[43m)\u001b[49m\n",
      "File \u001b[0;32m~/.conda/envs/biasbounties/lib/python3.10/pickle.py:572\u001b[0m, in \u001b[0;36m_Pickler.save\u001b[0;34m(self, obj, save_persistent_id)\u001b[0m\n\u001b[1;32m    568\u001b[0m \u001b[38;5;28;01melse\u001b[39;00m:\n\u001b[1;32m    569\u001b[0m     \u001b[38;5;66;03m# Check for a class with a custom metaclass; treat as regular\u001b[39;00m\n\u001b[1;32m    570\u001b[0m     \u001b[38;5;66;03m# class\u001b[39;00m\n\u001b[1;32m    571\u001b[0m     \u001b[38;5;28;01mif\u001b[39;00m \u001b[38;5;28missubclass\u001b[39m(t, \u001b[38;5;28mtype\u001b[39m):\n\u001b[0;32m--> 572\u001b[0m         \u001b[38;5;28;43mself\u001b[39;49m\u001b[38;5;241;43m.\u001b[39;49m\u001b[43msave_global\u001b[49m\u001b[43m(\u001b[49m\u001b[43mobj\u001b[49m\u001b[43m)\u001b[49m\n\u001b[1;32m    573\u001b[0m         \u001b[38;5;28;01mreturn\u001b[39;00m\n\u001b[1;32m    575\u001b[0m     \u001b[38;5;66;03m# Check for a __reduce_ex__ method, fall back to __reduce__\u001b[39;00m\n",
      "File \u001b[0;32m~/.conda/envs/biasbounties/lib/python3.10/pickle.py:1071\u001b[0m, in \u001b[0;36m_Pickler.save_global\u001b[0;34m(self, obj, name)\u001b[0m\n\u001b[1;32m   1069\u001b[0m     obj2, parent \u001b[38;5;241m=\u001b[39m _getattribute(module, name)\n\u001b[1;32m   1070\u001b[0m \u001b[38;5;28;01mexcept\u001b[39;00m (\u001b[38;5;167;01mImportError\u001b[39;00m, \u001b[38;5;167;01mKeyError\u001b[39;00m, \u001b[38;5;167;01mAttributeError\u001b[39;00m):\n\u001b[0;32m-> 1071\u001b[0m     \u001b[38;5;28;01mraise\u001b[39;00m PicklingError(\n\u001b[1;32m   1072\u001b[0m         \u001b[38;5;124m\"\u001b[39m\u001b[38;5;124mCan\u001b[39m\u001b[38;5;124m'\u001b[39m\u001b[38;5;124mt pickle \u001b[39m\u001b[38;5;132;01m%r\u001b[39;00m\u001b[38;5;124m: it\u001b[39m\u001b[38;5;124m'\u001b[39m\u001b[38;5;124ms not found as \u001b[39m\u001b[38;5;132;01m%s\u001b[39;00m\u001b[38;5;124m.\u001b[39m\u001b[38;5;132;01m%s\u001b[39;00m\u001b[38;5;124m\"\u001b[39m \u001b[38;5;241m%\u001b[39m\n\u001b[1;32m   1073\u001b[0m         (obj, module_name, name)) \u001b[38;5;28;01mfrom\u001b[39;00m \u001b[38;5;28;01mNone\u001b[39;00m\n\u001b[1;32m   1074\u001b[0m \u001b[38;5;28;01melse\u001b[39;00m:\n\u001b[1;32m   1075\u001b[0m     \u001b[38;5;28;01mif\u001b[39;00m obj2 \u001b[38;5;129;01mis\u001b[39;00m \u001b[38;5;129;01mnot\u001b[39;00m obj:\n",
      "\u001b[0;31mPicklingError\u001b[0m: Can't pickle <class 'skmultiflow.trees.hoeffding_tree_regressor.HoeffdingTreeRegressor'>: it's not found as skmultiflow.trees.hoeffding_tree_regressor.HoeffdingTreeRegressor"
     ]
    }
   ],
   "source": [
    "# Anh_new = build_Anh(dirname, filename, X_dat, \\\n",
    "#                     y_dat, A_t, \\\n",
    "#                     experts\n",
    "#                      )\n",
    "Anh_new = build_Anh(dirname, filename, X_dat.iloc[:100], \\\n",
    "                    y_dat.iloc[:100], A_t[:100], \\\n",
    "                    experts\n",
    "                     )"
   ]
  },
  {
   "cell_type": "code",
   "execution_count": 42,
   "id": "9cd19f17-b1ca-427b-a903-737801a2136f",
   "metadata": {},
   "outputs": [
    {
     "ename": "NameError",
     "evalue": "name 'Anh_new' is not defined",
     "output_type": "error",
     "traceback": [
      "\u001b[0;31m---------------------------------------------------------------------------\u001b[0m",
      "\u001b[0;31mNameError\u001b[0m                                 Traceback (most recent call last)",
      "Cell \u001b[0;32mIn[42], line 1\u001b[0m\n\u001b[0;32m----> 1\u001b[0m \u001b[43mAnh_new\u001b[49m\n",
      "\u001b[0;31mNameError\u001b[0m: name 'Anh_new' is not defined"
     ]
    }
   ],
   "source": [
    "Anh_new"
   ]
  },
  {
   "cell_type": "markdown",
   "id": "dfc8f8fd-f681-4e27-bdbe-7cf426b61a09",
   "metadata": {},
   "source": [
    "# old stuff below"
   ]
  },
  {
   "cell_type": "code",
   "execution_count": 23,
   "id": "bbf70b57-a4fa-4f09-8fb1-6dcf25427d52",
   "metadata": {},
   "outputs": [
    {
     "data": {
      "text/plain": [
       "(1, 14)"
      ]
     },
     "execution_count": 23,
     "metadata": {},
     "output_type": "execute_result"
    }
   ],
   "source": [
    "X_train.iloc[[1]].to_numpy().reshape(1,-1).shape"
   ]
  },
  {
   "cell_type": "code",
   "execution_count": 26,
   "id": "18016306-9238-499c-b8a4-847d39d08377",
   "metadata": {},
   "outputs": [
    {
     "data": {
      "text/plain": [
       "0.0"
      ]
     },
     "execution_count": 26,
     "metadata": {},
     "output_type": "execute_result"
    }
   ],
   "source": [
    "htreg_skmult.predict(X_train.iloc[[1]].to_numpy().reshape(1,-1).shape)[0]"
   ]
  },
  {
   "cell_type": "code",
   "execution_count": 6,
   "id": "6c04cbd5-fb14-4339-9171-4d2c1adbb03e",
   "metadata": {
    "tags": []
   },
   "outputs": [],
   "source": [
    "X_train_diclist = X_train.to_dict(orient='records')"
   ]
  },
  {
   "cell_type": "code",
   "execution_count": 8,
   "id": "fed07f9e-9d5b-4927-95e8-aafab6aa7b50",
   "metadata": {
    "tags": []
   },
   "outputs": [
    {
     "data": {
      "text/plain": [
       "{'OCCP': 34.0,\n",
       " 'WKHP': 0.07142857142857142,\n",
       " 'AGEP': 0.4683544303797468,\n",
       " 'SCHL': 19.0,\n",
       " 'ST': 39.0,\n",
       " 'JWTRNS': 11.0,\n",
       " 'DRAT': 0.0,\n",
       " 'COW': 0.0,\n",
       " 'SEX': 1.0,\n",
       " 'RELSHIPP': 5.0,\n",
       " 'POBP': 32.0,\n",
       " 'ENG': 1.0,\n",
       " 'MAR': 4.0,\n",
       " 'RAC1P': 1.0}"
      ]
     },
     "execution_count": 8,
     "metadata": {},
     "output_type": "execute_result"
    }
   ],
   "source": [
    "X_train_diclist[0]"
   ]
  },
  {
   "cell_type": "code",
   "execution_count": 30,
   "id": "50a74d3c-6057-4500-aacc-6accadc782db",
   "metadata": {
    "tags": []
   },
   "outputs": [],
   "source": [
    "hoeftree = tree.HoeffdingTreeRegressor(max_depth = 30) # river paakacge"
   ]
  },
  {
   "cell_type": "code",
   "execution_count": 31,
   "id": "bb3dc7ea-fc87-41d5-a336-2f9a24806fe6",
   "metadata": {
    "tags": []
   },
   "outputs": [
    {
     "name": "stderr",
     "output_type": "stream",
     "text": [
      "100%|██████████| 1255350/1255350 [03:39<00:00, 5720.80it/s]\n"
     ]
    }
   ],
   "source": [
    "for t in tqdm(range(X_train.shape[0])):\n",
    "    hoeftree.learn_one(X_train_diclist[t], y_train.iloc[t])"
   ]
  },
  {
   "cell_type": "code",
   "execution_count": 32,
   "id": "0cce0f3a-e476-4e89-946d-8bbceb40c42a",
   "metadata": {
    "tags": []
   },
   "outputs": [],
   "source": [
    "y_pred_test = np.empty(X_test.shape[0])\n",
    "for t in range(X_test.shape[0]):\n",
    "    y_pred_test[t] = hoeftree.predict_one(X_test_diclist[t])"
   ]
  },
  {
   "cell_type": "code",
   "execution_count": null,
   "id": "4cb84770-7d52-40cc-8ec8-53111ca77bec",
   "metadata": {
    "tags": []
   },
   "outputs": [],
   "source": [
    "from sklearn.metrics import r2_score"
   ]
  },
  {
   "cell_type": "code",
   "execution_count": 23,
   "id": "78de9b78-f6d8-4437-892c-54f35589c1c1",
   "metadata": {
    "tags": []
   },
   "outputs": [
    {
     "data": {
      "text/plain": [
       "0.456130042186772"
      ]
     },
     "execution_count": 23,
     "metadata": {},
     "output_type": "execute_result"
    }
   ],
   "source": [
    "r2_score(y_test, y_pred_test) # with max depth possible = 13"
   ]
  },
  {
   "cell_type": "code",
   "execution_count": 29,
   "id": "254d33d1-9e07-40f0-a9f8-09d598c9563f",
   "metadata": {
    "tags": []
   },
   "outputs": [
    {
     "data": {
      "text/plain": [
       "0.48491506950844876"
      ]
     },
     "execution_count": 29,
     "metadata": {},
     "output_type": "execute_result"
    }
   ],
   "source": [
    "r2_score(y_test, y_pred_test) # with max depth possible = 20"
   ]
  },
  {
   "cell_type": "code",
   "execution_count": 33,
   "id": "411a2ede-1386-4f58-91fc-1f8959860085",
   "metadata": {
    "tags": []
   },
   "outputs": [
    {
     "data": {
      "text/plain": [
       "0.48921635058878454"
      ]
     },
     "execution_count": 33,
     "metadata": {},
     "output_type": "execute_result"
    }
   ],
   "source": [
    "r2_score(y_test, y_pred_test) # with max depth possible = 30"
   ]
  },
  {
   "cell_type": "code",
   "execution_count": 35,
   "id": "9453687e-9083-494f-b4d6-3008aeca39be",
   "metadata": {
    "tags": []
   },
   "outputs": [
    {
     "data": {
      "text/plain": [
       "0.49508084441591205"
      ]
     },
     "execution_count": 35,
     "metadata": {},
     "output_type": "execute_result"
    }
   ],
   "source": [
    "y_pred_train = np.empty(X_train.shape[0])\n",
    "for t in range(X_train.shape[0]):\n",
    "    y_pred_train[t] = hoeftree.predict_one(X_train_diclist[t])\n",
    "r2_score(y_train, y_pred_train)"
   ]
  },
  {
   "cell_type": "markdown",
   "id": "fef7b7ca-12bd-4afd-96d8-82e25cdf3112",
   "metadata": {},
   "source": [
    "# Using Sklearn multi flow hoeffding tree regressor"
   ]
  },
  {
   "cell_type": "code",
   "execution_count": 24,
   "id": "2e1d7caa-482a-4c95-bc60-ad4ec41b6f1f",
   "metadata": {
    "tags": []
   },
   "outputs": [],
   "source": [
    "from skmultiflow.trees import HoeffdingTreeRegressor\n",
    "htreg_skmult = HoeffdingTreeRegressor()"
   ]
  },
  {
   "cell_type": "code",
   "execution_count": 5,
   "id": "e5cb2d7a-a75b-426b-b10e-26a67fe41b23",
   "metadata": {
    "tags": []
   },
   "outputs": [],
   "source": [
    "X_train_np = X_train.to_numpy()"
   ]
  },
  {
   "cell_type": "code",
   "execution_count": 6,
   "id": "b6127697-72a3-4a36-959b-4030d7587542",
   "metadata": {
    "tags": []
   },
   "outputs": [],
   "source": [
    "y_train_np = y_train.to_numpy()"
   ]
  },
  {
   "cell_type": "code",
   "execution_count": 10,
   "id": "0cd42b8f-54ac-455f-8610-d760e2ac627d",
   "metadata": {},
   "outputs": [
    {
     "data": {
      "text/plain": [
       "(14,)"
      ]
     },
     "execution_count": 10,
     "metadata": {},
     "output_type": "execute_result"
    }
   ],
   "source": [
    "X_train_np[0].shape"
   ]
  },
  {
   "cell_type": "code",
   "execution_count": 14,
   "id": "af60a193-7c77-409e-a9d9-dc64e3cb6446",
   "metadata": {},
   "outputs": [],
   "source": [
    "X_val = X_train_np[0].reshape(1, -1)"
   ]
  },
  {
   "cell_type": "code",
   "execution_count": 15,
   "id": "6fe16dee-391e-47d9-904b-f41703014a69",
   "metadata": {},
   "outputs": [],
   "source": [
    "htreg_skmult.partial_fit(X_val, [y_train_np[0]])"
   ]
  },
  {
   "cell_type": "code",
   "execution_count": 16,
   "id": "4eba5da7-b8d1-416e-a9c3-de70e6ef1239",
   "metadata": {},
   "outputs": [
    {
     "data": {
      "text/plain": [
       "array([0.05948272])"
      ]
     },
     "execution_count": 16,
     "metadata": {},
     "output_type": "execute_result"
    }
   ],
   "source": [
    "htreg_skmult.predict(X_val)"
   ]
  },
  {
   "cell_type": "code",
   "execution_count": 7,
   "id": "22382614-da45-46ca-8d26-75d8e8b47937",
   "metadata": {
    "tags": []
   },
   "outputs": [
    {
     "name": "stderr",
     "output_type": "stream",
     "text": [
      "100%|██████████| 1255350/1255350 [02:32<00:00, 8232.14it/s] \n"
     ]
    }
   ],
   "source": [
    "for t in tqdm(range(X_train.shape[0])):\n",
    "    X_val = X_train_np[t].reshape(1, -1)\n",
    "    #predict\n",
    "    htreg_skmult.partial_fit(X_val, [y_train_np[t]])"
   ]
  },
  {
   "cell_type": "code",
   "execution_count": 9,
   "id": "ce50fbdb-aad9-4279-8460-fb887ac73a42",
   "metadata": {
    "tags": []
   },
   "outputs": [],
   "source": [
    "y_pred_test_skflow = htreg_skmult.predict(X_test.to_numpy())\n",
    "y_pred_train_skflow = htreg_skmult.predict(X_train.to_numpy())"
   ]
  },
  {
   "cell_type": "code",
   "execution_count": 11,
   "id": "4c00d703-626b-4c17-ba09-c432afb2b4fb",
   "metadata": {
    "tags": []
   },
   "outputs": [
    {
     "data": {
      "text/plain": [
       "(0.4964391201517464, 0.5051641597192292)"
      ]
     },
     "execution_count": 11,
     "metadata": {},
     "output_type": "execute_result"
    }
   ],
   "source": [
    "from sklearn.metrics import r2_score\n",
    "r2_score(y_test, y_pred_test_skflow), r2_score(y_train, y_pred_train_skflow)"
   ]
  },
  {
   "cell_type": "markdown",
   "id": "bb440de5-bec7-49c0-aeb4-ee319bdf5e76",
   "metadata": {
    "tags": []
   },
   "source": [
    "# Comparing wrt linear regression, needs one hot"
   ]
  },
  {
   "cell_type": "code",
   "execution_count": 3,
   "id": "c87bde2a-3125-45ff-a166-ce18f4b9c2f2",
   "metadata": {
    "tags": []
   },
   "outputs": [],
   "source": [
    "df_oh = pd.read_pickle(\"./data_frames/dense_acs_mm_oh.pkl\")\n",
    "# cat_cols_sig = ['OCCP', 'SCHL', 'ST', 'JWTRNS', 'DRAT', 'COW', 'SEX', \\\n",
    "#        'RELSHIPP', 'POBP', 'ENG', 'MAR', 'RAC1P'] # significant features from the earlier analysis\n",
    "# numeric_cols = ['WKHP', 'AGEP', 'PINCP']\n",
    "from sklearn.model_selection import train_test_split\n",
    "rand_seed = 21\n",
    "X_train, X_test, y_train, y_test = train_test_split(df_oh.drop('PINCP', axis=1), \n",
    "                                                    df_oh['PINCP'], test_size = 0.2,\n",
    "                                                    random_state = rand_seed)"
   ]
  },
  {
   "cell_type": "code",
   "execution_count": null,
   "id": "a29c9ac5-dc7f-410c-ba57-34d6b2f4ee30",
   "metadata": {
    "tags": []
   },
   "outputs": [
    {
     "name": "stderr",
     "output_type": "stream",
     "text": [
      " 75%|███████▍  | 938399/1255350 [14:45<04:55, 1073.39it/s]"
     ]
    }
   ],
   "source": [
    "from river import linear_model\n",
    "lr = linear_model.LinearRegression()\n",
    "\n",
    "for t in tqdm(range(X_train.shape[0])):\n",
    "    lr.learn_many(X_train.iloc[[t]], y_train.iloc[[t]])"
   ]
  },
  {
   "cell_type": "code",
   "execution_count": 12,
   "id": "d7d64cd6-0e96-462a-8f43-aef1f34f3cac",
   "metadata": {
    "tags": []
   },
   "outputs": [
    {
     "data": {
      "text/plain": [
       "(0.41386102353173837, 0.4148610401953663)"
      ]
     },
     "execution_count": 12,
     "metadata": {},
     "output_type": "execute_result"
    }
   ],
   "source": [
    "from sklearn.metrics import r2_score\n",
    "\n",
    "y_pred_lr_train = lr.predict_many(X_train)\n",
    "y_pred_lr_test = lr.predict_many(X_test)\n",
    "\n",
    "\n",
    "r2_score(y_train, y_pred_lr_train), r2_score(y_test, y_pred_lr_test) # r2 score on train and test"
   ]
  },
  {
   "cell_type": "code",
   "execution_count": 32,
   "id": "7fbeeade-61e6-4871-bc10-7c2201e55961",
   "metadata": {
    "tags": []
   },
   "outputs": [
    {
     "data": {
      "text/plain": [
       "((1255350, 897), (313838, 897))"
      ]
     },
     "execution_count": 32,
     "metadata": {},
     "output_type": "execute_result"
    }
   ],
   "source": [
    "X_train.shape, X_test.shape"
   ]
  },
  {
   "cell_type": "code",
   "execution_count": 10,
   "id": "6ccc06b3-c383-4bea-9a9f-077322bdeaa9",
   "metadata": {
    "tags": []
   },
   "outputs": [
    {
     "name": "stderr",
     "output_type": "stream",
     "text": [
      "100%|██████████| 1255350/1255350 [22:07<00:00, 946.00it/s]\n"
     ]
    }
   ],
   "source": [
    "from river import linear_model\n",
    "ridge = linear_model.LinearRegression(l2 = 1.0)\n",
    "\n",
    "for t in tqdm(range(X_train.shape[0])):\n",
    "    ridge.learn_many(X_train.iloc[[t]], y_train.iloc[[t]])"
   ]
  },
  {
   "cell_type": "code",
   "execution_count": 13,
   "id": "2694b6a5-8288-485e-b693-0142a7dce33c",
   "metadata": {
    "tags": []
   },
   "outputs": [
    {
     "data": {
      "text/plain": [
       "(0.06503927738704895, 0.06628872961371568)"
      ]
     },
     "execution_count": 13,
     "metadata": {},
     "output_type": "execute_result"
    }
   ],
   "source": [
    "y_pred_ridge_train = ridge.predict_many(X_train)\n",
    "y_pred_ridge_test  = ridge.predict_many(X_test)\n",
    "\n",
    "r2_score(y_train, y_pred_ridge_train), r2_score(y_test, y_pred_ridge_test) # r2 score on train and test"
   ]
  },
  {
   "cell_type": "markdown",
   "id": "bca4830c-99c8-4f23-bb6c-f97e719fc6b2",
   "metadata": {},
   "source": [
    "# R2 score of oridge saved models, not principled because uses whole data, \n",
    "\n",
    "but still r2 score poor on train and test, on shuffled with seed 21"
   ]
  },
  {
   "cell_type": "code",
   "execution_count": 12,
   "id": "18797632-3491-4f2a-b8a2-e6cb69477217",
   "metadata": {},
   "outputs": [],
   "source": [
    "import joblib\n",
    "# oridge_imp = joblib.load('./onehot_encoded/models/oridge_implementable/allstates2021_20230724-220046_shuffled__undropped_.pkl') # bad for oridge r2\n",
    "\n",
    "#Seed 42 shuffle\n",
    "# oridge_imp = joblib.load('./onehot_encoded/models/oridge_implementable/allstate_shuffle_seed42_20230727-014004_shuffled__undropped_.pkl') #ok\n",
    "# oridge_imp = joblib.load('./onehot_encoded/models/oridge_implementable/allstate_shuffle_seed42_20230727-031153_shuffled__dropped_.pkl') #ok\n",
    "\n",
    "# RAC1P sorted\n",
    "# oridge_imp = joblib.load('./onehot_encoded/models/oridge_implementable/sort_by_racecounts_20230726-003542_unshuffled__undropped_.pkl') #bad\n",
    "# oridge_imp = joblib.load('./onehot_encoded/models/oridge_implementable/sort_by_racecounts_20230726-223352_unshuffled__dropped_.pkl') #vbad\n",
    "\n",
    "#SEX sorted\n",
    "# oridge_imp = joblib.load('./onehot_encoded/models/oridge_implementable/sort_by_sex_20230726-020646_unshuffled__undropped_.pkl') #ok\n",
    "oridge_imp = joblib.load('./onehot_encoded/models/oridge_implementable/sort_by_sex_20230727-000414_unshuffled__dropped_.pkl')  #terrible"
   ]
  },
  {
   "cell_type": "code",
   "execution_count": 155,
   "id": "7ca72032-0672-4413-ac46-515c3570575d",
   "metadata": {
    "tags": []
   },
   "outputs": [
    {
     "data": {
      "text/plain": [
       "river.linear_model.lin_reg.LinearRegression"
      ]
     },
     "execution_count": 155,
     "metadata": {},
     "output_type": "execute_result"
    }
   ],
   "source": [
    "type(oridge_imp.model)"
   ]
  },
  {
   "cell_type": "code",
   "execution_count": 156,
   "id": "f68bf563-7efc-435c-99b7-1eb43ce0177e",
   "metadata": {
    "tags": []
   },
   "outputs": [
    {
     "data": {
      "text/plain": [
       "(-0.09417574434969489, -0.09689756202858923)"
      ]
     },
     "execution_count": 156,
     "metadata": {},
     "output_type": "execute_result"
    }
   ],
   "source": [
    "y_pred_origde_testall = oridge_imp.model.predict_many(X_test)\n",
    "y_pred_origde_trainall = oridge_imp.model.predict_many(X_train)\n",
    "# even after seing all data\n",
    "r2_score(y_test, y_pred_origde_testall), r2_score(y_train, y_pred_origde_trainall)"
   ]
  },
  {
   "cell_type": "code",
   "execution_count": 158,
   "id": "fc821112-d8b6-4e54-a25e-6a851dacd4b2",
   "metadata": {
    "tags": []
   },
   "outputs": [
    {
     "data": {
      "text/plain": [
       "1569188"
      ]
     },
     "execution_count": 158,
     "metadata": {},
     "output_type": "execute_result"
    }
   ],
   "source": [
    "len(oridge_imp.loss_tarr)"
   ]
  },
  {
   "cell_type": "markdown",
   "id": "7027b7a9-03ed-4952-82e6-e4f896eae13a",
   "metadata": {
    "tags": []
   },
   "source": [
    "## r2 score of least squares model\n"
   ]
  },
  {
   "cell_type": "code",
   "execution_count": 148,
   "id": "060a4747-72af-4729-82c4-5360836d4adf",
   "metadata": {
    "tags": []
   },
   "outputs": [],
   "source": [
    "import joblib\n",
    "# best_ls_groups = joblib.load('./onehot_encoded/models/bestsqloss/allstates2021_20230724-220046_shuffled__undropped_.pkl')\n",
    "\n",
    "#Seed 42 shuffle\n",
    "# best_ls_groups = joblib.load('./onehot_encoded/models/bestsqloss/allstate_shuffle_seed42_20230727-014004_shuffled__undropped_.pkl') \n",
    "# best_ls_groups = joblib.load('./onehot_encoded/models/bestsqloss/allstate_shuffle_seed42_20230727-031153_shuffled__dropped_.pkl')\n",
    "\n",
    "# RAC1P sorted\n",
    "# best_ls_groups = joblib.load('./onehot_encoded/models/bestsqloss/sort_by_racecounts_20230726-003542_unshuffled__undropped_.pkl')\n",
    "# best_ls_groups = joblib.load('./onehot_encoded/models/bestsqloss/sort_by_racecounts_20230726-223352_unshuffled__dropped_.pkl')\n",
    "\n",
    "#SEX sorted\n",
    "# best_ls_groups = joblib.load('./onehot_encoded/models/bestsqloss/sort_by_sex_20230726-020646_unshuffled__undropped_.pkl')\n",
    "best_ls_groups = joblib.load('./onehot_encoded/models/bestsqloss/sort_by_sex_20230727-000414_unshuffled__dropped_.pkl')"
   ]
  },
  {
   "cell_type": "code",
   "execution_count": 149,
   "id": "0ab4995e-56b0-43c0-b984-f256b1993f02",
   "metadata": {
    "tags": []
   },
   "outputs": [
    {
     "data": {
      "text/plain": [
       "12"
      ]
     },
     "execution_count": 149,
     "metadata": {},
     "output_type": "execute_result"
    }
   ],
   "source": [
    "len(best_ls_groups.experts)"
   ]
  },
  {
   "cell_type": "code",
   "execution_count": 150,
   "id": "5dc9ac94-c5c8-452c-8400-ade79487c388",
   "metadata": {
    "tags": []
   },
   "outputs": [
    {
     "data": {
      "text/plain": [
       "((1569188, 1), 1569188)"
      ]
     },
     "execution_count": 150,
     "metadata": {},
     "output_type": "execute_result"
    }
   ],
   "source": [
    "best_ls_groups.loss_experts_arr[-1].shape, X_train.shape[0] + X_test.shape[0]"
   ]
  },
  {
   "cell_type": "code",
   "execution_count": 151,
   "id": "844969c4-4813-43e7-b609-190c0c02d87e",
   "metadata": {
    "tags": []
   },
   "outputs": [
    {
     "data": {
      "text/plain": [
       "river.linear_model.lin_reg.LinearRegression"
      ]
     },
     "execution_count": 151,
     "metadata": {},
     "output_type": "execute_result"
    }
   ],
   "source": [
    "type(best_ls_groups.experts[-1])"
   ]
  },
  {
   "cell_type": "code",
   "execution_count": 152,
   "id": "3929420c-861e-4dee-8bfa-9633b6b586d6",
   "metadata": {
    "tags": []
   },
   "outputs": [],
   "source": [
    "y_pred_ls_testall = best_ls_groups.experts[-1].predict_many(X_test)\n",
    "y_pred_ls_trainall = best_ls_groups.experts[-1].predict_many(X_train)"
   ]
  },
  {
   "cell_type": "code",
   "execution_count": 153,
   "id": "08bc1d36-2731-4a07-90f1-7464d38fe515",
   "metadata": {
    "tags": []
   },
   "outputs": [
    {
     "data": {
      "text/plain": [
       "(0.42247855699411296, 0.4201866569567727)"
      ]
     },
     "execution_count": 153,
     "metadata": {},
     "output_type": "execute_result"
    }
   ],
   "source": [
    "r2_score(y_test, y_pred_ls_testall), r2_score(y_train, y_pred_ls_trainall)"
   ]
  },
  {
   "cell_type": "markdown",
   "id": "80125dbe-0ab2-488b-b2d8-1eece1ae29b8",
   "metadata": {},
   "source": [
    "# Takeaway:\n",
    "\n",
    "- Online ridge vs Batch ridge big difference\n",
    "- Online LS vs Batch LS still preserves r2 scores (upto a degree, doesnt become negative)\n",
    "- Hoeffding tree even better"
   ]
  },
  {
   "cell_type": "markdown",
   "id": "20c1c907-3572-4f36-87af-8be681609520",
   "metadata": {},
   "source": [
    "# MLP regressor on label encoded data"
   ]
  },
  {
   "cell_type": "code",
   "execution_count": 8,
   "id": "77eb08a0-5aa8-456b-906b-866526ce57d1",
   "metadata": {},
   "outputs": [
    {
     "data": {
      "text/plain": [
       "538.1999999999999"
      ]
     },
     "execution_count": 8,
     "metadata": {},
     "output_type": "execute_result"
    }
   ],
   "source": [
    "X_train.shape[1] * 0.6"
   ]
  },
  {
   "cell_type": "code",
   "execution_count": 15,
   "id": "3b57a7c0-e565-4c78-be60-dd3400aabf01",
   "metadata": {},
   "outputs": [],
   "source": [
    "from river import neural_net as nn\n",
    "from river import optim\n",
    "mlp_online = nn.MLPRegressor(\n",
    "            hidden_dims=(500,),\n",
    "            activations=(\n",
    "            nn.activations.Identity,\n",
    "            nn.activations.ReLU,\n",
    "            nn.activations.Identity\n",
    "        )\n",
    ")"
   ]
  },
  {
   "cell_type": "code",
   "execution_count": null,
   "id": "23984bed-7897-46f6-877c-b4a92206197f",
   "metadata": {},
   "outputs": [
    {
     "name": "stderr",
     "output_type": "stream",
     "text": [
      " 98%|█████████▊| 1234292/1255350 [58:14<00:53, 390.15it/s] "
     ]
    }
   ],
   "source": [
    "for t in tqdm(range(X_train.shape[0])):\n",
    "    mlp_online.learn_many(X_train.iloc[[t]], y_train.iloc[[t]])"
   ]
  },
  {
   "cell_type": "code",
   "execution_count": null,
   "id": "738f9491-10b8-4a72-8b50-2370dc079e70",
   "metadata": {},
   "outputs": [],
   "source": [
    "import pickle\n",
    "with open('./onehot_encoded/models/mlp_reg/single_hidden500_mlp.pkl', 'wb') as f:\n",
    "    pickle.dump(mlp_online, f)"
   ]
  },
  {
   "cell_type": "code",
   "execution_count": 21,
   "id": "35138216-b536-406b-9b36-21a48c445e1b",
   "metadata": {},
   "outputs": [],
   "source": [
    "import joblib\n",
    "sk_mlp = joblib.load('./onehot_encoded/models/mlp_sklearnbatch/sksingle_hidden500_mlp.pkl')"
   ]
  },
  {
   "cell_type": "code",
   "execution_count": 23,
   "id": "a91e3867-2561-421a-b589-fc26256fc585",
   "metadata": {},
   "outputs": [
    {
     "data": {
      "text/plain": [
       "(313838, 897)"
      ]
     },
     "execution_count": 23,
     "metadata": {},
     "output_type": "execute_result"
    }
   ],
   "source": [
    "X_test.shape"
   ]
  },
  {
   "cell_type": "code",
   "execution_count": 24,
   "id": "99f8592c-86d3-48f6-9ac3-a2f4f5b512c2",
   "metadata": {},
   "outputs": [
    {
     "ename": "ValueError",
     "evalue": "The feature names should match those that were passed during fit.\nFeature names must be in the same order as they were in fit.\n",
     "output_type": "error",
     "traceback": [
      "\u001b[0;31m---------------------------------------------------------------------------\u001b[0m",
      "\u001b[0;31mValueError\u001b[0m                                Traceback (most recent call last)",
      "Cell \u001b[0;32mIn[24], line 1\u001b[0m\n\u001b[0;32m----> 1\u001b[0m \u001b[43msk_mlp\u001b[49m\u001b[38;5;241;43m.\u001b[39;49m\u001b[43mpredict\u001b[49m\u001b[43m(\u001b[49m\u001b[43mX_test\u001b[49m\u001b[43m)\u001b[49m\n",
      "File \u001b[0;32m~/.conda/envs/biasbounties/lib/python3.10/site-packages/sklearn/neural_network/_multilayer_perceptron.py:1599\u001b[0m, in \u001b[0;36mMLPRegressor.predict\u001b[0;34m(self, X)\u001b[0m\n\u001b[1;32m   1586\u001b[0m \u001b[38;5;250m\u001b[39m\u001b[38;5;124;03m\"\"\"Predict using the multi-layer perceptron model.\u001b[39;00m\n\u001b[1;32m   1587\u001b[0m \n\u001b[1;32m   1588\u001b[0m \u001b[38;5;124;03mParameters\u001b[39;00m\n\u001b[0;32m   (...)\u001b[0m\n\u001b[1;32m   1596\u001b[0m \u001b[38;5;124;03m    The predicted values.\u001b[39;00m\n\u001b[1;32m   1597\u001b[0m \u001b[38;5;124;03m\"\"\"\u001b[39;00m\n\u001b[1;32m   1598\u001b[0m check_is_fitted(\u001b[38;5;28mself\u001b[39m)\n\u001b[0;32m-> 1599\u001b[0m \u001b[38;5;28;01mreturn\u001b[39;00m \u001b[38;5;28;43mself\u001b[39;49m\u001b[38;5;241;43m.\u001b[39;49m\u001b[43m_predict\u001b[49m\u001b[43m(\u001b[49m\u001b[43mX\u001b[49m\u001b[43m)\u001b[49m\n",
      "File \u001b[0;32m~/.conda/envs/biasbounties/lib/python3.10/site-packages/sklearn/neural_network/_multilayer_perceptron.py:1603\u001b[0m, in \u001b[0;36mMLPRegressor._predict\u001b[0;34m(self, X, check_input)\u001b[0m\n\u001b[1;32m   1601\u001b[0m \u001b[38;5;28;01mdef\u001b[39;00m \u001b[38;5;21m_predict\u001b[39m(\u001b[38;5;28mself\u001b[39m, X, check_input\u001b[38;5;241m=\u001b[39m\u001b[38;5;28;01mTrue\u001b[39;00m):\n\u001b[1;32m   1602\u001b[0m \u001b[38;5;250m    \u001b[39m\u001b[38;5;124;03m\"\"\"Private predict method with optional input validation\"\"\"\u001b[39;00m\n\u001b[0;32m-> 1603\u001b[0m     y_pred \u001b[38;5;241m=\u001b[39m \u001b[38;5;28;43mself\u001b[39;49m\u001b[38;5;241;43m.\u001b[39;49m\u001b[43m_forward_pass_fast\u001b[49m\u001b[43m(\u001b[49m\u001b[43mX\u001b[49m\u001b[43m,\u001b[49m\u001b[43m \u001b[49m\u001b[43mcheck_input\u001b[49m\u001b[38;5;241;43m=\u001b[39;49m\u001b[43mcheck_input\u001b[49m\u001b[43m)\u001b[49m\n\u001b[1;32m   1604\u001b[0m     \u001b[38;5;28;01mif\u001b[39;00m y_pred\u001b[38;5;241m.\u001b[39mshape[\u001b[38;5;241m1\u001b[39m] \u001b[38;5;241m==\u001b[39m \u001b[38;5;241m1\u001b[39m:\n\u001b[1;32m   1605\u001b[0m         \u001b[38;5;28;01mreturn\u001b[39;00m y_pred\u001b[38;5;241m.\u001b[39mravel()\n",
      "File \u001b[0;32m~/.conda/envs/biasbounties/lib/python3.10/site-packages/sklearn/neural_network/_multilayer_perceptron.py:207\u001b[0m, in \u001b[0;36mBaseMultilayerPerceptron._forward_pass_fast\u001b[0;34m(self, X, check_input)\u001b[0m\n\u001b[1;32m    188\u001b[0m \u001b[38;5;250m\u001b[39m\u001b[38;5;124;03m\"\"\"Predict using the trained model\u001b[39;00m\n\u001b[1;32m    189\u001b[0m \n\u001b[1;32m    190\u001b[0m \u001b[38;5;124;03mThis is the same as _forward_pass but does not record the activations\u001b[39;00m\n\u001b[0;32m   (...)\u001b[0m\n\u001b[1;32m    204\u001b[0m \u001b[38;5;124;03m    The decision function of the samples for each class in the model.\u001b[39;00m\n\u001b[1;32m    205\u001b[0m \u001b[38;5;124;03m\"\"\"\u001b[39;00m\n\u001b[1;32m    206\u001b[0m \u001b[38;5;28;01mif\u001b[39;00m check_input:\n\u001b[0;32m--> 207\u001b[0m     X \u001b[38;5;241m=\u001b[39m \u001b[38;5;28;43mself\u001b[39;49m\u001b[38;5;241;43m.\u001b[39;49m\u001b[43m_validate_data\u001b[49m\u001b[43m(\u001b[49m\u001b[43mX\u001b[49m\u001b[43m,\u001b[49m\u001b[43m \u001b[49m\u001b[43maccept_sparse\u001b[49m\u001b[38;5;241;43m=\u001b[39;49m\u001b[43m[\u001b[49m\u001b[38;5;124;43m\"\u001b[39;49m\u001b[38;5;124;43mcsr\u001b[39;49m\u001b[38;5;124;43m\"\u001b[39;49m\u001b[43m,\u001b[49m\u001b[43m \u001b[49m\u001b[38;5;124;43m\"\u001b[39;49m\u001b[38;5;124;43mcsc\u001b[39;49m\u001b[38;5;124;43m\"\u001b[39;49m\u001b[43m]\u001b[49m\u001b[43m,\u001b[49m\u001b[43m \u001b[49m\u001b[43mreset\u001b[49m\u001b[38;5;241;43m=\u001b[39;49m\u001b[38;5;28;43;01mFalse\u001b[39;49;00m\u001b[43m)\u001b[49m\n\u001b[1;32m    209\u001b[0m \u001b[38;5;66;03m# Initialize first layer\u001b[39;00m\n\u001b[1;32m    210\u001b[0m activation \u001b[38;5;241m=\u001b[39m X\n",
      "File \u001b[0;32m~/.conda/envs/biasbounties/lib/python3.10/site-packages/sklearn/base.py:579\u001b[0m, in \u001b[0;36mBaseEstimator._validate_data\u001b[0;34m(self, X, y, reset, validate_separately, cast_to_ndarray, **check_params)\u001b[0m\n\u001b[1;32m    508\u001b[0m \u001b[38;5;28;01mdef\u001b[39;00m \u001b[38;5;21m_validate_data\u001b[39m(\n\u001b[1;32m    509\u001b[0m     \u001b[38;5;28mself\u001b[39m,\n\u001b[1;32m    510\u001b[0m     X\u001b[38;5;241m=\u001b[39m\u001b[38;5;124m\"\u001b[39m\u001b[38;5;124mno_validation\u001b[39m\u001b[38;5;124m\"\u001b[39m,\n\u001b[0;32m   (...)\u001b[0m\n\u001b[1;32m    515\u001b[0m     \u001b[38;5;241m*\u001b[39m\u001b[38;5;241m*\u001b[39mcheck_params,\n\u001b[1;32m    516\u001b[0m ):\n\u001b[1;32m    517\u001b[0m \u001b[38;5;250m    \u001b[39m\u001b[38;5;124;03m\"\"\"Validate input data and set or check the `n_features_in_` attribute.\u001b[39;00m\n\u001b[1;32m    518\u001b[0m \n\u001b[1;32m    519\u001b[0m \u001b[38;5;124;03m    Parameters\u001b[39;00m\n\u001b[0;32m   (...)\u001b[0m\n\u001b[1;32m    577\u001b[0m \u001b[38;5;124;03m        validated.\u001b[39;00m\n\u001b[1;32m    578\u001b[0m \u001b[38;5;124;03m    \"\"\"\u001b[39;00m\n\u001b[0;32m--> 579\u001b[0m     \u001b[38;5;28;43mself\u001b[39;49m\u001b[38;5;241;43m.\u001b[39;49m\u001b[43m_check_feature_names\u001b[49m\u001b[43m(\u001b[49m\u001b[43mX\u001b[49m\u001b[43m,\u001b[49m\u001b[43m \u001b[49m\u001b[43mreset\u001b[49m\u001b[38;5;241;43m=\u001b[39;49m\u001b[43mreset\u001b[49m\u001b[43m)\u001b[49m\n\u001b[1;32m    581\u001b[0m     \u001b[38;5;28;01mif\u001b[39;00m y \u001b[38;5;129;01mis\u001b[39;00m \u001b[38;5;28;01mNone\u001b[39;00m \u001b[38;5;129;01mand\u001b[39;00m \u001b[38;5;28mself\u001b[39m\u001b[38;5;241m.\u001b[39m_get_tags()[\u001b[38;5;124m\"\u001b[39m\u001b[38;5;124mrequires_y\u001b[39m\u001b[38;5;124m\"\u001b[39m]:\n\u001b[1;32m    582\u001b[0m         \u001b[38;5;28;01mraise\u001b[39;00m \u001b[38;5;167;01mValueError\u001b[39;00m(\n\u001b[1;32m    583\u001b[0m             \u001b[38;5;124mf\u001b[39m\u001b[38;5;124m\"\u001b[39m\u001b[38;5;124mThis \u001b[39m\u001b[38;5;132;01m{\u001b[39;00m\u001b[38;5;28mself\u001b[39m\u001b[38;5;241m.\u001b[39m\u001b[38;5;18m__class__\u001b[39m\u001b[38;5;241m.\u001b[39m\u001b[38;5;18m__name__\u001b[39m\u001b[38;5;132;01m}\u001b[39;00m\u001b[38;5;124m estimator \u001b[39m\u001b[38;5;124m\"\u001b[39m\n\u001b[1;32m    584\u001b[0m             \u001b[38;5;124m\"\u001b[39m\u001b[38;5;124mrequires y to be passed, but the target y is None.\u001b[39m\u001b[38;5;124m\"\u001b[39m\n\u001b[1;32m    585\u001b[0m         )\n",
      "File \u001b[0;32m~/.conda/envs/biasbounties/lib/python3.10/site-packages/sklearn/base.py:506\u001b[0m, in \u001b[0;36mBaseEstimator._check_feature_names\u001b[0;34m(self, X, reset)\u001b[0m\n\u001b[1;32m    501\u001b[0m \u001b[38;5;28;01mif\u001b[39;00m \u001b[38;5;129;01mnot\u001b[39;00m missing_names \u001b[38;5;129;01mand\u001b[39;00m \u001b[38;5;129;01mnot\u001b[39;00m unexpected_names:\n\u001b[1;32m    502\u001b[0m     message \u001b[38;5;241m+\u001b[39m\u001b[38;5;241m=\u001b[39m (\n\u001b[1;32m    503\u001b[0m         \u001b[38;5;124m\"\u001b[39m\u001b[38;5;124mFeature names must be in the same order as they were in fit.\u001b[39m\u001b[38;5;130;01m\\n\u001b[39;00m\u001b[38;5;124m\"\u001b[39m\n\u001b[1;32m    504\u001b[0m     )\n\u001b[0;32m--> 506\u001b[0m \u001b[38;5;28;01mraise\u001b[39;00m \u001b[38;5;167;01mValueError\u001b[39;00m(message)\n",
      "\u001b[0;31mValueError\u001b[0m: The feature names should match those that were passed during fit.\nFeature names must be in the same order as they were in fit.\n"
     ]
    }
   ],
   "source": [
    "sk_mlp.predict(X_test)"
   ]
  },
  {
   "cell_type": "code",
   "execution_count": null,
   "id": "4ab78fe1-c1f0-49d2-a03f-52698fc80b6e",
   "metadata": {},
   "outputs": [],
   "source": []
  }
 ],
 "metadata": {
  "kernelspec": {
   "display_name": "bb",
   "language": "python",
   "name": "bb"
  },
  "language_info": {
   "codemirror_mode": {
    "name": "ipython",
    "version": 3
   },
   "file_extension": ".py",
   "mimetype": "text/x-python",
   "name": "python",
   "nbconvert_exporter": "python",
   "pygments_lexer": "ipython3",
   "version": "3.10.6"
  },
  "vscode": {
   "interpreter": {
    "hash": "5c7b89af1651d0b8571dde13640ecdccf7d5a6204171d6ab33e7c296e100e08a"
   }
  }
 },
 "nbformat": 4,
 "nbformat_minor": 5
}
