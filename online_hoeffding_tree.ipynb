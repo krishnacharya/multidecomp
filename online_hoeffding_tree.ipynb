{
 "cells": [
  {
   "cell_type": "code",
   "execution_count": 2,
   "id": "c97867d5-2c5e-4ed2-87b7-9b887c5b6a51",
   "metadata": {
    "tags": []
   },
   "outputs": [],
   "source": [
    "from river import tree\n",
    "import pandas as pd\n",
    "import numpy as np\n",
    "from tqdm import tqdm"
   ]
  },
  {
   "cell_type": "code",
   "execution_count": 2,
   "id": "041e8263-f462-4016-be69-1098cee67295",
   "metadata": {
    "tags": []
   },
   "outputs": [
    {
     "name": "stdout",
     "output_type": "stream",
     "text": [
      "12 3\n"
     ]
    }
   ],
   "source": [
    "df_notoh = pd.read_pickle(\"./data_frames/dense_acs_mm_notoh.pkl\")\n",
    "cat_cols_sig = ['OCCP', 'SCHL', 'ST', 'JWTRNS', 'DRAT', 'COW', 'SEX', \\\n",
    "       'RELSHIPP', 'POBP', 'ENG', 'MAR', 'RAC1P'] # significant features from the earlier analysis\n",
    "numeric_cols = ['WKHP', 'AGEP', 'PINCP']\n",
    "print(len(cat_cols_sig), len(numeric_cols))\n",
    "from utils import ordinal_encoder\n",
    "df_notoh = ordinal_encoder(df_notoh, cat_cols_sig)\n",
    "from sklearn.model_selection import train_test_split\n",
    "rand_seed = 21 \n",
    "X_train, X_test, y_train, y_test = train_test_split(df_notoh.drop('PINCP', axis=1), \n",
    "                                                    df_notoh['PINCP'], test_size = 0.2,\n",
    "                                                    random_state = rand_seed)"
   ]
  },
  {
   "cell_type": "code",
   "execution_count": 6,
   "id": "6c04cbd5-fb14-4339-9171-4d2c1adbb03e",
   "metadata": {
    "tags": []
   },
   "outputs": [],
   "source": [
    "X_train_diclist = X_train.to_dict(orient='records')"
   ]
  },
  {
   "cell_type": "code",
   "execution_count": 8,
   "id": "fed07f9e-9d5b-4927-95e8-aafab6aa7b50",
   "metadata": {
    "tags": []
   },
   "outputs": [
    {
     "data": {
      "text/plain": [
       "{'OCCP': 34.0,\n",
       " 'WKHP': 0.07142857142857142,\n",
       " 'AGEP': 0.4683544303797468,\n",
       " 'SCHL': 19.0,\n",
       " 'ST': 39.0,\n",
       " 'JWTRNS': 11.0,\n",
       " 'DRAT': 0.0,\n",
       " 'COW': 0.0,\n",
       " 'SEX': 1.0,\n",
       " 'RELSHIPP': 5.0,\n",
       " 'POBP': 32.0,\n",
       " 'ENG': 1.0,\n",
       " 'MAR': 4.0,\n",
       " 'RAC1P': 1.0}"
      ]
     },
     "execution_count": 8,
     "metadata": {},
     "output_type": "execute_result"
    }
   ],
   "source": [
    "X_train_diclist[0]"
   ]
  },
  {
   "cell_type": "code",
   "execution_count": 30,
   "id": "50a74d3c-6057-4500-aacc-6accadc782db",
   "metadata": {
    "tags": []
   },
   "outputs": [],
   "source": [
    "hoeftree = tree.HoeffdingTreeRegressor(max_depth = 30) # river paakacge"
   ]
  },
  {
   "cell_type": "code",
   "execution_count": 31,
   "id": "bb3dc7ea-fc87-41d5-a336-2f9a24806fe6",
   "metadata": {
    "tags": []
   },
   "outputs": [
    {
     "name": "stderr",
     "output_type": "stream",
     "text": [
      "100%|██████████| 1255350/1255350 [03:39<00:00, 5720.80it/s]\n"
     ]
    }
   ],
   "source": [
    "for t in tqdm(range(X_train.shape[0])):\n",
    "    hoeftree.learn_one(X_train_diclist[t], y_train.iloc[t])"
   ]
  },
  {
   "cell_type": "code",
   "execution_count": 32,
   "id": "0cce0f3a-e476-4e89-946d-8bbceb40c42a",
   "metadata": {
    "tags": []
   },
   "outputs": [],
   "source": [
    "y_pred_test = np.empty(X_test.shape[0])\n",
    "for t in range(X_test.shape[0]):\n",
    "    y_pred_test[t] = hoeftree.predict_one(X_test_diclist[t])"
   ]
  },
  {
   "cell_type": "code",
   "execution_count": null,
   "id": "4cb84770-7d52-40cc-8ec8-53111ca77bec",
   "metadata": {
    "tags": []
   },
   "outputs": [],
   "source": [
    "from sklearn.metrics import r2_score"
   ]
  },
  {
   "cell_type": "code",
   "execution_count": 23,
   "id": "78de9b78-f6d8-4437-892c-54f35589c1c1",
   "metadata": {
    "tags": []
   },
   "outputs": [
    {
     "data": {
      "text/plain": [
       "0.456130042186772"
      ]
     },
     "execution_count": 23,
     "metadata": {},
     "output_type": "execute_result"
    }
   ],
   "source": [
    "r2_score(y_test, y_pred_test) # with max depth possible = 13"
   ]
  },
  {
   "cell_type": "code",
   "execution_count": 29,
   "id": "254d33d1-9e07-40f0-a9f8-09d598c9563f",
   "metadata": {
    "tags": []
   },
   "outputs": [
    {
     "data": {
      "text/plain": [
       "0.48491506950844876"
      ]
     },
     "execution_count": 29,
     "metadata": {},
     "output_type": "execute_result"
    }
   ],
   "source": [
    "r2_score(y_test, y_pred_test) # with max depth possible = 20"
   ]
  },
  {
   "cell_type": "code",
   "execution_count": 33,
   "id": "411a2ede-1386-4f58-91fc-1f8959860085",
   "metadata": {
    "tags": []
   },
   "outputs": [
    {
     "data": {
      "text/plain": [
       "0.48921635058878454"
      ]
     },
     "execution_count": 33,
     "metadata": {},
     "output_type": "execute_result"
    }
   ],
   "source": [
    "r2_score(y_test, y_pred_test) # with max depth possible = 30"
   ]
  },
  {
   "cell_type": "code",
   "execution_count": 35,
   "id": "9453687e-9083-494f-b4d6-3008aeca39be",
   "metadata": {
    "tags": []
   },
   "outputs": [
    {
     "data": {
      "text/plain": [
       "0.49508084441591205"
      ]
     },
     "execution_count": 35,
     "metadata": {},
     "output_type": "execute_result"
    }
   ],
   "source": [
    "y_pred_train = np.empty(X_train.shape[0])\n",
    "for t in range(X_train.shape[0]):\n",
    "    y_pred_train[t] = hoeftree.predict_one(X_train_diclist[t])\n",
    "r2_score(y_train, y_pred_train)"
   ]
  },
  {
   "cell_type": "markdown",
   "id": "fef7b7ca-12bd-4afd-96d8-82e25cdf3112",
   "metadata": {},
   "source": [
    "# Using Sklearn multi flow hoeffding tree regressor"
   ]
  },
  {
   "cell_type": "code",
   "execution_count": 4,
   "id": "2e1d7caa-482a-4c95-bc60-ad4ec41b6f1f",
   "metadata": {
    "tags": []
   },
   "outputs": [],
   "source": [
    "from skmultiflow.trees import HoeffdingTreeRegressor\n",
    "htreg_skmult = HoeffdingTreeRegressor()"
   ]
  },
  {
   "cell_type": "code",
   "execution_count": 5,
   "id": "e5cb2d7a-a75b-426b-b10e-26a67fe41b23",
   "metadata": {
    "tags": []
   },
   "outputs": [],
   "source": [
    "X_train_np = X_train.to_numpy()"
   ]
  },
  {
   "cell_type": "code",
   "execution_count": 6,
   "id": "b6127697-72a3-4a36-959b-4030d7587542",
   "metadata": {
    "tags": []
   },
   "outputs": [],
   "source": [
    "y_train_np = y_train.to_numpy()"
   ]
  },
  {
   "cell_type": "code",
   "execution_count": 7,
   "id": "22382614-da45-46ca-8d26-75d8e8b47937",
   "metadata": {
    "tags": []
   },
   "outputs": [
    {
     "name": "stderr",
     "output_type": "stream",
     "text": [
      "100%|██████████| 1255350/1255350 [02:32<00:00, 8232.14it/s] \n"
     ]
    }
   ],
   "source": [
    "for t in tqdm(range(X_train.shape[0])):\n",
    "    X_val = X_train_np[t].reshape(1, -1)\n",
    "    #predict\n",
    "    htreg_skmult.partial_fit(X_val, [y_train_np[t]])"
   ]
  },
  {
   "cell_type": "code",
   "execution_count": 9,
   "id": "ce50fbdb-aad9-4279-8460-fb887ac73a42",
   "metadata": {
    "tags": []
   },
   "outputs": [],
   "source": [
    "y_pred_test_skflow = htreg_skmult.predict(X_test.to_numpy())\n",
    "y_pred_train_skflow = htreg_skmult.predict(X_train.to_numpy())"
   ]
  },
  {
   "cell_type": "code",
   "execution_count": 11,
   "id": "4c00d703-626b-4c17-ba09-c432afb2b4fb",
   "metadata": {
    "tags": []
   },
   "outputs": [
    {
     "data": {
      "text/plain": [
       "(0.4964391201517464, 0.5051641597192292)"
      ]
     },
     "execution_count": 11,
     "metadata": {},
     "output_type": "execute_result"
    }
   ],
   "source": [
    "from sklearn.metrics import r2_score\n",
    "r2_score(y_test, y_pred_test_skflow), r2_score(y_train, y_pred_train_skflow)"
   ]
  },
  {
   "cell_type": "markdown",
   "id": "bb440de5-bec7-49c0-aeb4-ee319bdf5e76",
   "metadata": {
    "tags": []
   },
   "source": [
    "# Comparing wrt linear regression, needs one hot"
   ]
  },
  {
   "cell_type": "code",
   "execution_count": 3,
   "id": "c87bde2a-3125-45ff-a166-ce18f4b9c2f2",
   "metadata": {
    "tags": []
   },
   "outputs": [],
   "source": [
    "df_oh = pd.read_pickle(\"./data_frames/dense_acs_mm_oh.pkl\")\n",
    "# cat_cols_sig = ['OCCP', 'SCHL', 'ST', 'JWTRNS', 'DRAT', 'COW', 'SEX', \\\n",
    "#        'RELSHIPP', 'POBP', 'ENG', 'MAR', 'RAC1P'] # significant features from the earlier analysis\n",
    "# numeric_cols = ['WKHP', 'AGEP', 'PINCP']\n",
    "from sklearn.model_selection import train_test_split\n",
    "rand_seed = 21\n",
    "X_train, X_test, y_train, y_test = train_test_split(df_oh.drop('PINCP', axis=1), \n",
    "                                                    df_oh['PINCP'], test_size = 0.2,\n",
    "                                                    random_state = rand_seed)"
   ]
  },
  {
   "cell_type": "code",
   "execution_count": null,
   "id": "a29c9ac5-dc7f-410c-ba57-34d6b2f4ee30",
   "metadata": {
    "tags": []
   },
   "outputs": [
    {
     "name": "stderr",
     "output_type": "stream",
     "text": [
      " 75%|███████▍  | 938399/1255350 [14:45<04:55, 1073.39it/s]"
     ]
    }
   ],
   "source": [
    "from river import linear_model\n",
    "lr = linear_model.LinearRegression()\n",
    "\n",
    "for t in tqdm(range(X_train.shape[0])):\n",
    "    lr.learn_many(X_train.iloc[[t]], y_train.iloc[[t]])"
   ]
  },
  {
   "cell_type": "code",
   "execution_count": 12,
   "id": "d7d64cd6-0e96-462a-8f43-aef1f34f3cac",
   "metadata": {
    "tags": []
   },
   "outputs": [
    {
     "data": {
      "text/plain": [
       "(0.41386102353173837, 0.4148610401953663)"
      ]
     },
     "execution_count": 12,
     "metadata": {},
     "output_type": "execute_result"
    }
   ],
   "source": [
    "from sklearn.metrics import r2_score\n",
    "\n",
    "y_pred_lr_train = lr.predict_many(X_train)\n",
    "y_pred_lr_test = lr.predict_many(X_test)\n",
    "\n",
    "\n",
    "r2_score(y_train, y_pred_lr_train), r2_score(y_test, y_pred_lr_test) # r2 score on train and test"
   ]
  },
  {
   "cell_type": "code",
   "execution_count": 32,
   "id": "7fbeeade-61e6-4871-bc10-7c2201e55961",
   "metadata": {
    "tags": []
   },
   "outputs": [
    {
     "data": {
      "text/plain": [
       "((1255350, 897), (313838, 897))"
      ]
     },
     "execution_count": 32,
     "metadata": {},
     "output_type": "execute_result"
    }
   ],
   "source": [
    "X_train.shape, X_test.shape"
   ]
  },
  {
   "cell_type": "code",
   "execution_count": 10,
   "id": "6ccc06b3-c383-4bea-9a9f-077322bdeaa9",
   "metadata": {
    "tags": []
   },
   "outputs": [
    {
     "name": "stderr",
     "output_type": "stream",
     "text": [
      "100%|██████████| 1255350/1255350 [22:07<00:00, 946.00it/s]\n"
     ]
    }
   ],
   "source": [
    "from river import linear_model\n",
    "ridge = linear_model.LinearRegression(l2 = 1.0)\n",
    "\n",
    "for t in tqdm(range(X_train.shape[0])):\n",
    "    ridge.learn_many(X_train.iloc[[t]], y_train.iloc[[t]])"
   ]
  },
  {
   "cell_type": "code",
   "execution_count": 13,
   "id": "2694b6a5-8288-485e-b693-0142a7dce33c",
   "metadata": {
    "tags": []
   },
   "outputs": [
    {
     "data": {
      "text/plain": [
       "(0.06503927738704895, 0.06628872961371568)"
      ]
     },
     "execution_count": 13,
     "metadata": {},
     "output_type": "execute_result"
    }
   ],
   "source": [
    "y_pred_ridge_train = ridge.predict_many(X_train)\n",
    "y_pred_ridge_test  = ridge.predict_many(X_test)\n",
    "\n",
    "r2_score(y_train, y_pred_ridge_train), r2_score(y_test, y_pred_ridge_test) # r2 score on train and test"
   ]
  },
  {
   "cell_type": "markdown",
   "id": "bca4830c-99c8-4f23-bb6c-f97e719fc6b2",
   "metadata": {},
   "source": [
    "# R2 score of oridge saved models, not principled because uses whole data, \n",
    "\n",
    "but still r2 score poor on train and test, on shuffled with seed 21"
   ]
  },
  {
   "cell_type": "code",
   "execution_count": 12,
   "id": "18797632-3491-4f2a-b8a2-e6cb69477217",
   "metadata": {},
   "outputs": [],
   "source": [
    "import joblib\n",
    "# oridge_imp = joblib.load('./onehot_encoded/models/oridge_implementable/allstates2021_20230724-220046_shuffled__undropped_.pkl') # bad for oridge r2\n",
    "\n",
    "#Seed 42 shuffle\n",
    "# oridge_imp = joblib.load('./onehot_encoded/models/oridge_implementable/allstate_shuffle_seed42_20230727-014004_shuffled__undropped_.pkl') #ok\n",
    "# oridge_imp = joblib.load('./onehot_encoded/models/oridge_implementable/allstate_shuffle_seed42_20230727-031153_shuffled__dropped_.pkl') #ok\n",
    "\n",
    "# RAC1P sorted\n",
    "# oridge_imp = joblib.load('./onehot_encoded/models/oridge_implementable/sort_by_racecounts_20230726-003542_unshuffled__undropped_.pkl') #bad\n",
    "# oridge_imp = joblib.load('./onehot_encoded/models/oridge_implementable/sort_by_racecounts_20230726-223352_unshuffled__dropped_.pkl') #vbad\n",
    "\n",
    "#SEX sorted\n",
    "# oridge_imp = joblib.load('./onehot_encoded/models/oridge_implementable/sort_by_sex_20230726-020646_unshuffled__undropped_.pkl') #ok\n",
    "oridge_imp = joblib.load('./onehot_encoded/models/oridge_implementable/sort_by_sex_20230727-000414_unshuffled__dropped_.pkl')  #terrible"
   ]
  },
  {
   "cell_type": "code",
   "execution_count": 155,
   "id": "7ca72032-0672-4413-ac46-515c3570575d",
   "metadata": {
    "tags": []
   },
   "outputs": [
    {
     "data": {
      "text/plain": [
       "river.linear_model.lin_reg.LinearRegression"
      ]
     },
     "execution_count": 155,
     "metadata": {},
     "output_type": "execute_result"
    }
   ],
   "source": [
    "type(oridge_imp.model)"
   ]
  },
  {
   "cell_type": "code",
   "execution_count": 156,
   "id": "f68bf563-7efc-435c-99b7-1eb43ce0177e",
   "metadata": {
    "tags": []
   },
   "outputs": [
    {
     "data": {
      "text/plain": [
       "(-0.09417574434969489, -0.09689756202858923)"
      ]
     },
     "execution_count": 156,
     "metadata": {},
     "output_type": "execute_result"
    }
   ],
   "source": [
    "y_pred_origde_testall = oridge_imp.model.predict_many(X_test)\n",
    "y_pred_origde_trainall = oridge_imp.model.predict_many(X_train)\n",
    "# even after seing all data\n",
    "r2_score(y_test, y_pred_origde_testall), r2_score(y_train, y_pred_origde_trainall)"
   ]
  },
  {
   "cell_type": "code",
   "execution_count": 158,
   "id": "fc821112-d8b6-4e54-a25e-6a851dacd4b2",
   "metadata": {
    "tags": []
   },
   "outputs": [
    {
     "data": {
      "text/plain": [
       "1569188"
      ]
     },
     "execution_count": 158,
     "metadata": {},
     "output_type": "execute_result"
    }
   ],
   "source": [
    "len(oridge_imp.loss_tarr)"
   ]
  },
  {
   "cell_type": "markdown",
   "id": "7027b7a9-03ed-4952-82e6-e4f896eae13a",
   "metadata": {
    "tags": []
   },
   "source": [
    "## r2 score of least squares model\n"
   ]
  },
  {
   "cell_type": "code",
   "execution_count": 148,
   "id": "060a4747-72af-4729-82c4-5360836d4adf",
   "metadata": {
    "tags": []
   },
   "outputs": [],
   "source": [
    "import joblib\n",
    "# best_ls_groups = joblib.load('./onehot_encoded/models/bestsqloss/allstates2021_20230724-220046_shuffled__undropped_.pkl')\n",
    "\n",
    "#Seed 42 shuffle\n",
    "# best_ls_groups = joblib.load('./onehot_encoded/models/bestsqloss/allstate_shuffle_seed42_20230727-014004_shuffled__undropped_.pkl') \n",
    "# best_ls_groups = joblib.load('./onehot_encoded/models/bestsqloss/allstate_shuffle_seed42_20230727-031153_shuffled__dropped_.pkl')\n",
    "\n",
    "# RAC1P sorted\n",
    "# best_ls_groups = joblib.load('./onehot_encoded/models/bestsqloss/sort_by_racecounts_20230726-003542_unshuffled__undropped_.pkl')\n",
    "# best_ls_groups = joblib.load('./onehot_encoded/models/bestsqloss/sort_by_racecounts_20230726-223352_unshuffled__dropped_.pkl')\n",
    "\n",
    "#SEX sorted\n",
    "# best_ls_groups = joblib.load('./onehot_encoded/models/bestsqloss/sort_by_sex_20230726-020646_unshuffled__undropped_.pkl')\n",
    "best_ls_groups = joblib.load('./onehot_encoded/models/bestsqloss/sort_by_sex_20230727-000414_unshuffled__dropped_.pkl')"
   ]
  },
  {
   "cell_type": "code",
   "execution_count": 149,
   "id": "0ab4995e-56b0-43c0-b984-f256b1993f02",
   "metadata": {
    "tags": []
   },
   "outputs": [
    {
     "data": {
      "text/plain": [
       "12"
      ]
     },
     "execution_count": 149,
     "metadata": {},
     "output_type": "execute_result"
    }
   ],
   "source": [
    "len(best_ls_groups.experts)"
   ]
  },
  {
   "cell_type": "code",
   "execution_count": 150,
   "id": "5dc9ac94-c5c8-452c-8400-ade79487c388",
   "metadata": {
    "tags": []
   },
   "outputs": [
    {
     "data": {
      "text/plain": [
       "((1569188, 1), 1569188)"
      ]
     },
     "execution_count": 150,
     "metadata": {},
     "output_type": "execute_result"
    }
   ],
   "source": [
    "best_ls_groups.loss_experts_arr[-1].shape, X_train.shape[0] + X_test.shape[0]"
   ]
  },
  {
   "cell_type": "code",
   "execution_count": 151,
   "id": "844969c4-4813-43e7-b609-190c0c02d87e",
   "metadata": {
    "tags": []
   },
   "outputs": [
    {
     "data": {
      "text/plain": [
       "river.linear_model.lin_reg.LinearRegression"
      ]
     },
     "execution_count": 151,
     "metadata": {},
     "output_type": "execute_result"
    }
   ],
   "source": [
    "type(best_ls_groups.experts[-1])"
   ]
  },
  {
   "cell_type": "code",
   "execution_count": 152,
   "id": "3929420c-861e-4dee-8bfa-9633b6b586d6",
   "metadata": {
    "tags": []
   },
   "outputs": [],
   "source": [
    "y_pred_ls_testall = best_ls_groups.experts[-1].predict_many(X_test)\n",
    "y_pred_ls_trainall = best_ls_groups.experts[-1].predict_many(X_train)"
   ]
  },
  {
   "cell_type": "code",
   "execution_count": 153,
   "id": "08bc1d36-2731-4a07-90f1-7464d38fe515",
   "metadata": {
    "tags": []
   },
   "outputs": [
    {
     "data": {
      "text/plain": [
       "(0.42247855699411296, 0.4201866569567727)"
      ]
     },
     "execution_count": 153,
     "metadata": {},
     "output_type": "execute_result"
    }
   ],
   "source": [
    "r2_score(y_test, y_pred_ls_testall), r2_score(y_train, y_pred_ls_trainall)"
   ]
  },
  {
   "cell_type": "markdown",
   "id": "80125dbe-0ab2-488b-b2d8-1eece1ae29b8",
   "metadata": {},
   "source": [
    "# Takeaway:\n",
    "\n",
    "- Online ridge vs Batch ridge big difference\n",
    "- Online LS vs Batch LS still preserves r2 scores (upto a degree, doesnt become negative)\n",
    "- Hoeffding tree even better"
   ]
  },
  {
   "cell_type": "markdown",
   "id": "20c1c907-3572-4f36-87af-8be681609520",
   "metadata": {},
   "source": [
    "# MLP regressor on label encoded data"
   ]
  },
  {
   "cell_type": "code",
   "execution_count": 8,
   "id": "77eb08a0-5aa8-456b-906b-866526ce57d1",
   "metadata": {},
   "outputs": [
    {
     "data": {
      "text/plain": [
       "538.1999999999999"
      ]
     },
     "execution_count": 8,
     "metadata": {},
     "output_type": "execute_result"
    }
   ],
   "source": [
    "X_train.shape[1] * 0.6"
   ]
  },
  {
   "cell_type": "code",
   "execution_count": 15,
   "id": "3b57a7c0-e565-4c78-be60-dd3400aabf01",
   "metadata": {},
   "outputs": [],
   "source": [
    "from river import neural_net as nn\n",
    "from river import optim\n",
    "mlp_online = nn.MLPRegressor(\n",
    "            hidden_dims=(500,),\n",
    "            activations=(\n",
    "            nn.activations.Identity,\n",
    "            nn.activations.ReLU,\n",
    "            nn.activations.Identity\n",
    "        )\n",
    ")"
   ]
  },
  {
   "cell_type": "code",
   "execution_count": null,
   "id": "23984bed-7897-46f6-877c-b4a92206197f",
   "metadata": {},
   "outputs": [
    {
     "name": "stderr",
     "output_type": "stream",
     "text": [
      " 98%|█████████▊| 1234292/1255350 [58:14<00:53, 390.15it/s] "
     ]
    }
   ],
   "source": [
    "for t in tqdm(range(X_train.shape[0])):\n",
    "    mlp_online.learn_many(X_train.iloc[[t]], y_train.iloc[[t]])"
   ]
  },
  {
   "cell_type": "code",
   "execution_count": null,
   "id": "738f9491-10b8-4a72-8b50-2370dc079e70",
   "metadata": {},
   "outputs": [],
   "source": [
    "import pickle\n",
    "with open('./onehot_encoded/models/mlp_reg/single_hidden500_mlp.pkl', 'wb') as f:\n",
    "    pickle.dump(mlp_online, f)"
   ]
  },
  {
   "cell_type": "code",
   "execution_count": 21,
   "id": "35138216-b536-406b-9b36-21a48c445e1b",
   "metadata": {},
   "outputs": [],
   "source": [
    "import joblib\n",
    "sk_mlp = joblib.load('./onehot_encoded/models/mlp_sklearnbatch/sksingle_hidden500_mlp.pkl')"
   ]
  },
  {
   "cell_type": "code",
   "execution_count": 23,
   "id": "a91e3867-2561-421a-b589-fc26256fc585",
   "metadata": {},
   "outputs": [
    {
     "data": {
      "text/plain": [
       "(313838, 897)"
      ]
     },
     "execution_count": 23,
     "metadata": {},
     "output_type": "execute_result"
    }
   ],
   "source": [
    "X_test.shape"
   ]
  },
  {
   "cell_type": "code",
   "execution_count": 24,
   "id": "99f8592c-86d3-48f6-9ac3-a2f4f5b512c2",
   "metadata": {},
   "outputs": [
    {
     "ename": "ValueError",
     "evalue": "The feature names should match those that were passed during fit.\nFeature names must be in the same order as they were in fit.\n",
     "output_type": "error",
     "traceback": [
      "\u001b[0;31m---------------------------------------------------------------------------\u001b[0m",
      "\u001b[0;31mValueError\u001b[0m                                Traceback (most recent call last)",
      "Cell \u001b[0;32mIn[24], line 1\u001b[0m\n\u001b[0;32m----> 1\u001b[0m \u001b[43msk_mlp\u001b[49m\u001b[38;5;241;43m.\u001b[39;49m\u001b[43mpredict\u001b[49m\u001b[43m(\u001b[49m\u001b[43mX_test\u001b[49m\u001b[43m)\u001b[49m\n",
      "File \u001b[0;32m~/.conda/envs/biasbounties/lib/python3.10/site-packages/sklearn/neural_network/_multilayer_perceptron.py:1599\u001b[0m, in \u001b[0;36mMLPRegressor.predict\u001b[0;34m(self, X)\u001b[0m\n\u001b[1;32m   1586\u001b[0m \u001b[38;5;250m\u001b[39m\u001b[38;5;124;03m\"\"\"Predict using the multi-layer perceptron model.\u001b[39;00m\n\u001b[1;32m   1587\u001b[0m \n\u001b[1;32m   1588\u001b[0m \u001b[38;5;124;03mParameters\u001b[39;00m\n\u001b[0;32m   (...)\u001b[0m\n\u001b[1;32m   1596\u001b[0m \u001b[38;5;124;03m    The predicted values.\u001b[39;00m\n\u001b[1;32m   1597\u001b[0m \u001b[38;5;124;03m\"\"\"\u001b[39;00m\n\u001b[1;32m   1598\u001b[0m check_is_fitted(\u001b[38;5;28mself\u001b[39m)\n\u001b[0;32m-> 1599\u001b[0m \u001b[38;5;28;01mreturn\u001b[39;00m \u001b[38;5;28;43mself\u001b[39;49m\u001b[38;5;241;43m.\u001b[39;49m\u001b[43m_predict\u001b[49m\u001b[43m(\u001b[49m\u001b[43mX\u001b[49m\u001b[43m)\u001b[49m\n",
      "File \u001b[0;32m~/.conda/envs/biasbounties/lib/python3.10/site-packages/sklearn/neural_network/_multilayer_perceptron.py:1603\u001b[0m, in \u001b[0;36mMLPRegressor._predict\u001b[0;34m(self, X, check_input)\u001b[0m\n\u001b[1;32m   1601\u001b[0m \u001b[38;5;28;01mdef\u001b[39;00m \u001b[38;5;21m_predict\u001b[39m(\u001b[38;5;28mself\u001b[39m, X, check_input\u001b[38;5;241m=\u001b[39m\u001b[38;5;28;01mTrue\u001b[39;00m):\n\u001b[1;32m   1602\u001b[0m \u001b[38;5;250m    \u001b[39m\u001b[38;5;124;03m\"\"\"Private predict method with optional input validation\"\"\"\u001b[39;00m\n\u001b[0;32m-> 1603\u001b[0m     y_pred \u001b[38;5;241m=\u001b[39m \u001b[38;5;28;43mself\u001b[39;49m\u001b[38;5;241;43m.\u001b[39;49m\u001b[43m_forward_pass_fast\u001b[49m\u001b[43m(\u001b[49m\u001b[43mX\u001b[49m\u001b[43m,\u001b[49m\u001b[43m \u001b[49m\u001b[43mcheck_input\u001b[49m\u001b[38;5;241;43m=\u001b[39;49m\u001b[43mcheck_input\u001b[49m\u001b[43m)\u001b[49m\n\u001b[1;32m   1604\u001b[0m     \u001b[38;5;28;01mif\u001b[39;00m y_pred\u001b[38;5;241m.\u001b[39mshape[\u001b[38;5;241m1\u001b[39m] \u001b[38;5;241m==\u001b[39m \u001b[38;5;241m1\u001b[39m:\n\u001b[1;32m   1605\u001b[0m         \u001b[38;5;28;01mreturn\u001b[39;00m y_pred\u001b[38;5;241m.\u001b[39mravel()\n",
      "File \u001b[0;32m~/.conda/envs/biasbounties/lib/python3.10/site-packages/sklearn/neural_network/_multilayer_perceptron.py:207\u001b[0m, in \u001b[0;36mBaseMultilayerPerceptron._forward_pass_fast\u001b[0;34m(self, X, check_input)\u001b[0m\n\u001b[1;32m    188\u001b[0m \u001b[38;5;250m\u001b[39m\u001b[38;5;124;03m\"\"\"Predict using the trained model\u001b[39;00m\n\u001b[1;32m    189\u001b[0m \n\u001b[1;32m    190\u001b[0m \u001b[38;5;124;03mThis is the same as _forward_pass but does not record the activations\u001b[39;00m\n\u001b[0;32m   (...)\u001b[0m\n\u001b[1;32m    204\u001b[0m \u001b[38;5;124;03m    The decision function of the samples for each class in the model.\u001b[39;00m\n\u001b[1;32m    205\u001b[0m \u001b[38;5;124;03m\"\"\"\u001b[39;00m\n\u001b[1;32m    206\u001b[0m \u001b[38;5;28;01mif\u001b[39;00m check_input:\n\u001b[0;32m--> 207\u001b[0m     X \u001b[38;5;241m=\u001b[39m \u001b[38;5;28;43mself\u001b[39;49m\u001b[38;5;241;43m.\u001b[39;49m\u001b[43m_validate_data\u001b[49m\u001b[43m(\u001b[49m\u001b[43mX\u001b[49m\u001b[43m,\u001b[49m\u001b[43m \u001b[49m\u001b[43maccept_sparse\u001b[49m\u001b[38;5;241;43m=\u001b[39;49m\u001b[43m[\u001b[49m\u001b[38;5;124;43m\"\u001b[39;49m\u001b[38;5;124;43mcsr\u001b[39;49m\u001b[38;5;124;43m\"\u001b[39;49m\u001b[43m,\u001b[49m\u001b[43m \u001b[49m\u001b[38;5;124;43m\"\u001b[39;49m\u001b[38;5;124;43mcsc\u001b[39;49m\u001b[38;5;124;43m\"\u001b[39;49m\u001b[43m]\u001b[49m\u001b[43m,\u001b[49m\u001b[43m \u001b[49m\u001b[43mreset\u001b[49m\u001b[38;5;241;43m=\u001b[39;49m\u001b[38;5;28;43;01mFalse\u001b[39;49;00m\u001b[43m)\u001b[49m\n\u001b[1;32m    209\u001b[0m \u001b[38;5;66;03m# Initialize first layer\u001b[39;00m\n\u001b[1;32m    210\u001b[0m activation \u001b[38;5;241m=\u001b[39m X\n",
      "File \u001b[0;32m~/.conda/envs/biasbounties/lib/python3.10/site-packages/sklearn/base.py:579\u001b[0m, in \u001b[0;36mBaseEstimator._validate_data\u001b[0;34m(self, X, y, reset, validate_separately, cast_to_ndarray, **check_params)\u001b[0m\n\u001b[1;32m    508\u001b[0m \u001b[38;5;28;01mdef\u001b[39;00m \u001b[38;5;21m_validate_data\u001b[39m(\n\u001b[1;32m    509\u001b[0m     \u001b[38;5;28mself\u001b[39m,\n\u001b[1;32m    510\u001b[0m     X\u001b[38;5;241m=\u001b[39m\u001b[38;5;124m\"\u001b[39m\u001b[38;5;124mno_validation\u001b[39m\u001b[38;5;124m\"\u001b[39m,\n\u001b[0;32m   (...)\u001b[0m\n\u001b[1;32m    515\u001b[0m     \u001b[38;5;241m*\u001b[39m\u001b[38;5;241m*\u001b[39mcheck_params,\n\u001b[1;32m    516\u001b[0m ):\n\u001b[1;32m    517\u001b[0m \u001b[38;5;250m    \u001b[39m\u001b[38;5;124;03m\"\"\"Validate input data and set or check the `n_features_in_` attribute.\u001b[39;00m\n\u001b[1;32m    518\u001b[0m \n\u001b[1;32m    519\u001b[0m \u001b[38;5;124;03m    Parameters\u001b[39;00m\n\u001b[0;32m   (...)\u001b[0m\n\u001b[1;32m    577\u001b[0m \u001b[38;5;124;03m        validated.\u001b[39;00m\n\u001b[1;32m    578\u001b[0m \u001b[38;5;124;03m    \"\"\"\u001b[39;00m\n\u001b[0;32m--> 579\u001b[0m     \u001b[38;5;28;43mself\u001b[39;49m\u001b[38;5;241;43m.\u001b[39;49m\u001b[43m_check_feature_names\u001b[49m\u001b[43m(\u001b[49m\u001b[43mX\u001b[49m\u001b[43m,\u001b[49m\u001b[43m \u001b[49m\u001b[43mreset\u001b[49m\u001b[38;5;241;43m=\u001b[39;49m\u001b[43mreset\u001b[49m\u001b[43m)\u001b[49m\n\u001b[1;32m    581\u001b[0m     \u001b[38;5;28;01mif\u001b[39;00m y \u001b[38;5;129;01mis\u001b[39;00m \u001b[38;5;28;01mNone\u001b[39;00m \u001b[38;5;129;01mand\u001b[39;00m \u001b[38;5;28mself\u001b[39m\u001b[38;5;241m.\u001b[39m_get_tags()[\u001b[38;5;124m\"\u001b[39m\u001b[38;5;124mrequires_y\u001b[39m\u001b[38;5;124m\"\u001b[39m]:\n\u001b[1;32m    582\u001b[0m         \u001b[38;5;28;01mraise\u001b[39;00m \u001b[38;5;167;01mValueError\u001b[39;00m(\n\u001b[1;32m    583\u001b[0m             \u001b[38;5;124mf\u001b[39m\u001b[38;5;124m\"\u001b[39m\u001b[38;5;124mThis \u001b[39m\u001b[38;5;132;01m{\u001b[39;00m\u001b[38;5;28mself\u001b[39m\u001b[38;5;241m.\u001b[39m\u001b[38;5;18m__class__\u001b[39m\u001b[38;5;241m.\u001b[39m\u001b[38;5;18m__name__\u001b[39m\u001b[38;5;132;01m}\u001b[39;00m\u001b[38;5;124m estimator \u001b[39m\u001b[38;5;124m\"\u001b[39m\n\u001b[1;32m    584\u001b[0m             \u001b[38;5;124m\"\u001b[39m\u001b[38;5;124mrequires y to be passed, but the target y is None.\u001b[39m\u001b[38;5;124m\"\u001b[39m\n\u001b[1;32m    585\u001b[0m         )\n",
      "File \u001b[0;32m~/.conda/envs/biasbounties/lib/python3.10/site-packages/sklearn/base.py:506\u001b[0m, in \u001b[0;36mBaseEstimator._check_feature_names\u001b[0;34m(self, X, reset)\u001b[0m\n\u001b[1;32m    501\u001b[0m \u001b[38;5;28;01mif\u001b[39;00m \u001b[38;5;129;01mnot\u001b[39;00m missing_names \u001b[38;5;129;01mand\u001b[39;00m \u001b[38;5;129;01mnot\u001b[39;00m unexpected_names:\n\u001b[1;32m    502\u001b[0m     message \u001b[38;5;241m+\u001b[39m\u001b[38;5;241m=\u001b[39m (\n\u001b[1;32m    503\u001b[0m         \u001b[38;5;124m\"\u001b[39m\u001b[38;5;124mFeature names must be in the same order as they were in fit.\u001b[39m\u001b[38;5;130;01m\\n\u001b[39;00m\u001b[38;5;124m\"\u001b[39m\n\u001b[1;32m    504\u001b[0m     )\n\u001b[0;32m--> 506\u001b[0m \u001b[38;5;28;01mraise\u001b[39;00m \u001b[38;5;167;01mValueError\u001b[39;00m(message)\n",
      "\u001b[0;31mValueError\u001b[0m: The feature names should match those that were passed during fit.\nFeature names must be in the same order as they were in fit.\n"
     ]
    }
   ],
   "source": [
    "sk_mlp.predict(X_test)"
   ]
  },
  {
   "cell_type": "code",
   "execution_count": null,
   "id": "4ab78fe1-c1f0-49d2-a03f-52698fc80b6e",
   "metadata": {},
   "outputs": [],
   "source": []
  }
 ],
 "metadata": {
  "kernelspec": {
   "display_name": "Python 3.11.1 64-bit",
   "language": "python",
   "name": "python3"
  },
  "language_info": {
   "codemirror_mode": {
    "name": "ipython",
    "version": 3
   },
   "file_extension": ".py",
   "mimetype": "text/x-python",
   "name": "python",
   "nbconvert_exporter": "python",
   "pygments_lexer": "ipython3",
   "version": "3.11.1"
  },
  "vscode": {
   "interpreter": {
    "hash": "5c7b89af1651d0b8571dde13640ecdccf7d5a6204171d6ab33e7c296e100e08a"
   }
  }
 },
 "nbformat": 4,
 "nbformat_minor": 5
}
