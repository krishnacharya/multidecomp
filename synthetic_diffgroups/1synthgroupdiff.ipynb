{
 "cells": [
  {
   "cell_type": "code",
   "execution_count": 48,
   "metadata": {},
   "outputs": [],
   "source": [
    "import os\n",
    "os.chdir('..')\n",
    "from bilevel.synth_datagen import SynthGenLinear"
   ]
  },
  {
   "cell_type": "code",
   "execution_count": 49,
   "metadata": {},
   "outputs": [],
   "source": [
    "import numpy as np\n",
    "import pandas as pd"
   ]
  },
  {
   "cell_type": "code",
   "execution_count": 50,
   "metadata": {},
   "outputs": [],
   "source": [
    "params = {'samples': 100000, 'dim':20, \n",
    "        'group_dict': {'SEX':['male', 'female'], 'RACE': ['white', 'black', 'two-or-more','some-other', 'asian', 'native-am']},\n",
    "        'prob_dict': {'SEX': [0.5, 0.5], 'RACE': [0.61, 0.12, 0.1, 0.08, 0.06, 0.03]},\n",
    "        'feat_lo': 0.0, 'feat_hi': 1.0, 'w_lo': 0.0, 'w_hi': 100.0, \n",
    "        'label_noise_width':100, 'drop_sensitive':False\n",
    "        }\n",
    "syn_ob = SynthGenLinear(**params)"
   ]
  },
  {
   "cell_type": "code",
   "execution_count": null,
   "metadata": {},
   "outputs": [],
   "source": [
    "syn_ob.df[['active_labels', 'bin_masked_labels']]\n",
    "df = syn_ob.df"
   ]
  },
  {
   "cell_type": "code",
   "execution_count": null,
   "metadata": {},
   "outputs": [
    {
     "name": "stdout",
     "output_type": "stream",
     "text": [
      "['x_0', 'x_1', 'x_2', 'x_3', 'x_4', 'x_5', 'x_6', 'x_7', 'x_8', 'x_9', 'x_10', 'x_11', 'x_12', 'x_13', 'x_14', 'x_15', 'x_16', 'x_17', 'x_18', 'x_19'] ['y_male', 'y_female', 'y_white', 'y_black', 'y_two-or-more', 'y_some-other', 'y_asian', 'y_native-am'] ['g_male', 'g_female', 'g_white', 'g_black', 'g_two-or-more', 'g_some-other', 'g_asian', 'g_native-am']\n"
     ]
    }
   ],
   "source": [
    "filter_feature = [col for col in df if col.startswith('x')]\n",
    "filter_label = [col for col in df if col.startswith('y')]\n",
    "filter_group = [col for col in df if col.startswith('g')]\n",
    "print(filter_feature, filter_label, filter_group)"
   ]
  },
  {
   "cell_type": "code",
   "execution_count": null,
   "metadata": {},
   "outputs": [
    {
     "data": {
      "text/plain": [
       "Index(['x_0', 'x_1', 'x_2', 'x_3', 'x_4', 'x_5', 'x_6', 'x_7', 'x_8', 'x_9',\n",
       "       'x_10', 'x_11', 'x_12', 'x_13', 'x_14', 'x_15', 'x_16', 'x_17', 'x_18',\n",
       "       'x_19', 'g_male', 'g_female', 'g_white', 'g_black', 'g_two-or-more',\n",
       "       'g_some-other', 'g_asian', 'g_native-am', 'y_male', 'y_female',\n",
       "       'y_white', 'y_black', 'y_two-or-more', 'y_some-other', 'y_asian',\n",
       "       'y_native-am', 'active_labels', 'bin_masked_labels'],\n",
       "      dtype='object')"
      ]
     },
     "execution_count": 6,
     "metadata": {},
     "output_type": "execute_result"
    }
   ],
   "source": [
    "df.columns"
   ]
  },
  {
   "cell_type": "code",
   "execution_count": null,
   "metadata": {},
   "outputs": [
    {
     "data": {
      "text/plain": [
       "0         [4.759823890644501, 4.118582563175968]\n",
       "1         [5.825500197307057, 4.996523637512929]\n",
       "2       [3.8400350629697524, 3.7982976221734908]\n",
       "3        [4.678205010240008, 4.3372413917480195]\n",
       "4         [5.367336856748316, 4.095341741671556]\n",
       "                          ...                   \n",
       "9995     [4.752628940723493, 3.8593801756674564]\n",
       "9996      [4.024836664995607, 3.165233838337267]\n",
       "9997     [4.656866353769164, 3.5379825419609885]\n",
       "9998      [4.442073823647269, 4.233713857034191]\n",
       "9999      [5.504367346566517, 4.346461476026054]\n",
       "Name: active_labels, Length: 10000, dtype: object"
      ]
     },
     "execution_count": 7,
     "metadata": {},
     "output_type": "execute_result"
    }
   ],
   "source": [
    "df['active_labels']"
   ]
  },
  {
   "cell_type": "code",
   "execution_count": null,
   "metadata": {},
   "outputs": [],
   "source": [
    "df['y_min_active'] = df.apply(lambda x: np.min(x['active_labels']), axis=1)\n",
    "df['y_max_active'] = df.apply(lambda x: np.max(x['active_labels']), axis =1)\n",
    "df['y_mean_active'] = df.apply(lambda x: np.mean(x['active_labels']), axis =1)\n"
   ]
  },
  {
   "cell_type": "code",
   "execution_count": null,
   "metadata": {},
   "outputs": [
    {
     "data": {
      "text/html": [
       "<div>\n",
       "<style scoped>\n",
       "    .dataframe tbody tr th:only-of-type {\n",
       "        vertical-align: middle;\n",
       "    }\n",
       "\n",
       "    .dataframe tbody tr th {\n",
       "        vertical-align: top;\n",
       "    }\n",
       "\n",
       "    .dataframe thead th {\n",
       "        text-align: right;\n",
       "    }\n",
       "</style>\n",
       "<table border=\"1\" class=\"dataframe\">\n",
       "  <thead>\n",
       "    <tr style=\"text-align: right;\">\n",
       "      <th></th>\n",
       "      <th>x_0</th>\n",
       "      <th>x_1</th>\n",
       "      <th>x_2</th>\n",
       "      <th>x_3</th>\n",
       "      <th>x_4</th>\n",
       "      <th>x_5</th>\n",
       "      <th>x_6</th>\n",
       "      <th>x_7</th>\n",
       "      <th>x_8</th>\n",
       "      <th>x_9</th>\n",
       "      <th>...</th>\n",
       "      <th>y_black</th>\n",
       "      <th>y_two-or-more</th>\n",
       "      <th>y_some-other</th>\n",
       "      <th>y_asian</th>\n",
       "      <th>y_native-am</th>\n",
       "      <th>active_labels</th>\n",
       "      <th>bin_masked_labels</th>\n",
       "      <th>y_min_active</th>\n",
       "      <th>y_max_active</th>\n",
       "      <th>y_mean_active</th>\n",
       "    </tr>\n",
       "  </thead>\n",
       "  <tbody>\n",
       "    <tr>\n",
       "      <th>0</th>\n",
       "      <td>0.155141</td>\n",
       "      <td>0.153212</td>\n",
       "      <td>0.404544</td>\n",
       "      <td>0.874220</td>\n",
       "      <td>0.538219</td>\n",
       "      <td>0.858930</td>\n",
       "      <td>0.204999</td>\n",
       "      <td>0.953292</td>\n",
       "      <td>0.258100</td>\n",
       "      <td>0.426815</td>\n",
       "      <td>...</td>\n",
       "      <td>5.001843</td>\n",
       "      <td>4.586682</td>\n",
       "      <td>3.990731</td>\n",
       "      <td>4.798298</td>\n",
       "      <td>6.042650</td>\n",
       "      <td>[4.759823890644501, 4.118582563175968]</td>\n",
       "      <td>[4.759823890644501, 0.0, 4.118582563175968, 0....</td>\n",
       "      <td>4.118583</td>\n",
       "      <td>4.759824</td>\n",
       "      <td>4.439203</td>\n",
       "    </tr>\n",
       "    <tr>\n",
       "      <th>1</th>\n",
       "      <td>0.073679</td>\n",
       "      <td>0.502093</td>\n",
       "      <td>0.329670</td>\n",
       "      <td>0.927225</td>\n",
       "      <td>0.158273</td>\n",
       "      <td>0.971968</td>\n",
       "      <td>0.895219</td>\n",
       "      <td>0.178355</td>\n",
       "      <td>0.656396</td>\n",
       "      <td>0.622833</td>\n",
       "      <td>...</td>\n",
       "      <td>5.209901</td>\n",
       "      <td>5.746388</td>\n",
       "      <td>4.969511</td>\n",
       "      <td>6.335954</td>\n",
       "      <td>6.414454</td>\n",
       "      <td>[5.825500197307057, 4.996523637512929]</td>\n",
       "      <td>[0.0, 5.825500197307057, 4.996523637512929, 0....</td>\n",
       "      <td>4.996524</td>\n",
       "      <td>5.825500</td>\n",
       "      <td>5.411012</td>\n",
       "    </tr>\n",
       "    <tr>\n",
       "      <th>2</th>\n",
       "      <td>0.641142</td>\n",
       "      <td>0.092470</td>\n",
       "      <td>0.124411</td>\n",
       "      <td>0.427191</td>\n",
       "      <td>0.543468</td>\n",
       "      <td>0.425972</td>\n",
       "      <td>0.786278</td>\n",
       "      <td>0.868249</td>\n",
       "      <td>0.308234</td>\n",
       "      <td>0.326483</td>\n",
       "      <td>...</td>\n",
       "      <td>3.685736</td>\n",
       "      <td>3.798298</td>\n",
       "      <td>3.463642</td>\n",
       "      <td>3.941527</td>\n",
       "      <td>4.446552</td>\n",
       "      <td>[3.8400350629697524, 3.7982976221734908]</td>\n",
       "      <td>[0.0, 3.8400350629697524, 0.0, 0.0, 3.79829762...</td>\n",
       "      <td>3.798298</td>\n",
       "      <td>3.840035</td>\n",
       "      <td>3.819166</td>\n",
       "    </tr>\n",
       "    <tr>\n",
       "      <th>3</th>\n",
       "      <td>0.182101</td>\n",
       "      <td>0.486635</td>\n",
       "      <td>0.127706</td>\n",
       "      <td>0.671128</td>\n",
       "      <td>0.097394</td>\n",
       "      <td>0.410181</td>\n",
       "      <td>0.456580</td>\n",
       "      <td>0.487363</td>\n",
       "      <td>0.193097</td>\n",
       "      <td>0.613554</td>\n",
       "      <td>...</td>\n",
       "      <td>4.374727</td>\n",
       "      <td>4.337241</td>\n",
       "      <td>3.878515</td>\n",
       "      <td>4.779392</td>\n",
       "      <td>4.840211</td>\n",
       "      <td>[4.678205010240008, 4.3372413917480195]</td>\n",
       "      <td>[4.678205010240008, 0.0, 0.0, 0.0, 4.337241391...</td>\n",
       "      <td>4.337241</td>\n",
       "      <td>4.678205</td>\n",
       "      <td>4.507723</td>\n",
       "    </tr>\n",
       "    <tr>\n",
       "      <th>4</th>\n",
       "      <td>0.884903</td>\n",
       "      <td>0.289509</td>\n",
       "      <td>0.496345</td>\n",
       "      <td>0.771282</td>\n",
       "      <td>0.916529</td>\n",
       "      <td>0.680323</td>\n",
       "      <td>0.238675</td>\n",
       "      <td>0.095646</td>\n",
       "      <td>0.173679</td>\n",
       "      <td>0.656747</td>\n",
       "      <td>...</td>\n",
       "      <td>5.276508</td>\n",
       "      <td>5.035174</td>\n",
       "      <td>3.978178</td>\n",
       "      <td>5.248452</td>\n",
       "      <td>5.465382</td>\n",
       "      <td>[5.367336856748316, 4.095341741671556]</td>\n",
       "      <td>[0.0, 5.367336856748316, 4.095341741671556, 0....</td>\n",
       "      <td>4.095342</td>\n",
       "      <td>5.367337</td>\n",
       "      <td>4.731339</td>\n",
       "    </tr>\n",
       "    <tr>\n",
       "      <th>...</th>\n",
       "      <td>...</td>\n",
       "      <td>...</td>\n",
       "      <td>...</td>\n",
       "      <td>...</td>\n",
       "      <td>...</td>\n",
       "      <td>...</td>\n",
       "      <td>...</td>\n",
       "      <td>...</td>\n",
       "      <td>...</td>\n",
       "      <td>...</td>\n",
       "      <td>...</td>\n",
       "      <td>...</td>\n",
       "      <td>...</td>\n",
       "      <td>...</td>\n",
       "      <td>...</td>\n",
       "      <td>...</td>\n",
       "      <td>...</td>\n",
       "      <td>...</td>\n",
       "      <td>...</td>\n",
       "      <td>...</td>\n",
       "      <td>...</td>\n",
       "    </tr>\n",
       "    <tr>\n",
       "      <th>9995</th>\n",
       "      <td>0.530447</td>\n",
       "      <td>0.982404</td>\n",
       "      <td>0.411448</td>\n",
       "      <td>0.140082</td>\n",
       "      <td>0.406428</td>\n",
       "      <td>0.077133</td>\n",
       "      <td>0.670902</td>\n",
       "      <td>0.247396</td>\n",
       "      <td>0.627485</td>\n",
       "      <td>0.221134</td>\n",
       "      <td>...</td>\n",
       "      <td>3.759809</td>\n",
       "      <td>5.123096</td>\n",
       "      <td>4.338662</td>\n",
       "      <td>4.839475</td>\n",
       "      <td>4.064662</td>\n",
       "      <td>[4.752628940723493, 3.8593801756674564]</td>\n",
       "      <td>[0.0, 4.752628940723493, 3.8593801756674564, 0...</td>\n",
       "      <td>3.859380</td>\n",
       "      <td>4.752629</td>\n",
       "      <td>4.306005</td>\n",
       "    </tr>\n",
       "    <tr>\n",
       "      <th>9996</th>\n",
       "      <td>0.736691</td>\n",
       "      <td>0.924662</td>\n",
       "      <td>0.683965</td>\n",
       "      <td>0.342347</td>\n",
       "      <td>0.450616</td>\n",
       "      <td>0.475079</td>\n",
       "      <td>0.405864</td>\n",
       "      <td>0.038442</td>\n",
       "      <td>0.704625</td>\n",
       "      <td>0.385206</td>\n",
       "      <td>...</td>\n",
       "      <td>3.577186</td>\n",
       "      <td>4.169680</td>\n",
       "      <td>3.976061</td>\n",
       "      <td>4.712305</td>\n",
       "      <td>4.142919</td>\n",
       "      <td>[4.024836664995607, 3.165233838337267]</td>\n",
       "      <td>[0.0, 4.024836664995607, 3.165233838337267, 0....</td>\n",
       "      <td>3.165234</td>\n",
       "      <td>4.024837</td>\n",
       "      <td>3.595035</td>\n",
       "    </tr>\n",
       "    <tr>\n",
       "      <th>9997</th>\n",
       "      <td>0.228007</td>\n",
       "      <td>0.141248</td>\n",
       "      <td>0.520737</td>\n",
       "      <td>0.190701</td>\n",
       "      <td>0.264753</td>\n",
       "      <td>0.033608</td>\n",
       "      <td>0.519715</td>\n",
       "      <td>0.211977</td>\n",
       "      <td>0.092672</td>\n",
       "      <td>0.373980</td>\n",
       "      <td>...</td>\n",
       "      <td>3.531980</td>\n",
       "      <td>5.015743</td>\n",
       "      <td>3.901951</td>\n",
       "      <td>4.577133</td>\n",
       "      <td>4.194621</td>\n",
       "      <td>[4.656866353769164, 3.5379825419609885]</td>\n",
       "      <td>[0.0, 4.656866353769164, 3.5379825419609885, 0...</td>\n",
       "      <td>3.537983</td>\n",
       "      <td>4.656866</td>\n",
       "      <td>4.097424</td>\n",
       "    </tr>\n",
       "    <tr>\n",
       "      <th>9998</th>\n",
       "      <td>0.634692</td>\n",
       "      <td>0.161229</td>\n",
       "      <td>0.338137</td>\n",
       "      <td>0.736687</td>\n",
       "      <td>0.942537</td>\n",
       "      <td>0.383611</td>\n",
       "      <td>0.312602</td>\n",
       "      <td>0.943987</td>\n",
       "      <td>0.275751</td>\n",
       "      <td>0.090742</td>\n",
       "      <td>...</td>\n",
       "      <td>4.204859</td>\n",
       "      <td>4.433244</td>\n",
       "      <td>3.879127</td>\n",
       "      <td>4.869985</td>\n",
       "      <td>4.669256</td>\n",
       "      <td>[4.442073823647269, 4.233713857034191]</td>\n",
       "      <td>[0.0, 4.442073823647269, 4.233713857034191, 0....</td>\n",
       "      <td>4.233714</td>\n",
       "      <td>4.442074</td>\n",
       "      <td>4.337894</td>\n",
       "    </tr>\n",
       "    <tr>\n",
       "      <th>9999</th>\n",
       "      <td>0.818804</td>\n",
       "      <td>0.776415</td>\n",
       "      <td>0.115833</td>\n",
       "      <td>0.512191</td>\n",
       "      <td>0.468181</td>\n",
       "      <td>0.524659</td>\n",
       "      <td>0.373641</td>\n",
       "      <td>0.893480</td>\n",
       "      <td>0.760840</td>\n",
       "      <td>0.093965</td>\n",
       "      <td>...</td>\n",
       "      <td>4.937265</td>\n",
       "      <td>4.672217</td>\n",
       "      <td>4.540899</td>\n",
       "      <td>5.099883</td>\n",
       "      <td>4.418736</td>\n",
       "      <td>[5.504367346566517, 4.346461476026054]</td>\n",
       "      <td>[5.504367346566517, 0.0, 4.346461476026054, 0....</td>\n",
       "      <td>4.346461</td>\n",
       "      <td>5.504367</td>\n",
       "      <td>4.925414</td>\n",
       "    </tr>\n",
       "  </tbody>\n",
       "</table>\n",
       "<p>10000 rows × 41 columns</p>\n",
       "</div>"
      ],
      "text/plain": [
       "           x_0       x_1       x_2       x_3       x_4       x_5       x_6  \\\n",
       "0     0.155141  0.153212  0.404544  0.874220  0.538219  0.858930  0.204999   \n",
       "1     0.073679  0.502093  0.329670  0.927225  0.158273  0.971968  0.895219   \n",
       "2     0.641142  0.092470  0.124411  0.427191  0.543468  0.425972  0.786278   \n",
       "3     0.182101  0.486635  0.127706  0.671128  0.097394  0.410181  0.456580   \n",
       "4     0.884903  0.289509  0.496345  0.771282  0.916529  0.680323  0.238675   \n",
       "...        ...       ...       ...       ...       ...       ...       ...   \n",
       "9995  0.530447  0.982404  0.411448  0.140082  0.406428  0.077133  0.670902   \n",
       "9996  0.736691  0.924662  0.683965  0.342347  0.450616  0.475079  0.405864   \n",
       "9997  0.228007  0.141248  0.520737  0.190701  0.264753  0.033608  0.519715   \n",
       "9998  0.634692  0.161229  0.338137  0.736687  0.942537  0.383611  0.312602   \n",
       "9999  0.818804  0.776415  0.115833  0.512191  0.468181  0.524659  0.373641   \n",
       "\n",
       "           x_7       x_8       x_9  ...   y_black  y_two-or-more  \\\n",
       "0     0.953292  0.258100  0.426815  ...  5.001843       4.586682   \n",
       "1     0.178355  0.656396  0.622833  ...  5.209901       5.746388   \n",
       "2     0.868249  0.308234  0.326483  ...  3.685736       3.798298   \n",
       "3     0.487363  0.193097  0.613554  ...  4.374727       4.337241   \n",
       "4     0.095646  0.173679  0.656747  ...  5.276508       5.035174   \n",
       "...        ...       ...       ...  ...       ...            ...   \n",
       "9995  0.247396  0.627485  0.221134  ...  3.759809       5.123096   \n",
       "9996  0.038442  0.704625  0.385206  ...  3.577186       4.169680   \n",
       "9997  0.211977  0.092672  0.373980  ...  3.531980       5.015743   \n",
       "9998  0.943987  0.275751  0.090742  ...  4.204859       4.433244   \n",
       "9999  0.893480  0.760840  0.093965  ...  4.937265       4.672217   \n",
       "\n",
       "      y_some-other   y_asian  y_native-am  \\\n",
       "0         3.990731  4.798298     6.042650   \n",
       "1         4.969511  6.335954     6.414454   \n",
       "2         3.463642  3.941527     4.446552   \n",
       "3         3.878515  4.779392     4.840211   \n",
       "4         3.978178  5.248452     5.465382   \n",
       "...            ...       ...          ...   \n",
       "9995      4.338662  4.839475     4.064662   \n",
       "9996      3.976061  4.712305     4.142919   \n",
       "9997      3.901951  4.577133     4.194621   \n",
       "9998      3.879127  4.869985     4.669256   \n",
       "9999      4.540899  5.099883     4.418736   \n",
       "\n",
       "                                 active_labels  \\\n",
       "0       [4.759823890644501, 4.118582563175968]   \n",
       "1       [5.825500197307057, 4.996523637512929]   \n",
       "2     [3.8400350629697524, 3.7982976221734908]   \n",
       "3      [4.678205010240008, 4.3372413917480195]   \n",
       "4       [5.367336856748316, 4.095341741671556]   \n",
       "...                                        ...   \n",
       "9995   [4.752628940723493, 3.8593801756674564]   \n",
       "9996    [4.024836664995607, 3.165233838337267]   \n",
       "9997   [4.656866353769164, 3.5379825419609885]   \n",
       "9998    [4.442073823647269, 4.233713857034191]   \n",
       "9999    [5.504367346566517, 4.346461476026054]   \n",
       "\n",
       "                                      bin_masked_labels  y_min_active  \\\n",
       "0     [4.759823890644501, 0.0, 4.118582563175968, 0....      4.118583   \n",
       "1     [0.0, 5.825500197307057, 4.996523637512929, 0....      4.996524   \n",
       "2     [0.0, 3.8400350629697524, 0.0, 0.0, 3.79829762...      3.798298   \n",
       "3     [4.678205010240008, 0.0, 0.0, 0.0, 4.337241391...      4.337241   \n",
       "4     [0.0, 5.367336856748316, 4.095341741671556, 0....      4.095342   \n",
       "...                                                 ...           ...   \n",
       "9995  [0.0, 4.752628940723493, 3.8593801756674564, 0...      3.859380   \n",
       "9996  [0.0, 4.024836664995607, 3.165233838337267, 0....      3.165234   \n",
       "9997  [0.0, 4.656866353769164, 3.5379825419609885, 0...      3.537983   \n",
       "9998  [0.0, 4.442073823647269, 4.233713857034191, 0....      4.233714   \n",
       "9999  [5.504367346566517, 0.0, 4.346461476026054, 0....      4.346461   \n",
       "\n",
       "      y_max_active  y_mean_active  \n",
       "0         4.759824       4.439203  \n",
       "1         5.825500       5.411012  \n",
       "2         3.840035       3.819166  \n",
       "3         4.678205       4.507723  \n",
       "4         5.367337       4.731339  \n",
       "...            ...            ...  \n",
       "9995      4.752629       4.306005  \n",
       "9996      4.024837       3.595035  \n",
       "9997      4.656866       4.097424  \n",
       "9998      4.442074       4.337894  \n",
       "9999      5.504367       4.925414  \n",
       "\n",
       "[10000 rows x 41 columns]"
      ]
     },
     "execution_count": 9,
     "metadata": {},
     "output_type": "execute_result"
    }
   ],
   "source": [
    "df"
   ]
  },
  {
   "cell_type": "markdown",
   "metadata": {},
   "source": [
    "# Even though labels for each group are realizable by linear, their combination is not linear!\n",
    "Single linear learner unable to capture this, and as expected cannot get a perfect r2"
   ]
  },
  {
   "cell_type": "code",
   "execution_count": null,
   "metadata": {},
   "outputs": [
    {
     "name": "stdout",
     "output_type": "stream",
     "text": [
      "0.7252889871153351 0.7103774201393394\n"
     ]
    }
   ],
   "source": [
    "from sklearn.model_selection import train_test_split\n",
    "random_seed = 21\n",
    "X_train, X_test, y_train, y_test = train_test_split(df[filter_feature], \n",
    "                                                    df['y_min_active'], test_size = 0.2,\n",
    "                                                    shuffle=True, random_state= random_seed)\n",
    "# for min of active\n",
    "from sklearn.linear_model import LinearRegression\n",
    "lr = LinearRegression()\n",
    "lr.fit(X_train, y_train)\n",
    "print(lr.score(X_train, y_train), lr.score(X_test, y_test))"
   ]
  },
  {
   "cell_type": "code",
   "execution_count": null,
   "metadata": {},
   "outputs": [
    {
     "name": "stdout",
     "output_type": "stream",
     "text": [
      "0.8204647551562826 0.813526806332526\n"
     ]
    }
   ],
   "source": [
    "from sklearn.model_selection import train_test_split\n",
    "random_seed = 21\n",
    "X_train, X_test, y_train, y_test = train_test_split(df[filter_feature], \n",
    "                                                    df['y_max_active'], test_size = 0.2,\n",
    "                                                    shuffle=True, random_state= random_seed)\n",
    "# for min of active\n",
    "from sklearn.linear_model import LinearRegression\n",
    "lr = LinearRegression()\n",
    "lr.fit(X_train, y_train)\n",
    "print(lr.score(X_train, y_train), lr.score(X_test, y_test))"
   ]
  },
  {
   "cell_type": "code",
   "execution_count": null,
   "metadata": {},
   "outputs": [
    {
     "name": "stdout",
     "output_type": "stream",
     "text": [
      "0.8379149511270622 0.8258284602213225\n"
     ]
    }
   ],
   "source": [
    "from sklearn.model_selection import train_test_split\n",
    "random_seed = 21\n",
    "X_train, X_test, y_train, y_test = train_test_split(df[filter_feature], \n",
    "                                                    df['y_mean_active'], test_size = 0.2,\n",
    "                                                    shuffle=True, random_state= random_seed)\n",
    "# for min of active\n",
    "from sklearn.linear_model import LinearRegression\n",
    "lr = LinearRegression()\n",
    "lr.fit(X_train, y_train)\n",
    "print(lr.score(X_train, y_train), lr.score(X_test, y_test))"
   ]
  },
  {
   "cell_type": "code",
   "execution_count": null,
   "metadata": {},
   "outputs": [
    {
     "name": "stdout",
     "output_type": "stream",
     "text": [
      "0.8379149511270622 0.8258284602213225\n"
     ]
    }
   ],
   "source": [
    "# for mean of active\n",
    "from sklearn.linear_model import LinearRegression\n",
    "lr = LinearRegression()\n",
    "lr.fit(X_train, y_train)\n",
    "print(lr.score(X_train, y_train), lr.score(X_test, y_test))"
   ]
  },
  {
   "cell_type": "markdown",
   "metadata": {},
   "source": [
    "# Batch comparing models across different groups, are they similar or not\n",
    "- use model trained on data for one group, test it on data of another (test its r2 score on data of other)"
   ]
  },
  {
   "cell_type": "code",
   "execution_count": null,
   "metadata": {},
   "outputs": [
    {
     "name": "stdout",
     "output_type": "stream",
     "text": [
      "['y_male', 'y_female', 'y_white', 'y_black', 'y_two-or-more', 'y_some-other', 'y_asian', 'y_native-am', 'y_min_active', 'y_max_active', 'y_mean_active']\n",
      "['g_male', 'g_female', 'g_white', 'g_black', 'g_two-or-more', 'g_some-other', 'g_asian', 'g_native-am']\n",
      "['x_0', 'x_1', 'x_2', 'x_3', 'x_4', 'x_5', 'x_6', 'x_7', 'x_8', 'x_9', 'x_10', 'x_11', 'x_12', 'x_13', 'x_14', 'x_15', 'x_16', 'x_17', 'x_18', 'x_19']\n"
     ]
    }
   ],
   "source": [
    "y_all = [col for col in df if col.startswith('y')]\n",
    "print(y_all)\n",
    "print(filter_group)\n",
    "print(filter_feature)"
   ]
  },
  {
   "cell_type": "code",
   "execution_count": null,
   "metadata": {},
   "outputs": [
    {
     "data": {
      "text/html": [
       "<div>\n",
       "<style scoped>\n",
       "    .dataframe tbody tr th:only-of-type {\n",
       "        vertical-align: middle;\n",
       "    }\n",
       "\n",
       "    .dataframe tbody tr th {\n",
       "        vertical-align: top;\n",
       "    }\n",
       "\n",
       "    .dataframe thead th {\n",
       "        text-align: right;\n",
       "    }\n",
       "</style>\n",
       "<table border=\"1\" class=\"dataframe\">\n",
       "  <thead>\n",
       "    <tr style=\"text-align: right;\">\n",
       "      <th></th>\n",
       "      <th>x_0</th>\n",
       "      <th>x_1</th>\n",
       "      <th>x_2</th>\n",
       "      <th>x_3</th>\n",
       "      <th>x_4</th>\n",
       "      <th>x_5</th>\n",
       "      <th>x_6</th>\n",
       "      <th>x_7</th>\n",
       "      <th>x_8</th>\n",
       "      <th>x_9</th>\n",
       "      <th>...</th>\n",
       "      <th>g_male</th>\n",
       "      <th>g_female</th>\n",
       "      <th>g_white</th>\n",
       "      <th>g_black</th>\n",
       "      <th>g_two-or-more</th>\n",
       "      <th>g_some-other</th>\n",
       "      <th>g_asian</th>\n",
       "      <th>g_native-am</th>\n",
       "      <th>active_labels</th>\n",
       "      <th>bin_masked_labels</th>\n",
       "    </tr>\n",
       "  </thead>\n",
       "  <tbody>\n",
       "    <tr>\n",
       "      <th>0</th>\n",
       "      <td>0.155141</td>\n",
       "      <td>0.153212</td>\n",
       "      <td>0.404544</td>\n",
       "      <td>0.874220</td>\n",
       "      <td>0.538219</td>\n",
       "      <td>0.858930</td>\n",
       "      <td>0.204999</td>\n",
       "      <td>0.953292</td>\n",
       "      <td>0.258100</td>\n",
       "      <td>0.426815</td>\n",
       "      <td>...</td>\n",
       "      <td>1.0</td>\n",
       "      <td>0.0</td>\n",
       "      <td>1.0</td>\n",
       "      <td>0.0</td>\n",
       "      <td>0.0</td>\n",
       "      <td>0.0</td>\n",
       "      <td>0.0</td>\n",
       "      <td>0.0</td>\n",
       "      <td>[4.759823890644501, 4.118582563175968]</td>\n",
       "      <td>[4.759823890644501, 0.0, 4.118582563175968, 0....</td>\n",
       "    </tr>\n",
       "    <tr>\n",
       "      <th>1</th>\n",
       "      <td>0.073679</td>\n",
       "      <td>0.502093</td>\n",
       "      <td>0.329670</td>\n",
       "      <td>0.927225</td>\n",
       "      <td>0.158273</td>\n",
       "      <td>0.971968</td>\n",
       "      <td>0.895219</td>\n",
       "      <td>0.178355</td>\n",
       "      <td>0.656396</td>\n",
       "      <td>0.622833</td>\n",
       "      <td>...</td>\n",
       "      <td>0.0</td>\n",
       "      <td>1.0</td>\n",
       "      <td>1.0</td>\n",
       "      <td>0.0</td>\n",
       "      <td>0.0</td>\n",
       "      <td>0.0</td>\n",
       "      <td>0.0</td>\n",
       "      <td>0.0</td>\n",
       "      <td>[5.825500197307057, 4.996523637512929]</td>\n",
       "      <td>[0.0, 5.825500197307057, 4.996523637512929, 0....</td>\n",
       "    </tr>\n",
       "    <tr>\n",
       "      <th>2</th>\n",
       "      <td>0.641142</td>\n",
       "      <td>0.092470</td>\n",
       "      <td>0.124411</td>\n",
       "      <td>0.427191</td>\n",
       "      <td>0.543468</td>\n",
       "      <td>0.425972</td>\n",
       "      <td>0.786278</td>\n",
       "      <td>0.868249</td>\n",
       "      <td>0.308234</td>\n",
       "      <td>0.326483</td>\n",
       "      <td>...</td>\n",
       "      <td>0.0</td>\n",
       "      <td>1.0</td>\n",
       "      <td>0.0</td>\n",
       "      <td>0.0</td>\n",
       "      <td>1.0</td>\n",
       "      <td>0.0</td>\n",
       "      <td>0.0</td>\n",
       "      <td>0.0</td>\n",
       "      <td>[3.8400350629697524, 3.7982976221734908]</td>\n",
       "      <td>[0.0, 3.8400350629697524, 0.0, 0.0, 3.79829762...</td>\n",
       "    </tr>\n",
       "    <tr>\n",
       "      <th>3</th>\n",
       "      <td>0.182101</td>\n",
       "      <td>0.486635</td>\n",
       "      <td>0.127706</td>\n",
       "      <td>0.671128</td>\n",
       "      <td>0.097394</td>\n",
       "      <td>0.410181</td>\n",
       "      <td>0.456580</td>\n",
       "      <td>0.487363</td>\n",
       "      <td>0.193097</td>\n",
       "      <td>0.613554</td>\n",
       "      <td>...</td>\n",
       "      <td>1.0</td>\n",
       "      <td>0.0</td>\n",
       "      <td>0.0</td>\n",
       "      <td>0.0</td>\n",
       "      <td>1.0</td>\n",
       "      <td>0.0</td>\n",
       "      <td>0.0</td>\n",
       "      <td>0.0</td>\n",
       "      <td>[4.678205010240008, 4.3372413917480195]</td>\n",
       "      <td>[4.678205010240008, 0.0, 0.0, 0.0, 4.337241391...</td>\n",
       "    </tr>\n",
       "    <tr>\n",
       "      <th>4</th>\n",
       "      <td>0.884903</td>\n",
       "      <td>0.289509</td>\n",
       "      <td>0.496345</td>\n",
       "      <td>0.771282</td>\n",
       "      <td>0.916529</td>\n",
       "      <td>0.680323</td>\n",
       "      <td>0.238675</td>\n",
       "      <td>0.095646</td>\n",
       "      <td>0.173679</td>\n",
       "      <td>0.656747</td>\n",
       "      <td>...</td>\n",
       "      <td>0.0</td>\n",
       "      <td>1.0</td>\n",
       "      <td>1.0</td>\n",
       "      <td>0.0</td>\n",
       "      <td>0.0</td>\n",
       "      <td>0.0</td>\n",
       "      <td>0.0</td>\n",
       "      <td>0.0</td>\n",
       "      <td>[5.367336856748316, 4.095341741671556]</td>\n",
       "      <td>[0.0, 5.367336856748316, 4.095341741671556, 0....</td>\n",
       "    </tr>\n",
       "  </tbody>\n",
       "</table>\n",
       "<p>5 rows × 30 columns</p>\n",
       "</div>"
      ],
      "text/plain": [
       "        x_0       x_1       x_2       x_3       x_4       x_5       x_6  \\\n",
       "0  0.155141  0.153212  0.404544  0.874220  0.538219  0.858930  0.204999   \n",
       "1  0.073679  0.502093  0.329670  0.927225  0.158273  0.971968  0.895219   \n",
       "2  0.641142  0.092470  0.124411  0.427191  0.543468  0.425972  0.786278   \n",
       "3  0.182101  0.486635  0.127706  0.671128  0.097394  0.410181  0.456580   \n",
       "4  0.884903  0.289509  0.496345  0.771282  0.916529  0.680323  0.238675   \n",
       "\n",
       "        x_7       x_8       x_9  ...  g_male  g_female  g_white  g_black  \\\n",
       "0  0.953292  0.258100  0.426815  ...     1.0       0.0      1.0      0.0   \n",
       "1  0.178355  0.656396  0.622833  ...     0.0       1.0      1.0      0.0   \n",
       "2  0.868249  0.308234  0.326483  ...     0.0       1.0      0.0      0.0   \n",
       "3  0.487363  0.193097  0.613554  ...     1.0       0.0      0.0      0.0   \n",
       "4  0.095646  0.173679  0.656747  ...     0.0       1.0      1.0      0.0   \n",
       "\n",
       "   g_two-or-more  g_some-other  g_asian  g_native-am  \\\n",
       "0            0.0           0.0      0.0          0.0   \n",
       "1            0.0           0.0      0.0          0.0   \n",
       "2            1.0           0.0      0.0          0.0   \n",
       "3            1.0           0.0      0.0          0.0   \n",
       "4            0.0           0.0      0.0          0.0   \n",
       "\n",
       "                              active_labels  \\\n",
       "0    [4.759823890644501, 4.118582563175968]   \n",
       "1    [5.825500197307057, 4.996523637512929]   \n",
       "2  [3.8400350629697524, 3.7982976221734908]   \n",
       "3   [4.678205010240008, 4.3372413917480195]   \n",
       "4    [5.367336856748316, 4.095341741671556]   \n",
       "\n",
       "                                   bin_masked_labels  \n",
       "0  [4.759823890644501, 0.0, 4.118582563175968, 0....  \n",
       "1  [0.0, 5.825500197307057, 4.996523637512929, 0....  \n",
       "2  [0.0, 3.8400350629697524, 0.0, 0.0, 3.79829762...  \n",
       "3  [4.678205010240008, 0.0, 0.0, 0.0, 4.337241391...  \n",
       "4  [0.0, 5.367336856748316, 4.095341741671556, 0....  \n",
       "\n",
       "[5 rows x 30 columns]"
      ]
     },
     "execution_count": 15,
     "metadata": {},
     "output_type": "execute_result"
    }
   ],
   "source": [
    "df.drop(y_all, axis=1).head()"
   ]
  },
  {
   "cell_type": "code",
   "execution_count": null,
   "metadata": {},
   "outputs": [],
   "source": [
    "# tranining on data for only each group\n",
    "from sklearn.model_selection import train_test_split\n",
    "random_seed = 21\n",
    "X_train, X_test, y_train, y_test = train_test_split(df.drop(y_all, axis = 1), \n",
    "                                                    df['y_max_active'], test_size = 0.2,\n",
    "                                                    shuffle=True, random_state= random_seed)\n",
    "\n",
    "models_lr_dict = {}\n",
    "group_sizes = {}\n",
    "\n",
    "for g in filter_group:\n",
    "    indices = (X_train[g] == 1)\n",
    "    model_lr = LinearRegression()\n",
    "    model_lr.fit(X_train[indices][filter_feature], y_train[indices])\n",
    "    key = g\n",
    "    group_sizes[key] = indices.sum() #sum of all the trues\n",
    "    models_lr_dict[key] = model_lr"
   ]
  },
  {
   "cell_type": "code",
   "execution_count": null,
   "metadata": {},
   "outputs": [
    {
     "name": "stdout",
     "output_type": "stream",
     "text": [
      " g_male, test group size 4005  r2 score for least squares is 0.9376\n",
      " g_female, test group size 3995  r2 score for least squares is 0.9358\n",
      " g_white, test group size 4839  r2 score for least squares is 0.8259\n",
      " g_black, test group size 990  r2 score for least squares is 0.8731\n",
      " g_two-or-more, test group size 809  r2 score for least squares is 0.9112\n",
      " g_some-other, test group size 677  r2 score for least squares is 0.8414\n",
      " g_asian, test group size 464  r2 score for least squares is 0.9573\n",
      " g_native-am, test group size 221  r2 score for least squares is 0.9330\n"
     ]
    }
   ],
   "source": [
    "for g in filter_group:\n",
    "    indices = (X_test[g] == 1)\n",
    "    key = g\n",
    "    r2_score_lr = models_lr_dict[key].score(X_test[indices][filter_feature], y_test[indices])\n",
    "    print(f\" {key}, test group size {group_sizes[key]}  r2 score for least squares is {r2_score_lr:.4f}\")"
   ]
  },
  {
   "cell_type": "code",
   "execution_count": null,
   "metadata": {},
   "outputs": [],
   "source": [
    "def cross_test_models(model_dict: dict):\n",
    "    '''\n",
    "        model_dict: maps keys to linear model, these linear models are already trained and have weights\n",
    "        sex_cats: labels for the different sexes\n",
    "        race_cats: labels for the different races\n",
    "        This function computes the performance of one model on another models data\n",
    "\n",
    "        With an example, model_dict['SEX_1'] has the linear model trained only of those points which have SEX == 1\n",
    "        we will test its performance on all the other groups data.\n",
    "    '''\n",
    "    keys = list(model_dict.keys())\n",
    "    l = len(keys)\n",
    "    mat_2d = np.zeros((l, l))\n",
    "    for i in range(l):\n",
    "        model_i = model_dict[keys[i]]\n",
    "        for j in range(l):\n",
    "            key = keys[j]\n",
    "            indices_j = (X_test[key] == 1)\n",
    "            mat_2d[i, j] = model_i.score(X_test[indices_j][filter_feature], y_test[indices_j]) # how model i performs on test data meant for model j, R2 score\n",
    "    return mat_2d, keys"
   ]
  },
  {
   "cell_type": "code",
   "execution_count": null,
   "metadata": {},
   "outputs": [
    {
     "name": "stdout",
     "output_type": "stream",
     "text": [
      "[[0.93764369 0.46908747 0.69007012 0.78090981 0.72667434 0.79105751\n",
      "  0.64999045 0.55860224]\n",
      " [0.43047756 0.93582948 0.69876052 0.67638046 0.66633059 0.6419913\n",
      "  0.56410226 0.44000884]\n",
      " [0.79019657 0.82183156 0.82590626 0.8440052  0.76176469 0.83343603\n",
      "  0.63743126 0.55906589]\n",
      " [0.80292882 0.79651154 0.7992057  0.87312348 0.79272727 0.8148006\n",
      "  0.69386252 0.63052202]\n",
      " [0.69890588 0.70018897 0.64945988 0.6727517  0.91124999 0.70042918\n",
      "  0.84620972 0.72913135]\n",
      " [0.8216142  0.78469998 0.817942   0.85005805 0.76802024 0.84136963\n",
      "  0.63887577 0.58656444]\n",
      " [0.61813957 0.58668737 0.53261617 0.56882885 0.77279355 0.6076087\n",
      "  0.95725568 0.77550124]\n",
      " [0.528061   0.4866501  0.41378418 0.56346643 0.66567139 0.53086431\n",
      "  0.76895375 0.93301924]] ['g_male', 'g_female', 'g_white', 'g_black', 'g_two-or-more', 'g_some-other', 'g_asian', 'g_native-am']\n"
     ]
    }
   ],
   "source": [
    "import numpy as np\n",
    "crossmat, keys = cross_test_models(models_lr_dict)\n",
    "print(crossmat, keys)"
   ]
  },
  {
   "cell_type": "code",
   "execution_count": null,
   "metadata": {},
   "outputs": [
    {
     "data": {
      "text/plain": [
       "<Axes: >"
      ]
     },
     "execution_count": 20,
     "metadata": {},
     "output_type": "execute_result"
    },
    {
     "data": {
      "image/png": "[encoded data removed]",
      "text/plain": [
       "<Figure size 640x480 with 2 Axes>"
      ]
     },
     "metadata": {},
     "output_type": "display_data"
    }
   ],
   "source": [
    "import seaborn as sns # for data visualization\n",
    "sns.heatmap(crossmat, annot=True, xticklabels=keys, yticklabels=keys)"
   ]
  },
  {
   "cell_type": "markdown",
   "metadata": {},
   "source": [
    "# Online pipeline"
   ]
  },
  {
   "cell_type": "code",
   "execution_count": null,
   "metadata": {},
   "outputs": [],
   "source": [
    "from bilevel.OnlineLinearExpert import *\n",
    "from bilevel.build_all_models import *"
   ]
  },
  {
   "cell_type": "code",
   "execution_count": null,
   "metadata": {},
   "outputs": [],
   "source": [
    "# # reproducible seed for uniforms\n",
    "# params = {'samples': 10000, 'dim':20, \n",
    "#         'group_dict': {'SEX':['male', 'female'], 'RACE': ['white', 'black', 'two-or-more','some-other', 'asian', 'native-am']},\n",
    "#         'prob_dict': {'SEX': [0.5, 0.5], 'RACE': [0.61, 0.12, 0.1, 0.08, 0.06, 0.03]},\n",
    "#         'feat_lo': 0.0, 'feat_hi': 100.0, 'w_lo': 0.0, 'w_hi': 100.0, \n",
    "#         'label_noise_width':100, 'drop_sensitive':True\n",
    "#         }\n",
    "# syn_ob = SynthGenLinear(**params)\n",
    "# df = syn_ob.df"
   ]
  },
  {
   "cell_type": "code",
   "execution_count": null,
   "metadata": {},
   "outputs": [
    {
     "name": "stdout",
     "output_type": "stream",
     "text": [
      "Index(['x_0', 'x_1', 'x_2', 'x_3', 'x_4', 'x_5', 'x_6', 'x_7', 'x_8', 'x_9',\n",
      "       'x_10', 'x_11', 'x_12', 'x_13', 'x_14', 'x_15', 'x_16', 'x_17', 'x_18',\n",
      "       'x_19', 'g_male', 'g_female', 'g_white', 'g_black', 'g_two-or-more',\n",
      "       'g_some-other', 'g_asian', 'g_native-am', 'y_male', 'y_female',\n",
      "       'y_white', 'y_black', 'y_two-or-more', 'y_some-other', 'y_asian',\n",
      "       'y_native-am', 'active_labels', 'bin_masked_labels', 'y_min_active',\n",
      "       'y_max_active', 'y_mean_active'],\n",
      "      dtype='object')\n",
      "['x_0', 'x_1', 'x_2', 'x_3', 'x_4', 'x_5', 'x_6', 'x_7', 'x_8', 'x_9', 'x_10', 'x_11', 'x_12', 'x_13', 'x_14', 'x_15', 'x_16', 'x_17', 'x_18', 'x_19'] ['y_male', 'y_female', 'y_white', 'y_black', 'y_two-or-more', 'y_some-other', 'y_asian', 'y_native-am', 'y_min_active', 'y_max_active', 'y_mean_active'] ['g_male', 'g_female', 'g_white', 'g_black', 'g_two-or-more', 'g_some-other', 'g_asian', 'g_native-am']\n"
     ]
    }
   ],
   "source": [
    "print(df.columns)\n",
    "filter_feature = [col for col in df if col.startswith('x')]\n",
    "filter_label = [col for col in df if col.startswith('y')]\n",
    "filter_group = [col for col in df if col.startswith('g')]\n",
    "print(filter_feature, filter_label, filter_group)"
   ]
  },
  {
   "cell_type": "code",
   "execution_count": null,
   "metadata": {},
   "outputs": [],
   "source": [
    "df['y_min_active'] = df.apply(lambda x: np.min(x['active_labels']), axis=1)\n",
    "df['y_max_active'] = df.apply(lambda x: np.max(x['active_labels']), axis =1)\n",
    "df['y_mean_active'] = df.apply(lambda x: np.mean(x['active_labels']), axis =1)"
   ]
  },
  {
   "cell_type": "code",
   "execution_count": null,
   "metadata": {},
   "outputs": [
    {
     "data": {
      "text/plain": [
       "(array([5027., 4973., 6073., 1228., 1014.,  816.,  587.,  282.]),\n",
       " array([2., 2., 2., ..., 2., 2., 2.]))"
      ]
     },
     "execution_count": 25,
     "metadata": {},
     "output_type": "execute_result"
    }
   ],
   "source": [
    "np.sum(syn_ob.A_t, axis = 0), np.sum(syn_ob.A_t, axis=1)"
   ]
  },
  {
   "cell_type": "code",
   "execution_count": null,
   "metadata": {},
   "outputs": [],
   "source": [
    "# need to also minmax scale? so that all in 0-1\n",
    "from bilevel.utils import numeric_scaler\n",
    "X_dat = df[filter_feature]\n",
    "y_dat = df[['y_mean_active']]\n",
    "A_t = syn_ob.A_t\n",
    "\n",
    "X_dat = numeric_scaler(X_dat, X_dat.columns)\n",
    "y_dat = numeric_scaler(y_dat, y_dat.columns)\n",
    "y_dat = y_dat['y_mean_active']"
   ]
  },
  {
   "cell_type": "code",
   "execution_count": null,
   "metadata": {},
   "outputs": [
    {
     "data": {
      "text/plain": [
       "((10000, 20), (10000,), (10000, 8))"
      ]
     },
     "execution_count": 42,
     "metadata": {},
     "output_type": "execute_result"
    }
   ],
   "source": [
    "X_dat.shape, y_dat.shape, A_t.shape"
   ]
  },
  {
   "cell_type": "code",
   "execution_count": null,
   "metadata": {},
   "outputs": [],
   "source": [
    "dirname = './synthetic_res_models/baseline/'\n",
    "filename = 'leastsq_0-1uniform'"
   ]
  },
  {
   "cell_type": "code",
   "execution_count": null,
   "metadata": {},
   "outputs": [
    {
     "name": "stderr",
     "output_type": "stream",
     "text": [
      "100%|██████████| 10000/10000 [00:06<00:00, 1504.72it/s]\n"
     ]
    }
   ],
   "source": [
    "exp_ls = OnlineLinearExpert(X_dat, y_dat, l2_pen = 0.0)\n",
    "b_lsbase = build_baseline_alwayson(dirname, filename, A_t, exp_ls)"
   ]
  },
  {
   "cell_type": "code",
   "execution_count": null,
   "metadata": {},
   "outputs": [
    {
     "name": "stderr",
     "output_type": "stream",
     "text": [
      "100%|██████████| 10000/10000 [00:13<00:00, 721.58it/s]\n"
     ]
    }
   ],
   "source": [
    "dirname = './synthetic_res_models/Anh/'\n",
    "filename = 'leastsq_0-1uniform'\n",
    "experts_ls = [OnlineLinearExpert(X_dat, y_dat, l2_pen = 0.0) for _ in range(A_t.shape[1])]\n",
    "b_Anh = build_Anh(dirname, filename, A_t, experts_ls)"
   ]
  },
  {
   "cell_type": "code",
   "execution_count": null,
   "metadata": {},
   "outputs": [
    {
     "name": "stdout",
     "output_type": "stream",
     "text": [
      "Group 0, Baseline : 20.056295184566405,  Anh : 19.624689343178613\n",
      "Is Anh better True\n",
      "Group 1, Baseline : 19.98326887484785,  Anh : 18.896070999353483\n",
      "Is Anh better True\n",
      "Group 2, Baseline : 17.874064786736703,  Anh : 16.42003938799152\n",
      "Is Anh better True\n",
      "Group 3, Baseline : 4.240543359342536,  Anh : 4.279928920691513\n",
      "Is Anh better False\n",
      "Group 4, Baseline : 7.633542648433164,  Anh : 7.159354809488445\n",
      "Is Anh better True\n",
      "Group 5, Baseline : 2.469761230777945,  Anh : 2.745513034114098\n",
      "Is Anh better False\n",
      "Group 6, Baseline : 5.276173980498226,  Anh : 5.16505072717233\n",
      "Is Anh better True\n",
      "Group 7, Baseline : 2.5454780536257298,  Anh : 2.750873463074136\n",
      "Is Anh better False\n"
     ]
    }
   ],
   "source": [
    "for gnum in range(A_t.shape[1]):\n",
    "    baseline_cl = b_lsbase.expert.cumloss_groupwise[gnum][-1]\n",
    "    Anh_cl = b_Anh.Anh.cuml_loss_curve[gnum][-1]\n",
    "    print(f'''Group {gnum}, Baseline : {baseline_cl},  Anh : {Anh_cl}''')\n",
    "    print(f'''Is Anh better {Anh_cl <= baseline_cl}''')"
   ]
  }
 ],
 "metadata": {
  "kernelspec": {
   "display_name": "Python 3.11.4 ('local_multigroup')",
   "language": "python",
   "name": "python3"
  },
  "language_info": {
   "codemirror_mode": {
    "name": "ipython",
    "version": 3
   },
   "file_extension": ".py",
   "mimetype": "text/x-python",
   "name": "python",
   "nbconvert_exporter": "python",
   "pygments_lexer": "ipython3",
   "version": "3.11.4"
  },
  "orig_nbformat": 4,
  "vscode": {
   "interpreter": {
    "hash": "422a1ee675848ad7ee73ac736eae01a8698556098f797c947729d7d9d67832dc"
   }
  }
 },
 "nbformat": 4,
 "nbformat_minor": 2
}
