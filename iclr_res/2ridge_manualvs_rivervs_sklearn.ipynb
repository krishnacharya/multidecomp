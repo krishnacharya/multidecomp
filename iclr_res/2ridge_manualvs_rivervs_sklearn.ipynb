{
 "cells": [
  {
   "cell_type": "code",
   "execution_count": 1,
   "metadata": {},
   "outputs": [
    {
     "name": "stdout",
     "output_type": "stream",
     "text": [
      "/Users/krishna/Documents/Research/Simultaneous Classifier/folktables-experiments/multidecomp\n"
     ]
    }
   ],
   "source": [
    "import os\n",
    "os.chdir('..')\n",
    "!pwd\n",
    "import numpy as np\n",
    "import pandas as pd\n",
    "import matplotlib.pyplot as plt"
   ]
  },
  {
   "cell_type": "code",
   "execution_count": 2,
   "metadata": {},
   "outputs": [],
   "source": [
    "from bilevel.synth_datagen import SynthGenLinear\n",
    "from bilevel.utils import *\n",
    "from bilevel.OnlineLinearExpert import *\n",
    "from bilevel.build_all_models import *\n",
    "from bilevel.manual_inv_LinearExpert import Manual_inv_LinearExpert"
   ]
  },
  {
   "cell_type": "code",
   "execution_count": 3,
   "metadata": {},
   "outputs": [
    {
     "name": "stdout",
     "output_type": "stream",
     "text": [
      "(49531, 14)\n"
     ]
    },
    {
     "data": {
      "text/html": [
       "<div>\n",
       "<style scoped>\n",
       "    .dataframe tbody tr th:only-of-type {\n",
       "        vertical-align: middle;\n",
       "    }\n",
       "\n",
       "    .dataframe tbody tr th {\n",
       "        vertical-align: top;\n",
       "    }\n",
       "\n",
       "    .dataframe thead th {\n",
       "        text-align: right;\n",
       "    }\n",
       "</style>\n",
       "<table border=\"1\" class=\"dataframe\">\n",
       "  <thead>\n",
       "    <tr style=\"text-align: right;\">\n",
       "      <th></th>\n",
       "      <th>hours-per-week</th>\n",
       "      <th>age</th>\n",
       "      <th>capital-gain</th>\n",
       "      <th>capital-loss</th>\n",
       "      <th>education-num</th>\n",
       "      <th>income</th>\n",
       "      <th>workclass_?</th>\n",
       "      <th>workclass_Federal-gov</th>\n",
       "      <th>workclass_Local-gov</th>\n",
       "      <th>workclass_Never-worked</th>\n",
       "      <th>...</th>\n",
       "      <th>occupation_Sales</th>\n",
       "      <th>occupation_Tech-support</th>\n",
       "      <th>occupation_Transport-moving</th>\n",
       "      <th>race_Amer-Indian-Eskimo</th>\n",
       "      <th>race_Asian-Pac-Islander</th>\n",
       "      <th>race_Black</th>\n",
       "      <th>race_Other</th>\n",
       "      <th>race_White</th>\n",
       "      <th>sex_Female</th>\n",
       "      <th>sex_Male</th>\n",
       "    </tr>\n",
       "  </thead>\n",
       "  <tbody>\n",
       "    <tr>\n",
       "      <th>0</th>\n",
       "      <td>0.193878</td>\n",
       "      <td>0.315068</td>\n",
       "      <td>0.0</td>\n",
       "      <td>0.0</td>\n",
       "      <td>0.800000</td>\n",
       "      <td>0.490460</td>\n",
       "      <td>0.0</td>\n",
       "      <td>0.0</td>\n",
       "      <td>0.0</td>\n",
       "      <td>0.0</td>\n",
       "      <td>...</td>\n",
       "      <td>0.0</td>\n",
       "      <td>1.0</td>\n",
       "      <td>0.0</td>\n",
       "      <td>0.0</td>\n",
       "      <td>0.0</td>\n",
       "      <td>0.0</td>\n",
       "      <td>0.0</td>\n",
       "      <td>1.0</td>\n",
       "      <td>1.0</td>\n",
       "      <td>0.0</td>\n",
       "    </tr>\n",
       "    <tr>\n",
       "      <th>1</th>\n",
       "      <td>0.397959</td>\n",
       "      <td>0.054795</td>\n",
       "      <td>0.0</td>\n",
       "      <td>0.0</td>\n",
       "      <td>0.600000</td>\n",
       "      <td>0.114053</td>\n",
       "      <td>0.0</td>\n",
       "      <td>0.0</td>\n",
       "      <td>0.0</td>\n",
       "      <td>0.0</td>\n",
       "      <td>...</td>\n",
       "      <td>0.0</td>\n",
       "      <td>0.0</td>\n",
       "      <td>0.0</td>\n",
       "      <td>0.0</td>\n",
       "      <td>0.0</td>\n",
       "      <td>0.0</td>\n",
       "      <td>0.0</td>\n",
       "      <td>1.0</td>\n",
       "      <td>0.0</td>\n",
       "      <td>1.0</td>\n",
       "    </tr>\n",
       "    <tr>\n",
       "      <th>2</th>\n",
       "      <td>0.091837</td>\n",
       "      <td>0.000000</td>\n",
       "      <td>0.0</td>\n",
       "      <td>0.0</td>\n",
       "      <td>0.400000</td>\n",
       "      <td>0.024957</td>\n",
       "      <td>0.0</td>\n",
       "      <td>0.0</td>\n",
       "      <td>0.0</td>\n",
       "      <td>0.0</td>\n",
       "      <td>...</td>\n",
       "      <td>0.0</td>\n",
       "      <td>0.0</td>\n",
       "      <td>0.0</td>\n",
       "      <td>0.0</td>\n",
       "      <td>0.0</td>\n",
       "      <td>0.0</td>\n",
       "      <td>0.0</td>\n",
       "      <td>1.0</td>\n",
       "      <td>0.0</td>\n",
       "      <td>1.0</td>\n",
       "    </tr>\n",
       "    <tr>\n",
       "      <th>3</th>\n",
       "      <td>0.500000</td>\n",
       "      <td>0.465753</td>\n",
       "      <td>0.0</td>\n",
       "      <td>0.0</td>\n",
       "      <td>0.533333</td>\n",
       "      <td>0.389320</td>\n",
       "      <td>0.0</td>\n",
       "      <td>0.0</td>\n",
       "      <td>0.0</td>\n",
       "      <td>0.0</td>\n",
       "      <td>...</td>\n",
       "      <td>1.0</td>\n",
       "      <td>0.0</td>\n",
       "      <td>0.0</td>\n",
       "      <td>0.0</td>\n",
       "      <td>1.0</td>\n",
       "      <td>0.0</td>\n",
       "      <td>0.0</td>\n",
       "      <td>0.0</td>\n",
       "      <td>0.0</td>\n",
       "      <td>1.0</td>\n",
       "    </tr>\n",
       "    <tr>\n",
       "      <th>4</th>\n",
       "      <td>0.377551</td>\n",
       "      <td>0.150685</td>\n",
       "      <td>0.0</td>\n",
       "      <td>0.0</td>\n",
       "      <td>0.800000</td>\n",
       "      <td>0.413376</td>\n",
       "      <td>0.0</td>\n",
       "      <td>0.0</td>\n",
       "      <td>0.0</td>\n",
       "      <td>0.0</td>\n",
       "      <td>...</td>\n",
       "      <td>0.0</td>\n",
       "      <td>0.0</td>\n",
       "      <td>0.0</td>\n",
       "      <td>0.0</td>\n",
       "      <td>0.0</td>\n",
       "      <td>0.0</td>\n",
       "      <td>0.0</td>\n",
       "      <td>1.0</td>\n",
       "      <td>0.0</td>\n",
       "      <td>1.0</td>\n",
       "    </tr>\n",
       "  </tbody>\n",
       "</table>\n",
       "<p>5 rows × 92 columns</p>\n",
       "</div>"
      ],
      "text/plain": [
       "   hours-per-week       age  capital-gain  capital-loss  education-num  \\\n",
       "0        0.193878  0.315068           0.0           0.0       0.800000   \n",
       "1        0.397959  0.054795           0.0           0.0       0.600000   \n",
       "2        0.091837  0.000000           0.0           0.0       0.400000   \n",
       "3        0.500000  0.465753           0.0           0.0       0.533333   \n",
       "4        0.377551  0.150685           0.0           0.0       0.800000   \n",
       "\n",
       "     income  workclass_?  workclass_Federal-gov  workclass_Local-gov  \\\n",
       "0  0.490460          0.0                    0.0                  0.0   \n",
       "1  0.114053          0.0                    0.0                  0.0   \n",
       "2  0.024957          0.0                    0.0                  0.0   \n",
       "3  0.389320          0.0                    0.0                  0.0   \n",
       "4  0.413376          0.0                    0.0                  0.0   \n",
       "\n",
       "   workclass_Never-worked  ...  occupation_Sales  occupation_Tech-support  \\\n",
       "0                     0.0  ...               0.0                      1.0   \n",
       "1                     0.0  ...               0.0                      0.0   \n",
       "2                     0.0  ...               0.0                      0.0   \n",
       "3                     0.0  ...               1.0                      0.0   \n",
       "4                     0.0  ...               0.0                      0.0   \n",
       "\n",
       "   occupation_Transport-moving  race_Amer-Indian-Eskimo  \\\n",
       "0                          0.0                      0.0   \n",
       "1                          0.0                      0.0   \n",
       "2                          0.0                      0.0   \n",
       "3                          0.0                      0.0   \n",
       "4                          0.0                      0.0   \n",
       "\n",
       "   race_Asian-Pac-Islander  race_Black  race_Other  race_White  sex_Female  \\\n",
       "0                      0.0         0.0         0.0         1.0         1.0   \n",
       "1                      0.0         0.0         0.0         1.0         0.0   \n",
       "2                      0.0         0.0         0.0         1.0         0.0   \n",
       "3                      1.0         0.0         0.0         0.0         0.0   \n",
       "4                      0.0         0.0         0.0         1.0         0.0   \n",
       "\n",
       "   sex_Male  \n",
       "0       0.0  \n",
       "1       1.0  \n",
       "2       1.0  \n",
       "3       1.0  \n",
       "4       1.0  \n",
       "\n",
       "[5 rows x 92 columns]"
      ]
     },
     "execution_count": 3,
     "metadata": {},
     "output_type": "execute_result"
    }
   ],
   "source": [
    "df_adult = pd.read_csv('./data_small/adult_reconstruction.csv')\n",
    "print(df_adult.shape)\n",
    "\n",
    "numeric_all = ['hours-per-week', 'age', 'capital-gain', 'capital-loss', 'education-num', 'income']\n",
    "cat_feat =  ['workclass', 'marital-status', 'relationship', 'native-country', 'occupation', 'race', 'sex']\n",
    "\n",
    "df_adult.drop(['education'], axis = 1, inplace=True)\n",
    "df_adult_mm = numeric_scaler(df_adult, numeric_all)\n",
    "df_adult_mm_oh = one_hot(df_adult_mm, cat_feat)\n",
    "df_adult_mm_oh.drop(cat_feat, axis = 1, inplace=True) # drop the categorics that were used to one hot encode\n",
    "df_adult_mm_oh = df_adult_mm_oh * 1.0 # make bool true, false into 1.0, 0.0\n",
    "df_adult_mm_oh.head()"
   ]
  },
  {
   "cell_type": "code",
   "execution_count": 4,
   "metadata": {},
   "outputs": [
    {
     "name": "stdout",
     "output_type": "stream",
     "text": [
      "(49531, 91) (49531,)\n"
     ]
    }
   ],
   "source": [
    "# [col for col in df_adult_mm_oh.columns if '_' not in col]\n",
    "X_dat = df_adult_mm_oh.drop('income', axis=1)\n",
    "y_dat = df_adult_mm_oh['income']\n",
    "print(X_dat.shape, y_dat.shape)"
   ]
  },
  {
   "cell_type": "markdown",
   "metadata": {},
   "source": [
    "## Online ridge by river has some issues, \n",
    "- the online least squares (river) still performs as well as batch LS(sklearn), \n",
    "- but online ridge (river) is far from batch ridge (sklearn)"
   ]
  },
  {
   "cell_type": "code",
   "execution_count": 33,
   "metadata": {},
   "outputs": [
    {
     "data": {
      "text/plain": [
       "(0.5803383358929834, 0.5801006608203434)"
      ]
     },
     "execution_count": 33,
     "metadata": {},
     "output_type": "execute_result"
    }
   ],
   "source": [
    "# training the batch models\n",
    "from sklearn.linear_model import Ridge, LinearRegression\n",
    "\n",
    "ridge_sklearn = Ridge()\n",
    "ridge_sklearn.fit(X_dat, y_dat)\n",
    "\n",
    "ls_sklearn = LinearRegression()\n",
    "ls_sklearn.fit(X_dat, y_dat)\n",
    "\n",
    "ridge_sklearn.score(X_dat, y_dat), ls_sklearn.score(X_dat,y_dat)  # batch sklearn"
   ]
  },
  {
   "cell_type": "code",
   "execution_count": 6,
   "metadata": {},
   "outputs": [],
   "source": [
    "# training online models\n",
    "ridge_river = OnlineLinearExpert(X_dat, y_dat, l2_pen=1.0)\n",
    "T = y_dat.shape[0]\n",
    "for t in tqdm(range(T)):\n",
    "    ridge_river.get_ypred_t(t)\n",
    "    ridge_river.update_t(t)\n",
    "\n",
    "ls_river = OnlineLinearExpert(X_dat, y_dat, l2_pen=0.0)\n",
    "T = y_dat.shape[0]\n",
    "for t in tqdm(range(T)):\n",
    "    ls_river.get_ypred_t(t)\n",
    "    ls_river.update_t(t)"
   ]
  },
  {
   "cell_type": "code",
   "execution_count": 44,
   "metadata": {},
   "outputs": [
    {
     "data": {
      "text/plain": [
       "(0.29933857268425745, 0.3500720521473637, 0.5803383358929834)"
      ]
     },
     "execution_count": 44,
     "metadata": {},
     "output_type": "execute_result"
    }
   ],
   "source": [
    "# comparing ridge results\n",
    "from sklearn.metrics import r2_score\n",
    "\n",
    "river_ridge_pred = ridge_river.model.predict_many(X_dat)\n",
    "sklearn_ridge_pred = ridge_sklearn.predict(X_dat)\n",
    "\n",
    "r2_score(y_dat, river_ridge_pred), r2_score(y_dat, ridge_river.y_predarr) ,r2_score(y_dat, sklearn_ridge_pred)  # the middle one is truly online\n"
   ]
  },
  {
   "cell_type": "code",
   "execution_count": 45,
   "metadata": {},
   "outputs": [
    {
     "data": {
      "text/plain": [
       "(0.5504581311141392, 0.5699849857449037, 0.5801006608203434)"
      ]
     },
     "execution_count": 45,
     "metadata": {},
     "output_type": "execute_result"
    }
   ],
   "source": [
    "# comparing ls results\n",
    "river_ls_pred = ls_river.model.predict_many(X_dat)\n",
    "sklearn_ls_pred = ls_sklearn.predict(X_dat)\n",
    "r2_score(y_dat, river_ls_pred), r2_score(y_dat, ls_river.y_predarr), r2_score(y_dat, sklearn_ls_pred)  # the middle one is truly online, has clipped y's see the code"
   ]
  },
  {
   "cell_type": "markdown",
   "metadata": {},
   "source": [
    "### Testing SGD Least squares regressor"
   ]
  },
  {
   "cell_type": "code",
   "execution_count": 5,
   "metadata": {},
   "outputs": [
    {
     "data": {
      "text/plain": [
       "(array([0.04304694]), array([0.04304694]))"
      ]
     },
     "execution_count": 5,
     "metadata": {},
     "output_type": "execute_result"
    }
   ],
   "source": [
    "from sklearn.linear_model import SGDRegressor\n",
    "mod_pac = SGDRegressor()\n",
    "X_dat_np = X_dat.to_numpy()\n",
    "y_dat_np = y_dat.to_numpy()\n",
    "mod_pac.partial_fit([X_dat_np[0]], [y_dat_np[0]])\n",
    "mod_pac.predict([X_dat_np[0]]), mod_pac.predict(X_dat_np[:1])\n"
   ]
  },
  {
   "cell_type": "code",
   "execution_count": 95,
   "metadata": {},
   "outputs": [
    {
     "name": "stderr",
     "output_type": "stream",
     "text": [
      "100%|██████████| 49531/49531 [00:24<00:00, 2039.42it/s]\n"
     ]
    }
   ],
   "source": [
    "from sklearn.linear_model import SGDRegressor\n",
    "\n",
    "mod_pac = SGDRegressor(warm_start = True, alpha = 0.01)\n",
    "X_dat_np = X_dat.to_numpy()\n",
    "y_dat_np = y_dat.to_numpy()\n",
    "y_pred_sgd_ls = []\n",
    "mod_pac.partial_fit([X_dat_np[0]], [y_dat_np[0]]) # just to start the init\n",
    "\n",
    "for t in tqdm(range(len(y_dat_np))):\n",
    "    # This is where we learn on a single datapoint\n",
    "    y_pred_sgd_ls.append(np.clip(mod_pac.predict([X_dat_np[t]]), 0.0, 1.0))\n",
    "    mod_pac.partial_fit([X_dat_np[t]], [y_dat_np[t]])\n",
    "    "
   ]
  },
  {
   "cell_type": "code",
   "execution_count": 96,
   "metadata": {},
   "outputs": [
    {
     "data": {
      "text/plain": [
       "0.5251944090162931"
      ]
     },
     "execution_count": 96,
     "metadata": {},
     "output_type": "execute_result"
    }
   ],
   "source": [
    "r2_score(y_dat, y_pred_sgd_ls)"
   ]
  },
  {
   "cell_type": "code",
   "execution_count": 97,
   "metadata": {},
   "outputs": [
    {
     "data": {
      "text/plain": [
       "0.4259548692713897"
      ]
     },
     "execution_count": 97,
     "metadata": {},
     "output_type": "execute_result"
    }
   ],
   "source": [
    "np.linalg.norm(mod_pac.coef_)"
   ]
  },
  {
   "cell_type": "code",
   "execution_count": 77,
   "metadata": {},
   "outputs": [
    {
     "data": {
      "text/plain": [
       "0.2794660700249235"
      ]
     },
     "execution_count": 77,
     "metadata": {},
     "output_type": "execute_result"
    }
   ],
   "source": [
    "r2_score(y_dat, y_pred_sgd_ls) # using alpha = 1.0, is bad"
   ]
  },
  {
   "cell_type": "code",
   "execution_count": 98,
   "metadata": {},
   "outputs": [
    {
     "name": "stderr",
     "output_type": "stream",
     "text": [
      "100%|██████████| 49531/49531 [33:03<00:00, 24.97it/s]  \n"
     ]
    }
   ],
   "source": [
    "from sklearn.linear_model import Ridge\n",
    "\n",
    "bo_ridge = Ridge() # batch version used online, l2 penalty = 1.0\n",
    "X_dat_np = X_dat.to_numpy()\n",
    "y_dat_np = y_dat.to_numpy()\n",
    "y_pred_bo_ridge = []\n",
    "\n",
    "bo_ridge.fit([X_dat_np[0]], [y_dat_np[0]]) # just to start the init\n",
    "\n",
    "for t in tqdm(range(len(y_dat_np))):\n",
    "    y_pred_bo_ridge.append(np.clip(bo_ridge.predict([X_dat_np[t]]), 0.0, 1.0))\n",
    "    bo_ridge.fit(X_dat_np[:t+1], y_dat_np[:t+1]) "
   ]
  },
  {
   "cell_type": "code",
   "execution_count": 100,
   "metadata": {},
   "outputs": [
    {
     "data": {
      "text/plain": [
       "0.5842470180396927"
      ]
     },
     "execution_count": 100,
     "metadata": {},
     "output_type": "execute_result"
    }
   ],
   "source": [
    "r2_score(y_dat, y_pred_bo_ridge)"
   ]
  },
  {
   "cell_type": "code",
   "execution_count": 105,
   "metadata": {},
   "outputs": [
    {
     "data": {
      "text/plain": [
       "(91,)"
      ]
     },
     "execution_count": 105,
     "metadata": {},
     "output_type": "execute_result"
    }
   ],
   "source": [
    "X_dat_np[0].shape"
   ]
  },
  {
   "cell_type": "code",
   "execution_count": 119,
   "metadata": {},
   "outputs": [
    {
     "data": {
      "text/plain": [
       "(91,)"
      ]
     },
     "execution_count": 119,
     "metadata": {},
     "output_type": "execute_result"
    }
   ],
   "source": [
    "(np.identity(91) @ X_dat_np[0]).shape"
   ]
  },
  {
   "cell_type": "code",
   "execution_count": 118,
   "metadata": {},
   "outputs": [
    {
     "data": {
      "text/plain": [
       "0.508946044171093"
      ]
     },
     "execution_count": 118,
     "metadata": {},
     "output_type": "execute_result"
    }
   ],
   "source": [
    "np.dot(X_dat_np[0][:2], [1,1])"
   ]
  },
  {
   "cell_type": "code",
   "execution_count": 112,
   "metadata": {},
   "outputs": [
    {
     "data": {
      "text/plain": [
       "0.49045969647218995"
      ]
     },
     "execution_count": 112,
     "metadata": {},
     "output_type": "execute_result"
    }
   ],
   "source": [
    "y_dat_np[0]"
   ]
  },
  {
   "cell_type": "code",
   "execution_count": 115,
   "metadata": {},
   "outputs": [
    {
     "data": {
      "text/plain": [
       "(91, 1)"
      ]
     },
     "execution_count": 115,
     "metadata": {},
     "output_type": "execute_result"
    }
   ],
   "source": [
    "X_dat_np[0].reshape(-1,1).shape"
   ]
  },
  {
   "cell_type": "code",
   "execution_count": 6,
   "metadata": {},
   "outputs": [],
   "source": [
    "manual_ridge = Manual_inv_LinearExpert(X_dat_np, y_dat_np, l2_pen = 1.0)"
   ]
  },
  {
   "cell_type": "code",
   "execution_count": 7,
   "metadata": {},
   "outputs": [
    {
     "name": "stderr",
     "output_type": "stream",
     "text": [
      "100%|██████████| 49531/49531 [00:20<00:00, 2393.71it/s]\n"
     ]
    }
   ],
   "source": [
    "T = X_dat_np.shape[0]\n",
    "for t in tqdm(range(T)):\n",
    "    manual_ridge.get_ypred_t(t)\n",
    "    manual_ridge.update_t(t)"
   ]
  },
  {
   "cell_type": "code",
   "execution_count": 9,
   "metadata": {},
   "outputs": [
    {
     "data": {
      "text/plain": [
       "0.5842159967472835"
      ]
     },
     "execution_count": 9,
     "metadata": {},
     "output_type": "execute_result"
    }
   ],
   "source": [
    "from sklearn.metrics import r2_score\n",
    "r2_score(y_dat_np, manual_ridge.y_predarr)"
   ]
  },
  {
   "cell_type": "code",
   "execution_count": null,
   "metadata": {},
   "outputs": [],
   "source": []
  }
 ],
 "metadata": {
  "kernelspec": {
   "display_name": "Python 3.11.4 ('local_multigroup')",
   "language": "python",
   "name": "python3"
  },
  "language_info": {
   "codemirror_mode": {
    "name": "ipython",
    "version": 3
   },
   "file_extension": ".py",
   "mimetype": "text/x-python",
   "name": "python",
   "nbconvert_exporter": "python",
   "pygments_lexer": "ipython3",
   "version": "3.11.4"
  },
  "orig_nbformat": 4,
  "vscode": {
   "interpreter": {
    "hash": "422a1ee675848ad7ee73ac736eae01a8698556098f797c947729d7d9d67832dc"
   }
  }
 },
 "nbformat": 4,
 "nbformat_minor": 2
}
